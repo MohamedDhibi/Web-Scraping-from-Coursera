{
 "cells": [
  {
   "cell_type": "code",
   "execution_count": 1,
   "id": "876fbe3d",
   "metadata": {},
   "outputs": [],
   "source": [
    "from tqdm import tqdm\n",
    "import time\n",
    "import warnings\n",
    "warnings.filterwarnings(\"ignore\")\n",
    "import sys\n",
    "import re\n",
    "import pandas as pd\n",
    "import requests\n",
    "from bs4 import BeautifulSoup"
   ]
  },
  {
   "cell_type": "code",
   "execution_count": 2,
   "id": "90161659",
   "metadata": {},
   "outputs": [],
   "source": [
    "# List of column names\n",
    "column_names = ['metric(s)', 'URL', 'Title','Trainer','rate','evaluation nbr','level','duration','aquired competences']\n",
    "\n",
    "# Create an empty DataFrame with column names\n",
    "Main = pd.DataFrame(columns=column_names)"
   ]
  },
  {
   "cell_type": "code",
   "execution_count": 3,
   "id": "f138a76d",
   "metadata": {},
   "outputs": [],
   "source": [
    "skills_list = [\"Leadership\", \"Creativity\", \"Teamwork\", \"Communication\", \"Trust\", \"Respect\", \"Performance\"]"
   ]
  },
  {
   "cell_type": "code",
   "execution_count": 4,
   "id": "fc43a384",
   "metadata": {},
   "outputs": [],
   "source": [
    "import itertools\n",
    "# Generate combinations of couples for each skill\n",
    "skill_combinations = []\n",
    "for i in range(len(skills_list)):\n",
    "    for j in range(i+1, len(skills_list)):\n",
    "        skill_combinations.append(f\"{skills_list[i]}+{skills_list[j]}\")\n",
    "\n",
    "skills_list.extend(skill_combinations)"
   ]
  },
  {
   "cell_type": "code",
   "execution_count": 21,
   "id": "dc65a70b",
   "metadata": {},
   "outputs": [
    {
     "name": "stdout",
     "output_type": "stream",
     "text": [
      "Course Title:\n",
      "Be Aware: Understanding yourself and understanding how the voice works. \n",
      "Be Physical: the role of the body in speaking\n",
      "Be Connected: understanding your audience and how to connect  to them\n",
      "Be Impactful: Using emphasis for impact\n",
      "4.8 \n",
      "(37 ratings)\n"
     ]
    }
   ],
   "source": [
    "import requests\n",
    "from bs4 import BeautifulSoup\n",
    "\n",
    "# URL of the website to parse\n",
    "url = \"https://www.coursera.org/learn/finding-your-professional-voice\"\n",
    "\n",
    "# Send an HTTP GET request to the URL\n",
    "response = requests.get(url)\n",
    "\n",
    "# Check if the request was successful (status code 200)\n",
    "if response.status_code == 200:\n",
    "    # Parse the HTML content using BeautifulSoup\n",
    "    soup = BeautifulSoup(response.content, \"html.parser\")\n",
    "\n",
    "    # Find the course title if the element exists\n",
    "    listofcourses=soup.find_all(\"h3\",class_=\"cds-119 css-h1jogs cds-121\")\n",
    "    rates=soup.find_all(\"span\",class_=\"css-1tdi49m\")\n",
    "    evals=soup.find_all(\"span\",class_=\"cds-119 css-dmxkm1 cds-121\")\n",
    "    listofcourses=listofcourses[:-3]\n",
    "        # Print the course title\n",
    "    print(f\"Course Title:\")\n",
    "    for i in listofcourses:\n",
    "        print(i.get_text())\n",
    "    for k in rates:\n",
    "        print (k.get_text())\n",
    "    for j in evals:\n",
    "        print(j.get_text())\n",
    "else:\n",
    "    print(f\"Failed to fetch data. Status code: {response.status_code}\")\n"
   ]
  },
  {
   "cell_type": "code",
   "execution_count": null,
   "id": "507e2ecf",
   "metadata": {},
   "outputs": [],
   "source": []
  }
 ],
 "metadata": {
  "kernelspec": {
   "display_name": "Python 3 (ipykernel)",
   "language": "python",
   "name": "python3"
  },
  "language_info": {
   "codemirror_mode": {
    "name": "ipython",
    "version": 3
   },
   "file_extension": ".py",
   "mimetype": "text/x-python",
   "name": "python",
   "nbconvert_exporter": "python",
   "pygments_lexer": "ipython3",
   "version": "3.9.16"
  }
 },
 "nbformat": 4,
 "nbformat_minor": 5
}
