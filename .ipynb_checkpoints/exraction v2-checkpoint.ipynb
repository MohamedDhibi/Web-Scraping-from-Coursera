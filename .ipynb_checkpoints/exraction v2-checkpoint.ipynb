{
 "cells": [
  {
   "cell_type": "markdown",
   "id": "0ded7b80",
   "metadata": {},
   "source": [
    "# Importation"
   ]
  },
  {
   "cell_type": "code",
   "execution_count": 3,
   "id": "ba3d6abf",
   "metadata": {},
   "outputs": [],
   "source": [
    "from tqdm import tqdm\n",
    "import time\n",
    "import warnings\n",
    "warnings.filterwarnings(\"ignore\")\n",
    "import sys\n",
    "import re\n",
    "import pandas as pd\n",
    "import requests\n",
    "from bs4 import BeautifulSoup"
   ]
  },
  {
   "cell_type": "markdown",
   "id": "132ff0db",
   "metadata": {},
   "source": [
    "# Defining Dataframe"
   ]
  },
  {
   "cell_type": "code",
   "execution_count": 13,
   "id": "02d46c7c",
   "metadata": {},
   "outputs": [],
   "source": [
    "# List of column names\n",
    "column_names = ['metric(s)', 'URL', 'Title','Trainer','rate','evaluation nbr','level','duration','aquired competences']\n",
    "\n",
    "# Create an empty DataFrame with column names\n",
    "Main = pd.DataFrame(columns=column_names)"
   ]
  },
  {
   "cell_type": "code",
   "execution_count": 14,
   "id": "d5ed64c1",
   "metadata": {},
   "outputs": [],
   "source": [
    "skills_list = [\"Leadership\", \"Creativity\", \"Teamwork\", \"Communication\", \"Trust\", \"Respect\", \"Performance\"]"
   ]
  },
  {
   "cell_type": "code",
   "execution_count": 15,
   "id": "0b8a48d2",
   "metadata": {},
   "outputs": [],
   "source": [
    "import itertools\n",
    "# Generate combinations of couples for each skill\n",
    "skill_combinations = []\n",
    "for i in range(len(skills_list)):\n",
    "    for j in range(i+1, len(skills_list)):\n",
    "        skill_combinations.append(f\"{skills_list[i]}+{skills_list[j]}\")\n",
    "\n",
    "skills_list.extend(skill_combinations)"
   ]
  },
  {
   "cell_type": "code",
   "execution_count": 16,
   "id": "e2b08622",
   "metadata": {},
   "outputs": [
    {
     "data": {
      "text/plain": [
       "['Leadership',\n",
       " 'Creativity',\n",
       " 'Teamwork',\n",
       " 'Communication',\n",
       " 'Trust',\n",
       " 'Respect',\n",
       " 'Performance',\n",
       " 'Leadership+Creativity',\n",
       " 'Leadership+Teamwork',\n",
       " 'Leadership+Communication',\n",
       " 'Leadership+Trust',\n",
       " 'Leadership+Respect',\n",
       " 'Leadership+Performance',\n",
       " 'Creativity+Teamwork',\n",
       " 'Creativity+Communication',\n",
       " 'Creativity+Trust',\n",
       " 'Creativity+Respect',\n",
       " 'Creativity+Performance',\n",
       " 'Teamwork+Communication',\n",
       " 'Teamwork+Trust',\n",
       " 'Teamwork+Respect',\n",
       " 'Teamwork+Performance',\n",
       " 'Communication+Trust',\n",
       " 'Communication+Respect',\n",
       " 'Communication+Performance',\n",
       " 'Trust+Respect',\n",
       " 'Trust+Performance',\n",
       " 'Respect+Performance']"
      ]
     },
     "execution_count": 16,
     "metadata": {},
     "output_type": "execute_result"
    }
   ],
   "source": [
    "skills_list"
   ]
  },
  {
   "cell_type": "markdown",
   "id": "a6025837",
   "metadata": {},
   "source": [
    "# "
   ]
  },
  {
   "cell_type": "markdown",
   "id": "383ea209",
   "metadata": {},
   "source": [
    "# "
   ]
  },
  {
   "cell_type": "markdown",
   "id": "d278a0a3",
   "metadata": {},
   "source": [
    "# Coursera:"
   ]
  },
  {
   "cell_type": "markdown",
   "id": "34711a3f",
   "metadata": {},
   "source": [
    "# "
   ]
  },
  {
   "cell_type": "code",
   "execution_count": 31,
   "id": "91ef984e",
   "metadata": {
    "scrolled": true
   },
   "outputs": [
    {
     "name": "stderr",
     "output_type": "stream",
     "text": [
      "\r",
      "  0%|                                                                                           | 0/28 [00:00<?, ?it/s]"
     ]
    },
    {
     "name": "stdout",
     "output_type": "stream",
     "text": [
      "_________________Leadership_____________\n"
     ]
    },
    {
     "name": "stderr",
     "output_type": "stream",
     "text": [
      "\r",
      "  4%|██▉                                                                                | 1/28 [00:13<06:04, 13.50s/it]"
     ]
    },
    {
     "name": "stdout",
     "output_type": "stream",
     "text": [
      "_________________Creativity_____________\n"
     ]
    },
    {
     "name": "stderr",
     "output_type": "stream",
     "text": [
      "\r",
      "  7%|█████▉                                                                             | 2/28 [00:26<05:44, 13.27s/it]"
     ]
    },
    {
     "name": "stdout",
     "output_type": "stream",
     "text": [
      "_________________Teamwork_____________\n"
     ]
    },
    {
     "name": "stderr",
     "output_type": "stream",
     "text": [
      "\r",
      " 11%|████████▉                                                                          | 3/28 [00:40<05:34, 13.37s/it]"
     ]
    },
    {
     "name": "stdout",
     "output_type": "stream",
     "text": [
      "_________________Communication_____________\n"
     ]
    },
    {
     "name": "stderr",
     "output_type": "stream",
     "text": [
      "\r",
      " 14%|███████████▊                                                                       | 4/28 [00:58<06:04, 15.17s/it]"
     ]
    },
    {
     "name": "stdout",
     "output_type": "stream",
     "text": [
      "_________________Trust_____________\n"
     ]
    },
    {
     "name": "stderr",
     "output_type": "stream",
     "text": [
      "\r",
      " 18%|██████████████▊                                                                    | 5/28 [01:14<06:00, 15.65s/it]"
     ]
    },
    {
     "name": "stdout",
     "output_type": "stream",
     "text": [
      "_________________Respect_____________\n"
     ]
    },
    {
     "name": "stderr",
     "output_type": "stream",
     "text": [
      "\r",
      " 21%|█████████████████▊                                                                 | 6/28 [01:26<05:17, 14.41s/it]"
     ]
    },
    {
     "name": "stdout",
     "output_type": "stream",
     "text": [
      "_________________Performance_____________\n"
     ]
    },
    {
     "name": "stderr",
     "output_type": "stream",
     "text": [
      "\r",
      " 25%|████████████████████▊                                                              | 7/28 [01:39<04:54, 14.05s/it]"
     ]
    },
    {
     "name": "stdout",
     "output_type": "stream",
     "text": [
      "_________________Leadership+Creativity_____________\n"
     ]
    },
    {
     "name": "stderr",
     "output_type": "stream",
     "text": [
      "\r",
      " 29%|███████████████████████▋                                                           | 8/28 [01:51<04:25, 13.27s/it]"
     ]
    },
    {
     "name": "stdout",
     "output_type": "stream",
     "text": [
      "_________________Leadership+Teamwork_____________\n"
     ]
    },
    {
     "name": "stderr",
     "output_type": "stream",
     "text": [
      "\r",
      " 32%|██████████████████████████▋                                                        | 9/28 [02:02<03:58, 12.57s/it]"
     ]
    },
    {
     "name": "stdout",
     "output_type": "stream",
     "text": [
      "_________________Leadership+Communication_____________\n"
     ]
    },
    {
     "name": "stderr",
     "output_type": "stream",
     "text": [
      "\r",
      " 36%|█████████████████████████████▎                                                    | 10/28 [02:14<03:42, 12.39s/it]"
     ]
    },
    {
     "name": "stdout",
     "output_type": "stream",
     "text": [
      "_________________Leadership+Trust_____________\n"
     ]
    },
    {
     "name": "stderr",
     "output_type": "stream",
     "text": [
      "\r",
      " 39%|████████████████████████████████▏                                                 | 11/28 [02:26<03:30, 12.38s/it]"
     ]
    },
    {
     "name": "stdout",
     "output_type": "stream",
     "text": [
      "_________________Leadership+Respect_____________\n"
     ]
    },
    {
     "name": "stderr",
     "output_type": "stream",
     "text": [
      "\r",
      " 43%|███████████████████████████████████▏                                              | 12/28 [02:38<03:12, 12.03s/it]"
     ]
    },
    {
     "name": "stdout",
     "output_type": "stream",
     "text": [
      "_________________Leadership+Performance_____________\n"
     ]
    },
    {
     "name": "stderr",
     "output_type": "stream",
     "text": [
      "\r",
      " 46%|██████████████████████████████████████                                            | 13/28 [02:52<03:13, 12.89s/it]"
     ]
    },
    {
     "name": "stdout",
     "output_type": "stream",
     "text": [
      "_________________Creativity+Teamwork_____________\n"
     ]
    },
    {
     "name": "stderr",
     "output_type": "stream",
     "text": [
      "\r",
      " 50%|█████████████████████████████████████████                                         | 14/28 [03:03<02:50, 12.15s/it]"
     ]
    },
    {
     "name": "stdout",
     "output_type": "stream",
     "text": [
      "_________________Creativity+Communication_____________\n"
     ]
    },
    {
     "name": "stderr",
     "output_type": "stream",
     "text": [
      "\r",
      " 54%|███████████████████████████████████████████▉                                      | 15/28 [03:15<02:36, 12.05s/it]"
     ]
    },
    {
     "name": "stdout",
     "output_type": "stream",
     "text": [
      "_________________Creativity+Trust_____________\n"
     ]
    },
    {
     "name": "stderr",
     "output_type": "stream",
     "text": [
      "\r",
      " 57%|██████████████████████████████████████████████▊                                   | 16/28 [03:25<02:19, 11.64s/it]"
     ]
    },
    {
     "name": "stdout",
     "output_type": "stream",
     "text": [
      "_________________Creativity+Respect_____________\n"
     ]
    },
    {
     "name": "stderr",
     "output_type": "stream",
     "text": [
      "\r",
      " 61%|█████████████████████████████████████████████████▊                                | 17/28 [03:35<02:02, 11.16s/it]"
     ]
    },
    {
     "name": "stdout",
     "output_type": "stream",
     "text": [
      "_________________Creativity+Performance_____________\n"
     ]
    },
    {
     "name": "stderr",
     "output_type": "stream",
     "text": [
      "\r",
      " 64%|████████████████████████████████████████████████████▋                             | 18/28 [03:48<01:55, 11.55s/it]"
     ]
    },
    {
     "name": "stdout",
     "output_type": "stream",
     "text": [
      "_________________Teamwork+Communication_____________\n"
     ]
    },
    {
     "name": "stderr",
     "output_type": "stream",
     "text": [
      "\r",
      " 68%|███████████████████████████████████████████████████████▋                          | 19/28 [04:00<01:46, 11.84s/it]"
     ]
    },
    {
     "name": "stdout",
     "output_type": "stream",
     "text": [
      "_________________Teamwork+Trust_____________\n"
     ]
    },
    {
     "name": "stderr",
     "output_type": "stream",
     "text": [
      "\r",
      " 71%|██████████████████████████████████████████████████████████▌                       | 20/28 [04:11<01:30, 11.37s/it]"
     ]
    },
    {
     "name": "stdout",
     "output_type": "stream",
     "text": [
      "_________________Teamwork+Respect_____________\n"
     ]
    },
    {
     "name": "stderr",
     "output_type": "stream",
     "text": [
      "\r",
      " 75%|█████████████████████████████████████████████████████████████▌                    | 21/28 [04:25<01:26, 12.33s/it]"
     ]
    },
    {
     "name": "stdout",
     "output_type": "stream",
     "text": [
      "_________________Teamwork+Performance_____________\n"
     ]
    },
    {
     "name": "stderr",
     "output_type": "stream",
     "text": [
      "\r",
      " 79%|████████████████████████████████████████████████████████████████▍                 | 22/28 [04:36<01:10, 11.83s/it]"
     ]
    },
    {
     "name": "stdout",
     "output_type": "stream",
     "text": [
      "_________________Communication+Trust_____________\n"
     ]
    },
    {
     "name": "stderr",
     "output_type": "stream",
     "text": [
      "\r",
      " 82%|███████████████████████████████████████████████████████████████████▎              | 23/28 [04:48<00:59, 11.97s/it]"
     ]
    },
    {
     "name": "stdout",
     "output_type": "stream",
     "text": [
      "_________________Communication+Respect_____________\n"
     ]
    },
    {
     "name": "stderr",
     "output_type": "stream",
     "text": [
      "\r",
      " 86%|██████████████████████████████████████████████████████████████████████▎           | 24/28 [04:59<00:46, 11.71s/it]"
     ]
    },
    {
     "name": "stdout",
     "output_type": "stream",
     "text": [
      "_________________Communication+Performance_____________\n"
     ]
    },
    {
     "name": "stderr",
     "output_type": "stream",
     "text": [
      "\r",
      " 89%|█████████████████████████████████████████████████████████████████████████▏        | 25/28 [05:12<00:36, 12.05s/it]"
     ]
    },
    {
     "name": "stdout",
     "output_type": "stream",
     "text": [
      "_________________Trust+Respect_____________\n"
     ]
    },
    {
     "name": "stderr",
     "output_type": "stream",
     "text": [
      "\r",
      " 93%|████████████████████████████████████████████████████████████████████████████▏     | 26/28 [05:23<00:23, 11.57s/it]"
     ]
    },
    {
     "name": "stdout",
     "output_type": "stream",
     "text": [
      "_________________Trust+Performance_____________\n"
     ]
    },
    {
     "name": "stderr",
     "output_type": "stream",
     "text": [
      "\r",
      " 96%|███████████████████████████████████████████████████████████████████████████████   | 27/28 [05:32<00:10, 10.87s/it]"
     ]
    },
    {
     "name": "stdout",
     "output_type": "stream",
     "text": [
      "_________________Respect+Performance_____________\n"
     ]
    },
    {
     "name": "stderr",
     "output_type": "stream",
     "text": [
      "100%|██████████████████████████████████████████████████████████████████████████████████| 28/28 [05:40<00:00, 12.18s/it]\n",
      "  0%|                                                                                           | 0/28 [00:00<?, ?it/s]"
     ]
    },
    {
     "name": "stdout",
     "output_type": "stream",
     "text": [
      "_________________Leadership_____________\n"
     ]
    },
    {
     "name": "stderr",
     "output_type": "stream",
     "text": [
      "\r",
      "  4%|██▉                                                                                | 1/28 [00:15<06:52, 15.28s/it]"
     ]
    },
    {
     "name": "stdout",
     "output_type": "stream",
     "text": [
      "_________________Creativity_____________\n"
     ]
    },
    {
     "name": "stderr",
     "output_type": "stream",
     "text": [
      "\r",
      "  7%|█████▉                                                                             | 2/28 [00:27<05:49, 13.46s/it]"
     ]
    },
    {
     "name": "stdout",
     "output_type": "stream",
     "text": [
      "_________________Teamwork_____________\n"
     ]
    },
    {
     "name": "stderr",
     "output_type": "stream",
     "text": [
      "\r",
      " 11%|████████▉                                                                          | 3/28 [00:39<05:22, 12.92s/it]"
     ]
    },
    {
     "name": "stdout",
     "output_type": "stream",
     "text": [
      "_________________Communication_____________\n"
     ]
    },
    {
     "name": "stderr",
     "output_type": "stream",
     "text": [
      "\r",
      " 14%|███████████▊                                                                       | 4/28 [00:52<05:11, 12.99s/it]"
     ]
    },
    {
     "name": "stdout",
     "output_type": "stream",
     "text": [
      "_________________Trust_____________\n"
     ]
    },
    {
     "name": "stderr",
     "output_type": "stream",
     "text": [
      "\r",
      " 18%|██████████████▊                                                                    | 5/28 [01:05<04:57, 12.92s/it]"
     ]
    },
    {
     "name": "stdout",
     "output_type": "stream",
     "text": [
      "_________________Respect_____________\n"
     ]
    },
    {
     "name": "stderr",
     "output_type": "stream",
     "text": [
      "\r",
      " 21%|█████████████████▊                                                                 | 6/28 [01:20<05:00, 13.67s/it]"
     ]
    },
    {
     "name": "stdout",
     "output_type": "stream",
     "text": [
      "_________________Performance_____________\n"
     ]
    },
    {
     "name": "stderr",
     "output_type": "stream",
     "text": [
      "\r",
      " 25%|████████████████████▊                                                              | 7/28 [01:35<04:54, 14.02s/it]"
     ]
    },
    {
     "name": "stdout",
     "output_type": "stream",
     "text": [
      "_________________Leadership+Creativity_____________\n"
     ]
    },
    {
     "name": "stderr",
     "output_type": "stream",
     "text": [
      "\r",
      " 29%|███████████████████████▋                                                           | 8/28 [01:48<04:33, 13.68s/it]"
     ]
    },
    {
     "name": "stdout",
     "output_type": "stream",
     "text": [
      "_________________Leadership+Teamwork_____________\n"
     ]
    },
    {
     "name": "stderr",
     "output_type": "stream",
     "text": [
      "\r",
      " 32%|██████████████████████████▋                                                        | 9/28 [01:59<04:04, 12.84s/it]"
     ]
    },
    {
     "name": "stdout",
     "output_type": "stream",
     "text": [
      "_________________Leadership+Communication_____________\n"
     ]
    },
    {
     "name": "stderr",
     "output_type": "stream",
     "text": [
      "\r",
      " 36%|█████████████████████████████▎                                                    | 10/28 [02:12<03:52, 12.93s/it]"
     ]
    },
    {
     "name": "stdout",
     "output_type": "stream",
     "text": [
      "_________________Leadership+Trust_____________\n"
     ]
    },
    {
     "name": "stderr",
     "output_type": "stream",
     "text": [
      "\r",
      " 39%|████████████████████████████████▏                                                 | 11/28 [02:23<03:26, 12.16s/it]"
     ]
    },
    {
     "name": "stdout",
     "output_type": "stream",
     "text": [
      "_________________Leadership+Respect_____________\n"
     ]
    },
    {
     "name": "stderr",
     "output_type": "stream",
     "text": [
      "\r",
      " 43%|███████████████████████████████████▏                                              | 12/28 [02:38<03:29, 13.12s/it]"
     ]
    },
    {
     "name": "stdout",
     "output_type": "stream",
     "text": [
      "_________________Leadership+Performance_____________\n"
     ]
    },
    {
     "name": "stderr",
     "output_type": "stream",
     "text": [
      "\r",
      " 46%|██████████████████████████████████████                                            | 13/28 [02:51<03:18, 13.22s/it]"
     ]
    },
    {
     "name": "stdout",
     "output_type": "stream",
     "text": [
      "_________________Creativity+Teamwork_____________\n"
     ]
    },
    {
     "name": "stderr",
     "output_type": "stream",
     "text": [
      "\r",
      " 50%|█████████████████████████████████████████                                         | 14/28 [03:01<02:50, 12.21s/it]"
     ]
    },
    {
     "name": "stdout",
     "output_type": "stream",
     "text": [
      "_________________Creativity+Communication_____________\n"
     ]
    },
    {
     "name": "stderr",
     "output_type": "stream",
     "text": [
      "\r",
      " 54%|███████████████████████████████████████████▉                                      | 15/28 [03:13<02:38, 12.23s/it]"
     ]
    },
    {
     "name": "stdout",
     "output_type": "stream",
     "text": [
      "_________________Creativity+Trust_____________\n"
     ]
    },
    {
     "name": "stderr",
     "output_type": "stream",
     "text": [
      "\r",
      " 57%|██████████████████████████████████████████████▊                                   | 16/28 [03:24<02:19, 11.63s/it]"
     ]
    },
    {
     "name": "stdout",
     "output_type": "stream",
     "text": [
      "_________________Creativity+Respect_____________\n"
     ]
    },
    {
     "name": "stderr",
     "output_type": "stream",
     "text": [
      "\r",
      " 61%|█████████████████████████████████████████████████▊                                | 17/28 [03:35<02:06, 11.50s/it]"
     ]
    },
    {
     "name": "stdout",
     "output_type": "stream",
     "text": [
      "_________________Creativity+Performance_____________\n"
     ]
    },
    {
     "name": "stderr",
     "output_type": "stream",
     "text": [
      "\r",
      " 64%|████████████████████████████████████████████████████▋                             | 18/28 [03:48<02:01, 12.12s/it]"
     ]
    },
    {
     "name": "stdout",
     "output_type": "stream",
     "text": [
      "_________________Teamwork+Communication_____________\n"
     ]
    },
    {
     "name": "stderr",
     "output_type": "stream",
     "text": [
      "\r",
      " 68%|███████████████████████████████████████████████████████▋                          | 19/28 [04:02<01:53, 12.64s/it]"
     ]
    },
    {
     "name": "stdout",
     "output_type": "stream",
     "text": [
      "_________________Teamwork+Trust_____________\n"
     ]
    },
    {
     "name": "stderr",
     "output_type": "stream",
     "text": [
      "\r",
      " 71%|██████████████████████████████████████████████████████████▌                       | 20/28 [04:11<01:32, 11.59s/it]"
     ]
    },
    {
     "name": "stdout",
     "output_type": "stream",
     "text": [
      "_________________Teamwork+Respect_____________\n"
     ]
    },
    {
     "name": "stderr",
     "output_type": "stream",
     "text": [
      "\r",
      " 75%|█████████████████████████████████████████████████████████████▌                    | 21/28 [04:26<01:27, 12.54s/it]"
     ]
    },
    {
     "name": "stdout",
     "output_type": "stream",
     "text": [
      "_________________Teamwork+Performance_____________\n"
     ]
    },
    {
     "name": "stderr",
     "output_type": "stream",
     "text": [
      "\r",
      " 79%|████████████████████████████████████████████████████████████████▍                 | 22/28 [04:36<01:09, 11.65s/it]"
     ]
    },
    {
     "name": "stdout",
     "output_type": "stream",
     "text": [
      "_________________Communication+Trust_____________\n"
     ]
    },
    {
     "name": "stderr",
     "output_type": "stream",
     "text": [
      "\r",
      " 82%|███████████████████████████████████████████████████████████████████▎              | 23/28 [04:46<00:56, 11.31s/it]"
     ]
    },
    {
     "name": "stdout",
     "output_type": "stream",
     "text": [
      "_________________Communication+Respect_____________\n"
     ]
    },
    {
     "name": "stderr",
     "output_type": "stream",
     "text": [
      "\r",
      " 86%|██████████████████████████████████████████████████████████████████████▎           | 24/28 [04:56<00:43, 10.88s/it]"
     ]
    },
    {
     "name": "stdout",
     "output_type": "stream",
     "text": [
      "_________________Communication+Performance_____________\n"
     ]
    },
    {
     "name": "stderr",
     "output_type": "stream",
     "text": [
      "\r",
      " 89%|█████████████████████████████████████████████████████████████████████████▏        | 25/28 [05:13<00:37, 12.59s/it]"
     ]
    },
    {
     "name": "stdout",
     "output_type": "stream",
     "text": [
      "_________________Trust+Respect_____________\n"
     ]
    },
    {
     "name": "stderr",
     "output_type": "stream",
     "text": [
      "\r",
      " 93%|████████████████████████████████████████████████████████████████████████████▏     | 26/28 [05:25<00:24, 12.38s/it]"
     ]
    },
    {
     "name": "stdout",
     "output_type": "stream",
     "text": [
      "_________________Trust+Performance_____________\n"
     ]
    },
    {
     "name": "stderr",
     "output_type": "stream",
     "text": [
      "\r",
      " 96%|███████████████████████████████████████████████████████████████████████████████   | 27/28 [05:34<00:11, 11.60s/it]"
     ]
    },
    {
     "name": "stdout",
     "output_type": "stream",
     "text": [
      "_________________Respect+Performance_____________\n"
     ]
    },
    {
     "name": "stderr",
     "output_type": "stream",
     "text": [
      "100%|██████████████████████████████████████████████████████████████████████████████████| 28/28 [05:43<00:00, 12.27s/it]\n",
      "  0%|                                                                                           | 0/28 [00:00<?, ?it/s]"
     ]
    },
    {
     "name": "stdout",
     "output_type": "stream",
     "text": [
      "_________________Leadership_____________\n"
     ]
    },
    {
     "name": "stderr",
     "output_type": "stream",
     "text": [
      "\r",
      "  4%|██▉                                                                                | 1/28 [00:12<05:48, 12.91s/it]"
     ]
    },
    {
     "name": "stdout",
     "output_type": "stream",
     "text": [
      "_________________Creativity_____________\n"
     ]
    },
    {
     "name": "stderr",
     "output_type": "stream",
     "text": [
      "\r",
      "  7%|█████▉                                                                             | 2/28 [00:24<05:11, 11.96s/it]"
     ]
    },
    {
     "name": "stdout",
     "output_type": "stream",
     "text": [
      "_________________Teamwork_____________\n"
     ]
    },
    {
     "name": "stderr",
     "output_type": "stream",
     "text": [
      "\r",
      " 11%|████████▉                                                                          | 3/28 [00:34<04:43, 11.32s/it]"
     ]
    },
    {
     "name": "stdout",
     "output_type": "stream",
     "text": [
      "_________________Communication_____________\n"
     ]
    },
    {
     "name": "stderr",
     "output_type": "stream",
     "text": [
      "\r",
      " 14%|███████████▊                                                                       | 4/28 [00:46<04:36, 11.52s/it]"
     ]
    },
    {
     "name": "stdout",
     "output_type": "stream",
     "text": [
      "_________________Trust_____________\n"
     ]
    },
    {
     "name": "stderr",
     "output_type": "stream",
     "text": [
      "\r",
      " 18%|██████████████▊                                                                    | 5/28 [00:58<04:26, 11.57s/it]"
     ]
    },
    {
     "name": "stdout",
     "output_type": "stream",
     "text": [
      "_________________Respect_____________\n"
     ]
    },
    {
     "name": "stderr",
     "output_type": "stream",
     "text": [
      "\r",
      " 21%|█████████████████▊                                                                 | 6/28 [01:09<04:13, 11.51s/it]"
     ]
    },
    {
     "name": "stdout",
     "output_type": "stream",
     "text": [
      "_________________Performance_____________\n"
     ]
    },
    {
     "name": "stderr",
     "output_type": "stream",
     "text": [
      "\r",
      " 25%|████████████████████▊                                                              | 7/28 [01:25<04:29, 12.85s/it]"
     ]
    },
    {
     "name": "stdout",
     "output_type": "stream",
     "text": [
      "_________________Leadership+Creativity_____________\n"
     ]
    },
    {
     "name": "stderr",
     "output_type": "stream",
     "text": [
      "\r",
      " 29%|███████████████████████▋                                                           | 8/28 [01:38<04:20, 13.01s/it]"
     ]
    },
    {
     "name": "stdout",
     "output_type": "stream",
     "text": [
      "_________________Leadership+Teamwork_____________\n"
     ]
    },
    {
     "name": "stderr",
     "output_type": "stream",
     "text": [
      "\r",
      " 32%|██████████████████████████▋                                                        | 9/28 [01:50<04:00, 12.67s/it]"
     ]
    },
    {
     "name": "stdout",
     "output_type": "stream",
     "text": [
      "_________________Leadership+Communication_____________\n"
     ]
    },
    {
     "name": "stderr",
     "output_type": "stream",
     "text": [
      "\r",
      " 36%|█████████████████████████████▎                                                    | 10/28 [02:03<03:48, 12.70s/it]"
     ]
    },
    {
     "name": "stdout",
     "output_type": "stream",
     "text": [
      "_________________Leadership+Trust_____________\n"
     ]
    },
    {
     "name": "stderr",
     "output_type": "stream",
     "text": [
      "\r",
      " 39%|████████████████████████████████▏                                                 | 11/28 [02:17<03:41, 13.03s/it]"
     ]
    },
    {
     "name": "stdout",
     "output_type": "stream",
     "text": [
      "_________________Leadership+Respect_____________\n"
     ]
    },
    {
     "name": "stderr",
     "output_type": "stream",
     "text": [
      "\r",
      " 43%|███████████████████████████████████▏                                              | 12/28 [02:30<03:31, 13.23s/it]"
     ]
    },
    {
     "name": "stdout",
     "output_type": "stream",
     "text": [
      "_________________Leadership+Performance_____________\n"
     ]
    },
    {
     "name": "stderr",
     "output_type": "stream",
     "text": [
      "\r",
      " 46%|██████████████████████████████████████                                            | 13/28 [02:43<03:16, 13.11s/it]"
     ]
    },
    {
     "name": "stdout",
     "output_type": "stream",
     "text": [
      "_________________Creativity+Teamwork_____________\n"
     ]
    },
    {
     "name": "stderr",
     "output_type": "stream",
     "text": [
      "\r",
      " 50%|█████████████████████████████████████████                                         | 14/28 [02:54<02:54, 12.44s/it]"
     ]
    },
    {
     "name": "stdout",
     "output_type": "stream",
     "text": [
      "_________________Creativity+Communication_____________\n"
     ]
    },
    {
     "name": "stderr",
     "output_type": "stream",
     "text": [
      "\r",
      " 54%|███████████████████████████████████████████▉                                      | 15/28 [03:08<02:46, 12.84s/it]"
     ]
    },
    {
     "name": "stdout",
     "output_type": "stream",
     "text": [
      "_________________Creativity+Trust_____________\n"
     ]
    },
    {
     "name": "stderr",
     "output_type": "stream",
     "text": [
      "\r",
      " 57%|██████████████████████████████████████████████▊                                   | 16/28 [03:21<02:35, 12.97s/it]"
     ]
    },
    {
     "name": "stdout",
     "output_type": "stream",
     "text": [
      "_________________Creativity+Respect_____________\n"
     ]
    },
    {
     "name": "stderr",
     "output_type": "stream",
     "text": [
      "\r",
      " 61%|█████████████████████████████████████████████████▊                                | 17/28 [03:31<02:13, 12.17s/it]"
     ]
    },
    {
     "name": "stdout",
     "output_type": "stream",
     "text": [
      "_________________Creativity+Performance_____________\n"
     ]
    },
    {
     "name": "stderr",
     "output_type": "stream",
     "text": [
      "\r",
      " 64%|████████████████████████████████████████████████████▋                             | 18/28 [03:48<02:15, 13.58s/it]"
     ]
    },
    {
     "name": "stdout",
     "output_type": "stream",
     "text": [
      "_________________Teamwork+Communication_____________\n"
     ]
    },
    {
     "name": "stderr",
     "output_type": "stream",
     "text": [
      "\r",
      " 68%|███████████████████████████████████████████████████████▋                          | 19/28 [04:00<01:56, 12.98s/it]"
     ]
    },
    {
     "name": "stdout",
     "output_type": "stream",
     "text": [
      "_________________Teamwork+Trust_____________\n"
     ]
    },
    {
     "name": "stderr",
     "output_type": "stream",
     "text": [
      "\r",
      " 71%|██████████████████████████████████████████████████████████▌                       | 20/28 [04:10<01:36, 12.09s/it]"
     ]
    },
    {
     "name": "stdout",
     "output_type": "stream",
     "text": [
      "_________________Teamwork+Respect_____________\n"
     ]
    },
    {
     "name": "stderr",
     "output_type": "stream",
     "text": [
      "\r",
      " 75%|█████████████████████████████████████████████████████████████▌                    | 21/28 [04:24<01:28, 12.66s/it]"
     ]
    },
    {
     "name": "stdout",
     "output_type": "stream",
     "text": [
      "_________________Teamwork+Performance_____________\n"
     ]
    },
    {
     "name": "stderr",
     "output_type": "stream",
     "text": [
      "\r",
      " 79%|████████████████████████████████████████████████████████████████▍                 | 22/28 [04:34<01:12, 12.04s/it]"
     ]
    },
    {
     "name": "stdout",
     "output_type": "stream",
     "text": [
      "_________________Communication+Trust_____________\n"
     ]
    },
    {
     "name": "stderr",
     "output_type": "stream",
     "text": [
      "\r",
      " 82%|███████████████████████████████████████████████████████████████████▎              | 23/28 [04:45<00:57, 11.49s/it]"
     ]
    },
    {
     "name": "stdout",
     "output_type": "stream",
     "text": [
      "_________________Communication+Respect_____________\n"
     ]
    },
    {
     "name": "stderr",
     "output_type": "stream",
     "text": [
      "\r",
      " 86%|██████████████████████████████████████████████████████████████████████▎           | 24/28 [04:58<00:48, 12.00s/it]"
     ]
    },
    {
     "name": "stdout",
     "output_type": "stream",
     "text": [
      "_________________Communication+Performance_____________\n"
     ]
    },
    {
     "name": "stderr",
     "output_type": "stream",
     "text": [
      "\r",
      " 89%|█████████████████████████████████████████████████████████████████████████▏        | 25/28 [05:11<00:36, 12.26s/it]"
     ]
    },
    {
     "name": "stdout",
     "output_type": "stream",
     "text": [
      "_________________Trust+Respect_____________\n"
     ]
    },
    {
     "name": "stderr",
     "output_type": "stream",
     "text": [
      "\r",
      " 93%|████████████████████████████████████████████████████████████████████████████▏     | 26/28 [05:20<00:22, 11.34s/it]"
     ]
    },
    {
     "name": "stdout",
     "output_type": "stream",
     "text": [
      "_________________Trust+Performance_____________\n"
     ]
    },
    {
     "name": "stderr",
     "output_type": "stream",
     "text": [
      "\r",
      " 96%|███████████████████████████████████████████████████████████████████████████████   | 27/28 [05:28<00:10, 10.45s/it]"
     ]
    },
    {
     "name": "stdout",
     "output_type": "stream",
     "text": [
      "_________________Respect+Performance_____________\n"
     ]
    },
    {
     "name": "stderr",
     "output_type": "stream",
     "text": [
      "100%|██████████████████████████████████████████████████████████████████████████████████| 28/28 [05:40<00:00, 12.17s/it]\n",
      "  0%|                                                                                           | 0/28 [00:00<?, ?it/s]"
     ]
    },
    {
     "name": "stdout",
     "output_type": "stream",
     "text": [
      "_________________Leadership_____________\n"
     ]
    },
    {
     "name": "stderr",
     "output_type": "stream",
     "text": [
      "\r",
      "  4%|██▉                                                                                | 1/28 [00:13<06:02, 13.44s/it]"
     ]
    },
    {
     "name": "stdout",
     "output_type": "stream",
     "text": [
      "_________________Creativity_____________\n"
     ]
    },
    {
     "name": "stderr",
     "output_type": "stream",
     "text": [
      "\r",
      "  7%|█████▉                                                                             | 2/28 [00:25<05:24, 12.48s/it]"
     ]
    },
    {
     "name": "stdout",
     "output_type": "stream",
     "text": [
      "_________________Teamwork_____________\n"
     ]
    },
    {
     "name": "stderr",
     "output_type": "stream",
     "text": [
      "\r",
      " 11%|████████▉                                                                          | 3/28 [00:36<04:58, 11.96s/it]"
     ]
    },
    {
     "name": "stdout",
     "output_type": "stream",
     "text": [
      "_________________Communication_____________\n"
     ]
    },
    {
     "name": "stderr",
     "output_type": "stream",
     "text": [
      "\r",
      " 14%|███████████▊                                                                       | 4/28 [00:49<04:56, 12.35s/it]"
     ]
    },
    {
     "name": "stdout",
     "output_type": "stream",
     "text": [
      "_________________Trust_____________\n"
     ]
    },
    {
     "name": "stderr",
     "output_type": "stream",
     "text": [
      "\r",
      " 18%|██████████████▊                                                                    | 5/28 [01:02<04:48, 12.53s/it]"
     ]
    },
    {
     "name": "stdout",
     "output_type": "stream",
     "text": [
      "_________________Respect_____________\n"
     ]
    },
    {
     "name": "stderr",
     "output_type": "stream",
     "text": [
      "\r",
      " 21%|█████████████████▊                                                                 | 6/28 [01:14<04:34, 12.50s/it]"
     ]
    },
    {
     "name": "stdout",
     "output_type": "stream",
     "text": [
      "_________________Performance_____________\n"
     ]
    },
    {
     "name": "stderr",
     "output_type": "stream",
     "text": [
      "\r",
      " 25%|████████████████████▊                                                              | 7/28 [01:29<04:38, 13.27s/it]"
     ]
    },
    {
     "name": "stdout",
     "output_type": "stream",
     "text": [
      "_________________Leadership+Creativity_____________\n"
     ]
    },
    {
     "name": "stderr",
     "output_type": "stream",
     "text": [
      "\r",
      " 29%|███████████████████████▋                                                           | 8/28 [01:42<04:23, 13.19s/it]"
     ]
    },
    {
     "name": "stdout",
     "output_type": "stream",
     "text": [
      "_________________Leadership+Teamwork_____________\n"
     ]
    },
    {
     "name": "stderr",
     "output_type": "stream",
     "text": [
      "\r",
      " 32%|██████████████████████████▋                                                        | 9/28 [01:54<04:01, 12.73s/it]"
     ]
    },
    {
     "name": "stdout",
     "output_type": "stream",
     "text": [
      "_________________Leadership+Communication_____________\n"
     ]
    },
    {
     "name": "stderr",
     "output_type": "stream",
     "text": [
      "\r",
      " 36%|█████████████████████████████▎                                                    | 10/28 [02:07<03:49, 12.75s/it]"
     ]
    },
    {
     "name": "stdout",
     "output_type": "stream",
     "text": [
      "_________________Leadership+Trust_____________\n"
     ]
    },
    {
     "name": "stderr",
     "output_type": "stream",
     "text": [
      "\r",
      " 39%|████████████████████████████████▏                                                 | 11/28 [02:18<03:29, 12.35s/it]"
     ]
    },
    {
     "name": "stdout",
     "output_type": "stream",
     "text": [
      "_________________Leadership+Respect_____________\n"
     ]
    },
    {
     "name": "stderr",
     "output_type": "stream",
     "text": [
      "\r",
      " 43%|███████████████████████████████████▏                                              | 12/28 [02:30<03:17, 12.33s/it]"
     ]
    },
    {
     "name": "stdout",
     "output_type": "stream",
     "text": [
      "_________________Leadership+Performance_____________\n"
     ]
    },
    {
     "name": "stderr",
     "output_type": "stream",
     "text": [
      "\r",
      " 46%|██████████████████████████████████████                                            | 13/28 [02:44<03:09, 12.64s/it]"
     ]
    },
    {
     "name": "stdout",
     "output_type": "stream",
     "text": [
      "_________________Creativity+Teamwork_____________\n"
     ]
    },
    {
     "name": "stderr",
     "output_type": "stream",
     "text": [
      "\r",
      " 50%|█████████████████████████████████████████                                         | 14/28 [02:53<02:42, 11.63s/it]"
     ]
    },
    {
     "name": "stdout",
     "output_type": "stream",
     "text": [
      "_________________Creativity+Communication_____________\n"
     ]
    },
    {
     "name": "stderr",
     "output_type": "stream",
     "text": [
      "\r",
      " 54%|███████████████████████████████████████████▉                                      | 15/28 [03:06<02:34, 11.88s/it]"
     ]
    },
    {
     "name": "stdout",
     "output_type": "stream",
     "text": [
      "_________________Creativity+Trust_____________\n"
     ]
    },
    {
     "name": "stderr",
     "output_type": "stream",
     "text": [
      "\r",
      " 57%|██████████████████████████████████████████████▊                                   | 16/28 [03:15<02:14, 11.22s/it]"
     ]
    },
    {
     "name": "stdout",
     "output_type": "stream",
     "text": [
      "_________________Creativity+Respect_____________\n"
     ]
    },
    {
     "name": "stderr",
     "output_type": "stream",
     "text": [
      "\r",
      " 61%|█████████████████████████████████████████████████▊                                | 17/28 [03:25<01:59, 10.89s/it]"
     ]
    },
    {
     "name": "stdout",
     "output_type": "stream",
     "text": [
      "_________________Creativity+Performance_____________\n"
     ]
    },
    {
     "name": "stderr",
     "output_type": "stream",
     "text": [
      "\r",
      " 64%|████████████████████████████████████████████████████▋                             | 18/28 [03:37<01:51, 11.10s/it]"
     ]
    },
    {
     "name": "stdout",
     "output_type": "stream",
     "text": [
      "_________________Teamwork+Communication_____________\n"
     ]
    },
    {
     "name": "stderr",
     "output_type": "stream",
     "text": [
      "\r",
      " 68%|███████████████████████████████████████████████████████▋                          | 19/28 [03:50<01:46, 11.81s/it]"
     ]
    },
    {
     "name": "stdout",
     "output_type": "stream",
     "text": [
      "_________________Teamwork+Trust_____________\n"
     ]
    },
    {
     "name": "stderr",
     "output_type": "stream",
     "text": [
      "\r",
      " 71%|██████████████████████████████████████████████████████████▌                       | 20/28 [04:04<01:38, 12.30s/it]"
     ]
    },
    {
     "name": "stdout",
     "output_type": "stream",
     "text": [
      "_________________Teamwork+Respect_____________\n"
     ]
    },
    {
     "name": "stderr",
     "output_type": "stream",
     "text": [
      "\r",
      " 75%|█████████████████████████████████████████████████████████████▌                    | 21/28 [04:20<01:33, 13.40s/it]"
     ]
    },
    {
     "name": "stdout",
     "output_type": "stream",
     "text": [
      "_________________Teamwork+Performance_____________\n"
     ]
    },
    {
     "name": "stderr",
     "output_type": "stream",
     "text": [
      " 75%|█████████████████████████████████████████████████████████████▌                    | 21/28 [04:28<01:29, 12.81s/it]\n"
     ]
    },
    {
     "ename": "KeyboardInterrupt",
     "evalue": "",
     "output_type": "error",
     "traceback": [
      "\u001b[1;31m---------------------------------------------------------------------------\u001b[0m",
      "\u001b[1;31mKeyboardInterrupt\u001b[0m                         Traceback (most recent call last)",
      "Cell \u001b[1;32mIn[31], line 11\u001b[0m\n\u001b[0;32m      9\u001b[0m \u001b[38;5;28;01mfor\u001b[39;00m k \u001b[38;5;129;01min\u001b[39;00m \u001b[38;5;28mrange\u001b[39m(\u001b[38;5;241m1\u001b[39m, \u001b[38;5;241m11\u001b[39m):\n\u001b[0;32m     10\u001b[0m     course_url \u001b[38;5;241m=\u001b[39m \u001b[38;5;124m\"\u001b[39m\u001b[38;5;124mhttps://www.coursera.org/search?query=\u001b[39m\u001b[38;5;124m\"\u001b[39m \u001b[38;5;241m+\u001b[39m j \u001b[38;5;241m+\u001b[39m \u001b[38;5;124m\"\u001b[39m\u001b[38;5;124m&page=\u001b[39m\u001b[38;5;124m\"\u001b[39m \u001b[38;5;241m+\u001b[39m \u001b[38;5;28mstr\u001b[39m(k) \u001b[38;5;241m+\u001b[39m \u001b[38;5;124m\"\u001b[39m\u001b[38;5;124m&=null\u001b[39m\u001b[38;5;124m\"\u001b[39m\n\u001b[1;32m---> 11\u001b[0m     response \u001b[38;5;241m=\u001b[39m \u001b[43mrequests\u001b[49m\u001b[38;5;241;43m.\u001b[39;49m\u001b[43mget\u001b[49m\u001b[43m(\u001b[49m\u001b[43mcourse_url\u001b[49m\u001b[43m)\u001b[49m\n\u001b[0;32m     12\u001b[0m     soup \u001b[38;5;241m=\u001b[39m BeautifulSoup(response\u001b[38;5;241m.\u001b[39mcontent, \u001b[38;5;124m\"\u001b[39m\u001b[38;5;124mhtml.parser\u001b[39m\u001b[38;5;124m\"\u001b[39m)\n\u001b[0;32m     13\u001b[0m     ul_element \u001b[38;5;241m=\u001b[39m soup\u001b[38;5;241m.\u001b[39mfind(\u001b[38;5;124m\"\u001b[39m\u001b[38;5;124mul\u001b[39m\u001b[38;5;124m\"\u001b[39m, class_\u001b[38;5;241m=\u001b[39m\u001b[38;5;124m\"\u001b[39m\u001b[38;5;124mcds-9 css-18msmec cds-10\u001b[39m\u001b[38;5;124m\"\u001b[39m)\n",
      "File \u001b[1;32m~\\anaconda3\\lib\\site-packages\\requests\\api.py:73\u001b[0m, in \u001b[0;36mget\u001b[1;34m(url, params, **kwargs)\u001b[0m\n\u001b[0;32m     62\u001b[0m \u001b[38;5;28;01mdef\u001b[39;00m \u001b[38;5;21mget\u001b[39m(url, params\u001b[38;5;241m=\u001b[39m\u001b[38;5;28;01mNone\u001b[39;00m, \u001b[38;5;241m*\u001b[39m\u001b[38;5;241m*\u001b[39mkwargs):\n\u001b[0;32m     63\u001b[0m     \u001b[38;5;124mr\u001b[39m\u001b[38;5;124;03m\"\"\"Sends a GET request.\u001b[39;00m\n\u001b[0;32m     64\u001b[0m \n\u001b[0;32m     65\u001b[0m \u001b[38;5;124;03m    :param url: URL for the new :class:`Request` object.\u001b[39;00m\n\u001b[1;32m   (...)\u001b[0m\n\u001b[0;32m     70\u001b[0m \u001b[38;5;124;03m    :rtype: requests.Response\u001b[39;00m\n\u001b[0;32m     71\u001b[0m \u001b[38;5;124;03m    \"\"\"\u001b[39;00m\n\u001b[1;32m---> 73\u001b[0m     \u001b[38;5;28;01mreturn\u001b[39;00m request(\u001b[38;5;124m\"\u001b[39m\u001b[38;5;124mget\u001b[39m\u001b[38;5;124m\"\u001b[39m, url, params\u001b[38;5;241m=\u001b[39mparams, \u001b[38;5;241m*\u001b[39m\u001b[38;5;241m*\u001b[39mkwargs)\n",
      "File \u001b[1;32m~\\anaconda3\\lib\\site-packages\\requests\\api.py:59\u001b[0m, in \u001b[0;36mrequest\u001b[1;34m(method, url, **kwargs)\u001b[0m\n\u001b[0;32m     55\u001b[0m \u001b[38;5;66;03m# By using the 'with' statement we are sure the session is closed, thus we\u001b[39;00m\n\u001b[0;32m     56\u001b[0m \u001b[38;5;66;03m# avoid leaving sockets open which can trigger a ResourceWarning in some\u001b[39;00m\n\u001b[0;32m     57\u001b[0m \u001b[38;5;66;03m# cases, and look like a memory leak in others.\u001b[39;00m\n\u001b[0;32m     58\u001b[0m \u001b[38;5;28;01mwith\u001b[39;00m sessions\u001b[38;5;241m.\u001b[39mSession() \u001b[38;5;28;01mas\u001b[39;00m session:\n\u001b[1;32m---> 59\u001b[0m     \u001b[38;5;28;01mreturn\u001b[39;00m session\u001b[38;5;241m.\u001b[39mrequest(method\u001b[38;5;241m=\u001b[39mmethod, url\u001b[38;5;241m=\u001b[39murl, \u001b[38;5;241m*\u001b[39m\u001b[38;5;241m*\u001b[39mkwargs)\n",
      "File \u001b[1;32m~\\anaconda3\\lib\\site-packages\\requests\\sessions.py:587\u001b[0m, in \u001b[0;36mSession.request\u001b[1;34m(self, method, url, params, data, headers, cookies, files, auth, timeout, allow_redirects, proxies, hooks, stream, verify, cert, json)\u001b[0m\n\u001b[0;32m    582\u001b[0m send_kwargs \u001b[38;5;241m=\u001b[39m {\n\u001b[0;32m    583\u001b[0m     \u001b[38;5;124m\"\u001b[39m\u001b[38;5;124mtimeout\u001b[39m\u001b[38;5;124m\"\u001b[39m: timeout,\n\u001b[0;32m    584\u001b[0m     \u001b[38;5;124m\"\u001b[39m\u001b[38;5;124mallow_redirects\u001b[39m\u001b[38;5;124m\"\u001b[39m: allow_redirects,\n\u001b[0;32m    585\u001b[0m }\n\u001b[0;32m    586\u001b[0m send_kwargs\u001b[38;5;241m.\u001b[39mupdate(settings)\n\u001b[1;32m--> 587\u001b[0m resp \u001b[38;5;241m=\u001b[39m \u001b[38;5;28mself\u001b[39m\u001b[38;5;241m.\u001b[39msend(prep, \u001b[38;5;241m*\u001b[39m\u001b[38;5;241m*\u001b[39msend_kwargs)\n\u001b[0;32m    589\u001b[0m \u001b[38;5;28;01mreturn\u001b[39;00m resp\n",
      "File \u001b[1;32m~\\anaconda3\\lib\\site-packages\\requests\\sessions.py:701\u001b[0m, in \u001b[0;36mSession.send\u001b[1;34m(self, request, **kwargs)\u001b[0m\n\u001b[0;32m    698\u001b[0m start \u001b[38;5;241m=\u001b[39m preferred_clock()\n\u001b[0;32m    700\u001b[0m \u001b[38;5;66;03m# Send the request\u001b[39;00m\n\u001b[1;32m--> 701\u001b[0m r \u001b[38;5;241m=\u001b[39m adapter\u001b[38;5;241m.\u001b[39msend(request, \u001b[38;5;241m*\u001b[39m\u001b[38;5;241m*\u001b[39mkwargs)\n\u001b[0;32m    703\u001b[0m \u001b[38;5;66;03m# Total elapsed time of the request (approximately)\u001b[39;00m\n\u001b[0;32m    704\u001b[0m elapsed \u001b[38;5;241m=\u001b[39m preferred_clock() \u001b[38;5;241m-\u001b[39m start\n",
      "File \u001b[1;32m~\\anaconda3\\lib\\site-packages\\requests\\adapters.py:489\u001b[0m, in \u001b[0;36mHTTPAdapter.send\u001b[1;34m(self, request, stream, timeout, verify, cert, proxies)\u001b[0m\n\u001b[0;32m    487\u001b[0m \u001b[38;5;28;01mtry\u001b[39;00m:\n\u001b[0;32m    488\u001b[0m     \u001b[38;5;28;01mif\u001b[39;00m \u001b[38;5;129;01mnot\u001b[39;00m chunked:\n\u001b[1;32m--> 489\u001b[0m         resp \u001b[38;5;241m=\u001b[39m \u001b[43mconn\u001b[49m\u001b[38;5;241;43m.\u001b[39;49m\u001b[43murlopen\u001b[49m\u001b[43m(\u001b[49m\n\u001b[0;32m    490\u001b[0m \u001b[43m            \u001b[49m\u001b[43mmethod\u001b[49m\u001b[38;5;241;43m=\u001b[39;49m\u001b[43mrequest\u001b[49m\u001b[38;5;241;43m.\u001b[39;49m\u001b[43mmethod\u001b[49m\u001b[43m,\u001b[49m\n\u001b[0;32m    491\u001b[0m \u001b[43m            \u001b[49m\u001b[43murl\u001b[49m\u001b[38;5;241;43m=\u001b[39;49m\u001b[43murl\u001b[49m\u001b[43m,\u001b[49m\n\u001b[0;32m    492\u001b[0m \u001b[43m            \u001b[49m\u001b[43mbody\u001b[49m\u001b[38;5;241;43m=\u001b[39;49m\u001b[43mrequest\u001b[49m\u001b[38;5;241;43m.\u001b[39;49m\u001b[43mbody\u001b[49m\u001b[43m,\u001b[49m\n\u001b[0;32m    493\u001b[0m \u001b[43m            \u001b[49m\u001b[43mheaders\u001b[49m\u001b[38;5;241;43m=\u001b[39;49m\u001b[43mrequest\u001b[49m\u001b[38;5;241;43m.\u001b[39;49m\u001b[43mheaders\u001b[49m\u001b[43m,\u001b[49m\n\u001b[0;32m    494\u001b[0m \u001b[43m            \u001b[49m\u001b[43mredirect\u001b[49m\u001b[38;5;241;43m=\u001b[39;49m\u001b[38;5;28;43;01mFalse\u001b[39;49;00m\u001b[43m,\u001b[49m\n\u001b[0;32m    495\u001b[0m \u001b[43m            \u001b[49m\u001b[43massert_same_host\u001b[49m\u001b[38;5;241;43m=\u001b[39;49m\u001b[38;5;28;43;01mFalse\u001b[39;49;00m\u001b[43m,\u001b[49m\n\u001b[0;32m    496\u001b[0m \u001b[43m            \u001b[49m\u001b[43mpreload_content\u001b[49m\u001b[38;5;241;43m=\u001b[39;49m\u001b[38;5;28;43;01mFalse\u001b[39;49;00m\u001b[43m,\u001b[49m\n\u001b[0;32m    497\u001b[0m \u001b[43m            \u001b[49m\u001b[43mdecode_content\u001b[49m\u001b[38;5;241;43m=\u001b[39;49m\u001b[38;5;28;43;01mFalse\u001b[39;49;00m\u001b[43m,\u001b[49m\n\u001b[0;32m    498\u001b[0m \u001b[43m            \u001b[49m\u001b[43mretries\u001b[49m\u001b[38;5;241;43m=\u001b[39;49m\u001b[38;5;28;43mself\u001b[39;49m\u001b[38;5;241;43m.\u001b[39;49m\u001b[43mmax_retries\u001b[49m\u001b[43m,\u001b[49m\n\u001b[0;32m    499\u001b[0m \u001b[43m            \u001b[49m\u001b[43mtimeout\u001b[49m\u001b[38;5;241;43m=\u001b[39;49m\u001b[43mtimeout\u001b[49m\u001b[43m,\u001b[49m\n\u001b[0;32m    500\u001b[0m \u001b[43m        \u001b[49m\u001b[43m)\u001b[49m\n\u001b[0;32m    502\u001b[0m     \u001b[38;5;66;03m# Send the request.\u001b[39;00m\n\u001b[0;32m    503\u001b[0m     \u001b[38;5;28;01melse\u001b[39;00m:\n\u001b[0;32m    504\u001b[0m         \u001b[38;5;28;01mif\u001b[39;00m \u001b[38;5;28mhasattr\u001b[39m(conn, \u001b[38;5;124m\"\u001b[39m\u001b[38;5;124mproxy_pool\u001b[39m\u001b[38;5;124m\"\u001b[39m):\n",
      "File \u001b[1;32m~\\anaconda3\\lib\\site-packages\\urllib3\\connectionpool.py:703\u001b[0m, in \u001b[0;36mHTTPConnectionPool.urlopen\u001b[1;34m(self, method, url, body, headers, retries, redirect, assert_same_host, timeout, pool_timeout, release_conn, chunked, body_pos, **response_kw)\u001b[0m\n\u001b[0;32m    700\u001b[0m     \u001b[38;5;28mself\u001b[39m\u001b[38;5;241m.\u001b[39m_prepare_proxy(conn)\n\u001b[0;32m    702\u001b[0m \u001b[38;5;66;03m# Make the request on the httplib connection object.\u001b[39;00m\n\u001b[1;32m--> 703\u001b[0m httplib_response \u001b[38;5;241m=\u001b[39m \u001b[38;5;28;43mself\u001b[39;49m\u001b[38;5;241;43m.\u001b[39;49m\u001b[43m_make_request\u001b[49m\u001b[43m(\u001b[49m\n\u001b[0;32m    704\u001b[0m \u001b[43m    \u001b[49m\u001b[43mconn\u001b[49m\u001b[43m,\u001b[49m\n\u001b[0;32m    705\u001b[0m \u001b[43m    \u001b[49m\u001b[43mmethod\u001b[49m\u001b[43m,\u001b[49m\n\u001b[0;32m    706\u001b[0m \u001b[43m    \u001b[49m\u001b[43murl\u001b[49m\u001b[43m,\u001b[49m\n\u001b[0;32m    707\u001b[0m \u001b[43m    \u001b[49m\u001b[43mtimeout\u001b[49m\u001b[38;5;241;43m=\u001b[39;49m\u001b[43mtimeout_obj\u001b[49m\u001b[43m,\u001b[49m\n\u001b[0;32m    708\u001b[0m \u001b[43m    \u001b[49m\u001b[43mbody\u001b[49m\u001b[38;5;241;43m=\u001b[39;49m\u001b[43mbody\u001b[49m\u001b[43m,\u001b[49m\n\u001b[0;32m    709\u001b[0m \u001b[43m    \u001b[49m\u001b[43mheaders\u001b[49m\u001b[38;5;241;43m=\u001b[39;49m\u001b[43mheaders\u001b[49m\u001b[43m,\u001b[49m\n\u001b[0;32m    710\u001b[0m \u001b[43m    \u001b[49m\u001b[43mchunked\u001b[49m\u001b[38;5;241;43m=\u001b[39;49m\u001b[43mchunked\u001b[49m\u001b[43m,\u001b[49m\n\u001b[0;32m    711\u001b[0m \u001b[43m\u001b[49m\u001b[43m)\u001b[49m\n\u001b[0;32m    713\u001b[0m \u001b[38;5;66;03m# If we're going to release the connection in ``finally:``, then\u001b[39;00m\n\u001b[0;32m    714\u001b[0m \u001b[38;5;66;03m# the response doesn't need to know about the connection. Otherwise\u001b[39;00m\n\u001b[0;32m    715\u001b[0m \u001b[38;5;66;03m# it will also try to release it and we'll have a double-release\u001b[39;00m\n\u001b[0;32m    716\u001b[0m \u001b[38;5;66;03m# mess.\u001b[39;00m\n\u001b[0;32m    717\u001b[0m response_conn \u001b[38;5;241m=\u001b[39m conn \u001b[38;5;28;01mif\u001b[39;00m \u001b[38;5;129;01mnot\u001b[39;00m release_conn \u001b[38;5;28;01melse\u001b[39;00m \u001b[38;5;28;01mNone\u001b[39;00m\n",
      "File \u001b[1;32m~\\anaconda3\\lib\\site-packages\\urllib3\\connectionpool.py:449\u001b[0m, in \u001b[0;36mHTTPConnectionPool._make_request\u001b[1;34m(self, conn, method, url, timeout, chunked, **httplib_request_kw)\u001b[0m\n\u001b[0;32m    444\u001b[0m             httplib_response \u001b[38;5;241m=\u001b[39m conn\u001b[38;5;241m.\u001b[39mgetresponse()\n\u001b[0;32m    445\u001b[0m         \u001b[38;5;28;01mexcept\u001b[39;00m \u001b[38;5;167;01mBaseException\u001b[39;00m \u001b[38;5;28;01mas\u001b[39;00m e:\n\u001b[0;32m    446\u001b[0m             \u001b[38;5;66;03m# Remove the TypeError from the exception chain in\u001b[39;00m\n\u001b[0;32m    447\u001b[0m             \u001b[38;5;66;03m# Python 3 (including for exceptions like SystemExit).\u001b[39;00m\n\u001b[0;32m    448\u001b[0m             \u001b[38;5;66;03m# Otherwise it looks like a bug in the code.\u001b[39;00m\n\u001b[1;32m--> 449\u001b[0m             \u001b[43msix\u001b[49m\u001b[38;5;241;43m.\u001b[39;49m\u001b[43mraise_from\u001b[49m\u001b[43m(\u001b[49m\u001b[43me\u001b[49m\u001b[43m,\u001b[49m\u001b[43m \u001b[49m\u001b[38;5;28;43;01mNone\u001b[39;49;00m\u001b[43m)\u001b[49m\n\u001b[0;32m    450\u001b[0m \u001b[38;5;28;01mexcept\u001b[39;00m (SocketTimeout, BaseSSLError, SocketError) \u001b[38;5;28;01mas\u001b[39;00m e:\n\u001b[0;32m    451\u001b[0m     \u001b[38;5;28mself\u001b[39m\u001b[38;5;241m.\u001b[39m_raise_timeout(err\u001b[38;5;241m=\u001b[39me, url\u001b[38;5;241m=\u001b[39murl, timeout_value\u001b[38;5;241m=\u001b[39mread_timeout)\n",
      "File \u001b[1;32m<string>:3\u001b[0m, in \u001b[0;36mraise_from\u001b[1;34m(value, from_value)\u001b[0m\n",
      "File \u001b[1;32m~\\anaconda3\\lib\\site-packages\\urllib3\\connectionpool.py:444\u001b[0m, in \u001b[0;36mHTTPConnectionPool._make_request\u001b[1;34m(self, conn, method, url, timeout, chunked, **httplib_request_kw)\u001b[0m\n\u001b[0;32m    441\u001b[0m \u001b[38;5;28;01mexcept\u001b[39;00m \u001b[38;5;167;01mTypeError\u001b[39;00m:\n\u001b[0;32m    442\u001b[0m     \u001b[38;5;66;03m# Python 3\u001b[39;00m\n\u001b[0;32m    443\u001b[0m     \u001b[38;5;28;01mtry\u001b[39;00m:\n\u001b[1;32m--> 444\u001b[0m         httplib_response \u001b[38;5;241m=\u001b[39m \u001b[43mconn\u001b[49m\u001b[38;5;241;43m.\u001b[39;49m\u001b[43mgetresponse\u001b[49m\u001b[43m(\u001b[49m\u001b[43m)\u001b[49m\n\u001b[0;32m    445\u001b[0m     \u001b[38;5;28;01mexcept\u001b[39;00m \u001b[38;5;167;01mBaseException\u001b[39;00m \u001b[38;5;28;01mas\u001b[39;00m e:\n\u001b[0;32m    446\u001b[0m         \u001b[38;5;66;03m# Remove the TypeError from the exception chain in\u001b[39;00m\n\u001b[0;32m    447\u001b[0m         \u001b[38;5;66;03m# Python 3 (including for exceptions like SystemExit).\u001b[39;00m\n\u001b[0;32m    448\u001b[0m         \u001b[38;5;66;03m# Otherwise it looks like a bug in the code.\u001b[39;00m\n\u001b[0;32m    449\u001b[0m         six\u001b[38;5;241m.\u001b[39mraise_from(e, \u001b[38;5;28;01mNone\u001b[39;00m)\n",
      "File \u001b[1;32m~\\anaconda3\\lib\\http\\client.py:1377\u001b[0m, in \u001b[0;36mHTTPConnection.getresponse\u001b[1;34m(self)\u001b[0m\n\u001b[0;32m   1375\u001b[0m \u001b[38;5;28;01mtry\u001b[39;00m:\n\u001b[0;32m   1376\u001b[0m     \u001b[38;5;28;01mtry\u001b[39;00m:\n\u001b[1;32m-> 1377\u001b[0m         \u001b[43mresponse\u001b[49m\u001b[38;5;241;43m.\u001b[39;49m\u001b[43mbegin\u001b[49m\u001b[43m(\u001b[49m\u001b[43m)\u001b[49m\n\u001b[0;32m   1378\u001b[0m     \u001b[38;5;28;01mexcept\u001b[39;00m \u001b[38;5;167;01mConnectionError\u001b[39;00m:\n\u001b[0;32m   1379\u001b[0m         \u001b[38;5;28mself\u001b[39m\u001b[38;5;241m.\u001b[39mclose()\n",
      "File \u001b[1;32m~\\anaconda3\\lib\\http\\client.py:320\u001b[0m, in \u001b[0;36mHTTPResponse.begin\u001b[1;34m(self)\u001b[0m\n\u001b[0;32m    318\u001b[0m \u001b[38;5;66;03m# read until we get a non-100 response\u001b[39;00m\n\u001b[0;32m    319\u001b[0m \u001b[38;5;28;01mwhile\u001b[39;00m \u001b[38;5;28;01mTrue\u001b[39;00m:\n\u001b[1;32m--> 320\u001b[0m     version, status, reason \u001b[38;5;241m=\u001b[39m \u001b[38;5;28;43mself\u001b[39;49m\u001b[38;5;241;43m.\u001b[39;49m\u001b[43m_read_status\u001b[49m\u001b[43m(\u001b[49m\u001b[43m)\u001b[49m\n\u001b[0;32m    321\u001b[0m     \u001b[38;5;28;01mif\u001b[39;00m status \u001b[38;5;241m!=\u001b[39m CONTINUE:\n\u001b[0;32m    322\u001b[0m         \u001b[38;5;28;01mbreak\u001b[39;00m\n",
      "File \u001b[1;32m~\\anaconda3\\lib\\http\\client.py:281\u001b[0m, in \u001b[0;36mHTTPResponse._read_status\u001b[1;34m(self)\u001b[0m\n\u001b[0;32m    280\u001b[0m \u001b[38;5;28;01mdef\u001b[39;00m \u001b[38;5;21m_read_status\u001b[39m(\u001b[38;5;28mself\u001b[39m):\n\u001b[1;32m--> 281\u001b[0m     line \u001b[38;5;241m=\u001b[39m \u001b[38;5;28mstr\u001b[39m(\u001b[38;5;28;43mself\u001b[39;49m\u001b[38;5;241;43m.\u001b[39;49m\u001b[43mfp\u001b[49m\u001b[38;5;241;43m.\u001b[39;49m\u001b[43mreadline\u001b[49m\u001b[43m(\u001b[49m\u001b[43m_MAXLINE\u001b[49m\u001b[43m \u001b[49m\u001b[38;5;241;43m+\u001b[39;49m\u001b[43m \u001b[49m\u001b[38;5;241;43m1\u001b[39;49m\u001b[43m)\u001b[49m, \u001b[38;5;124m\"\u001b[39m\u001b[38;5;124miso-8859-1\u001b[39m\u001b[38;5;124m\"\u001b[39m)\n\u001b[0;32m    282\u001b[0m     \u001b[38;5;28;01mif\u001b[39;00m \u001b[38;5;28mlen\u001b[39m(line) \u001b[38;5;241m>\u001b[39m _MAXLINE:\n\u001b[0;32m    283\u001b[0m         \u001b[38;5;28;01mraise\u001b[39;00m LineTooLong(\u001b[38;5;124m\"\u001b[39m\u001b[38;5;124mstatus line\u001b[39m\u001b[38;5;124m\"\u001b[39m)\n",
      "File \u001b[1;32m~\\anaconda3\\lib\\socket.py:704\u001b[0m, in \u001b[0;36mSocketIO.readinto\u001b[1;34m(self, b)\u001b[0m\n\u001b[0;32m    702\u001b[0m \u001b[38;5;28;01mwhile\u001b[39;00m \u001b[38;5;28;01mTrue\u001b[39;00m:\n\u001b[0;32m    703\u001b[0m     \u001b[38;5;28;01mtry\u001b[39;00m:\n\u001b[1;32m--> 704\u001b[0m         \u001b[38;5;28;01mreturn\u001b[39;00m \u001b[38;5;28;43mself\u001b[39;49m\u001b[38;5;241;43m.\u001b[39;49m\u001b[43m_sock\u001b[49m\u001b[38;5;241;43m.\u001b[39;49m\u001b[43mrecv_into\u001b[49m\u001b[43m(\u001b[49m\u001b[43mb\u001b[49m\u001b[43m)\u001b[49m\n\u001b[0;32m    705\u001b[0m     \u001b[38;5;28;01mexcept\u001b[39;00m timeout:\n\u001b[0;32m    706\u001b[0m         \u001b[38;5;28mself\u001b[39m\u001b[38;5;241m.\u001b[39m_timeout_occurred \u001b[38;5;241m=\u001b[39m \u001b[38;5;28;01mTrue\u001b[39;00m\n",
      "File \u001b[1;32m~\\anaconda3\\lib\\ssl.py:1242\u001b[0m, in \u001b[0;36mSSLSocket.recv_into\u001b[1;34m(self, buffer, nbytes, flags)\u001b[0m\n\u001b[0;32m   1238\u001b[0m     \u001b[38;5;28;01mif\u001b[39;00m flags \u001b[38;5;241m!=\u001b[39m \u001b[38;5;241m0\u001b[39m:\n\u001b[0;32m   1239\u001b[0m         \u001b[38;5;28;01mraise\u001b[39;00m \u001b[38;5;167;01mValueError\u001b[39;00m(\n\u001b[0;32m   1240\u001b[0m           \u001b[38;5;124m\"\u001b[39m\u001b[38;5;124mnon-zero flags not allowed in calls to recv_into() on \u001b[39m\u001b[38;5;132;01m%s\u001b[39;00m\u001b[38;5;124m\"\u001b[39m \u001b[38;5;241m%\u001b[39m\n\u001b[0;32m   1241\u001b[0m           \u001b[38;5;28mself\u001b[39m\u001b[38;5;241m.\u001b[39m\u001b[38;5;18m__class__\u001b[39m)\n\u001b[1;32m-> 1242\u001b[0m     \u001b[38;5;28;01mreturn\u001b[39;00m \u001b[38;5;28;43mself\u001b[39;49m\u001b[38;5;241;43m.\u001b[39;49m\u001b[43mread\u001b[49m\u001b[43m(\u001b[49m\u001b[43mnbytes\u001b[49m\u001b[43m,\u001b[49m\u001b[43m \u001b[49m\u001b[43mbuffer\u001b[49m\u001b[43m)\u001b[49m\n\u001b[0;32m   1243\u001b[0m \u001b[38;5;28;01melse\u001b[39;00m:\n\u001b[0;32m   1244\u001b[0m     \u001b[38;5;28;01mreturn\u001b[39;00m \u001b[38;5;28msuper\u001b[39m()\u001b[38;5;241m.\u001b[39mrecv_into(buffer, nbytes, flags)\n",
      "File \u001b[1;32m~\\anaconda3\\lib\\ssl.py:1100\u001b[0m, in \u001b[0;36mSSLSocket.read\u001b[1;34m(self, len, buffer)\u001b[0m\n\u001b[0;32m   1098\u001b[0m \u001b[38;5;28;01mtry\u001b[39;00m:\n\u001b[0;32m   1099\u001b[0m     \u001b[38;5;28;01mif\u001b[39;00m buffer \u001b[38;5;129;01mis\u001b[39;00m \u001b[38;5;129;01mnot\u001b[39;00m \u001b[38;5;28;01mNone\u001b[39;00m:\n\u001b[1;32m-> 1100\u001b[0m         \u001b[38;5;28;01mreturn\u001b[39;00m \u001b[38;5;28;43mself\u001b[39;49m\u001b[38;5;241;43m.\u001b[39;49m\u001b[43m_sslobj\u001b[49m\u001b[38;5;241;43m.\u001b[39;49m\u001b[43mread\u001b[49m\u001b[43m(\u001b[49m\u001b[38;5;28;43mlen\u001b[39;49m\u001b[43m,\u001b[49m\u001b[43m \u001b[49m\u001b[43mbuffer\u001b[49m\u001b[43m)\u001b[49m\n\u001b[0;32m   1101\u001b[0m     \u001b[38;5;28;01melse\u001b[39;00m:\n\u001b[0;32m   1102\u001b[0m         \u001b[38;5;28;01mreturn\u001b[39;00m \u001b[38;5;28mself\u001b[39m\u001b[38;5;241m.\u001b[39m_sslobj\u001b[38;5;241m.\u001b[39mread(\u001b[38;5;28mlen\u001b[39m)\n",
      "\u001b[1;31mKeyboardInterrupt\u001b[0m: "
     ]
    }
   ],
   "source": [
    "# Your existing code here...\n",
    "\n",
    "#this to collect more data \n",
    "for b in range(20):\n",
    "    # Modify the loop to extract data and append it to the DataFrame\n",
    "    for j in tqdm(skills_list):\n",
    "        print(\"_________________\"+j+\"_____________\")\n",
    "        CourseURL=[]\n",
    "        for k in range(1, 11):\n",
    "            course_url = \"https://www.coursera.org/search?query=\" + j + \"&page=\" + str(k) + \"&=null\"\n",
    "            response = requests.get(course_url)\n",
    "            soup = BeautifulSoup(response.content, \"html.parser\")\n",
    "            ul_element = soup.find(\"ul\", class_=\"cds-9 css-18msmec cds-10\")\n",
    "            div_elements = ul_element.find_all(\"div\", class_=\"css-1ek61wr\")\n",
    "            ally = ul_element.find_all(\"div\", class_=\"product-reviews css-pn23ng\")\n",
    "\n",
    "            # Use zip() to iterate over both div_elements and ally lists together\n",
    "            for element, review_element in zip(div_elements, ally):\n",
    "                href = element.a.get(\"href\")\n",
    "                school = element.find(\"span\", class_=\"cds-119 css-1mru19s cds-121\").get_text()\n",
    "                title = element.find(\"h2\", class_=\"cds-119 css-h1jogs cds-121\").get_text()\n",
    "                reviews = review_element.find('p', class_='cds-119 css-dmxkm1 cds-121').get_text()\n",
    "                rating = review_element.find('p', class_='cds-119 css-11uuo4b cds-121').get_text()\n",
    "                level =  ' '.join(element.a.get(\"aria-label\").split()[-6:-3])\n",
    "                duration = ' '.join(element.a.get(\"aria-label\").split()[-4:])\n",
    "                competence= element.find(\"p\", class_=\"cds-119 css-12ksubz cds-121\").get_text().replace(\"Skills you'll gain: \", \"\").split(', ') if element.find(\"p\", class_=\"cds-119 css-12ksubz cds-121\") else \"\"\n",
    "                # Assuming you have other metrics, level, duration, etc., you can extract them similarly\n",
    "                # Append the data to the DataFrame\n",
    "                Main = Main.append({\n",
    "                    'metric(s)': j,\n",
    "                    'URL': \"https://www.coursera.org\" + href,\n",
    "                    'Title': title,\n",
    "                    'Trainer': school,\n",
    "                    'rate': rating,\n",
    "                    'evaluation nbr': reviews,\n",
    "                    # Add other data for level, duration, etc.\n",
    "                    'level': level,\n",
    "                    'duration': duration,\n",
    "                    'aquired competences': competence\n",
    "                }, ignore_index=True)"
   ]
  },
  {
   "cell_type": "code",
   "execution_count": 32,
   "id": "e074ad02",
   "metadata": {},
   "outputs": [
    {
     "data": {
      "text/html": [
       "<div>\n",
       "<style scoped>\n",
       "    .dataframe tbody tr th:only-of-type {\n",
       "        vertical-align: middle;\n",
       "    }\n",
       "\n",
       "    .dataframe tbody tr th {\n",
       "        vertical-align: top;\n",
       "    }\n",
       "\n",
       "    .dataframe thead th {\n",
       "        text-align: right;\n",
       "    }\n",
       "</style>\n",
       "<table border=\"1\" class=\"dataframe\">\n",
       "  <thead>\n",
       "    <tr style=\"text-align: right;\">\n",
       "      <th></th>\n",
       "      <th>metric(s)</th>\n",
       "      <th>URL</th>\n",
       "      <th>Title</th>\n",
       "      <th>Trainer</th>\n",
       "      <th>rate</th>\n",
       "      <th>evaluation nbr</th>\n",
       "      <th>level</th>\n",
       "      <th>duration</th>\n",
       "      <th>aquired competences</th>\n",
       "    </tr>\n",
       "  </thead>\n",
       "  <tbody>\n",
       "    <tr>\n",
       "      <th>0</th>\n",
       "      <td>Performance</td>\n",
       "      <td>https://www.coursera.org/projects/create-perfo...</td>\n",
       "      <td>Create a Performance Summary using SnapEval</td>\n",
       "      <td>Coursera Project Network</td>\n",
       "      <td>4.4</td>\n",
       "      <td>(42 reviews)</td>\n",
       "      <td>Intermediate level Less</td>\n",
       "      <td>Less Than 2 Hours</td>\n",
       "      <td></td>\n",
       "    </tr>\n",
       "    <tr>\n",
       "      <th>1</th>\n",
       "      <td>Performance</td>\n",
       "      <td>https://www.coursera.org/learn/quantitative-fo...</td>\n",
       "      <td>Quantitative Formal Modeling and Worst-Case Pe...</td>\n",
       "      <td>EIT Digital</td>\n",
       "      <td>4.7</td>\n",
       "      <td>(23.7k reviews)</td>\n",
       "      <td>Mixed level 1</td>\n",
       "      <td>1 - 3 Months</td>\n",
       "      <td></td>\n",
       "    </tr>\n",
       "    <tr>\n",
       "      <th>2</th>\n",
       "      <td>Performance</td>\n",
       "      <td>https://www.coursera.org/projects/baking-light...</td>\n",
       "      <td>Baking Lights for Better Performance in Unity</td>\n",
       "      <td>Coursera Project Network</td>\n",
       "      <td>4.5</td>\n",
       "      <td>(15.4k reviews)</td>\n",
       "      <td>Beginner level Less</td>\n",
       "      <td>Less Than 2 Hours</td>\n",
       "      <td>[Application Development]</td>\n",
       "    </tr>\n",
       "    <tr>\n",
       "      <th>3</th>\n",
       "      <td>Performance</td>\n",
       "      <td>https://www.coursera.org/projects/googlecloud-...</td>\n",
       "      <td>Optimizing Performance of LookML Queries</td>\n",
       "      <td>Google Cloud</td>\n",
       "      <td>4.8</td>\n",
       "      <td>(16.3k reviews)</td>\n",
       "      <td>Intermediate level Less</td>\n",
       "      <td>Less Than 2 Hours</td>\n",
       "      <td>[Data Analysis, Google Cloud Platform]</td>\n",
       "    </tr>\n",
       "    <tr>\n",
       "      <th>4</th>\n",
       "      <td>Performance</td>\n",
       "      <td>https://www.coursera.org/learn/app-deployment-...</td>\n",
       "      <td>App Deployment, Debugging, and Performance en ...</td>\n",
       "      <td>Google Cloud</td>\n",
       "      <td>4.5</td>\n",
       "      <td>(10.4k reviews)</td>\n",
       "      <td>Intermediate level 1</td>\n",
       "      <td>1 - 4 Weeks</td>\n",
       "      <td></td>\n",
       "    </tr>\n",
       "    <tr>\n",
       "      <th>...</th>\n",
       "      <td>...</td>\n",
       "      <td>...</td>\n",
       "      <td>...</td>\n",
       "      <td>...</td>\n",
       "      <td>...</td>\n",
       "      <td>...</td>\n",
       "      <td>...</td>\n",
       "      <td>...</td>\n",
       "      <td>...</td>\n",
       "    </tr>\n",
       "    <tr>\n",
       "      <th>3582</th>\n",
       "      <td>Teamwork+Performance</td>\n",
       "      <td>https://www.coursera.org/learn/feedback</td>\n",
       "      <td>Giving Helpful Feedback</td>\n",
       "      <td>University of Colorado Boulder</td>\n",
       "      <td>4.8</td>\n",
       "      <td>(1.3k reviews)</td>\n",
       "      <td>Mixed level 1</td>\n",
       "      <td>1 - 3 Months</td>\n",
       "      <td>[Business Psychology, Entrepreneurship, Human ...</td>\n",
       "    </tr>\n",
       "    <tr>\n",
       "      <th>3583</th>\n",
       "      <td>Teamwork+Performance</td>\n",
       "      <td>https://www.coursera.org/learn/high-performing...</td>\n",
       "      <td>Building High-Performing Teams</td>\n",
       "      <td>University of Pennsylvania</td>\n",
       "      <td>4.8</td>\n",
       "      <td>(302 reviews)</td>\n",
       "      <td>Beginner level 1</td>\n",
       "      <td>1 - 3 Months</td>\n",
       "      <td>[Collaboration, Communication, Emotional Intel...</td>\n",
       "    </tr>\n",
       "    <tr>\n",
       "      <th>3584</th>\n",
       "      <td>Teamwork+Performance</td>\n",
       "      <td>https://www.coursera.org/learn/leading-teams-b...</td>\n",
       "      <td>Leading Teams: Building Effective Team Cultures</td>\n",
       "      <td>University of Illinois at Urbana-Champaign</td>\n",
       "      <td>4.8</td>\n",
       "      <td>(2.2k reviews)</td>\n",
       "      <td>Intermediate level 1</td>\n",
       "      <td>1 - 3 Months</td>\n",
       "      <td>[Adaptability, Business Psychology, Communicat...</td>\n",
       "    </tr>\n",
       "    <tr>\n",
       "      <th>3585</th>\n",
       "      <td>Teamwork+Performance</td>\n",
       "      <td>https://www.coursera.org/learn/cloud-computing...</td>\n",
       "      <td>Cloud Computing Foundations</td>\n",
       "      <td>Duke University</td>\n",
       "      <td>4.6</td>\n",
       "      <td>(201 reviews)</td>\n",
       "      <td>Beginner level 1</td>\n",
       "      <td>1 - 3 Months</td>\n",
       "      <td>[Cloud Computing, DevOps, Continuous Delivery,...</td>\n",
       "    </tr>\n",
       "    <tr>\n",
       "      <th>3586</th>\n",
       "      <td>Teamwork+Performance</td>\n",
       "      <td>https://www.coursera.org/learn/management-skil...</td>\n",
       "      <td>Management Skills for International Business</td>\n",
       "      <td>University of London</td>\n",
       "      <td>4.7</td>\n",
       "      <td>(649 reviews)</td>\n",
       "      <td>Mixed level 1</td>\n",
       "      <td>1 - 4 Weeks</td>\n",
       "      <td>[Business Psychology, Entrepreneurship, Human ...</td>\n",
       "    </tr>\n",
       "  </tbody>\n",
       "</table>\n",
       "<p>3587 rows × 9 columns</p>\n",
       "</div>"
      ],
      "text/plain": [
       "                 metric(s)                                                URL  \\\n",
       "0              Performance  https://www.coursera.org/projects/create-perfo...   \n",
       "1              Performance  https://www.coursera.org/learn/quantitative-fo...   \n",
       "2              Performance  https://www.coursera.org/projects/baking-light...   \n",
       "3              Performance  https://www.coursera.org/projects/googlecloud-...   \n",
       "4              Performance  https://www.coursera.org/learn/app-deployment-...   \n",
       "...                    ...                                                ...   \n",
       "3582  Teamwork+Performance            https://www.coursera.org/learn/feedback   \n",
       "3583  Teamwork+Performance  https://www.coursera.org/learn/high-performing...   \n",
       "3584  Teamwork+Performance  https://www.coursera.org/learn/leading-teams-b...   \n",
       "3585  Teamwork+Performance  https://www.coursera.org/learn/cloud-computing...   \n",
       "3586  Teamwork+Performance  https://www.coursera.org/learn/management-skil...   \n",
       "\n",
       "                                                  Title  \\\n",
       "0           Create a Performance Summary using SnapEval   \n",
       "1     Quantitative Formal Modeling and Worst-Case Pe...   \n",
       "2         Baking Lights for Better Performance in Unity   \n",
       "3              Optimizing Performance of LookML Queries   \n",
       "4     App Deployment, Debugging, and Performance en ...   \n",
       "...                                                 ...   \n",
       "3582                            Giving Helpful Feedback   \n",
       "3583                     Building High-Performing Teams   \n",
       "3584    Leading Teams: Building Effective Team Cultures   \n",
       "3585                        Cloud Computing Foundations   \n",
       "3586       Management Skills for International Business   \n",
       "\n",
       "                                         Trainer rate   evaluation nbr  \\\n",
       "0                       Coursera Project Network  4.4     (42 reviews)   \n",
       "1                                   EIT Digital   4.7  (23.7k reviews)   \n",
       "2                       Coursera Project Network  4.5  (15.4k reviews)   \n",
       "3                                   Google Cloud  4.8  (16.3k reviews)   \n",
       "4                                   Google Cloud  4.5  (10.4k reviews)   \n",
       "...                                          ...  ...              ...   \n",
       "3582              University of Colorado Boulder  4.8   (1.3k reviews)   \n",
       "3583                  University of Pennsylvania  4.8    (302 reviews)   \n",
       "3584  University of Illinois at Urbana-Champaign  4.8   (2.2k reviews)   \n",
       "3585                             Duke University  4.6    (201 reviews)   \n",
       "3586                        University of London  4.7    (649 reviews)   \n",
       "\n",
       "                        level           duration  \\\n",
       "0     Intermediate level Less  Less Than 2 Hours   \n",
       "1               Mixed level 1       1 - 3 Months   \n",
       "2         Beginner level Less  Less Than 2 Hours   \n",
       "3     Intermediate level Less  Less Than 2 Hours   \n",
       "4        Intermediate level 1        1 - 4 Weeks   \n",
       "...                       ...                ...   \n",
       "3582            Mixed level 1       1 - 3 Months   \n",
       "3583         Beginner level 1       1 - 3 Months   \n",
       "3584     Intermediate level 1       1 - 3 Months   \n",
       "3585         Beginner level 1       1 - 3 Months   \n",
       "3586            Mixed level 1        1 - 4 Weeks   \n",
       "\n",
       "                                    aquired competences  \n",
       "0                                                        \n",
       "1                                                        \n",
       "2                             [Application Development]  \n",
       "3                [Data Analysis, Google Cloud Platform]  \n",
       "4                                                        \n",
       "...                                                 ...  \n",
       "3582  [Business Psychology, Entrepreneurship, Human ...  \n",
       "3583  [Collaboration, Communication, Emotional Intel...  \n",
       "3584  [Adaptability, Business Psychology, Communicat...  \n",
       "3585  [Cloud Computing, DevOps, Continuous Delivery,...  \n",
       "3586  [Business Psychology, Entrepreneurship, Human ...  \n",
       "\n",
       "[3587 rows x 9 columns]"
      ]
     },
     "execution_count": 32,
     "metadata": {},
     "output_type": "execute_result"
    }
   ],
   "source": [
    "Main"
   ]
  },
  {
   "cell_type": "code",
   "execution_count": null,
   "id": "e372e6fe",
   "metadata": {},
   "outputs": [],
   "source": []
  },
  {
   "cell_type": "markdown",
   "id": "7ab2dd5c",
   "metadata": {},
   "source": [
    "# manual number page:"
   ]
  },
  {
   "cell_type": "code",
   "execution_count": null,
   "id": "bdf74930",
   "metadata": {},
   "outputs": [],
   "source": [
    "# Your existing code here...\n",
    "\n",
    "#this to collect more data \n",
    "# Modify the loop to extract data and append it to the DataFrame\n",
    "for j in tqdm(skills_list):\n",
    "    print(\"_________________\"+j+\"_____________\")\n",
    "    CourseURL=[]\n",
    "    course_url = \"https://www.coursera.org/search?query=\" + j + \"&page=1&=null\"\n",
    "    print(course_url)\n",
    "    response = requests.get(course_url)\n",
    "    soup = BeautifulSoup(response.content, \"html.parser\")\n",
    "    ul_element = soup.find(\"ul\", class_=\"cds-9 css-18msmec cds-10\")\n",
    "    div_elements = ul_element.find_all(\"div\", class_=\"css-1cj5od\")\n",
    "    ally = ul_element.find_all(\"div\", class_=\"product-reviews css-pn23ng\")\n",
    "\n",
    "    # Use zip() to iterate over both div_elements and ally lists together\n",
    "    for element, review_element in zip(div_elements, ally):\n",
    "        href = element.a.get(\"href\")\n",
    "        school = element.find(\"span\", class_=\"cds-119 css-1mru19s cds-121\").get_text()\n",
    "        title = element.find(\"h2\", class_=\"cds-119 css-h1jogs cds-121\").get_text()\n",
    "        reviews = review_element.find('p', class_='cds-119 css-dmxkm1 cds-121').get_text()\n",
    "        rating = review_element.find('p', class_='cds-119 css-11uuo4b cds-121').get_text()\n",
    "        level =  ' '.join(element.a.get(\"aria-label\").split()[-6:-3])\n",
    "        duration = ' '.join(element.a.get(\"aria-label\").split()[-4:])\n",
    "        print(duration)\n",
    "        competence= element.find(\"p\", class_=\"cds-119 css-12ksubz cds-121\").get_text().replace(\"Skills you'll gain: \", \"\").split(', ') if element.find(\"p\", class_=\"cds-119 css-12ksubz cds-121\") else \"\"\n",
    "        # Assuming you have other metrics, level, duration, etc., you can extract them similarly\n",
    "        # Append the data to the DataFrame\n",
    "        Main = Main.append({\n",
    "            'metric(s)': j,\n",
    "            'URL': \"https://www.coursera.org\" + href,\n",
    "            'Title': title,\n",
    "            'Trainer': school,\n",
    "            'rate': rating,\n",
    "            'evaluation nbr': reviews,\n",
    "            # Add other data for level, duration, etc.\n",
    "            'level': level,\n",
    "            'duration': duration,\n",
    "            'aquired competences': competence\n",
    "        }, ignore_index=True)\n"
   ]
  },
  {
   "cell_type": "code",
   "execution_count": null,
   "id": "1b1b81ca",
   "metadata": {},
   "outputs": [],
   "source": [
    "skills_list"
   ]
  },
  {
   "cell_type": "markdown",
   "id": "a6343e0c",
   "metadata": {},
   "source": [
    "# Manual skills"
   ]
  },
  {
   "cell_type": "code",
   "execution_count": null,
   "id": "196aff12",
   "metadata": {},
   "outputs": [],
   "source": []
  },
  {
   "cell_type": "code",
   "execution_count": 28,
   "id": "9833e6a7",
   "metadata": {},
   "outputs": [
    {
     "name": "stdout",
     "output_type": "stream",
     "text": [
      "_________________Performance_____________\n",
      "https://www.coursera.org/search?query=Performance&page=1&=null\n",
      "Less Than 2 Hours\n",
      "3 - 6 Months\n",
      "3 - 6 Months\n",
      "1 - 4 Weeks\n",
      "1 - 4 Weeks\n",
      "1 - 4 Weeks\n",
      "Less Than 2 Hours\n",
      "1 - 3 Months\n",
      "1 - 3 Months\n",
      "1 - 3 Months\n",
      "1 - 3 Months\n",
      "https://www.coursera.org/search?query=Performance&page=2&=null\n",
      "https://www.coursera.org/search?query=Performance&page=3&=null\n",
      "https://www.coursera.org/search?query=Performance&page=4&=null\n",
      "https://www.coursera.org/search?query=Performance&page=5&=null\n",
      "3 - 6 Months\n",
      "3 - 6 Months\n",
      "3 - 6 Months\n",
      "1 - 4 Weeks\n",
      "3 - 6 Months\n",
      "3 - 6 Months\n",
      "3 - 6 Months\n",
      "3 - 6 Months\n",
      "1 - 3 Months\n",
      "3 - 6 Months\n",
      "1 - 3 Months\n",
      "3 - 6 Months\n",
      "https://www.coursera.org/search?query=Performance&page=6&=null\n",
      "https://www.coursera.org/search?query=Performance&page=7&=null\n",
      "1 - 3 Months\n",
      "1 - 3 Months\n",
      "1 - 4 Weeks\n",
      "3 - 6 Months\n",
      "3 - 6 Months\n",
      "3 - 6 Months\n",
      "3 - 6 Months\n",
      "1 - 3 Months\n",
      "1 - 4 Weeks\n",
      "3 - 6 Months\n",
      "1 - 4 Weeks\n",
      "3 - 6 Months\n",
      "https://www.coursera.org/search?query=Performance&page=8&=null\n",
      "3 - 6 Months\n",
      "1 - 4 Weeks\n",
      "1 - 3 Months\n",
      "1 - 4 Weeks\n",
      "1 - 4 Weeks\n",
      "3 - 6 Months\n",
      "3 - 6 Months\n",
      "3 - 6 Months\n",
      "1 - 3 Months\n",
      "1 - 3 Months\n",
      "1 - 4 Weeks\n",
      "1 - 3 Months\n",
      "https://www.coursera.org/search?query=Performance&page=9&=null\n",
      "https://www.coursera.org/search?query=Performance&page=10&=null\n",
      "1 - 4 Weeks\n",
      "1 - 3 Months\n",
      "1 - 4 Weeks\n",
      "1 - 4 Weeks\n",
      "1 - 4 Weeks\n",
      "1 - 3 Months\n",
      "1 - 4 Weeks\n",
      "1 - 3 Months\n",
      "1 - 4 Weeks\n",
      "1 - 4 Weeks\n",
      "1 - 3 Months\n",
      "1 - 4 Weeks\n"
     ]
    }
   ],
   "source": [
    "j=\"Performance\"\n",
    "print(\"_________________\"+j+\"_____________\")\n",
    "CourseURL=[]\n",
    "for k in range(1, 11):\n",
    "    course_url = \"https://www.coursera.org/search?query=\" + j + \"&page=\" + str(k) + \"&=null\"\n",
    "    print(course_url)\n",
    "    response = requests.get(course_url)\n",
    "    soup = BeautifulSoup(response.content, \"html.parser\")\n",
    "    ul_element = soup.find(\"ul\", class_=\"cds-9 css-18msmec cds-10\")\n",
    "\n",
    "    div_elements = ul_element.find_all(\"div\", class_=\"css-1ek61wr\")\n",
    "    ally = ul_element.find_all(\"div\", class_=\"product-reviews css-pn23ng\")\n",
    "    # Use zip() to iterate over both div_elements and ally lists together\n",
    "    for element, review_element in zip(div_elements, ally):\n",
    "        href = element.a.get(\"href\")\n",
    "        school = element.find(\"span\", class_=\"cds-119 css-1mru19s cds-121\").get_text()\n",
    "        title = element.find(\"h2\", class_=\"cds-119 css-h1jogs cds-121\").get_text()\n",
    "        reviews = review_element.find('p', class_='cds-119 css-dmxkm1 cds-121').get_text()\n",
    "        rating = review_element.find('p', class_='cds-119 css-11uuo4b cds-121').get_text()\n",
    "        level =  ' '.join(element.a.get(\"aria-label\").split()[-6:-3])\n",
    "        duration = ' '.join(element.a.get(\"aria-label\").split()[-4:])\n",
    "        print(duration)\n",
    "        competence= element.find(\"p\", class_=\"cds-119 css-12ksubz cds-121\").get_text().replace(\"Skills you'll gain: \", \"\").split(', ') if element.find(\"p\", class_=\"cds-119 css-12ksubz cds-121\") else \"\"\n",
    "        # Assuming you have other metrics, level, duration, etc., you can extract them similarly\n",
    "        # Append the data to the DataFrame\n",
    "        Main = Main.append({\n",
    "            'metric(s)': j,\n",
    "            'URL': \"https://www.coursera.org\" + href,\n",
    "            'Title': title,\n",
    "            'Trainer': school,\n",
    "            'rate': rating,\n",
    "            'evaluation nbr': reviews,\n",
    "            # Add other data for level, duration, etc.\n",
    "            'level': level,\n",
    "            'duration': duration,\n",
    "            'aquired competences': competence\n",
    "        }, ignore_index=True)"
   ]
  },
  {
   "cell_type": "code",
   "execution_count": null,
   "id": "d19955be",
   "metadata": {},
   "outputs": [],
   "source": []
  },
  {
   "cell_type": "markdown",
   "id": "098cba5b",
   "metadata": {},
   "source": [
    "# "
   ]
  },
  {
   "cell_type": "code",
   "execution_count": 13,
   "id": "5008b7f1",
   "metadata": {},
   "outputs": [
    {
     "data": {
      "text/html": [
       "<div>\n",
       "<style scoped>\n",
       "    .dataframe tbody tr th:only-of-type {\n",
       "        vertical-align: middle;\n",
       "    }\n",
       "\n",
       "    .dataframe tbody tr th {\n",
       "        vertical-align: top;\n",
       "    }\n",
       "\n",
       "    .dataframe thead th {\n",
       "        text-align: right;\n",
       "    }\n",
       "</style>\n",
       "<table border=\"1\" class=\"dataframe\">\n",
       "  <thead>\n",
       "    <tr style=\"text-align: right;\">\n",
       "      <th></th>\n",
       "      <th>metric(s)</th>\n",
       "      <th>URL</th>\n",
       "      <th>Title</th>\n",
       "      <th>Trainer</th>\n",
       "      <th>rate</th>\n",
       "      <th>evaluation nbr</th>\n",
       "      <th>level</th>\n",
       "      <th>duration</th>\n",
       "      <th>aquired competences</th>\n",
       "    </tr>\n",
       "  </thead>\n",
       "  <tbody>\n",
       "    <tr>\n",
       "      <th>0</th>\n",
       "      <td>Leadership</td>\n",
       "      <td>https://www.coursera.org/projects/creating-a-p...</td>\n",
       "      <td>Creating a Product-Market Fit with Value Propo...</td>\n",
       "      <td>Coursera Project Network</td>\n",
       "      <td>4.1</td>\n",
       "      <td>(10 reviews)</td>\n",
       "      <td>Intermediate level Less</td>\n",
       "      <td>Less Than 2 Hours</td>\n",
       "      <td>[Design and Product, Entrepreneurship, Finance...</td>\n",
       "    </tr>\n",
       "    <tr>\n",
       "      <th>1</th>\n",
       "      <td>Leadership</td>\n",
       "      <td>https://www.coursera.org/specializations/leade...</td>\n",
       "      <td>Leadership: An Introduction</td>\n",
       "      <td>Johns Hopkins University</td>\n",
       "      <td>4.5</td>\n",
       "      <td>(12 reviews)</td>\n",
       "      <td>Beginner level 3</td>\n",
       "      <td>3 - 6 Months</td>\n",
       "      <td>[Leadership and Management, Creativity, Resear...</td>\n",
       "    </tr>\n",
       "    <tr>\n",
       "      <th>2</th>\n",
       "      <td>Leadership</td>\n",
       "      <td>https://www.coursera.org/learn/negotiation</td>\n",
       "      <td>Introduction to Negotiation: A Strategic Playb...</td>\n",
       "      <td>Yale University</td>\n",
       "      <td>4.9</td>\n",
       "      <td>(4.6k reviews)</td>\n",
       "      <td>Mixed level 1</td>\n",
       "      <td>1 - 3 Months</td>\n",
       "      <td>[Communication, Marketing, Negotiation, Sales,...</td>\n",
       "    </tr>\n",
       "    <tr>\n",
       "      <th>3</th>\n",
       "      <td>Leadership</td>\n",
       "      <td>https://www.coursera.org/learn/people-management</td>\n",
       "      <td>The Manager's Toolkit: A Practical Guide to Ma...</td>\n",
       "      <td>University of London</td>\n",
       "      <td>4.7</td>\n",
       "      <td>(3.5k reviews)</td>\n",
       "      <td>Mixed level 1</td>\n",
       "      <td>1 - 3 Months</td>\n",
       "      <td>[Human Resources, Leadership and Management, P...</td>\n",
       "    </tr>\n",
       "    <tr>\n",
       "      <th>4</th>\n",
       "      <td>Leadership</td>\n",
       "      <td>https://www.coursera.org/learn/leadership-and-...</td>\n",
       "      <td>Leadership and Disruption</td>\n",
       "      <td>Fundação Instituto de Administração</td>\n",
       "      <td>4.8</td>\n",
       "      <td>(136 reviews)</td>\n",
       "      <td>Beginner level 1</td>\n",
       "      <td>1 - 4 Weeks</td>\n",
       "      <td>[Communication, Human Resources, Leadership De...</td>\n",
       "    </tr>\n",
       "    <tr>\n",
       "      <th>...</th>\n",
       "      <td>...</td>\n",
       "      <td>...</td>\n",
       "      <td>...</td>\n",
       "      <td>...</td>\n",
       "      <td>...</td>\n",
       "      <td>...</td>\n",
       "      <td>...</td>\n",
       "      <td>...</td>\n",
       "      <td>...</td>\n",
       "    </tr>\n",
       "    <tr>\n",
       "      <th>1548</th>\n",
       "      <td>Creativity+Trust</td>\n",
       "      <td>https://www.coursera.org/learn/writing-editing...</td>\n",
       "      <td>Writing and Editing: Word Choice and Word Order</td>\n",
       "      <td>University of Michigan</td>\n",
       "      <td>4.8</td>\n",
       "      <td>(1.3k reviews)</td>\n",
       "      <td>Beginner level 1</td>\n",
       "      <td>1 - 4 Weeks</td>\n",
       "      <td>[Communication, Leadership and Management, Pro...</td>\n",
       "    </tr>\n",
       "    <tr>\n",
       "      <th>1549</th>\n",
       "      <td>Creativity+Trust</td>\n",
       "      <td>https://www.coursera.org/learn/collaborative-f...</td>\n",
       "      <td>Collaborative Foresight: How to Game the Future</td>\n",
       "      <td>Institute for the Future</td>\n",
       "      <td>5.0</td>\n",
       "      <td>(11 reviews)</td>\n",
       "      <td>Beginner level 1</td>\n",
       "      <td>1 - 3 Months</td>\n",
       "      <td>[Forecasting, Probability &amp; Statistics, Collab...</td>\n",
       "    </tr>\n",
       "    <tr>\n",
       "      <th>1550</th>\n",
       "      <td>Creativity+Trust</td>\n",
       "      <td>https://www.coursera.org/learn/modpo</td>\n",
       "      <td>Modern &amp; Contemporary American Poetry (“ModPo”)</td>\n",
       "      <td>University of Pennsylvania</td>\n",
       "      <td>4.7</td>\n",
       "      <td>(978 reviews)</td>\n",
       "      <td>Beginner level 3</td>\n",
       "      <td>3 - 6 Months</td>\n",
       "      <td>[Business Analysis, Communication, Creativity,...</td>\n",
       "    </tr>\n",
       "    <tr>\n",
       "      <th>1551</th>\n",
       "      <td>Creativity+Trust</td>\n",
       "      <td>https://www.coursera.org/learn/feedback</td>\n",
       "      <td>Giving Helpful Feedback</td>\n",
       "      <td>University of Colorado Boulder</td>\n",
       "      <td>4.7</td>\n",
       "      <td>(787 reviews)</td>\n",
       "      <td>Mixed level 1</td>\n",
       "      <td>1 - 3 Months</td>\n",
       "      <td>[Business Psychology, Entrepreneurship, Human ...</td>\n",
       "    </tr>\n",
       "    <tr>\n",
       "      <th>1552</th>\n",
       "      <td>Creativity+Trust</td>\n",
       "      <td>https://www.coursera.org/learn/linguistic-dive...</td>\n",
       "      <td>Linguistic Diversity, What for?</td>\n",
       "      <td>Universitat Autònoma de Barcelona</td>\n",
       "      <td>4.6</td>\n",
       "      <td>(804 reviews)</td>\n",
       "      <td>Beginner level 1</td>\n",
       "      <td>1 - 3 Months</td>\n",
       "      <td>[Communication, Computer Graphics, Human Compu...</td>\n",
       "    </tr>\n",
       "  </tbody>\n",
       "</table>\n",
       "<p>1553 rows × 9 columns</p>\n",
       "</div>"
      ],
      "text/plain": [
       "             metric(s)                                                URL  \\\n",
       "0           Leadership  https://www.coursera.org/projects/creating-a-p...   \n",
       "1           Leadership  https://www.coursera.org/specializations/leade...   \n",
       "2           Leadership         https://www.coursera.org/learn/negotiation   \n",
       "3           Leadership   https://www.coursera.org/learn/people-management   \n",
       "4           Leadership  https://www.coursera.org/learn/leadership-and-...   \n",
       "...                ...                                                ...   \n",
       "1548  Creativity+Trust  https://www.coursera.org/learn/writing-editing...   \n",
       "1549  Creativity+Trust  https://www.coursera.org/learn/collaborative-f...   \n",
       "1550  Creativity+Trust               https://www.coursera.org/learn/modpo   \n",
       "1551  Creativity+Trust            https://www.coursera.org/learn/feedback   \n",
       "1552  Creativity+Trust  https://www.coursera.org/learn/linguistic-dive...   \n",
       "\n",
       "                                                  Title  \\\n",
       "0     Creating a Product-Market Fit with Value Propo...   \n",
       "1                           Leadership: An Introduction   \n",
       "2     Introduction to Negotiation: A Strategic Playb...   \n",
       "3     The Manager's Toolkit: A Practical Guide to Ma...   \n",
       "4                             Leadership and Disruption   \n",
       "...                                                 ...   \n",
       "1548    Writing and Editing: Word Choice and Word Order   \n",
       "1549    Collaborative Foresight: How to Game the Future   \n",
       "1550    Modern & Contemporary American Poetry (“ModPo”)   \n",
       "1551                            Giving Helpful Feedback   \n",
       "1552                    Linguistic Diversity, What for?   \n",
       "\n",
       "                                  Trainer rate  evaluation nbr  \\\n",
       "0                Coursera Project Network  4.1    (10 reviews)   \n",
       "1                Johns Hopkins University  4.5    (12 reviews)   \n",
       "2                         Yale University  4.9  (4.6k reviews)   \n",
       "3                    University of London  4.7  (3.5k reviews)   \n",
       "4     Fundação Instituto de Administração  4.8   (136 reviews)   \n",
       "...                                   ...  ...             ...   \n",
       "1548               University of Michigan  4.8  (1.3k reviews)   \n",
       "1549             Institute for the Future  5.0    (11 reviews)   \n",
       "1550           University of Pennsylvania  4.7   (978 reviews)   \n",
       "1551       University of Colorado Boulder  4.7   (787 reviews)   \n",
       "1552    Universitat Autònoma de Barcelona  4.6   (804 reviews)   \n",
       "\n",
       "                        level           duration  \\\n",
       "0     Intermediate level Less  Less Than 2 Hours   \n",
       "1            Beginner level 3       3 - 6 Months   \n",
       "2               Mixed level 1       1 - 3 Months   \n",
       "3               Mixed level 1       1 - 3 Months   \n",
       "4            Beginner level 1        1 - 4 Weeks   \n",
       "...                       ...                ...   \n",
       "1548         Beginner level 1        1 - 4 Weeks   \n",
       "1549         Beginner level 1       1 - 3 Months   \n",
       "1550         Beginner level 3       3 - 6 Months   \n",
       "1551            Mixed level 1       1 - 3 Months   \n",
       "1552         Beginner level 1       1 - 3 Months   \n",
       "\n",
       "                                    aquired competences  \n",
       "0     [Design and Product, Entrepreneurship, Finance...  \n",
       "1     [Leadership and Management, Creativity, Resear...  \n",
       "2     [Communication, Marketing, Negotiation, Sales,...  \n",
       "3     [Human Resources, Leadership and Management, P...  \n",
       "4     [Communication, Human Resources, Leadership De...  \n",
       "...                                                 ...  \n",
       "1548  [Communication, Leadership and Management, Pro...  \n",
       "1549  [Forecasting, Probability & Statistics, Collab...  \n",
       "1550  [Business Analysis, Communication, Creativity,...  \n",
       "1551  [Business Psychology, Entrepreneurship, Human ...  \n",
       "1552  [Communication, Computer Graphics, Human Compu...  \n",
       "\n",
       "[1553 rows x 9 columns]"
      ]
     },
     "execution_count": 13,
     "metadata": {},
     "output_type": "execute_result"
    }
   ],
   "source": [
    "Main"
   ]
  },
  {
   "cell_type": "code",
   "execution_count": 33,
   "id": "e3a89527",
   "metadata": {},
   "outputs": [
    {
     "data": {
      "text/plain": [
       "Performance                  287\n",
       "Creativity                   279\n",
       "Leadership+Creativity        270\n",
       "Leadership+Performance       238\n",
       "Leadership                   211\n",
       "Leadership+Trust             210\n",
       "Leadership+Communication     209\n",
       "Respect                      207\n",
       "Trust                        184\n",
       "Communication                172\n",
       "Leadership+Respect           165\n",
       "Communication+Performance    161\n",
       "Communication+Trust          161\n",
       "Creativity+Communication     142\n",
       "Leadership+Teamwork          118\n",
       "Teamwork                     115\n",
       "Communication+Respect        109\n",
       "Creativity+Performance        78\n",
       "Teamwork+Communication        70\n",
       "Trust+Performance             42\n",
       "Teamwork+Performance          32\n",
       "Creativity+Teamwork           31\n",
       "Creativity+Respect            30\n",
       "Trust+Respect                 28\n",
       "Teamwork+Trust                19\n",
       "Creativity+Trust              12\n",
       "Respect+Performance            7\n",
       "Name: metric(s), dtype: int64"
      ]
     },
     "execution_count": 33,
     "metadata": {},
     "output_type": "execute_result"
    }
   ],
   "source": [
    "Main['metric(s)'].value_counts()"
   ]
  },
  {
   "cell_type": "code",
   "execution_count": 34,
   "id": "501ec7bf",
   "metadata": {},
   "outputs": [],
   "source": [
    "Main.drop_duplicates(subset=['URL', \"metric(s)\"] , inplace=True)"
   ]
  },
  {
   "cell_type": "code",
   "execution_count": 35,
   "id": "07ba9735",
   "metadata": {},
   "outputs": [
    {
     "data": {
      "text/plain": [
       "Creativity                   113\n",
       "Leadership+Creativity        113\n",
       "Leadership+Performance       110\n",
       "Leadership+Trust             109\n",
       "Performance                  107\n",
       "Communication+Performance    102\n",
       "Leadership+Communication     102\n",
       "Respect                       99\n",
       "Creativity+Communication      96\n",
       "Leadership                    90\n",
       "Trust                         86\n",
       "Leadership+Respect            83\n",
       "Communication                 82\n",
       "Communication+Trust           73\n",
       "Communication+Respect         56\n",
       "Leadership+Teamwork           45\n",
       "Teamwork+Communication        45\n",
       "Teamwork                      44\n",
       "Creativity+Performance        36\n",
       "Trust+Performance             31\n",
       "Trust+Respect                 16\n",
       "Teamwork+Performance          16\n",
       "Creativity+Teamwork           14\n",
       "Creativity+Trust              12\n",
       "Creativity+Respect            10\n",
       "Teamwork+Trust                 9\n",
       "Respect+Performance            7\n",
       "Name: metric(s), dtype: int64"
      ]
     },
     "execution_count": 35,
     "metadata": {},
     "output_type": "execute_result"
    }
   ],
   "source": [
    "Main['metric(s)'].value_counts()"
   ]
  },
  {
   "cell_type": "code",
   "execution_count": 36,
   "id": "07a684aa",
   "metadata": {},
   "outputs": [],
   "source": [
    "Main.sort_values(by='metric(s)', inplace=True)"
   ]
  },
  {
   "cell_type": "code",
   "execution_count": 37,
   "id": "9834a8cd",
   "metadata": {},
   "outputs": [
    {
     "data": {
      "text/plain": [
       "['Application Development']"
      ]
     },
     "execution_count": 37,
     "metadata": {},
     "output_type": "execute_result"
    }
   ],
   "source": [
    "Main.loc[2][\"aquired competences\"]"
   ]
  },
  {
   "cell_type": "code",
   "execution_count": 38,
   "id": "a348e639",
   "metadata": {},
   "outputs": [],
   "source": [
    "LevelC=Main['level'].value_counts()"
   ]
  },
  {
   "cell_type": "code",
   "execution_count": 39,
   "id": "f113dedb",
   "metadata": {},
   "outputs": [
    {
     "data": {
      "text/plain": [
       "Beginner level 1                627\n",
       "Mixed level 1                   351\n",
       "Beginner level 3                311\n",
       "Intermediate level 1            153\n",
       "Intermediate level 3             85\n",
       "Beginner level Less              47\n",
       "Intermediate level Less          44\n",
       "Advanced level 1                 35\n",
       "Advanced level 3                 18\n",
       "Mixed level 3                    11\n",
       "& Statistics, Algorithms          4\n",
       "Finance etc... 6                  4\n",
       "Business Psychology, Culture      3\n",
       "HEC Paris, 6                      2\n",
       "University of London,             2\n",
       "Design etc... 6                   2\n",
       "Operations etc... 6               2\n",
       "Marketing etc... 6                2\n",
       "Advanced level Less               1\n",
       "Regression etc... 6               1\n",
       "Royal Holloway, 24                1\n",
       "Name: level, dtype: int64"
      ]
     },
     "execution_count": 39,
     "metadata": {},
     "output_type": "execute_result"
    }
   ],
   "source": [
    "LevelC"
   ]
  },
  {
   "cell_type": "code",
   "execution_count": 40,
   "id": "bb218b96",
   "metadata": {},
   "outputs": [],
   "source": [
    "Main = Main[Main['level'].map(LevelC) >= 6]"
   ]
  },
  {
   "cell_type": "code",
   "execution_count": 41,
   "id": "44173d44",
   "metadata": {},
   "outputs": [
    {
     "data": {
      "text/plain": [
       "Beginner level 1           627\n",
       "Mixed level 1              351\n",
       "Beginner level 3           311\n",
       "Intermediate level 1       153\n",
       "Intermediate level 3        85\n",
       "Beginner level Less         47\n",
       "Intermediate level Less     44\n",
       "Advanced level 1            35\n",
       "Advanced level 3            18\n",
       "Mixed level 3               11\n",
       "Name: level, dtype: int64"
      ]
     },
     "execution_count": 41,
     "metadata": {},
     "output_type": "execute_result"
    }
   ],
   "source": [
    "Main['level'].value_counts()"
   ]
  },
  {
   "cell_type": "code",
   "execution_count": 42,
   "id": "7167b05e",
   "metadata": {},
   "outputs": [
    {
     "data": {
      "text/plain": [
       "Creativity                   113\n",
       "Leadership+Creativity        111\n",
       "Leadership+Performance       108\n",
       "Leadership+Trust             108\n",
       "Performance                  107\n",
       "Communication+Performance    102\n",
       "Respect                       99\n",
       "Leadership+Communication      99\n",
       "Creativity+Communication      95\n",
       "Leadership                    87\n",
       "Trust                         84\n",
       "Leadership+Respect            83\n",
       "Communication                 82\n",
       "Communication+Trust           73\n",
       "Communication+Respect         56\n",
       "Teamwork+Communication        45\n",
       "Leadership+Teamwork           41\n",
       "Teamwork                      41\n",
       "Creativity+Performance        36\n",
       "Trust+Performance             31\n",
       "Trust+Respect                 16\n",
       "Creativity+Teamwork           14\n",
       "Teamwork+Performance          14\n",
       "Creativity+Trust              12\n",
       "Creativity+Respect             9\n",
       "Teamwork+Trust                 9\n",
       "Respect+Performance            7\n",
       "Name: metric(s), dtype: int64"
      ]
     },
     "execution_count": 42,
     "metadata": {},
     "output_type": "execute_result"
    }
   ],
   "source": [
    "Main['metric(s)'].value_counts()"
   ]
  },
  {
   "cell_type": "code",
   "execution_count": 43,
   "id": "cb7b197d",
   "metadata": {},
   "outputs": [
    {
     "data": {
      "text/plain": [
       "4.8    529\n",
       "4.7    451\n",
       "4.6    282\n",
       "4.5    129\n",
       "4.9    103\n",
       "4.4     76\n",
       "4.3     45\n",
       "4.2     17\n",
       "5.0     15\n",
       "4.1      9\n",
       "3.9      6\n",
       "3.3      5\n",
       "3.8      5\n",
       "4.0      4\n",
       "3.7      3\n",
       "3.0      1\n",
       "3.1      1\n",
       "3.6      1\n",
       "Name: rate, dtype: int64"
      ]
     },
     "execution_count": 43,
     "metadata": {},
     "output_type": "execute_result"
    }
   ],
   "source": [
    "Main['rate'].value_counts()"
   ]
  },
  {
   "cell_type": "code",
   "execution_count": 44,
   "id": "04582d3b",
   "metadata": {},
   "outputs": [],
   "source": [
    "Main.to_excel(\"main.xlsx\", index=False)"
   ]
  },
  {
   "cell_type": "code",
   "execution_count": 46,
   "id": "fbe70b7f",
   "metadata": {},
   "outputs": [
    {
     "name": "stdout",
     "output_type": "stream",
     "text": [
      "Rows with empty strings or any form of empty values have been dropped.\n"
     ]
    }
   ],
   "source": [
    "Mainemp = Main.applymap(lambda x: x.strip() if isinstance(x, str) else x)\n",
    "\n",
    "# Replace empty strings with NaN\n",
    "Mainemp.replace(\"\", float(\"nan\"), inplace=True)\n",
    "\n",
    "# Check for any NaN values in the DataFrame\n",
    "has_empty_values = Mainemp.isnull().any().any()\n",
    "\n",
    "if has_empty_values:\n",
    "    # Drop rows containing any form of empty values (empty strings or NaNs)\n",
    "    Mainemp.dropna(subset=Mainemp.columns[Mainemp.dtypes == object], how='all', inplace=True)\n",
    "    print(\"Rows with empty strings or any form of empty values have been dropped.\")\n",
    "else:\n",
    "    print(\"No empty strings or any form of empty values found in the 'Main' DataFrame.\")\n"
   ]
  },
  {
   "cell_type": "code",
   "execution_count": 53,
   "id": "4c6d708b",
   "metadata": {},
   "outputs": [],
   "source": [
    "Main = Mainemp.applymap(lambda x: x.strip() if isinstance(x, str) else x)\n",
    "\n",
    "# Drop rows containing any NaN values in the DataFrame\n",
    "Main.dropna(subset=Main.columns[Main.dtypes == object], how='any', inplace=True)\n"
   ]
  },
  {
   "cell_type": "code",
   "execution_count": 57,
   "id": "ad3fc1b2",
   "metadata": {},
   "outputs": [],
   "source": [
    "Main= Main.reset_index(drop=True)"
   ]
  },
  {
   "cell_type": "code",
   "execution_count": 58,
   "id": "d356242c",
   "metadata": {},
   "outputs": [
    {
     "data": {
      "text/html": [
       "<div>\n",
       "<style scoped>\n",
       "    .dataframe tbody tr th:only-of-type {\n",
       "        vertical-align: middle;\n",
       "    }\n",
       "\n",
       "    .dataframe tbody tr th {\n",
       "        vertical-align: top;\n",
       "    }\n",
       "\n",
       "    .dataframe thead th {\n",
       "        text-align: right;\n",
       "    }\n",
       "</style>\n",
       "<table border=\"1\" class=\"dataframe\">\n",
       "  <thead>\n",
       "    <tr style=\"text-align: right;\">\n",
       "      <th></th>\n",
       "      <th>metric(s)</th>\n",
       "      <th>URL</th>\n",
       "      <th>Title</th>\n",
       "      <th>Trainer</th>\n",
       "      <th>rate</th>\n",
       "      <th>evaluation nbr</th>\n",
       "      <th>level</th>\n",
       "      <th>duration</th>\n",
       "      <th>aquired competences</th>\n",
       "    </tr>\n",
       "  </thead>\n",
       "  <tbody>\n",
       "    <tr>\n",
       "      <th>0</th>\n",
       "      <td>Communication</td>\n",
       "      <td>https://www.coursera.org/learn/cross-cultural-...</td>\n",
       "      <td>Business English for Cross-cultural Communication</td>\n",
       "      <td>The Hong Kong University of Science and Techno...</td>\n",
       "      <td>4.7</td>\n",
       "      <td>(374 reviews)</td>\n",
       "      <td>Mixed level 1</td>\n",
       "      <td>1 - 3 Months</td>\n",
       "      <td>[Business Communication, Business Psychology, ...</td>\n",
       "    </tr>\n",
       "    <tr>\n",
       "      <th>1</th>\n",
       "      <td>Communication</td>\n",
       "      <td>https://www.coursera.org/learn/finding-your-pr...</td>\n",
       "      <td>Finding Your Professional Voice: Confidence &amp; ...</td>\n",
       "      <td>University of London</td>\n",
       "      <td>4.8</td>\n",
       "      <td>(101 reviews)</td>\n",
       "      <td>Beginner level 1</td>\n",
       "      <td>1 - 4 Weeks</td>\n",
       "      <td>[Communication, Entrepreneurship, Leadership a...</td>\n",
       "    </tr>\n",
       "    <tr>\n",
       "      <th>2</th>\n",
       "      <td>Communication</td>\n",
       "      <td>https://www.coursera.org/learn/wharton-communi...</td>\n",
       "      <td>Improving Communication Skills</td>\n",
       "      <td>University of Pennsylvania</td>\n",
       "      <td>4.7</td>\n",
       "      <td>(1.9k reviews)</td>\n",
       "      <td>Beginner level 1</td>\n",
       "      <td>1 - 4 Weeks</td>\n",
       "      <td>[Communication, Employee Relations, Human Reso...</td>\n",
       "    </tr>\n",
       "    <tr>\n",
       "      <th>3</th>\n",
       "      <td>Communication</td>\n",
       "      <td>https://www.coursera.org/specializations/bayes...</td>\n",
       "      <td>Bayesian Statistics</td>\n",
       "      <td>University of California, Santa Cruz</td>\n",
       "      <td>4.6</td>\n",
       "      <td>(3.4k reviews)</td>\n",
       "      <td>Intermediate level 3</td>\n",
       "      <td>3 - 6 Months</td>\n",
       "      <td>[Probability &amp; Statistics, Bayesian Statistics...</td>\n",
       "    </tr>\n",
       "    <tr>\n",
       "      <th>4</th>\n",
       "      <td>Communication</td>\n",
       "      <td>https://www.coursera.org/professional-certific...</td>\n",
       "      <td>IBM Data Engineering</td>\n",
       "      <td>IBM</td>\n",
       "      <td>4.6</td>\n",
       "      <td>(43.9k reviews)</td>\n",
       "      <td>Beginner level 3</td>\n",
       "      <td>3 - 6 Months</td>\n",
       "      <td>[Data Management, Databases, Data Structures, ...</td>\n",
       "    </tr>\n",
       "    <tr>\n",
       "      <th>...</th>\n",
       "      <td>...</td>\n",
       "      <td>...</td>\n",
       "      <td>...</td>\n",
       "      <td>...</td>\n",
       "      <td>...</td>\n",
       "      <td>...</td>\n",
       "      <td>...</td>\n",
       "      <td>...</td>\n",
       "      <td>...</td>\n",
       "    </tr>\n",
       "    <tr>\n",
       "      <th>1583</th>\n",
       "      <td>Trust+Respect</td>\n",
       "      <td>https://www.coursera.org/learn/how-to-network</td>\n",
       "      <td>How to Network: Leading Yourself to Lead Others</td>\n",
       "      <td>University of Michigan</td>\n",
       "      <td>4.5</td>\n",
       "      <td>(8 reviews)</td>\n",
       "      <td>Mixed level 1</td>\n",
       "      <td>1 - 4 Weeks</td>\n",
       "      <td>[Leadership and Management, Entrepreneurship, ...</td>\n",
       "    </tr>\n",
       "    <tr>\n",
       "      <th>1584</th>\n",
       "      <td>Trust+Respect</td>\n",
       "      <td>https://www.coursera.org/learn/foundations-of-...</td>\n",
       "      <td>Foundations of Career Navigating and Coaching</td>\n",
       "      <td>Goodwill Industries International</td>\n",
       "      <td>4.7</td>\n",
       "      <td>(53 reviews)</td>\n",
       "      <td>Beginner level 1</td>\n",
       "      <td>1 - 4 Weeks</td>\n",
       "      <td>[Leadership and Management, Business Psycholog...</td>\n",
       "    </tr>\n",
       "    <tr>\n",
       "      <th>1585</th>\n",
       "      <td>Trust+Respect</td>\n",
       "      <td>https://www.coursera.org/learn/new-technologie...</td>\n",
       "      <td>New Technologies for Business Leaders</td>\n",
       "      <td>Rutgers the State University of New Jersey</td>\n",
       "      <td>4.4</td>\n",
       "      <td>(367 reviews)</td>\n",
       "      <td>Intermediate level 1</td>\n",
       "      <td>1 - 3 Months</td>\n",
       "      <td>[Change Management, Leadership and Management,...</td>\n",
       "    </tr>\n",
       "    <tr>\n",
       "      <th>1586</th>\n",
       "      <td>Trust+Respect</td>\n",
       "      <td>https://www.coursera.org/learn/teaching-learning</td>\n",
       "      <td>Foundations of Teaching for Learning: Learners...</td>\n",
       "      <td>Commonwealth Education Trust</td>\n",
       "      <td>4.6</td>\n",
       "      <td>(169 reviews)</td>\n",
       "      <td>Mixed level 1</td>\n",
       "      <td>1 - 3 Months</td>\n",
       "      <td>[Business Psychology, Communication, Entrepren...</td>\n",
       "    </tr>\n",
       "    <tr>\n",
       "      <th>1587</th>\n",
       "      <td>Trust+Respect</td>\n",
       "      <td>https://www.coursera.org/learn/covid-vaccine-a...</td>\n",
       "      <td>COVID Vaccine Ambassador Training: How to Talk...</td>\n",
       "      <td>Johns Hopkins University</td>\n",
       "      <td>4.9</td>\n",
       "      <td>(1.2k reviews)</td>\n",
       "      <td>Beginner level 1</td>\n",
       "      <td>1 - 3 Months</td>\n",
       "      <td>[Communication, Marketing, Social Media, Epide...</td>\n",
       "    </tr>\n",
       "  </tbody>\n",
       "</table>\n",
       "<p>1588 rows × 9 columns</p>\n",
       "</div>"
      ],
      "text/plain": [
       "          metric(s)                                                URL  \\\n",
       "0     Communication  https://www.coursera.org/learn/cross-cultural-...   \n",
       "1     Communication  https://www.coursera.org/learn/finding-your-pr...   \n",
       "2     Communication  https://www.coursera.org/learn/wharton-communi...   \n",
       "3     Communication  https://www.coursera.org/specializations/bayes...   \n",
       "4     Communication  https://www.coursera.org/professional-certific...   \n",
       "...             ...                                                ...   \n",
       "1583  Trust+Respect      https://www.coursera.org/learn/how-to-network   \n",
       "1584  Trust+Respect  https://www.coursera.org/learn/foundations-of-...   \n",
       "1585  Trust+Respect  https://www.coursera.org/learn/new-technologie...   \n",
       "1586  Trust+Respect   https://www.coursera.org/learn/teaching-learning   \n",
       "1587  Trust+Respect  https://www.coursera.org/learn/covid-vaccine-a...   \n",
       "\n",
       "                                                  Title  \\\n",
       "0     Business English for Cross-cultural Communication   \n",
       "1     Finding Your Professional Voice: Confidence & ...   \n",
       "2                        Improving Communication Skills   \n",
       "3                                   Bayesian Statistics   \n",
       "4                                  IBM Data Engineering   \n",
       "...                                                 ...   \n",
       "1583    How to Network: Leading Yourself to Lead Others   \n",
       "1584      Foundations of Career Navigating and Coaching   \n",
       "1585              New Technologies for Business Leaders   \n",
       "1586  Foundations of Teaching for Learning: Learners...   \n",
       "1587  COVID Vaccine Ambassador Training: How to Talk...   \n",
       "\n",
       "                                                Trainer rate   evaluation nbr  \\\n",
       "0     The Hong Kong University of Science and Techno...  4.7    (374 reviews)   \n",
       "1                                  University of London  4.8    (101 reviews)   \n",
       "2                            University of Pennsylvania  4.7   (1.9k reviews)   \n",
       "3                  University of California, Santa Cruz  4.6   (3.4k reviews)   \n",
       "4                                                   IBM  4.6  (43.9k reviews)   \n",
       "...                                                 ...  ...              ...   \n",
       "1583                             University of Michigan  4.5      (8 reviews)   \n",
       "1584                  Goodwill Industries International  4.7     (53 reviews)   \n",
       "1585         Rutgers the State University of New Jersey  4.4    (367 reviews)   \n",
       "1586                       Commonwealth Education Trust  4.6    (169 reviews)   \n",
       "1587                           Johns Hopkins University  4.9   (1.2k reviews)   \n",
       "\n",
       "                     level      duration  \\\n",
       "0            Mixed level 1  1 - 3 Months   \n",
       "1         Beginner level 1   1 - 4 Weeks   \n",
       "2         Beginner level 1   1 - 4 Weeks   \n",
       "3     Intermediate level 3  3 - 6 Months   \n",
       "4         Beginner level 3  3 - 6 Months   \n",
       "...                    ...           ...   \n",
       "1583         Mixed level 1   1 - 4 Weeks   \n",
       "1584      Beginner level 1   1 - 4 Weeks   \n",
       "1585  Intermediate level 1  1 - 3 Months   \n",
       "1586         Mixed level 1  1 - 3 Months   \n",
       "1587      Beginner level 1  1 - 3 Months   \n",
       "\n",
       "                                    aquired competences  \n",
       "0     [Business Communication, Business Psychology, ...  \n",
       "1     [Communication, Entrepreneurship, Leadership a...  \n",
       "2     [Communication, Employee Relations, Human Reso...  \n",
       "3     [Probability & Statistics, Bayesian Statistics...  \n",
       "4     [Data Management, Databases, Data Structures, ...  \n",
       "...                                                 ...  \n",
       "1583  [Leadership and Management, Entrepreneurship, ...  \n",
       "1584  [Leadership and Management, Business Psycholog...  \n",
       "1585  [Change Management, Leadership and Management,...  \n",
       "1586  [Business Psychology, Communication, Entrepren...  \n",
       "1587  [Communication, Marketing, Social Media, Epide...  \n",
       "\n",
       "[1588 rows x 9 columns]"
      ]
     },
     "execution_count": 58,
     "metadata": {},
     "output_type": "execute_result"
    }
   ],
   "source": [
    "Main"
   ]
  },
  {
   "cell_type": "code",
   "execution_count": 59,
   "id": "b3b2bd64",
   "metadata": {},
   "outputs": [],
   "source": [
    "has_empty_strings = (Main == \"\").any().any()"
   ]
  },
  {
   "cell_type": "code",
   "execution_count": 60,
   "id": "24437422",
   "metadata": {},
   "outputs": [
    {
     "data": {
      "text/plain": [
       "False"
      ]
     },
     "execution_count": 60,
     "metadata": {},
     "output_type": "execute_result"
    }
   ],
   "source": [
    "has_empty_strings"
   ]
  },
  {
   "cell_type": "markdown",
   "id": "de610cf5",
   "metadata": {},
   "source": [
    "# "
   ]
  },
  {
   "cell_type": "markdown",
   "id": "c539cac6",
   "metadata": {},
   "source": [
    "# "
   ]
  },
  {
   "cell_type": "code",
   "execution_count": null,
   "id": "ff206174",
   "metadata": {},
   "outputs": [],
   "source": []
  },
  {
   "cell_type": "code",
   "execution_count": 61,
   "id": "128cf97c",
   "metadata": {},
   "outputs": [
    {
     "name": "stdout",
     "output_type": "stream",
     "text": [
      "Unique values in 'metric(s)':\n",
      "'['Communication' 'Communication+Performance' 'Communication+Respect'\n",
      " 'Communication+Trust' 'Creativity' 'Creativity+Communication'\n",
      " 'Creativity+Performance' 'Creativity+Respect' 'Creativity+Teamwork'\n",
      " 'Creativity+Trust' 'Leadership' 'Leadership+Communication'\n",
      " 'Leadership+Creativity' 'Leadership+Performance' 'Leadership+Respect'\n",
      " 'Leadership+Teamwork' 'Leadership+Trust' 'Performance' 'Respect'\n",
      " 'Respect+Performance' 'Teamwork' 'Teamwork+Communication'\n",
      " 'Teamwork+Performance' 'Teamwork+Trust' 'Trust' 'Trust+Performance'\n",
      " 'Trust+Respect']'\n",
      "Unique values in 'URL':\n",
      "'['https://www.coursera.org/learn/cross-cultural-communication-business'\n",
      " 'https://www.coursera.org/learn/finding-your-professional-voice'\n",
      " 'https://www.coursera.org/learn/wharton-communication-skills'\n",
      " 'https://www.coursera.org/specializations/bayesian-statistics'\n",
      " 'https://www.coursera.org/professional-certificates/ibm-data-engineer'\n",
      " 'https://www.coursera.org/professional-certificates/meta-front-end-developer'\n",
      " 'https://www.coursera.org/professional-certificates/facebook-marketing-analytics'\n",
      " 'https://www.coursera.org/professional-certificates/analise-de-dados-do-google'\n",
      " 'https://www.coursera.org/specializations/business-introduction'\n",
      " 'https://www.coursera.org/professional-certificates/google-cybersecurity'\n",
      " 'https://www.coursera.org/professional-certificates/ux-design-do-google'\n",
      " 'https://www.coursera.org/specializations/our-responses-climate-change'\n",
      " 'https://www.coursera.org/specializations/getting-started-with-google-workspace'\n",
      " 'https://www.coursera.org/specializations/blockchain-revolution-enterprise'\n",
      " 'https://www.coursera.org/professional-certificates/google-business-intelligence'\n",
      " 'https://www.coursera.org/learn/human-needs'\n",
      " 'https://www.coursera.org/specializations/digital-marketing-strategy-planning'\n",
      " 'https://www.coursera.org/specializations/marketing-digital'\n",
      " 'https://www.coursera.org/learn/communication-as-a-technical-leader'\n",
      " 'https://www.coursera.org/learn/disaster-crisis-emergency-preparedness-communication'\n",
      " 'https://www.coursera.org/learn/english-communication-capstone'\n",
      " 'https://www.coursera.org/learn/emotional-intelligence-cultivating-immensely-human-interactions'\n",
      " 'https://www.coursera.org/learn/communicate-with-impact'\n",
      " 'https://www.coursera.org/specializations/improve-english'\n",
      " 'https://www.coursera.org/specializations/effective-business-communication'\n",
      " 'https://www.coursera.org/specializations/communicationforeveryone'\n",
      " 'https://www.coursera.org/specializations/effective-communication'\n",
      " 'https://www.coursera.org/specializations/influencing-storytelling-change-management'\n",
      " 'https://www.coursera.org/specializations/managementconsulting'\n",
      " 'https://www.coursera.org/professional-certificates/google-project-management-de'\n",
      " 'https://www.coursera.org/specializations/data-visualization'\n",
      " 'https://www.coursera.org/specializations/fundraising-development'\n",
      " 'https://www.coursera.org/specializations/good-with-words-speaking-and-presenting'\n",
      " 'https://www.coursera.org/learn/communication'\n",
      " 'https://www.coursera.org/learn/project-management-communication-stakeholders-and-leadership'\n",
      " 'https://www.coursera.org/learn/designing-effective-science-communication'\n",
      " 'https://www.coursera.org/learn/communication-strategies-virtual-age'\n",
      " 'https://www.coursera.org/learn/spanish-in-healthcare-settings'\n",
      " 'https://www.coursera.org/professional-certificates/google-it-support'\n",
      " 'https://www.coursera.org/projects/program-management-communications-planning'\n",
      " 'https://www.coursera.org/projects/automating-team-commmunication-with-google-sheets-and-apps-script'\n",
      " 'https://www.coursera.org/learn/iot-communications-networks'\n",
      " 'https://www.coursera.org/learn/effective-communication-in-the-globalised-workplace'\n",
      " 'https://www.coursera.org/learn/negotiation-skills-and-effective-communication'\n",
      " 'https://www.coursera.org/learn/iot-communications'\n",
      " 'https://www.coursera.org/learn/interpersonal-communication'\n",
      " 'https://www.coursera.org/professional-certificates/google-digital-marketing-ecommerce'\n",
      " 'https://www.coursera.org/learn/negotiation'\n",
      " 'https://www.coursera.org/learn/cross-cultural-communication-management'\n",
      " 'https://www.coursera.org/specializations/introduction-to-public-relations-and-the-media'\n",
      " 'https://www.coursera.org/learn/think-outside-the-inbox'\n",
      " 'https://www.coursera.org/professional-certificates/google-project-management'\n",
      " 'https://www.coursera.org/specializations/business-english'\n",
      " 'https://www.coursera.org/learn/english-for-working-together-in-business'\n",
      " 'https://www.coursera.org/projects/build-device-messaging-and-communication-in-azure-iot-hub'\n",
      " 'https://www.coursera.org/projects/improve-gmail-communication'\n",
      " 'https://www.coursera.org/specializations/business-data-management-communication'\n",
      " 'https://www.coursera.org/learn/effective-communication-capstone'\n",
      " 'https://www.coursera.org/learn/communication-skills'\n",
      " 'https://www.coursera.org/learn/persuasive-communication'\n",
      " 'https://www.coursera.org/learn/oral-communication'\n",
      " 'https://www.coursera.org/learn/analytics-tableau'\n",
      " 'https://www.coursera.org/professional-certificates/facebook-social-media-marketing'\n",
      " 'https://www.coursera.org/specializations/professional-skills-for-the-workplace'\n",
      " 'https://www.coursera.org/specializations/foundational-finance'\n",
      " 'https://www.coursera.org/professional-certificates/google-advanced-data-analytics'\n",
      " 'https://www.coursera.org/specializations/human-resource-management'\n",
      " 'https://www.coursera.org/specializations/mba'\n",
      " 'https://www.coursera.org/specializations/organizational-leadership-in-diversity-equity-and-inclusion'\n",
      " 'https://www.coursera.org/specializations/microsoft-365-fundamentals'\n",
      " 'https://www.coursera.org/professional-certificates/meta-database-engineer'\n",
      " 'https://www.coursera.org/specializations/digital-marketing'\n",
      " 'https://www.coursera.org/specializations/strategic-leadership'\n",
      " 'https://www.coursera.org/specializations/business-analytics'\n",
      " 'https://www.coursera.org/learn/social-media-marketing-introduction'\n",
      " 'https://www.coursera.org/learn/principles-of-management'\n",
      " 'https://www.coursera.org/specializations/trading-strategy'\n",
      " 'https://www.coursera.org/specializations/six-sigma-fundamentals'\n",
      " 'https://www.coursera.org/professional-certificates/sre-devops-engineer-google-cloud'\n",
      " 'https://www.coursera.org/specializations/leading-teams'\n",
      " 'https://www.coursera.org/specializations/modern-contemporary-art-design'\n",
      " 'https://www.coursera.org/learn/conduct-ux-research'\n",
      " 'https://www.coursera.org/learn/instructional-design-foundations-applications'\n",
      " 'https://www.coursera.org/learn/okr'\n",
      " 'https://www.coursera.org/specializations/six-sigma-black-belt'\n",
      " 'https://www.coursera.org/specializations/music-education'\n",
      " 'https://www.coursera.org/specializations/meem-project-management'\n",
      " 'https://www.coursera.org/specializations/strategic-management'\n",
      " 'https://www.coursera.org/learn/the-path-to-insights-data-models-and-pipelines'\n",
      " 'https://www.coursera.org/learn/wharton-customer-analytics'\n",
      " 'https://www.coursera.org/learn/supply-chain-principles'\n",
      " 'https://www.coursera.org/professional-certificates/azure-developer-associate'\n",
      " 'https://www.coursera.org/learn/customer-service-fundamentals'\n",
      " 'https://www.coursera.org/specializations/machine-learning-reinforcement-finance'\n",
      " 'https://www.coursera.org/specializations/organizational-leadership'\n",
      " 'https://www.coursera.org/specializations/value-based-care'\n",
      " 'https://www.coursera.org/specializations/practical-data-science'\n",
      " 'https://www.coursera.org/specializations/technical-communication'\n",
      " 'https://www.coursera.org/specializations/materiality-esg-factors'\n",
      " 'https://www.coursera.org/learn/ai-and-public-health'\n",
      " 'https://www.coursera.org/specializations/machine-learning-engineering-for-production-mlops'\n",
      " 'https://www.coursera.org/learn/generative-ai-with-llms'\n",
      " 'https://www.coursera.org/learn/coaching-expectations-performance'\n",
      " 'https://www.coursera.org/learn/optimize-machine-learning-model-performance'\n",
      " 'https://www.coursera.org/specializations/wharton-business-foundations'\n",
      " 'https://www.coursera.org/learn/leadership-collaboration'\n",
      " 'https://www.coursera.org/learn/leadershipskills'\n",
      " 'https://www.coursera.org/learn/negotiation-skills'\n",
      " 'https://www.coursera.org/learn/construction-project-management'\n",
      " 'https://www.coursera.org/learn/process-mining'\n",
      " 'https://www.coursera.org/learn/richard-schechners-introduction-to-performance-studies'\n",
      " 'https://www.coursera.org/learn/social-media-management'\n",
      " 'https://www.coursera.org/specializations/leverage-data-science-agile-supply-chain'\n",
      " 'https://www.coursera.org/learn/corporate-commercial-law-part1'\n",
      " 'https://www.coursera.org/learn/managing-human-resources'\n",
      " 'https://www.coursera.org/learn/leadership-21st-century'\n",
      " 'https://www.coursera.org/learn/business-sustainability-circular-economy'\n",
      " 'https://www.coursera.org/specializations/value-chain-management'\n",
      " 'https://www.coursera.org/learn/wharton-people-analytics'\n",
      " 'https://www.coursera.org/learn/remote-team-management'\n",
      " 'https://www.coursera.org/learn/writing-for-business'\n",
      " 'https://www.coursera.org/specializations/principles-of-leadership-leading-technical-teams'\n",
      " 'https://www.coursera.org/learn/digital-media-health-outcomes-english'\n",
      " 'https://www.coursera.org/learn/project-management-foundations-initiation'\n",
      " 'https://www.coursera.org/specializations/patient-safety'\n",
      " 'https://www.coursera.org/learn/speak-english-professionally'\n",
      " 'https://www.coursera.org/specializations/aerospace'\n",
      " 'https://www.coursera.org/learn/business-writing-english'\n",
      " 'https://www.coursera.org/learn/tesol-speaking'\n",
      " 'https://www.coursera.org/specializations/english-a2-b1-low-intermediate'\n",
      " 'https://www.coursera.org/learn/presentation-skills'\n",
      " 'https://www.coursera.org/learn/skills-management'\n",
      " 'https://www.coursera.org/learn/professional-skills-networking'\n",
      " 'https://www.coursera.org/specializations/machine-learning-introduction'\n",
      " 'https://www.coursera.org/learn/organizational-behavior'\n",
      " 'https://www.coursera.org/learn/esg-risks-opportunities'\n",
      " 'https://www.coursera.org/learn/regression-analysis-simplify-complex-data-relationships'\n",
      " 'https://www.coursera.org/specializations/sales-management-bridging-gap-strategy-sales'\n",
      " 'https://www.coursera.org/learn/tensorflow-sequences-time-series-and-prediction'\n",
      " 'https://www.coursera.org/learn/decisions-decisions-dashboards-and-reports'\n",
      " 'https://www.coursera.org/specializations/strategic-leadership-impact-change-decision-making'\n",
      " 'https://www.coursera.org/specializations/team-building'\n",
      " 'https://www.coursera.org/learn/unsupervised-learning-recommenders-reinforcement-learning'\n",
      " 'https://www.coursera.org/learn/machine-learning-modeling-pipelines-in-production'\n",
      " 'https://www.coursera.org/learn/reporting-extra-financier-strategie-rse'\n",
      " 'https://www.coursera.org/learn/applied-computational-fluid-dynamics'\n",
      " 'https://www.coursera.org/learn/estrategia-marketing-digital'\n",
      " 'https://www.coursera.org/learn/home-care'\n",
      " 'https://www.coursera.org/specializations/become-an-emt'\n",
      " 'https://www.coursera.org/specializations/coaching-skills-manager'\n",
      " 'https://www.coursera.org/specializations/autodesk-generative-design-manufacturing'\n",
      " 'https://www.coursera.org/learn/statistical-thinking-applied-statistics'\n",
      " 'https://www.coursera.org/learn/influencer-marketing-strategy'\n",
      " 'https://www.coursera.org/learn/intro-self-driving-cars'\n",
      " 'https://www.coursera.org/specializations/data-driven-decision-making'\n",
      " 'https://www.coursera.org/learn/supply-chain-management'\n",
      " 'https://www.coursera.org/learn/change-management'\n",
      " 'https://www.coursera.org/learn/introduction-to-large-language-models'\n",
      " 'https://www.coursera.org/learn/motivate-people-teams'\n",
      " 'https://www.coursera.org/specializations/nonprofit'\n",
      " 'https://www.coursera.org/specializations/power-system-generation-transmission-and-protection'\n",
      " 'https://www.coursera.org/learn/technical-support-fundamentals-pt-pt'\n",
      " 'https://www.coursera.org/learn/leading-organizations'\n",
      " 'https://www.coursera.org/learn/introduction-to-academic-writing'\n",
      " 'https://www.coursera.org/professional-certificates/meta-android-developer'\n",
      " 'https://www.coursera.org/professional-certificates/meta-ios-developer'\n",
      " 'https://www.coursera.org/learn/ecological-and-energetical-transitions-in-southern-countries'\n",
      " 'https://www.coursera.org/learn/guanli-lingdao-yingyu'\n",
      " 'https://www.coursera.org/learn/diversity-leadership-for-everyone'\n",
      " 'https://www.coursera.org/learn/importance-power-music-our-society'\n",
      " 'https://www.coursera.org/learn/speaking-and-presenting-tact'\n",
      " 'https://www.coursera.org/learn/everyday-excel-projects'\n",
      " 'https://www.coursera.org/learn/writing-your-world'\n",
      " 'https://www.coursera.org/learn/lean-software-development'\n",
      " 'https://www.coursera.org/learn/management-leadership-english'\n",
      " 'https://www.coursera.org/learn/ingles-empresarial-gestion-liderazgo'\n",
      " 'https://www.coursera.org/learn/abc-sustainability'\n",
      " 'https://www.coursera.org/learn/global-quality-maternal-and-newborn-care'\n",
      " 'https://www.coursera.org/learn/interpersonal-skills'\n",
      " 'https://www.coursera.org/learn/how-to-network'\n",
      " 'https://www.coursera.org/specializations/software-development-lifecycle'\n",
      " 'https://www.coursera.org/learn/inclusiveleadership'\n",
      " 'https://www.coursera.org/learn/being-a-teacher'\n",
      " 'https://www.coursera.org/learn/art-and-science-of-economic-policy'\n",
      " 'https://www.coursera.org/learn/sdgbusiness'\n",
      " 'https://www.coursera.org/learn/teaching-learning'\n",
      " 'https://www.coursera.org/learn/gender-based-violence'\n",
      " 'https://www.coursera.org/specializations/telesalud-telemedicina'\n",
      " 'https://www.coursera.org/learn/formadores-ciudadania'\n",
      " 'https://www.coursera.org/learn/gestion-del-talento'\n",
      " 'https://www.coursera.org/learn/thoracic-oncology'\n",
      " 'https://www.coursera.org/learn/llevar-a-cabo-investigaciones-en-ux'\n",
      " 'https://www.coursera.org/learn/alfabetizacao-midiatica'\n",
      " 'https://www.coursera.org/learn/abc-sostenibilidad'\n",
      " 'https://www.coursera.org/professional-certificates/google-it-pt2'\n",
      " 'https://www.coursera.org/learn/violence-against-healthcare'\n",
      " 'https://www.coursera.org/learn/hi-five-clinical'\n",
      " 'https://www.coursera.org/learn/foundations-of-career-navigating-and-coaching'\n",
      " 'https://www.coursera.org/learn/negotiation-fundamentals'\n",
      " 'https://www.coursera.org/learn/cybersecurity-policy-aviation-internet'\n",
      " 'https://www.coursera.org/learn/speaking-and-presenting-pitches-persuasion'\n",
      " 'https://www.coursera.org/learn/nanotechnology1'\n",
      " 'https://www.coursera.org/learn/fondamentaux-negociation'\n",
      " 'https://www.coursera.org/learn/gestion-de-proyectos-con-la-metodologia-agile'\n",
      " 'https://www.coursera.org/learn/health-society-and-wellness-in-covid-19-times'\n",
      " 'https://www.coursera.org/learn/compartir-datos-a-traves-del-arte-de-la-visualizacion'\n",
      " 'https://www.coursera.org/learn/finanzas-basicas'\n",
      " 'https://www.coursera.org/learn/craft-of-style'\n",
      " 'https://www.coursera.org/learn/leading-change-health-informatics'\n",
      " 'https://www.coursera.org/learn/training-and-learning-online'\n",
      " 'https://www.coursera.org/learn/gathering-the-news'\n",
      " 'https://www.coursera.org/learn/ethical-communication-data-driven-technologies'\n",
      " 'https://www.coursera.org/learn/leaders'\n",
      " 'https://www.coursera.org/learn/interacting-with-customers'\n",
      " 'https://www.coursera.org/learn/deliver-the-news'\n",
      " 'https://www.coursera.org/learn/stepping-up-leading-others'\n",
      " 'https://www.coursera.org/learn/effective-engagement'\n",
      " 'https://www.coursera.org/learn/covid-vaccine-ambassador'\n",
      " 'https://www.coursera.org/learn/healthcare-delivery-in-healthcare-organizations'\n",
      " 'https://www.coursera.org/learn/salud-mental-y-atencion-psicosocial'\n",
      " 'https://www.coursera.org/learn/leading-teams'\n",
      " 'https://www.coursera.org/learn/communicating-trustworthy-information-in-the-digital-world'\n",
      " 'https://www.coursera.org/learn/leading-standout-teams-course-5'\n",
      " 'https://www.coursera.org/learn/hkuepidemics'\n",
      " 'https://www.coursera.org/learn/leadership-challenge'\n",
      " 'https://www.coursera.org/learn/wharton-online-negotiations'\n",
      " 'https://www.coursera.org/learn/health-equity-research'\n",
      " 'https://www.coursera.org/learn/uva-darden-design-thinking-social-sector'\n",
      " 'https://www.coursera.org/specializations/leadership-out-of-the-box'\n",
      " 'https://www.coursera.org/learn/-network-security'\n",
      " 'https://www.coursera.org/learn/leading-teams-developing-as-a-leader'\n",
      " 'https://www.coursera.org/learn/writing-for-children'\n",
      " 'https://www.coursera.org/learn/northeastern-data-privacy'\n",
      " 'https://www.coursera.org/learn/leadership-skills'\n",
      " 'https://www.coursera.org/learn/intellectual-humility-practice'\n",
      " 'https://www.coursera.org/specializations/content-strategy'\n",
      " 'https://www.coursera.org/learn/ml-models-human-in-the-loop-pipelines'\n",
      " 'https://www.coursera.org/learn/high-stakes-leadership'\n",
      " 'https://www.coursera.org/learn/feedback'\n",
      " 'https://www.coursera.org/learn/sustainability-csr-scandinavia'\n",
      " 'https://www.coursera.org/learn/writing-editing-words'\n",
      " 'https://www.coursera.org/specializations/leading-standout-teams'\n",
      " 'https://www.coursera.org/learn/leadership-interprofessional-informatics'\n",
      " 'https://www.coursera.org/learn/cybersecuritymanagement'\n",
      " 'https://www.coursera.org/projects/departure-personal-statement-interviews'\n",
      " 'https://www.coursera.org/learn/developing-agile-team'\n",
      " 'https://www.coursera.org/learn/content-management-strategy'\n",
      " 'https://www.coursera.org/learn/sscp-4th-ed-course-4'\n",
      " 'https://www.coursera.org/learn/engagement-strategy'\n",
      " 'https://www.coursera.org/learn/personal-essay'\n",
      " 'https://www.coursera.org/learn/salud-mental-y-atencion-comunitaria'\n",
      " 'https://www.coursera.org/learn/emt-foundations'\n",
      " 'https://www.coursera.org/learn/news-literacy'\n",
      " 'https://www.coursera.org/learn/dementia-healthcare'\n",
      " 'https://www.coursera.org/learn/the-cycle'\n",
      " 'https://www.coursera.org/professional-certificates/certified-ethical-emerging-technologist'\n",
      " 'https://www.coursera.org/learn/empowering-yourself-post-truth-world'\n",
      " 'https://www.coursera.org/learn/children-literacy'\n",
      " 'https://www.coursera.org/learn/systems-mindset'\n",
      " 'https://www.coursera.org/learn/leadership-storytelling'\n",
      " 'https://www.coursera.org/professional-certificates/goodwill-career-coach-and-navigator'\n",
      " 'https://www.coursera.org/specializations/social-media-marketing'\n",
      " 'https://www.coursera.org/learn/a-new-communication-framework-for-healthcare'\n",
      " 'https://www.coursera.org/learn/entreprendre-culture'\n",
      " 'https://www.coursera.org/specializations/journey-of-the-universe'\n",
      " 'https://www.coursera.org/learn/blackness-architecture'\n",
      " 'https://www.coursera.org/specializations/music-production'\n",
      " 'https://www.coursera.org/learn/teaching-early-home-based-childhood'\n",
      " 'https://www.coursera.org/specializations/graphic-design'\n",
      " 'https://www.coursera.org/learn/natural-creativity'\n",
      " 'https://www.coursera.org/learn/artificial-creativity'\n",
      " 'https://www.coursera.org/specializations/innovation-creativity-entrepreneurship'\n",
      " 'https://www.coursera.org/learn/innovation-management'\n",
      " 'https://www.coursera.org/projects/create-eye-catching-logos-using-canva-for-an-ebrand'\n",
      " 'https://www.coursera.org/specializations/positivepsychology'\n",
      " 'https://www.coursera.org/learn/nature-of-genius'\n",
      " 'https://www.coursera.org/specializations/storying-the-self-for-leadership-and-creativity'\n",
      " 'https://www.coursera.org/learn/intimacy-creativity-entering-minds-composers'\n",
      " 'https://www.coursera.org/learn/organizational-innovation-and-creativity'\n",
      " 'https://www.coursera.org/projects/student-creative-learning-buncee'\n",
      " 'https://www.coursera.org/learn/indigenous-canada'\n",
      " 'https://www.coursera.org/specializations/leading-modern-day-business'\n",
      " 'https://www.coursera.org/learn/transmedia-writing'\n",
      " 'https://www.coursera.org/learn/navigate-music-industry-independent-artist'\n",
      " 'https://www.coursera.org/specializations/good-with-words'\n",
      " 'https://www.coursera.org/specializations/wharton-global-business-strategy'\n",
      " 'https://www.coursera.org/specializations/branding-the-creative-journey'\n",
      " 'https://www.coursera.org/specializations/transforming-fashion-business'\n",
      " 'https://www.coursera.org/specializations/music-business'\n",
      " 'https://www.coursera.org/specializations/songwriting'\n",
      " 'https://www.coursera.org/specializations/game-design-and-development'\n",
      " 'https://www.coursera.org/specializations/futures-thinking'\n",
      " 'https://www.coursera.org/specializations/user-interface-design'\n",
      " 'https://www.coursera.org/learn/positive-psychology-visionary-science'\n",
      " 'https://www.coursera.org/specializations/social-media-marketing-practice'\n",
      " 'https://www.coursera.org/specializations/uncommon-sense-teaching-certificate'\n",
      " 'https://www.coursera.org/specializations/start-your-own-business'\n",
      " 'https://www.coursera.org/learn/healing-with-the-arts'\n",
      " 'https://www.coursera.org/specializations/esports'\n",
      " 'https://www.coursera.org/specializations/legal-aspects-of-entrepreneurship'\n",
      " 'https://www.coursera.org/learn/startup-entrepreneurship-discovering-ideas'\n",
      " 'https://www.coursera.org/learn/classical-composition'\n",
      " 'https://www.coursera.org/learn/social-entrepreneurship-getting-started'\n",
      " 'https://www.coursera.org/specializations/desarrollo-nuevas-empresas'\n",
      " 'https://www.coursera.org/learn/innovation-creativity-entrepreneurship-capstone'\n",
      " 'https://www.coursera.org/learn/creativity-toolkit-2'\n",
      " 'https://www.coursera.org/learn/creativity-toolkit-1'\n",
      " 'https://www.coursera.org/learn/healthcarejobs'\n",
      " 'https://www.coursera.org/learn/image-making'\n",
      " 'https://www.coursera.org/specializations/fandom-popular-culture-digital-age'\n",
      " 'https://www.coursera.org/learn/introduction-to-futures-thinking'\n",
      " 'https://www.coursera.org/learn/photography'\n",
      " 'https://www.coursera.org/learn/teachingscience'\n",
      " 'https://www.coursera.org/specializations/startup-entrepreneurship'\n",
      " 'https://www.coursera.org/specializations/decisionmakingforeveryone'\n",
      " 'https://www.coursera.org/learn/creative-problem-solving'\n",
      " 'https://www.coursera.org/learn/ignite-creativity'\n",
      " 'https://www.coursera.org/specializations/creativity-ai'\n",
      " 'https://www.coursera.org/learn/creativity-innovation'\n",
      " 'https://www.coursera.org/learn/creative-thinking-techniques-and-tools-for-success'\n",
      " 'https://www.coursera.org/learn/designing-learning-innovation'\n",
      " 'https://www.coursera.org/learn/why-smart-executives-fail'\n",
      " 'https://www.coursera.org/learn/script-writing'\n",
      " 'https://www.coursera.org/learn/uva-darden-design-thinking-innovation'\n",
      " 'https://www.coursera.org/specializations/gender-analytics'\n",
      " 'https://www.coursera.org/learn/enfant-developpement'\n",
      " 'https://www.coursera.org/learn/write-a-feature-length-screenplay-for-film-or-television'\n",
      " 'https://www.coursera.org/specializations/home-based-child-care'\n",
      " 'https://www.coursera.org/learn/modern-art-ideas'\n",
      " 'https://www.coursera.org/learn/write-your-first-novel'\n",
      " 'https://www.coursera.org/specializations/english-interview-resume'\n",
      " 'https://www.coursera.org/specializations/inspirational-leadership'\n",
      " 'https://www.coursera.org/learn/design-strategy'\n",
      " 'https://www.coursera.org/specializations/singer-songwriter'\n",
      " 'https://www.coursera.org/learn/ideas'\n",
      " 'https://www.coursera.org/specializations/professional-success-skills'\n",
      " 'https://www.coursera.org/learn/innovacion-educativa'\n",
      " 'https://www.coursera.org/learn/teamwork-and-creativity'\n",
      " 'https://www.coursera.org/learn/start-your-own-business-2-ideation'\n",
      " 'https://www.coursera.org/learn/producing-music'\n",
      " 'https://www.coursera.org/learn/strategic-foresight'\n",
      " 'https://www.coursera.org/specializations/inteligencia-artificial'\n",
      " 'https://www.coursera.org/specializations/web3-blockchain-global-commerce'\n",
      " 'https://www.coursera.org/specializations/technology-management'\n",
      " 'https://www.coursera.org/specializations/3d-printing-additive-manufacturing'\n",
      " 'https://www.coursera.org/learn/craft-of-plot'\n",
      " 'https://www.coursera.org/learn/social-pedagogy-europe'\n",
      " 'https://www.coursera.org/learn/craft-of-character'\n",
      " 'https://www.coursera.org/learn/formacion-docente-habilidades-siglo-veintiuno'\n",
      " 'https://www.coursera.org/learn/music-for-wellness'\n",
      " 'https://www.coursera.org/learn/contemporary-art'\n",
      " 'https://www.coursera.org/learn/wharton-social-entrepreneurship'\n",
      " 'https://www.coursera.org/learn/working-for-a-sustainable-future'\n",
      " 'https://www.coursera.org/learn/transmedia-storytelling'\n",
      " 'https://www.coursera.org/specializations/corporate-entrepreneurship'\n",
      " 'https://www.coursera.org/learn/art-activity'\n",
      " 'https://www.coursera.org/learn/songwriting-lyrics'\n",
      " 'https://www.coursera.org/specializations/rapid-prototyping-using-3d-printing'\n",
      " 'https://www.coursera.org/learn/fashion-design-process'\n",
      " 'https://www.coursera.org/specializations/value-creation-innovation'\n",
      " 'https://www.coursera.org/learn/painting'\n",
      " 'https://www.coursera.org/specializations/leadership-development-engineers'\n",
      " 'https://www.coursera.org/specializations/game-design'\n",
      " 'https://www.coursera.org/learn/writing-editing-structure'\n",
      " 'https://www.coursera.org/learn/chronic-pain'\n",
      " 'https://www.coursera.org/learn/the-science-of-well-being-for-teens'\n",
      " 'https://www.coursera.org/learn/teamwork-skills-effective-communication'\n",
      " 'https://www.coursera.org/learn/making-architecture'\n",
      " 'https://www.coursera.org/learn/managing-emotions-uncertainty-stress'\n",
      " 'https://www.coursera.org/projects/communicating-with-remind'\n",
      " 'https://www.coursera.org/specializations/uva-darden-design-thinking'\n",
      " 'https://www.coursera.org/learn/fundamentals-of-graphic-design'\n",
      " 'https://www.coursera.org/specializations/android-app-development'\n",
      " 'https://www.coursera.org/specializations/memoir-personal-essay'\n",
      " 'https://www.coursera.org/learn/business-model'\n",
      " 'https://www.coursera.org/learn/interactive-computer-graphics'\n",
      " 'https://www.coursera.org/learn/role-of-advertising'\n",
      " 'https://www.coursera.org/learn/psychology-of-thrill-seekers'\n",
      " 'https://www.coursera.org/learn/typography'\n",
      " 'https://www.coursera.org/specializations/creative-writing'\n",
      " 'https://www.coursera.org/projects/getting-started-with-adobe-spark'\n",
      " 'https://www.coursera.org/specializations/diy-musician'\n",
      " 'https://www.coursera.org/learn/poetry-workshop'\n",
      " 'https://www.coursera.org/specializations/business-music-production'\n",
      " 'https://www.coursera.org/learn/social-impact'\n",
      " 'https://www.coursera.org/learn/jazz-improvisation'\n",
      " 'https://www.coursera.org/learn/superbosses'\n",
      " 'https://www.coursera.org/learn/leading-teams-building-effective-team-cultures'\n",
      " 'https://www.coursera.org/learn/arranging-for-songwriters'\n",
      " 'https://www.coursera.org/learn/uol-public-history'\n",
      " 'https://www.coursera.org/learn/modpo'\n",
      " 'https://www.coursera.org/learn/impact-of-technology'\n",
      " 'https://www.coursera.org/learn/lean-manufacturing-services'\n",
      " 'https://www.coursera.org/specializations/neuroscience-of-leadership-leading-with-your-brain'\n",
      " 'https://www.coursera.org/learn/feedback-fundamentals'\n",
      " 'https://www.coursera.org/learn/dei-best-practices-for-managers'\n",
      " 'https://www.coursera.org/learn/diverse-teams'\n",
      " 'https://www.coursera.org/learn/the-neuroscience-of-personal-excellence'\n",
      " 'https://www.coursera.org/learn/business-latam'\n",
      " 'https://www.coursera.org/learn/strategy-implementation'\n",
      " 'https://www.coursera.org/learn/idea-empresa'\n",
      " 'https://www.coursera.org/learn/stepping-up-preparing-yourself-for-leadership'\n",
      " 'https://www.coursera.org/learn/fashion-design'\n",
      " 'https://www.coursera.org/learn/game-developers-esports-organizations'\n",
      " 'https://www.coursera.org/learn/ethics-technology-engineering'\n",
      " 'https://www.coursera.org/specializations/feedback-loops'\n",
      " 'https://www.coursera.org/learn/learning-how-to-learn'\n",
      " 'https://www.coursera.org/learn/teamwork-and-creativity-es'\n",
      " 'https://www.coursera.org/learn/life-after-covid-19-get-ready-for-our-post-pandemic-future'\n",
      " 'https://www.coursera.org/learn/introduction-to-blockchain-for-global-commerce'\n",
      " 'https://www.coursera.org/learn/transacting-blockchain'\n",
      " 'https://www.coursera.org/learn/music-and-social-action'\n",
      " 'https://www.coursera.org/learn/leadership-adapt-your-style'\n",
      " 'https://www.coursera.org/specializations/principles-of-leadership-leading-oneself'\n",
      " 'https://www.coursera.org/specializations/leadership-negotiation-skills'\n",
      " 'https://www.coursera.org/learn/compassionate-leadership-jane-goodall'\n",
      " 'https://www.coursera.org/learn/leadership-capstone'\n",
      " 'https://www.coursera.org/learn/leadership-style-high-performance-team'\n",
      " 'https://www.coursera.org/learn/web3-and-blockchain-leadership-for-transformation'\n",
      " 'https://www.coursera.org/learn/leadership-and-organizational-behavior'\n",
      " 'https://www.coursera.org/learn/leadership-focused-on-human-flourishing'\n",
      " 'https://www.coursera.org/learn/nonprofit-organizations'\n",
      " 'https://www.coursera.org/specializations/leadership-nursing-informatics'\n",
      " 'https://www.coursera.org/learn/strategic-leadership-capstone'\n",
      " 'https://www.coursera.org/learn/leadership-in-mulitnational-cross-cultural-teams'\n",
      " 'https://www.coursera.org/learn/agile-leadership-introduction-to-change'\n",
      " 'https://www.coursera.org/learn/lessons-on-wisdom'\n",
      " 'https://www.coursera.org/projects/project-management-how-to-create-a-gantt-chart-in-wrike'\n",
      " 'https://www.coursera.org/learn/foundations-of-business-intelligence'\n",
      " 'https://www.coursera.org/learn/project-management-foundations'\n",
      " 'https://www.coursera.org/learn/project-management-basics-ar'\n",
      " 'https://www.coursera.org/learn/the-discipline-of-leadership'\n",
      " 'https://www.coursera.org/learn/leading-diverse-teams'\n",
      " 'https://www.coursera.org/projects/accomplishment-star-techniques-for-job-interviews'\n",
      " 'https://www.coursera.org/projects/change-force-analysis'\n",
      " 'https://www.coursera.org/learn/launching-machine-learning-leadership'\n",
      " 'https://www.coursera.org/learn/leadership-excellence-sport'\n",
      " 'https://www.coursera.org/learn/digital-leadership-digital-strategy-execution'\n",
      " 'https://www.coursera.org/learn/leadership-in-the-family-business'\n",
      " 'https://www.coursera.org/learn/leadership-in-an-increasingly-diverse-world'\n",
      " 'https://www.coursera.org/learn/leadership-marketing'\n",
      " 'https://www.coursera.org/learn/leadership-design-innovation'\n",
      " 'https://www.coursera.org/specializations/conflict-management'\n",
      " 'https://www.coursera.org/professional-certificates/gestion-de-projet-google'\n",
      " 'https://www.coursera.org/projects/business-analysis-process-management'\n",
      " 'https://www.coursera.org/projects/change-gap-analysis'\n",
      " 'https://www.coursera.org/learn/real-world-engineering-management-1'\n",
      " 'https://www.coursera.org/learn/leadership-development-planning'\n",
      " 'https://www.coursera.org/learn/connected-leadership'\n",
      " 'https://www.coursera.org/learn/leading-diverse-teams-and-organizations'\n",
      " 'https://www.coursera.org/learn/leaders-fr'\n",
      " 'https://www.coursera.org/specializations/agile-leadership-change-management'\n",
      " 'https://www.coursera.org/learn/business-implications-ai-nano-course'\n",
      " 'https://www.coursera.org/projects/analyzing-market-attractiveness-creately'\n",
      " 'https://www.coursera.org/specializations/leadership-public-health-crises'\n",
      " 'https://www.coursera.org/learn/researcher-management-leadership-training'\n",
      " 'https://www.coursera.org/specializations/hr-management-leadership'\n",
      " 'https://www.coursera.org/learn/10k-women-3'\n",
      " 'https://www.coursera.org/learn/cybersecurityleadership'\n",
      " 'https://www.coursera.org/learn/gender-analytics-transformational-leadership'\n",
      " 'https://www.coursera.org/learn/leadership-socialinfluence'\n",
      " 'https://www.coursera.org/learn/visionary-leadership-meaning-maker'\n",
      " 'https://www.coursera.org/learn/getting-started-making-sense-of-you-and-your-world-of-work'\n",
      " 'https://www.coursera.org/learn/leading-sense'\n",
      " 'https://www.coursera.org/learn/women-in-leadership'\n",
      " 'https://www.coursera.org/learn/communication-leadership-public-health-crisis'\n",
      " 'https://www.coursera.org/learn/uva-darden-giving-voice-to-values'\n",
      " 'https://www.coursera.org/learn/leadership-influence'\n",
      " 'https://www.coursera.org/learn/moving-the-needle'\n",
      " 'https://www.coursera.org/professional-certificates/ibm-it-scrum-master'\n",
      " 'https://www.coursera.org/learn/leadingthrougheffectivecommunication'\n",
      " 'https://www.coursera.org/learn/communicate-with-impact-fr'\n",
      " 'https://www.coursera.org/professional-certificates/google-ux-design'\n",
      " 'https://www.coursera.org/specializations/ethical-leadership'\n",
      " 'https://www.coursera.org/learn/project-practicum-with-multiple-projects'\n",
      " 'https://www.coursera.org/specializations/leadership-communication-engineers'\n",
      " 'https://www.coursera.org/learn/hmgt3860mooc'\n",
      " 'https://www.coursera.org/learn/communication-in-the-workplace'\n",
      " 'https://www.coursera.org/learn/intercultural-communication'\n",
      " 'https://www.coursera.org/learn/ethics-of-communication'\n",
      " 'https://www.coursera.org/specializations/inspired-leadership'\n",
      " 'https://www.coursera.org/learn/leadership-and-disruption'\n",
      " 'https://www.coursera.org/learn/integrated-marketing-communications'\n",
      " 'https://www.coursera.org/learn/multimodal-literacies'\n",
      " 'https://www.coursera.org/learn/effective-communication-for-todays-leader'\n",
      " 'https://www.coursera.org/learn/internet-of-things-communication'\n",
      " 'https://www.coursera.org/projects/route-analysis-miro'\n",
      " 'https://www.coursera.org/learn/visual-perception'\n",
      " 'https://www.coursera.org/learn/western-christianity-200-1650'\n",
      " 'https://www.coursera.org/learn/entrepreneurship-strategy'\n",
      " 'https://www.coursera.org/learn/strategic-management'\n",
      " 'https://www.coursera.org/learn/self-awareness'\n",
      " 'https://www.coursera.org/learn/innovation-manageriale'\n",
      " 'https://www.coursera.org/learn/introduction-to-machine-learning-in-production'\n",
      " 'https://www.coursera.org/specializations/financial-analysis-skills-for-success'\n",
      " 'https://www.coursera.org/learn/intro-to-healthcare'\n",
      " 'https://www.coursera.org/learn/impact-for-sdgs'\n",
      " 'https://www.coursera.org/specializations/healthcare-administration-management'\n",
      " 'https://www.coursera.org/professional-certificates/hrci-human-resource-associate'\n",
      " 'https://www.coursera.org/learn/uva-darden-project-management'\n",
      " 'https://www.coursera.org/professional-certificates/aws-cloud-solutions-architect'\n",
      " 'https://www.coursera.org/specializations/wharton-business-financial-modeling'\n",
      " 'https://www.coursera.org/specializations/renewable-energy'\n",
      " 'https://www.coursera.org/learn/introduction-to-data-engineering'\n",
      " 'https://www.coursera.org/specializations/supply-chain-analytics'\n",
      " 'https://www.coursera.org/specializations/accounting-fundamentals'\n",
      " 'https://www.coursera.org/learn/pre-mbastatistics'\n",
      " 'https://www.coursera.org/specializations/finance-quantitative-modeling-analysts'\n",
      " 'https://www.coursera.org/learn/management-fundamentals-healthcare-administrators'\n",
      " 'https://www.coursera.org/learn/performance-assessment'\n",
      " 'https://www.coursera.org/learn/performance-management-models'\n",
      " 'https://www.coursera.org/specializations/investment-portolio-management'\n",
      " 'https://www.coursera.org/specializations/investment-management'\n",
      " 'https://www.coursera.org/specializations/six-sigma-green-belt'\n",
      " 'https://www.coursera.org/specializations/advanced-data-science-ibm'\n",
      " 'https://www.coursera.org/specializations/power-electronics'\n",
      " 'https://www.coursera.org/learn/nonprofit-gov-2'\n",
      " 'https://www.coursera.org/learn/nonprofit-gov-3'\n",
      " 'https://www.coursera.org/learn/project-management-basics'\n",
      " 'https://www.coursera.org/learn/people-management'\n",
      " 'https://www.coursera.org/learn/diversity-inclusion-workplace'\n",
      " 'https://www.coursera.org/learn/machine-learning-projects'\n",
      " 'https://www.coursera.org/learn/player-evaluation-team-performance-and-roster-management'\n",
      " 'https://www.coursera.org/specializations/wharton-retail-strategy'\n",
      " 'https://www.coursera.org/projects/improve-productivity-performance-canva'\n",
      " 'https://www.coursera.org/specializations/leading-technical-organizations'\n",
      " 'https://www.coursera.org/learn/employee-performance'\n",
      " 'https://www.coursera.org/learn/major-engineering-project-performance'\n",
      " 'https://www.coursera.org/learn/emotional-intelligence-leadership'\n",
      " 'https://www.coursera.org/learn/investments-fundamentals'\n",
      " 'https://www.coursera.org/projects/performance-reviews-with-eduflow'\n",
      " 'https://www.coursera.org/learn/uva-darden-market-analytics'\n",
      " 'https://www.coursera.org/learn/project-management-basics-fr'\n",
      " 'https://www.coursera.org/specializations/managing-cybersecurity'\n",
      " 'https://www.coursera.org/specializations/financial-reporting'\n",
      " 'https://www.coursera.org/specializations/finance-for-technical-managers'\n",
      " 'https://www.coursera.org/learn/satisfaction-guaranteed'\n",
      " 'https://www.coursera.org/specializations/optical-engineering'\n",
      " 'https://www.coursera.org/learn/advanced-valuation-and-strategy'\n",
      " 'https://www.coursera.org/learn/gestion-personas-equipos'\n",
      " 'https://www.coursera.org/learn/learning-assessment'\n",
      " 'https://www.coursera.org/learn/assessment-higher-education'\n",
      " 'https://www.coursera.org/learn/developing-university-lab-education'\n",
      " 'https://www.coursera.org/learn/cultural-competence-aboriginal-sydney'\n",
      " 'https://www.coursera.org/learn/certified-scrum-master-exam-preparation'\n",
      " 'https://www.coursera.org/learn/orden'\n",
      " 'https://www.coursera.org/learn/trauma-surgery-basics'\n",
      " 'https://www.coursera.org/learn/pensamiento-crtico-toma-de-decisiones-razonadas'\n",
      " 'https://www.coursera.org/learn/open-source-software-development-methods'\n",
      " 'https://www.coursera.org/learn/challenges-of-leading-individuals-in-the-tech-industry'\n",
      " 'https://www.coursera.org/projects/clase-interactivas-dinamicas-classroom'\n",
      " 'https://www.coursera.org/learn/psychosocial-spiritual-aspects-palliative-care'\n",
      " 'https://www.coursera.org/learn/estrategia-precios'\n",
      " 'https://www.coursera.org/learn/homeland-security-cybersecurity-future'\n",
      " 'https://www.coursera.org/learn/note-taking'\n",
      " 'https://www.coursera.org/learn/wharton-corruption'\n",
      " 'https://www.coursera.org/learn/schedule-projects-fr'\n",
      " 'https://www.coursera.org/learn/interactive-teaching'\n",
      " 'https://www.coursera.org/learn/introduccion-al-mantenimiento-de-activos-fisicos'\n",
      " 'https://www.coursera.org/learn/uva-darden-artificial-intelligence-marketing'\n",
      " 'https://www.coursera.org/learn/estrategia-empresarial'\n",
      " 'https://www.coursera.org/learn/shaping-urban-futures'\n",
      " 'https://www.coursera.org/learn/comunicaciones-integradas-marketing'\n",
      " 'https://www.coursera.org/learn/evaluacion-cualitativa'\n",
      " 'https://www.coursera.org/learn/teaching-plan'\n",
      " 'https://www.coursera.org/learn/take-action-from-protest-to-policy'\n",
      " 'https://www.coursera.org/learn/launch-strategy'\n",
      " 'https://www.coursera.org/professional-certificates/meta-back-end-developer'\n",
      " 'https://www.coursera.org/learn/academicinfoseek'\n",
      " 'https://www.coursera.org/learn/business-ethics'\n",
      " 'https://www.coursera.org/learn/economia-do-trabalho'\n",
      " 'https://www.coursera.org/learn/fundamentos-del-emprendimiento'\n",
      " 'https://www.coursera.org/learn/belles-histoires-d-entreprises-a-impact'\n",
      " 'https://www.coursera.org/projects/use-the-ie-matrix-to-analyze-and-set-your-strategy'\n",
      " 'https://www.coursera.org/learn/teaching'\n",
      " 'https://www.coursera.org/learn/professional-teacher'\n",
      " 'https://www.coursera.org/learn/fundamentos-de-la-gestion-del-talento-humano'\n",
      " 'https://www.coursera.org/learn/teacher-curriculum'\n",
      " 'https://www.coursera.org/learn/unethical-decision-making'\n",
      " 'https://www.coursera.org/learn/teacher-relationships'\n",
      " 'https://www.coursera.org/learn/teamwork-skills-effective-communication-ar'\n",
      " 'https://www.coursera.org/learn/ask-questions-make-decisions'\n",
      " 'https://www.coursera.org/learn/project-execution-google'\n",
      " 'https://www.coursera.org/specializations/people-and-soft-skills-for-professional-success'\n",
      " 'https://www.coursera.org/professional-certificates/sales-development-representative'\n",
      " 'https://www.coursera.org/learn/introduction-to-software-engineering'\n",
      " 'https://www.coursera.org/learn/collaborate-effectively'\n",
      " 'https://www.coursera.org/learn/intro-multinational-cross-cultural-teams'\n",
      " 'https://www.coursera.org/projects/create-balanced-scorecard-align-priorities-miro'\n",
      " 'https://www.coursera.org/projects/user-strategy-development-wardley-maps-miro'\n",
      " 'https://www.coursera.org/learn/graduate-study-usa'\n",
      " 'https://www.coursera.org/projects/create-a-product-design-brainstorming-with-miro'\n",
      " 'https://www.coursera.org/learn/patient-safety-implementation'\n",
      " 'https://www.coursera.org/projects/conduct-5-whys-analysis-miro'\n",
      " 'https://www.coursera.org/learn/fixing-healthcare'\n",
      " 'https://www.coursera.org/specializations/airs-hiring-manager'\n",
      " 'https://www.coursera.org/learn/management-skills-international-business'\n",
      " 'https://www.coursera.org/projects/build-lean-workflow-kanban-framework-miro'\n",
      " 'https://www.coursera.org/learn/managing-people-iese'\n",
      " 'https://www.coursera.org/learn/organisational-behaviour-know-your-people'\n",
      " 'https://www.coursera.org/learn/patient-safety-culture'\n",
      " 'https://www.coursera.org/learn/teach-online'\n",
      " 'https://www.coursera.org/learn/high-performing-teams'\n",
      " 'https://www.coursera.org/learn/hypertension-program'\n",
      " 'https://www.coursera.org/learn/blockchain-basics'\n",
      " 'https://www.coursera.org/learn/evaluation-mesure-impact-social'\n",
      " 'https://www.coursera.org/learn/new-technologies-business-leaders'\n",
      " 'https://www.coursera.org/learn/ibm-data-ops-methodology'\n",
      " 'https://www.coursera.org/learn/security-operations-administration-sscp'\n",
      " 'https://www.coursera.org/learn/bcg-uva-darden-digital-transformation'\n",
      " 'https://www.coursera.org/learn/intro-cyber-attacks'\n",
      " 'https://www.coursera.org/learn/wharton-ai-strategy-governance'\n",
      " 'https://www.coursera.org/learn/cyber-conflicts'\n",
      " 'https://www.coursera.org/learn/adp-accountant-connect-certification'\n",
      " 'https://www.coursera.org/learn/companies-and-climate-change'\n",
      " 'https://www.coursera.org/learn/palo-alto-networks-cybersecurity-foundation-a'\n",
      " 'https://www.coursera.org/learn/arts-heritage'\n",
      " 'https://www.coursera.org/professional-certificates/palo-alto-networks-cybersecurity-fundamentals'\n",
      " 'https://www.coursera.org/learn/acing-product-management-interviews'\n",
      " 'https://www.coursera.org/specializations/cybersecurity-leadership'\n",
      " 'https://www.coursera.org/learn/china-strategy'\n",
      " 'https://www.coursera.org/learn/the-power-of-machine-learning'\n",
      " 'https://www.coursera.org/learn/web3-and-blockchain-transformations-in-global-supply-chains'\n",
      " 'https://www.coursera.org/learn/blockchain-business'\n",
      " 'https://www.coursera.org/learn/mind-machine-perspectives'\n",
      " 'https://www.coursera.org/learn/uva-darden-bcg-pricing-strategy-market-competition'\n",
      " 'https://www.coursera.org/learn/philosophy-science-religion-2'\n",
      " 'https://www.coursera.org/learn/uva-darden-smart-growth-strategy-2'\n",
      " 'https://www.coursera.org/learn/sscp-4th-ed-course-2'\n",
      " 'https://www.coursera.org/learn/introduction-to-customer-service'\n",
      " 'https://www.coursera.org/learn/memoir-reader-relationship'\n",
      " 'https://www.coursera.org/learn/sustainability-social-ecological-systems'\n",
      " 'https://www.coursera.org/learn/capital-markets'\n",
      " 'https://www.coursera.org/learn/employee-ownership'\n",
      " 'https://www.coursera.org/learn/cultural-impact-of-housing-displacement-gentrification'\n",
      " 'https://www.coursera.org/projects/collect-and-share-employee-feedback-officevibe'\n",
      " 'https://www.coursera.org/learn/valuechains'\n",
      " 'https://www.coursera.org/learn/skepticism'\n",
      " 'https://www.coursera.org/learn/career-advancement'\n",
      " 'https://www.coursera.org/learn/risk-management-in-personal-finance'\n",
      " 'https://www.coursera.org/learn/sales-force-management'\n",
      " 'https://www.coursera.org/learn/teaching-capstone'\n",
      " 'https://www.coursera.org/learn/aids-fear-hope'\n",
      " 'https://www.coursera.org/learn/systems-application-security-sscp'\n",
      " 'https://www.coursera.org/learn/ethical-frameworks-action'\n",
      " 'https://www.coursera.org/learn/oracle-cloud-infrastructure-architect-professional'\n",
      " 'https://www.coursera.org/learn/microsoft-azure-services-lifecycles'\n",
      " 'https://www.coursera.org/learn/first-person-pov'\n",
      " 'https://www.coursera.org/learn/political-economy'\n",
      " 'https://www.coursera.org/learn/meeting-investors-goals'\n",
      " 'https://www.coursera.org/learn/fandom-social-media-authenticity-digital-age'\n",
      " 'https://www.coursera.org/learn/planned-giving'\n",
      " 'https://www.coursera.org/learn/cloud-computing-law-law-enforcement-competition-tax'\n",
      " 'https://www.coursera.org/learn/managing-google-workspace'\n",
      " 'https://www.coursera.org/learn/generative-design-performance-weight-reduction'\n",
      " 'https://www.coursera.org/projects/optimization-of-sql-query-tuning-and-performance'\n",
      " 'https://www.coursera.org/learn/wharton-social-human-capital'\n",
      " 'https://www.coursera.org/learn/six-sigma-define-measure-advanced'\n",
      " 'https://www.coursera.org/learn/supply-chain-planning'\n",
      " 'https://www.coursera.org/learn/wharton-managing-human-capital-retail'\n",
      " 'https://www.coursera.org/learn/compensation-management'\n",
      " 'https://www.coursera.org/learn/six-sigma-improve-control'\n",
      " 'https://www.coursera.org/learn/managing-talent'\n",
      " 'https://www.coursera.org/learn/app-deployment-debugging-performance'\n",
      " 'https://www.coursera.org/learn/managing-urban-infrastructures-1'\n",
      " 'https://www.coursera.org/learn/investment-strategies-portfolio-analysis'\n",
      " 'https://www.coursera.org/learn/finance-healthcare-managers'\n",
      " 'https://www.coursera.org/learn/effective-sales-overview'\n",
      " 'https://www.coursera.org/projects/analyze-company-performance-ratios'\n",
      " 'https://www.coursera.org/specializations/developing-apps-gcp'\n",
      " 'https://www.coursera.org/specializations/advanced-machine-learning-tensorflow-gcp'\n",
      " 'https://www.coursera.org/learn/excellence-operationnelle'\n",
      " 'https://www.coursera.org/learn/six-sigma-principles'\n",
      " 'https://www.coursera.org/specializations/developing-apps-gcp-jp'\n",
      " 'https://www.coursera.org/learn/six-sigma-organization-advanced'\n",
      " 'https://www.coursera.org/learn/measure-and-optimize-social-media-marketing-campaigns'\n",
      " 'https://www.coursera.org/learn/social-innovation'\n",
      " 'https://www.coursera.org/specializations/managing-major-engineering-projects'\n",
      " 'https://www.coursera.org/learn/financial-analysis-of-scenarios-and-decisions'\n",
      " 'https://www.coursera.org/learn/wharton-business-financial-modeling-capstone'\n",
      " 'https://www.coursera.org/learn/grc-approach-to-managing-cybersecurity'\n",
      " 'https://www.coursera.org/specializations/codio-software-engineering'\n",
      " 'https://www.coursera.org/professional-certificates/google-cloud-developer'\n",
      " 'https://www.coursera.org/learn/design-high-performance-optical-systems'\n",
      " 'https://www.coursera.org/learn/data-structures-optimizing-performance'\n",
      " 'https://www.coursera.org/learn/income-statement'\n",
      " 'https://www.coursera.org/projects/performance-testing-with-jmeter-for-absolute-beginners'\n",
      " 'https://www.coursera.org/learn/introduction-high-performance-computing'\n",
      " 'https://www.coursera.org/specializations/sports-analytics'\n",
      " 'https://www.coursera.org/projects/baking-lights-better-performance-unity'\n",
      " 'https://www.coursera.org/projects/googlecloud-optimizing-performance-of-lookml-queries-8ht7a'\n",
      " 'https://www.coursera.org/professional-certificates/preparing-for-google-cloud-machine-learning-engineer-professional-certificate'\n",
      " 'https://www.coursera.org/specializations/sales-operations'\n",
      " 'https://www.coursera.org/learn/real-world-engineering-management-2'\n",
      " 'https://www.coursera.org/projects/improve-business-performance-microsoft-forms'\n",
      " 'https://www.coursera.org/learn/app-deployment-debugging-performance-jp'\n",
      " 'https://www.coursera.org/learn/guitar-performance'\n",
      " 'https://www.coursera.org/projects/microservice-performance-monitoring-with-actuators'\n",
      " 'https://www.coursera.org/projects/improve-business-performance-with-google-forms'\n",
      " 'https://www.coursera.org/learn/gis-applications'\n",
      " 'https://www.coursera.org/learn/metaphysics'\n",
      " 'https://www.coursera.org/learn/descriptive-statistics-statistical-distributions-business-application'\n",
      " 'https://www.coursera.org/learn/gun-violence'\n",
      " 'https://www.coursera.org/learn/bienestar-equidad-derechos-humanos'\n",
      " 'https://www.coursera.org/learn/trunk-anatomy'\n",
      " 'https://www.coursera.org/learn/finanzas-operativas'\n",
      " 'https://www.coursera.org/learn/negotiation-project'\n",
      " 'https://www.coursera.org/learn/analizando-politicas-economicas'\n",
      " 'https://www.coursera.org/projects/crea-pagina-web-interactiva-javascript'\n",
      " 'https://www.coursera.org/learn/cambios-temperatura'\n",
      " 'https://www.coursera.org/professional-certificates/meta-front-end-developer-es'\n",
      " 'https://www.coursera.org/learn/financial-engineering-intro'\n",
      " 'https://www.coursera.org/learn/stability-and-capability-in-quality-improvement'\n",
      " 'https://www.coursera.org/learn/calculus-through-data-and-modelling-imits-derivatives'\n",
      " 'https://www.coursera.org/learn/gis-1'\n",
      " 'https://www.coursera.org/learn/calculo-diferencial'\n",
      " 'https://www.coursera.org/learn/science-and-religion-101'\n",
      " 'https://www.coursera.org/learn/mejores-decisiones-con-business-analytics'\n",
      " 'https://www.coursera.org/learn/canal-distribucion'\n",
      " 'https://www.coursera.org/learn/artificial-intelligence-and-networking'\n",
      " 'https://www.coursera.org/learn/tencent-cloud-solutions-architect-professional'\n",
      " 'https://www.coursera.org/learn/privacy-eu'\n",
      " 'https://www.coursera.org/learn/3d-reconstruction-multiple-viewpoints'\n",
      " 'https://www.coursera.org/learn/analizar-datos-para-responder-preguntas'\n",
      " 'https://www.coursera.org/projects/powerbi-report-development-crash-course-wdnos'\n",
      " 'https://www.coursera.org/learn/usable-security'\n",
      " 'https://www.coursera.org/learn/fpga-sdaccel-theory'\n",
      " 'https://www.coursera.org/projects/design-user-interface-ui-story-map-miro'\n",
      " 'https://www.coursera.org/projects/build-inclusive-user-personas-miro'\n",
      " 'https://www.coursera.org/learn/feedback-de'\n",
      " 'https://www.coursera.org/projects/customer-journey-maps-iot-miro'\n",
      " 'https://www.coursera.org/projects/create-user-stories-miro'\n",
      " 'https://www.coursera.org/projects/look-mock-analyze-find-strengths-weaknesses-miro'\n",
      " 'https://www.coursera.org/projects/get-started-user-experience-ux-design-miro'\n",
      " 'https://www.coursera.org/projects/create-user-journey-map-miro'\n",
      " 'https://www.coursera.org/projects/identify-ux-opportunities-service-blueprints-miro'\n",
      " 'https://www.coursera.org/projects/analyze-user-experience-survey-data-miro'\n",
      " 'https://www.coursera.org/projects/value-chain-analysis-visualization-miro'\n",
      " 'https://www.coursera.org/projects/identify-ux-pain-points-empathy-mapping-miro'\n",
      " 'https://www.coursera.org/projects/streamline-business-processes-swimlanes-miro'\n",
      " 'https://www.coursera.org/projects/create-a-value-proposition-canvas-in-miro'\n",
      " 'https://www.coursera.org/projects/involve-critical-players-stakeholder-maps-miro'\n",
      " 'https://www.coursera.org/projects/scrum-team-building-using-games-interactive-tools'\n",
      " 'https://www.coursera.org/learn/horizontal-feedback'\n",
      " 'https://www.coursera.org/projects/net-promoter-score-nps-sentiment-analysis-miro'\n",
      " 'https://www.coursera.org/learn/cloud-computing-foundations-duke'\n",
      " 'https://www.coursera.org/projects/building-team-microsoft-teams'\n",
      " 'https://www.coursera.org/projects/design-remote-meeting-boards-miro'\n",
      " 'https://www.coursera.org/learn/smart-working-lavoro-agile-business-english'\n",
      " 'https://www.coursera.org/learn/social-impact-growth'\n",
      " 'https://www.coursera.org/projects/identify-one-source-truth-project-wall-miro'\n",
      " 'https://www.coursera.org/learn/aruba-network-security-basics'\n",
      " 'https://www.coursera.org/learn/human-factors-in-artificial-intelligence'\n",
      " 'https://www.coursera.org/learn/microsoft-azure-management-security'\n",
      " 'https://www.coursera.org/learn/responsible-data-analysis'\n",
      " 'https://www.coursera.org/learn/blockchain-crypto-decentralized-finance'\n",
      " 'https://www.coursera.org/learn/wharton-fintech-overview-payments-regulations'\n",
      " 'https://www.coursera.org/specializations/customercentricity'\n",
      " 'https://www.coursera.org/learn/international-journalism'\n",
      " 'https://www.coursera.org/learn/hardware-security'\n",
      " 'https://www.coursera.org/learn/access-control-sscp'\n",
      " 'https://www.coursera.org/projects/getting-started-with-profitbooks'\n",
      " 'https://www.coursera.org/learn/conversational-sales'\n",
      " 'https://www.coursera.org/specializations/uci-blockchain'\n",
      " 'https://www.coursera.org/projects/interpretable-machine-learning-applications-part-2'\n",
      " 'https://www.coursera.org/learn/modernize-applications-ibm-cics'\n",
      " 'https://www.coursera.org/projects/googlecloud-securing-cloud-applications-with-identity-aware-proxy-iap-usin-4wkfq'\n",
      " 'https://www.coursera.org/learn/trustworthy-ai-for-healthcare-management'\n",
      " 'https://www.coursera.org/projects/predict-sales-forecast-trends-in-google-sheets'\n",
      " 'https://www.coursera.org/learn/measurement-turning-concepts-data'\n",
      " 'https://www.coursera.org/projects/interpretable-machine-learning-applications-part-1'\n",
      " 'https://www.coursera.org/projects/explainable-machine-learning-lime-h2o'\n",
      " 'https://www.coursera.org/learn/platform-thinking-exploiting-data-through-platforms'\n",
      " 'https://www.coursera.org/learn/machine-learning-under-the-hood'\n",
      " 'https://www.coursera.org/projects/expenses-in-profitbooks'\n",
      " 'https://www.coursera.org/projects/income-features-profitbooks'\n",
      " 'https://www.coursera.org/projects/interpretable-machine-learning-applications-part-3'\n",
      " 'https://www.coursera.org/learn/corrosion'\n",
      " 'https://www.coursera.org/learn/cuda-advanced-libraries'\n",
      " 'https://www.coursera.org/learn/mastering-statics']'\n",
      "Unique values in 'Title':\n",
      "'['Business English for Cross-cultural Communication'\n",
      " 'Finding Your Professional Voice: Confidence & Impact'\n",
      " 'Improving Communication Skills' 'Bayesian Statistics'\n",
      " 'IBM Data Engineering' 'Meta Front-End Developer'\n",
      " 'Meta Marketing Analytics' 'Google Data Analytics (PT)'\n",
      " 'Introduction to Business' 'Google Cybersecurity' 'Google UX Design (PT)'\n",
      " 'Exploring Our Responses to Climate Change'\n",
      " 'Getting started with Google Workspace' 'Blockchain Revolution'\n",
      " 'Google Business Intelligence'\n",
      " 'The Arts and Science of Relationships: Understanding Human Needs'\n",
      " 'Digital Marketing Strategy and Planning' 'Marketing Digital'\n",
      " 'Communication as a Technical Leader'\n",
      " 'Disaster, Crisis, and Emergency Preparedness Communication'\n",
      " 'Take Your English Communication Skills to the Next Level'\n",
      " 'Emotional Intelligence: Cultivating Immensely Human Interactions'\n",
      " 'Storytelling and influencing: Communicate with impact'\n",
      " 'Improve Your English Communication Skills'\n",
      " 'Effective Communication: Writing, Design, and Presentation'\n",
      " 'Communication For Everyone'\n",
      " 'Effective Communication in the Globalised Workplace'\n",
      " 'Influencing: Storytelling, Change Management and Governance'\n",
      " 'Management Consulting' 'Google Project Management (DE)'\n",
      " 'Data Visualization with Tableau' 'Fundraising and Development'\n",
      " 'Good with Words: Speaking and Presenting'\n",
      " 'Introduction to Communication Science'\n",
      " 'Project Management Communication, Stakeholders & Leadership'\n",
      " 'Designing Effective Science Communication'\n",
      " 'Communication Strategies for a Virtual Age'\n",
      " 'Spanish for Successful Communication in Healthcare Settings'\n",
      " 'Google IT Support' 'Program Communications Planning in ClickUp'\n",
      " 'Automating Team Communication with Google Sheets and Apps Script'\n",
      " 'IoT Communications and Networks'\n",
      " 'Effective Communication in the Globalised Workplace - The Capstone'\n",
      " 'Negotiation Skills and Effective Communication' 'IoT Communications'\n",
      " 'Interpersonal Communication for Engineering Leaders'\n",
      " 'Google Digital Marketing & E-commerce'\n",
      " 'Introduction to Negotiation: A Strategic Playbook for Becoming a Principled and Persuasive Negotiator'\n",
      " 'Cross-Cultural Communication and Management'\n",
      " 'Introduction to Public Relations and the Media'\n",
      " 'Think Outside the Inbox: Email Marketing' 'Google Project Management:'\n",
      " 'Business English Communication Skills'\n",
      " 'English for Effective Business Communications'\n",
      " 'Build Device Messaging and Communication in Azure IoT Hub'\n",
      " 'Improve Communication Processes Using Gmail'\n",
      " 'Business Data Management and Communication'\n",
      " 'Effective Communication Capstone Project'\n",
      " 'Communication Skills for University Success'\n",
      " 'Engaging in Persuasive and Credible Communication'\n",
      " 'Oral Communication for Engineering Leaders'\n",
      " 'Data Visualization and Communication with Tableau'\n",
      " 'Meta Social Media Marketing' 'Professional Skills for the Workplace'\n",
      " 'Foundational Finance for Strategic Decision Making'\n",
      " 'Google Advanced Data Analytics'\n",
      " 'Human Resource Management: HR for People Managers'\n",
      " 'International Business Essentials'\n",
      " 'Organizational Leadership in Diversity, Equity & Inclusion'\n",
      " 'Microsoft 365 Fundamentals' 'Meta Database Engineer' 'Digital Marketing'\n",
      " 'Strategic Leadership and Management' 'Business Analytics'\n",
      " 'Introduction to Social Media Marketing' 'Principles of Management'\n",
      " 'Trading Strategies in Emerging Markets' 'Six Sigma Yellow Belt'\n",
      " 'Preparing for Google Cloud Certification: Cloud DevOps Engineer'\n",
      " 'Leading People and Teams' 'Modern and Contemporary Art and Design'\n",
      " 'Conduct UX Research and Test Early Concepts'\n",
      " 'Instructional Design Foundations and Applications'\n",
      " 'OKR Certification: Leadership and Goal Setting' 'Six Sigma Black Belt'\n",
      " 'Music Education for Teachers' 'Project Management'\n",
      " 'Strategic Management and Innovation'\n",
      " 'The Path to Insights: Data Models and Pipelines' 'Customer Analytics'\n",
      " 'Supply Chain Principles' 'Microsoft Azure Developer Associate (AZ-204)'\n",
      " 'Customer Service Fundamentals'\n",
      " 'Machine Learning and Reinforcement Learning in Finance'\n",
      " 'Organizational Leadership' 'Value-Based Care'\n",
      " 'Practical Data Science on the AWS Cloud' 'Technical Communication'\n",
      " 'The Materiality of ESG Factors' 'AI and Public Health'\n",
      " 'Machine Learning Engineering for Production (MLOps)'\n",
      " 'Generative AI with Large Language Models'\n",
      " 'Setting Expectations & Assessing Performance Issues'\n",
      " 'Optimizing Machine Learning Performance' 'Business Foundations'\n",
      " 'High Performance Collaboration: Leadership, Teamwork, and Negotiation'\n",
      " 'Leadership Skills'\n",
      " 'Successful Negotiation: Essential Strategies and Skills'\n",
      " 'Construction Project Management'\n",
      " 'Process Mining: Data science in Action'\n",
      " \"Richard Schechner's Introduction to Performance Studies\"\n",
      " 'Social Media Management'\n",
      " 'Leverage Data Science for a More Agile Supply Chain'\n",
      " 'Corporate & Commercial Law I: Contracts & Employment Law'\n",
      " 'Preparing to Manage Human Resources'\n",
      " 'Leadership in 21st Century Organizations'\n",
      " 'Business Sustainability in the Circular Economy'\n",
      " 'Value Chain Management' 'People Analytics' 'How to Manage a Remote Team'\n",
      " 'Business Writing' 'Principles of Leadership: Leading Technical Teams'\n",
      " 'Digital Media for Health Outcomes, English'\n",
      " 'Project Management: Foundations and Initiation' 'Patient Safety'\n",
      " 'Speak English Professionally: In Person, Online & On the Phone'\n",
      " 'Digitalisation in Aeronautics and Space'\n",
      " 'Better Business Writing in English'\n",
      " 'Teach English Now! Second Language Listening, Speaking, and Pronunciation'\n",
      " 'English Language Skills A2-B1 CEFR: Low-Intermediate'\n",
      " 'Successful Presentation'\n",
      " 'How to Get Skilled: Introduction to Individual Skills Management (Project-Centered Course)'\n",
      " 'Professional Skills for International Business' 'Machine Learning'\n",
      " 'International Leadership and Organizational Behavior'\n",
      " 'ESG Risks and Opportunities'\n",
      " 'Regression Analysis: Simplify Complex Data Relationships'\n",
      " 'Strategic Sales Management' 'Sequences, Time Series and Prediction'\n",
      " 'Decisions, Decisions: Dashboards and Reports'\n",
      " 'Strategic Leadership: Impact, Change, and Decision-Making'\n",
      " 'Culture-Driven Team Building'\n",
      " 'Unsupervised Learning, Recommenders, Reinforcement Learning'\n",
      " 'Machine Learning Modeling Pipelines in Production'\n",
      " 'Reporting extra-financier et stratégie RSE'\n",
      " 'Applied Computational Fluid Dynamics'\n",
      " 'Foundations for Assisting in Home Care' 'Become an EMT'\n",
      " 'Coaching Skills for Managers'\n",
      " 'Autodesk Generative Design for Manufacturing'\n",
      " 'Statistical Thinking for Industrial Problem Solving, presented by JMP'\n",
      " 'Influencer Marketing Strategy' 'Introduction to Self-Driving Cars'\n",
      " 'Data-Driven Decision Making (DDDM)'\n",
      " 'Supply Chain Management: A Learning Perspective'\n",
      " 'Leading transformations: Manage change'\n",
      " 'Introduction to Large Language Models'\n",
      " 'Inspiring and Motivating Individuals'\n",
      " 'Improving Leadership & Governance in Nonprofit Organizations'\n",
      " 'Power System: Generation, Transmission and Protection'\n",
      " 'Princípios básicos de apoio técnico' 'Leading Organizations'\n",
      " 'Introduction to Academic Writing' 'Meta Android Developer'\n",
      " 'Meta iOS Developer'\n",
      " 'Ecological and Energy Transitions in Southern Countries'\n",
      " '商务英语课程:管理与领导力英语 Management & Leadership'\n",
      " 'Diversity Leadership for Everyone'\n",
      " 'The Importance and Power of Music in our Society'\n",
      " 'Speaking and Presenting: Tact' 'Everyday Excel, Part 3 (Projects)'\n",
      " 'Writing your World: Finding yourself in the academic space'\n",
      " 'Lean Software Development' 'Business English: Management and Leadership'\n",
      " 'Inglés Empresarial: Gestión y Liderazgo' 'The ABC of sustainability'\n",
      " 'Global Quality Maternal and Newborn Care'\n",
      " 'Developing Interpersonal Skills'\n",
      " 'How to Network: Leading Yourself to Lead Others'\n",
      " 'Software Development Lifecycle'\n",
      " 'Inclusive Leadership: The Power of Workplace Diversity'\n",
      " 'Foundations of Teaching for Learning: Being a Teacher'\n",
      " 'The Art and Science of Economic Policy'\n",
      " 'Driving business towards the Sustainable Development Goals'\n",
      " 'Foundations of Teaching for Learning: Learners and Learning'\n",
      " 'Confronting Gender Based Violence: Global Lessons for Healthcare Workers'\n",
      " 'La telesalud y telemedicina enfocadas a la atención en salud'\n",
      " 'Formadores de Ciudadanía' 'Gestión del talento humano'\n",
      " 'Thoracic Oncology' 'Llevar a cabo investigaciones en UX'\n",
      " 'Alfabetização Midiática, Informacional e Diálogo Intercultural - UNESCO e UNICAMP'\n",
      " 'El ABC de la sostenibilidad' 'Apoio Técnico de TI da Google'\n",
      " 'Violence Against Healthcare'\n",
      " 'HI-FIVE: Health Informatics For Innovation, Value & Enrichment (Clinical Perspective)'\n",
      " 'Foundations of Career Navigating and Coaching'\n",
      " 'Negotiation  Fundamentals'\n",
      " 'Cybersecurity Policy for Aviation and Internet Infrastructures'\n",
      " 'Speaking and Presenting: Pitches and Persuasion'\n",
      " 'Nanotechnology and Nanosensors, Part1'\n",
      " 'Les Fondamentaux de la Négociation'\n",
      " 'Gestión de proyectos con la metodología Agile'\n",
      " 'Health, Society, and Wellness in COVID-19 Times'\n",
      " 'Compartir datos a través del arte de la visualización'\n",
      " 'Kit básico (para evitar los errores más frecuentes) de finanzas'\n",
      " 'Creative Writing: The Craft of Style'\n",
      " 'Leading Change in Health Informatics' 'Training and Learning Online'\n",
      " 'Gathering and Developing the News'\n",
      " 'Communicate Effectively about Ethical Challenges in Data-Driven Technologies'\n",
      " 'Leadership' 'Interacting with Customers'\n",
      " 'Effectively delivering the news to your audience'\n",
      " 'Stepping Up: Leading Others' 'Strategies for Effective Engagement'\n",
      " 'COVID Vaccine Ambassador Training: How to Talk to Parents'\n",
      " 'Health Care Delivery in Healthcare Organizations'\n",
      " 'Salud mental y atención psicosocial' 'Leading Teams'\n",
      " 'Science Communication: Communicating Trustworthy Information in the Digital World'\n",
      " 'Creating Trust & Support' 'Epidemics'\n",
      " 'CAPSTONE: Your Leadership Challenge' 'Negotiations'\n",
      " 'Foundations of Health Equity Research'\n",
      " 'Design Thinking for the Greater Good: Innovation in the Social Sector'\n",
      " 'Leadership Out of the Box' 'Network Security'\n",
      " 'Leading Teams: Developing as a Leader'\n",
      " 'Writing for Young Readers: Opening the Treasure Chest'\n",
      " 'Data Privacy Fundamentals' 'Building Your Leadership Skills'\n",
      " 'Intellectual Humility: Practice' 'Content Strategy for Professionals'\n",
      " 'Optimize ML Models and Deploy Human-in-the-Loop Pipelines'\n",
      " 'High Stakes Leadership: Leading in Times of Crisis'\n",
      " 'Giving Helpful Feedback'\n",
      " 'Sustainable Vikings:  Sustainability & Corporate Social Responsibility in Scandinavia'\n",
      " 'Writing and Editing: Word Choice and Word Order'\n",
      " 'Leading StandOut® Teams' 'Leadership in Interprofessional Informatics'\n",
      " 'Management' 'Create a Departure and Personal Statement for Interviews'\n",
      " 'Developing an Agile Team'\n",
      " 'Content Strategy for Professionals: Managing Content'\n",
      " 'Securing Software, Data and End Points'\n",
      " 'Content Strategy for Professionals: Engaging Audiences'\n",
      " 'Writing a Personal Essay' 'Salud mental y atención comunitaria'\n",
      " 'EMT Foundations'\n",
      " 'Making Sense of the News: News Literacy Lessons for Digital Citizens'\n",
      " 'Knowledge and Skills for Dementia Care: the SSLD Approach'\n",
      " 'The Cycle: Management of Successful Arts and Cultural Organizations'\n",
      " 'CertNexus Certified Ethical Emerging Technologist'\n",
      " 'Empowering Yourself in a Post-Truth World'\n",
      " 'Children Acquiring Literacy Naturally' 'Developing a Systems Mindset'\n",
      " 'Leadership Communication for Maximum Impact: Storytelling'\n",
      " 'Goodwill® Career Coach and Navigator' 'Social Media Marketing'\n",
      " 'A New Communication Framework for Healthcare'\n",
      " \"Entreprendre dans les Industries Culturelles à l'ère du numérique\"\n",
      " 'Journey of the Universe: A Story for Our Times'\n",
      " 'Reimagining Blackness and Architecture' 'Music Production'\n",
      " 'Introduction to Early Childhood' 'Graphic Design' 'Natural Creativity'\n",
      " 'Artificial Creativity' 'Innovation: From Creativity to Entrepreneurship'\n",
      " 'Innovation Management'\n",
      " 'Create eye-catching logos using Canva for an ebrand'\n",
      " 'Foundations of Positive Psychology' 'The Nature of Genius'\n",
      " 'Storying the Self for Leadership and Creativity'\n",
      " 'Intimacy of Creativity: Entering the Minds of Composers'\n",
      " 'Organizational innovation and creativity'\n",
      " 'Unleash Student Creativity with Buncee' 'Indigenous Canada'\n",
      " 'Leading the Modern Day Business' 'Transmedia Writing'\n",
      " 'Building Your Career in Music: Developing A Brand and Funding Your Music'\n",
      " 'Good with Words: Writing and Editing'\n",
      " 'Business Strategies for A Better World' 'Branding: The Creative Journey'\n",
      " 'Transforming the Fashion Business' 'Music Business'\n",
      " 'Songwriting: Writing, Arranging, and Producing Music'\n",
      " 'Game Design and Development with Unity 2020' 'Futures Thinking'\n",
      " 'User Interface Design'\n",
      " 'Positive Psychology: Martin E. P. Seligman’s Visionary Science'\n",
      " 'Social Media Marketing in Practice' 'Uncommon Sense Teaching'\n",
      " 'How to Start Your Own Business' 'Healing with the Arts' 'Esports'\n",
      " 'Legal Aspects of Entrepreneurship'\n",
      " 'Cracking the Creativity Code: Discovering Ideas'\n",
      " 'Write Like Mozart: An Introduction to Classical Music Composition'\n",
      " 'Becoming a Social Entrepreneur: Getting Started'\n",
      " 'Programa en Desarrollo de nuevas empresas'\n",
      " 'Innovation: From Creativity to Entrepreneurship Capstone'\n",
      " 'Creativity Toolkit II: Creative Collaboration'\n",
      " 'Creativity Toolkit I: Changing Perspectives'\n",
      " 'Career 911: Your Future Job in Medicine and Healthcare'\n",
      " 'Introduction to Imagemaking'\n",
      " 'Fandom and Popular Culture in the Digital Age'\n",
      " 'Ready, Set, Future! Introduction to Futures Thinking'\n",
      " 'Seeing Through Photographs' 'Teaching Science at University'\n",
      " 'Startup Entrepreneurship' 'Decision-Making for Everyone'\n",
      " 'Creative Problem Solving' 'Ignite Your Everyday Creativity'\n",
      " 'Creativity and AI' 'Creativity, Innovation and Transformation'\n",
      " 'Creative Thinking: Techniques and Tools for Success'\n",
      " 'Designing Learning Innovation'\n",
      " 'Why Smart Executives Fail: Common Mistakes & Warning Signs'\n",
      " 'Script Writing: Write a Pilot Episode for a TV or Web Series (Project-Centered Course)'\n",
      " 'Design Thinking for Innovation'\n",
      " 'Gender Analytics: Gender Equity through Inclusive Design'\n",
      " \"Développement psychologique de l'enfant\"\n",
      " 'Write A Feature Length Screenplay For Film Or Television'\n",
      " 'Home-Based Child Care' 'Modern Art & Ideas' 'Write Your First Novel'\n",
      " 'Interviewing and Resume Writing in English'\n",
      " 'Inspirational Leadership: Leading with Sense'\n",
      " 'Design-Led Strategy: Design thinking for business strategy and entrepreneurship'\n",
      " 'The Singer Songwriter' 'Art & Ideas: Teaching with Themes'\n",
      " 'Professional Success Skills' 'Innovación Educativa'\n",
      " 'Teamwork and Creativity'\n",
      " 'The Search for Great Ideas: Harnessing creativity to empower innovation.'\n",
      " 'The Art of Music Production' 'Building Strategic Foresight Capabilities'\n",
      " 'Introducción a la inteligencia artificial'\n",
      " 'Web3 and Blockchain in Global Commerce'\n",
      " 'Strategic Technology Management'\n",
      " '3D Printing and Additive Manufacturing'\n",
      " 'Creative Writing: The Craft of Plot' 'Social Pedagogy across Europe'\n",
      " 'Creative Writing: The Craft of Character'\n",
      " 'Formación docente basada en la práctica para desarrollar habilidades del siglo XXI'\n",
      " 'Music for Wellness' 'What Is Contemporary Art?'\n",
      " 'Social Entrepreneurship'\n",
      " 'Working for a sustainable future: concepts and approaches'\n",
      " 'Transmedia Storytelling: Narrative worlds, emerging technologies, and global audiences'\n",
      " 'Corporate Entrepreneurship: Innovating within Corporations'\n",
      " 'Art & Activity: Interactive Strategies for Engaging with Art'\n",
      " 'Songwriting: Writing the Lyrics' 'Rapid Prototyping Using 3D Printing'\n",
      " 'Fashion Design' 'Value Creation Through Innovation'\n",
      " 'In the Studio: Postwar Abstract Painting'\n",
      " 'Leadership Development for Engineers' 'Game Design: Art and Concepts'\n",
      " 'Writing and Editing: Structure and Organization'\n",
      " 'Preventing Chronic Pain: A Human Systems Approach'\n",
      " 'The Science of Well-Being for Teens'\n",
      " 'Teamwork Skills: Communicating Effectively in Groups'\n",
      " 'Making Architecture'\n",
      " 'Managing Emotions in Times of Uncertainty & Stress'\n",
      " 'Enhancing Communication with Remind' 'Design Thinking'\n",
      " 'Fundamentals of Graphic Design' 'Android App Development'\n",
      " 'Memoir and Personal Essay: Write About Yourself'\n",
      " 'Business Model Innovation' 'Interactive Computer Graphics'\n",
      " 'Advertising and Society' 'The Psychology of Thrill Seekers'\n",
      " 'Introduction to Typography' 'Creative Writing'\n",
      " 'Getting Started with Adobe Spark' 'The DIY Musician'\n",
      " 'Sharpened Visions: A Poetry Workshop' 'The Business of Music Production'\n",
      " 'Social Impact Strategy: Tools for Entrepreneurs and Innovators'\n",
      " 'Jazz Improvisation' 'Superbosses: Managing Talent & Leadership'\n",
      " 'Leading Teams: Building Effective Team Cultures'\n",
      " 'Arranging for Songwriters'\n",
      " 'Applied Public History: Places, People, Stories'\n",
      " 'Modern & Contemporary American Poetry (“ModPo”)'\n",
      " 'The Impact of Technology'\n",
      " 'The hidden value – Lean in manufacturing and services'\n",
      " 'Neuroscience of Leadership: Leading with Your Brain'\n",
      " 'Feedback Loops: Feedback Fundamentals'\n",
      " 'Diversity, Equity, and Inclusion Best Practices for Managers'\n",
      " 'Optimizing Diversity on Teams' 'The Neuroscience of Personal Excellence'\n",
      " 'Doing Business in Latin America' 'Strategy Implementation'\n",
      " '¿Cómo convertir mi idea en empresa?'\n",
      " 'Stepping Up: Preparing Yourself for Leadership' 'Fashion as Design'\n",
      " 'Game Developers and Esports Organizations'\n",
      " 'Ethics, Technology and Engineering'\n",
      " 'Feedback Loops: How to Give & Receive High-Quality Feedback'\n",
      " 'Learning How to Learn: Powerful mental tools to help you master tough subjects'\n",
      " 'Trabajo en equipo y creatividad'\n",
      " 'Life After COVID-19: Get Ready for our Post-Pandemic Future'\n",
      " 'Introduction to Blockchain for Global Commerce'\n",
      " 'Transacting on the Blockchain' 'Music and Social Action'\n",
      " 'Adapt your leadership style' 'Principles of Leadership: Leading Oneself'\n",
      " 'Leadership and Negotiation Skills'\n",
      " 'Compassionate Leadership Through Service Learning with Jane Goodall and Roots & Shoots'\n",
      " 'Organizational Leadership Capstone'\n",
      " 'Leadership Style and Building a High-Performance Team'\n",
      " 'Web3 and Blockchain Leadership for Transformation'\n",
      " 'Leadership and organizational behavior'\n",
      " 'Leadership focused on Human Flourishing'\n",
      " 'Introduction to the Nonprofit Sector, Nonprofit Organizations, Nonprofit Leadership and Governance'\n",
      " 'Nursing Informatics  Leadership'\n",
      " 'Strategic Leadership and Management Capstone'\n",
      " 'Leadership in Multinational, Cross-Cultural Teams'\n",
      " 'Agile Leadership: Introduction to Change'\n",
      " 'Lessons on Wisdom: Personal Leadership for Your Life'\n",
      " 'Project Management: How to Create a Gantt Chart in Wrike'\n",
      " 'Foundations of Business Intelligence'\n",
      " 'Foundations of Project Management' 'إدارة المشروع: أساسيات النجاح'\n",
      " 'The Discipline of Leadership' 'Leading Diverse Teams'\n",
      " 'Accomplishment STAR Techniques for Job Interviews'\n",
      " 'Change Leadership: Developing Force Field Analysis in Miro'\n",
      " 'Launching Machine Learning: Delivering Operational Success with Gold Standard ML Leadership'\n",
      " \"Leadership d'excellence par le sport de haut niveau\"\n",
      " 'Digital Leadership and Digital Strategy Execution'\n",
      " 'Leadership in the Family Business'\n",
      " 'Leadership for an Increasingly Diverse World'\n",
      " 'Leadership Through Marketing' 'Leadership Through Design Innovation'\n",
      " 'Conflict Management' 'Google Project Management'\n",
      " 'Business Analysis & Process Management'\n",
      " 'Change Leadership: Developing Strategic Gap Analysis in Miro'\n",
      " 'Leadership Principles for Software Engineers'\n",
      " 'Personal Leadership Development Planning and Leading High Performing Teams'\n",
      " 'Connected Leadership' 'Leading Diverse Teams & Organizations'\n",
      " 'Agile Leadership' 'Business Implications of AI: A Nano-course'\n",
      " 'Analyzing Market Attractiveness Using Creately'\n",
      " 'Leadership for Public Health Crises'\n",
      " 'Researcher Management and Leadership Training'\n",
      " 'Leading: Human Resource Management and Leadership'\n",
      " 'Fundamentals of Leadership, with Goldman Sachs 10,000 Women'\n",
      " 'Transformational Leadership for Inclusive Innovation'\n",
      " 'Leadership Through Social Influence'\n",
      " 'Visionary leadership, identity & motivation: Become a meaning maker'\n",
      " 'Getting Started with Leadership'\n",
      " 'Giving Sense to Your Leadership Experience'\n",
      " 'Women in Leadership: Inspiring Positive Change'\n",
      " 'Communication and Leadership during a Public Health Crisis'\n",
      " 'Ethical Leadership Through Giving Voice to Values'\n",
      " 'Leadership and Influence'\n",
      " 'Moving the Needle at Work: Diversity, Equity and Inclusion'\n",
      " 'IBM IT Scrum Master' 'Leading Through Effective Communication'\n",
      " 'Storytelling et influence : Communiquer pour convaincre'\n",
      " 'Google UX Design' 'Ethical Leadership'\n",
      " 'Project Practicum with Multiple Projects'\n",
      " 'Communication Skills for Engineers'\n",
      " 'Management Foundations in the Hospitality Industry'\n",
      " 'Communication in the 21st Century Workplace'\n",
      " 'Intercultural Communication and Conflict Resolution'\n",
      " 'Ethics of Communication' 'Inspired Leadership'\n",
      " 'Leadership and Disruption'\n",
      " 'Integrated Marketing Communications: Advertising, Public Relations, Digital Marketing and more'\n",
      " 'Multimodal Literacies: Communication and Learning in the Era of Digital Media'\n",
      " 'Effective Communication for Today’s Leader'\n",
      " 'Internet of Things: Communication Technologies'\n",
      " 'Change Leadership: Strategic Route Analysis with Miro'\n",
      " 'Visual Perception and the Brain'\n",
      " 'A Journey through Western Christianity: from Persecuted Faith to Global Religion (200 - 1650)'\n",
      " 'Entrepreneurship Strategy: From Ideation to Exit' 'Strategic Management'\n",
      " 'Self Awareness and the Effective Leader'\n",
      " \"L'innovation managériale en pratique\"\n",
      " 'Introduction to Machine Learning in Production'\n",
      " 'Financial Analysis - Skills for Success' 'Introduction to Healthcare'\n",
      " 'Impact Measurement & Management for the SDGs'\n",
      " 'The Business of Health Care' 'HRCI Human Resource Associate'\n",
      " 'Fundamentals of Project Planning and Management'\n",
      " 'AWS Cloud Solutions Architect' 'Business and Financial Modeling'\n",
      " 'Renewable Energy' 'Introduction to Data Engineering'\n",
      " 'Supply Chain Analytics' 'Fundamentals of Accounting'\n",
      " 'Pre-MBA Statistics' 'Finance & Quantitative Modeling for Analysts'\n",
      " 'Management Fundamentals'\n",
      " 'Performance Assessment in the Virtual Classroom'\n",
      " 'نماذج تقييم الأداء | Performance Management Models'\n",
      " 'Investment and Portfolio Management' 'Investment Management'\n",
      " 'Six Sigma Green Belt' 'Advanced Data Science with IBM'\n",
      " 'Power Electronics'\n",
      " 'The Roles and Responsibilities of Nonprofit Boards of Directors within the Governance Process'\n",
      " 'The Factors that Influence the Effectiveness of Boards and the Governance Process'\n",
      " 'Project Management: The Basics for Success'\n",
      " \"The Manager's Toolkit: A Practical Guide to Managing People at Work\"\n",
      " 'Diversity and inclusion in the workplace'\n",
      " 'Structuring Machine Learning Projects'\n",
      " 'Player  Evaluation, Team Performance and Roster Management'\n",
      " 'Omnichannel Retail Strategy'\n",
      " 'Improve your productivity and performance with Canva'\n",
      " 'Principles of Leadership: Leading Technical Organizations'\n",
      " 'Managing Employee Performance' 'Major Engineering Project Performance'\n",
      " 'Inspiring Leadership through Emotional Intelligence'\n",
      " 'Investments I: Fundamentals of Performance Evaluation'\n",
      " 'Performance Reviews with Eduflow' 'Marketing Analytics'\n",
      " 'Gestion de projet\\xa0: les bases de la réussite'\n",
      " 'Managing Cybersecurity' 'Financial Reporting'\n",
      " 'Finance for Technical Managers'\n",
      " 'Satisfaction Guaranteed: Develop Customer Loyalty Online'\n",
      " 'Optical Engineering'\n",
      " 'Advanced Valuation and Strategy - M&A, Private Equity, and Venture Capital'\n",
      " 'La gestión de personas y equipos'\n",
      " 'Foundations of Teaching for Learning: Introduction to Student Assessment'\n",
      " 'Assessment in Higher Education: Professional Development for Teachers'\n",
      " 'Teaching in University Science Laboratories (Developing Best Practice)'\n",
      " 'Cultural Competence - Aboriginal Sydney'\n",
      " 'Scrum Master Certification Exam Preparation' 'Orden y manejo del tiempo'\n",
      " 'The Basics of Trauma Surgery'\n",
      " 'Pensamiento crítico: toma de decisiones razonadas'\n",
      " 'Open Source Software Development Methods'\n",
      " 'Challenges of Leading Individuals in the Tech Industry'\n",
      " 'Clase interactivas y dinámicas en Classroom'\n",
      " 'Psychosocial and Spiritual Aspects of Palliative Care'\n",
      " 'Estrategia de precios' 'Homeland Security and Cybersecurity Future'\n",
      " 'Academic Listening and Note-Taking' 'Corruption'\n",
      " 'Budgétisation et planification de projets'\n",
      " 'Interactive Teaching（インタラクティブ・ティーチング）'\n",
      " 'Introducción al mantenimiento de activos físicos'\n",
      " 'Artificial Intelligence in Marketing' 'Estrategia Empresarial'\n",
      " 'Shaping Urban Futures'\n",
      " 'Comunicaciones integradas de marketing: Publicidad, Relaciones Públicas, Marketing Digital y más'\n",
      " 'Evaluación del y para el aprendizaje: enfoque cualitativo'\n",
      " 'Foundations of Teaching for Learning: Planning for Teaching and Learning'\n",
      " 'Take Action: From Protest to Policy'\n",
      " 'Launch Strategy: 5 Steps to Capstone Experience'\n",
      " 'Meta Back-End Developer' 'Academic Information Seeking'\n",
      " 'Global Impact: Business Ethics'\n",
      " 'Introdução à Economia do Trabalho: Teorias e Políticas'\n",
      " 'Fundamentos del Emprendimiento: Pensamiento y Acción'\n",
      " \"Belles histoires d'entreprises à impact\"\n",
      " 'Use the IE Matrix to Analyze and Set Your Strategy'\n",
      " 'Foundations of Teaching for Learning: Introduction'\n",
      " 'Foundations of Teaching for Learning: Being a Professional'\n",
      " 'Fundamentos de la gestión del talento humano'\n",
      " 'Foundations of Teaching for Learning: Curriculum'\n",
      " 'Unethical Decision Making in Organizations'\n",
      " 'Foundations of Teaching for Learning: Developing Relationships'\n",
      " 'مهارات العمل الجماعي: التواصل الفعّال في مجموعات'\n",
      " 'Ask Questions to Make Data-Driven Decisions'\n",
      " 'Project Execution: Running the Project'\n",
      " 'People and Soft Skills for Professional and Personal Success'\n",
      " 'Salesforce Sales Development Representative'\n",
      " 'Introduction to Software Engineering'\n",
      " 'Collaborate Effectively for Professional Success'\n",
      " 'Introduction to Multinational and Cross-Cultural Teams'\n",
      " 'Create a Balanced Scorecard to Align Priorities in Miro'\n",
      " 'User Strategy Development with Wardley Maps in Miro'\n",
      " 'Preparing for Graduate Study in the U.S.: A course for international students'\n",
      " 'Create a Product Design Brainstorming with Miro'\n",
      " 'Implementing a Patient Safety or Quality Improvement Project (Patient Safety V)'\n",
      " 'Conduct a 5 Whys Analysis in Miro' 'Fixing Healthcare Delivery'\n",
      " \"A Manager's Guide to Modern Hiring by AIRS®\"\n",
      " 'Management Skills for International Business'\n",
      " 'Build a Lean Workflow with Kanban Frameworks in Miro'\n",
      " 'Organizational Behavior: How to Manage People'\n",
      " 'Organisational behaviour: Know your people'\n",
      " 'Setting the Stage for Success: An Eye on Safety Culture and Teamwork (Patient Safety II)'\n",
      " 'Learning to Teach Online' 'Building High-Performing Teams'\n",
      " 'Fundamentals for Implementing a Hypertension Program'\n",
      " 'Blockchain Basics' \"Évaluation & Mesure d'Impact Social\"\n",
      " 'New Technologies for Business Leaders' 'DataOps Methodology'\n",
      " 'Security Operations and Administration' 'Digital Transformation'\n",
      " 'Introduction to Cyber Attacks' 'AI Strategy and Governance'\n",
      " 'International Cyber Conflicts' 'ADP Accountant Connect Certification'\n",
      " 'Companies and climate change'\n",
      " 'Palo Alto Networks Cybersecurity Foundation'\n",
      " 'Arts and Heritage Management' 'Palo Alto Networks Cybersecurity'\n",
      " 'Acing the Product Management Interview'\n",
      " 'Cybersecurity Leadership and Management' 'China Strategy'\n",
      " 'The Power of Machine Learning: Boost Business, Accumulate Clicks, Fight Fraud, and Deny Deadbeats'\n",
      " 'Web3 and Blockchain Transformations in Global Supply Chains'\n",
      " 'Blockchain and Business'\n",
      " 'Interpersonal, Developmental, and Evolutionary Perspectives of the Mind'\n",
      " 'Market and Competition in Pricing Strategy'\n",
      " 'Philosophy, Science and Religion: Philosophy and Religion'\n",
      " 'Grow to Greatness: Smart Growth for Private Businesses, Part II'\n",
      " 'Risk Management: Use of Access Controls to Protect Assets'\n",
      " 'Introduction to Customer Service'\n",
      " 'Memoir and Personal Essay: Managing Your Relationship with the Reader'\n",
      " 'Sustainability of Social-Ecological Systems: the Nexus between Water, Energy and Food'\n",
      " 'The Role of Global Capital Markets'\n",
      " 'Our Share: Employee Ownership as a Wealth Sharing Tool'\n",
      " 'Cultural impact of housing displacement gentrification'\n",
      " 'Collect and Share Employee Feedback with Officevibe'\n",
      " 'The Economics of Agro-Food Value Chains' 'Skepticism'\n",
      " 'Successful Career Development' 'Risk Management in Personal Finance'\n",
      " 'Sales Force Management'\n",
      " 'Foundations of Teaching for Learning Capstone: The Reflective Practitioner'\n",
      " 'AIDS: Fear and Hope' 'Systems and Application Security'\n",
      " 'Turn Ethical Frameworks into Actionable Steps'\n",
      " 'Oracle Cloud Infrastructure Architect Professional'\n",
      " 'Microsoft Azure Services and Lifecycles'\n",
      " 'Writing in First Person Point of View'\n",
      " 'Political Economy of Institutions and Development'\n",
      " \"Meeting Investors' Goals\"\n",
      " 'Fandom, Social Media, and Authenticity in the Digital Age'\n",
      " 'Planned Giving'\n",
      " 'Cloud Computing Law: Law Enforcement, Competition, & Tax'\n",
      " 'Managing Google Workspace'\n",
      " 'Generative Design for Performance and Weight Reduction'\n",
      " 'Optimization of SQL query Tuning and Performance'\n",
      " 'Managing Social and Human Capital'\n",
      " 'Six Sigma Advanced Define and Measure Phases' 'Supply Chain Planning'\n",
      " 'Managing Human Capital in Retail' 'Managing Employee Compensation'\n",
      " 'Six Sigma Tools for Improve and Control' 'Managing Talent'\n",
      " 'App Deployment, Debugging, and Performance'\n",
      " 'Management of Urban Infrastructures – part 1'\n",
      " 'Investment Strategies and Portfolio Analysis'\n",
      " 'Financial Acumen for Non-Financial Managers'\n",
      " 'Effective Sales – An Overview'\n",
      " 'Analyzing Company Performance using Ratios'\n",
      " 'Developing Applications with Google Cloud'\n",
      " 'Advanced Machine Learning on Google Cloud'\n",
      " \"L'excellence opérationnelle en pratique\" 'Six Sigma Principles'\n",
      " 'Developing Applications with Google Cloud 日本語版'\n",
      " 'Six Sigma and the Organization (Advanced)'\n",
      " 'Measure and Optimize Social Media Marketing Campaigns'\n",
      " 'Becoming a changemaker: Introduction to Social Innovation'\n",
      " 'Managing Major Engineering Projects'\n",
      " 'Financial Analysis of Scenarios and Decisions'\n",
      " 'Wharton Business and Financial Modeling Capstone'\n",
      " 'The GRC Approach to Managing Cybersecurity'\n",
      " 'Software Engineering Tools and Practices'\n",
      " 'Preparing for Google Cloud Certification: Cloud Developer'\n",
      " 'Design of High-Performance Optical Systems'\n",
      " 'Data Structures and Performance'\n",
      " 'Understanding Financial Statements: Company Performance'\n",
      " 'Performance Testing with JMeter for absolute beginners'\n",
      " 'Introduction to High-Performance and Parallel Computing'\n",
      " 'Sports Performance Analytics'\n",
      " 'Baking Lights for Better Performance in Unity'\n",
      " 'Optimizing Performance of LookML Queries'\n",
      " 'Preparing for Google Cloud Certification: Machine Learning Engineer'\n",
      " 'Sales Operations/Management'\n",
      " 'Inspiring Peak Performance on Technical Teams'\n",
      " 'Improve Business Performance with Microsoft Forms'\n",
      " 'Application Deployment, Debug, Performance 日本語版'\n",
      " 'Guitar Performance Techniques'\n",
      " 'RESTful Microservices Performance Monitoring with Actuators'\n",
      " 'Improve Business Performance with Google Forms'\n",
      " 'Imagery, Automation, and Applications'\n",
      " 'Reality Bites: Introduction to metaphysics'\n",
      " 'Basic Data Descriptors, Statistical Distributions, and Application to Business Decisions'\n",
      " 'Reducing Gun Violence in America: Evidence for Change'\n",
      " 'Bienestar, equidad y derechos humanos'\n",
      " 'Anatomy of the Chest, Neck, Abdomen, and Pelvis'\n",
      " 'Finanzas para directivos'\n",
      " 'Negotiation, Mediation, and Conflict Resolution - Capstone Project'\n",
      " 'Analizando las Políticas Económicas'\n",
      " 'Crea una página web interactiva con JavaScript'\n",
      " 'Bajemos la temperatura: De la ciencia climática a la acción'\n",
      " 'Desarrollador front-end de Meta'\n",
      " 'Introduction to Financial Engineering and Risk Management'\n",
      " 'Stability and Capability in Quality Improvement'\n",
      " 'Calculus through Data & Modeling: Limits & Derivatives'\n",
      " 'Geographical Information Systems - Part 1'\n",
      " 'Cálculo Diferencial e Integral unidos por el Teorema Fundamental del Cálculo'\n",
      " 'Science & Religion 101' 'Mejores Decisiones con Business Analytics'\n",
      " 'Gestión del canal de distribución y retailing'\n",
      " 'Data Platform, Cloud Networking and AI in the Cloud'\n",
      " 'Tencent Cloud Solutions Architect Professional' 'Privacy in Europe'\n",
      " '3D Reconstruction - Multiple Viewpoints'\n",
      " 'Analizar datos para responder preguntas'\n",
      " 'PowerBI Report Development Crash Course' 'Usable Security'\n",
      " 'Developing FPGA-accelerated cloud applications with SDAccel: Theory'\n",
      " 'Design a User Interface (UI) Story Map in Miro'\n",
      " 'Build Inclusive User Personas in Miro'\n",
      " 'Nützliches Feedback geben (Giving Helpful Feedback)'\n",
      " 'Customer Journey Maps with IoT Touchpoints in Miro'\n",
      " 'Create User Stories in Miro'\n",
      " 'Look Mock Analyze to Find Strengths & Weaknesses in Miro'\n",
      " 'Get Started with User Experience (UX) Design in Miro'\n",
      " 'Create a User Journey Map in Miro'\n",
      " 'Identify UX Opportunities with Service Blueprints in Miro'\n",
      " 'Analyze User Experience (UX) Survey Data in Miro'\n",
      " 'Value Chain Analysis and Visualization in Miro'\n",
      " 'Identify UX Pain Points with Empathy Maps in Miro'\n",
      " 'Streamline Business Processes with Swimlanes in Miro'\n",
      " 'Create a value proposition canvas in Miro'\n",
      " 'Involve Critical Players with Stakeholder Maps in Miro'\n",
      " 'Scrum Team Building Using Games and Interactive Tools'\n",
      " 'Feedback Loops: Horizontal Feedback'\n",
      " 'Net Promoter Score (NPS) and Sentiment Analysis in Miro'\n",
      " 'Cloud Computing Foundations' 'Building a Team in Microsoft Teams'\n",
      " 'Design Remote Meeting Boards in Miro'\n",
      " 'Smart Working: Lavoro agile e Business English'\n",
      " 'Unleashing the Impact of your Social Enterprise'\n",
      " 'Identify One Source of Truth with a Project Wall in Miro'\n",
      " 'Aruba Network Security Basics' 'Human Factors in AI'\n",
      " 'Microsoft Azure Management Tools and Security Solutions'\n",
      " 'Population Health: Responsible Data Analysis'\n",
      " 'Blockchain, Cryptoassets, and Decentralized Finance'\n",
      " 'FinTech: Foundations, Payments, and Regulations'\n",
      " 'Customer Centricity with Professor Jagdish Sheth'\n",
      " 'Journalism, the future, and you!' 'Hardware Security' 'Access Controls'\n",
      " 'Getting Started with ProfitBooks'\n",
      " 'Conversational Selling Playbook for SDRs' 'Blockchain'\n",
      " 'Interpretable Machine Learning Applications: Part 2'\n",
      " 'How to Modernize applications with IBM CICS'\n",
      " 'Securing Cloud Applications with Identity Aware Proxy (IAP) using Zero-Trust'\n",
      " 'Trustworthy AI for Healthcare Management'\n",
      " 'Predict Sales and Forecast Trends in Google Sheets'\n",
      " 'Measurement – Turning Concepts into Data'\n",
      " 'Interpretable Machine Learning Applications: Part 1'\n",
      " 'Explainable Machine Learning with LIME and H2O in R'\n",
      " 'Platform Thinking: exploiting data through platforms'\n",
      " 'Machine Learning Under the Hood: The Technical Tips, Tricks, and Pitfalls'\n",
      " 'Expenses in ProfitBooks' 'Income Features in ProfitBooks'\n",
      " 'Interpretable machine learning applications: Part 3'\n",
      " 'Protecting the World: Introducing Corrosion Science and Engineering'\n",
      " 'CUDA Advanced Libraries' 'Mastering Statics']'\n",
      "Unique values in 'Trainer':\n",
      "'['The Hong Kong University of Science and Technology'\n",
      " 'University of London' 'University of Pennsylvania'\n",
      " 'University of California, Santa Cruz' 'IBM' 'Meta' 'Google'\n",
      " 'University of California, Irvine' 'University of Colorado Boulder'\n",
      " 'Google Cloud' 'INSEAD' 'University of Toronto'\n",
      " 'Digital Marketing Institute' 'Universidad Austral'\n",
      " 'The State University of New York' 'Georgia Institute of Technology'\n",
      " 'University of Michigan' 'Macquarie University'\n",
      " 'Arizona State University' 'National University of Singapore'\n",
      " 'Emory University' 'University of California, Davis'\n",
      " 'University of Amsterdam' 'SkillUp EdTech' 'Rice University'\n",
      " 'Coursera Project Network' 'Institut Mines-Télécom'\n",
      " 'Tecnológico de Monterrey' 'University of Illinois at Urbana-Champaign'\n",
      " 'Yale University' 'University of Washington' 'The University of Sydney'\n",
      " 'Duke University' 'University of Minnesota' 'Microsoft'\n",
      " 'Johns Hopkins University' 'Indian School of Business'\n",
      " 'University System of Georgia' 'The Museum of Modern Art'\n",
      " 'Measure What Matters' 'Berklee' 'Copenhagen Business School'\n",
      " 'Knowledge Accelerators' 'New York University' 'Northwestern University'\n",
      " 'University of Houston' 'DeepLearning.AI, Amazon Web Services'\n",
      " 'DeepLearning.AI' 'Alberta Machine Intelligence Institute'\n",
      " 'IIMA - IIM Ahmedabad' 'Columbia University'\n",
      " 'Eindhoven University of Technology' 'GitLab'\n",
      " 'Technische Universität München (TUM)' 'Voxy'\n",
      " 'DeepLearning.AI, Stanford University' 'Università Bocconi'\n",
      " 'Fundação Instituto de Administração' 'Dartmouth College'\n",
      " 'ESSEC Business School' 'Siemens' 'Universidade de São Paulo'\n",
      " 'University of Colorado System' 'Autodesk' 'SAS'\n",
      " 'Rutgers the State University of New Jersey' 'University at Buffalo'\n",
      " 'Korea Advanced Institute of Science and Technology(KAIST)' 'L&T EduTech'\n",
      " 'HEC Paris' 'O.P. Jindal Global University' 'École normale supérieure'\n",
      " 'Alignor' 'Universiteit Leiden' 'University of Cape Town' 'Campus BBVA'\n",
      " 'Commonwealth Education Trust' 'Indian Institute for Human Settlements'\n",
      " 'Erasmus University Rotterdam' 'Universidad de los Andes'\n",
      " 'Universidad Nacional Autónoma de México'\n",
      " 'Universidade Estadual de Campinas' 'University of Geneva'\n",
      " 'Goodwill Industries International'\n",
      " 'Technion - Israel Institute of Technology'\n",
      " 'Universitat Autònoma de Barcelona' 'Wesleyan University'\n",
      " 'University of Leeds' 'Michigan State University' 'CertNexus'\n",
      " 'CVS Health' 'Queen Mary University of London'\n",
      " 'Automatic Data Processing, Inc. (ADP)' 'The University of Hong Kong'\n",
      " 'University of Virginia' '(ISC)²' 'Northeastern University'\n",
      " 'The University of Edinburgh' 'Infosec'\n",
      " 'University of Maryland, College Park'\n",
      " 'University of California San Diego' 'Sciences Po'\n",
      " 'California Institute of the Arts'\n",
      " 'Parsons School of Design, The New School' 'University of Alberta'\n",
      " 'IE Business School' 'Institute for the Future' 'Deep Teaching Solutions'\n",
      " 'University of Florida' 'University of Zurich'\n",
      " 'The Pennsylvania State University' 'Imperial College London'\n",
      " 'Politecnico di Milano' 'EDHEC Business School'\n",
      " 'Pontificia Universidad Católica de Chile' 'Lund University'\n",
      " 'UNSW Sydney (The University of New South Wales)' 'EIT Digital'\n",
      " 'Vanderbilt University' 'The University of Tokyo'\n",
      " 'École des Ponts ParisTech' 'The University of Notre Dame'\n",
      " 'Advancing Women in Tech' 'Goldman Sachs'\n",
      " 'Case Western Reserve University' 'University of North Texas'\n",
      " 'Stanford University' 'HRCI' 'Amazon Web Services'\n",
      " 'Alfaisal University | KLD' 'IESE Business School' 'LearnQuest'\n",
      " 'The Linux Foundation' 'University of Copenhagen' 'UBITS'\n",
      " 'University of Lausanne' 'Salesforce' 'Palo Alto Networks'\n",
      " 'The Chinese University of Hong Kong' 'The University of Melbourne'\n",
      " 'University of Glasgow' 'SoFi' 'West Virginia University' 'Oracle'\n",
      " 'École Polytechnique Fédérale de Lausanne' 'Codio' 'The World Bank Group'\n",
      " 'Intel' 'Tencent Cloud' 'Università di Napoli Federico II'\n",
      " 'HPE Aruba Networking' 'University of Manchester']'\n",
      "Unique values in 'rate':\n",
      "'['4.7' '4.8' '4.6' '4.9' '4.5' '4.3' '4.2' '4.4' '4.0' '3.7' '3.9' '4.1'\n",
      " '5.0' '3.8' '3.3' '3.0' '3.1' '3.6']'\n",
      "Unique values in 'evaluation nbr':\n",
      "'['(374 reviews)' '(101 reviews)' '(1.9k reviews)' '(3.4k reviews)'\n",
      " '(43.9k reviews)' '(11.3k reviews)' '(2.1k reviews)' '(195 reviews)'\n",
      " '(6.7k reviews)' '(1.5k reviews)' '(141 reviews)' '(1.2k reviews)'\n",
      " '(2.8k reviews)' '(437 reviews)' '(289 reviews)' '(2.6k reviews)'\n",
      " '(144 reviews)' '(155 reviews)' '(176 reviews)' '(1.7k reviews)'\n",
      " '(25.4k reviews)' '(10.7k reviews)' '(7 reviews)' '(654 reviews)'\n",
      " '(367 reviews)' '(43 reviews)' '(7.6k reviews)' '(293 reviews)'\n",
      " '(157 reviews)' '(1.8k reviews)' '(785 reviews)' '(22 reviews)'\n",
      " '(4.2k reviews)' '(266 reviews)' '(455 reviews)' '(67.9k reviews)'\n",
      " '(9 reviews)' '(120 reviews)' '(24 reviews)' '(17 reviews)'\n",
      " '(29 reviews)' '(162 reviews)' '(17k reviews)' '(4.6k reviews)'\n",
      " '(21 reviews)' '(299 reviews)' '(1.1k reviews)' '(88.7k reviews)'\n",
      " '(4.3k reviews)' '(32 reviews)' '(5.7k reviews)' '(134 reviews)'\n",
      " '(899 reviews)' '(278 reviews)' '(197 reviews)' '(16.3k reviews)'\n",
      " '(13.4k reviews)' '(156 reviews)' '(2k reviews)' '(3.5k reviews)'\n",
      " '(22.2k reviews)' '(8.5k reviews)' '(17.5k reviews)' '(11.7k reviews)'\n",
      " '(145 reviews)' '(2.5k reviews)' '(8.7k reviews)' '(52.3k reviews)'\n",
      " '(10k reviews)' '(14k reviews)' '(4k reviews)' '(609 reviews)'\n",
      " '(241 reviews)' '(396 reviews)' '(308 reviews)' '(4.7k reviews)'\n",
      " '(128 reviews)' '(11.5k reviews)' '(95 reviews)' '(1.4k reviews)'\n",
      " '(781 reviews)' '(4.4k reviews)' '(217 reviews)' '(478 reviews)'\n",
      " '(745 reviews)' '(67 reviews)' '(3.1k reviews)' '(399 reviews)'\n",
      " '(23 reviews)' '(46 reviews)' '(56 reviews)' '(18.4k reviews)'\n",
      " '(6.1k reviews)' '(571 reviews)' '(105 reviews)' '(9.3k reviews)'\n",
      " '(1k reviews)' '(136 reviews)' '(4.8k reviews)' '(5.9k reviews)'\n",
      " '(863 reviews)' '(15 reviews)' '(213 reviews)' '(7.3k reviews)'\n",
      " '(1.6k reviews)' '(9.8k reviews)' '(356 reviews)' '(490 reviews)'\n",
      " '(385 reviews)' '(223 reviews)' '(895 reviews)' '(13.9k reviews)'\n",
      " '(3k reviews)' '(465 reviews)' '(89 reviews)' '(411 reviews)'\n",
      " '(177 reviews)' '(253 reviews)' '(819 reviews)' '(346 reviews)'\n",
      " '(361 reviews)' '(34 reviews)' '(328 reviews)' '(2.2k reviews)'\n",
      " '(340 reviews)' '(70 reviews)' '(169 reviews)' '(2.7k reviews)'\n",
      " '(304 reviews)' '(1.3k reviews)' '(52 reviews)' '(5.3k reviews)'\n",
      " '(39 reviews)' '(139 reviews)' '(284 reviews)' '(19 reviews)'\n",
      " '(3.9k reviews)' '(4.9k reviews)' '(3.7k reviews)' '(61 reviews)'\n",
      " '(239 reviews)' '(370 reviews)' '(30 reviews)' '(182 reviews)'\n",
      " '(152 reviews)' '(608 reviews)' '(8.8k reviews)' '(828 reviews)'\n",
      " '(8 reviews)' '(18 reviews)' '(446 reviews)' '(477 reviews)'\n",
      " '(108 reviews)' '(64 reviews)' '(109 reviews)' '(193 reviews)'\n",
      " '(63 reviews)' '(153 reviews)' '(53 reviews)' '(244 reviews)'\n",
      " '(44 reviews)' '(352 reviews)' '(335 reviews)' '(13 reviews)'\n",
      " '(216 reviews)' '(483 reviews)' '(65 reviews)' '(37 reviews)'\n",
      " '(294 reviews)' '(69 reviews)' '(114 reviews)' '(50 reviews)'\n",
      " '(212 reviews)' '(142 reviews)' '(25 reviews)' '(154 reviews)'\n",
      " '(393 reviews)' '(38 reviews)' '(51 reviews)' '(5.5k reviews)'\n",
      " '(523 reviews)' '(865 reviews)' '(97 reviews)' '(87 reviews)'\n",
      " '(85 reviews)' '(211 reviews)' '(313 reviews)' '(14 reviews)'\n",
      " '(673 reviews)' '(81 reviews)' '(57 reviews)' '(983 reviews)'\n",
      " '(222 reviews)' '(83 reviews)' '(628 reviews)' '(365 reviews)'\n",
      " '(5.2k reviews)' '(486 reviews)' '(40 reviews)' '(133 reviews)'\n",
      " '(126 reviews)' '(3.3k reviews)' '(21.3k reviews)' '(19k reviews)'\n",
      " '(19.5k reviews)' '(7.2k reviews)' '(54 reviews)' '(445 reviews)'\n",
      " '(3.2k reviews)' '(5.6k reviews)' '(595 reviews)' '(848 reviews)'\n",
      " '(219 reviews)' '(116 reviews)' '(978 reviews)' '(410 reviews)'\n",
      " '(928 reviews)' '(66 reviews)' '(344 reviews)' '(550 reviews)'\n",
      " '(167 reviews)' '(296 reviews)' '(626 reviews)' '(168 reviews)'\n",
      " '(712 reviews)' '(8.3k reviews)' '(454 reviews)' '(619 reviews)'\n",
      " '(188 reviews)' '(26 reviews)' '(6.2k reviews)' '(268 reviews)'\n",
      " '(692 reviews)' '(967 reviews)' '(4.1k reviews)' '(88 reviews)'\n",
      " '(159 reviews)' '(242 reviews)' '(479 reviews)' '(33 reviews)'\n",
      " '(2.3k reviews)' '(474 reviews)' '(297 reviews)' '(787 reviews)'\n",
      " '(180 reviews)' '(830 reviews)' '(634 reviews)' '(963 reviews)'\n",
      " '(377 reviews)' '(264 reviews)' '(49 reviews)' '(16.4k reviews)'\n",
      " '(3.6k reviews)' '(395 reviews)' '(498 reviews)' '(276 reviews)'\n",
      " '(881 reviews)' '(82 reviews)' '(5.4k reviews)' '(778 reviews)'\n",
      " '(68 reviews)' '(75 reviews)' '(507 reviews)' '(107 reviews)'\n",
      " '(767 reviews)' '(149 reviews)' '(577 reviews)' '(878 reviews)'\n",
      " '(451 reviews)' '(172 reviews)' '(691 reviews)' '(87.1k reviews)'\n",
      " '(16 reviews)' '(885 reviews)' '(163 reviews)' '(47 reviews)'\n",
      " '(132 reviews)' '(60 reviews)' '(143 reviews)' '(183 reviews)'\n",
      " '(243 reviews)' '(48 reviews)' '(954 reviews)' '(67.8k reviews)'\n",
      " '(55 reviews)' '(119 reviews)' '(20 reviews)' '(73 reviews)'\n",
      " '(28 reviews)' '(439 reviews)' '(303 reviews)' '(74 reviews)'\n",
      " '(799 reviews)' '(135 reviews)' '(254 reviews)' '(112 reviews)'\n",
      " '(71 reviews)' '(723 reviews)' '(480 reviews)' '(519 reviews)'\n",
      " '(450 reviews)' '(2.9k reviews)' '(6.3k reviews)' '(31 reviews)'\n",
      " '(174.4k reviews)' '(40.5k reviews)' '(35 reviews)' '(527 reviews)'\n",
      " '(103 reviews)' '(27 reviews)' '(484 reviews)' '(248 reviews)'\n",
      " '(594 reviews)' '(860 reviews)' '(324 reviews)' '(12 reviews)'\n",
      " '(629 reviews)' '(436 reviews)' '(106 reviews)' '(701 reviews)'\n",
      " '(448 reviews)' '(10.4k reviews)' '(639 reviews)' '(91 reviews)'\n",
      " '(39.6k reviews)' '(461 reviews)' '(15.4k reviews)' '(5.8k reviews)'\n",
      " '(23.7k reviews)' '(10 reviews)' '(2.4k reviews)' '(7.1k reviews)'\n",
      " '(59 reviews)' '(887 reviews)' '(49.2k reviews)' '(476 reviews)'\n",
      " '(872 reviews)' '(6 reviews)' '(997 reviews)' '(771 reviews)'\n",
      " '(323 reviews)' '(908 reviews)' '(261 reviews)' '(202 reviews)'\n",
      " '(333 reviews)' '(84 reviews)' '(341 reviews)' '(894 reviews)'\n",
      " '(526 reviews)' '(42 reviews)' '(123 reviews)' '(670 reviews)'\n",
      " '(191 reviews)' '(607 reviews)' '(409 reviews)' '(228 reviews)'\n",
      " '(633 reviews)' '(225 reviews)' '(733 reviews)' '(161 reviews)'\n",
      " '(146 reviews)' '(359 reviews)' '(388 reviews)' '(941 reviews)'\n",
      " '(215 reviews)' '(26.4k reviews)' '(406 reviews)' '(363 reviews)'\n",
      " '(314 reviews)' '(127 reviews)' '(72 reviews)' '(649 reviews)'\n",
      " '(402 reviews)' '(302 reviews)' '(7.4k reviews)' '(36 reviews)'\n",
      " '(138 reviews)' '(394 reviews)' '(462 reviews)' '(235 reviews)'\n",
      " '(233 reviews)' '(78 reviews)' '(414 reviews)' '(90 reviews)'\n",
      " '(408 reviews)' '(326 reviews)' '(923 reviews)' '(720 reviews)'\n",
      " '(753 reviews)' '(259 reviews)' '(47.9k reviews)' '(580 reviews)'\n",
      " '(710 reviews)' '(11 reviews)' '(466 reviews)' '(50.7k reviews)'\n",
      " '(45 reviews)' '(725 reviews)' '(192 reviews)' '(25.3k reviews)'\n",
      " '(327 reviews)' '(545 reviews)' '(678 reviews)' '(249 reviews)'\n",
      " '(348 reviews)' '(412 reviews)' '(230 reviews)' '(686 reviews)'\n",
      " '(76 reviews)' '(240 reviews)' '(204 reviews)' '(369 reviews)'\n",
      " '(201 reviews)' '(392 reviews)' '(343 reviews)' '(11k reviews)'\n",
      " '(644 reviews)' '(301 reviews)' '(309 reviews)' '(186 reviews)'\n",
      " '(62 reviews)' '(805 reviews)']'\n",
      "Unique values in 'level':\n",
      "'['Mixed level 1' 'Beginner level 1' 'Intermediate level 3'\n",
      " 'Beginner level 3' 'Advanced level 3' 'Intermediate level 1'\n",
      " 'Intermediate level Less' 'Advanced level 1' 'Mixed level 3'\n",
      " 'Beginner level Less']'\n",
      "Unique values in 'duration':\n",
      "'['1 - 3 Months' '1 - 4 Weeks' '3 - 6 Months' 'Less Than 2 Hours']'\n",
      "Unique values in 'aquired competences':\n",
      "'[('Business Communication', 'Business Psychology', 'Communication', 'Culture', 'Leadership and Management')\n",
      " ('Communication', 'Entrepreneurship', 'Leadership and Management', 'Marketing', 'Sales', 'Strategy', 'Strategy and Operations')\n",
      " ('Communication', 'Employee Relations', 'Human Resources')\n",
      " ('Probability & Statistics', 'Bayesian Statistics', 'General Statistics', 'Probability Distribution', 'Data Science', 'Statistical Programming', 'R Programming', 'Regression', 'Forecasting', 'Machine Learning', 'Markov Model', 'Statistical Machine Learning', 'Bayesian Network', 'Basic Descriptive Statistics', 'Estimation', 'Experiment', 'Correlation And Dependence', 'Data Visualization', 'Machine Learning Algorithms', 'Statistical Tests', 'Statistical Visualization', 'Advertising', 'Business Analysis', 'Communication', 'Data Analysis', 'Graph Theory', 'Marketing', 'Mathematics', 'Statistical Analysis')\n",
      " ('Data Management', 'Databases', 'Data Structures', 'Big Data', 'Data Architecture', 'Database Theory', 'SQL', 'Apache', 'Extract', 'Transform', 'Load', 'Database Administration', 'Python Programming', 'Data Analysis', 'Data Model', 'Database Application', 'Data Warehousing', 'NoSQL', 'Data Engineering', 'Distributed Computing Architecture', 'Programming Principles', 'Operating Systems', 'Database Design', 'Statistical Programming', 'Computer Programming', 'Linux', 'Algebra', 'PostgreSQL', 'Computer Architecture', 'Applied Machine Learning', 'Correlation And Dependence', 'Feature Engineering', 'General Statistics', 'Graph Theory', 'Machine Learning', 'Machine Learning Algorithms', 'Machine Learning Software', 'Regression', 'Statistical Analysis', 'Statistical Machine Learning', 'Data Visualization', 'Data Visualization Software', 'Advertising', 'Communication', 'Computer Networking', 'Computer Programming Tools', 'Marketing', 'Network Model', 'Networking Hardware', 'Public Relations', 'System Programming', 'System Software', 'Basic Descriptive Statistics', 'Exploratory Data Analysis', 'Software Engineering', 'Theoretical Computer Science', 'Cloud Applications', 'Cloud Computing', 'Data Science', 'DevOps', 'Kubernetes', 'Leadership and Management', 'Network Architecture', 'Network Security', 'Other Programming Languages', 'Professional Development', 'Security Engineering', 'Algorithms', 'Cloud Engineering', 'Cloud Platforms', 'Cloud Storage', 'Computational Logic', 'Computational Thinking', 'IBM Cloud', 'Mathematical Theory & Analysis', 'Mathematics', 'Microarchitecture', 'Project Management', 'Security Strategy', 'Software Architecture', 'Strategy and Operations')\n",
      " ('Web Development', 'Front-End Web Development', 'React (web framework)', 'Javascript', 'Computer Programming', 'HTML and CSS', 'Software Engineering Tools', 'Software Engineering', 'Human Computer Interaction', 'User Experience', 'Data Management', 'Theoretical Computer Science', 'Algorithms', 'Data Structures', 'Research and Design', 'Interactive Design', 'User Experience Design', 'Big Data', 'Calculus', 'Computer Programming Tools', 'Entrepreneurship', 'Leadership and Management', 'Market Research', 'Mathematics', 'Operations Research', 'Problem Solving', 'Programming Principles', 'Strategy and Operations', 'Software Framework', 'Software Testing', 'Algebra', 'Application Development', 'Business Psychology', 'Cloud Computing', 'Communication', 'Computational Thinking', 'Computer Architecture', 'Computer Networking', 'Computer Science', 'Design and Product', 'Linux', 'Network Architecture', 'Network Model', 'Network Security', 'Project Management', 'Python Programming', 'Security Engineering', 'Semantic Web', 'Statistical Programming', 'Web Design', 'Web Development Tools')\n",
      " ('Marketing', 'Digital Marketing', 'Advertising', 'Data Analysis', 'Business Analysis', 'Marketing Management', 'Media Strategy & Planning', 'Statistical Analysis', 'Probability & Statistics', 'Communication', 'Market Analysis', 'Experiment', 'General Statistics', 'Data Visualization', 'Market Research', 'Regression', 'Statistical Tests', 'Storytelling', 'Basic Descriptive Statistics', 'Brand Management', 'Data Analysis Software', 'Data Visualization Software', 'Forecasting', 'Probability Distribution', 'Research and Design', 'Spreadsheet Software', 'Accounting', 'Computer Networking', 'Computer Programming', 'Data Management', 'Databases', 'Entrepreneurship', 'Finance', 'Leadership and Management', 'Network Security', 'Operating Systems', 'Python Programming', 'Regulations and Compliance', 'SQL', 'Sales', 'Security Engineering', 'Security Strategy', 'Statistical Programming', 'Strategy', 'Strategy and Operations', 'System Security', 'Tableau Software', 'Web Development')\n",
      " ('Data Analysis', 'Business Analysis', 'Data Management', 'Statistical Programming', 'Data Visualization', 'Databases', 'Process Analysis', 'SQL', 'Probability & Statistics', 'Entrepreneurship', 'Leadership and Management', 'Spreadsheet Software', 'Exploratory Data Analysis', 'Computer Programming', 'Data Analysis Software', 'Visualization (Computer Graphics)', 'Extract', 'Transform', 'Load', 'R Programming', 'Problem Solving', 'Research and Design', 'Communication', 'Computer Architecture', 'Decision Making', 'Programming Principles', 'Security Engineering', 'Strategy and Operations', 'Theoretical Computer Science', 'Big Data', 'Computer Graphics', 'Data Structures', 'Interactive Data Visualization', 'Marketing', 'Microsoft Excel', 'Sales', 'Strategy', 'Correlation And Dependence', 'Human Resources', 'Project Management', 'Security Strategy', 'Statistical Visualization', 'Storytelling', 'Tableau Software', 'Collaboration', 'Distributed Computing Architecture', 'Graphic Design', 'Operating Systems', 'People Analysis', 'Plot (Graphics)', 'System Security', 'Accounting', 'Algorithms', 'Business Psychology', 'Calculus', 'Cloud Computing', 'Computer Networking', 'Computer Programming Tools', 'Cryptography', 'Culture', 'Database Administration', 'Finance', 'Financial Analysis', 'Full-Stack Web Development', 'General Statistics', 'Knitr', 'Mathematics', 'Network Security', 'Other Programming Languages', 'Regulations and Compliance', 'Small Data', 'Software Security', 'Visual Design', 'Web Development', 'Business Communication', 'Data Mining', 'Data Visualization Software', 'Journalism', 'Leadership Development', 'Networking Hardware')\n",
      " ('Marketing', 'Accounting', 'Digital Marketing', 'Entrepreneurship', 'Finance', 'Leadership and Management', 'Strategy and Operations', 'Communication', 'People Management', 'Planning', 'Sales', 'Strategy', 'Supply Chain and Logistics', 'Business Analysis', 'Business Communication', 'Collaboration', 'Customer Analysis', 'Financial Accounting', 'Forecasting', 'Human Resources', 'Leadership Development', 'Probability & Statistics', 'Search Engine Optimization', 'Social Media', 'Back-End Web Development', 'Customer Relationship Management', 'Storytelling', 'Web Development')\n",
      " ('Security Engineering', 'Operating Systems', 'Computer Networking', 'Network Security', 'Statistical Programming', 'Computer Programming', 'Software Security', 'System Security', 'Python Programming', 'Computer Security Incident Management', 'Theoretical Computer Science', 'Finance', 'Regulations and Compliance', 'Risk Management', 'Security Software', 'Security Strategy', 'Human Computer Interaction', 'Software Architecture', 'Software Engineering', 'User Experience', 'Cloud Computing', 'Cyberattacks', 'Data Management', 'Databases', 'Linux', 'SQL', 'Business Psychology', 'Cloud Infrastructure', 'Computer Architecture', 'Computer Programming Tools', 'Cryptography', 'Culture', 'Decision Making', 'Entrepreneurship', 'Human Resources', 'Leadership and Management', 'Network Architecture', 'Network Model', 'Probability & Statistics', 'Statistical Tests', 'Accounting', 'Advertising', 'Audit', 'Communication', 'Computational Logic', 'Computational Thinking', 'Computer Graphics', 'Critical Thinking', 'Database Design', 'General Accounting', 'General Statistics', 'Javascript', 'Journalism', 'Market Research', 'Marketing', 'Mathematics', 'Operations Management', 'Operations Research', 'Other Programming Languages', 'Planning', 'Research and Design', 'Strategy and Operations', 'Supply Chain and Logistics', 'Training', 'Virtual Reality')\n",
      " ('Business Psychology', 'Research and Design', 'User Experience Design', 'Human Computer Interaction', 'User Experience', 'Design and Product', 'Leadership and Management', 'Visual Design', 'Communication', 'Entrepreneurship', 'Web Design', 'Web Development', 'Collaboration', 'Finance', 'Marketing', 'Persona Research', 'Product Design', 'Strategy and Operations', 'Theoretical Computer Science', 'Front-End Web Development', 'Accounting', 'Adaptability', 'Brand Management', 'Business Analysis', 'Computer Architecture', 'Computer Graphics', 'Computer Networking', 'Data Analysis', 'Financial Analysis', 'Influencing', 'Interactive Design', 'Investment Management', 'Market Analysis', 'Network Architecture', 'Operating Systems', 'Problem Solving', 'Project Management', 'Risk Management', 'Sales', 'Social Media', 'Software Architecture', 'Software Engineering', 'Strategy', 'Systems Design', 'User Research', 'Audit', 'Corporate Accouting', 'Market Research')\n",
      " ('Probability & Statistics', 'Leadership and Management', 'Entrepreneurship', 'Finance', 'Risk Management', 'Communication', 'Data Visualization', 'Influencing', 'Marketing', 'Sales', 'Strategy', 'Strategy and Operations', 'Theoretical Computer Science')\n",
      " ('Cloud Computing', 'Communication', 'Leadership and Management', 'Business Analysis', 'Spreadsheet Software', 'Google Cloud Platform', 'Computer Networking', 'Networking Hardware', 'Business Communication', 'Collaboration', 'Entrepreneurship', 'Planning', 'Supply Chain and Logistics', 'Theoretical Computer Science', 'Algorithms', 'Data Visualization', 'Interactive Data Visualization', 'Data Analysis', 'Market Research', 'Research and Design')\n",
      " ('FinTech', 'Finance', 'BlockChain', 'Entrepreneurship', 'Strategy and Operations', 'Regulations and Compliance', 'Research and Design', 'Contract Management', 'Human Resources', 'Leadership and Management', 'Accounting', 'Innovation', 'Marketing', 'Recruitment', 'Creativity', 'Generally Accepted Accounting Principles (GAAP)', 'Audit', 'Brand Management', 'Business Design', 'Business Psychology', 'Conflict Management', 'Decision Making', 'Digital Marketing', 'Financial Accounting', 'Financial Management', 'Human Resources Operations', 'Leadership Development', 'Operations Management', 'Organizational Development', 'Payments', 'Sales', 'Security Strategy', 'Software Engineering', 'Strategy', 'Supply Chain Systems', 'Supply Chain and Logistics', 'Advertising', 'Business Process Management', 'Communication', 'Cryptography', 'Linear Algebra', 'Mathematics', 'Security Engineering', 'Theoretical Computer Science')\n",
      " ('Data Management', 'Business Analysis', 'Business Intelligence', 'Extract', 'Transform', 'Load', 'Data Visualization', 'Interactive Data Visualization', 'Data Model', 'Databases', 'Data Warehousing', 'Project Management', 'Strategy and Operations', 'Tableau Software', 'Computer Architecture', 'Computer Networking', 'Data Analysis', 'Database Administration', 'Database Application', 'Database Design', 'Distributed Computing Architecture', 'Full-Stack Web Development', 'Network Security', 'SQL', 'Security Engineering', 'Security Strategy', 'Statistical Programming', 'Web Development', 'Business Communication', 'Communication', 'Design and Product', 'Product Design', 'Advertising', 'Cloud Computing', 'Collaboration', 'Computer Programming', 'Entrepreneurship', 'Hardware Design', 'Journalism', 'Leadership and Management', 'Marketing', 'Mathematical Theory & Analysis', 'Mathematics', 'Performance Management', 'Plot (Graphics)', 'Python Programming', 'Research and Design', 'Sales', 'Strategy', 'Visual Design')\n",
      " ('Communication', 'Adaptability', 'Business Psychology', 'Change Management', 'Collaboration', 'Conflict Management', 'Decision Making', 'Emotional Intelligence', 'Entrepreneurship', 'Human Resources', 'Influencing', 'Leadership Development', 'Leadership and Management', 'People Development', 'Resilience', 'Culture', 'Planning', 'Problem Solving', 'Supply Chain and Logistics')\n",
      " ('Marketing', 'Digital Marketing', 'Sales', 'Communication', 'Entrepreneurship', 'Leadership and Management', 'Strategy', 'Strategy and Operations', 'Media Strategy & Planning', 'Advertising', 'Customer Support', 'E-Commerce', 'Persona Research', 'Research and Design', 'Search Engine Optimization', 'Social Media', 'Supply Chain and Logistics', 'Accounting', 'Customer Relationship Management', 'Finance', 'Influencing', 'Journalism', 'Market Research', 'Networking Hardware')\n",
      " ('Marketing', 'Digital Marketing', 'Communication', 'Social Media', 'Accounting', 'Business Analysis', 'Data Analysis', 'Entrepreneurship', 'Financial Analysis', 'Leadership and Management', 'Sales', 'Strategy and Operations', 'Data Management', 'Strategy', 'Market Analysis', 'Market Research', 'Research and Design', 'Big Data', 'Database Application', 'Databases', 'E-Commerce', 'Media Strategy & Planning', 'Supply Chain and Logistics', 'Advertising', 'Computer Programming', 'Programming Principles')\n",
      " ('Leadership Development',)\n",
      " ('Entrepreneurship', 'Finance', 'Leadership and Management', 'Marketing', 'Risk Management', 'Sales', 'Strategy', 'Strategy and Operations')\n",
      " ('Business Communication', 'Communication', 'Computer Networking', 'Networking Hardware', 'Writing')\n",
      " ('Communication', 'Emotional Intelligence', 'Leadership and Management')\n",
      " ('Communication', 'Influencing', 'Marketing', 'Business Communication', 'Conflict Management', 'Emotional Intelligence', 'Leadership and Management', 'Negotiation', 'Sales', 'Storytelling', 'Human Resources')\n",
      " ('Communication', 'Writing', 'Business Communication', 'Computer Networking', 'Networking Hardware')\n",
      " ('Communication', 'Writing', 'Media Production', 'Business Communication', 'Leadership and Management', 'Professional Development', 'Emotional Intelligence', 'Entrepreneurship', 'Business Psychology', 'Collaboration', 'Human Resources', 'People Development', 'Creativity', 'Research and Design', 'Computer Graphics', 'Graphic Design', 'Planning', 'Project Management', 'Storytelling', 'Strategy and Operations', 'Supply Chain and Logistics', 'Visual Design')\n",
      " ('Communication', 'Computer Networking', 'Entrepreneurship', 'Leadership and Management', 'Marketing', 'Networking Hardware', 'Sales', 'Strategy', 'Strategy and Operations')\n",
      " ('Communication', 'Leadership and Management', 'Entrepreneurship', 'Business Communication', 'Emotional Intelligence', 'Collaboration', 'Marketing', 'Negotiation', 'Sales', 'Adaptability', 'Culture')\n",
      " ('Leadership and Management', 'Communication', 'Strategy and Operations', 'Marketing', 'Entrepreneurship', 'Negotiation', 'Sales', 'Change Management', 'Risk Management', 'Business Psychology', 'Conflict Management', 'Influencing', 'Human Resources', 'Organizational Development', 'Business Communication', 'Business Process Management', 'Probability & Statistics', 'Culture', 'Business Analysis', 'Critical Thinking', 'Data Analysis', 'Decision Making', 'Emotional Intelligence', 'Leadership Development', 'Research and Design', 'Statistical Tests', 'Storytelling')\n",
      " ('Leadership and Management', 'Communication', 'Collaboration', 'Entrepreneurship', 'Strategy and Operations', 'Research and Design', 'Sales', 'Business Analysis', 'Marketing', 'Problem Solving', 'Critical Thinking', 'Market Research', 'Strategy', 'B2B Sales', 'Business Communication', 'Computer Networking', 'Data Visualization', 'Graph Theory', 'Mathematics', 'Network Model', 'Project Management', 'Storytelling', 'Writing', 'Business Process Management', 'Business Psychology', 'Customer Analysis', 'Data Analysis', 'Data Management', 'Organizational Development', 'Social Media', 'Survey Creation')\n",
      " ('Strategy and Operations', 'Project Management', 'Scrum (Software Development)', 'Software Engineering', 'Leadership and Management', 'Entrepreneurship', 'Communication', 'Business Psychology', 'Change Management', 'Collaboration', 'People Management', 'Agile Software Development', 'Budget Management', 'Data Visualization', 'Finance')\n",
      " ('Data Visualization', 'Data Visualization Software', 'Tableau Software', 'Data Analysis', 'Business Analysis', 'Business Intelligence', 'Data Analysis Software', 'Interactive Data Visualization', 'Statistical Visualization', 'Software Visualization', 'Plot (Graphics)', 'Storytelling', 'Communication', 'Exploratory Data Analysis', 'Geovisualization', 'Persona Research', 'Research and Design', 'Statistical Analysis', 'Visual Design', 'Probability & Statistics')\n",
      " ('Entrepreneurship', 'Leadership and Management', 'Sales', 'Planning', 'Supply Chain and Logistics', 'Marketing', 'Prospecting and Qualification', 'Strategy and Operations', 'Strategy', 'Accounting', 'Taxes', 'Business Psychology', 'Communication', 'Customer Relationship Management', 'Entrepreneurial Finance', 'Financial Analysis', 'Organizational Development', 'Professional Development', 'Writing', 'Contract Management', 'Data Analysis')\n",
      " ('Communication', 'Business Communication', 'Storytelling', 'Computer Architecture', 'Computer Networking', 'Cryptography', 'Entrepreneurship', 'Leadership and Management', 'Market Research', 'Marketing', 'Negotiation', 'Network Architecture', 'Research and Design', 'Sales', 'Security Engineering', 'Strategy', 'Strategy and Operations', 'Theoretical Computer Science', 'Creativity', 'Problem Solving', 'Resilience')\n",
      " ('Communication', 'Business Psychology', 'Culture', 'Leadership and Management')\n",
      " ('Communication', 'Project Management') ('Communication',)\n",
      " ('Communication', 'Leadership and Management')\n",
      " ('Communication', 'Business Psychology', 'Computational Logic', 'Culture', 'Leadership and Management', 'Mathematical Theory & Analysis', 'Mathematics', 'Theoretical Computer Science')\n",
      " ('Operating Systems', 'Computer Networking', 'System Software', 'Network Model', 'Security Engineering', 'Network Security', 'Computer Architecture', 'Cryptography', 'Cyberattacks', 'Computer Security Incident Management', 'Networking Hardware', 'Network Architecture', 'Business Communication', 'Communication', 'Hardware Design', 'Mathematics', 'Security Strategy', 'Writing', 'Business Analysis', 'Business Psychology', 'Computer Graphics', 'Computer Programming', 'Computer Programming Tools', 'Computer Security Models', 'Databases', 'Distributed Computing Architecture', 'Entrepreneurship', 'Graphic Design', 'Linux', 'Other Programming Languages', 'Process Analysis', 'Software Engineering', 'Software Testing', 'Theoretical Computer Science', 'Web Development', 'Web Development Tools', 'Cloud Computing', 'Cloud Platforms', 'Cloud Storage', 'Data Architecture', 'Data Management', 'Database Administration', 'Database Application', 'Emotional Intelligence', 'Human Computer Interaction', 'Leadership and Management', 'Marketing', 'Microarchitecture', 'Planning', 'Problem Solving', 'Product Lifecycle', 'Sales', 'Security Software', 'Software As A Service', 'Software Security', 'Strategy', 'Strategy and Operations', 'Supply Chain and Logistics', 'System Programming', 'System Security', 'Systems Design', 'Virtual Reality')\n",
      " ('Leadership and Management', 'Project Management', 'Strategy and Operations')\n",
      " ('Business Analysis', 'Computer Programming', 'Human Resources', 'Javascript', 'Spreadsheet Software', 'Web Development', 'Microsoft Excel', 'Project Management')\n",
      " ('Internet Of Things', 'Network Architecture')\n",
      " ('Communication', 'Marketing', 'Negotiation', 'Sales', 'Business Analysis', 'Critical Thinking', 'Leadership and Management', 'Research and Design', 'Strategy and Operations', 'Conflict Management', 'Human Resources', 'Emotional Intelligence')\n",
      " ('Computer Architecture', 'Computer Networking', 'Internet Of Things', 'Software Engineering', 'Network Model', 'Communication', 'Network Architecture', 'Network Security', 'Security Engineering')\n",
      " ('Communication', 'Leadership and Management', 'Human Resources', 'Business Psychology', 'Conflict Management', 'Culture', 'Leadership Development')\n",
      " ('Digital Marketing', 'Marketing', 'Marketing Management', 'Media Strategy & Planning', 'Sales', 'E-Commerce', 'Communication', 'Data Analysis', 'Social Media', 'Search Engine Optimization', 'Advertising', 'Leadership and Management', 'Strategy and Operations', 'Business Communication', 'Customer Success', 'Professional Development', 'Research and Design', 'Survey Creation', 'Data Visualization', 'Entrepreneurship', 'Persona Research', 'Storytelling', 'Strategy', 'Web Design', 'Web Development', 'Web Development Tools', 'Brand Management', 'Writing', 'Accounting', 'Back-End Web Development', 'Computer Networking', 'Customer Relationship Management', 'Customer Support', 'Data Management', 'Finance', 'Financial Analysis', 'Human Resources', 'Market Analysis', 'Market Research', 'Mathematical Theory & Analysis', 'Mathematics', 'Networking Hardware', 'Supply Chain and Logistics')\n",
      " ('Communication', 'Marketing', 'Negotiation', 'Sales', 'Business Analysis', 'Critical Thinking', 'Entrepreneurship', 'Game Theory', 'Leadership and Management', 'Mathematics', 'Problem Solving', 'Research and Design', 'Strategy', 'Strategy and Operations')\n",
      " ('Communication', 'Business Psychology', 'Culture', 'Leadership and Management', 'Emotional Intelligence', 'Leadership Development')\n",
      " ('Communication', 'Marketing', 'Public Relations', 'Leadership and Management', 'Advertising', 'Entrepreneurship', 'Brand Management', 'Computer Architecture', 'Computer Networking', 'Journalism', 'Network Architecture', 'Sales', 'Storytelling', 'Strategy', 'Strategy and Operations', 'Planning', 'Supply Chain and Logistics', 'Writing')\n",
      " ('Digital Marketing', 'Marketing', 'Marketing Management', 'Media Strategy & Planning', 'Communication', 'Data Analysis', 'Writing')\n",
      " ('Project Management', 'Strategy and Operations', 'Leadership and Management', 'Communication', 'Collaboration', 'Agile Software Development', 'Entrepreneurship', 'Software Engineering', 'Business Communication', 'Scrum (Software Development)', 'Planning', 'Supply Chain and Logistics', 'Business Psychology', 'Change Management', 'Finance', 'Organizational Development', 'Product Management', 'Risk Management', 'Budget Management', 'Conflict Management', 'Design and Product', 'Human Resources', 'Influencing', 'Storytelling', 'Writing', 'Application Development', 'Business Process Management', 'Culture', 'Emotional Intelligence', 'Estimation', 'Leadership Development', 'Marketing', 'Negotiation', 'Operations Management', 'Operations Research', 'People Management', 'Probability & Statistics', 'Problem Solving', 'Procurement', 'Product Design', 'Product Development', 'Public Relations', 'Research and Design', 'Sales', 'Software Engineering Tools', 'Software Testing', 'Statistical Tests', 'Strategy', 'Supply Chain Systems', 'User Experience', 'Vendor Management')\n",
      " ('Business Communication', 'Communication', 'Marketing', 'Entrepreneurship', 'Writing', 'Computer Networking', 'Networking Hardware', 'Leadership and Management', 'Negotiation', 'Planning', 'Sales', 'Supply Chain and Logistics')\n",
      " ('Communication', 'Leadership and Management', 'Entrepreneurship', 'Human Resources', 'Marketing', 'Business Communication', 'Business Psychology', 'Collaboration', 'Design and Product', 'Marketing Management', 'Organizational Development', 'People Management', 'Product Marketing', 'Strategy and Operations')\n",
      " ('Cloud Computing', 'Computer Programming', 'Microsoft Azure', 'Python Programming', 'Statistical Programming', 'Communication', 'Project Management', 'Strategy and Operations')\n",
      " ('Communication', 'Entrepreneurship', 'Leadership and Management', 'Market Research', 'Problem Solving', 'Research and Design')\n",
      " ('Accounting', 'Data Management', 'Financial Accounting', 'General Accounting', 'Business Analysis', 'Data Analysis', 'Leadership and Management', 'Business Communication', 'Communication', 'Marketing', 'R Programming', 'Statistical Programming', 'Accounts Payable and Receivable', 'Data Visualization', 'Data Visualization Software', 'Exploratory Data Analysis', 'Storytelling', 'Basic Descriptive Statistics', 'Behavioral Economics', 'Big Data', 'Business Intelligence', 'Business Psychology', 'Data Analysis Software', 'Data Mining', 'Database Administration', 'Databases', 'Extract', 'Transform', 'Load', 'Generally Accepted Accounting Principles (GAAP)', 'Sales', 'Security Engineering', 'Software Security', 'Spreadsheet Software', 'Statistical Analysis', 'Statistical Visualization', 'Budget Management', 'Data Structures', 'Finance', 'Innovation', 'Strategy', 'Taxes')\n",
      " ('Business Communication', 'Communication', 'Computer Graphics', 'Entrepreneurship', 'Graphic Design', 'Leadership and Management', 'Planning', 'Project Management', 'Strategy and Operations', 'Supply Chain and Logistics', 'Writing')\n",
      " ('Collaboration', 'Communication', 'Emotional Intelligence', 'Leadership and Management')\n",
      " ('Business Communication', 'Communication', 'Human Resources', 'Leadership Development', 'Leadership and Management', 'Professional Development', 'Data Visualization', 'Business Psychology', 'Collaboration', 'Entrepreneurship', 'Human Learning', 'Marketing', 'Sales', 'Strategy', 'Strategy and Operations')\n",
      " ('Business Analysis', 'Data Analysis', 'Data Visualization', 'Data Visualization Software', 'Tableau Software', 'Business Communication', 'Business Intelligence', 'Communication', 'Data Analysis Software', 'Storytelling')\n",
      " ('Marketing', 'Digital Marketing', 'Social Media', 'Communication', 'Advertising', 'Marketing Management', 'Media Strategy & Planning', 'Business Analysis', 'Sales', 'Marketing Design', 'Research and Design', 'Entrepreneurship', 'Brand Management', 'Market Research', 'Business Psychology', 'Marketing Psychology', 'Customer Analysis', 'Design and Product', 'Finance', 'Planning', 'Product Marketing', 'Budget Management', 'Strategy and Operations', 'Advertising Sales', 'Business Communication', 'Customer Support', 'Financial Management', 'Influencing', 'MarTech', 'Market Analysis', 'People Analysis', 'Performance Management', 'Persona Research', 'Spreadsheet Software', 'Statistical Tests', 'Storytelling', 'Writing', 'Leadership and Management', 'Strategy', 'Computer Networking', 'Data Analysis', 'Data Visualization', 'Database Administration', 'Databases', 'Experiment', 'Network Security', 'Probability & Statistics', 'Public Relations', 'Regulations and Compliance', 'Security Engineering', 'Security Strategy', 'Software Engineering', 'Software Security', 'Software Testing', 'Supply Chain and Logistics', 'Visual Design')\n",
      " ('Leadership and Management', 'Communication', 'Collaboration', 'Emotional Intelligence', 'Professional Development', 'Critical Thinking', 'Problem Solving', 'Business Psychology', 'Entrepreneurship', 'Adaptability', 'Resilience', 'Human Resources', 'Strategy and Operations', 'Leadership Development', 'Planning', 'Supply Chain and Logistics', 'Change Management', 'People Development', 'Business Analysis', 'Decision Making', 'Research and Design')\n",
      " ('Finance', 'Investment Management', 'Decision Making', 'Entrepreneurship', 'Leadership and Management', 'Accounting', 'Business Analysis', 'Financial Analysis', 'Data Analysis', 'Risk Management', 'Business Psychology', 'Financial Management', 'Human Learning', 'Payments', 'Mathematical Theory & Analysis', 'Mathematics', 'Probability & Statistics', 'Securities Sales', 'Advertising', 'Communication', 'Corporate Accouting', 'Design and Product', 'Marketing', 'Operations Research', 'Problem Solving', 'Product Management', 'Product Marketing', 'Regression', 'Research and Design', 'Sales', 'Spreadsheet Software')\n",
      " ('Data Analysis', 'Probability & Statistics', 'Business Analysis', 'Data Visualization', 'Machine Learning', 'Computer Programming', 'General Statistics', 'Statistical Analysis', 'Python Programming', 'Statistical Programming', 'Data Management', 'Exploratory Data Analysis', 'Machine Learning Algorithms', 'Econometrics', 'Regression', 'Theoretical Computer Science', 'Computer Programming Tools', 'Data Structures', 'Entrepreneurship', 'Probability Distribution', 'Research and Design', 'Statistical Tests', 'Basic Descriptive Statistics', 'Bayesian Statistics', 'Business Communication', 'Communication', 'Computer Architecture', 'Computer Vision', 'Correlation And Dependence', 'Critical Thinking', 'Data Mining', 'Distributed Computing Architecture', 'Experiment', 'Extract', 'Transform', 'Load', 'Forecasting', 'Leadership and Management', 'Market Research', 'Natural Language Processing', 'Operating Systems', 'Planning', 'Plot (Graphics)', 'Programming Principles', 'Software Engineering', 'Software Testing', 'Statistical Visualization', 'Strategy and Operations', 'Supply Chain and Logistics', 'Systems Design', 'Tableau Software', 'Advertising', 'Algebra', 'Big Data', 'Financial Analysis', 'Journalism', 'Marketing', 'Mathematics', 'Project Management', 'Sales', 'Strategy')\n",
      " ('Human Resources', 'Human Resources Operations', 'Strategy and Operations', 'Employee Relations', 'Leadership and Management', 'People Development', 'Business Psychology', 'Communication', 'Compensation', 'People Management', 'Performance Management', 'Entrepreneurship', 'Recruitment', 'Strategy', 'Culture', 'Benefits', 'Business Analysis', 'People Analysis', 'Planning', 'Marketing', 'Sales')\n",
      " ('Entrepreneurship', 'Leadership and Management', 'Mathematics', 'Business Psychology', 'Professional Development', 'General Statistics', 'Probability & Statistics', 'Marketing', 'Strategy and Operations', 'Algebra', 'Accounting', 'Communication', 'Emotional Intelligence', 'Human Resources', 'Leadership Development', 'Organizational Development', 'People Development', 'People Management', 'Business Communication', 'Collaboration', 'Design and Product', 'Employee Relations', 'Influencing', 'Linear Algebra', 'Product Lifecycle', 'Product Strategy', 'Sales', 'Strategy', 'Business Analysis', 'Calculus', 'Advertising', 'Budget Management', 'Forecasting', 'Journalism', 'Operations Research')\n",
      " ('Communication', 'Business Psychology', 'Employee Relations', 'Human Resources', 'Human Resources Operations', 'Leadership and Management', 'Culture', 'Entrepreneurship', 'Organizational Development', 'Business Analysis', 'Change Management', 'Collaboration', 'Operational Analysis', 'People Development', 'Strategy and Operations', 'Talent Management', 'Planning', 'Recruitment', 'Supply Chain and Logistics', 'Training', 'Accounting', 'Adaptability', 'Brand Management', 'Corporate Accouting', 'Data Analysis', 'Decision Making', 'Leadership Development', 'Marketing', 'People Management', 'Sales', 'Stata', 'Statistical Programming', 'Strategy')\n",
      " ('Communication', 'Leadership and Management', 'Business Analysis', 'Data Analysis', 'Data Analysis Software', 'Spreadsheet Software', 'Business Communication', 'Microsoft Excel', 'Collaboration', 'Computer Programming', 'Computer Programming Tools', 'Writing', 'Advertising', 'Cloud Computing', 'Cloud Platforms', 'Computer Graphic Techniques', 'Computer Graphics', 'Data Management', 'Data Structures', 'Graphic Design', 'Marketing', 'Research and Design', 'Theoretical Computer Science', 'Visual Design', 'Finance', 'Mergers & Acquisitions')\n",
      " ('Statistical Programming', 'Computer Programming', 'SQL', 'Python Programming', 'Databases', 'Programming Principles', 'Software Engineering', 'Software Engineering Tools', 'Data Management', 'Theoretical Computer Science', 'Algorithms', 'Data Structures', 'Research and Design', 'Big Data', 'Calculus', 'Computer Programming Tools', 'Entrepreneurship', 'Leadership and Management', 'Market Research', 'Mathematics', 'Operations Research', 'Problem Solving', 'Strategy and Operations', 'Database Design', 'Account Management', 'Accounting', 'Accounting Software', 'Algebra', 'Application Development', 'Business Analysis', 'Communication', 'Computational Thinking', 'Computer Science', 'Data Analysis', 'Data Model', 'Data Visualization', 'Data Visualization Software', 'Data Warehousing', 'Database Administration', 'Database Application', 'Database Theory', 'Django (Web Framework)', 'Extract', 'Transform', 'Load', 'HTML and CSS', 'Javascript', 'Journalism', 'Linux', 'Project Management', 'Tableau Software', 'Web Design', 'Web Development')\n",
      " ('Marketing', 'Digital Marketing', 'Research and Design', 'Communication', 'Entrepreneurship', 'Sales', 'Leadership and Management', 'Business', 'Marketing Management', 'Market Research', 'Marketing Design', 'Strategy and Operations', 'Media Strategy & Planning', 'Media Production', 'Design and Product', 'Strategy', 'Business Analysis', 'Market Analysis', 'Product Marketing', 'Customer Analysis', 'Advertising Sales', 'Business Development', 'Product Management', 'Advertising', 'Brand Management', 'MarTech', 'Influencing', 'Social Media', 'Business Design', 'Collaboration', 'Data Analysis', 'Finance', 'Public Relations', 'Search Engine Optimization', 'Web Design', 'Web Development', 'Business Psychology', 'Change Management', 'Customer Support', 'Human Learning', 'Journalism', 'Marketing Psychology', 'Packaging and Labeling', 'Product Design', 'Survey Creation', 'Visual Design', 'Accounting', 'Back-End Web Development', 'Big Data', 'Computer Graphics', 'Data Analysis Software', 'Data Management', 'Data Visualization', 'Exploratory Data Analysis', 'Human Computer Interaction', 'Product Development', 'Statistical Analysis', 'Supply Chain and Logistics', 'Virtual Reality')\n",
      " ('Leadership and Management', 'Entrepreneurship', 'Marketing', 'Sales', 'Strategy and Operations', 'Strategy', 'Human Resources', 'Business Psychology', 'Organizational Development', 'Communication', 'Leadership Development', 'Research and Design', 'Budget Management', 'Finance', 'Negotiation', 'Collaboration', 'Decision Making', 'Investment Management', 'Adaptability', 'Business Development', 'Change Management', 'Culture', 'Market Research', 'Performance Management', 'Business Analysis', 'Business Communication', 'Business Design', 'Business Process Management', 'Conflict Management', 'Creativity', 'Human Learning', 'Human Resources Operations', 'Innovation', 'Mergers & Acquisitions', 'People Development', 'Planning', 'Problem Solving')\n",
      " ('Business Analysis', 'Data Analysis', 'Probability & Statistics', 'Statistical Analysis', 'General Statistics', 'Research and Design', 'Forecasting', 'Strategy and Operations', 'Correlation And Dependence', 'Financial Analysis', 'Accounting', 'Human Resources', 'Marketing', 'Operational Analysis', 'Operations Management', 'Operations Research', 'Probability Distribution', 'Spreadsheet Software', 'Supply Chain and Logistics', 'Customer Analysis', 'Financial Accounting', 'Market Analysis', 'Market Research', 'Basic Descriptive Statistics', 'Exploratory Data Analysis', 'Finance', 'People Management', 'Performance Management', 'Regulations and Compliance', 'Statistical Tests', 'Talent Management', 'Collaboration', 'Communication', 'Critical Thinking', 'Data Management', 'Data Mining', 'Data Model', 'Data Visualization', 'Generally Accepted Accounting Principles (GAAP)', 'HR Tech', 'Leadership Development', 'Leadership and Management', 'MarTech', 'Marketing Management', 'Media Strategy & Planning', 'Microsoft Excel', 'Organizational Development', 'Plot (Graphics)', 'Process Analysis', 'Recruitment', 'Statistical Programming', 'Statistical Visualization', 'Applied Mathematics', 'Big Data', 'Business Psychology', 'Computational Logic', 'Computer Programming', 'Computer Programming Tools', 'Data Analysis Software', 'Data Structures', 'Decision Making', 'Entrepreneurship', 'Estimation', 'Mathematics', 'Network Analysis', 'People Analysis', 'People Development', 'Regression', 'Sales', 'Strategy', 'Theoretical Computer Science')\n",
      " ('Communication', 'Marketing', 'Social Media', 'Digital Marketing', 'Media Strategy & Planning', 'Advertising', 'Entrepreneurship', 'Marketing Management', 'Business Analysis', 'Customer Analysis', 'Leadership and Management', 'Market Research', 'Research and Design', 'Sales', 'Strategy', 'Strategy and Operations', 'Public Relations', 'Writing')\n",
      " ('Entrepreneurship', 'Leadership and Management', 'Human Resources', 'Marketing', 'Strategy and Operations', 'Communication', 'Conflict Management', 'Employee Relations', 'Influencing', 'Leadership Development', 'People Management', 'Performance Management', 'Planning', 'Problem Solving', 'Project Management', 'Research and Design', 'Sales', 'Strategy', 'Supply Chain and Logistics', 'Business Communication')\n",
      " ('Finance', 'Investment Management', 'Accounting', 'Financial Analysis', 'Business Analysis', 'Data Analysis', 'Entrepreneurship', 'Market Analysis', 'Market Research', 'Marketing', 'Research and Design', 'Probability & Statistics', 'Basic Descriptive Statistics', 'Risk Management', 'Securities Trading', 'Banking', 'Cash Management', 'Financial Accounting', 'Financial Management', 'Forecasting', 'General Accounting', 'Generally Accepted Accounting Principles (GAAP)', 'Accounts Payable and Receivable', 'Algorithms', 'Audit', 'Brand Management', 'Business Psychology', 'Change Management', 'Communication', 'Corporate Accouting', 'Design and Product', 'General Statistics', 'Human Resources', 'Journalism', 'Leadership and Management', 'Operations Research', 'Planning', 'Project Management', 'Sales', 'Software Engineering', 'Software Testing', 'Strategy', 'Strategy and Operations', 'Supply Chain and Logistics', 'Theoretical Computer Science', 'Training', 'Visual Design', 'Writing')\n",
      " ('Strategy and Operations', 'Business Analysis', 'Business Process Management', 'Entrepreneurship', 'Data Analysis', 'Probability & Statistics', 'Operations Management', 'Statistical Analysis', 'Performance Management', 'Basic Descriptive Statistics', 'General Statistics', 'Operational Analysis', 'Supply Chain and Logistics', 'Business Psychology', 'Leadership and Management', 'Process Analysis', 'Project Management', 'Research and Design', 'Correlation And Dependence', 'Data Visualization', 'Probability Distribution', 'Collaboration', 'Communication', 'Distributed Computing Architecture', 'Estimation', 'Exploratory Data Analysis', 'Operations Research', 'Plot (Graphics)', 'Regression', 'Statistical Tests', 'Survey Creation', 'Conflict Management', 'Design and Product', 'Human Resources', 'Organizational Development', 'Problem Solving', 'Product Management', 'Product Strategy', 'Training', 'Business Intelligence', 'Critical Thinking', 'Mathematics', 'Software Engineering', 'Software Testing', 'Strategy')\n",
      " ('Cloud Computing', 'Google Cloud Platform', 'Leadership and Management', 'DevOps', 'Communication', 'Web Development', 'Cloud-Based Integration', 'Collaboration', 'Kubernetes', 'Full-Stack Web Development', 'Cloud Applications', 'Strategy and Operations', 'Computer Architecture', 'Design and Product', 'Entrepreneurship', 'Product Development', 'Product Management', 'Cloud Storage', 'Operations Management', 'Cloud Load Balancing', 'Continuous Delivery', 'Devops Tools', 'Human Resources', 'Leadership Development', 'Research and Design', 'Cloud Infrastructure', 'Distributed Computing Architecture', 'Software Architecture', 'Software Engineering', 'Theoretical Computer Science', 'Business Psychology', 'Continuous Integration', 'Emotional Intelligence', 'Human Computer Interaction', 'Problem Solving', 'Product Design', 'Recruitment', 'Software Engineering Tools', 'Talent Management', 'User Experience', 'User Experience Design', 'Accounting', 'Cloud Engineering', 'Cloud Management', 'Cloud Platforms', 'Computational Thinking', 'Computer Programming', 'Cyberattacks', 'Google App Engine', 'Security Engineering', 'Software As A Service', 'Software Testing', 'Big Data', 'Billing & Invoicing', 'Computer Networking', 'Data Management', 'Databases', 'Extract', 'Transform', 'Load', 'Finance', 'Machine Learning Software', 'Network Architecture', 'Network Model')\n",
      " ('Human Resources', 'Leadership and Management', 'Business Psychology', 'People Development', 'Communication', 'Collaboration', 'Entrepreneurship', 'Professional Development', 'Business Communication', 'Leadership Development', 'Influencing', 'Marketing', 'Talent Management', 'Strategy and Operations', 'Decision Making', 'Emotional Intelligence', 'Employee Relations', 'Human Resources Operations', 'People Management', 'Business Analysis', 'Conflict Management', 'People Analysis', 'Performance Management', 'Recruitment', 'Storytelling', 'Strategy', 'Sales')\n",
      " ('Creativity', 'Entrepreneurship', 'Business Analysis', 'Business Psychology', 'Communication', 'Critical Thinking', 'Culture', 'Leadership and Management', 'Research and Design', 'Strategy and Operations', 'Design and Product', 'Product Lifecycle')\n",
      " ('Business Communication', 'Communication', 'Design and Product', 'Entrepreneurship', 'Human Computer Interaction', 'Leadership and Management', 'Planning', 'Software Engineering', 'Software Testing', 'Supply Chain and Logistics', 'User Experience', 'User Research')\n",
      " ('Research and Design', 'Visual Design', 'Business Psychology', 'Human Resources', 'Training', 'Leadership and Management', 'Talent Management')\n",
      " ('Leadership and Management', 'Strategy and Operations', 'Entrepreneurship', 'Sales', 'Strategy', 'Business Psychology', 'Business Process Management', 'Culture', 'Change Management', 'Communication', 'Human Resources', 'Leadership Development', 'Organizational Development', 'Planning', 'Training')\n",
      " ('Leadership and Management', 'Strategy and Operations', 'Entrepreneurship', 'Probability & Statistics', 'Business Analysis', 'Mathematics', 'General Statistics', 'Human Resources', 'Business Psychology', 'Operations Management', 'Marketing', 'Sales', 'Strategy', 'Project Management', 'Supply Chain and Logistics', 'Training', 'Planning', 'Business Process Management', 'Organizational Development', 'Performance Management', 'Statistical Tests', 'Calculus', 'Probability Distribution', 'Research and Design', 'Data Analysis', 'Conflict Management', 'Design and Product', 'Experiment', 'Problem Solving', 'Operational Analysis', 'Process Analysis', 'Communication', 'Leadership Development', 'Customer Analysis', 'Product Management', 'Change Management', 'Finance', 'Market Research', 'Risk Management', 'Statistical Analysis', 'Computer Programming', 'Product Design', 'Programming Principles', 'Software Engineering', 'Software Testing', 'Accounting', 'Business Communication', 'Correlation And Dependence', 'Cost Accounting', 'Data Management', 'Data Warehousing', 'Differential Equations', 'Market Analysis', 'People Management', 'Product Lifecycle', 'Regression', 'Resilience', 'Culture')\n",
      " ('Research and Design', 'Entrepreneurship', 'Creativity', 'Business Psychology', 'Leadership and Management', 'Culture', 'Human Learning', 'Human Resources', 'People Development', 'Computer Programming', 'Design and Product', 'Human Computer Interaction', 'Product Design', 'Programming Principles', 'Software Architecture', 'Software Engineering', 'Theoretical Computer Science', 'User Experience', 'Business Analysis', 'Communication', 'Critical Thinking', 'Strategy and Operations', 'Writing')\n",
      " ('Leadership and Management', 'Strategy and Operations', 'Project Management', 'Entrepreneurship', 'Scrum (Software Development)', 'Software Engineering', 'Finance', 'Marketing', 'Supply Chain and Logistics', 'Sales', 'Strategy', 'Communication', 'Planning', 'Risk Management', 'Budget Management', 'Business Psychology', 'Computer Graphic Techniques', 'Computer Graphics', 'Computer Vision', 'Contract Management', 'Data Visualization', 'Emotional Intelligence', 'Estimation', 'Geovisualization', 'Machine Learning', 'Operations Management', 'Organizational Development', 'Probability & Statistics', 'Supplier Relationship Management', 'Business Communication', 'Journalism')\n",
      " ('Entrepreneurship', 'Leadership and Management', 'Marketing', 'Strategy', 'Strategy and Operations', 'Sales', 'Supply Chain and Logistics', 'Communication', 'Planning', 'Business Psychology', 'Business Development', 'Culture', 'Decision Making', 'Finance', 'Organizational Development', 'Performance Management', 'Risk Management', 'Design and Product', 'Product Strategy')\n",
      " ('Data Management', 'Extract', 'Transform', 'Load', 'Databases', 'Data Model', 'Data Warehousing', 'Business Intelligence', 'Computer Architecture', 'Computer Networking', 'Database Administration', 'Database Application', 'Database Design', 'Distributed Computing Architecture', 'Full-Stack Web Development', 'Network Security', 'SQL', 'Security Engineering', 'Security Strategy', 'Statistical Programming', 'Web Development', 'Advertising', 'Communication', 'Hardware Design', 'Leadership and Management', 'Marketing', 'Performance Management', 'Strategy and Operations')\n",
      " ('Business Analysis', 'General Statistics', 'Marketing', 'Customer Analysis', 'Data Analysis', 'Market Analysis', 'Market Research', 'Probability & Statistics', 'Research and Design', 'Statistical Analysis', 'Exploratory Data Analysis', 'Basic Descriptive Statistics', 'Communication', 'Correlation And Dependence', 'Critical Thinking', 'Data Management', 'Data Mining', 'Data Model', 'Financial Analysis', 'Forecasting', 'MarTech', 'Marketing Management', 'Media Strategy & Planning', 'Statistical Programming', 'Big Data', 'Estimation', 'Probability Distribution', 'Regression')\n",
      " ('Material Handling', 'Supply Chain Systems', 'Supply Chain and Logistics', 'Communication', 'Forecasting', 'Probability & Statistics', 'Customer Support', 'Entrepreneurship', 'Leadership and Management', 'Planning', 'Procurement', 'Shipping and Receiving', 'Supplier Relationship Management', 'Transportation Operations Management', 'Warehouse Management', 'Facility Management', 'Inventory Management', 'Operations Management', 'Strategy and Operations', 'Budget Management', 'Customer Relationship Management', 'Design and Product', 'Finance', 'Marketing', 'Negotiation', 'Performance Management', 'Product Lifecycle', 'Sales')\n",
      " ('Cloud Computing', 'Microsoft Azure', 'Cloud Applications', 'Computer Networking', 'Computer Programming', 'Network Security', 'Security Engineering', 'Cloud Storage', 'Software Engineering', 'Theoretical Computer Science', 'Software Architecture', 'Operating Systems', 'Other Programming Languages', 'Systems Design', 'Cloud Platforms', 'Software Security', 'Human Computer Interaction', 'User Experience', 'Application Development', 'Business Psychology', 'Cloud Management', 'Cloud-Based Integration', 'Data Management', 'Databases', 'Entrepreneurship', 'Full-Stack Web Development', 'Leadership and Management', 'Organizational Development', 'SQL', 'Software Engineering Tools', 'Statistical Programming', 'Web Development', 'Communication', 'Linux', 'Marketing', 'Probability & Statistics', 'Security Strategy')\n",
      " ('Communication', 'Entrepreneurship', 'Leadership and Management', 'Marketing', 'Problem Solving', 'Research and Design', 'Sales', 'Supply Chain and Logistics', 'Customer Relationship Management', 'Customer Support', 'Finance', 'Strategy and Operations', 'Customer Success', 'Adaptability', 'Business Psychology', 'Business Analysis', 'Customer Analysis', 'Emotional Intelligence', 'Performance Management', 'Collaboration', 'Design and Product', 'Human Computer Interaction', 'User Research')\n",
      " ('Machine Learning', 'Finance', 'Algorithms', 'Machine Learning Algorithms', 'Mathematics', 'Reinforcement Learning', 'Theoretical Computer Science', 'Applied Mathematics', 'Calculus', 'General Statistics', 'Investment Management', 'Probability & Statistics', 'Applied Machine Learning', 'Artificial Neural Networks', 'Business Analysis', 'Data Analysis', 'Deep Learning', 'Financial Analysis', 'Machine Learning Software', 'Tensorflow', 'Advertising', 'Communication', 'Computer Programming', 'Entrepreneurship', 'Marketing', 'Markov Model', 'Operations Research', 'Python Programming', 'Research and Design', 'Statistical Machine Learning', 'Strategy and Operations')\n",
      " ('Communication', 'Entrepreneurship', 'Human Resources', 'Leadership and Management', 'Business Psychology', 'People Development', 'Professional Development', 'Marketing', 'Collaboration', 'Emotional Intelligence', 'Influencing', 'Leadership Development', 'Negotiation', 'Conflict Management', 'Sales', 'Advertising', 'Big Data', 'Business Analysis', 'Data Analysis', 'Data Management', 'Digital Marketing', 'Statistical Analysis', 'Decision Making', 'Creativity', 'Culture', 'Research and Design', 'Change Management', 'Critical Thinking', 'Finance', 'Innovation', 'Organizational Development', 'Problem Solving', 'Project Management', 'Risk Management', 'Storytelling', 'Strategy', 'Strategy and Operations')\n",
      " ('Leadership and Management', 'Entrepreneurship', 'Marketing', 'Sales', 'Strategy', 'Strategy and Operations', 'Data Management', 'Epidemiology', 'Finance', 'General Statistics', 'Payments', 'Probability & Statistics', 'Business Psychology', 'Data Analysis', 'Decision Making', 'Human Resources', 'Leadership Development', 'Organizational Development', 'Planning', 'Risk Management', 'Supply Chain and Logistics', 'Advertising', 'Communication', 'Performance Management', 'Problem Solving', 'Research and Design')\n",
      " ('Machine Learning', 'Advertising', 'Algorithms', 'Amazon Web Services', 'Business Psychology', 'Cloud Computing', 'Communication', 'Computational Thinking', 'Computer Programming', 'Data Analysis', 'Deep Learning', 'Exploratory Data Analysis', 'Feature Engineering', 'General Statistics', 'Human Resources', 'Marketing', 'Mathematical Theory & Analysis', 'Mathematics', 'Natural Language Processing', 'Other Programming Languages', 'Probability & Statistics', 'Programming Principles', 'Python Programming', 'Statistical Programming', 'Theoretical Computer Science', 'Training')\n",
      " ('Finance', 'Leadership and Management', 'Risk Management', 'Probability & Statistics', 'Entrepreneurship', 'Marketing', 'Strategy and Operations', 'Investment Management', 'Human Resources', 'Business Psychology', 'Sales', 'Strategy', 'Leadership Development', 'Regulations and Compliance', 'Research and Design', 'Accounting', 'Audit', 'Budget Management', 'Business Analysis', 'Business Research', 'Change Management', 'Collaboration', 'Communication', 'Compensation', 'Critical Thinking', 'Design and Product', 'Organizational Development', 'Packaging and Labeling', 'Product Lifecycle', 'Project Management', 'Social Media', 'Advertising', 'Influencing', 'Storytelling')\n",
      " ('Advertising', 'Artificial Neural Networks', 'Business Analysis', 'Change Management', 'Communication', 'Computer Programming', 'Critical Thinking', 'Data Analysis', 'Leadership and Management', 'Machine Learning', 'Marketing', 'Project Management', 'Python Programming', 'Research and Design', 'Statistical Programming', 'Strategy and Operations')\n",
      " ('Machine Learning', 'Applied Machine Learning', 'DevOps', 'Python Programming', 'Statistical Programming', 'Tensorflow', 'Exploratory Data Analysis', 'Feature Engineering', 'Probability & Statistics', 'Cloud Computing', 'Data Management', 'Data Warehousing', 'Extract', 'Transform', 'Load', 'Computer Programming', 'Computer Vision', 'Deep Learning', 'Advertising', 'Business Analysis', 'Change Management', 'Communication', 'Computer Networking', 'Data Analysis', 'Data Visualization', 'Estimation', 'General Statistics', 'Leadership and Management', 'Machine Learning Algorithms', 'Marketing', 'Network Security', 'Security Engineering', 'Security Strategy', 'Statistical Visualization', 'Strategy and Operations')\n",
      " ('Advertising', 'Communication', 'Computer Programming', 'Deep Learning', 'Machine Learning', 'Marketing', 'Natural Language Processing', 'Python Programming', 'Statistical Programming')\n",
      " ('Entrepreneurship', 'Leadership and Management', 'Performance Management', 'Strategy and Operations', 'Business Psychology', 'Human Resources', 'People Development', 'Business Communication', 'Collaboration', 'Communication', 'Emotional Intelligence', 'Employee Relations')\n",
      " ('Machine Learning', 'Strategy and Operations', 'Mathematics')\n",
      " ('Entrepreneurship', 'Leadership and Management', 'Accounting', 'Business Psychology', 'Operations Management', 'Communication', 'Financial Accounting', 'General Accounting', 'Generally Accepted Accounting Principles (GAAP)', 'Finance', 'Marketing', 'Business Analysis', 'Collaboration', 'Human Resources', 'Leadership Development', 'Operational Analysis', 'Organizational Development', 'Strategy', 'Supply Chain and Logistics', 'MarTech', 'Business Communication', 'Cash Management', 'People Management', 'Strategy and Operations', 'Digital Marketing', 'Change Management', 'Decision Making', 'Process Analysis', 'Brand Management', 'Financial Analysis', 'Investment Management', 'Marketing Psychology', 'Taxes', 'Accounts Payable and Receivable', 'Business Process Management', 'Conflict Management', 'Cost Accounting', 'Emotional Intelligence', 'Influencing', 'Performance Management', 'Customer Relationship Management', 'Design and Product', 'Market Analysis', 'Media Strategy & Planning', 'Planning', 'Product Marketing', 'Sales')\n",
      " ('Business Psychology', 'Communication', 'Entrepreneurship', 'Human Resources', 'Leadership and Management', 'People Development', 'Professional Development', 'Collaboration', 'Emotional Intelligence', 'Negotiation', 'Conflict Management', 'Leadership Development', 'Marketing', 'Sales', 'Decision Making', 'Creativity', 'Culture', 'Research and Design')\n",
      " ('Leadership and Management', 'Human Resources', 'Leadership Development', 'Entrepreneurship', 'Business Psychology', 'Communication', 'Culture', 'Decision Making', 'Emotional Intelligence', 'Innovation', 'People Development', 'Research and Design', 'Marketing', 'Sales')\n",
      " ('Communication', 'Marketing', 'Negotiation', 'Sales', 'Business Psychology', 'Culture', 'Decision Making')\n",
      " ('Project Management', 'Strategy and Operations', 'Leadership and Management', 'Operations Management', 'Change Management', 'Entrepreneurship', 'Planning', 'Supply Chain and Logistics', 'Collaboration', 'Communication', 'Contract Management', 'Design and Product', 'Finance', 'Innovation', 'Problem Solving', 'Product Design', 'Research and Design', 'Risk Management', 'Business Psychology')\n",
      " ('Business Analysis', 'Process Analysis', 'Data Analysis', 'Data Mining', 'Machine Learning', 'Machine Learning Algorithms', 'Algorithms', 'Business Process Management', 'Business Psychology', 'Communication', 'Data Management', 'Data Structures', 'Entrepreneurship', 'Leadership and Management', 'Organizational Development', 'Strategy and Operations', 'Theoretical Computer Science')\n",
      " ('Critical Thinking', 'Research and Design', 'Strategy and Operations', 'Communication', 'Business Psychology', 'Culture', 'Leadership and Management', 'Computer Programming', 'Marketing', 'Operating Systems', 'Software Engineering', 'Software Testing', 'System Programming')\n",
      " ('Communication', 'Digital Marketing', 'Marketing', 'Social Media', 'Brand Management', 'Marketing Management', 'Business Analysis', 'Entrepreneurship', 'Planning', 'Advertising', 'Customer Support', 'Influencing', 'MarTech', 'Marketing Psychology', 'People Analysis', 'Spreadsheet Software', 'Writing', 'Supply Chain and Logistics')\n",
      " ('Supply Chain and Logistics', 'Inventory Management', 'Strategy and Operations', 'Supply Chain Systems', 'Leadership and Management', 'Operations Research', 'Research and Design', 'Forecasting', 'Probability & Statistics', 'Budget Management', 'Entrepreneurship', 'Finance', 'Planning', 'Correlation And Dependence', 'Data Analysis', 'Performance Management', 'Advertising', 'Communication', 'Mathematics')\n",
      " ('Conflict Management', 'Contract Management', 'Human Resources', 'Leadership and Management', 'Strategy and Operations', 'Communication', 'Employee Relations')\n",
      " ('Communication', 'Employee Relations', 'Human Resources', 'People Management', 'Strategy and Operations', 'Human Resources Operations', 'Leadership and Management', 'Strategy', 'Business Psychology', 'People Development')\n",
      " ('Entrepreneurship', 'Leadership and Management', 'Marketing', 'Strategy and Operations', 'Sales', 'Strategy', 'Human Resources', 'Communication', 'Collaboration', 'Leadership Development', 'Business Psychology', 'Change Management', 'Culture', 'Innovation', 'Research and Design')\n",
      " ('Benefits', 'Business Development', 'Communication', 'Computer Graphics', 'Entrepreneurship', 'Finance', 'General Statistics', 'Graphics Software', 'Human Resources', 'Investment Management', 'Leadership and Management', 'Probability & Statistics', 'Problem Solving', 'Research and Design', 'Sales', 'Supply Chain Systems', 'Supply Chain and Logistics')\n",
      " ('Leadership and Management', 'Accounting', 'Management Accounting', 'Marketing', 'Strategy and Operations', 'Entrepreneurship', 'Sales', 'Strategy', 'Business Analysis', 'Communication', 'Finance', 'Design and Product', 'Marketing Management', 'Product Marketing', 'Cost Accounting', 'Brand Management', 'Customer Analysis', 'Market Analysis', 'Marketing Design', 'Operations Management', 'Research and Design', 'Supply Chain and Logistics', 'Budget Management', 'Supply Chain Systems', 'Experiment', 'General Statistics', 'Probability & Statistics', 'Advertising', 'Behavioral Economics', 'Business Psychology', 'Decision Making', 'Inventory Management', 'Market Research', 'Material Handling', 'Media Strategy & Planning', 'Process Analysis', 'Product Lifecycle', 'Performance Management', 'Business Communication', 'Change Management')\n",
      " ('Human Resources', 'People Management', 'Performance Management', 'Strategy and Operations', 'Talent Management', 'Business Analysis', 'Collaboration', 'HR Tech', 'Leadership Development', 'Leadership and Management', 'Organizational Development', 'Probability & Statistics', 'Recruitment', 'Statistical Analysis', 'Statistical Tests', 'Business Psychology', 'Communication', 'Data Analysis', 'Entrepreneurship', 'Mathematics', 'Network Analysis', 'People Analysis', 'People Development')\n",
      " ('Business Psychology', 'Entrepreneurship', 'Leadership and Management', 'Human Resources', 'People Development', 'Collaboration', 'Communication', 'Culture', 'Adaptability', 'Organizational Development', 'Performance Management', 'Project Management', 'Strategy and Operations', 'Business Analysis', 'Business Transformation', 'Marketing', 'People Management', 'Recruitment', 'Sales', 'Strategy')\n",
      " ('Communication', 'Writing', 'Business Communication', 'Creativity', 'Entrepreneurship', 'Research and Design')\n",
      " ('Collaboration', 'Communication', 'Entrepreneurship', 'Leadership and Management', 'Marketing', 'Negotiation', 'Resilience', 'Sales', 'Strategy', 'Strategy and Operations')\n",
      " ('Advertising', 'Change Management', 'Communication', 'Entrepreneurship', 'Journalism', 'Leadership and Management', 'Marketing', 'Planning', 'Strategy and Operations', 'Supply Chain and Logistics')\n",
      " ('Leadership and Management', 'Project Management', 'Strategy and Operations', 'Communication', 'Entrepreneurship', 'Planning', 'Supply Chain and Logistics', 'Emotional Intelligence', 'Business Communication', 'Sales')\n",
      " ('Leadership and Management', 'Entrepreneurship', 'Strategy and Operations', 'Research and Design', 'Business Psychology', 'Problem Solving', 'Change Management', 'Communication', 'Data Analysis', 'Finance', 'Risk Management', 'Business Analysis', 'Process Analysis', 'Culture', 'Human Resources', 'People Development', 'Project Management', 'Resilience', 'Innovation', 'Marketing', 'Planning', 'Sales', 'Strategy', 'Supply Chain and Logistics', 'Writing')\n",
      " ('Business Communication', 'Communication')\n",
      " ('Strategy and Operations', 'Computer Architecture', 'Computer Networking', 'Network Architecture', 'Software Engineering', 'Software Engineering Tools', 'Design and Product', 'Network Model', 'Product Lifecycle', 'Entrepreneurship', 'General Statistics', 'Human Computer Interaction', 'Leadership and Management', 'Probability & Statistics', 'Product Management', 'Computer Graphic Techniques', 'Computer Graphics', 'Computer Vision', 'Data Management', 'Finance', 'Human Resources', 'Leadership Development', 'Machine Learning', 'Operations Research', 'Performance Management', 'Regulations and Compliance', 'Research and Design', 'Security Engineering', 'Supply Chain Systems', 'Supply Chain and Logistics', 'Cloud Applications', 'Cloud Computing', 'Collaboration', 'Communication')\n",
      " ('Communication', 'Writing') ('Human Resources', 'Communication')\n",
      " ('Business Psychology', 'Communication', 'Computer Networking', 'General Statistics', 'Human Learning', 'Human Resources', 'Marketing', 'Networking Hardware', 'Planning', 'Probability & Statistics', 'Research and Design', 'Social Media', 'Training', 'Visual Design', 'Writing')\n",
      " ('Communication', 'Leadership and Management', 'Writing', 'Business Communication', 'Professional Development', 'Emotional Intelligence', 'Business Psychology', 'Collaboration', 'Entrepreneurship', 'Human Resources', 'People Development', 'Storytelling')\n",
      " ('Leadership and Management', 'Professional Development', 'Performance Management', 'Strategy and Operations', 'Human Resources', 'Human Resources Operations', 'Marketing', 'Sales', 'Strategy', 'Entrepreneurship', 'Talent Management', 'Leadership Development', 'People Development', 'Recruitment', 'Training', 'Visual Design')\n",
      " ('Business Psychology', 'Communication', 'Emotional Intelligence', 'Entrepreneurship', 'Leadership and Management', 'Marketing', 'Organizational Development', 'Professional Development', 'Business Communication', 'Collaboration', 'Employee Relations', 'Influencing')\n",
      " ('Machine Learning', 'Probability & Statistics', 'Machine Learning Algorithms', 'General Statistics', 'Theoretical Computer Science', 'Algorithms', 'Applied Machine Learning', 'Artificial Neural Networks', 'Regression', 'Econometrics', 'Computer Programming', 'Deep Learning', 'Python Programming', 'Statistical Programming', 'Mathematics', 'Tensorflow', 'Data Management', 'Data Structures', 'Statistical Machine Learning', 'Reinforcement Learning', 'Probability Distribution', 'Mathematical Theory & Analysis', 'Data Analysis', 'Data Mining', 'Linear Algebra', 'Computer Vision', 'Calculus', 'Feature Engineering', 'Bayesian Statistics', 'Operations Research', 'Research and Design', 'Strategy and Operations', 'Computational Logic', 'Accounting', 'Communication')\n",
      " ('Leadership and Management', 'Business Psychology', 'Culture', 'Human Resources', 'Communication', 'Entrepreneurship', 'Leadership Development', 'Organizational Development', 'Business Communication', 'Collaboration', 'Conflict Management', 'Emotional Intelligence', 'People Development', 'Adaptability', 'Marketing', 'Mathematics', 'Network Analysis', 'Social Media')\n",
      " ('Leadership and Management', 'Strategy and Operations', 'Finance', 'Entrepreneurship', 'Marketing', 'Risk Management', 'Sales', 'Strategy', 'Business Analysis', 'Critical Thinking', 'Investment Management', 'Project Management', 'Research and Design', 'Advertising', 'Communication', 'Storytelling')\n",
      " ('Econometrics', 'General Statistics', 'Probability & Statistics', 'Regression', 'Business Analysis', 'Correlation And Dependence', 'Data Analysis', 'Data Visualization', 'Forecasting', 'Machine Learning', 'Machine Learning Algorithms', 'Statistical Analysis', 'Statistical Visualization', 'Advertising', 'Algebra', 'Communication', 'Computer Programming', 'Leadership and Management', 'Marketing', 'Mathematics', 'Python Programming', 'Strategy and Operations')\n",
      " ('Marketing', 'Leadership and Management', 'Sales', 'Strategy and Operations', 'Strategy', 'Entrepreneurship', 'Communication', 'Customer Relationship Management', 'Finance', 'Account Management', 'B2B Sales', 'Business Analysis', 'Business Intelligence', 'Data Management', 'Planning', 'Customer Success', 'Market Analysis', 'Brand Management', 'Decision Making', 'Digital Marketing', 'Emotional Intelligence', 'Operations Management', 'Performance Management', 'Retail Sales', 'Supply Chain and Logistics', 'Accounting', 'Business Psychology', 'Influencing', 'Salesforce')\n",
      " ('Machine Learning', 'Deep Learning', 'Artificial Neural Networks', 'Data Science', 'Forecasting', 'General Statistics', 'Probability & Statistics', 'Tensorflow', 'Communication', 'Machine Learning Algorithms', 'Marketing', 'Python Programming', 'Statistical Programming', 'Applied Machine Learning', 'Computer Vision', 'Data Visualization', 'Computer Programming')\n",
      " ('Business Analysis', 'Business Intelligence', 'Data Management', 'Data Visualization', 'Interactive Data Visualization', 'Tableau Software', 'Business Communication', 'Communication', 'Design and Product', 'Product Design', 'Advertising', 'Cloud Computing', 'Computer Architecture', 'Computer Programming', 'Databases', 'Distributed Computing Architecture', 'Entrepreneurship', 'Full-Stack Web Development', 'Journalism', 'Leadership and Management', 'Marketing', 'Mathematical Theory & Analysis', 'Mathematics', 'Plot (Graphics)', 'Project Management', 'Python Programming', 'SQL', 'Sales', 'Statistical Programming', 'Strategy', 'Strategy and Operations', 'Web Development')\n",
      " ('Leadership and Management', 'Entrepreneurship', 'Strategy and Operations', 'Human Resources', 'Research and Design', 'Business Psychology', 'Leadership Development', 'Business Analysis', 'Critical Thinking', 'People Management', 'Decision Making', 'Professional Development', 'People Development', 'Communication', 'Marketing', 'Talent Management', 'Sales', 'Strategy', 'Emotional Intelligence', 'Organizational Development', 'Creativity', 'Planning', 'Supply Chain and Logistics', 'Change Management', 'Project Management', 'Accounting', 'Corporate Accouting', 'Finance', 'Risk Management', 'Collaboration', 'Computer Architecture', 'Computer Networking', 'Network Architecture', 'Performance Management', 'Computer Programming', 'Econometrics', 'General Statistics', 'Operations Management', 'Probability & Statistics', 'Programming Principles', 'Adaptability', 'Business Communication', 'Computer Graphics', 'Culture', 'Graphic Design', 'Human Computer Interaction', 'Human Learning', 'Influencing', 'Innovation', 'Problem Solving', 'Social Media', 'User Experience', 'Advertising Sales', 'Audit', 'Bioinformatics', 'Business Process Management', 'Computer Vision', 'Customer Relationship Management', 'General Accounting', 'Machine Learning', 'Storytelling')\n",
      " ('Leadership and Management', 'Collaboration', 'Communication', 'Business Psychology', 'Emotional Intelligence', 'Entrepreneurship', 'Culture', 'People Management', 'Strategy and Operations', 'Professional Development', 'Conflict Management', 'Human Resources', 'Organizational Development', 'Human Learning', 'Problem Solving', 'Research and Design', 'Training', 'Marketing', 'Performance Management', 'Sales', 'Strategy')\n",
      " ('Machine Learning', 'Probability & Statistics', 'Machine Learning Algorithms', 'General Statistics', 'Applied Machine Learning', 'Theoretical Computer Science', 'Algorithms', 'Mathematics', 'Reinforcement Learning', 'Econometrics', 'Data Management', 'Data Structures', 'Tensorflow', 'Artificial Neural Networks', 'Data Analysis', 'Data Mining', 'Mathematical Theory & Analysis', 'Probability Distribution', 'Bayesian Statistics', 'Computer Programming', 'Operations Research', 'Python Programming', 'Research and Design', 'Statistical Programming', 'Strategy and Operations', 'Communication')\n",
      " ('Advertising', 'Applied Machine Learning', 'Cloud Computing', 'Communication', 'Computer Programming', 'Deep Learning', 'Machine Learning', 'Marketing', 'Python Programming', 'Statistical Programming', 'Tensorflow')\n",
      " ('Entrepreneurship', 'Leadership and Management', 'Marketing', 'Sales', 'Strategy', 'Strategy and Operations', 'Finance', 'Regulations and Compliance', 'Accounting', 'Audit', 'Brand Management', 'Business Process Management', 'Communication', 'Design and Product', 'Performance Management', 'Product Lifecycle')\n",
      " ('Communication', 'Journalism', 'Operations Research', 'Research and Design', 'Strategy and Operations')\n",
      " ('Digital Marketing', 'Marketing', 'Data Analysis', 'Business Analysis', 'Entrepreneurship', 'Research and Design', 'Accounting', 'Back-End Web Development', 'Computer Networking', 'Data Management', 'Financial Analysis', 'Networking Hardware', 'Web Development', 'Big Data', 'Market Research', 'Search Engine Optimization', 'Communication', 'Leadership and Management', 'Sales', 'Social Media', 'Strategy', 'Strategy and Operations')\n",
      " ('Business Psychology', 'Entrepreneurship', 'Communication', 'Human Learning', 'Budget Management', 'Finance', 'Human Resources', 'Leadership and Management', 'Planning', 'Supply Chain and Logistics', 'Training', 'Culture', 'Epidemiology', 'People Management', 'Probability & Statistics', 'Strategy and Operations')\n",
      " ('Epidemiology', 'Probability & Statistics', 'Business Analysis', 'Business Psychology', 'Critical Thinking', 'Human Resources', 'Research and Design', 'Strategy and Operations', 'Training', 'Communication', 'Leadership and Management', 'Change Management', 'Entrepreneurship', 'Marketing', 'Sales', 'Strategy')\n",
      " ('Entrepreneurship', 'Leadership and Management', 'Strategy and Operations', 'Business Psychology', 'People Development', 'Human Resources', 'Performance Management', 'Professional Development', 'Training', 'Employee Relations', 'Communication', 'Emotional Intelligence', 'People Management', 'Business Communication', 'Collaboration', 'Culture', 'Change Management', 'Conflict Management', 'Decision Making', 'Leadership Development', 'Accounting', 'Advertising', 'Algebra', 'General Accounting', 'Market Research', 'Marketing', 'Mathematics', 'Planning', 'Research and Design', 'Sales', 'Strategy', 'Supply Chain and Logistics', 'Writing')\n",
      " ('Computer Graphics', 'Design and Product', 'Graphic Design', 'Machine Learning', 'Machine Learning Algorithms', 'Algorithms', 'Computer Graphic Techniques', 'Product Design', 'Theoretical Computer Science', 'Communication', 'Entrepreneurship', 'Marketing', 'Product Management', 'Strategy and Operations')\n",
      " ('Business Analysis', 'Correlation And Dependence', 'Data Analysis', 'Exploratory Data Analysis', 'General Statistics', 'Probability & Statistics', 'Statistical Analysis', 'Process Analysis', 'Statistical Tests', 'Advertising', 'Communication', 'Entrepreneurship', 'Marketing', 'Regression')\n",
      " ('Advertising', 'Brand Management', 'Communication', 'Entrepreneurship', 'General Statistics', 'Influencing', 'Leadership and Management', 'Market Analysis', 'Marketing', 'Media Strategy & Planning', 'Probability & Statistics', 'Sales', 'Social Media', 'Strategy', 'Strategy and Operations')\n",
      " ('Computer Programming', 'Python Programming', 'Application Development', 'Software Engineering', 'Communication', 'Computer Networking', 'Decision Making', 'Entrepreneurship', 'Feature Engineering', 'Linear Algebra', 'Machine Learning', 'Mathematical Theory & Analysis', 'Mathematics', 'Network Model', 'Statistical Programming')\n",
      " ('Business Analysis', 'Data Analysis', 'Strategy and Operations', 'Entrepreneurship', 'Leadership and Management', 'Statistical Analysis', 'Data Analysis Software', 'Data Visualization', 'Data Visualization Software', 'Operations Management', 'Business Communication', 'Business Process Management', 'Business Psychology', 'Communication', 'Data Management', 'Data Structures', 'Database Administration', 'Databases', 'Operational Analysis', 'Operations Research', 'Organizational Development', 'Performance Management', 'Planning', 'Process Analysis', 'Research and Design', 'Security Engineering', 'Software Security', 'Statistical Visualization', 'Supply Chain and Logistics', 'Theoretical Computer Science', 'Computer Architecture', 'Computer Graphics', 'Computer Networking', 'Human Computer Interaction', 'Interactive Design', 'Internet Of Things', 'Marketing', 'Network Architecture', 'Power BI', 'Sales', 'Software Engineering', 'Strategy')\n",
      " ('Strategy and Operations', 'Supply Chain Systems', 'Supply Chain and Logistics', 'Entrepreneurship', 'Operations Management', 'Leadership and Management', 'Performance Management', 'Strategy', 'Business Psychology', 'Design and Product', 'Marketing', 'Organizational Development', 'Product Management', 'Sales', 'Supplier Relationship Management', 'Business Analysis', 'Innovation', 'Inventory Management', 'Operational Analysis', 'Product Development', 'Vendor Management', 'Critical Thinking', 'Product Lifecycle', 'Statistical Analysis')\n",
      " ('Change Management', 'Leadership and Management', 'Strategy and Operations', 'Business Psychology', 'Entrepreneurship', 'Organizational Development', 'Human Resources', 'Leadership Development', 'Communication', 'Influencing', 'Marketing')\n",
      " ('Advertising', 'Communication', 'Marketing')\n",
      " ('Leadership and Management', 'Human Resources', 'Communication', 'Business Communication', 'Business Psychology', 'Emotional Intelligence', 'Employee Relations', 'Leadership Development', 'Storytelling', 'Strategy')\n",
      " ('Leadership and Management', 'Business Psychology', 'Entrepreneurship', 'Organizational Development', 'Problem Solving', 'Conflict Management', 'Human Resources', 'Marketing', 'Planning', 'Professional Development', 'Research and Design', 'Sales', 'Strategy', 'Strategy and Operations', 'Supply Chain and Logistics', 'Collaboration', 'Culture', 'Decision Making', 'Leadership Development', 'Accounting', 'Adaptability', 'Advertising', 'Algorithms', 'Application Development', 'Behavioral Economics', 'Business Design', 'Communication', 'Software Engineering', 'Theoretical Computer Science')\n",
      " ('Business Analysis', 'Business Psychology', 'Communication', 'Critical Thinking', 'Entrepreneurship', 'Human Learning', 'Human Resources', 'Leadership and Management', 'People Development', 'Research and Design', 'Strategy and Operations')\n",
      " ('Algorithms', 'Calculus', 'Communication', 'Computer Architecture', 'Computer Networking', 'Hardware Design', 'Mathematics', 'Operating Systems', 'Theoretical Computer Science', 'Linux', 'System Security')\n",
      " ('Business Psychology', 'Entrepreneurship', 'Human Resources', 'Leadership Development', 'Leadership and Management', 'Innovation', 'Organizational Development', 'Research and Design', 'Collaboration', 'Communication', 'Resilience', 'Adaptability', 'Business Analysis', 'Business Communication', 'Business Transformation', 'Creativity', 'Emotional Intelligence', 'Human Learning', 'Recruitment')\n",
      " ('Communication', 'Writing', 'Research and Design')\n",
      " ('Computer Programming', 'Mobile Development', 'Software Engineering', 'Web Development', 'Other Programming Languages', 'Android Development', 'React (web framework)', 'Application Development', 'Software Engineering Tools', 'Human Computer Interaction', 'Javascript', 'Programming Principles', 'Mobile Development Tools', 'User Experience', 'Data Management', 'Theoretical Computer Science', 'Algorithms', 'Data Structures', 'Research and Design', 'Interactive Design', 'Software Testing', 'User Experience Design', 'Big Data', 'Calculus', 'Computer Programming Tools', 'Entrepreneurship', 'Leadership and Management', 'Market Research', 'Mathematics', 'Operations Research', 'Problem Solving', 'Strategy and Operations', 'Front-End Web Development', 'Algebra', 'Communication', 'Computational Logic', 'Computational Thinking', 'Computer Architecture', 'Computer Science', 'Database Administration', 'Database Application', 'Databases', 'Django (Web Framework)', 'HTML and CSS', 'Hardware Design', 'Linux', 'Mathematical Theory & Analysis', 'Python Programming', 'SQL', 'Statistical Programming', 'Web Design')\n",
      " ('Mobile Development', 'Software Engineering', 'Swift Programming', 'iOS Development', 'Computer Programming', 'Web Development', 'React (web framework)', 'Application Development', 'Theoretical Computer Science', 'Mobile Development Tools', 'Programming Principles', 'Data Management', 'Data Structures', 'Human Computer Interaction', 'Javascript', 'User Experience', 'Software Engineering Tools', 'Algorithms', 'Computer Programming Tools', 'Research and Design', 'Interactive Design', 'Software Testing', 'User Experience Design', 'Android Development', 'Big Data', 'Calculus', 'Communication', 'Entrepreneurship', 'Leadership and Management', 'Market Research', 'Mathematics', 'Operations Research', 'Problem Solving', 'Strategy and Operations', 'Front-End Web Development', 'Algebra', 'Computational Logic', 'Computational Thinking', 'Computer Architecture', 'Computer Networking', 'Computer Science', 'Data Model', 'Django (Web Framework)', 'HTML and CSS', 'Hardware Design', 'Human Resources', 'Journalism', 'Leadership Development', 'Linux', 'Mathematical Theory & Analysis', 'Network Model', 'Planning', 'Project Management', 'Python Programming', 'Software Architecture', 'Statistical Programming', 'Supply Chain and Logistics', 'Web Design')\n",
      " ('Accounting', 'Advertising', 'Communication')\n",
      " ('Communication', 'Leadership and Management', 'Sales')\n",
      " ('Collaboration', 'Communication', 'Negotiation')\n",
      " ('Business Psychology', 'Communication', 'Human Resources', 'Influencing', 'Marketing', 'Training', 'Writing')\n",
      " ('Communication', 'Business Communication')\n",
      " ('Data Analysis', 'Microsoft Excel', 'Business Analysis', 'Spreadsheet Software', 'Data Analysis Software', 'Advertising', 'Communication', 'Computer Architecture', 'Computer Graphic Techniques', 'Computer Graphics', 'Computer Networking', 'Marketing', 'Network Architecture', 'Data Management')\n",
      " ('Business Analysis', 'Communication', 'Critical Thinking', 'Research and Design', 'Strategy and Operations', 'Writing')\n",
      " ('Adaptability', 'Organizational Development', 'Business Psychology', 'Design and Product', 'Entrepreneurship', 'Human Resources', 'Innovation', 'Leadership Development', 'Leadership and Management', 'Project Management', 'Research and Design', 'Software Engineering', 'Software Testing', 'Strategy', 'Strategy and Operations', 'Business Process Management', 'Communication', 'Software Engineering Tools', 'Operations Management', 'Problem Solving', 'Supply Chain and Logistics')\n",
      " ('Business Communication', 'Communication', 'Writing', 'Collaboration', 'Entrepreneurship', 'Leadership and Management', 'Business Psychology', 'Decision Making', 'Human Resources', 'People Development', 'Marketing')\n",
      " ('Communication', 'Entrepreneurship', 'Leadership and Management', 'Marketing', 'Business Communication', 'Sales', 'Writing', 'Strategy and Operations', 'Decision Making', 'Human Resources', 'Leadership Development')\n",
      " ('Brand Management', 'Entrepreneurship', 'Leadership and Management', 'Marketing', 'Research and Design', 'Strategy and Operations', 'Advertising', 'Communication', 'Finance', 'Financial Management', 'Operations Research', 'Project Management', 'Sales', 'Strategy', 'Supply Chain Systems', 'Supply Chain and Logistics', 'Critical Thinking')\n",
      " ('Communication', 'Leadership and Management', 'Strategy and Operations', 'Business Communication', 'Change Management', 'Collaboration', 'Entrepreneurship', 'People Management')\n",
      " ('Communication', 'Conflict Management', 'Entrepreneurship', 'Human Resources', 'Leadership and Management', 'People Management', 'Professional Development', 'Strategy and Operations', 'Advertising', 'Influencing', 'Marketing', 'Problem Solving', 'Project Management', 'Sales')\n",
      " ('Leadership and Management', 'Entrepreneurship', 'Marketing', 'Sales', 'Strategy', 'Strategy and Operations', 'Computer Architecture', 'Computer Networking', 'Network Architecture')\n",
      " ('Software Engineering', 'Agile Software Development', 'Software Testing', 'Computer Science', 'Adaptability', 'Design and Product', 'Organizational Development', 'Software Architecture', 'Strategy and Operations', 'Business Psychology', 'Entrepreneurship', 'Human Resources', 'Innovation', 'Leadership Development', 'Leadership and Management', 'Project Management', 'Research and Design', 'Scrum (Software Development)', 'Strategy', 'Theoretical Computer Science', 'Continuous Delivery', 'Continuous Integration', 'Business Process Management', 'Communication', 'Software Engineering Tools', 'Operations Management', 'Problem Solving', 'Product Design', 'Supply Chain and Logistics')\n",
      " ('Collaboration', 'Communication', 'Entrepreneurship', 'Human Resources', 'Leadership Development', 'Leadership and Management', 'People Development', 'Business Psychology', 'Culture', 'Emotional Intelligence', 'Accounting', 'Business Analysis', 'Data Analysis', 'Finance', 'Financial Analysis', 'Investment Management', 'Strategy')\n",
      " ('Business Psychology', 'Entrepreneurship', 'Human Resources', 'Leadership and Management', 'People Development', 'Human Learning', 'Communication', 'Deep Learning', 'Emotional Intelligence', 'Machine Learning', 'Professional Development')\n",
      " ('Entrepreneurship', 'Leadership and Management', 'Business Psychology', 'Organizational Development', 'Planning', 'Supply Chain and Logistics', 'Behavioral Economics', 'Communication', 'Marketing', 'Social Media')\n",
      " ('Business Research', 'Leadership and Management', 'Research and Design', 'Business Analysis', 'Business Transformation', 'Entrepreneurship', 'Innovation', 'Problem Solving', 'Business Design', 'Market Research', 'Collaboration', 'Communication', 'Professional Development', 'Business Psychology', 'Entrepreneurial Finance', 'Finance', 'Human Resources', 'Leadership Development', 'Organizational Development', 'Planning', 'Risk Management', 'Adaptability', 'Culture', 'Strategy')\n",
      " ('Business Psychology', 'Communication', 'Entrepreneurship', 'Human Learning', 'Culture', 'Influencing', 'Leadership and Management', 'Marketing', 'Change Management')\n",
      " ('Business Psychology', 'Human Resources', 'Adaptability', 'Communication', 'Entrepreneurship', 'Epidemiology', 'Human Computer Interaction', 'Human Factors (Security)', 'Human Learning', 'Marketing', 'Probability & Statistics', 'Public Relations', 'Security Engineering', 'Training')\n",
      " ('Communication', 'Design and Product', 'Entrepreneurship', 'Human Computer Interaction', 'Market Research', 'Research and Design', 'User Research')\n",
      " ('Communication', 'Leadership and Management', 'Emotional Intelligence', 'Entrepreneurship', 'Business Psychology', 'Conflict Management', 'Human Learning', 'Human Resources', 'Marketing', 'Problem Solving', 'Public Relations', 'Research and Design')\n",
      " ('Leadership and Management', 'Communication', 'Human Resources', 'Emotional Intelligence')\n",
      " ('Business Analysis', 'Communication', 'Critical Thinking', 'Emotional Intelligence', 'Epidemiology', 'Leadership and Management', 'Probability & Statistics', 'Research and Design', 'Strategy and Operations')\n",
      " ('Business Communication', 'Communication', 'Design and Product', 'Entrepreneurship', 'Human Computer Interaction', 'Leadership and Management', 'Planning', 'Supply Chain and Logistics', 'User Experience', 'User Research')\n",
      " ('Communication', 'Computer Networking', 'Network Security', 'Security Engineering', 'Advertising', 'Marketing', 'Public Relations')\n",
      " ('Brand Management', 'Marketing', 'Advertising', 'Business Psychology', 'Communication', 'Entrepreneurship', 'Leadership and Management', 'Organizational Development', 'Probability & Statistics', 'Accounting', 'Audit', 'FinTech', 'Finance', 'General Statistics', 'Human Resources', 'Project Management', 'Strategy and Operations')\n",
      " ('Computer Networking', 'Security Engineering', 'Algorithms', 'Calculus', 'Communication', 'Computer Architecture', 'Hardware Design', 'Mathematics', 'Operating Systems', 'Theoretical Computer Science', 'Cloud Computing', 'Network Model', 'Linux', 'System Security')\n",
      " ('Strategy and Operations', 'Leadership and Management', 'Entrepreneurship', 'Planning', 'Supply Chain and Logistics', 'Marketing', 'Operations Management', 'Sales', 'Strategy')\n",
      " ('Leadership and Management', 'Clinical Data Management', 'Data Management')\n",
      " ('Leadership and Management', 'Business Psychology', 'Entrepreneurship', 'Human Resources', 'People Development', 'Professional Development', 'Adaptability', 'Business Analysis', 'Communication', 'Customer Relationship Management', 'Emotional Intelligence', 'Epidemiology', 'Finance', 'Human Learning', 'Leadership Development', 'Marketing', 'People Analysis', 'Probability & Statistics', 'Sales', 'Statistical Tests')\n",
      " ('Communication', 'Marketing', 'Negotiation', 'Sales')\n",
      " ('Finance', 'Risk Management', 'Security Engineering', 'Computer Networking', 'Cyberattacks', 'Entrepreneurship', 'Leadership and Management', 'Marketing', 'Network Security', 'Operating Systems', 'Sales', 'Security Strategy', 'Strategy', 'Strategy and Operations', 'System Security', 'Operations Management', 'Software Engineering', 'Software Security', 'Supply Chain and Logistics', 'Transportation Operations Management')\n",
      " ('Communication', 'Storytelling', 'Computer Architecture', 'Computer Networking', 'Cryptography', 'Entrepreneurship', 'Leadership and Management', 'Market Research', 'Marketing', 'Negotiation', 'Network Architecture', 'Research and Design', 'Sales', 'Security Engineering', 'Strategy', 'Strategy and Operations', 'Theoretical Computer Science', 'Creativity', 'Problem Solving', 'Resilience')\n",
      " ('Data Visualization', 'Scientific Visualization')\n",
      " ('Agile Software Development', 'Project Management', 'Scrum (Software Development)', 'Software Engineering', 'Strategy and Operations', 'Leadership and Management', 'Entrepreneurship', 'Design and Product', 'Application Development', 'DevOps', 'Planning', 'Problem Solving', 'Product Design', 'Research and Design', 'Supply Chain and Logistics', 'Communication', 'Journalism', 'Sales')\n",
      " ('Health',)\n",
      " ('Data Visualization', 'Visualization (Computer Graphics)', 'Communication', 'Computer Graphics', 'Research and Design', 'Tableau Software', 'Business Communication', 'Interactive Data Visualization', 'Leadership and Management', 'Visual Design', 'Business Analysis', 'Computer Architecture', 'Computer Networking', 'Data Analysis', 'Data Analysis Software', 'Data Management', 'Data Visualization Software', 'Database Application', 'Databases', 'Emotional Intelligence', 'Entrepreneurship', 'Graphic Design', 'Network Architecture', 'Network Model', 'Network Security', 'Plot (Graphics)', 'Problem Solving', 'Project Management', 'Security Engineering', 'Strategy and Operations', 'Journalism', 'Software Engineering')\n",
      " ('Finance', 'Communication', 'Marketing', 'Negotiation', 'Sales')\n",
      " ('Leadership and Management', 'Strategy and Operations', 'Change Management', 'Entrepreneurship', 'Planning', 'Project Management', 'Supply Chain and Logistics', 'Vendor Management')\n",
      " ('Business Psychology', 'Business Analysis', 'Communication', 'Critical Thinking', 'Entrepreneurship', 'Human Learning', 'Research and Design', 'Strategy and Operations')\n",
      " ('Communication', 'Journalism')\n",
      " ('Communication', 'Leadership and Management', 'Marketing')\n",
      " ('Entrepreneurship', 'Leadership and Management', 'Decision Making', 'Project Management', 'Strategy and Operations', 'Supply Chain and Logistics', 'Business Communication')\n",
      " ('Communication', 'Customer Relationship Management', 'Customer Success', 'Finance', 'Marketing', 'Sales', 'Strategy and Operations')\n",
      " ('Leadership and Management', 'Human Resources', 'Leadership Development', 'Collaboration', 'Communication', 'Conflict Management')\n",
      " ('Entrepreneurship', 'Leadership and Management', 'Marketing', 'Research and Design', 'Strategy and Operations', 'Communication', 'Market Research', 'Project Management', 'Sales', 'Strategy', 'Survey Creation')\n",
      " ('Communication', 'Marketing', 'Social Media', 'Epidemiology', 'Probability & Statistics')\n",
      " ('Communication', 'Leadership and Management', 'Advertising', 'Business Analysis', 'Business Communication', 'Business Psychology', 'Entrepreneurship', 'Human Resources', 'Marketing', 'Organizational Development', 'People Analysis')\n",
      " ('Human Computer Interaction', 'Probability & Statistics', 'Communication', 'Design and Product', 'Entrepreneurship', 'Epidemiology', 'General Statistics', 'Market Research', 'Research and Design', 'User Experience', 'User Research')\n",
      " ('Business Psychology', 'Collaboration', 'Communication', 'Entrepreneurship', 'Human Resources', 'Leadership Development', 'Leadership and Management', 'People Development', 'Professional Development', 'Decision Making', 'Business Communication', 'Conflict Management', 'Emotional Intelligence', 'Employee Relations')\n",
      " ('Communication', 'Storytelling', 'Writing', 'Software Engineering', 'Software Engineering Tools', 'Strategy and Operations')\n",
      " ('Professional Development', 'Storytelling')\n",
      " ('Epidemiology', 'Probability & Statistics', 'Entrepreneurship', 'Leadership and Management', 'Problem Solving', 'Research and Design', 'Communication', 'Marketing', 'Public Relations')\n",
      " ('Business Psychology', 'Communication', 'Emotional Intelligence', 'Entrepreneurship', 'Human Learning', 'Leadership and Management', 'Marketing', 'Resilience', 'Sales', 'Strategy', 'Strategy and Operations')\n",
      " ('Communication', 'Entrepreneurship', 'Leadership and Management', 'Marketing', 'Sales', 'Strategy', 'Strategy and Operations', 'Collaboration', 'Research and Design', 'Influencing', 'Project Management', 'Social Media', 'Epidemiology')\n",
      " ('Entrepreneurship', 'Leadership and Management', 'Problem Solving', 'Research and Design', 'Innovation', 'Communication', 'Storytelling')\n",
      " ('Leadership and Management', 'Strategy and Operations', 'Human Resources', 'Leadership Development', 'Entrepreneurship', 'Marketing', 'Sales', 'Strategy', 'Communication', 'Change Management', 'Problem Solving', 'Research and Design', 'Business Psychology', 'Collaboration', 'People Development', 'Conflict Management', 'Emotional Intelligence', 'Influencing')\n",
      " ('Cloud Computing', 'Cloud Platforms', 'Computer Networking', 'Network Security', 'Security Engineering', 'Software As A Service', 'Advertising', 'Communication', 'Cyberattacks', 'Journalism', 'Marketing')\n",
      " ('Decision Making', 'Entrepreneurship', 'Leadership and Management', 'Research and Design', 'Collaboration', 'Communication', 'Creativity', 'Human Resources', 'Leadership Development', 'Problem Solving', 'Strategy')\n",
      " ('Security Engineering', 'Human Factors (Security)', 'System Security', 'Communication', 'Computer Architecture', 'Computer Graphics', 'Computer Networking', 'Cryptography', 'Database Administration', 'Databases', 'Finance', 'Human Computer Interaction', 'Interactive Design', 'Internet Of Things', 'Marketing', 'Network Architecture', 'Operating Systems', 'Regulations and Compliance', 'Security Strategy', 'Social Media', 'Software Engineering')\n",
      " ('Human Resources', 'Leadership Development', 'Leadership and Management', 'Communication', 'Emotional Intelligence', 'Adaptability', 'Business Psychology', 'Entrepreneurship', 'Marketing', 'Sales', 'Strategy', 'Strategy and Operations')\n",
      " ('Research and Design', 'Business Analysis', 'Critical Thinking', 'Strategy and Operations', 'Communication', 'Entrepreneurship', 'Leadership and Management', 'Business Psychology', 'Decision Making', 'Experiment', 'General Statistics', 'Human Learning', 'Probability & Statistics', 'Problem Solving')\n",
      " ('Accounting', 'Big Data', 'Brand Management', 'Business Analysis', 'Business Psychology', 'Communication', 'Computer Networking', 'Computer Programming', 'Data Analysis', 'Data Management', 'Digital Marketing', 'Entrepreneurship', 'Financial Analysis', 'General Statistics', 'Human Computer Interaction', 'Human Learning', 'Influencing', 'Leadership and Management', 'Marketing', 'Network Model', 'Other Programming Languages', 'Planning', 'Probability & Statistics', 'Programming Principles', 'Sales', 'Social Media', 'Strategy', 'Strategy and Operations', 'Supply Chain and Logistics', 'User Experience', 'Web Development', 'Writing')\n",
      " ('Machine Learning', 'Advertising', 'Amazon Web Services', 'Cloud Computing', 'Communication', 'Computer Programming', 'Deep Learning', 'Feature Engineering', 'Marketing', 'Mathematical Theory & Analysis', 'Mathematics', 'Natural Language Processing', 'Programming Principles')\n",
      " ('Leadership and Management', 'Leadership Development', 'Entrepreneurship', 'Business Psychology', 'Finance', 'Human Resources', 'Human Resources Operations', 'Organizational Development', 'Risk Management', 'Collaboration', 'Communication', 'Decision Making', 'Planning', 'Resilience', 'Supply Chain and Logistics', 'Marketing', 'Problem Solving', 'Research and Design', 'Sales', 'Strategy', 'Strategy and Operations')\n",
      " ('Business Psychology', 'Entrepreneurship', 'Human Resources', 'Leadership and Management', 'People Development', 'Collaboration', 'Communication', 'Leadership Development', 'People Management', 'Performance Management', 'Strategy and Operations')\n",
      " ('Leadership and Management', 'Entrepreneurship', 'Business Development', 'Business Psychology', 'Marketing', 'Sales', 'Strategy', 'Strategy and Operations', 'Organizational Development', 'Culture', 'Collaboration', 'Communication', 'Agile Software Development', 'Business Process Management', 'Data Analysis', 'Operations Research', 'Project Management', 'Research and Design', 'Software Engineering', 'Supply Chain Systems', 'Supply Chain and Logistics')\n",
      " ('Communication', 'Leadership and Management', 'Professional Development', 'Writing', 'Creativity', 'Entrepreneurship', 'Marketing', 'Sales', 'Strategy', 'Strategy and Operations')\n",
      " ('Leadership and Management', 'Professional Development')\n",
      " ('Leadership and Management',)\n",
      " ('Business Communication', 'Communication', 'Leadership and Management', 'Professional Development', 'Human Resources', 'Marketing', 'Sales', 'Strategy and Operations')\n",
      " ('Collaboration', 'Communication', 'Leadership and Management', 'Emotional Intelligence', 'Human Resources', 'Leadership Development', 'Project Management', 'Strategy and Operations', 'Business Communication', 'Business Psychology', 'Conflict Management', 'Culture', 'Entrepreneurship', 'Organizational Development', 'Agile Software Development', 'Scrum (Software Development)', 'Software Engineering')\n",
      " ('Brand Management', 'Communication', 'Entrepreneurship', 'Influencing', 'Leadership and Management', 'Marketing', 'Sales', 'Social Media', 'Strategy', 'Strategy and Operations')\n",
      " ('Communication', 'Computer Networking', 'Network Security', 'Security Engineering', 'Software Security', 'Journalism', 'Security Software')\n",
      " ('Communication', 'Entrepreneurship', 'Influencing', 'Leadership and Management', 'Marketing', 'Sales', 'Strategy', 'Strategy and Operations', 'User Experience')\n",
      " ('Advertising', 'Communication', 'Marketing', 'Writing')\n",
      " ('Communication', 'Human Computer Interaction', 'Probability & Statistics', 'Design and Product', 'Entrepreneurship', 'Epidemiology', 'General Statistics', 'Market Research', 'Research and Design', 'User Experience', 'User Research')\n",
      " ('Business Psychology', 'Human Resources', 'Training', 'Communication')\n",
      " ('Communication', 'Journalism', 'Business Analysis', 'Critical Thinking', 'Research and Design', 'Strategy and Operations', 'Marketing', 'Social Media', 'Advertising', 'Entrepreneurship', 'General Statistics', 'Leadership and Management', 'Probability & Statistics', 'Sales', 'Strategy')\n",
      " ('Communication', 'Entrepreneurship', 'Epidemiology', 'Probability & Statistics', 'Research and Design', 'Design and Product', 'Human Computer Interaction', 'Market Research', 'User Research')\n",
      " ('Entrepreneurship', 'Leadership and Management', 'Marketing', 'Sales', 'Strategy', 'Strategy and Operations', 'Supply Chain and Logistics', 'Business Psychology', 'Organizational Development', 'Planning', 'Communication', 'Market Analysis', 'Marketing Management', 'Computer Programming', 'Programming Principles', 'Project Management', 'Research and Design')\n",
      " ('Probability & Statistics', 'Leadership and Management', 'Strategy and Operations', 'System Security', 'Operating Systems', 'Security Engineering', 'Software Security', 'Business Analysis', 'Communication', 'General Statistics', 'Marketing', 'Project Management', 'Risk Management', 'Sales')\n",
      " ('Business Analysis', 'Critical Thinking', 'Research and Design', 'Strategy and Operations', 'Bayesian Statistics', 'Communication', 'General Statistics', 'Marketing', 'Probability & Statistics', 'Social Media', 'Software Architecture', 'Software Engineering', 'Theoretical Computer Science')\n",
      " ('Benefits', 'Business Psychology', 'Change Management', 'Communication', 'Computer Graphics', 'Entrepreneurship', 'Finance', 'Graphics Software', 'Human Learning', 'Human Resources', 'Mergers & Acquisitions', 'Writing')\n",
      " ('Business Psychology', 'Entrepreneurship', 'Leadership and Management', 'Adaptability', 'Collaboration', 'Communication', 'Culture', 'Marketing', 'Organizational Development', 'Project Management', 'Resilience', 'Social Media', 'Strategy and Operations', 'Behavioral Economics', 'Brand Management', 'Customer Relationship Management', 'Finance', 'Operating Systems', 'Operations Management', 'Planning', 'Problem Solving', 'Research and Design', 'Sales', 'Strategy', 'Supply Chain and Logistics', 'Systems Design', 'Theoretical Computer Science')\n",
      " ('Communication', 'Entrepreneurship', 'Leadership and Management', 'Marketing', 'Sales', 'Storytelling', 'Strategy and Operations')\n",
      " ('Leadership and Management', 'Professional Development', 'Entrepreneurship', 'Human Resources', 'Marketing', 'Business Psychology', 'People Development', 'Sales', 'Strategy', 'Strategy and Operations', 'Adaptability', 'Benefits', 'Brand Management', 'Business Analysis', 'Communication', 'Customer Relationship Management', 'Decision Making', 'Emotional Intelligence', 'Epidemiology', 'Finance', 'Human Computer Interaction', 'Human Learning', 'Leadership Development', 'People Analysis', 'Probability & Statistics', 'Recruitment', 'Research and Design', 'Statistical Tests')\n",
      " ('Marketing', 'Communication', 'Social Media', 'Digital Marketing', 'Media Strategy & Planning', 'Entrepreneurship', 'Market Research', 'Research and Design', 'Sales', 'Strategy', 'Strategy and Operations', 'Advertising', 'Leadership and Management', 'Marketing Management', 'Business Analysis', 'Customer Analysis', 'Influencing', 'Prospecting and Qualification', 'Writing', 'Brand Management', 'Business Psychology', 'Marketing Psychology', 'Data Analysis', 'Data Analysis Software', 'IBM Cloud', 'Other Cloud Platforms and Tools')\n",
      " ('Entrepreneurship', 'Leadership and Management', 'Business Psychology', 'Culture', 'Research and Design', 'Brand Management', 'Communication', 'Creativity', 'Entrepreneurial Finance', 'Finance', 'Financial Management', 'Human Computer Interaction', 'Innovation', 'Journalism', 'Marketing', 'Planning', 'Supply Chain and Logistics', 'Sales')\n",
      " ('Communication', 'Storytelling', 'Business Psychology', 'Entrepreneurship', 'Culture', 'Leadership and Management', 'Business Analysis', 'Collaboration', 'Critical Thinking', 'Data Visualization', 'Human Learning', 'Human Resources', 'Research and Design', 'Scientific Visualization', 'Strategy and Operations', 'Adaptability', 'Computer Graphics', 'Creativity', 'Graphics Software', 'Machine Learning', 'Machine Learning Algorithms')\n",
      " ('Business Psychology', 'Culture', 'Leadership and Management', 'Creativity', 'Entrepreneurship', 'Research and Design', 'Communication', 'Marketing', 'Social Media')\n",
      " ('Human Computer Interaction', 'User Experience', 'Communication', 'Creativity', 'Entrepreneurship', 'Media Production', 'Research and Design', 'Collaboration', 'Computer Graphics', 'Graphics Software', 'Human Resources', 'Leadership Development', 'Leadership and Management', 'Planning', 'Project Management', 'Strategy and Operations', 'Supply Chain and Logistics', 'Writing')\n",
      " ('Communication', 'Creativity')\n",
      " ('Computer Graphics', 'Graphic Design', 'Research and Design', 'Visual Design', 'Brand Management', 'Creativity', 'Entrepreneurship', 'Graphics Software', 'Marketing')\n",
      " ('Creativity', 'Entrepreneurship', 'Research and Design', 'Machine Learning')\n",
      " ('Creativity', 'Entrepreneurship', 'Research and Design', 'Machine Learning', 'Market Research', 'Artificial Neural Networks')\n",
      " ('Entrepreneurship', 'Research and Design', 'Leadership and Management', 'Innovation', 'Creativity', 'Strategy', 'Marketing', 'Sales', 'Strategy and Operations', 'Communication', 'Entrepreneurial Finance', 'Business Communication', 'Business Development', 'Collaboration', 'Business Analysis', 'Conflict Management', 'Customer Analysis', 'Decision Making', 'Design and Product', 'Product Lifecycle', 'Product Strategy', 'Behavioral Economics', 'Business Psychology', 'Finance', 'Financial Management', 'Investment Management', 'Market Research', 'Organizational Development', 'People Management', 'Performance Management', 'Storytelling', 'Adaptability', 'Emotional Intelligence', 'Human Learning', 'Leadership Development', 'Planning', 'Problem Solving', 'Product Development', 'Product Management', 'Product Marketing')\n",
      " ('Creativity', 'Design and Product', 'Entrepreneurship', 'Innovation', 'Product Development', 'Product Strategy', 'Research and Design', 'Big Data', 'Business Psychology', 'Data Management', 'Human Resources', 'Leadership and Management', 'People Development', 'Planning', 'Supply Chain and Logistics')\n",
      " ('Computer Graphics', 'Creativity', 'Entrepreneurship', 'Graphic Design', 'Research and Design', 'Visual Design', 'Design and Product')\n",
      " ('Communication', 'Emotional Intelligence', 'Leadership and Management', 'Business Psychology', 'Entrepreneurship', 'Human Resources', 'People Development', 'Personal Development', 'Professional Development', 'Research and Design', 'Resilience', 'Probability & Statistics', 'Big Data', 'Business Analysis', 'Creativity', 'Data Analysis', 'Data Management', 'General Statistics', 'Statistical Analysis', 'Basic Descriptive Statistics')\n",
      " ('Business Analysis', 'Critical Thinking', 'Research and Design', 'Strategy and Operations', 'Communication', 'Entrepreneurship', 'General Statistics', 'Probability & Statistics', 'Big Data', 'Business Psychology', 'Computer Networking', 'Creativity', 'Culture', 'Data Management', 'Deep Learning', 'Innovation', 'Leadership and Management', 'Machine Learning', 'Marketing', 'Network Model', 'Social Media')\n",
      " ('Applied Mathematics', 'Mathematics')\n",
      " ('Entrepreneurship', 'Research and Design', 'Innovation', 'Leadership and Management', 'Problem Solving')\n",
      " ('Entrepreneurship', 'Research and Design')\n",
      " ('Leadership and Management', 'Business Psychology', 'Culture', 'Communication', 'Entrepreneurship', 'Marketing', 'Algorithms', 'Creativity', 'Finance', 'Research and Design', 'Storytelling', 'Theoretical Computer Science')\n",
      " ('Leadership and Management', 'Strategy and Operations', 'Strategy', 'Entrepreneurship', 'Marketing', 'Sales', 'Business Analysis', 'Business Transformation', 'Design and Product', 'Product Management', 'Business Process Management', 'Business Design', 'Research and Design', 'Human Computer Interaction', 'Process Analysis', 'Project Management', 'User Experience', 'User Experience Design', 'Agile Software Development', 'Internet Of Things', 'Market Analysis', 'Big Data', 'BlockChain', 'Cloud Computing', 'Computer Architecture', 'Computer Graphics', 'Computer Networking', 'Creativity', 'Critical Thinking', 'Data Analysis', 'Data Management', 'Finance', 'Innovation', 'Interactive Design', 'Network Architecture', 'Problem Solving', 'Product Development', 'Software Engineering', 'Supply Chain and Logistics', 'Visual Design')\n",
      " ('Communication', 'Creativity', 'Entrepreneurship', 'Human Computer Interaction', 'Research and Design', 'User Experience', 'Writing')\n",
      " ('Communication', 'Entrepreneurship', 'Leadership and Management', 'Marketing', 'Sales', 'Strategy', 'Strategy and Operations', 'Collaboration', 'Creativity', 'Research and Design', 'Brand Management', 'Decision Making', 'Entrepreneurial Finance', 'Media Strategy & Planning', 'Planning', 'Social Media', 'Storytelling', 'Supply Chain and Logistics')\n",
      " ('Communication', 'Writing', 'Leadership and Management', 'Business Communication', 'Professional Development', 'Project Management', 'Strategy and Operations', 'Creativity', 'Entrepreneurship', 'Marketing', 'Sales', 'Strategy')\n",
      " ('Entrepreneurship', 'Leadership and Management', 'Strategy and Operations', 'Marketing', 'Sales', 'Strategy', 'Probability & Statistics', 'General Statistics', 'Research and Design', 'Business Process Management', 'Decision Making', 'Accounting', 'Audit', 'Behavioral Economics', 'Business Psychology', 'Creativity', 'Econometrics', 'Finance', 'Forecasting', 'Investment Management', 'Problem Solving')\n",
      " ('Marketing', 'Brand Management', 'Research and Design', 'Communication', 'Human Computer Interaction', 'User Experience', 'Business Analysis', 'Business Psychology', 'Customer Analysis', 'Design and Product', 'Marketing Design', 'User Experience Design', 'User Research', 'Persona Research', 'Advertising', 'Influencing', 'Human Resources', 'Journalism', 'People Analysis', 'Public Relations', 'Storytelling', 'Creativity', 'Customer Relationship Management', 'Customer Success', 'Entrepreneurship', 'Finance', 'Leadership and Management', 'Media Production', 'Media Strategy & Planning', 'Sales', 'Strategy and Operations', 'Supply Chain and Logistics', 'Visual Design')\n",
      " ('Entrepreneurship', 'Leadership and Management', 'Marketing', 'Research and Design', 'Strategy and Operations', 'Communication', 'Design and Product', 'Supply Chain and Logistics', 'Sales', 'Social Media', 'Brand Management', 'Business Design', 'Innovation', 'Product Lifecycle', 'Strategy', 'Supply Chain Systems', 'Business Analysis', 'Business Psychology', 'Collaboration', 'E-Commerce', 'Merchandising', 'Operations Management', 'Product Management', 'Retail Sales', 'Adaptability', 'Business Process Management', 'Business Transformation', 'Creativity', 'Culture', 'Customer Analysis', 'Customer Relationship Management', 'Finance', 'Forecasting', 'Operations Research', 'Probability & Statistics', 'Problem Solving', 'Product Development', 'Product Marketing', 'Retail Store Operations', 'Supplier Relationship Management', 'Operating Systems', 'Systems Design', 'Theoretical Computer Science')\n",
      " ('Leadership and Management', 'Communication', 'Entrepreneurship', 'Marketing', 'Strategy and Operations', 'Research and Design', 'Sales', 'Strategy', 'Brand Management', 'Collaboration', 'Contract Management', 'Creativity', 'Accounting', 'Business Analysis', 'Critical Thinking', 'Decision Making', 'Entrepreneurial Finance', 'Finance', 'General Accounting', 'Human Resources', 'Media Strategy & Planning', 'Payments', 'Planning', 'Social Media', 'Storytelling', 'Supply Chain and Logistics', 'Talent Management')\n",
      " ('Writing', 'Communication', 'Research and Design', 'Creativity', 'Entrepreneurship', 'Business Analysis', 'Business Psychology', 'Critical Thinking', 'Culture', 'Leadership and Management', 'Strategy and Operations', 'Storytelling')\n",
      " ('Software Engineering', 'Game Theory', 'Mathematics', 'Human Computer Interaction', 'User Experience', 'Software Engineering Tools', 'Computer Graphics', 'Computer Programming', 'Research and Design', 'Business Psychology', 'Entrepreneurship', 'Programming Principles', 'Business Development', 'Creativity', 'Sales', 'Accounting', 'Application Development', 'Communication', 'Computer Graphic Techniques', 'Computer Programming Tools', 'Design and Product', 'Graphic Design', 'Graphics Software', 'Leadership and Management', 'Management Accounting', 'Organizational Development', 'Product Design', 'Software Testing', 'Storytelling', 'User Experience Design', 'Other Programming Languages')\n",
      " ('Entrepreneurship', 'Research and Design', 'Leadership and Management', 'Innovation', 'Professional Development', 'Forecasting', 'Probability & Statistics', 'Operations Research', 'Strategy and Operations', 'Business Psychology', 'Culture', 'Finance', 'Business Analysis', 'Collaboration', 'Creativity', 'Critical Thinking', 'Human Computer Interaction', 'Leadership Development')\n",
      " ('Research and Design', 'User Experience', 'Human Computer Interaction', 'User Experience Design', 'Computer Science', 'Business Psychology', 'User Research', 'Business Analysis', 'Creativity', 'Design and Product', 'Entrepreneurship', 'Human Resources', 'Market Research', 'People Analysis', 'Experiment', 'Persona Research', 'Software Engineering', 'Software Testing', 'Statistical Tests', 'Survey Creation', 'Change Management', 'Computer Architecture', 'Computer Networking', 'Leadership and Management', 'Network Architecture', 'Planning', 'Strategy and Operations', 'Supply Chain and Logistics')\n",
      " ('Big Data', 'Communication', 'Creativity', 'Data Management', 'Emotional Intelligence', 'Leadership and Management')\n",
      " ('Communication', 'Marketing', 'Digital Marketing', 'Social Media', 'Strategy and Operations', 'Advertising', 'Leadership and Management', 'Business Psychology', 'Culture', 'Entrepreneurship', 'Media Strategy & Planning', 'Public Relations', 'Sales', 'Strategy', 'Business Analysis', 'Customer Analysis', 'Influencing', 'Project Management', 'Web Design', 'Web Development', 'Design and Product', 'Product Design', 'Software Architecture', 'Software Engineering', 'Theoretical Computer Science', 'Creativity', 'Finance', 'Research and Design', 'Writing')\n",
      " ('Business Psychology', 'Entrepreneurship', 'Human Resources', 'Leadership and Management', 'People Development', 'Human Learning', 'Applied Machine Learning', 'Leadership Development', 'Machine Learning', 'Project Management', 'Strategy and Operations', 'Algebra', 'Creativity', 'Mathematics', 'Research and Design')\n",
      " ('Entrepreneurship', 'Marketing', 'Leadership and Management', 'Accounting', 'Sales', 'Strategy', 'Strategy and Operations', 'Planning', 'Supply Chain and Logistics', 'General Accounting', 'Research and Design', 'Innovation', 'Market Analysis', 'Communication', 'Computer Graphics', 'Creativity', 'Digital Marketing', 'E-Commerce', 'Finance', 'Graphics Software', 'Media Strategy & Planning', 'Operations Research')\n",
      " ('Creativity', 'Entrepreneurship', 'Research and Design')\n",
      " ('Accounting', 'Advertising', 'Big Data', 'Brand Management', 'Business Analysis', 'Change Management', 'Communication', 'Computer Architecture', 'Computer Networking', 'Creativity', 'Data Analysis', 'Data Management', 'Entrepreneurship', 'Finance', 'Financial Analysis', 'Influencing', 'Leadership and Management', 'Marketing', 'Network Architecture', 'Planning', 'Project Management', 'Research and Design', 'Sales', 'Social Media', 'Strategy', 'Strategy and Operations', 'Supply Chain and Logistics')\n",
      " ('Accounting', 'General Accounting', 'Contract Management', 'Leadership and Management', 'Strategy and Operations', 'Entrepreneurship', 'Agile Software Development', 'Brand Management', 'Creativity', 'Marketing', 'Project Management', 'Research and Design', 'Software Engineering', 'Business Development', 'Business Psychology', 'Communication', 'Employee Relations', 'Human Resources', 'Organizational Development', 'Sales', 'Advertising', 'Corporate Accouting', 'Probability & Statistics')\n",
      " ('Creativity', 'Entrepreneurship', 'Research and Design', 'Innovation', 'Business Design', 'Problem Solving')\n",
      " ('Entrepreneurship', 'Leadership and Management', 'Marketing', 'Problem Solving', 'Research and Design', 'Sales', 'Strategy and Operations', 'Creativity')\n",
      " ('Research and Design', 'Accounting', 'Business Design', 'Entrepreneurship', 'Business Analysis', 'Business Development', 'Finance', 'Sales', 'Creativity', 'Financial Management', 'Marketing', 'Innovation', 'Leadership and Management', 'Business Research', 'Business Intelligence', 'Cost Accounting', 'Data Management', 'Digital Marketing', 'Entrepreneurial Finance', 'Strategy', 'Strategy and Operations', 'Computer Graphics', 'Graphics Software')\n",
      " ('Innovation', 'Research and Design', 'Communication', 'Entrepreneurship', 'Leadership and Management', 'Business Communication', 'Business Development', 'Collaboration', 'Creativity', 'Entrepreneurial Finance', 'Marketing', 'Sales', 'Strategy', 'Strategy and Operations')\n",
      " ('Communication', 'Creativity', 'Entrepreneurship', 'Research and Design', 'Leadership and Management', 'Business Communication', 'Collaboration', 'Conflict Management', 'Decision Making', 'Storytelling', 'People Management')\n",
      " ('Creativity', 'Entrepreneurship', 'Research and Design', 'Emotional Intelligence', 'Problem Solving')\n",
      " ('Communication', 'Entrepreneurship', 'Leadership and Management', 'Research and Design', 'Business Analysis', 'Problem Solving', 'Professional Development', 'Software Engineering', 'Application Development', 'Computer Programming', 'Creativity', 'Data Analysis', 'Design and Product', 'Human Computer Interaction', 'Market Research', 'Software Testing', 'User Research')\n",
      " ('Computer Graphics', 'Creativity', 'Entrepreneurship', 'Graphic Design', 'Graphics Software', 'Research and Design')\n",
      " ('Business Psychology', 'Culture', 'Leadership and Management', 'Communication', 'Marketing', 'Social Media', 'Business Analysis', 'Critical Thinking', 'Research and Design', 'Strategy and Operations', 'Creativity', 'Writing')\n",
      " ('Entrepreneurship', 'Innovation', 'Leadership and Management', 'Professional Development', 'Research and Design', 'Business Analysis', 'Creativity', 'Critical Thinking', 'Forecasting', 'Human Computer Interaction', 'Probability & Statistics', 'Strategy and Operations')\n",
      " ('Communication', 'Creativity', 'Entrepreneurship')\n",
      " ('Business Communication', 'Business Psychology', 'Change Management', 'Communication', 'Correlation And Dependence', 'Creativity', 'Entrepreneurship', 'Human Learning', 'Human Resources', 'Leadership Development', 'Leadership and Management', 'Marketing', 'People Development', 'Planning', 'Probability & Statistics', 'Problem Solving', 'Research and Design', 'Sales', 'Strategy', 'Strategy and Operations', 'Supply Chain and Logistics', 'Writing')\n",
      " ('Entrepreneurship', 'Strategy', 'Research and Design', 'Leadership and Management', 'Business Design', 'Collaboration', 'Communication', 'Creativity', 'Innovation', 'Business Research', 'Organizational Development', 'Problem Solving', 'Strategy and Operations', 'Accounting', 'Business Analysis', 'Cash Management', 'Customer Analysis', 'Design and Product', 'Finance', 'General Accounting', 'Human Resources', 'Market Research', 'Operations Research', 'People Development', 'Persona Research', 'Planning', 'Product Development', 'Product Strategy', 'Risk Management', 'Corporate Accouting', 'Culture', 'Leadership Development', 'Marketing', 'Sales', 'Supply Chain and Logistics')\n",
      " ('Decision Making', 'Entrepreneurship', 'Leadership and Management', 'Probability & Statistics', 'Statistical Tests')\n",
      " ('Creativity', 'Entrepreneurship', 'Research and Design', 'Leadership and Management', 'Problem Solving', 'Innovation')\n",
      " ('Creativity', 'Entrepreneurship', 'Human Learning', 'Planning', 'Research and Design')\n",
      " ('Entrepreneurship', 'Research and Design', 'Creativity', 'Machine Learning', 'Innovation', 'Market Research', 'Artificial Neural Networks')\n",
      " ('Creativity', 'Innovation', 'Problem Solving', 'Research and Design')\n",
      " ('Research and Design', 'Entrepreneurship', 'Creativity', 'Leadership and Management', 'Business Psychology', 'Human Learning', 'Problem Solving', 'Business Analysis', 'Collaboration', 'Communication', 'Critical Thinking', 'Innovation', 'Strategy and Operations', 'Design and Product', 'Product Development')\n",
      " ('Entrepreneurship', 'Innovation', 'Leadership and Management', 'Research and Design', 'Business Psychology', 'Human Learning', 'Human Resources', 'People Development', 'Strategy and Operations', 'Business Analysis', 'Change Management', 'Critical Thinking', 'Creativity')\n",
      " ('Leadership and Management', 'Professional Development', 'Human Resources', 'Business Analysis', 'Critical Thinking', 'Leadership Development', 'Research and Design', 'Strategy and Operations', 'Business Psychology', 'Entrepreneurship', 'Organizational Development', 'Collaboration', 'Communication', 'Business Communication', 'Culture', 'Human Learning', 'People Development', 'Accounting', 'Adaptability', 'Advertising Sales', 'Audit', 'Bioinformatics', 'Business Process Management', 'Change Management', 'Computer Architecture', 'Computer Networking', 'Computer Vision', 'Creativity', 'Customer Relationship Management', 'Decision Making', 'Emotional Intelligence', 'Finance', 'General Accounting', 'Machine Learning', 'Marketing', 'Network Architecture', 'Probability & Statistics', 'Problem Solving', 'Sales', 'Storytelling', 'Strategy', 'Supply Chain and Logistics')\n",
      " ('Communication', 'Creativity', 'Entrepreneurship', 'Research and Design', 'Writing')\n",
      " ('Creativity', 'Critical Thinking', 'Entrepreneurship', 'Innovation', 'Leadership and Management', 'Problem Solving', 'Research and Design', 'Visual Design')\n",
      " ('Research and Design', 'Strategy and Operations', 'Business Analysis', 'Data Analysis', 'Human Resources', 'Leadership and Management', 'Critical Thinking', 'Data Management', 'Innovation', 'Organizational Development', 'User Experience Design', 'Business Psychology', 'Change Management', 'General Statistics', 'Human Computer Interaction', 'Leadership Development', 'Probability & Statistics', 'Problem Solving', 'Statistical Analysis', 'User Experience', 'Business Research', 'Business Transformation', 'Communication', 'Conflict Management', 'Correlation And Dependence', 'Culture', 'Database Design', 'Databases', 'Design and Product', 'Emotional Intelligence', 'Operations Research', 'People Analysis', 'Planning', 'Creativity')\n",
      " ('Communication', 'Emotional Intelligence', 'Leadership and Management', 'Business Psychology', 'Entrepreneurship', 'Creativity', 'Human Learning', 'Human Resources', 'People Development', 'Research and Design')\n",
      " ('Communication', 'Creativity', 'Entrepreneurship', 'Leadership and Management', 'Planning', 'Supply Chain and Logistics')\n",
      " ('Business Psychology', 'Creativity', 'Culture', 'Entrepreneurship', 'Leadership and Management', 'Research and Design', 'Strategy and Operations')\n",
      " ('Business Psychology', 'Communication', 'Creativity', 'Entrepreneurship', 'Leadership and Management', 'Organizational Development', 'Research and Design', 'Storytelling', 'Writing')\n",
      " ('Communication', 'Business Communication', 'Leadership and Management', 'Writing', 'Research and Design', 'Entrepreneurship', 'Strategy and Operations', 'Business Analysis', 'Critical Thinking', 'Marketing', 'Sales', 'Strategy', 'Agile Software Development', 'Apache', 'Budget Management', 'Computer Architecture', 'Computer Programming', 'Creativity', 'Data Analysis', 'Data Analysis Software', 'Data Management', 'Distributed Computing Architecture', 'Emotional Intelligence', 'Finance', 'Other Programming Languages', 'Software Engineering', 'Machine Learning', 'Natural Language Processing')\n",
      " ('Human Resources', 'Leadership Development', 'Leadership and Management', 'Business Psychology', 'Entrepreneurship', 'Communication', 'Human Learning', 'Emotional Intelligence', 'People Development', 'Adaptability', 'Professional Development', 'Innovation', 'Research and Design', 'Organizational Development', 'Resilience', 'Collaboration', 'Business Analysis', 'Business Communication', 'Business Transformation', 'Creativity', 'Recruitment', 'Accounting', 'Audit', 'Business Process Management', 'Marketing', 'Sales', 'Strategy', 'Strategy and Operations')\n",
      " ('Research and Design', 'Persona Research', 'Design and Product', 'Entrepreneurship', 'Leadership and Management', 'Problem Solving', 'Product Development', 'User Research', 'Business Design', 'Creativity', 'Decision Making', 'Market Analysis', 'Market Research', 'Marketing', 'Product Design', 'Survey Creation', 'Business Analysis', 'Customer Analysis', 'Human Computer Interaction', 'Sales', 'Strategy', 'Strategy and Operations', 'User Experience')\n",
      " ('Communication', 'Creativity', 'Entrepreneurship', 'Research and Design', 'Storytelling', 'Writing')\n",
      " ('Business Psychology', 'Culture', 'Leadership and Management', 'Business Analysis', 'Critical Thinking', 'Entrepreneurship', 'Research and Design', 'Strategy and Operations', 'Creativity', 'Human Learning', 'Human Resources', 'People Development')\n",
      " ('Entrepreneurship', 'Leadership and Management', 'Research and Design', 'Creativity', 'Marketing', 'Decision Making', 'Business Psychology', 'Culture', 'Strategy and Operations', 'Data Visualization', 'Sales', 'Strategy', 'Project Management', 'Supply Chain and Logistics', 'Data Analysis', 'Communication', 'Storytelling', 'Business Analysis', 'Design and Product', 'Exploratory Data Analysis', 'Innovation', 'Probability & Statistics', 'Product Marketing', 'Business Communication', 'Human Computer Interaction', 'Human Resources', 'Market Research', 'Marketing Psychology', 'User Research')\n",
      " ('Entrepreneurship', 'Research and Design', 'Innovation', 'Business Psychology', 'Creativity', 'Human Learning', 'Leadership and Management', 'Computer Architecture', 'Computer Networking', 'Human Resources', 'Network Architecture', 'People Development', 'Problem Solving', 'Probability & Statistics', 'Statistical Tests')\n",
      " ('Creativity', 'Entrepreneurship', 'Research and Design', 'Communication', 'Storytelling')\n",
      " ('Computer Graphics', 'Creativity', 'Entrepreneurship', 'Graphics Software', 'Innovation', 'Leadership and Management', 'Planning', 'Research and Design', 'Supply Chain and Logistics')\n",
      " ('Creativity', 'Entrepreneurship', 'Research and Design', 'Human Computer Interaction', 'User Experience')\n",
      " ('Creativity', 'Innovation', 'People Management')\n",
      " ('Theoretical Computer Science', 'Machine Learning', 'Algorithms', 'Mathematics', 'Computational Logic', 'Entrepreneurship', 'Machine Learning Algorithms', 'Probability & Statistics', 'Business Psychology', 'Mathematical Theory & Analysis', 'Creativity', 'Research and Design', 'Bayesian Statistics', 'Computer Programming', 'Epidemiology', 'Game Theory', 'General Statistics', 'Graph Theory')\n",
      " ('Finance', 'BlockChain', 'Supply Chain Systems', 'Supply Chain and Logistics', 'FinTech', 'Entrepreneurship', 'Leadership and Management', 'Computer Architecture', 'Computer Networking', 'Internet Of Things', 'Software Engineering', 'Business Process Management', 'Creativity', 'Cryptography', 'Human Resources', 'Marketing', 'Regulations and Compliance', 'Research and Design', 'Security Engineering', 'Strategy and Operations', 'Theoretical Computer Science', 'Strategy')\n",
      " ('Entrepreneurship', 'Research and Design', 'Leadership and Management', 'Innovation', 'Strategy and Operations', 'Marketing', 'Sales', 'Strategy', 'Design and Product', 'Business Analysis', 'Business Design', 'Business Development', 'Change Management', 'Computer Networking', 'Creativity', 'Customer Analysis', 'Network Model', 'Product Lifecycle', 'Product Strategy', 'Project Management', 'Communication', 'Product Management')\n",
      " ('Research and Design', 'Entrepreneurship', 'Design and Product', 'Innovation', 'Product Development', 'Supply Chain and Logistics', 'Product Design', 'Product Management', 'Product Strategy', 'Creativity', 'Business Analysis', 'Critical Thinking', 'Strategy and Operations', 'Material Handling', 'Computer Architecture', 'Hardware Design', 'Leadership and Management', 'Problem Solving', 'Communication', 'Computer Graphic Techniques', 'Computer Graphics')\n",
      " ('Communication', 'Creativity', 'Entrepreneurship', 'Writing')\n",
      " ('Leadership and Management', 'Entrepreneurship', 'Business Psychology', 'Human Resources', 'People Development', 'Communication', 'Emotional Intelligence', 'Human Learning', 'Collaboration', 'Creativity', 'Decision Making', 'Research and Design')\n",
      " ('Entrepreneurship', 'Business Psychology', 'Human Learning', 'Leadership and Management', 'Business Analysis', 'Collaboration', 'Communication', 'Creativity', 'Critical Thinking', 'Human Resources', 'People Development', 'Research and Design', 'Strategy and Operations')\n",
      " ('Personal Development', 'Creativity', 'Entrepreneurship', 'Research and Design')\n",
      " ('Business Analysis', 'Business Psychology', 'Creativity', 'Critical Thinking', 'Culture', 'Entrepreneurship', 'Leadership and Management', 'Research and Design', 'Strategy and Operations')\n",
      " ('Entrepreneurship', 'Leadership and Management', 'Marketing', 'Sales', 'Strategy', 'Strategy and Operations', 'Research and Design', 'Creativity', 'Problem Solving')\n",
      " ('Entrepreneurship', 'Leadership and Management', 'Research and Design', 'Business Psychology', 'Innovation', 'Operating Systems', 'Organizational Development', 'Problem Solving', 'Project Management', 'Strategy and Operations', 'Systems Design', 'Theoretical Computer Science', 'Creativity', 'Data Analysis')\n",
      " ('Communication', 'Computer Graphics', 'Creativity', 'Entrepreneurship', 'Human Computer Interaction', 'Interactive Design', 'Leadership and Management', 'Marketing', 'Research and Design', 'Sales', 'Storytelling', 'Strategy', 'Strategy and Operations', 'Writing')\n",
      " ('Entrepreneurship', 'Leadership and Management', 'Business Analysis', 'Decision Making', 'Strategy and Operations', 'Critical Thinking', 'Finance', 'Human Resources', 'Investment Management', 'Leadership Development', 'Research and Design', 'Strategy', 'Risk Management', 'Marketing', 'Business Communication', 'Customer Analysis', 'Advertising', 'Budget Management', 'Communication', 'Influencing', 'Problem Solving', 'Sales', 'Creativity', 'Customer Relationship Management', 'Data Analysis', 'Entrepreneurial Finance', 'Planning', 'Professional Development', 'Prospecting and Qualification', 'Innovation', 'Social Media', 'Software Engineering', 'Theoretical Computer Science')\n",
      " ('Business Analysis', 'Creativity', 'Critical Thinking', 'Entrepreneurship', 'Research and Design', 'Strategy and Operations', 'Communication')\n",
      " ('Brand Management', 'Collaboration', 'Communication', 'Creativity', 'Design and Product', 'Entrepreneurship', 'Leadership and Management', 'Marketing', 'Problem Solving', 'Product Lifecycle', 'Product Management', 'Research and Design', 'Strategy and Operations')\n",
      " ('Research and Design', 'Leadership and Management', 'Collaboration', 'Communication', 'Design and Product', 'Entrepreneurship', 'Innovation', 'Marketing', 'Brand Management', 'Business Psychology', 'Creativity', 'Culture', 'Forecasting', 'Operations Management', 'Operations Research', 'Probability & Statistics', 'Strategy and Operations', 'Supply Chain Systems', 'Supply Chain and Logistics')\n",
      " ('Entrepreneurship', 'Leadership and Management', 'Research and Design', 'Marketing', 'Sales', 'Strategy', 'Innovation', 'Strategy and Operations', 'Market Analysis', 'Business Psychology', 'Market Research', 'Design and Product', 'Problem Solving', 'Communication', 'Marketing Psychology', 'Product Marketing', 'Business Analysis', 'Business Development', 'Collaboration', 'Digital Marketing', 'Forecasting', 'Organizational Development', 'Performance Management', 'Probability & Statistics', 'Product Design', 'Prospecting and Qualification', 'Adaptability', 'Advertising', 'Advertising Sales', 'B2B Sales', 'Business Transformation', 'Creativity', 'Customer Analysis', 'FinTech', 'Finance', 'Inside Sales', 'Planning', 'Product Lifecycle', 'Supply Chain and Logistics', 'Account Management', 'Behavioral Economics', 'Biostatistics', 'Business Design', 'E-Commerce', 'Graphics Software', 'Negotiation', 'Project Management', 'Social Media')\n",
      " ('Creativity', 'Entrepreneurship', 'Research and Design', 'Business Psychology', 'Culture', 'Leadership and Management')\n",
      " ('Leadership and Management', 'Entrepreneurship', 'Human Resources', 'Communication', 'Business Psychology', 'Personal Development', 'Professional Development', 'Leadership Development', 'People Development', 'Emotional Intelligence', 'Problem Solving', 'Business Communication', 'Collaboration', 'Conflict Management', 'Influencing', 'Marketing', 'Strategy and Operations', 'Research and Design', 'Resilience', 'Creativity', 'Decision Making', 'Planning', 'Employee Relations', 'Sales', 'Strategy', 'Writing')\n",
      " ('Communication', 'Computer Graphics', 'Creativity', 'Entrepreneurship', 'Human Computer Interaction', 'Interactive Design', 'Research and Design', 'Software Engineering', 'Software Engineering Tools', 'Storytelling', 'User Experience', 'Visual Design', 'Writing')\n",
      " ('Business Communication', 'Communication', 'Writing', 'Creativity')\n",
      " ('Leadership and Management', 'Business Psychology', 'Entrepreneurship', 'Resilience', 'Adaptability', 'Communication', 'Creativity', 'Critical Thinking', 'Epidemiology', 'Human Learning', 'Probability & Statistics', 'Business Analysis', 'Research and Design', 'Strategy and Operations')\n",
      " ('Computer Programming', 'Leadership and Management', 'Programming Principles', 'Entrepreneurship', 'Marketing', 'Sales', 'Strategy', 'Strategy and Operations', 'Communication', 'Emotional Intelligence')\n",
      " ('Collaboration', 'Communication', 'Leadership and Management', 'Entrepreneurship', 'Adaptability', 'Business Communication', 'Business Psychology', 'Conflict Management', 'Decision Making', 'Human Resources', 'Marketing', 'Negotiation', 'Professional Development', 'Sales', 'Leadership Development')\n",
      " ('Strategy and Operations', 'Communication', 'Decision Making', 'Emotional Intelligence', 'Entrepreneurship', 'Leadership and Management')\n",
      " ('Adaptability', 'Business Psychology', 'Communication', 'Creativity', 'Entrepreneurship', 'Research and Design')\n",
      " ('Entrepreneurship', 'Leadership and Management', 'Problem Solving', 'Research and Design', 'Human Computer Interaction', 'Design and Product', 'Communication', 'User Experience', 'Innovation', 'Strategy and Operations', 'Product Design', 'User Research', 'Business Analysis', 'Decision Making', 'Human Resources', 'Marketing', 'People Analysis', 'Sales', 'Strategy', 'Business Psychology', 'Experiment', 'General Statistics', 'Organizational Development', 'Planning', 'Probability & Statistics', 'Project Management', 'Software Engineering', 'Software Testing', 'Supply Chain and Logistics', 'Graphics Software')\n",
      " ('Computer Graphics', 'Graphic Design', 'Research and Design', 'Visual Design')\n",
      " ('Mobile Development', 'Android Development', 'Java Programming', 'Computer Programming', 'Computer Science', 'Mobile Development Tools', 'Mobile Security', 'Computer Programming Tools', 'Software Engineering', 'Software Testing', 'Algorithms', 'Application Development', 'Communication', 'Computer Networking', 'Javascript', 'Journalism', 'Network Model', 'Operating Systems', 'Programming Principles', 'Software Engineering Tools', 'Theoretical Computer Science', 'Web Development')\n",
      " ('Advertising', 'Business Analysis', 'Business Psychology', 'Calculus', 'Communication', 'Computer Graphics', 'Critical Thinking', 'Differential Equations', 'Entrepreneurship', 'Graphics Software', 'Human Learning', 'Leadership and Management', 'Marketing', 'Mathematics', 'Research and Design', 'Sales', 'Storytelling', 'Strategy', 'Strategy and Operations', 'Writing')\n",
      " ('Entrepreneurship', 'Leadership and Management', 'Marketing', 'Research and Design', 'Sales', 'Strategy', 'Strategy and Operations', 'Innovation', 'Business Psychology', 'Human Resources', 'Leadership Development', 'Organizational Development', 'Business Design', 'Business Development', 'Advertising', 'Business Analysis', 'Business Transformation', 'Communication')\n",
      " ('Computer Graphics', 'Computer Programming', 'Communication', 'Marketing', 'Mobile Development', 'Strategy and Operations')\n",
      " ('Advertising', 'Communication', 'Entrepreneurship', 'Marketing', 'Leadership and Management', 'Sales', 'Strategy and Operations', 'Strategy', 'Market Research', 'Research and Design')\n",
      " ('Communication', 'Probability & Statistics', 'Statistical Tests', 'Writing')\n",
      " ('Research and Design', 'Visual Design')\n",
      " ('Brand Management', 'Computer Graphics', 'Creativity', 'Entrepreneurship', 'Graphic Design', 'Research and Design', 'Visual Design')\n",
      " ('Communication', 'Entrepreneurship', 'Creativity', 'Leadership and Management', 'Research and Design', 'Marketing', 'Sales', 'Strategy', 'Strategy and Operations', 'Collaboration', 'Media Production', 'Brand Management', 'Decision Making', 'Entrepreneurial Finance', 'Human Computer Interaction', 'Media Strategy & Planning', 'Planning', 'Social Media', 'Storytelling', 'Supply Chain and Logistics', 'User Experience', 'Writing')\n",
      " ('Research and Design', 'Communication', 'Contract Management', 'Creativity', 'Entrepreneurship', 'Leadership and Management', 'Media Production', 'Finance', 'Human Computer Interaction', 'Human Resources', 'Payments', 'Talent Management', 'User Experience', 'Accounting', 'Brand Management', 'Business Analysis', 'Critical Thinking', 'General Accounting', 'Marketing', 'Strategy and Operations')\n",
      " ('Business Analysis', 'Business Design', 'Business Development', 'Business Transformation', 'Entrepreneurship', 'Research and Design', 'Sales', 'Innovation', 'Business Process Management', 'Business Psychology', 'Design and Product', 'Leadership and Management', 'Market Research', 'Organizational Development', 'People Development', 'Performance Management', 'Product Design', 'Strategy and Operations', 'Marketing', 'Planning', 'Problem Solving', 'Strategy')\n",
      " ('Creativity', 'Entrepreneurship', 'Research and Design', 'Computer Programming', 'Design and Product', 'Product Design', 'Programming Principles', 'Software Architecture', 'Software Engineering', 'Theoretical Computer Science')\n",
      " ('Leadership and Management', 'Entrepreneurship', 'Human Resources', 'Strategy and Operations', 'People Management', 'Business Psychology', 'Leadership Development', 'People Development', 'Talent Management', 'Business Analysis', 'Critical Thinking', 'Research and Design', 'Marketing', 'Professional Development', 'Sales', 'Strategy', 'Performance Management', 'Accounting', 'Computer Architecture', 'Computer Networking', 'Creativity', 'Human Computer Interaction', 'Network Architecture', 'Problem Solving', 'Project Management', 'User Experience', 'Influencing')\n",
      " ('Adaptability', 'Business Psychology', 'Communication', 'Entrepreneurship', 'Leadership and Management', 'Marketing', 'Negotiation', 'Sales', 'Business Communication', 'Collaboration', 'Conflict Management', 'Human Learning', 'Human Resources', 'Leadership Development', 'People Development', 'Performance Management', 'Strategy and Operations', 'Strategy')\n",
      " ('Research and Design', 'Business Analysis', 'Business Psychology', 'Creativity', 'Critical Thinking', 'Culture', 'Entrepreneurship', 'Leadership and Management', 'Strategy and Operations', 'Writing')\n",
      " ('Leadership and Management', 'Business Psychology', 'Communication', 'Culture', 'Research and Design', 'Strategy and Operations', 'Change Management', 'Collaboration', 'Creativity', 'Data Visualization', 'Entrepreneurship', 'Geovisualization', 'Visual Design')\n",
      " ('Business Analysis', 'Communication', 'Creativity', 'Entrepreneurship', 'Research and Design', 'Strategy and Operations', 'Writing')\n",
      " ('Entrepreneurship', 'Leadership and Management', 'Marketing', 'Research and Design', 'Sales', 'Business Psychology', 'Innovation', 'Strategy', 'Strategy and Operations', 'Business Development', 'Collaboration', 'Communication', 'Design and Product', 'Forecasting', 'Organizational Development', 'Performance Management', 'Probability & Statistics', 'Product Design', 'Adaptability', 'Creativity', 'Market Analysis', 'Planning', 'Problem Solving', 'Supply Chain and Logistics', 'Graphics Software', 'Project Management', 'Social Media')\n",
      " ('Operations Management', 'Strategy and Operations', 'Performance Management', 'Entrepreneurship', 'Business Process Management', 'Business Analysis', 'Business Psychology', 'Leadership and Management', 'Organizational Development', 'Business Transformation', 'Customer Analysis', 'Human Resources', 'Operations Research', 'People Analysis', 'Strategy', 'Design and Product', 'Product Lifecycle', 'Software Engineering', 'Software Engineering Tools')\n",
      " ('Business',) ('Communication', 'Creativity', 'People Management')\n",
      " ('Business Communication', 'Business Psychology', 'Entrepreneurship', 'Leadership Development', 'Marketing', 'Sales')\n",
      " ('Collaboration', 'Communication', 'Leadership and Management', 'Emotional Intelligence', 'Entrepreneurship', 'People Management', 'Strategy and Operations', 'Business Psychology', 'Conflict Management', 'Culture', 'Human Resources', 'Organizational Development', 'Problem Solving', 'Research and Design')\n",
      " ('Entrepreneurship', 'Leadership and Management', 'Marketing', 'Sales', 'Strategy', 'Strategy and Operations', 'Critical Thinking', 'Problem Solving')\n",
      " ('Entrepreneurship', 'Leadership and Management', 'Marketing', 'Sales', 'Strategy', 'Strategy and Operations', 'Supply Chain and Logistics', 'Communication', 'Planning', 'Business Psychology', 'Culture', 'Finance', 'Organizational Development', 'Performance Management', 'Risk Management')\n",
      " ('Creativity', 'Entrepreneurship', 'Research and Design', 'Innovation', 'Business Analysis', 'Business Development', 'Business Research', 'Sales')\n",
      " ('Leadership and Management', 'Entrepreneurship', 'Human Resources', 'Leadership Development', 'Business Psychology', 'Marketing', 'People Development', 'Sales', 'Strategy', 'Strategy and Operations', 'Conflict Management', 'Emotional Intelligence', 'Influencing')\n",
      " ('Design and Product', 'Leadership and Management', 'Product Lifecycle')\n",
      " ('Brand Management', 'Communication', 'Creativity', 'Entrepreneurship', 'Finance', 'Leadership and Management', 'Marketing', 'Research and Design', 'Sales', 'Social Media', 'Strategy', 'Strategy and Operations')\n",
      " ('Critical Thinking',)\n",
      " ('Communication', 'Creativity', 'Emotional Intelligence', 'Leadership Development', 'People Management')\n",
      " ('Personal Development', 'Business Psychology', 'Human Learning', 'Entrepreneurship', 'Collaboration', 'Decision Making', 'Problem Solving')\n",
      " ('Entrepreneurship', 'Research and Design', 'Creativity', 'Business Communication', 'C Programming Language Family', 'Communication', 'Computer Programming', 'Data Management', 'Databases', 'Project Management', 'SQL', 'Statistical Programming', 'Strategy and Operations')\n",
      " ('Business Analysis', 'Strategy and Operations', 'Business Transformation', 'Change Management', 'Critical Thinking', 'Leadership and Management', 'Research and Design', 'Marketing', 'Sales')\n",
      " ('Finance', 'BlockChain', 'FinTech', 'Creativity', 'Cryptography', 'Entrepreneurship', 'Research and Design', 'Security Engineering', 'Theoretical Computer Science')\n",
      " ('FinTech', 'Finance', 'BlockChain', 'Accounting', 'Creativity', 'Entrepreneurship', 'Generally Accepted Accounting Principles (GAAP)', 'Research and Design')\n",
      " ('Critical Thinking', 'Research and Design', 'Strategy and Operations', 'Creativity', 'Entrepreneurship')\n",
      " ('Adaptability', 'Business Psychology', 'Entrepreneurship', 'Human Resources', 'Leadership Development', 'Leadership and Management', 'People Development', 'Communication', 'Collaboration', 'Culture', 'Emotional Intelligence', 'Organizational Development', 'Strategy')\n",
      " ('Leadership and Management', 'Communication', 'Emotional Intelligence', 'Human Resources', 'Leadership Development')\n",
      " ('Communication', 'Leadership and Management', 'Marketing', 'Sales', 'Negotiation', 'Entrepreneurship', 'Strategy and Operations', 'Emotional Intelligence', 'Human Resources', 'Business Analysis', 'Critical Thinking', 'Research and Design', 'Strategy', 'Conflict Management', 'Computer Graphic Techniques', 'Computer Graphics', 'Data Management', 'Databases', 'Leadership Development', 'SQL', 'Statistical Programming')\n",
      " ('Human Resources', 'Leadership Development', 'Leadership and Management', 'Business Psychology', 'Entrepreneurship', 'Resilience', 'Advertising', 'Geovisualization', 'Probability & Statistics')\n",
      " ('Business Psychology', 'Change Management', 'Collaboration', 'Communication', 'Entrepreneurship', 'Finance', 'Innovation', 'Leadership and Management', 'Marketing', 'Negotiation', 'Organizational Development', 'Problem Solving', 'Project Management', 'Research and Design', 'Risk Management', 'Sales', 'Strategy', 'Strategy and Operations')\n",
      " ('Decision Making', 'Entrepreneurship', 'Leadership and Management', 'Marketing', 'Sales', 'Strategy', 'Strategy and Operations')\n",
      " ('BlockChain', 'Finance', 'Business Process Management', 'Entrepreneurship', 'Human Resources', 'Leadership and Management', 'Marketing', 'Regulations and Compliance', 'Strategy and Operations')\n",
      " ('Leadership and Management', 'Human Resources', 'Leadership Development', 'Business Psychology', 'Entrepreneurship', 'Organizational Development')\n",
      " ('Leadership and Management', 'Emotional Intelligence', 'Leadership Development', 'Business Psychology', 'Communication', 'Resilience', 'Employee Relations', 'Human Resources', 'People Development', 'People Management', 'Strategy and Operations')\n",
      " ('Business Psychology', 'Conflict Management', 'Entrepreneurship', 'Human Resources', 'Leadership and Management', 'Organizational Development', 'Problem Solving', 'Professional Development', 'Research and Design', 'Accounting', 'Adaptability', 'Advertising', 'Algorithms', 'Application Development', 'Behavioral Economics', 'Business Design', 'Communication', 'Marketing', 'Sales', 'Software Engineering', 'Strategy', 'Strategy and Operations', 'Theoretical Computer Science')\n",
      " ('Leadership and Management', 'Human Resources', 'Leadership Development', 'Strategy and Operations', 'Communication', 'Business Psychology', 'Entrepreneurship', 'Organizational Development', 'Professional Development', 'Sales')\n",
      " ('Entrepreneurship', 'Leadership and Management', 'Marketing', 'Sales', 'Strategy', 'Strategy and Operations', 'Human Resources', 'Change Management', 'Collaboration', 'Communication', 'Human Resources Operations', 'Leadership Development', 'Performance Management', 'Planning', 'Decision Making', 'Organizational Development', 'People Development', 'Problem Solving')\n",
      " ('Entrepreneurship', 'Leadership and Management', 'Marketing', 'Sales', 'Strategy', 'Strategy and Operations', 'Culture')\n",
      " ('Adaptability', 'Business Psychology', 'Leadership and Management', 'Entrepreneurship', 'Change Management', 'Collaboration', 'Communication', 'Human Resources', 'Leadership Development', 'Organizational Development', 'Strategy and Operations', 'Project Management', 'Software Engineering', 'Software Engineering Tools')\n",
      " ('Leadership and Management', 'Entrepreneurship', 'Strategy and Operations', 'Research and Design', 'People Management', 'Business Psychology', 'Communication', 'Business Analysis', 'Creativity', 'Critical Thinking', 'Human Resources', 'People Development', 'Professional Development', 'Change Management', 'Marketing', 'Project Management', 'Adaptability', 'Computer Architecture', 'Computer Graphics', 'Computer Networking', 'Decision Making', 'Graphic Design', 'Influencing', 'Innovation', 'Leadership Development', 'Network Architecture', 'Planning', 'Sales', 'Social Media', 'Strategy', 'Supply Chain and Logistics')\n",
      " ('Leadership and Management', 'Operations Research', 'Project Management', 'Research and Design', 'Strategy and Operations')\n",
      " ('Business Analysis', 'Business Intelligence', 'Data Management', 'Project Management', 'Strategy and Operations', 'Data Analysis', 'Data Model', 'Data Visualization', 'Extract', 'Transform', 'Load', 'Advertising', 'Collaboration', 'Communication', 'Entrepreneurship', 'Leadership and Management', 'Marketing', 'Plot (Graphics)', 'Research and Design', 'Tableau Software', 'Visual Design')\n",
      " ('Project Management', 'Strategy and Operations', 'Leadership and Management', 'Business Psychology', 'Change Management', 'Collaboration', 'Communication', 'Entrepreneurship', 'Organizational Development', 'Business Process Management', 'Conflict Management', 'Culture', 'Emotional Intelligence', 'Human Resources', 'Influencing', 'Leadership Development', 'Negotiation', 'Operations Management', 'People Management', 'Planning', 'Sales', 'Software Engineering', 'Software Engineering Tools', 'Supply Chain and Logistics')\n",
      " ('Leadership and Management', 'Entrepreneurship', 'Project Management', 'Strategy and Operations', 'Accounting', 'Marketing', 'Sales', 'Strategy')\n",
      " ('Human Resources', 'Leadership and Management', 'Business Psychology', 'Culture', 'Entrepreneurship', 'Leadership Development', 'Marketing', 'Sales', 'Strategy', 'Strategy and Operations', 'Communication', 'Adaptability', 'Collaboration', 'Conflict Management', 'Professional Development')\n",
      " ('Entrepreneurship', 'Market Research', 'Research and Design', 'Communication')\n",
      " ('Entrepreneurship', 'Leadership and Management', 'Strategy and Operations', 'Sales', 'Supply Chain and Logistics')\n",
      " ('Machine Learning', 'Applied Machine Learning', 'Big Data', 'Business Analysis', 'Data Analysis', 'Data Management', 'General Statistics', 'Probability & Statistics', 'Statistical Analysis', 'Strategy and Operations', 'Data Science')\n",
      " ('Leadership and Management', 'Communication', 'Human Resources', 'Leadership Development', 'Entrepreneurship', 'Innovation', 'Research and Design')\n",
      " ('Entrepreneurship', 'Leadership and Management', 'Marketing', 'Sales', 'Strategy', 'Strategy and Operations', 'Digital Marketing', 'Communication', 'Media Strategy & Planning', 'Influencing', 'Networking Hardware')\n",
      " ('Corporate Accouting', 'Marketing', 'Sales')\n",
      " ('Advertising', 'Big Data', 'Business Analysis', 'Communication', 'Data Analysis', 'Data Management', 'Digital Marketing', 'Human Resources', 'Leadership Development', 'Leadership and Management', 'Marketing', 'Statistical Analysis', 'Critical Thinking', 'Research and Design', 'Strategy and Operations')\n",
      " ('Entrepreneurship', 'Innovation', 'Leadership and Management', 'Marketing', 'Problem Solving', 'Research and Design', 'Sales', 'Strategy', 'Strategy and Operations')\n",
      " ('Collaboration', 'Communication', 'Conflict Management', 'Human Learning', 'Human Resources', 'Leadership and Management')\n",
      " ('Strategy and Operations', 'Project Management', 'Leadership and Management', 'Software Engineering', 'Scrum (Software Development)', 'Communication', 'Supply Chain and Logistics', 'Agile Software Development', 'Collaboration', 'Entrepreneurship', 'Finance', 'Planning', 'Operations Management', 'Risk Management', 'Change Management', 'Marketing', 'Negotiation', 'Sales', 'Benefits', 'Budget Management', 'Human Resources', 'Operations Research', 'Research and Design', 'Supply Chain Systems', 'Business Psychology')\n",
      " ('Business Analysis', 'Business Process Management', 'Entrepreneurship', 'Strategy and Operations', 'Process Analysis')\n",
      " ('Business Analysis', 'Business Psychology', 'Change Management', 'Entrepreneurship', 'Leadership and Management', 'Operational Analysis', 'Organizational Development', 'Strategy and Operations', 'Application Development', 'Business Transformation', 'Design and Product', 'Product Design', 'Software Engineering')\n",
      " ('Human Resources', 'Leadership Development', 'Leadership and Management', 'Cloud Engineering', 'People Management', 'Software Engineering', 'Supply Chain and Logistics')\n",
      " ('Personal Development', 'Business Psychology', 'Entrepreneurship', 'Human Resources', 'Leadership and Management', 'People Development', 'Leadership Development', 'Collaboration', 'Communication', 'Professional Development')\n",
      " ('Entrepreneurship', 'Leadership and Management', 'Strategy and Operations', 'Human Resources', 'Marketing', 'Sales', 'Strategy', 'Change Management', 'Leadership Development', 'Business Analysis', 'Critical Thinking', 'Project Management', 'Research and Design', 'Accounting', 'Audit', 'Business Process Management', 'Business Psychology', 'Computer Programming', 'Computer Programming Tools', 'FinTech', 'Finance', 'Innovation', 'Operating Systems', 'Operations Management', 'People Development', 'People Management', 'Systems Design', 'Theoretical Computer Science', 'Emotional Intelligence', 'Problem Solving', 'Resilience')\n",
      " ('Business Psychology', 'Entrepreneurship', 'Human Resources', 'Leadership Development', 'Leadership and Management', 'Organizational Development')\n",
      " ('Leadership and Management', 'Strategy and Operations', 'Decision Making', 'Entrepreneurship', 'Marketing', 'Project Management', 'Sales', 'Strategy')\n",
      " ('Leadership and Management', 'Business Psychology', 'Entrepreneurship', 'Communication', 'Strategy and Operations', 'Adaptability', 'Collaboration', 'Emotional Intelligence', 'Human Resources', 'Leadership Development', 'Resilience', 'Organizational Development', 'Change Management', 'Project Management', 'Business Communication', 'Conflict Management', 'Culture', 'Advertising', 'Agile Software Development', 'Feature Engineering', 'Machine Learning', 'Marketing', 'Scrum (Software Development)', 'Software Engineering', 'Software Engineering Tools')\n",
      " ('Strategy and Operations', 'Sales', 'Business Development', 'Data Analysis', 'Applied Machine Learning', 'Big Data', 'Data Management', 'Entrepreneurship', 'Leadership and Management', 'Machine Learning', 'Marketing', 'Strategy')\n",
      " ('Leadership and Management', 'Market Analysis', 'Marketing', 'Sales', 'Strategy', 'Strategy and Operations', 'Entrepreneurship', 'Innovation')\n",
      " ('Communication', 'Entrepreneurship', 'Finance', 'Leadership and Management', 'Marketing', 'Probability & Statistics', 'Risk Management', 'Sales', 'Statistical Tests', 'Strategy', 'Strategy and Operations')\n",
      " ('Leadership and Management', 'Human Resources', 'Strategy and Operations', 'Entrepreneurship', 'Leadership Development', 'People Management', 'Budget Management', 'Finance', 'Financial Management', 'Performance Management', 'Professional Development', 'Recruitment')\n",
      " ('Leadership and Management', 'Business Psychology', 'Entrepreneurship', 'Human Resources', 'People Development', 'Organizational Development', 'Strategy and Operations', 'Adaptability', 'Business Design', 'Leadership Development', 'Research and Design', 'Communication', 'Culture', 'Marketing', 'People Management', 'Collaboration', 'Business Process Management', 'Employee Relations', 'Strategy', 'Business Analysis', 'Conflict Management', 'Decision Making', 'Emotional Intelligence', 'Human Resources Operations', 'Operations Management', 'People Analysis', 'Problem Solving', 'Sales', 'Training', 'Brand Management')\n",
      " ('Business Communication', 'Business Development', 'Business Psychology', 'Communication', 'Culture', 'Human Resources', 'Leadership Development', 'Leadership and Management', 'Marketing', 'Public Relations', 'Sales')\n",
      " ('Entrepreneurship', 'Finance', 'Leadership and Management', 'Marketing', 'Regulations and Compliance', 'Sales', 'Security Engineering', 'Security Strategy', 'Strategy', 'Strategy and Operations')\n",
      " ('Human Resources', 'Leadership and Management', 'Change Management', 'Leadership Development', 'Organizational Development', 'Business Transformation', 'Conflict Management', 'Culture', 'Innovation', 'Planning', 'Problem Solving', 'Strategy and Operations')\n",
      " ('Communication', 'Entrepreneurship', 'Influencing', 'Marketing')\n",
      " ('Leadership and Management', 'Marketing', 'Communication', 'Strategy', 'Brand Management')\n",
      " ('Leadership and Management', 'Communication', 'Entrepreneurship', 'Human Resources', 'Leadership Development', 'Marketing', 'Problem Solving', 'Research and Design', 'Sales', 'Strategy', 'Strategy and Operations', 'Influencing')\n",
      " ('Business Psychology', 'Entrepreneurship', 'Human Learning', 'Human Resources', 'Leadership Development', 'Leadership and Management', 'People Development', 'Professional Development', 'Innovation', 'Research and Design', 'Resilience', 'Accounting', 'Audit', 'Business Process Management', 'Communication', 'Strategy and Operations')\n",
      " ('Leadership and Management', 'Leadership Development', 'Communication', 'Human Resources', 'Professional Development', 'Business Psychology', 'Emotional Intelligence', 'Entrepreneurship', 'Marketing', 'Organizational Development', 'Business Research', 'Influencing', 'Negotiation', 'Research and Design', 'Sales', 'Adaptability', 'Resilience', 'Strategy and Operations')\n",
      " ('Business Psychology', 'Entrepreneurship', 'Human Resources', 'Leadership Development', 'Leadership and Management', 'People Development', 'Conflict Management', 'Communication', 'Business Communication', 'Collaboration', 'Decision Making', 'Employee Relations', 'Finance', 'Professional Development', 'Risk Management', 'Training')\n",
      " ('Leadership and Management', 'Communication', 'Influencing', 'Marketing', 'Human Resources', 'Leadership Development', 'Negotiation', 'Sales')\n",
      " ('Software Engineering', 'DevOps', 'Agile Software Development', 'Computer Programming', 'Continuous Delivery', 'Software Engineering Tools', 'Continuous Integration', 'Scrum (Software Development)', 'Application Development', 'Design and Product', 'Front-End Web Development', 'Full-Stack Web Development', 'Leadership and Management', 'Professional Development', 'Programming Principles', 'Software Architecture', 'Software Framework', 'Theoretical Computer Science', 'Web Development', 'Web Development Tools', 'Advertising', 'Cloud Computing', 'Collaboration', 'Communication', 'Information Technology', 'Journalism', 'Marketing', 'Operating Systems', 'Product Design', 'Product Development', 'Project Management', 'Software Testing')\n",
      " ('Communication', 'Influencing', 'Marketing', 'Entrepreneurship', 'Leadership and Management', 'Adaptability', 'Business Psychology', 'Conflict Management', 'Human Resources', 'Negotiation', 'Sales', 'Social Media', 'Storytelling', 'Business Communication')\n",
      " ('Human Computer Interaction', 'User Experience', 'User Experience Design', 'Design and Product', 'Research and Design', 'Web Design', 'Web Development', 'Collaboration', 'Computer Science', 'Leadership and Management', 'Market Research', 'Software Engineering', 'Software Testing', 'User Research', 'Web Development Tools', 'Brand Management', 'Change Management', 'Communication', 'Computer Graphics', 'Computer Programming', 'Emotional Intelligence', 'Entrepreneurship', 'Interactive Design', 'Marketing', 'Marketing Design', 'Planning', 'Problem Solving', 'Product Design', 'Professional Development', 'Programming Principles', 'Social Media', 'Accounting', 'Business Analysis', 'Business Communication', 'Business Psychology', 'Data Analysis', 'Finance', 'Financial Analysis', 'Investment Management', 'Mobile Development', 'Operating Systems', 'Product Development', 'Software Architecture', 'Supply Chain and Logistics', 'Systems Design', 'Theoretical Computer Science', 'Visual Design')\n",
      " ('Leadership and Management', 'Strategy and Operations', 'Research and Design', 'Business Analysis', 'Critical Thinking', 'Communication', 'Entrepreneurship', 'Sales', 'Human Resources', 'Operating Systems', 'Security Engineering', 'Software Security', 'System Security', 'Conflict Management', 'Marketing', 'Problem Solving', 'Business Communication', 'Business Psychology', 'Culture', 'Decision Making', 'Corporate Accouting')\n",
      " ('Leadership and Management', 'Strategy and Operations', 'Project Management', 'Communication', 'Emotional Intelligence', 'Probability & Statistics', 'Scrum (Software Development)', 'Statistical Tests')\n",
      " ('Communication', 'Leadership and Management', 'Professional Development', 'Human Resources', 'Leadership Development', 'Business Communication', 'Writing', 'Research and Design', 'Visual Design', 'Business Psychology', 'Conflict Management', 'Culture', 'Data Visualization', 'Collaboration', 'Entrepreneurship', 'Human Learning', 'Marketing', 'Sales', 'Strategy', 'Strategy and Operations')\n",
      " ('Human Resources', 'Operations Management', 'Strategy and Operations', 'Business Analysis', 'Business Psychology', 'Critical Thinking', 'Culture', 'Leadership and Management', 'Research and Design')\n",
      " ('Business Communication', 'Communication', 'Collaboration', 'Leadership and Management', 'Emotional Intelligence', 'Business Psychology', 'Conflict Management', 'Entrepreneurship', 'Human Resources', 'Leadership Development', 'People Development')\n",
      " ('Leadership and Management', 'Communication', 'Entrepreneurship', 'Human Resources', 'Conflict Management', 'Problem Solving', 'Research and Design', 'Business Communication', 'Business Psychology', 'Culture', 'Decision Making')\n",
      " ('Leadership and Management', 'Communication', 'Emotional Intelligence', 'Human Resources', 'Leadership Development', 'Personal Development', 'Influencing', 'Business Psychology', 'Entrepreneurship', 'Professional Development', 'Change Management', 'Strategy and Operations', 'Collaboration', 'Marketing', 'Organizational Development', 'People Development', 'Business Research', 'Human Learning', 'Negotiation', 'Research and Design', 'Sales', 'Adaptability', 'Benefits', 'Computer Graphics', 'Culture', 'Graphics Software', 'Planning', 'Resilience', 'Strategy', 'Supply Chain and Logistics')\n",
      " ('Communication', 'Human Resources', 'Leadership Development', 'Leadership and Management', 'Business Psychology', 'Entrepreneurship', 'People Development', 'Storytelling', 'Organizational Development', 'People Management')\n",
      " ('Marketing', 'Advertising', 'Communication', 'Media Strategy & Planning', 'Business Analysis', 'Business Psychology', 'Customer Analysis', 'Marketing Psychology', 'Brand Management', 'Digital Marketing', 'Marketing Management', 'Public Relations', 'Entrepreneurship', 'Leadership and Management', 'Sales', 'Strategy', 'Strategy and Operations')\n",
      " ('Communication', 'Journalism', 'Writing')\n",
      " ('Communication', 'Leadership and Management', 'Entrepreneurship', 'Emotional Intelligence', 'Human Resources', 'Computer Graphic Techniques', 'Computer Graphics', 'Data Management', 'Databases', 'Leadership Development', 'SQL', 'Statistical Programming')\n",
      " ('Computer Networking', 'Internet Of Things', 'Software-Defined Networking', 'Algorithms', 'Computer Architecture', 'Computer Graphics', 'Data Visualization', 'General Statistics', 'Human Computer Interaction', 'Interactive Data Visualization', 'Interactive Design', 'Leadership and Management', 'Networking Hardware', 'Probability & Statistics', 'Security Engineering', 'Software Engineering', 'Theoretical Computer Science')\n",
      " ('Change Management', 'Communication', 'Entrepreneurship', 'Journalism', 'Leadership and Management', 'Marketing', 'Sales', 'Strategy', 'Strategy and Operations')\n",
      " ('Entrepreneurship', 'Research and Design', 'Algorithms', 'Computer Graphic Techniques', 'Computer Graphics', 'Creativity', 'Machine Learning', 'Probability & Statistics', 'Theoretical Computer Science', 'Bioinformatics', 'Computer Vision', 'Data Management', 'Data Visualization', 'Geometry', 'Graphic Design', 'Leadership and Management', 'Mathematics', 'Problem Solving', 'Scientific Visualization', 'Software Engineering', 'Software Testing', 'Statistical Programming')\n",
      " ('Business Psychology', 'Culture', 'Leadership and Management', 'Business Analysis', 'Critical Thinking', 'Research and Design', 'Strategy and Operations')\n",
      " ('Entrepreneurship', 'Leadership and Management', 'Sales', 'Strategy', 'Culture', 'Entrepreneurial Finance', 'Human Resources', 'Marketing', 'Strategy and Operations', 'Emotional Intelligence', 'Organizational Development')\n",
      " ('Entrepreneurship', 'Leadership and Management', 'Marketing', 'Sales', 'Strategy', 'Strategy and Operations', 'Business Development', 'Decision Making', 'Design and Product', 'Product Strategy')\n",
      " ('Leadership and Management', 'Entrepreneurship', 'Human Resources', 'Professional Development', 'Business Psychology', 'Communication', 'Emotional Intelligence', 'Leadership Development', 'People Development', 'Problem Solving', 'Research and Design', 'Resilience', 'Marketing', 'Sales', 'Strategy', 'Strategy and Operations')\n",
      " ('Leadership and Management', 'Sales', 'Strategy and Operations', 'Entrepreneurship', 'Innovation', 'Research and Design', 'Marketing', 'Strategy', 'Communication', 'Collaboration', 'Creativity', 'Business Psychology', 'Change Management', 'Human Resources', 'Organizational Development')\n",
      " ('Machine Learning', 'Applied Machine Learning', 'Computer Vision', 'Change Management', 'Data Management', 'Estimation', 'General Statistics', 'Leadership and Management', 'Machine Learning Algorithms', 'Probability & Statistics', 'Strategy and Operations')\n",
      " ('Accounting', 'Data Analysis', 'Business Analysis', 'Finance', 'Financial Accounting', 'Leadership and Management', 'Financial Analysis', 'General Accounting', 'Accounts Payable and Receivable', 'Cost Accounting', 'Budget Management', 'Entrepreneurship', 'Investment Management', 'Business Psychology', 'Management Accounting', 'Sales', 'Strategy and Operations', 'Financial Management', 'Inventory Management', 'Risk Management', 'Supply Chain and Logistics', 'Account Management', 'Experiment', 'General Statistics', 'Human Resources', 'Marketing', 'Organizational Development', 'People Development', 'Performance Management', 'Probability & Statistics', 'Strategy', 'Planning', 'Problem Solving')\n",
      " ('Finance', 'Leadership and Management', 'Payments', 'Risk Management')\n",
      " ('Entrepreneurship', 'Leadership and Management', 'Marketing', 'Sales', 'Strategy', 'Strategy and Operations', 'Business Psychology', 'Organizational Development', 'Business Process Management', 'Finance', 'Investment Management', 'Performance Management', 'Business Development', 'Change Management', 'Decision Making', 'Regulations and Compliance')\n",
      " ('Leadership and Management', 'Strategy and Operations', 'Accounting', 'Financial Accounting', 'Entrepreneurship', 'Finance', 'Business Psychology', 'Organizational Development', 'People Management', 'Business Analysis', 'Performance Management', 'Behavioral Economics', 'Change Management', 'Culture', 'Decision Making', 'Experiment', 'Human Resources', 'Innovation', 'Operational Analysis', 'Operations Management', 'Regulations and Compliance', 'Supply Chain and Logistics', 'Accounts Payable and Receivable', 'Data Analysis', 'Financial Analysis', 'Financial Management', 'Statistical Analysis', 'Marketing', 'Research and Design', 'Sales', 'Strategy')\n",
      " ('Employee Relations', 'Performance Management', 'Recruitment', 'Risk Management')\n",
      " ('Project Management', 'Strategy and Operations', 'Entrepreneurship', 'Finance', 'Leadership and Management', 'Performance Management', 'Planning', 'Probability & Statistics', 'Probability Distribution', 'Risk Management', 'Supply Chain and Logistics', 'Agile Software Development')\n",
      " ('Amazon Web Services', 'Cloud Computing', 'Data Management', 'Extract', 'Transform', 'Load', 'Cloud Infrastructure', 'Cloud Storage', 'Cloud Load Balancing', 'Cloud Management', 'Computer Architecture', 'Data Warehousing', 'Big Data', 'Cloud API', 'Cloud Applications', 'Computer Networking', 'Computer Programming', 'Data Analysis', 'Data Engineering', 'Data Visualization', 'Database Administration', 'Database Application', 'Database Design', 'Databases', 'Distributed Computing Architecture', 'Full-Stack Web Development', 'Network Architecture', 'Network Model', 'Operating Systems', 'Operations Management', 'SQL', 'Software Architecture', 'Software Engineering', 'Software Framework', 'Statistical Programming', 'Strategy and Operations', 'System Programming', 'Theoretical Computer Science', 'Web Development', 'Accounting', 'Cloud Engineering', 'Financial Analysis', 'Generally Accepted Accounting Principles (GAAP)', 'Information Technology', 'Leadership and Management', 'Machine Learning', 'Network Security', 'Sales', 'Security Engineering')\n",
      " ('Business Analysis', 'Data Analysis', 'Probability & Statistics', 'Accounting', 'General Statistics', 'Leadership and Management', 'Spreadsheet Software', 'Finance', 'Financial Accounting', 'Decision Making', 'Financial Analysis', 'Probability Distribution', 'Statistical Analysis', 'Investment Management', 'Entrepreneurship', 'Basic Descriptive Statistics', 'Data Model', 'Forecasting', 'General Accounting', 'Microsoft Excel', 'Planning', 'Statistical Tests', 'Strategy', 'Strategy and Operations', 'Business Transformation', 'Data Management', 'Estimation', 'Marketing', 'Regression', 'Sales', 'Supply Chain and Logistics', 'Taxes', 'Risk Management', 'Business Research', 'Correlation And Dependence', 'Data Visualization', 'Financial Management', 'Management Accounting', 'Research and Design', 'Statistical Visualization', 'Corporate Accouting', 'Performance Management', 'Accounts Payable and Receivable', 'Cash Management', 'Data Analysis Software', 'Design and Product', 'Market Research', 'Mathematics', 'Problem Solving', 'Product Management', 'Product Marketing')\n",
      " ('Strategy and Operations', 'Leadership and Management', 'Operations Management', 'Project Management', 'Finance', 'Accounting', 'Business Analysis', 'Data Analysis', 'Entrepreneurship', 'Financial Analysis', 'Investment Management', 'Planning', 'Supply Chain and Logistics', 'Business Research', 'Customer Relationship Management', 'Financial Management', 'Forecasting', 'Marketing', 'Probability & Statistics', 'Professional Development', 'Research and Design', 'Sales', 'Strategy')\n",
      " ('Data Engineering', 'Data Management', 'Extract', 'Transform', 'Load', 'Databases', 'Apache', 'Big Data', 'Data Analysis', 'Data Architecture', 'Data Warehousing', 'Leadership and Management', 'Network Security', 'Professional Development', 'SQL', 'Security Engineering', 'Computer Architecture', 'Computer Networking', 'Data Science', 'Database Administration', 'Distributed Computing Architecture', 'NoSQL', 'Project Management', 'Security Strategy', 'Statistical Programming', 'Strategy and Operations')\n",
      " ('Supply Chain and Logistics', 'Leadership and Management', 'Supply Chain Systems', 'Entrepreneurship', 'Planning', 'Inventory Management', 'Strategy and Operations', 'Business Analysis', 'Operations Management', 'Probability & Statistics', 'Business Intelligence', 'Data Management', 'Regression', 'Marketing', 'Sales', 'Strategy', 'Accounting', 'Cost Accounting', 'Data Analysis', 'Material Handling', 'Problem Solving', 'Research and Design', 'Statistical Analysis', 'Forecasting', 'Performance Management', 'Procurement', 'Professional Development', 'Supplier Relationship Management', 'Big Data', 'Budget Management', 'Finance', 'Financial Analysis')\n",
      " ('Accounting', 'Entrepreneurship', 'Financial Accounting', 'Leadership and Management', 'Finance', 'Strategy and Operations', 'Management Accounting', 'Decision Making', 'Business Analysis', 'Cost Accounting', 'Data Analysis', 'Financial Analysis', 'Sales', 'Account Management', 'Budget Management', 'Design and Product', 'Marketing', 'Product Management', 'Strategy', 'Audit', 'Cash Management', 'Financial Management', 'Business Psychology', 'Market Research', 'Organizational Development', 'Product Marketing', 'Research and Design', 'Accounts Payable and Receivable', 'General Accounting', 'Generally Accepted Accounting Principles (GAAP)', 'Operations Management')\n",
      " ('Probability & Statistics', 'Business Analysis', 'Data Analysis', 'General Statistics', 'Statistical Analysis', 'Probability Distribution', 'Data Visualization', 'Experiment', 'Statistical Visualization', 'Data Science', 'Entrepreneurship', 'Leadership and Management')\n",
      " ('Accounting', 'Business Analysis', 'Financial Accounting', 'Data Analysis', 'Finance', 'Probability & Statistics', 'Statistical Analysis', 'Financial Analysis', 'Entrepreneurship', 'General Statistics', 'Spreadsheet Software', 'Data Model', 'Decision Making', 'Forecasting', 'Leadership and Management', 'Microsoft Excel', 'Planning', 'Statistical Tests', 'Strategy', 'Strategy and Operations', 'Business Transformation', 'Data Management', 'Estimation', 'Marketing', 'Probability Distribution', 'Regression', 'Sales', 'Supply Chain and Logistics', 'Financial Management', 'Business Research', 'Correlation And Dependence', 'Data Visualization', 'Investment Management', 'Research and Design', 'Statistical Visualization', 'Taxes', 'Accounts Payable and Receivable', 'Performance Management', 'Data Analysis Software', 'Design and Product', 'Market Research', 'Mathematics', 'Product Management', 'Product Marketing')\n",
      " ('Entrepreneurship', 'Leadership and Management', 'Strategy and Operations', 'Business Psychology', 'Organizational Development', 'People Management', 'Change Management', 'Decision Making', 'Human Resources', 'Performance Management')\n",
      " ('Human Learning', 'Business Psychology', 'Entrepreneurship', 'Human Resources', 'Leadership and Management', 'People Development')\n",
      " ('Leadership and Management', 'Performance Management', 'Strategy and Operations', 'Accounting', 'Application Development', 'Applied Machine Learning', 'Entrepreneurship', 'FinTech', 'Finance', 'Front-End Web Development', 'Machine Learning', 'Planning', 'Reinforcement Learning', 'Software Architecture', 'Software Engineering', 'Supply Chain and Logistics', 'Theoretical Computer Science', 'Web Development', 'Advertising', 'Communication')\n",
      " ('Finance', 'Investment Management', 'Behavioral Economics', 'Business Psychology', 'Risk Management', 'Data Analysis', 'Financial Management', 'Securities Trading', 'Accounting', 'Business Analysis', 'Financial Analysis', 'Leadership and Management', 'Market Analysis', 'Marketing', 'Microsoft Excel', 'Performance Management', 'Probability & Statistics', 'Spreadsheet Software', 'Strategy and Operations')\n",
      " ('Finance', 'Investment Management', 'Risk Management', 'Financial Management', 'Regulations and Compliance', 'Securities Trading', 'Banking', 'Behavioral Economics', 'Business Psychology', 'Correlation And Dependence', 'Data Visualization', 'Financial Analysis', 'Market Analysis', 'Marketing', 'Plot (Graphics)', 'Probability & Statistics', 'Accounting', 'Business Analysis', 'Data Analysis', 'Decision Making', 'Entrepreneurship', 'Leadership and Management', 'Performance Management', 'Strategy and Operations')\n",
      " ('Business Analysis', 'Probability & Statistics', 'Entrepreneurship', 'Strategy and Operations', 'Business Process Management', 'Data Analysis', 'Operations Management', 'Basic Descriptive Statistics', 'Performance Management', 'Project Management', 'Statistical Analysis', 'Leadership and Management', 'Operational Analysis', 'Supply Chain and Logistics', 'Business Psychology', 'Organizational Development', 'Probability Distribution', 'Product Management', 'Statistical Tests', 'Exploratory Data Analysis', 'General Statistics', 'Experiment', 'Operations Research', 'Research and Design', 'Customer Analysis', 'Design and Product', 'Process Analysis', 'Supply Chain Systems', 'Correlation And Dependence', 'Customer Relationship Management', 'Data Visualization', 'Decision Making', 'Finance', 'Marketing', 'Planning', 'Plot (Graphics)', 'Regression', 'Bayesian Statistics', 'Customer Success', 'Data Analysis Software', 'Econometrics', 'Estimation', 'Human Computer Interaction', 'Sales', 'Statistical Visualization', 'Strategy', 'User Research')\n",
      " ('Machine Learning', 'Statistical Programming', 'Python Programming', 'Data Management', 'Machine Learning Algorithms', 'Apache', 'Deep Learning', 'Machine Learning Software', 'Artificial Neural Networks', 'Probability & Statistics', 'Cloud Computing', 'Statistical Machine Learning', 'Extract', 'Transform', 'Load', 'Basic Descriptive Statistics', 'General Statistics', 'IBM Cloud', 'Data Model', 'Applied Machine Learning', 'Data Analysis', 'Data Visualization', 'Dimensionality Reduction', 'SQL', 'Statistical Visualization', 'Feature Engineering', 'Linear Algebra', 'Mathematics', 'Natural Language Processing', 'Tensorflow', 'Bayesian Network', 'Cloud Platforms', 'Cloud Storage', 'Computer Vision', 'Correlation And Dependence', 'Data Structures', 'Data Warehousing', 'Database Application', 'NoSQL', 'Plot (Graphics)', 'Probability Distribution', 'R Programming', 'Regression', 'Algorithms', 'Bayesian Statistics', 'Big Data', 'Change Management', 'Computer Architecture', 'Computer Graphic Techniques', 'Computer Graphics', 'Computer Programming', 'Data Analysis Software', 'Data Mining', 'Distributed Computing Architecture', 'Estimation', 'Exploratory Data Analysis', 'Internet Of Things', 'Leadership and Management', 'Programming Principles', 'Statistical Analysis', 'Strategy and Operations', 'Theoretical Computer Science')\n",
      " ('Research and Design', 'Mathematics', 'Operations Research', 'Strategy and Operations', 'Algebra', 'Applied Mathematics', 'Business Analysis', 'Computer Architecture', 'Computer Networking', 'Computer Programming', 'Data Visualization', 'Entrepreneurship', 'Hardware Design', 'Leadership and Management', 'Linear Algebra', 'Network Model', 'Operational Analysis', 'Other Programming Languages', 'Problem Solving', 'Statistical Visualization', 'Supply Chain and Logistics', 'Advertising', 'Business Psychology', 'Human Computer Interaction', 'Human Learning', 'Marketing', 'Mathematical Theory & Analysis', 'Project Management', 'Supply Chain Systems', 'User Experience')\n",
      " ('Business Psychology', 'Entrepreneurship', 'Leadership and Management', 'Marketing', 'Organizational Development', 'Planning', 'Sales', 'Strategy', 'Strategy and Operations', 'Supply Chain and Logistics', 'Collaboration', 'Culture', 'Decision Making', 'Leadership Development', 'Problem Solving')\n",
      " ('Leadership and Management', 'Sales')\n",
      " ('Project Management', 'Strategy and Operations', 'Leadership and Management', 'Business Communication', 'Collaboration', 'Communication', 'Entrepreneurship', 'Planning', 'Supply Chain and Logistics', 'Operations Research', 'Research and Design')\n",
      " ('Human Resources', 'Leadership and Management', 'People Management', 'Compensation', 'Conflict Management', 'Decision Making', 'Human Resources Operations', 'Leadership Development', 'People Analysis', 'Performance Management', 'Recruitment', 'Strategy and Operations', 'Business Analysis', 'Employee Relations', 'Organizational Development', 'People Development')\n",
      " ('Business Psychology', 'Human Resources', 'Leadership and Management', 'Culture', 'Entrepreneurship', 'Business Analysis', 'Critical Thinking', 'Marketing', 'Organizational Development', 'Research and Design', 'Sales', 'Strategy', 'Strategy and Operations')\n",
      " ('Applied Machine Learning', 'Business Psychology', 'Deep Learning', 'Entrepreneurship', 'Leadership and Management', 'Machine Learning', 'Marketing', 'Project Management', 'Sales', 'Strategy', 'Strategy and Operations', 'Computer Vision', 'Decision Making', 'Artificial Neural Networks', 'Machine Learning Algorithms', 'Natural Language Processing')\n",
      " ('Contract Management', 'Data Management', 'Operations Management')\n",
      " ('Leadership and Management', 'Entrepreneurship', 'Strategy and Operations', 'Sales', 'Marketing', 'Strategy', 'Supply Chain and Logistics', 'Business Psychology', 'Human Resources', 'People Development', 'Brand Management', 'E-Commerce', 'Retail Sales', 'Talent Management', 'Business Analysis', 'Customer Success', 'Data Analysis', 'People Management', 'Performance Management', 'Retail Store Operations', 'Supply Chain Systems', 'Compensation', 'Corporate Accouting')\n",
      " ('Computer Graphics', 'Graphic Design', 'Artificial Neural Networks', 'Business Psychology', 'Deep Learning', 'Entrepreneurship', 'Human Resources', 'Leadership and Management', 'Machine Learning', 'People Development', 'Web Design', 'Web Development')\n",
      " ('Business Psychology', 'Entrepreneurship', 'Human Resources', 'Human Resources Operations', 'Leadership and Management', 'People Development', 'Performance Management', 'Culture', 'Strategy and Operations', 'Sales')\n",
      " ('Leadership and Management', 'Project Management', 'Strategy and Operations', 'Performance Management')\n",
      " ('Personal Development', 'Leadership and Management', 'Communication', 'Emotional Intelligence', 'Influencing', 'Human Resources', 'Business Psychology', 'Entrepreneurship', 'Leadership Development', 'Collaboration', 'People Development', 'Change Management', 'Human Learning', 'Professional Development', 'Strategy and Operations', 'Marketing', 'Sales', 'Strategy')\n",
      " ('Accounting', 'Business Analysis', 'Data Analysis', 'Finance', 'Financial Analysis', 'Investment Management', 'Financial Accounting', 'General Statistics', 'Probability & Statistics', 'Basic Descriptive Statistics', 'Data Analysis Software', 'Leadership and Management', 'Statistical Analysis')\n",
      " ('General Statistics', 'Performance Management', 'Probability & Statistics', 'Strategy and Operations')\n",
      " ('Marketing', 'Business Analysis', 'Market Analysis', 'Brand Management', 'Communication', 'Customer Analysis', 'Market Research', 'Marketing Management', 'Research and Design', 'Benefits', 'Change Management', 'Compensation', 'Conflict Management', 'Correlation And Dependence', 'Customer Relationship Management', 'Digital Marketing', 'FinTech', 'Finance', 'Financial Management', 'HR Tech', 'Human Resources Operations', 'Investment Management', 'Leadership Development', 'Marketing Design', 'Mergers & Acquisitions', 'Payments', 'Probability & Statistics', 'Professional Development', 'Recruitment', 'Regression', 'Regulations and Compliance', 'Risk Management', 'Securities Sales', 'Securities Trading', 'Statistical Analysis', 'Talent Management', 'Underwriting', 'Entrepreneurship', 'Experiment', 'General Statistics', 'Leadership and Management', 'Sales', 'Strategy', 'Strategy and Operations')\n",
      " ('Project Management', 'Strategy and Operations', 'Entrepreneurship', 'Leadership and Management', 'Marketing', 'Sales', 'Strategy')\n",
      " ('Security Engineering', 'Leadership and Management', 'Computer Networking', 'Entrepreneurship', 'Security Strategy', 'Strategy and Operations', 'Marketing', 'Network Security', 'Operating Systems', 'Sales', 'Strategy', 'System Security', 'Cyberattacks', 'Finance', 'Computer Security Incident Management', 'DevOps', 'Cloud Computing', 'Cryptography', 'Regulations and Compliance', 'Risk Management', 'Theoretical Computer Science', 'Problem Solving', 'Research and Design', 'Accounting', 'Business Psychology', 'Cloud Infrastructure', 'Network Architecture', 'Organizational Development', 'Performance Management', 'Audit', 'Planning', 'Probability & Statistics', 'Project Management', 'Statistical Tests', 'Supply Chain and Logistics')\n",
      " ('Accounting', 'Financial Accounting', 'Generally Accepted Accounting Principles (GAAP)', 'General Accounting', 'Accounts Payable and Receivable', 'Taxes', 'Inventory Management', 'Supply Chain and Logistics', 'Leadership and Management', 'Audit', 'Corporate Accouting', 'Cost Accounting', 'Finance', 'Financial Analysis', 'Investment Management', 'Business Analysis', 'Data Analysis', 'Marketing')\n",
      " ('Finance', 'Accounting', 'Data Analysis', 'Business Analysis', 'Financial Analysis', 'Strategy and Operations', 'Budget Management', 'Investment Management', 'Cost Accounting', 'Project Management', 'Leadership and Management', 'Supply Chain and Logistics', 'Generally Accepted Accounting Principles (GAAP)', 'Operations Research', 'Research and Design', 'Supply Chain Systems', 'Entrepreneurship', 'FinTech', 'Financial Management', 'Microsoft Excel', 'Banking', 'Business Process Management', 'Business Psychology', 'Financial Accounting', 'Inventory Management', 'Management Accounting', 'Organizational Development', 'Forecasting', 'Probability & Statistics')\n",
      " ('Digital Marketing', 'Marketing', 'Sales', 'Business Communication', 'Communication', 'Customer Success', 'E-Commerce', 'Leadership and Management', 'Professional Development', 'Research and Design', 'Strategy and Operations', 'Survey Creation', 'Customer Relationship Management', 'Customer Support', 'Data Analysis', 'Entrepreneurship', 'Finance', 'Financial Analysis', 'Human Resources', 'Market Analysis', 'Market Research', 'Mathematics', 'Search Engine Optimization', 'Supply Chain and Logistics')\n",
      " ('Theoretical Computer Science', 'Algorithms', 'Entrepreneurship', 'Leadership and Management', 'Problem Solving', 'Research and Design', 'Geometry', 'Mathematics', 'Computer Graphic Techniques', 'Computer Graphics', 'Applied Mathematics', 'Business Analysis', 'Critical Thinking', 'Data Visualization', 'Mathematical Theory & Analysis', 'Strategy and Operations', 'Operating Systems', 'Systems Design', 'Linear Algebra', 'Matlab')\n",
      " ('Finance', 'Mergers & Acquisitions', 'Business Analysis', 'Data Analysis', 'Financial Analysis', 'Investment Management', 'Accounting', 'Entrepreneurship', 'Leadership and Management', 'Marketing', 'Sales', 'Strategy', 'Strategy and Operations', 'Financial Accounting', 'Financial Management', 'Game Theory', 'Mathematics', 'Risk Management', 'Decision Making')\n",
      " ('Leadership and Management', 'Human Resources', 'Business Psychology', 'Culture')\n",
      " ('Entrepreneurship', 'Research and Design', 'Software Engineering', 'Business Analysis', 'Business Psychology', 'Critical Thinking', 'Human Learning', 'Human Resources', 'Leadership and Management', 'Market Research', 'People Development', 'Software Architecture', 'Software Testing', 'Strategy and Operations', 'Theoretical Computer Science')\n",
      " ('ArcGIS', 'Business Analysis', 'Critical Thinking', 'Leadership and Management', 'Professional Development', 'Research and Design', 'Statistical Programming', 'Strategy and Operations')\n",
      " ('Entrepreneurship', 'Human Learning', 'Human Resources', 'Leadership and Management', 'People Development', 'Sales')\n",
      " ('Business Psychology', 'Culture', 'Leadership and Management')\n",
      " ('Agile Software Development', 'Scrum (Software Development)', 'Software Engineering', 'Project Management', 'Strategy and Operations', 'Leadership and Management')\n",
      " ('Entrepreneurship', 'Leadership and Management', 'Planning', 'Supply Chain and Logistics', 'Business Psychology', 'Organizational Development', 'Human Resources', 'Marketing', 'Sales', 'Strategy', 'Strategy and Operations')\n",
      " ('Machine Learning', 'Algorithms', 'Deep Learning', 'Entrepreneurship', 'Epidemiology', 'Feature Engineering', 'Finance', 'Leadership and Management', 'Probability & Statistics', 'Problem Solving', 'Research and Design', 'Risk Management', 'Theoretical Computer Science', 'Sales', 'Strategy')\n",
      " ('Business Analysis', 'Critical Thinking', 'Research and Design', 'Strategy and Operations', 'Decision Making', 'Entrepreneurship', 'Leadership and Management', 'Communication')\n",
      " ('Computer Science', 'Application Development', 'Computer Programming', 'Computer Programming Tools', 'Continuous Delivery', 'Continuous Integration', 'Design and Product', 'Devops Tools', 'Human Computer Interaction', 'Linux', 'Software Engineering', 'Software Testing', 'Technical Product Management', 'User Experience', 'DevOps', 'Leadership and Management', 'Operating Systems', 'Software Engineering Tools')\n",
      " ('Entrepreneurship', 'Leadership and Management', 'Marketing', 'Sales', 'Strategy', 'Strategy and Operations')\n",
      " ('Advertising', 'Business Psychology', 'Communication', 'Computer Graphic Techniques', 'Computer Graphics', 'Data Visualization', 'Entrepreneurship', 'Human Learning', 'Human Resources', 'Leadership and Management', 'Marketing', 'People Development')\n",
      " ('Entrepreneurship', 'Adaptability', 'Business Psychology', 'Leadership and Management', 'Planning', 'Supply Chain and Logistics')\n",
      " ('Entrepreneurship', 'Leadership and Management', 'Marketing', 'Sales', 'Strategy', 'Strategy and Operations', 'Design and Product', 'Market Research', 'Product Management', 'Product Marketing', 'Research and Design', 'Econometrics', 'Probability & Statistics', 'Behavioral Economics', 'Business Psychology', 'Human Resources', 'Leadership Development', 'Market Analysis', 'Merchandising')\n",
      " ('Security Engineering', 'Cyberattacks', 'Account Management', 'Computer Security Incident Management', 'Finance', 'Leadership and Management', 'Operating Systems', 'Sales', 'Security Strategy', 'Strategy and Operations', 'System Security', 'Accounting', 'Data Management')\n",
      " ('Entrepreneurship', 'Human Learning', 'Leadership and Management', 'Marketing', 'Planning', 'Strategy', 'Strategy and Operations', 'Supply Chain and Logistics')\n",
      " ('Entrepreneurship', 'Leadership and Management', 'Business Process Management', 'Decision Making', 'Strategy and Operations')\n",
      " ('Leadership and Management', 'Project Management', 'Strategy and Operations', 'Entrepreneurship', 'Planning', 'Supply Chain and Logistics', 'Budget Management', 'Estimation', 'Finance', 'Probability & Statistics', 'Accounting', 'Marketing', 'Sales')\n",
      " ('Leadership and Management', 'Business Psychology', 'Entrepreneurship', 'Human Learning', 'Human Resources', 'People Development', 'Strategy and Operations', 'Applied Machine Learning', 'Change Management', 'Machine Learning')\n",
      " ('Entrepreneurship', 'Accounting', 'Business Psychology', 'Leadership and Management', 'Management Accounting', 'Organizational Development', 'Strategy and Operations', 'Applied Machine Learning', 'Data Management', 'Data Structures', 'Design and Product', 'Machine Learning', 'Problem Solving', 'Product Lifecycle', 'Product Management', 'Project Management', 'Research and Design', 'Theoretical Computer Science')\n",
      " ('Marketing', 'Leadership and Management', 'Machine Learning', 'Algorithms', 'Entrepreneurship', 'Sales', 'Strategy', 'Strategy and Operations', 'Theoretical Computer Science', 'Big Data', 'Business Analysis', 'Customer Relationship Management', 'Data Management', 'Deep Learning', 'Design and Product', 'Finance', 'Human Computer Interaction', 'Machine Learning Algorithms', 'Market Research', 'Mathematics', 'Network Analysis', 'Research and Design', 'User Research', 'Accounting', 'Digital Marketing', 'Financial Analysis')\n",
      " ('Entrepreneurship', 'Leadership and Management', 'Marketing', 'Sales', 'Strategy', 'Strategy and Operations', 'Business Analysis', 'Business Process Management', 'Innovation', 'Research and Design')\n",
      " ('Entrepreneurship', 'Leadership and Management', 'Planning', 'Supply Chain and Logistics', 'Big Data', 'Data Management')\n",
      " ('Business Psychology', 'Change Management', 'Entrepreneurship', 'Human Learning', 'Human Resources', 'Leadership and Management', 'People Development', 'Strategy and Operations')\n",
      " ('Leadership and Management', 'Business Psychology', 'Entrepreneurship', 'Human Learning', 'Human Resources', 'Professional Development', 'People Development', 'Accounting', 'Deep Learning', 'Leadership Development')\n",
      " ('Entrepreneurship', 'Leadership and Management', 'Problem Solving', 'Research and Design', 'Social Media')\n",
      " ('Entrepreneurship', 'Marketing', 'Leadership and Management', 'Research and Design')\n",
      " ('Computer Programming', 'Python Programming', 'Statistical Programming', 'Software Engineering', 'Web Development', 'Theoretical Computer Science', 'Programming Principles', 'Back-End Web Development', 'Computer Programming Tools', 'Databases', 'Django (Web Framework)', 'Software Engineering Tools', 'SQL', 'Data Management', 'HTML and CSS', 'Algorithms', 'Data Structures', 'Research and Design', 'Software Architecture', 'Software Testing', 'Big Data', 'Calculus', 'Entrepreneurship', 'Leadership and Management', 'Market Research', 'Mathematics', 'Operations Research', 'Problem Solving', 'Strategy and Operations', 'Database Design', 'React (web framework)', 'Account Management', 'Accounting', 'Accounting Software', 'Algebra', 'Application Development', 'Cloud Applications', 'Cloud Computing', 'Cloud Storage', 'Communication', 'Computational Thinking', 'Computer Networking', 'Computer Science', 'Database Administration', 'Front-End Web Development', 'Full-Stack Web Development', 'Javascript', 'Linux', 'Network Model', 'Planning', 'Security Engineering', 'Supply Chain and Logistics', 'System Security', 'Web Design', 'Web Development Tools')\n",
      " ('Databases', 'Entrepreneurship', 'Leadership and Management', 'Marketing', 'Research and Design', 'Sales', 'Strategy', 'Strategy and Operations')\n",
      " ('Business Psychology', 'Leadership and Management', 'Culture', 'Decision Making', 'Entrepreneurship')\n",
      " ('Human Resources', 'Behavioral Economics', 'Business Analysis', 'Business Psychology', 'Communication', 'Critical Thinking', 'Culture', 'Leadership and Management', 'Marketing', 'Research and Design', 'Social Media', 'Strategy and Operations')\n",
      " ('Entrepreneurship', 'Leadership and Management', 'Marketing', 'Finance', 'Sales', 'Strategy', 'Strategy and Operations')\n",
      " ('Marketing', 'Brand Management', 'Entrepreneurship', 'Leadership and Management', 'Sales', 'Strategy', 'Strategy and Operations', 'Computer Graphics', 'Human Computer Interaction', 'Interactive Design')\n",
      " ('Entrepreneurship',)\n",
      " ('Business Psychology', 'Entrepreneurship', 'Human Learning', 'Human Resources', 'Leadership and Management', 'People Development', 'Business Analysis', 'Critical Thinking', 'Professional Development', 'Research and Design', 'Strategy and Operations')\n",
      " ('Leadership and Management', 'Professional Development', 'FinTech', 'Finance')\n",
      " ('Human Resources', 'Business Psychology', 'Entrepreneurship', 'Human Learning', 'Computer Programming', 'Human Resources Operations', 'Leadership and Management', 'Programming Principles', 'Recruitment', 'Marketing')\n",
      " ('Leadership and Management', 'Business Psychology', 'Entrepreneurship', 'Human Learning', 'Human Resources', 'People Development', 'Professional Development')\n",
      " ('Decision Making', 'Entrepreneurship', 'Leadership and Management', 'Business Psychology', 'Organizational Development', 'Business Analysis', 'Critical Thinking', 'Research and Design', 'Strategy and Operations')\n",
      " ('Communication', 'Marketing')\n",
      " ('Business Analysis', 'Data Analysis', 'Communication', 'Big Data', 'Business Communication', 'Cloud Computing', 'Collaboration', 'Conflict Management', 'Critical Thinking', 'Customer Analysis', 'Data Management', 'Leadership and Management', 'Small Data', 'Spreadsheet Software', 'Budget Management', 'Data Mining', 'Decision Making', 'Entrepreneurship', 'Finance', 'Problem Solving', 'Project Management')\n",
      " ('Leadership and Management', 'Communication', 'Project Management', 'Strategy and Operations', 'Business Communication', 'Collaboration', 'Influencing', 'Risk Management', 'Storytelling', 'Writing')\n",
      " ('Entrepreneurship', 'Leadership and Management', 'Communication', 'Problem Solving', 'Research and Design', 'Strategy and Operations', 'Decision Making', 'Business Analysis', 'Critical Thinking', 'Marketing', 'Professional Development', 'Sales', 'Business Communication', 'Collaboration', 'Conflict Management', 'Human Resources', 'People Management', 'Strategy', 'Advertising', 'Computer Graphics', 'Graphics Software', 'Influencing', 'Planning', 'Project Management', 'Supply Chain and Logistics')\n",
      " ('Sales', 'Communication', 'Entrepreneurship', 'Emotional Intelligence', 'Leadership and Management', 'Business Development', 'Computer Architecture', 'Computer Networking', 'Market Research', 'Network Architecture', 'Planning', 'Research and Design', 'Supply Chain and Logistics', 'Business Communication', 'Collaboration', 'Prospecting and Qualification', 'Account Management', 'Business Analysis', 'Business Intelligence', 'Cloud Computing', 'Customer Analysis', 'Customer Relationship Management', 'Customer Success', 'Data Management', 'Inside Sales', 'Marketing', 'Negotiation', 'Outside Sales', 'Professional Development', 'Sales Systems', 'Salesforce', 'Social Media', 'Software As A Service', 'Solution Sales Engineering', 'Strategy')\n",
      " ('Software Engineering', 'Software Engineering Tools', 'Agile Software Development', 'Computer Programming', 'Application Development', 'Design and Product', 'Front-End Web Development', 'Full-Stack Web Development', 'Leadership and Management', 'Professional Development', 'Software Architecture', 'Software Framework', 'Theoretical Computer Science', 'Web Development', 'Web Development Tools', 'Advertising', 'Communication', 'Journalism', 'Marketing')\n",
      " ('Collaboration', 'Communication', 'Entrepreneurship', 'Leadership and Management', 'Problem Solving', 'Research and Design', 'Conflict Management', 'Critical Thinking', 'Supply Chain and Logistics')\n",
      " ('Leadership and Management', 'Business Psychology', 'Culture')\n",
      " ('Accounting', 'Entrepreneurship', 'General Accounting', 'Leadership and Management', 'Marketing', 'Sales', 'Strategy', 'Strategy and Operations')\n",
      " ('Entrepreneurship', 'Leadership and Management', 'Marketing', 'Sales', 'Strategy', 'Strategy and Operations', 'Product Design')\n",
      " ('Communication', 'Probability & Statistics', 'Computer Programming', 'Conflict Management', 'Entrepreneurship', 'General Statistics', 'Human Resources', 'Journalism', 'Leadership and Management', 'Market Research', 'Other Programming Languages', 'Research and Design')\n",
      " ('Collaboration', 'Communication', 'Design and Product', 'Leadership and Management', 'Marketing', 'Product Design', 'Project Management', 'Strategy and Operations', 'Human Resources', 'Strategy')\n",
      " ('Leadership and Management', 'Strategy and Operations', 'Entrepreneurship', 'Finance', 'Risk Management', 'Sales')\n",
      " ('Computer Programming', 'Entrepreneurship', 'Leadership and Management', 'Other Programming Languages', 'Problem Solving', 'Research and Design', 'Business Process Management')\n",
      " ('Leadership and Management', 'Strategy and Operations')\n",
      " ('Communication', 'Leadership Development', 'Recruitment')\n",
      " ('Business Psychology', 'Entrepreneurship', 'Human Resources', 'Leadership Development', 'Leadership and Management', 'People Development', 'People Management', 'Professional Development', 'Strategy and Operations')\n",
      " ('Leadership and Management', 'Operations Management', 'Project Management', 'Strategy and Operations', 'Supply Chain Systems', 'Supply Chain and Logistics', 'Business Process Management')\n",
      " ('Human Resources', 'Leadership and Management', 'Leadership Development', 'Business Psychology', 'Collaboration', 'Communication', 'People Management', 'Strategy and Operations', 'Business Communication', 'Conflict Management', 'Culture', 'Emotional Intelligence', 'Employee Relations', 'Entrepreneurship', 'Organizational Development', 'People Development')\n",
      " ('Leadership and Management', 'Business Psychology', 'Human Resources', 'People Development', 'People Management', 'Culture', 'Employee Relations', 'Strategy and Operations', 'Collaboration', 'Communication', 'Conflict Management', 'Decision Making', 'Human Resources Operations', 'Organizational Development', 'Leadership Development')\n",
      " ('Communication', 'Leadership and Management', 'Business Psychology', 'Culture')\n",
      " ('Business Psychology', 'Change Management', 'Entrepreneurship', 'Human Learning', 'Human Resources', 'Leadership and Management', 'People Development', 'Strategy and Operations', 'Supply Chain and Logistics')\n",
      " ('Collaboration', 'Communication', 'Emotional Intelligence', 'Entrepreneurship', 'Leadership and Management', 'People Management', 'Professional Development', 'Strategy and Operations', 'Business Psychology', 'Conflict Management', 'Culture', 'Human Resources', 'Training', 'Performance Management', 'Sales')\n",
      " ('Leadership and Management', 'Entrepreneurship', 'Planning', 'Supply Chain and Logistics')\n",
      " ('BlockChain', 'Finance', 'Algorithms', 'Computational Logic', 'Computer Architecture', 'Cryptography', 'Data Management', 'Data Structures', 'Decision Making', 'Entrepreneurship', 'FinTech', 'Hardware Design', 'Leadership and Management', 'Mathematical Theory & Analysis', 'Mathematics', 'Security Engineering', 'Theoretical Computer Science')\n",
      " ('Accounting', 'Change Management', 'Entrepreneurship', 'Experiment', 'General Statistics', 'Leadership and Management', 'Market Analysis', 'Marketing', 'Probability & Statistics', 'Sales', 'Strategy', 'Strategy and Operations')\n",
      " ('Change Management', 'Leadership and Management', 'Strategy and Operations', 'Business Analysis', 'Business Transformation', 'Entrepreneurship', 'Innovation', 'Research and Design', 'Digital Marketing', 'Marketing', 'Professional Development', 'Applied Machine Learning', 'Artificial Neural Networks', 'Big Data', 'BlockChain', 'Data Management', 'FinTech', 'Finance', 'Internet Of Things', 'Machine Learning', 'Computer Architecture', 'Computer Graphics', 'Computer Networking', 'Computer Vision', 'Human Computer Interaction', 'Interactive Design', 'Network Architecture', 'Sales', 'Software Engineering', 'Strategy', 'User Experience', 'Virtual Reality')\n",
      " ('Data Management', 'Leadership and Management', 'Database Administration', 'Databases', 'Data Architecture', 'Extract', 'Transform', 'Load', 'Change Management', 'Continuous Delivery', 'Data Analysis', 'DevOps', 'Entrepreneurship', 'Human Resources', 'Leadership Development', 'Marketing', 'Sales', 'Security Engineering', 'Software Security', 'Strategy', 'Strategy and Operations')\n",
      " ('Leadership and Management', 'Accounting', 'Business Psychology', 'Change Management', 'Entrepreneurship', 'Management Accounting', 'Organizational Development', 'Strategy and Operations')\n",
      " ('Business Analysis', 'Business Transformation', 'Entrepreneurship', 'Leadership and Management', 'Marketing', 'Sales', 'Strategy', 'Strategy and Operations', 'Business Design', 'Internet Of Things', 'Market Analysis', 'Research and Design', 'Big Data', 'BlockChain', 'Cloud Computing', 'Computer Architecture', 'Computer Graphics', 'Computer Networking', 'Data Management', 'Finance', 'Human Computer Interaction', 'Innovation', 'Interactive Design', 'Network Architecture', 'Software Engineering')\n",
      " ('Cyberattacks', 'Information Technology', 'Security Engineering', 'Cryptography', 'Finance', 'Leadership and Management', 'Risk Management')\n",
      " ('Machine Learning', 'Entrepreneurship', 'Leadership and Management', 'Finance', 'Marketing', 'Regulations and Compliance', 'Sales', 'Strategy', 'Strategy and Operations', 'Theoretical Computer Science', 'Accounting', 'Algorithms', 'Applied Machine Learning', 'Audit', 'Business Analysis', 'Business Transformation', 'Clinical Data Management', 'Computational Thinking', 'Computer Programming', 'Data Analysis', 'Data Management', 'Database Administration', 'Databases', 'Decision Making', 'Innovation', 'Machine Learning Algorithms', 'Operating Systems', 'Research and Design', 'Security Engineering', 'Software Security', 'System Security', 'Tensorflow')\n",
      " ('Computer Networking', 'Computer Security Incident Management', 'Computer Security Models', 'Cyberattacks', 'Information Technology', 'Network Model', 'Entrepreneurship', 'Leadership and Management', 'Marketing', 'Sales', 'Security Engineering', 'Strategy', 'Strategy and Operations')\n",
      " ('Accounting', 'Account Management', 'Sales', 'Accounting Software', 'Leadership and Management', 'Management Accounting', 'Data Analysis')\n",
      " ('Brand Management', 'Marketing', 'Strategy and Operations', 'Operations Research', 'Research and Design', 'Supply Chain Systems', 'Supply Chain and Logistics', 'Deep Learning', 'Entrepreneurship', 'Finance', 'Financial Management', 'Leadership and Management', 'Machine Learning', 'Sales', 'Strategy')\n",
      " ('Security Engineering', 'Computer Networking', 'Cyberattacks', 'Network Security', 'Operating Systems', 'System Security', 'Strategy and Operations', 'Entrepreneurship', 'Leadership and Management', 'Marketing', 'Sales', 'Security Strategy', 'Software Security', 'Strategy', 'Cloud Computing', 'Cloud Infrastructure', 'Computer Architecture', 'Network Architecture', 'Software As A Service')\n",
      " ('Research and Design', 'Entrepreneurship', 'Business Analysis', 'Customer Analysis', 'Market Research', 'Business Design', 'Business Psychology', 'Culture', 'Leadership and Management', 'Marketing', 'Business Transformation', 'Human Learning', 'Market Analysis', 'Brand Management', 'Digital Marketing', 'Customer Relationship Management', 'Finance', 'Human Computer Interaction', 'Organizational Development', 'Sales', 'Strategy', 'Strategy and Operations', 'User Experience')\n",
      " ('Security Engineering', 'Computer Networking', 'Network Security', 'Strategy and Operations', 'Cloud Computing', 'Operating Systems', 'System Security', 'Computer Architecture', 'Network Architecture', 'Cloud Infrastructure', 'Network Model', 'Cyberattacks', 'Security Strategy', 'Cloud Platforms', 'Computer Security Incident Management', 'Entrepreneurship', 'Leadership and Management', 'Marketing', 'Probability & Statistics', 'Sales', 'Software Security', 'Strategy', 'Epidemiology', 'Finance', 'General Statistics', 'Internet Of Things', 'Risk Management', 'Security Software', 'Software As A Service', 'Software Engineering')\n",
      " ('Entrepreneurship', 'Leadership and Management', 'Research and Design', 'Estimation', 'Probability & Statistics', 'Sales')\n",
      " ('Leadership and Management', 'Security Engineering', 'Security Strategy', 'Entrepreneurship', 'Finance', 'Marketing', 'Regulations and Compliance', 'Risk Management', 'Sales', 'Strategy', 'Strategy and Operations')\n",
      " ('Marketing', 'Strategy', 'Entrepreneurship', 'Leadership and Management', 'Strategy and Operations', 'B2B Sales', 'Business Development', 'E-Commerce', 'Prospecting and Qualification')\n",
      " ('Data Analysis', 'Machine Learning', 'Entrepreneurship', 'Machine Learning Algorithms', 'Algorithms', 'Big Data', 'Business Analysis', 'Data Management', 'Decision Making', 'Deep Learning', 'General Statistics', 'Leadership and Management', 'Market Research', 'Probability & Statistics', 'Research and Design', 'Statistical Analysis', 'Theoretical Computer Science', 'Accounting', 'Data Science')\n",
      " ('BlockChain', 'Finance', 'Supply Chain Systems', 'Supply Chain and Logistics', 'Computer Architecture', 'Computer Networking', 'Internet Of Things', 'Leadership and Management', 'Software Engineering', 'Entrepreneurship', 'Marketing', 'Strategy')\n",
      " ('BlockChain', 'FinTech', 'Finance', 'Strategy and Operations', 'Entrepreneurship', 'Contract Management', 'Human Resources', 'Leadership and Management', 'Research and Design', 'Innovation', 'Marketing', 'Recruitment', 'Accounting', 'Audit', 'Brand Management', 'Business Design', 'Business Psychology', 'Conflict Management', 'Decision Making', 'Digital Marketing', 'Financial Accounting', 'Financial Management', 'Human Resources Operations', 'Leadership Development', 'Operations Management', 'Organizational Development', 'Regulations and Compliance', 'Sales', 'Security Strategy', 'Software Engineering', 'Strategy', 'Supply Chain Systems', 'Supply Chain and Logistics', 'Business Process Management', 'Payments')\n",
      " ('Mathematics', 'Game Theory', 'Human Resources', 'Leadership Development', 'Leadership and Management', 'Machine Learning', 'Sales')\n",
      " ('Strategy', 'Design and Product', 'Entrepreneurship', 'Game Theory', 'Leadership and Management', 'Marketing', 'Mathematics', 'Sales', 'Strategy and Operations', 'B2B Sales', 'Market Analysis', 'Market Research', 'Product Lifecycle', 'Product Management', 'Product Marketing', 'Regulations and Compliance', 'Research and Design')\n",
      " ('Critical Thinking', 'Business Analysis', 'Entrepreneurship', 'General Statistics', 'Leadership and Management', 'Probability & Statistics', 'Strategy and Operations')\n",
      " ('Business Analysis', 'Business Transformation', 'Entrepreneurship', 'Leadership and Management', 'Business Psychology', 'Human Resources', 'Strategy and Operations', 'People Development', 'People Management', 'Adaptability', 'Business Development', 'Leadership Development', 'Marketing', 'Performance Management', 'Sales', 'Strategy', 'Recruitment', 'Culture', 'Finance')\n",
      " ('Computer Networking', 'Computer Security Incident Management', 'Finance', 'Leadership and Management', 'Network Security', 'Operating Systems', 'Risk Management', 'Security Engineering', 'Software Security', 'System Security', 'Advertising', 'Communication', 'Marketing', 'Probability & Statistics', 'Statistical Tests')\n",
      " ('Communication', 'Entrepreneurship', 'Leadership and Management', 'Marketing', 'Problem Solving', 'Research and Design', 'Sales', 'Strategy', 'Strategy and Operations')\n",
      " ('Communication', 'Entrepreneurship', 'Leadership and Management', 'Marketing', 'Sales', 'Storytelling', 'Strategy', 'Strategy and Operations', 'Writing')\n",
      " ('Entrepreneurship', 'Leadership and Management', 'Data Analysis', 'Probability & Statistics', 'Research and Design', 'Applied Machine Learning', 'ArcGIS', 'Biostatistics', 'Business Analysis', 'Business Psychology', 'Critical Thinking', 'General Statistics', 'Machine Learning', 'Market Research', 'Organizational Development', 'Planning', 'Problem Solving', 'Statistical Machine Learning', 'Statistical Programming', 'Strategy and Operations')\n",
      " ('Entrepreneurship', 'Finance', 'Market Research', 'Regulations and Compliance', 'Research and Design', 'Risk Management', 'Investment Management', 'Securities Sales', 'Securities Trading', 'Accounting', 'Audit', 'Corporate Accouting', 'Entrepreneurial Finance', 'Financial Accounting', 'Financial Management', 'Leadership and Management', 'Market Analysis', 'Marketing')\n",
      " ('Business Development', 'Business Transformation', 'Collaboration', 'Entrepreneurship', 'Leadership and Management')\n",
      " ('Employee Relations', 'Human Resources', 'Research and Design', 'Survey Creation', 'Business Communication', 'Communication', 'Entrepreneurship', 'Leadership Development', 'Leadership and Management', 'Sales')\n",
      " ('Entrepreneurship', 'Research and Design', 'Leadership and Management', 'Marketing', 'Strategy and Operations', 'Sales', 'Market Research', 'Strategy', 'Innovation', 'Design and Product', 'Supply Chain and Logistics', 'Data Analysis', 'Probability & Statistics', 'Contract Management', 'Product Management', 'Product Marketing', 'Retail Store Operations', 'Business Analysis', 'Business Psychology', 'General Statistics', 'Market Analysis', 'Mathematics', 'Accounting', 'Audit', 'B2B Sales', 'Business Development', 'Communication', 'Finance', 'Human Resources', 'Linear Algebra', 'Organizational Development', 'Product Strategy', 'Advertising', 'Basic Descriptive Statistics', 'Behavioral Economics', 'Budget Management', 'Calculus', 'Collaboration', 'Compensation', 'Computer Programming', 'Econometrics', 'General Accounting', 'Leadership Development', 'Planning', 'Problem Solving', 'Programming Principles', 'Retail Sales', 'Software Architecture', 'Software Engineering', 'Statistical Analysis', 'Supply Chain Systems', 'Theoretical Computer Science')\n",
      " ('Business Analysis', 'Critical Thinking', 'Research and Design', 'Strategy and Operations', 'Entrepreneurship', 'Leadership and Management', 'Problem Solving', 'Business Psychology', 'Culture')\n",
      " ('Human Resources', 'Leadership and Management', 'Leadership Development')\n",
      " ('Finance', 'Leadership and Management', 'Risk Management', 'Entrepreneurship', 'Planning', 'Project Management', 'Strategy and Operations', 'Supply Chain and Logistics', 'Marketing', 'Statistical Tests')\n",
      " ('Entrepreneurship', 'Leadership and Management', 'Marketing', 'Sales', 'Business Psychology', 'Organizational Development', 'Human Resources', 'Recruitment', 'Salesforce')\n",
      " ('Business Psychology', 'Entrepreneurship', 'Human Learning', 'Human Resources', 'Leadership and Management', 'People Development', 'Planning', 'Supply Chain and Logistics')\n",
      " ('Epidemiology', 'Probability & Statistics', 'Business Psychology', 'Culture', 'Leadership and Management')\n",
      " ('Marketing', 'Operating Systems', 'Security Engineering', 'Leadership and Management', 'System Security', 'Computer Networking', 'Computer Programming', 'Cyberattacks', 'Mobile Development', 'Software Security', 'Cloud Computing', 'Data Management', 'Mobile Security', 'Network Security', 'Finance')\n",
      " ('Leadership and Management', 'Strategy and Operations', 'Business Analysis', 'Sales')\n",
      " ('Cloud Computing', 'Cloud Infrastructure', 'Databases', 'Leadership and Management', 'Security Engineering')\n",
      " ('Cloud Computing', 'Microsoft Azure', 'Leadership and Management', 'Business Psychology', 'Entrepreneurship', 'Finance', 'Operating Systems', 'Organizational Development', 'Project Management', 'Regulations and Compliance', 'Security Engineering', 'Software Security', 'Strategy and Operations', 'System Security')\n",
      " ('Business Analysis', 'Business Psychology', 'Communication', 'Computer Graphics', 'Critical Thinking', 'Entrepreneurship', 'Graphics Software', 'Human Learning', 'Leadership and Management', 'Marketing', 'Research and Design', 'Sales', 'Storytelling', 'Strategy', 'Strategy and Operations', 'Writing')\n",
      " ('Business Psychology', 'Entrepreneurship', 'General Statistics', 'Leadership and Management', 'Probability & Statistics', 'Behavioral Economics', 'Big Data', 'Data Management', 'Data Visualization', 'Finance', 'Interactive Data Visualization', 'Marketing', 'Organizational Development', 'Sales', 'Strategy', 'Strategy and Operations')\n",
      " ('Finance', 'Investment Management', 'Risk Management', 'Behavioral Economics', 'Business Psychology', 'Decision Making', 'Entrepreneurship', 'Leadership and Management')\n",
      " ('Communication', 'Marketing', 'Social Media', 'Business Analysis', 'Business Psychology', 'Critical Thinking', 'Culture', 'Leadership and Management', 'Research and Design', 'Strategy and Operations', 'Writing')\n",
      " ('Accounting', 'Entrepreneurship', 'Leadership and Management', 'Taxes', 'Planning', 'Professional Development', 'Supply Chain and Logistics')\n",
      " ('Cloud Computing', 'Cloud Applications', 'Cloud Standards', 'Entrepreneurship', 'Leadership and Management', 'Marketing', 'Sales', 'Strategy', 'Strategy and Operations', 'Accounting', 'Taxes')\n",
      " ('Computer Programming', 'Leadership and Management', 'Computer Programming Tools', 'Accounting', 'Mobile Development', 'Mobile Security', 'Programming Principles', 'Security Engineering')\n",
      " ('Computer Graphics', 'Product Design')\n",
      " ('Data Management', 'Database Administration', 'Databases', 'Mathematics', 'PostgreSQL', 'SQL', 'Statistical Programming')\n",
      " ('Business Psychology', 'Collaboration', 'Communication', 'Entrepreneurship', 'Human Resources', 'Leadership Development', 'Leadership and Management', 'Organizational Development', 'Strategy', 'Business Communication', 'People Management', 'Strategy and Operations', 'Change Management', 'Decision Making', 'Business Process Management', 'Conflict Management', 'Emotional Intelligence', 'Influencing', 'Performance Management')\n",
      " ('Business Analysis', 'Data Analysis', 'Probability & Statistics', 'Basic Descriptive Statistics', 'Statistical Analysis', 'Exploratory Data Analysis', 'Probability Distribution', 'Statistical Tests', 'Business Process Management', 'Entrepreneurship', 'Operations Management', 'Operations Research', 'Product Management', 'Project Management', 'Research and Design', 'Strategy and Operations', 'Performance Management', 'Correlation And Dependence', 'Data Visualization', 'Decision Making', 'Leadership and Management', 'Plot (Graphics)', 'Process Analysis', 'Regression', 'Bayesian Statistics', 'General Statistics', 'Organizational Development', 'Statistical Visualization')\n",
      " ('Forecasting', 'Probability & Statistics', 'Supply Chain and Logistics', 'Budget Management', 'Entrepreneurship', 'Finance', 'Inventory Management', 'Leadership and Management', 'Planning', 'Strategy and Operations', 'Supply Chain Systems', 'Correlation And Dependence', 'Data Analysis', 'Performance Management', 'Mathematics')\n",
      " ('Business Psychology', 'Entrepreneurship', 'Human Resources', 'Leadership and Management', 'People Development', 'Strategy and Operations', 'Talent Management', 'People Management', 'Performance Management', 'Compensation', 'Corporate Accouting')\n",
      " ('Compensation', 'Human Resources', 'Human Resources Operations', 'Employee Relations', 'Benefits', 'Business Analysis', 'People Analysis', 'Performance Management', 'Strategy and Operations')\n",
      " ('Probability & Statistics', 'Strategy and Operations', 'Basic Descriptive Statistics', 'Business Analysis', 'Business Process Management', 'Data Analysis', 'Entrepreneurship', 'Operations Management', 'Performance Management', 'Statistical Analysis', 'Business Psychology', 'Correlation And Dependence', 'Data Visualization', 'Distributed Computing Architecture', 'Exploratory Data Analysis', 'Plot (Graphics)', 'Probability Distribution', 'Regression', 'Statistical Tests', 'Supply Chain and Logistics', 'Leadership and Management', 'Mathematics', 'Organizational Development')\n",
      " ('Human Resources', 'Talent Management', 'Business Psychology', 'Leadership and Management', 'People Development', 'Strategy and Operations', 'Human Resources Operations', 'People Management', 'Business Analysis', 'Leadership Development', 'People Analysis', 'Performance Management', 'Recruitment')\n",
      " ('Cloud Computing', 'Computational Thinking', 'Computer Programming', 'Continuous Delivery', 'Continuous Integration', 'DevOps', 'Google Cloud Platform', 'Kubernetes', 'Performance Management', 'Strategy and Operations', 'Theoretical Computer Science', 'Cloud Applications', 'Cloud Management', 'Cloud Storage', 'Google App Engine')\n",
      " ('Entrepreneurship', 'Leadership and Management', 'Operations Management', 'Operations Research', 'Problem Solving', 'Project Management', 'Research and Design', 'Strategy and Operations', 'Customer Relationship Management', 'Finance', 'Marketing', 'Performance Management', 'Business Analysis', 'Critical Thinking', 'Planning', 'Supply Chain and Logistics', 'Transportation Operations Management')\n",
      " ('Finance', 'Investment Management', 'Risk Management', 'Accounting', 'Business Analysis', 'Data Analysis', 'Financial Analysis', 'Leadership and Management', 'Performance Management', 'Strategy and Operations')\n",
      " ('Accounting', 'Financial Accounting', 'Accounts Payable and Receivable', 'Business Analysis', 'Data Analysis', 'Finance', 'Financial Analysis', 'Financial Management', 'Performance Management', 'Statistical Analysis', 'Strategy and Operations', 'Entrepreneurship', 'Leadership and Management', 'Marketing', 'Sales', 'Strategy')\n",
      " ('Marketing', 'Sales', 'Entrepreneurship', 'Leadership and Management', 'Strategy', 'Strategy and Operations', 'Account Management', 'Customer Relationship Management', 'Finance', 'Operations Management', 'Performance Management', 'Planning', 'Supply Chain and Logistics', 'Business Psychology', 'Salesforce')\n",
      " ('Accounting', 'Business Analysis', 'Data Analysis', 'Financial Analysis', 'Finance')\n",
      " ('Cloud Computing', 'Google Cloud Platform', 'Web Development', 'Operating Systems', 'Security Engineering', 'Computer Architecture', 'Full-Stack Web Development', 'Cloud Storage', 'System Security', 'Computer Programming', 'Cloud API', 'Distributed Computing Architecture', 'Algebra', 'Mathematics', 'Cloud Platforms', 'Kubernetes', 'Strategy and Operations', 'Cloud Infrastructure', 'Computational Thinking', 'Continuous Delivery', 'Continuous Integration', 'DevOps', 'Performance Management', 'Theoretical Computer Science', 'Application Development', 'Data Management', 'Database Application', 'Databases', 'Software Engineering', 'Computer Programming Tools', 'Machine Learning', 'Natural Language Processing', 'Software Framework', 'System Programming', 'Cloud Load Balancing', 'Google App Engine', 'Operations Management', 'Software As A Service', 'Big Data', 'Cloud Applications', 'Cloud Engineering', 'Cloud Management', 'Computer Networking', 'Extract', 'Transform', 'Load', 'Information Technology', 'Machine Learning Software', 'Network Model', 'Software Architecture')\n",
      " ('Machine Learning', 'Cloud Computing', 'Google Cloud Platform', 'Cloud Platforms', 'Probability & Statistics', 'Business Psychology', 'General Statistics', 'Deep Learning', 'Entrepreneurship', 'Natural Language Processing', 'Statistical Programming', 'Apache', 'Cloud Applications', 'Data Management', 'Machine Learning Software', 'Python Programming', 'Reinforcement Learning', 'Tensorflow', 'Artificial Neural Networks', 'Computer Graphic Techniques', 'Computer Graphics', 'Computer Vision', 'Performance Management', 'Strategy and Operations', 'Applied Machine Learning', 'Cloud API', 'Computational Thinking', 'Computer Architecture', 'Computer Programming', 'Data Analysis', 'Data Engineering', 'Distributed Computing Architecture', 'Hardware Design', 'Machine Learning Algorithms', 'Other Cloud Platforms and Tools', 'Theoretical Computer Science')\n",
      " ('Leadership and Management', 'Human Resources', 'Entrepreneurship', 'Leadership Development', 'Operations Management', 'Strategy and Operations', 'Performance Management', 'Business Psychology', 'Marketing', 'Organizational Development', 'Sales', 'Strategy', 'Problem Solving', 'Research and Design')\n",
      " ('Business Process Management', 'Entrepreneurship', 'Leadership and Management', 'Operations Management', 'Performance Management', 'Strategy and Operations', 'Business Psychology', 'Collaboration', 'Communication', 'Business Analysis', 'Conflict Management', 'Design and Product', 'Human Resources', 'Organizational Development', 'Problem Solving', 'Process Analysis', 'Product Management', 'Product Strategy', 'Project Management', 'Research and Design', 'Training', 'Mathematics')\n",
      " ('Cloud Computing', 'Google Cloud Platform', 'Cloud Platforms', 'Computer Programming', 'Theoretical Computer Science', 'Cloud Storage', 'Computer Architecture', 'Computer Networking', 'Kubernetes', 'Network Architecture', 'Software Architecture', 'Software Engineering', 'Performance Management', 'Strategy and Operations', 'DevOps', 'Google App Engine', 'Machine Learning', 'Network Security', 'Operating Systems', 'Security Engineering', 'Software Framework', 'System Programming', 'Big Data', 'Data Management')\n",
      " ('Business Analysis', 'Entrepreneurship', 'Strategy and Operations', 'Supply Chain and Logistics', 'Business Process Management', 'Operational Analysis', 'Performance Management', 'Operations Management', 'Project Management', 'Customer Analysis', 'Design and Product', 'Product Management', 'Customer Relationship Management', 'Finance', 'Leadership and Management', 'Marketing', 'Planning', 'Process Analysis', 'Customer Success', 'Human Computer Interaction', 'Organizational Development', 'Sales', 'Strategy', 'User Research')\n",
      " ('Marketing', 'Marketing Management', 'Advertising', 'Business Analysis', 'Communication', 'Digital Marketing', 'Market Research', 'Business Psychology', 'Customer Analysis', 'Design and Product', 'Finance', 'Marketing Design', 'Product Marketing', 'Social Media', 'Brand Management', 'Budget Management', 'Business Communication', 'Entrepreneurship', 'Financial Management', 'Market Analysis', 'Marketing Psychology', 'Performance Management', 'Persona Research', 'Research and Design', 'Sales', 'Statistical Tests', 'Storytelling', 'Strategy and Operations', 'Data Analysis', 'Data Visualization', 'Experiment', 'Probability & Statistics', 'Software Engineering', 'Software Testing')\n",
      " ('Innovation', 'Business Analysis', 'Entrepreneurship', 'Leadership and Management', 'Problem Solving', 'Research and Design', 'Business Transformation', 'Performance Management', 'Human Resources')\n",
      " ('Leadership and Management', 'Strategy and Operations', 'Project Management', 'Finance', 'Business Analysis', 'Financial Management', 'Accounting', 'Data Analysis', 'Financial Analysis', 'Risk Management', 'Critical Thinking', 'Decision Making', 'Entrepreneurship', 'Investment Management', 'Performance Management', 'Research and Design', 'Sales')\n",
      " ('Data Analysis', 'Accounting', 'Finance', 'Budget Management', 'Business Analysis', 'Cost Accounting', 'Leadership and Management', 'Entrepreneurship', 'Sales', 'Strategy and Operations', 'Account Management', 'Business Psychology', 'Experiment', 'General Statistics', 'Human Resources', 'Management Accounting', 'Marketing', 'People Development', 'Performance Management', 'Probability & Statistics', 'Strategy', 'Financial Analysis', 'Planning')\n",
      " ('Accounting', 'Data Analysis', 'Business Analysis', 'Finance', 'Financial Analysis', 'Investment Management', 'Leadership and Management', 'General Statistics', 'Probability & Statistics', 'Risk Management', 'Corporate Accouting', 'Performance Management', 'Statistical Analysis', 'Strategy and Operations')\n",
      " ('Leadership and Management', 'Security Engineering', 'Security Strategy', 'Entrepreneurship', 'Finance', 'Strategy and Operations', 'Marketing', 'Sales', 'Strategy', 'Operating Systems', 'Regulations and Compliance', 'Risk Management', 'System Security', 'Business Psychology', 'Organizational Development', 'Performance Management')\n",
      " ('Cloud API', 'Cloud Infrastructure', 'Communication', 'DevOps', 'Javascript', 'Journalism', 'Performance Management', 'Software Engineering', 'Software Testing')\n",
      " ('Cloud Computing', 'Google Cloud Platform', 'Operating Systems', 'Computer Architecture', 'Web Development', 'Security Engineering', 'Kubernetes', 'Cloud Storage', 'Computer Programming', 'System Security', 'Full-Stack Web Development', 'Cloud API', 'Distributed Computing Architecture', 'Cloud-Based Integration', 'Mathematics', 'Cloud Applications', 'Algebra', 'Cloud Platforms', 'Strategy and Operations', 'Theoretical Computer Science', 'Databases', 'Software Engineering', 'Computational Thinking', 'Continuous Delivery', 'Continuous Integration', 'DevOps', 'Performance Management', 'Cloud Load Balancing', 'Cloud Infrastructure', 'Computer Networking', 'Docker (Software)', 'Software Framework', 'System Programming', 'Application Development', 'Data Management', 'Database Application', 'Computer Programming Tools', 'Machine Learning', 'Natural Language Processing', 'Bioinformatics', 'Computational Logic', 'Database Design', 'Google App Engine', 'Mathematical Theory & Analysis', 'Network Model', 'Operations Management', 'Probability & Statistics', 'Software As A Service', 'Big Data', 'Billing & Invoicing', 'Cloud Engineering', 'Cloud Management', 'Extract', 'Transform', 'Load', 'Finance', 'Information Technology', 'Machine Learning Software', 'Software Architecture')\n",
      " ('Algorithms', 'Theoretical Computer Science', 'Operating Systems', 'Systems Design')\n",
      " ('Data Structures', 'Theoretical Computer Science', 'Java Programming', 'Computer Programming', 'Algorithms', 'Computational Logic', 'Data Management', 'Mathematical Theory & Analysis', 'Mathematics', 'Mobile Development', 'Software Engineering', 'Software Testing', 'Web Development')\n",
      " ('Accounting', 'Financial Accounting', 'Audit', 'Cash Management', 'Finance', 'Financial Management', 'Budget Management', 'General Accounting', 'Generally Accepted Accounting Principles (GAAP)')\n",
      " ('Computer Programming', 'Entrepreneurship', 'Market Research', 'Operating Systems', 'Performance Management', 'Research and Design', 'Software Engineering', 'Software Testing', 'Strategy and Operations', 'System Programming', 'Apache')\n",
      " ('Computer Programming', 'Computer Architecture', 'Distributed Computing Architecture', 'Linux', 'Operating Systems', 'Software Engineering', 'Computational Thinking', 'Computer Programming Tools', 'Data Analysis', 'Programming Principles', 'Software Architecture', 'Software Testing', 'Theoretical Computer Science')\n",
      " ('Data Analysis', 'Business Analysis', 'Probability & Statistics', 'Statistical Analysis', 'Computer Programming', 'Python Programming', 'Statistical Programming', 'General Statistics', 'Regression', 'Machine Learning', 'Machine Learning Algorithms', 'Econometrics', 'Applied Machine Learning', 'Correlation And Dependence', 'Data Visualization', 'Plot (Graphics)', 'Basic Descriptive Statistics', 'Critical Thinking', 'Research and Design', 'Strategy and Operations', 'Bayesian Statistics', 'Advertising', 'Communication', 'Marketing')\n",
      " ('Application Development',) ('Data Analysis', 'Google Cloud Platform')\n",
      " ('Machine Learning', 'Cloud Computing', 'Computer Programming', 'Google Cloud Platform', 'Statistical Programming', 'Python Programming', 'Applied Machine Learning', 'Cloud Platforms', 'Feature Engineering', 'Tensorflow', 'Deep Learning', 'Data Management', 'Entrepreneurship', 'Probability & Statistics', 'Data Analysis', 'Artificial Neural Networks', 'Business Psychology', 'Data Visualization', 'DevOps', 'Exploratory Data Analysis', 'Regression', 'SQL', 'Statistical Visualization', 'Theoretical Computer Science', 'Data Science', 'Apache', 'Basic Descriptive Statistics', 'Bayesian Statistics', 'Computational Thinking', 'Computer Architecture', 'Computer Networking', 'Data Model', 'Data Structures', 'Extract', 'Transform', 'Load', 'General Statistics', 'Hardware Design', 'Machine Learning Algorithms', 'Machine Learning Software', 'Network Security', 'Performance Management', 'Security Engineering', 'Security Strategy', 'Statistical Machine Learning', 'Strategy and Operations', 'Algorithms', 'Big Data', 'Business Analysis', 'Cloud Applications', 'Cloud Infrastructure', 'Cloud Storage', 'Data Analysis Software', 'Data Architecture', 'Data Warehousing', 'Database Application', 'Databases', 'Dimensionality Reduction', 'Distributed Computing Architecture', 'Full-Stack Web Development', 'Information Technology', 'Kubernetes', 'Natural Language Processing', 'Statistical Analysis', 'Web Development')\n",
      " ('Human Resources', 'Leadership and Management', 'Sales', 'Entrepreneurship', 'Marketing', 'Compensation', 'Business Psychology', 'Finance', 'Organizational Development', 'Strategy and Operations', 'Account Management', 'Accounting', 'Budget Management', 'Decision Making', 'Forecasting', 'Generally Accepted Accounting Principles (GAAP)', 'Inside Sales', 'Outside Sales', 'Performance Management', 'Planning', 'Probability & Statistics', 'Recruitment', 'Strategy', 'Operations Management', 'Salesforce', 'Supply Chain and Logistics')\n",
      " ('Cloud Engineering', 'People Management', 'Software Engineering')\n",
      " ('Business Analysis', 'Customer Analysis', 'Research and Design', 'Survey Creation', 'Market Research', 'User Research')\n",
      " ('Computer Programming', 'Cloud Computing', 'Google Cloud Platform', 'Theoretical Computer Science', 'Performance Management', 'Strategy and Operations')\n",
      " ('Applied Mathematics', 'Business Analysis', 'Critical Thinking', 'Mathematics', 'Research and Design', 'Strategy and Operations')\n",
      " ('Computer Programming', 'Other Web Frameworks', 'Programming Principles', 'Web Development')\n",
      " ('Business Analysis', 'Research and Design', 'Survey Creation')\n",
      " ('ArcGIS', 'Statistical Programming', 'Data Analysis', 'Data Visualization', 'Spatial Analysis', 'Data Management', 'Data Model', 'Geovisualization', 'Machine Learning')\n",
      " ('Computational Logic', 'Theoretical Computer Science')\n",
      " ('Business Analysis', 'General Statistics', 'Probability & Statistics', 'Statistical Analysis', 'Basic Descriptive Statistics', 'Business Intelligence', 'Spreadsheet Software', 'Data Analysis', 'Microsoft Excel', 'Probability Distribution', 'Data Mining', 'Data Visualization', 'Exploratory Data Analysis', 'Statistical Visualization', 'Correlation And Dependence')\n",
      " ('Epidemiology', 'Probability & Statistics', 'Human Computer Interaction', 'Human Factors (Security)', 'Security Engineering')\n",
      " ('Human Resources',) ('Project Management', 'Strategy and Operations')\n",
      " ('Accounting', 'Business Analysis', 'Data Analysis', 'Finance', 'Financial Analysis', 'Financial Accounting')\n",
      " ('Behavioral Economics', 'Business Psychology', 'Finance', 'Business Analysis', 'Accounting', 'Data Analysis', 'Econometrics', 'Financial Analysis', 'General Statistics', 'Probability & Statistics')\n",
      " ('Computer Programming', 'Front-End Web Development', 'HTML and CSS', 'Javascript', 'Web Design', 'Web Development')\n",
      " ('Adaptability', 'Business Psychology', 'Entrepreneurship')\n",
      " ('Web Development', 'HTML and CSS', 'Computer Programming', 'Javascript')\n",
      " ('Finance', 'General Statistics', 'Probability & Statistics', 'Mathematics', 'Probability Distribution', 'Risk Management', 'Securities Sales', 'Securities Trading', 'Algebra', 'Calculus', 'Correlation And Dependence', 'Investment Management', 'Linear Algebra', 'Mathematical Theory & Analysis', 'Applied Mathematics', 'BlockChain', 'FinTech', 'Machine Learning', 'Markov Model')\n",
      " ('Business Analysis', 'Data Analysis', 'Statistical Analysis', 'R Programming')\n",
      " ('Calculus', 'Mathematics')\n",
      " ('Data Visualization', 'Geovisualization', 'Data Analysis', 'GIS Software', 'Journalism')\n",
      " ('Calculus', 'Mathematics', 'Algebra', 'Mathematical Theory & Analysis', 'Applied Mathematics', 'Basic Descriptive Statistics', 'Biostatistics', 'Data Analysis', 'Data Analysis Software', 'Probability & Statistics')\n",
      " ('Business Analysis', 'Critical Thinking', 'Research and Design', 'Strategy and Operations')\n",
      " ('Business Analysis', 'Data Analysis')\n",
      " ('Marketing', 'Supply Chain and Logistics', 'Brand Management', 'Retail Store Operations', 'Sales', 'B2B Sales', 'Probability & Statistics', 'Probability Distribution', 'Retail Sales')\n",
      " ('Cloud Computing', 'Cloud Platforms', 'Databases')\n",
      " ('Cloud Computing', 'Cloud Load Balancing', 'Cloud-Based Integration', 'DevOps')\n",
      " ('Computer Networking', 'Database Administration', 'Databases', 'Finance', 'Network Security', 'Regulations and Compliance', 'Security Engineering', 'Security Strategy', 'Software Security')\n",
      " ('Computer Vision', 'Machine Learning', 'Applied Machine Learning')\n",
      " ('Data Analysis', 'Data Management', 'Databases', 'SQL', 'Statistical Programming', 'Business Analysis', 'Microsoft Excel', 'Spreadsheet Software', 'Bioinformatics', 'Database Administration', 'Probability & Statistics', 'Process Analysis', 'Strategy and Operations', 'Web Development')\n",
      " ('Data Analysis', 'Data Visualization')\n",
      " ('Design and Product', 'Human Computer Interaction', 'Product Design', 'User Experience', 'User Research', 'Cyberattacks', 'Security Engineering', 'Security Strategy', 'Business Psychology', 'Operating Systems', 'Research and Design', 'Software Security', 'System Security', 'Systems Design', 'Theoretical Computer Science', 'User Experience Design')\n",
      " ('Computer Architecture', 'Hardware Design', 'C Programming Language Family', 'Computer Programming Tools', 'Microarchitecture', 'Other Programming Languages', 'Software-Defined Networking', 'Programming Principles')\n",
      " ('Computer Architecture', 'Computer Networking', 'Human Computer Interaction', 'User Experience')\n",
      " ('Human Computer Interaction', 'User Experience')\n",
      " ('Business Communication',)\n",
      " ('Customer Relationship Management', 'Customer Success', 'Finance', 'Human Computer Interaction', 'Marketing', 'Sales', 'User Experience')\n",
      " ('Application Development', 'Design and Product', 'Product Design', 'Software Engineering', 'Product Strategy')\n",
      " ('Product Strategy', 'User Research')\n",
      " ('Business Psychology', 'Human Computer Interaction', 'Research and Design', 'User Experience', 'User Experience Design')\n",
      " ('Design and Product', 'Product Strategy', 'Project Management', 'User Research')\n",
      " ('Human Computer Interaction', 'User Experience', 'Business Process Management')\n",
      " ('Human Computer Interaction', 'Data Analysis')\n",
      " ('Product Design', 'Product Development', 'Project Management')\n",
      " ('Business Process Management', 'Entrepreneurship', 'Leadership and Management', 'Strategy and Operations', 'Product Design')\n",
      " ('Design and Product', 'Marketing')\n",
      " ('Operations Research', 'Product Development', 'Project Management')\n",
      " ('Agile Software Development', 'Project Management', 'Scrum (Software Development)', 'Software Engineering', 'Strategy and Operations')\n",
      " ('Communication', 'Emotional Intelligence')\n",
      " ('Customer Relationship Management', 'Customer Success', 'Design and Product', 'Entrepreneurship', 'Finance', 'Human Computer Interaction', 'Market Research', 'Marketing', 'Research and Design', 'Sales', 'Strategy and Operations', 'User Research')\n",
      " ('Cloud Computing', 'DevOps', 'Continuous Delivery', 'Amazon Web Services', 'Business Analysis', 'Cloud Platforms', 'Cloud-Based Integration', 'Continuous Integration', 'Critical Thinking', 'Project Management', 'Research and Design', 'Software As A Service', 'Strategy and Operations')\n",
      " ('Collaboration',)\n",
      " ('Business Psychology', 'Collaboration', 'Communication', 'Creativity', 'Design and Product', 'Entrepreneurship', 'Leadership and Management', 'Product Design', 'Research and Design', 'User Experience Design', 'Visual Design', 'Web Design', 'Web Development', 'Business Process Management')\n",
      " ('Communication', 'Problem Solving')\n",
      " ('Business Analysis', 'Communication', 'Entrepreneurship', 'Finance', 'Innovation', 'Investment Management', 'Leadership and Management', 'Marketing', 'Negotiation', 'Planning', 'Research and Design', 'Sales', 'Strategy', 'Strategy and Operations', 'Supply Chain and Logistics')\n",
      " ('Product Development', 'Project Management')\n",
      " ('Computer Networking', 'Network Security', 'Security Engineering', 'Cryptography')\n",
      " ('Machine Learning', 'Human Computer Interaction', 'Business Psychology', 'Computer Networking', 'Database Administration', 'Databases', 'Finance', 'Network Security', 'Regulations and Compliance', 'Research and Design', 'Security Engineering', 'User Experience', 'User Experience Design', 'Algorithms', 'Sales')\n",
      " ('Cloud Computing', 'Microsoft Azure', 'Computer Networking', 'Cloud Management', 'Cloud Platforms', 'Computer Architecture', 'Computer Graphics', 'DevOps', 'Devops Tools', 'Human Computer Interaction', 'Interactive Design', 'Internet Of Things', 'Leadership and Management', 'Machine Learning', 'Network Architecture', 'Network Security', 'Security Engineering', 'Software Architecture', 'Software Engineering', 'Theoretical Computer Science')\n",
      " ('Business Analysis', 'Clinical Data Management', 'Data Analysis', 'Data Management', 'General Statistics', 'Probability & Statistics', 'Regression', 'Statistical Analysis', 'Statistical Tests', 'Entrepreneurship', 'R Programming', 'Supply Chain Systems')\n",
      " ('BlockChain', 'Finance', 'FinTech', 'Operating Systems', 'Security Engineering', 'Software Security', 'System Security')\n",
      " ('FinTech', 'Finance', 'Business Analysis', 'Customer Analysis', 'Entrepreneurship', 'Market Research', 'Payments', 'Regulations and Compliance', 'Research and Design', 'Business Process Management', 'Strategy and Operations')\n",
      " ('Entrepreneurship', 'Human Computer Interaction')\n",
      " ('Security Engineering', 'Cyberattacks', 'Security Strategy', 'Computer Architecture', 'Hardware Design', 'Security Software', 'Software Security')\n",
      " ('Security Engineering', 'Human Factors (Security)', 'System Security', 'Computer Networking', 'Data Management', 'Network Security', 'Security Strategy', 'Software Security', 'Computer Architecture', 'Financial Accounting', 'Network Architecture', 'Operating Systems')\n",
      " ('Accounting', 'General Accounting', 'Billing & Invoicing', 'Finance')\n",
      " ('Sales', 'Communication', 'Prospecting and Qualification', 'Business Communication', 'Business Development')\n",
      " ('BlockChain', 'Finance', 'Computer Architecture', 'Security Engineering', 'Distributed Computing Architecture', 'Theoretical Computer Science', 'Algorithms', 'Computational Logic', 'Computer Networking', 'Cryptography', 'Hardware Design', 'Mathematical Theory & Analysis', 'Mathematics', 'Network Security', 'Operating Systems', 'Software Security', 'System Security', 'Data Structures', 'FinTech', 'Software Architecture', 'Software Engineering')\n",
      " ('Machine Learning',)\n",
      " ('Computer Graphics', 'Database Design', 'Databases', 'Human Computer Interaction', 'Interactive Design')\n",
      " ('Google Cloud Platform', 'Network Security')\n",
      " ('Business Analysis', 'Critical Thinking', 'Research and Design', 'Strategy and Operations', 'Applied Machine Learning', 'Machine Learning', 'General Statistics', 'Probability & Statistics')\n",
      " ('Basic Descriptive Statistics', 'Data Analysis', 'Forecasting', 'Probability & Statistics', 'Business Intelligence', 'Feature Engineering')\n",
      " ('Probability & Statistics', 'General Statistics', 'Research and Design', 'Data Analysis', 'Feature Engineering', 'Machine Learning', 'Survey Creation', 'Statistical Analysis')\n",
      " ('Applied Machine Learning', 'Machine Learning', 'Machine Learning Algorithms')\n",
      " ('Business Design', 'Business Transformation', 'Innovation')\n",
      " ('Machine Learning', 'Machine Learning Algorithms', 'Accounting', 'Algorithms', 'Big Data', 'Business Analysis', 'Data Analysis', 'Data Management', 'Exploratory Data Analysis', 'Financial Analysis', 'Plot (Graphics)', 'Regression', 'Theoretical Computer Science', 'Data Science')\n",
      " ('Payments', 'Accounting', 'Vendor Management')\n",
      " ('Sales', 'Accounting', 'Finance')\n",
      " ('Material Handling', 'Feature Engineering', 'Graph Theory', 'Machine Learning', 'Mathematics', 'Entrepreneurship', 'Market Research', 'Research and Design', 'Big Data', 'Data Management', 'Data Visualization', 'Scientific Visualization')\n",
      " ('C++ Programming', 'Data Science', 'Linear Algebra', 'Machine Learning')\n",
      " ('Mathematics', 'Mathematical Theory & Analysis')]'\n"
     ]
    }
   ],
   "source": [
    "Main_tuples = Main.applymap(lambda x: tuple(x) if isinstance(x, list) else x)\n",
    "\n",
    "# Get unique values for each column in the DataFrame\n",
    "unique_values = {column: Main_tuples[column].unique() for column in Main_tuples.columns}\n",
    "\n",
    "# Print the unique values for each column\n",
    "for column, values in unique_values.items():\n",
    "    print(f\"Unique values in '{column}':\")\n",
    "    print( f\"'{values}'\")"
   ]
  },
  {
   "cell_type": "code",
   "execution_count": 11,
   "id": "b10c4fcc",
   "metadata": {},
   "outputs": [],
   "source": [
    "Main[\"courses names\"]=\"\"\n",
    "Main['courses rates']=\"\"\n",
    "Main[\"courses evals\"]=\"\""
   ]
  },
  {
   "cell_type": "markdown",
   "id": "01186166",
   "metadata": {},
   "source": [
    "# "
   ]
  },
  {
   "cell_type": "markdown",
   "id": "247f10ba",
   "metadata": {},
   "source": [
    "# DATA is fully cleaned"
   ]
  },
  {
   "cell_type": "markdown",
   "id": "8519f421",
   "metadata": {},
   "source": [
    "# "
   ]
  },
  {
   "cell_type": "code",
   "execution_count": 62,
   "id": "e8cd5edb",
   "metadata": {},
   "outputs": [],
   "source": [
    "Main.to_excel(\"main.xlsx\", index=False)"
   ]
  },
  {
   "cell_type": "markdown",
   "id": "9c95bf63",
   "metadata": {},
   "source": [
    "# "
   ]
  },
  {
   "cell_type": "markdown",
   "id": "58c5be16",
   "metadata": {},
   "source": [
    "# "
   ]
  },
  {
   "cell_type": "markdown",
   "id": "23dd844c",
   "metadata": {},
   "source": [
    "# PART II (stil under work):"
   ]
  },
  {
   "cell_type": "markdown",
   "id": "ef117aad",
   "metadata": {},
   "source": [
    "# "
   ]
  },
  {
   "cell_type": "markdown",
   "id": "db4783e5",
   "metadata": {},
   "source": [
    "# "
   ]
  },
  {
   "cell_type": "code",
   "execution_count": 33,
   "id": "96c049d3",
   "metadata": {},
   "outputs": [],
   "source": [
    "Main = pd.read_excel(\"main.xlsx\")"
   ]
  },
  {
   "cell_type": "code",
   "execution_count": 34,
   "id": "be1284bf",
   "metadata": {},
   "outputs": [],
   "source": [
    "Main[\"courses names\"]=\"\"\n",
    "Main['courses rates']=\"\"\n",
    "Main[\"courses evals\"]=\"\""
   ]
  },
  {
   "cell_type": "code",
   "execution_count": 35,
   "id": "fd29602a",
   "metadata": {},
   "outputs": [
    {
     "data": {
      "text/html": [
       "<div>\n",
       "<style scoped>\n",
       "    .dataframe tbody tr th:only-of-type {\n",
       "        vertical-align: middle;\n",
       "    }\n",
       "\n",
       "    .dataframe tbody tr th {\n",
       "        vertical-align: top;\n",
       "    }\n",
       "\n",
       "    .dataframe thead th {\n",
       "        text-align: right;\n",
       "    }\n",
       "</style>\n",
       "<table border=\"1\" class=\"dataframe\">\n",
       "  <thead>\n",
       "    <tr style=\"text-align: right;\">\n",
       "      <th></th>\n",
       "      <th>metric(s)</th>\n",
       "      <th>URL</th>\n",
       "      <th>Title</th>\n",
       "      <th>Trainer</th>\n",
       "      <th>rate</th>\n",
       "      <th>evaluation nbr</th>\n",
       "      <th>level</th>\n",
       "      <th>duration</th>\n",
       "      <th>aquired competences</th>\n",
       "      <th>courses names</th>\n",
       "      <th>courses rates</th>\n",
       "      <th>courses evals</th>\n",
       "    </tr>\n",
       "  </thead>\n",
       "  <tbody>\n",
       "    <tr>\n",
       "      <th>0</th>\n",
       "      <td>Communication</td>\n",
       "      <td>https://www.coursera.org/learn/cross-cultural-...</td>\n",
       "      <td>Business English for Cross-cultural Communication</td>\n",
       "      <td>The Hong Kong University of Science and Techno...</td>\n",
       "      <td>4.7</td>\n",
       "      <td>(374 reviews)</td>\n",
       "      <td>Mixed level 1</td>\n",
       "      <td>1 - 3 Months</td>\n",
       "      <td>['Business Communication', 'Business Psycholog...</td>\n",
       "      <td></td>\n",
       "      <td></td>\n",
       "      <td></td>\n",
       "    </tr>\n",
       "    <tr>\n",
       "      <th>1</th>\n",
       "      <td>Communication</td>\n",
       "      <td>https://www.coursera.org/learn/finding-your-pr...</td>\n",
       "      <td>Finding Your Professional Voice: Confidence &amp; ...</td>\n",
       "      <td>University of London</td>\n",
       "      <td>4.8</td>\n",
       "      <td>(101 reviews)</td>\n",
       "      <td>Beginner level 1</td>\n",
       "      <td>1 - 4 Weeks</td>\n",
       "      <td>['Communication', 'Entrepreneurship', 'Leaders...</td>\n",
       "      <td></td>\n",
       "      <td></td>\n",
       "      <td></td>\n",
       "    </tr>\n",
       "    <tr>\n",
       "      <th>2</th>\n",
       "      <td>Communication</td>\n",
       "      <td>https://www.coursera.org/learn/wharton-communi...</td>\n",
       "      <td>Improving Communication Skills</td>\n",
       "      <td>University of Pennsylvania</td>\n",
       "      <td>4.7</td>\n",
       "      <td>(1.9k reviews)</td>\n",
       "      <td>Beginner level 1</td>\n",
       "      <td>1 - 4 Weeks</td>\n",
       "      <td>['Communication', 'Employee Relations', 'Human...</td>\n",
       "      <td></td>\n",
       "      <td></td>\n",
       "      <td></td>\n",
       "    </tr>\n",
       "    <tr>\n",
       "      <th>3</th>\n",
       "      <td>Communication</td>\n",
       "      <td>https://www.coursera.org/specializations/bayes...</td>\n",
       "      <td>Bayesian Statistics</td>\n",
       "      <td>University of California, Santa Cruz</td>\n",
       "      <td>4.6</td>\n",
       "      <td>(3.4k reviews)</td>\n",
       "      <td>Intermediate level 3</td>\n",
       "      <td>3 - 6 Months</td>\n",
       "      <td>['Probability &amp; Statistics', 'Bayesian Statist...</td>\n",
       "      <td></td>\n",
       "      <td></td>\n",
       "      <td></td>\n",
       "    </tr>\n",
       "    <tr>\n",
       "      <th>4</th>\n",
       "      <td>Communication</td>\n",
       "      <td>https://www.coursera.org/professional-certific...</td>\n",
       "      <td>IBM Data Engineering</td>\n",
       "      <td>IBM</td>\n",
       "      <td>4.6</td>\n",
       "      <td>(43.9k reviews)</td>\n",
       "      <td>Beginner level 3</td>\n",
       "      <td>3 - 6 Months</td>\n",
       "      <td>['Data Management', 'Databases', 'Data Structu...</td>\n",
       "      <td></td>\n",
       "      <td></td>\n",
       "      <td></td>\n",
       "    </tr>\n",
       "    <tr>\n",
       "      <th>...</th>\n",
       "      <td>...</td>\n",
       "      <td>...</td>\n",
       "      <td>...</td>\n",
       "      <td>...</td>\n",
       "      <td>...</td>\n",
       "      <td>...</td>\n",
       "      <td>...</td>\n",
       "      <td>...</td>\n",
       "      <td>...</td>\n",
       "      <td>...</td>\n",
       "      <td>...</td>\n",
       "      <td>...</td>\n",
       "    </tr>\n",
       "    <tr>\n",
       "      <th>1583</th>\n",
       "      <td>Trust+Respect</td>\n",
       "      <td>https://www.coursera.org/learn/how-to-network</td>\n",
       "      <td>How to Network: Leading Yourself to Lead Others</td>\n",
       "      <td>University of Michigan</td>\n",
       "      <td>4.5</td>\n",
       "      <td>(8 reviews)</td>\n",
       "      <td>Mixed level 1</td>\n",
       "      <td>1 - 4 Weeks</td>\n",
       "      <td>['Leadership and Management', 'Entrepreneurshi...</td>\n",
       "      <td></td>\n",
       "      <td></td>\n",
       "      <td></td>\n",
       "    </tr>\n",
       "    <tr>\n",
       "      <th>1584</th>\n",
       "      <td>Trust+Respect</td>\n",
       "      <td>https://www.coursera.org/learn/foundations-of-...</td>\n",
       "      <td>Foundations of Career Navigating and Coaching</td>\n",
       "      <td>Goodwill Industries International</td>\n",
       "      <td>4.7</td>\n",
       "      <td>(53 reviews)</td>\n",
       "      <td>Beginner level 1</td>\n",
       "      <td>1 - 4 Weeks</td>\n",
       "      <td>['Leadership and Management', 'Business Psycho...</td>\n",
       "      <td></td>\n",
       "      <td></td>\n",
       "      <td></td>\n",
       "    </tr>\n",
       "    <tr>\n",
       "      <th>1585</th>\n",
       "      <td>Trust+Respect</td>\n",
       "      <td>https://www.coursera.org/learn/new-technologie...</td>\n",
       "      <td>New Technologies for Business Leaders</td>\n",
       "      <td>Rutgers the State University of New Jersey</td>\n",
       "      <td>4.4</td>\n",
       "      <td>(367 reviews)</td>\n",
       "      <td>Intermediate level 1</td>\n",
       "      <td>1 - 3 Months</td>\n",
       "      <td>['Change Management', 'Leadership and Manageme...</td>\n",
       "      <td></td>\n",
       "      <td></td>\n",
       "      <td></td>\n",
       "    </tr>\n",
       "    <tr>\n",
       "      <th>1586</th>\n",
       "      <td>Trust+Respect</td>\n",
       "      <td>https://www.coursera.org/learn/teaching-learning</td>\n",
       "      <td>Foundations of Teaching for Learning: Learners...</td>\n",
       "      <td>Commonwealth Education Trust</td>\n",
       "      <td>4.6</td>\n",
       "      <td>(169 reviews)</td>\n",
       "      <td>Mixed level 1</td>\n",
       "      <td>1 - 3 Months</td>\n",
       "      <td>['Business Psychology', 'Communication', 'Entr...</td>\n",
       "      <td></td>\n",
       "      <td></td>\n",
       "      <td></td>\n",
       "    </tr>\n",
       "    <tr>\n",
       "      <th>1587</th>\n",
       "      <td>Trust+Respect</td>\n",
       "      <td>https://www.coursera.org/learn/covid-vaccine-a...</td>\n",
       "      <td>COVID Vaccine Ambassador Training: How to Talk...</td>\n",
       "      <td>Johns Hopkins University</td>\n",
       "      <td>4.9</td>\n",
       "      <td>(1.2k reviews)</td>\n",
       "      <td>Beginner level 1</td>\n",
       "      <td>1 - 3 Months</td>\n",
       "      <td>['Communication', 'Marketing', 'Social Media',...</td>\n",
       "      <td></td>\n",
       "      <td></td>\n",
       "      <td></td>\n",
       "    </tr>\n",
       "  </tbody>\n",
       "</table>\n",
       "<p>1588 rows × 12 columns</p>\n",
       "</div>"
      ],
      "text/plain": [
       "          metric(s)                                                URL  \\\n",
       "0     Communication  https://www.coursera.org/learn/cross-cultural-...   \n",
       "1     Communication  https://www.coursera.org/learn/finding-your-pr...   \n",
       "2     Communication  https://www.coursera.org/learn/wharton-communi...   \n",
       "3     Communication  https://www.coursera.org/specializations/bayes...   \n",
       "4     Communication  https://www.coursera.org/professional-certific...   \n",
       "...             ...                                                ...   \n",
       "1583  Trust+Respect      https://www.coursera.org/learn/how-to-network   \n",
       "1584  Trust+Respect  https://www.coursera.org/learn/foundations-of-...   \n",
       "1585  Trust+Respect  https://www.coursera.org/learn/new-technologie...   \n",
       "1586  Trust+Respect   https://www.coursera.org/learn/teaching-learning   \n",
       "1587  Trust+Respect  https://www.coursera.org/learn/covid-vaccine-a...   \n",
       "\n",
       "                                                  Title  \\\n",
       "0     Business English for Cross-cultural Communication   \n",
       "1     Finding Your Professional Voice: Confidence & ...   \n",
       "2                        Improving Communication Skills   \n",
       "3                                   Bayesian Statistics   \n",
       "4                                  IBM Data Engineering   \n",
       "...                                                 ...   \n",
       "1583    How to Network: Leading Yourself to Lead Others   \n",
       "1584      Foundations of Career Navigating and Coaching   \n",
       "1585              New Technologies for Business Leaders   \n",
       "1586  Foundations of Teaching for Learning: Learners...   \n",
       "1587  COVID Vaccine Ambassador Training: How to Talk...   \n",
       "\n",
       "                                                Trainer  rate  \\\n",
       "0     The Hong Kong University of Science and Techno...   4.7   \n",
       "1                                  University of London   4.8   \n",
       "2                            University of Pennsylvania   4.7   \n",
       "3                  University of California, Santa Cruz   4.6   \n",
       "4                                                   IBM   4.6   \n",
       "...                                                 ...   ...   \n",
       "1583                             University of Michigan   4.5   \n",
       "1584                  Goodwill Industries International   4.7   \n",
       "1585         Rutgers the State University of New Jersey   4.4   \n",
       "1586                       Commonwealth Education Trust   4.6   \n",
       "1587                           Johns Hopkins University   4.9   \n",
       "\n",
       "       evaluation nbr                 level      duration  \\\n",
       "0       (374 reviews)         Mixed level 1  1 - 3 Months   \n",
       "1       (101 reviews)      Beginner level 1   1 - 4 Weeks   \n",
       "2      (1.9k reviews)      Beginner level 1   1 - 4 Weeks   \n",
       "3      (3.4k reviews)  Intermediate level 3  3 - 6 Months   \n",
       "4     (43.9k reviews)      Beginner level 3  3 - 6 Months   \n",
       "...               ...                   ...           ...   \n",
       "1583      (8 reviews)         Mixed level 1   1 - 4 Weeks   \n",
       "1584     (53 reviews)      Beginner level 1   1 - 4 Weeks   \n",
       "1585    (367 reviews)  Intermediate level 1  1 - 3 Months   \n",
       "1586    (169 reviews)         Mixed level 1  1 - 3 Months   \n",
       "1587   (1.2k reviews)      Beginner level 1  1 - 3 Months   \n",
       "\n",
       "                                    aquired competences courses names  \\\n",
       "0     ['Business Communication', 'Business Psycholog...                 \n",
       "1     ['Communication', 'Entrepreneurship', 'Leaders...                 \n",
       "2     ['Communication', 'Employee Relations', 'Human...                 \n",
       "3     ['Probability & Statistics', 'Bayesian Statist...                 \n",
       "4     ['Data Management', 'Databases', 'Data Structu...                 \n",
       "...                                                 ...           ...   \n",
       "1583  ['Leadership and Management', 'Entrepreneurshi...                 \n",
       "1584  ['Leadership and Management', 'Business Psycho...                 \n",
       "1585  ['Change Management', 'Leadership and Manageme...                 \n",
       "1586  ['Business Psychology', 'Communication', 'Entr...                 \n",
       "1587  ['Communication', 'Marketing', 'Social Media',...                 \n",
       "\n",
       "     courses rates courses evals  \n",
       "0                                 \n",
       "1                                 \n",
       "2                                 \n",
       "3                                 \n",
       "4                                 \n",
       "...            ...           ...  \n",
       "1583                              \n",
       "1584                              \n",
       "1585                              \n",
       "1586                              \n",
       "1587                              \n",
       "\n",
       "[1588 rows x 12 columns]"
      ]
     },
     "execution_count": 35,
     "metadata": {},
     "output_type": "execute_result"
    }
   ],
   "source": [
    "Main"
   ]
  },
  {
   "cell_type": "code",
   "execution_count": null,
   "id": "c60b6b39",
   "metadata": {},
   "outputs": [
    {
     "name": "stderr",
     "output_type": "stream",
     "text": [
      "1it [00:01,  1.53s/it]"
     ]
    },
    {
     "name": "stdout",
     "output_type": "stream",
     "text": [
      "Course Title:\n",
      "Welcome module\n",
      "What is culture?\n",
      "Culture and communication strategies\n",
      "Culture and management communication\n",
      "Culture, application and ethics\n",
      "Concluding module\n",
      "Ratings: ['4.5']\n",
      "Evaluations: ['84', '84']\n"
     ]
    },
    {
     "name": "stderr",
     "output_type": "stream",
     "text": [
      "\r",
      "2it [00:03,  1.72s/it]"
     ]
    },
    {
     "name": "stdout",
     "output_type": "stream",
     "text": [
      "Course Title:\n",
      "Be Aware: Understanding yourself and understanding how the voice works. \n",
      "Be Physical: the role of the body in speaking\n",
      "Be Connected: understanding your audience and how to connect  to them\n",
      "Be Impactful: Using emphasis for impact\n",
      "Ratings: ['4.8']\n",
      "Evaluations: ['37']\n"
     ]
    },
    {
     "name": "stderr",
     "output_type": "stream",
     "text": [
      "\r",
      "3it [00:05,  1.78s/it]"
     ]
    },
    {
     "name": "stdout",
     "output_type": "stream",
     "text": [
      "Course Title:\n",
      "Cooperation, Competition, and Comparisons\n",
      "Trust\n",
      "Deception\n",
      "Effective Communication\n",
      "Ratings: ['4.8']\n",
      "Evaluations: ['343']\n"
     ]
    },
    {
     "name": "stderr",
     "output_type": "stream",
     "text": [
      "\r",
      "4it [00:07,  2.08s/it]"
     ]
    },
    {
     "name": "stdout",
     "output_type": "stream",
     "text": [
      "Course Title:\n",
      "Bayesian Statistics: From Concept to Data Analysis\n",
      "Bayesian Statistics: Techniques and Models\n",
      "Bayesian Statistics: Mixture Models\n",
      "Bayesian Statistics: Time Series Analysis\n",
      "Bayesian Statistics: Capstone Project\n",
      "Ratings: ['4.6', '4.8', '4.5']\n",
      "Evaluations: ['3', '460', '41']\n"
     ]
    },
    {
     "name": "stderr",
     "output_type": "stream",
     "text": [
      "\r",
      "5it [00:10,  2.49s/it]"
     ]
    },
    {
     "name": "stdout",
     "output_type": "stream",
     "text": [
      "Course Title:\n",
      "Introduction to Data Engineering\n",
      "Python for Data Science, AI & Development\n",
      "Python Project for Data Engineering\n",
      "Introduction to Relational Databases (RDBMS)\n",
      "Databases and SQL for Data Science with Python\n",
      "Hands-on Introduction to Linux Commands and Shell Scripting\n",
      "Relational Database Administration (DBA)\n",
      "ETL and Data Pipelines with Shell, Airflow and Kafka\n",
      "Getting Started with Data Warehousing and BI Analytics\n",
      "Introduction to NoSQL Databases\n",
      "Introduction to Big Data with Spark and Hadoop\n",
      "Data Engineering and Machine Learning using Spark\n",
      "Data Engineering Capstone Project\n",
      "Ratings: ['4.7', '4.6', '4.6', '4.7', '4.6', '4.6', '4.5', '4.5', '4.3', '4.6', '4.3', '3.8', '4.6']\n",
      "Evaluations: ['1', '32', '416', '391', '17', '793', '106', '216', '104', '184', '233', '106', '56']\n"
     ]
    },
    {
     "name": "stderr",
     "output_type": "stream",
     "text": [
      "\r",
      "6it [00:12,  2.32s/it]"
     ]
    },
    {
     "name": "stdout",
     "output_type": "stream",
     "text": [
      "Course Title:\n",
      "Introduction to Front-End Development\n",
      "Programming with JavaScript\n",
      "Version Control\n",
      "HTML and CSS in depth\n",
      "React Basics\n",
      "Advanced React\n",
      "Principles of UX/UI Design\n",
      "Front-End Developer Capstone \n",
      "Coding Interview Preparation\n",
      "Ratings: ['4.8', '4.7', '4.7', '4.7', '4.7', '4.6', '4.7', '4.5', '4.7']\n",
      "Evaluations: ['7', '2', '2', '899', '1', '545', '363', '155', '206']\n"
     ]
    },
    {
     "name": "stderr",
     "output_type": "stream",
     "text": [
      "\r",
      "7it [00:15,  2.26s/it]"
     ]
    },
    {
     "name": "stdout",
     "output_type": "stream",
     "text": [
      "Course Title:\n",
      "Marketing Analytics Foundation\n",
      "Introduction to Data Analytics\n",
      "Statistics for Marketing\n",
      "Data Analytics Methods for Marketing\n",
      "Marketing Analytics with Meta\n",
      "Meta Marketing Science Certification Exam\n",
      "Ratings: ['4.8', '3.7', '4.8', '4.7', '4.8', '4.8']\n",
      "Evaluations: ['1', '245', '126', '163', '129', '66']\n"
     ]
    },
    {
     "name": "stderr",
     "output_type": "stream",
     "text": [
      "\r",
      "8it [00:16,  2.11s/it]"
     ]
    },
    {
     "name": "stdout",
     "output_type": "stream",
     "text": [
      "Course Title:\n",
      "Fundamentos: dados, dados, em todos os lugares\n",
      "Fazer perguntas para tomar decisões com base em dados\n",
      "Preparar os Dados para Exploração\n",
      "Processar os dados para limpá-los\n",
      "Analisar os dados para responder às perguntas\n",
      "Compartilhar os dados com a arte da visualização\n",
      "Análise de dados com programação em R\n",
      "Projeto final de Data Analytics do Google: conclua um estudo de caso\n",
      "Ratings: ['4.9', '4.8', '4.8', '4.8', '4.8', '4.8', '4.8', '4.9']\n",
      "Evaluations: ['1', '439', '225', '151', '101', '68', '79', '143']\n"
     ]
    },
    {
     "name": "stderr",
     "output_type": "stream",
     "text": [
      "\r",
      "9it [00:18,  2.03s/it]"
     ]
    },
    {
     "name": "stdout",
     "output_type": "stream",
     "text": [
      "Course Title:\n",
      "Essentials of Management and Strategic Planning\n",
      "Fundamentals of Finance\n",
      "Introduction to Digital Marketing\n",
      "Ratings: ['4.7', '4.8', '4.7']\n",
      "Evaluations: ['76', '66', '61']\n"
     ]
    },
    {
     "name": "stderr",
     "output_type": "stream",
     "text": [
      "\r",
      "10it [00:20,  1.90s/it]"
     ]
    },
    {
     "name": "stdout",
     "output_type": "stream",
     "text": [
      "Course Title:\n",
      "Foundations of Cybersecurity\n",
      "Play It Safe: Manage Security Risks\n",
      "Connect and Protect: Networks and Network Security\n",
      "Tools of the Trade: Linux and SQL\n",
      "Assets, Threats, and Vulnerabilities\n",
      "Sound the Alarm: Detection and Response\n",
      "Automate Cybersecurity Tasks with Python\n",
      "Put It to Work: Prepare for Cybersecurity Jobs\n",
      "Ratings: ['4.9', '4.8', '4.8', '4.8', '4.8', '4.8', '4.8', '4.9']\n",
      "Evaluations: ['5', '1', '744', '570', '336', '271', '278', '304']\n"
     ]
    },
    {
     "name": "stderr",
     "output_type": "stream",
     "text": [
      "\r",
      "11it [00:21,  1.76s/it]"
     ]
    },
    {
     "name": "stdout",
     "output_type": "stream",
     "text": [
      "Course Title:\n",
      "Fundamentos do design da experiência do usuário (UX)\n",
      "Iniciar o processo de design de UX: criar empatia, definir e idealizar\n",
      "Criar wireframes e protótipos de baixa fidelidade\n",
      "Conduzir pesquisas de UX e testar os primeiros conceitos\n",
      "Criar designs e protótipos de alta fidelidade no Figma\n",
      "Web design responsivo em Adobe XD\n",
      "Design de uma experiência do usuário para o bem social e preparação para o mercado\n",
      "Ratings: ['4.9', '4.9', '4.9', '4.9', '5.0', '4.7', '4.9']\n",
      "Evaluations: ['1', '246', '131', '65', '49', '45', '58']\n"
     ]
    },
    {
     "name": "stderr",
     "output_type": "stream",
     "text": [
      "\r",
      "12it [00:23,  1.67s/it]"
     ]
    },
    {
     "name": "stdout",
     "output_type": "stream",
     "text": [
      "Course Title:\n",
      "What is Climate Change?\n",
      "How Do We Manage Climate Change?\n",
      "Planning with Climate Change in Mind\n",
      "Ratings: ['4.9', '4.8', '4.9']\n",
      "Evaluations: ['81', '45', '40']\n"
     ]
    },
    {
     "name": "stderr",
     "output_type": "stream",
     "text": [
      "\r",
      "13it [00:26,  2.21s/it]"
     ]
    },
    {
     "name": "stdout",
     "output_type": "stream",
     "text": [
      "Course Title:\n",
      "Gmail\n",
      "Google Calendar\n",
      "Google Drive\n",
      "Google Docs\n",
      "Google Sheets\n",
      "Google Slides\n",
      "Google Meet\n",
      "Google Chat\n",
      "Google Sheets - Advanced Topics\n",
      "Ratings: ['4.8', '4.8', '4.8', '4.8', '4.8', '4.8', '4.9', '4.7']\n",
      "Evaluations: ['733', '199', '148', '154', '218', '113', '96', '184']\n"
     ]
    },
    {
     "name": "stderr",
     "output_type": "stream",
     "text": [
      "\r",
      "14it [00:28,  2.10s/it]"
     ]
    },
    {
     "name": "stdout",
     "output_type": "stream",
     "text": [
      "Course Title:\n",
      "Introduction to Blockchain Technologies\n",
      "Transacting on the Blockchain\n",
      "Blockchain and Business\n",
      "Blockchain Opportunity Analysis\n",
      "Ratings: ['4.7', '4.8', '4.7', '4.6']\n",
      "Evaluations: ['2', '885', '394', '190']\n"
     ]
    },
    {
     "name": "stderr",
     "output_type": "stream",
     "text": [
      "\r",
      "15it [00:30,  1.92s/it]"
     ]
    },
    {
     "name": "stdout",
     "output_type": "stream",
     "text": [
      "Course Title:\n",
      "Foundations of Business Intelligence\n",
      "The Path to Insights: Data Models and Pipelines\n",
      "Decisions, Decisions: Dashboards and Reports\n",
      "Ratings: ['4.7', '4.7', '4.8']\n",
      "Evaluations: ['375', '136', '190']\n"
     ]
    },
    {
     "name": "stderr",
     "output_type": "stream",
     "text": [
      "\r",
      "16it [00:31,  1.91s/it]"
     ]
    },
    {
     "name": "stdout",
     "output_type": "stream",
     "text": [
      "Course Title:\n",
      "Module 1 - Relationships in Our Lives\n",
      "Module 2 - Getting Started\n",
      "Module 3 - Communication\n",
      "Module 4 - Building Relationships that Work for You\n",
      "Module 5 - Challenges, Endings, and Transformation\n",
      "Module 6 - Relationships & Self\n",
      "Ratings: ['4.6']\n",
      "Evaluations: ['481']\n"
     ]
    },
    {
     "name": "stderr",
     "output_type": "stream",
     "text": [
      "\r",
      "17it [00:33,  1.84s/it]"
     ]
    },
    {
     "name": "stdout",
     "output_type": "stream",
     "text": [
      "Course Title:\n",
      "Digital Strategy and Business Opportunity\n",
      "Digital Channel Planning and E-Commerce Strategy\n",
      "Digital Leadership and Digital Strategy Execution\n",
      "Ratings: ['4.6', '4.7', '4.6']\n",
      "Evaluations: ['220', '78', '49']\n"
     ]
    },
    {
     "name": "stderr",
     "output_type": "stream",
     "text": [
      "\r",
      "18it [00:35,  1.77s/it]"
     ]
    },
    {
     "name": "stdout",
     "output_type": "stream",
     "text": [
      "Course Title:\n",
      "Pilares de Marketing Digital\n",
      "Estrategias de  Redes Sociales\n",
      "Publicidad Digital con Google AdWords\n",
      "Compra programática de medios: Publicidad online en tiempo real\n",
      "Proyecto Final - Programa Especializado en Marketing Digital\n",
      "Ratings: ['4.8', '4.6', '4.6', '4.7', '4.9']\n",
      "Evaluations: ['1', '850', '272', '177', '67']\n"
     ]
    },
    {
     "name": "stderr",
     "output_type": "stream",
     "text": [
      "\r",
      "19it [00:36,  1.67s/it]"
     ]
    },
    {
     "name": "stdout",
     "output_type": "stream",
     "text": [
      "Course Title:\n",
      "The Importance of Effective Communication in Today's Business Environment\n",
      "Interpersonal Communication Skills: Listening, Counseling, and Others\n",
      "Communicating To Build Trust In an Organization\n",
      "Providing and Receiving Feedback\n",
      "Ratings: []\n",
      "Evaluations: []\n"
     ]
    },
    {
     "name": "stderr",
     "output_type": "stream",
     "text": [
      "\r",
      "20it [00:38,  1.76s/it]"
     ]
    },
    {
     "name": "stdout",
     "output_type": "stream",
     "text": [
      "Course Title:\n",
      "Emergency Management\n",
      "Planning\n",
      "Vulnerability\n",
      "Crisis Risk Communication\n",
      "Ratings: ['4.6']\n",
      "Evaluations: ['46']\n"
     ]
    },
    {
     "name": "stderr",
     "output_type": "stream",
     "text": [
      "\r",
      "21it [00:40,  1.81s/it]"
     ]
    },
    {
     "name": "stdout",
     "output_type": "stream",
     "text": [
      "Course Title:\n",
      "Communication Across Cultures\n",
      "Email Excellence \n",
      "Presentation - Time to Shine\n",
      "Maximize Your English Communication Skills\n",
      "Ratings: ['4.8']\n",
      "Evaluations: ['200']\n"
     ]
    },
    {
     "name": "stderr",
     "output_type": "stream",
     "text": [
      "\r",
      "22it [00:42,  1.75s/it]"
     ]
    },
    {
     "name": "stdout",
     "output_type": "stream",
     "text": [
      "Course Title:\n",
      "Self-Awareness\n",
      "Self-Management\n",
      "Social Awareness\n",
      "Social Acceleration\n",
      "Ratings: ['4.7']\n",
      "Evaluations: ['74', '74', '74']\n"
     ]
    },
    {
     "name": "stderr",
     "output_type": "stream",
     "text": [
      "\r",
      "23it [00:45,  2.09s/it]"
     ]
    },
    {
     "name": "stdout",
     "output_type": "stream",
     "text": [
      "Course Title:\n",
      "The necessary art of persuasion: Understanding what matters to your audience\n",
      "Telling your story: Developing a dramatic narrative\n",
      "Connecting with people: Developing authenticity and building rapport\n",
      "Talk the talk: Creating impressions and guiding influential conversations\n",
      "Painful truth: Dealing with objections and overcoming resistance\n",
      "Winning over hearts and minds: How to pitch a brilliant idea\n",
      "Ratings: ['4.8']\n",
      "Evaluations: ['645', '645']\n"
     ]
    },
    {
     "name": "stderr",
     "output_type": "stream",
     "text": [
      "\r",
      "24it [00:46,  1.86s/it]"
     ]
    },
    {
     "name": "stdout",
     "output_type": "stream",
     "text": [
      "Course Title:\n",
      "Write Professional Emails in English\n",
      "Speak English Professionally: In Person, Online & On the Phone\n",
      "Build Your Professional ePortfolio in English\n",
      "Take Your English Communication Skills to the Next Level\n",
      "Ratings: ['4.8', '4.7', '4.7', '4.8']\n",
      "Evaluations: ['16', '9', '1', '785']\n"
     ]
    },
    {
     "name": "stderr",
     "output_type": "stream",
     "text": [
      "\r",
      "25it [00:48,  1.79s/it]"
     ]
    },
    {
     "name": "stdout",
     "output_type": "stream",
     "text": [
      "Course Title:\n",
      "Business Writing\n",
      "Graphic Design\n",
      "Successful Presentation\n",
      "Effective Communication Capstone Project\n",
      "Ratings: ['4.8', '4.8', '4.8', '4.7']\n",
      "Evaluations: ['4', '2', '4', '135']\n"
     ]
    },
    {
     "name": "stderr",
     "output_type": "stream",
     "text": [
      "\r",
      "26it [00:49,  1.60s/it]"
     ]
    },
    {
     "name": "stdout",
     "output_type": "stream",
     "text": [
      "Course Title:\n",
      "Communicating Your Best Self \n",
      "Communicating In Groups and Teams \n",
      "Public Speaking and Presentations \n",
      "Leading Through Effective Communication \n",
      "Ratings: []\n",
      "Evaluations: []\n"
     ]
    },
    {
     "name": "stderr",
     "output_type": "stream",
     "text": [
      "\r",
      "27it [00:50,  1.61s/it]"
     ]
    },
    {
     "name": "stdout",
     "output_type": "stream",
     "text": [
      "Course Title:\n",
      "Establishing a Professional ‘Self’ through Effective Intercultural Communication\n",
      "Strengthening Your Widening Network \n",
      "Engaging in Persuasive and Credible Communication\n",
      "Becoming Part of the Globalised Workplace\n",
      "Effective Communication in the Globalised Workplace - The Capstone\n",
      "Ratings: ['4.6', '4.6', '4.5', '4.5', '4.7']\n",
      "Evaluations: ['308', '97', '279', '58', '24']\n"
     ]
    },
    {
     "name": "stderr",
     "output_type": "stream",
     "text": [
      "\r",
      "28it [00:52,  1.56s/it]"
     ]
    },
    {
     "name": "stdout",
     "output_type": "stream",
     "text": [
      "Course Title:\n",
      "Leading transformations: Manage change\n",
      "Negotiation skills: Negotiate and resolve conflict\n",
      "Storytelling and influencing: Communicate with impact\n",
      "Risk governance: Manage the risks\n",
      "Ratings: ['4.7', '4.7', '4.8', '4.8']\n",
      "Evaluations: ['1', '631', '1', '328']\n"
     ]
    },
    {
     "name": "stderr",
     "output_type": "stream",
     "text": [
      "\r",
      "29it [00:53,  1.57s/it]"
     ]
    },
    {
     "name": "stdout",
     "output_type": "stream",
     "text": [
      "Course Title:\n",
      "Introduction to Management Consulting\n",
      "Getting a Consulting Job\n",
      "Consulting Approach to Problem Solving\n",
      "Consulting Tools and Tips\n",
      "Consulting Presentations and Storytelling\n",
      "Ratings: ['4.8', '4.8', '4.8', '4.9', '4.9']\n",
      "Evaluations: ['254', '86', '50', '52', '54']\n"
     ]
    },
    {
     "name": "stderr",
     "output_type": "stream",
     "text": [
      "\r",
      "30it [00:55,  1.60s/it]"
     ]
    },
    {
     "name": "stdout",
     "output_type": "stream",
     "text": [
      "Course Title:\n",
      "Grundlagen des Projektmanagements\n",
      "Projektinitiierung: Ein Erfolgreiches Projekt Starten\n",
      "Projektplanung: Das Gesamtbild\n",
      "Projektabwicklung: Das Projekt durchführen\n",
      "Agiles Projektmanagement\n",
      "Abschlussprojekt: Projektmanagement in der realen Welt anwenden\n",
      "Ratings: ['4.4']\n",
      "Evaluations: ['33']\n"
     ]
    },
    {
     "name": "stderr",
     "output_type": "stream",
     "text": [
      "\r",
      "31it [00:57,  1.56s/it]"
     ]
    },
    {
     "name": "stdout",
     "output_type": "stream",
     "text": [
      "Course Title:\n",
      "Fundamentals of Visualization with Tableau\n",
      "Essential Design Principles for Tableau\n",
      "Visual Analytics with Tableau\n",
      "Creating Dashboards and Storytelling with Tableau\n",
      "Data Visualization with Tableau Project\n",
      "Instructors\n",
      "Ratings: ['4.5', '4.4', '4.6', '4.6', '4.6']\n",
      "Evaluations: ['6', '1', '1', '959', '508']\n"
     ]
    },
    {
     "name": "stderr",
     "output_type": "stream",
     "text": [
      "\r",
      "32it [00:58,  1.63s/it]"
     ]
    },
    {
     "name": "stdout",
     "output_type": "stream",
     "text": [
      "Course Title:\n",
      "Fundraising and Development Foundations\n",
      "Annual Campaigns: Building a Case for Support\n",
      "Major and Principal Gifts\n",
      "Planned Giving\n",
      "Ratings: ['4.7', '4.3', '4.5', '4.6']\n",
      "Evaluations: ['251', '40', '20', '27']\n"
     ]
    },
    {
     "name": "stderr",
     "output_type": "stream",
     "text": [
      "\r",
      "33it [01:01,  1.85s/it]"
     ]
    },
    {
     "name": "stdout",
     "output_type": "stream",
     "text": [
      "Course Title:\n",
      "Speaking and Presenting: Poise\n",
      "Speaking and Presenting: Pitches and Persuasion\n",
      "Speaking and Presenting: Conversation Starters\n",
      "Speaking and Presenting: Tact\n",
      "Ratings: ['4.6', '4.6', '4.7', '4.7']\n",
      "Evaluations: ['110', '46', '23', '21']\n"
     ]
    },
    {
     "name": "stderr",
     "output_type": "stream",
     "text": [
      "\r",
      "34it [01:02,  1.77s/it]"
     ]
    },
    {
     "name": "stdout",
     "output_type": "stream",
     "text": [
      "Course Title:\n",
      "The Beginnings of Communication Science\n",
      "Technical Approaches to Communication Science\n",
      "Cultural and Social Approaches to Communication Science\n",
      "Final Exam\n",
      "Ratings: ['4.8']\n",
      "Evaluations: ['327']\n"
     ]
    },
    {
     "name": "stderr",
     "output_type": "stream",
     "text": [
      "\r",
      "35it [01:04,  1.89s/it]"
     ]
    },
    {
     "name": "stdout",
     "output_type": "stream",
     "text": [
      "Course Title:\n",
      "Creating a Healthy Project Foundation\n",
      "Effective Communications Building Blocks\n",
      "Communications Planning\n",
      "Leadership Fundamentals\n",
      " Managing and Leading Stakeholders\n",
      "Final Project and Quiz\n",
      "Ratings: []\n",
      "Evaluations: []\n"
     ]
    },
    {
     "name": "stderr",
     "output_type": "stream",
     "text": [
      "\r",
      "36it [01:06,  1.84s/it]"
     ]
    },
    {
     "name": "stdout",
     "output_type": "stream",
     "text": [
      "Course Title:\n",
      "Connecting the Science of Learning to Science Communication\n",
      "Speaking of Science: Oral Presentation \n",
      "Writing Science: Written Communication\n",
      "Decoding Science: Technology Based Communication\n",
      "Creating Science: Artistic Forms of Communication\n",
      "Ratings: ['4.8']\n",
      "Evaluations: ['16']\n"
     ]
    },
    {
     "name": "stderr",
     "output_type": "stream",
     "text": [
      "\r",
      "37it [01:11,  2.67s/it]"
     ]
    },
    {
     "name": "stdout",
     "output_type": "stream",
     "text": [
      "Course Title:\n",
      "Introduction to Virtual Teams and Virtual Communication\n",
      "Virtual Meetings: Boring to Awesome\n",
      "Influence, Power and Questioning Strategies in Virtual Collaboration\n",
      "Speaking and Presenting in a virtual context\n",
      "Ratings: ['4.8']\n",
      "Evaluations: ['1']\n"
     ]
    },
    {
     "name": "stderr",
     "output_type": "stream",
     "text": [
      "\r",
      "38it [01:13,  2.68s/it]"
     ]
    },
    {
     "name": "stdout",
     "output_type": "stream",
     "text": [
      "Course Title:\n",
      "Welcome to the Course\n",
      "The Doctor-Patient Interview\n",
      "The Physical Examination\n",
      "Explaining a Treatment or Procedure\n",
      "Solving Communication Difficulties\n",
      "Ratings: ['4.9']\n",
      "Evaluations: ['87']\n"
     ]
    },
    {
     "name": "stderr",
     "output_type": "stream",
     "text": [
      "\r",
      "39it [01:16,  2.57s/it]"
     ]
    },
    {
     "name": "stdout",
     "output_type": "stream",
     "text": [
      "Course Title:\n",
      "Technical Support Fundamentals\n",
      "The Bits and Bytes of Computer Networking\n",
      "Operating Systems and You: Becoming a Power User\n",
      " System Administration and IT Infrastructure Services\n",
      " IT Security: Defense against the digital dark arts \n",
      "Ratings: ['4.8', '4.7', '4.7', '4.7', '4.8']\n",
      "Evaluations: ['141', '44', '25', '22', '20']\n"
     ]
    },
    {
     "name": "stderr",
     "output_type": "stream",
     "text": [
      "\r",
      "40it [01:17,  2.16s/it]"
     ]
    },
    {
     "name": "stdout",
     "output_type": "stream",
     "text": [
      "Course Title:\n",
      "Learn step-by-step\n",
      "Ratings: []\n",
      "Evaluations: []\n"
     ]
    },
    {
     "name": "stderr",
     "output_type": "stream",
     "text": [
      "\r",
      "41it [01:18,  1.88s/it]"
     ]
    },
    {
     "name": "stdout",
     "output_type": "stream",
     "text": [
      "Course Title:\n",
      "Learn step-by-step\n",
      "Ratings: ['4.7']\n",
      "Evaluations: ['8']\n"
     ]
    },
    {
     "name": "stderr",
     "output_type": "stream",
     "text": [
      "\r",
      "42it [01:20,  1.82s/it]"
     ]
    },
    {
     "name": "stdout",
     "output_type": "stream",
     "text": [
      "Course Title:\n",
      "Welcome to the IoT Communications and Networks MOOC\n",
      "Week 1: Medium Access Control (MAC) Layer\n",
      " Week 2: 6TiSCH Adaptation Layer\n",
      "Week 3: 6LoWPAN Adaptation Layer\n",
      "Week 4: RPL Routing Protocol\n",
      "Your opinion about this MOOC\n",
      "Ratings: []\n",
      "Evaluations: []\n"
     ]
    },
    {
     "name": "stderr",
     "output_type": "stream",
     "text": [
      "\r",
      "43it [01:22,  1.87s/it]"
     ]
    },
    {
     "name": "stdout",
     "output_type": "stream",
     "text": [
      "Course Title:\n",
      "Capstone: An overview\n",
      "Capstone: E-guide\n",
      "Capstone: Data Collection 1\n",
      "Capstone: Data Collection 2\n",
      "Capstone: Putting it altogether\n",
      "Final Submission and Peer Critique\n",
      "Ratings: []\n",
      "Evaluations: []\n"
     ]
    },
    {
     "name": "stderr",
     "output_type": "stream",
     "text": [
      "\r",
      "44it [01:23,  1.80s/it]"
     ]
    },
    {
     "name": "stdout",
     "output_type": "stream",
     "text": [
      "Course Title:\n",
      "Topic 1. Structure of a Negotiation\n",
      "Topic 2. Effective Communication in Negotiation\n",
      "Topic 3. Interests and Positions\n",
      "Topic 4. Conflict Resolution\n",
      "Ratings: ['4.8']\n",
      "Evaluations: ['11']\n"
     ]
    },
    {
     "name": "stderr",
     "output_type": "stream",
     "text": [
      "\r",
      "45it [01:26,  1.87s/it]"
     ]
    },
    {
     "name": "stdout",
     "output_type": "stream",
     "text": [
      "Course Title:\n",
      "Week 1: Course Overview and Introduction to Radio Frequency Protocols\n",
      "Week 2 -  Protocols: Media Access Protocol\n",
      "Week 3 -  Protocols: Mesh Routing\n",
      "Week 4 - Protocols: Service Discovery\n",
      "Ratings: ['4.9']\n",
      "Evaluations: ['11']\n"
     ]
    },
    {
     "name": "stderr",
     "output_type": "stream",
     "text": [
      "\r",
      "46it [01:27,  1.89s/it]"
     ]
    },
    {
     "name": "stdout",
     "output_type": "stream",
     "text": [
      "Course Title:\n",
      "Specialization Introduction - Communication for Engineers\n",
      "Course Introduction - Interpersonal Communication for Engineering Leaders\n",
      "Week 1: What Influences the Way People Communicate? \n",
      "Week 2: Communicating With Leadership Presence in the Workplace\n",
      "Week 3: How to Handle Difficult Conversations \n",
      "Week 4: What to Say, and What Not to Say, in a Crisis Situation\n",
      "Ratings: ['4.7']\n",
      "Evaluations: ['31', '31']\n"
     ]
    },
    {
     "name": "stderr",
     "output_type": "stream",
     "text": [
      "\r",
      "47it [01:29,  1.92s/it]"
     ]
    },
    {
     "name": "stdout",
     "output_type": "stream",
     "text": [
      "Course Title:\n",
      "Foundations of Digital Marketing and E-commerce\n",
      "Attract and Engage Customers with Digital Marketing\n",
      "From Likes to Leads: Interact with Customers Online\n",
      "Think Outside the Inbox: Email Marketing\n",
      "Assess for Success: Marketing Analytics and Measurement\n",
      "Make the Sale: Build, Launch, and Manage E-commerce Stores\n",
      "Satisfaction Guaranteed: Develop Customer Loyalty Online\n",
      "Ratings: ['4.8', '4.8', '4.8', '4.8', '4.6', '4.8', '4.8']\n",
      "Evaluations: ['12', '3', '1', '1', '838', '702', '1']\n"
     ]
    },
    {
     "name": "stderr",
     "output_type": "stream",
     "text": [
      "\r",
      "48it [01:31,  1.93s/it]"
     ]
    },
    {
     "name": "stdout",
     "output_type": "stream",
     "text": [
      "Course Title:\n",
      "Introduction / What is the Pie?\n",
      "Negotiation Caselets\n",
      "Zincit Case\n",
      "Outpsider Case\n",
      "Advanced Topics\n",
      "Linda Babcock: Ask for It\n",
      "Herb Cohen: You Can Negotiate Anything\n",
      "John McCall MacBain: The Consummate Dealmaker\n",
      "Acknowledgments and Further Readings\n",
      "Ratings: ['5.0']\n",
      "Evaluations: ['1']\n"
     ]
    },
    {
     "name": "stderr",
     "output_type": "stream",
     "text": [
      "\r",
      "49it [01:33,  1.90s/it]"
     ]
    },
    {
     "name": "stdout",
     "output_type": "stream",
     "text": [
      "Course Title:\n",
      "Getting Started and How Human Beings Communicate\n",
      "Cultural Differences in Communication\n",
      "Managing Challenges in Communication in Cross-Cultural Teams\n",
      "Co-Creating a New Language With Your Team\n",
      "Ratings: ['4.6']\n",
      "Evaluations: ['6', '6', '6']\n"
     ]
    },
    {
     "name": "stderr",
     "output_type": "stream",
     "text": [
      "\r",
      "50it [01:35,  1.86s/it]"
     ]
    },
    {
     "name": "stdout",
     "output_type": "stream",
     "text": [
      "Course Title:\n",
      "Principles of Public Relations\n",
      "Working with the Media\n",
      "The Nuts and Bolts of Public Relations\n",
      "Ratings: ['4.7', '4.4', '4.4']\n",
      "Evaluations: ['280', '28', '17']\n"
     ]
    },
    {
     "name": "stderr",
     "output_type": "stream",
     "text": [
      "\r",
      "51it [01:37,  1.84s/it]"
     ]
    },
    {
     "name": "stdout",
     "output_type": "stream",
     "text": [
      "Course Title:\n",
      "Introduction to think outside the inbox: email marketing\n",
      "Types of email marketing\n",
      "Useful tools for email marketing\n",
      "Collect and analyze email campaign data\n",
      "Run your own email marketing campaign\n",
      "Ratings: ['4.8']\n",
      "Evaluations: ['384']\n"
     ]
    },
    {
     "name": "stderr",
     "output_type": "stream",
     "text": [
      "\r",
      "52it [01:39,  2.09s/it]"
     ]
    },
    {
     "name": "stdout",
     "output_type": "stream",
     "text": [
      "Course Title:\n",
      "Foundations of Project Management\n",
      "Project Initiation: Starting a Successful Project\n",
      "Project Planning: Putting It All Together\n",
      "Project Execution: Running the Project\n",
      "Agile Project Management\n",
      "Capstone: Applying Project Management in the Real World\n",
      "Ratings: ['4.9', '4.8', '4.8', '4.8', '4.8', '4.8']\n",
      "Evaluations: ['68', '16', '9', '6', '9', '6']\n"
     ]
    },
    {
     "name": "stderr",
     "output_type": "stream",
     "text": [
      "\r",
      "53it [01:41,  2.04s/it]"
     ]
    },
    {
     "name": "stdout",
     "output_type": "stream",
     "text": [
      "Course Title:\n",
      "Business English: Networking\n",
      "Business English: Meetings\n",
      "Business English: Planning & Negotiating\n",
      "Business English: Making Presentations\n",
      "Business English: Capstone Project\n",
      "Ratings: ['4.8', '4.8', '4.8', '4.8', '4.8']\n",
      "Evaluations: ['3', '930', '532', '694', '148']\n"
     ]
    },
    {
     "name": "stderr",
     "output_type": "stream",
     "text": [
      "\r",
      "54it [01:46,  2.71s/it]"
     ]
    },
    {
     "name": "stdout",
     "output_type": "stream",
     "text": [
      "Course Title:\n",
      "Human Resources\n",
      "Management\n",
      "Marketing\n",
      "Work-Life Balance\n",
      "Ratings: ['4.4']\n",
      "Evaluations: ['9', '9', '9']\n"
     ]
    },
    {
     "name": "stderr",
     "output_type": "stream",
     "text": [
      "\r",
      "55it [01:47,  2.26s/it]"
     ]
    },
    {
     "name": "stdout",
     "output_type": "stream",
     "text": [
      "Course Title:\n",
      "Learn step-by-step\n",
      "Ratings: []\n",
      "Evaluations: []\n"
     ]
    },
    {
     "name": "stderr",
     "output_type": "stream",
     "text": [
      "\r",
      "56it [01:48,  1.94s/it]"
     ]
    },
    {
     "name": "stdout",
     "output_type": "stream",
     "text": [
      "Course Title:\n",
      "Learn step-by-step\n",
      "Ratings: []\n",
      "Evaluations: []\n"
     ]
    },
    {
     "name": "stderr",
     "output_type": "stream",
     "text": [
      "\r",
      "57it [01:50,  1.95s/it]"
     ]
    },
    {
     "name": "stdout",
     "output_type": "stream",
     "text": [
      "Course Title:\n",
      "Financial Accounting: Foundations\n",
      "Financial Accounting: Advanced Topics\n",
      "Introduction to Business Analytics: Communicating with Data \n",
      "Introduction to Business Analytics with R\n",
      "Infonomics I: Business Information Economics and Data Monetization\n",
      "Infonomics II: Business Information Management and Measurement\n",
      "Ratings: ['4.7', '4.7', '4.6', '4.6', '4.6', '4.5']\n",
      "Evaluations: ['4', '1', '554', '183', '91', '26']\n"
     ]
    },
    {
     "name": "stderr",
     "output_type": "stream",
     "text": [
      "\r",
      "58it [01:52,  1.81s/it]"
     ]
    },
    {
     "name": "stdout",
     "output_type": "stream",
     "text": [
      "Course Title:\n",
      "Capstone Introduction \n",
      "Writing the Memo\n",
      "Designing the Slides\n",
      "Creating the Presentation\n",
      "The Final Push\n",
      "Ratings: ['4.8']\n",
      "Evaluations: ['32', '32']\n"
     ]
    },
    {
     "name": "stderr",
     "output_type": "stream",
     "text": [
      "\r",
      "59it [01:53,  1.81s/it]"
     ]
    },
    {
     "name": "stdout",
     "output_type": "stream",
     "text": [
      "Course Title:\n",
      " Introduction to Communication in Academic Culture \n",
      " Participating in University Discussion Contexts \n",
      "Interpreting, Researching & Planning Written Assignments\n",
      "Writing Effective & Concise Written Assignments\n",
      "Giving Persuasive & Engaging Presentations \n",
      "Summative Assignment\n",
      "Ratings: ['4.7']\n",
      "Evaluations: ['223', '223']\n"
     ]
    },
    {
     "name": "stderr",
     "output_type": "stream",
     "text": [
      "\r",
      "60it [01:56,  2.01s/it]"
     ]
    },
    {
     "name": "stdout",
     "output_type": "stream",
     "text": [
      "Course Title:\n",
      "Persuasive and Credible Communication: An Overview\n",
      "Principles of Persuasive Writing\n",
      "Persuasive Writing in a Globalised World\n",
      "Ratings: ['4.7']\n",
      "Evaluations: ['77']\n"
     ]
    },
    {
     "name": "stderr",
     "output_type": "stream",
     "text": [
      "\r",
      "61it [01:58,  1.94s/it]"
     ]
    },
    {
     "name": "stdout",
     "output_type": "stream",
     "text": [
      "Course Title:\n",
      "Specialization Introduction - Communication for Engineers\n",
      "Course Introduction - Oral Communication for Engineering Leaders\n",
      "Week 1: Introduction and Communication Strategy: It Is All About Audience and Purpose\n",
      "Week 2: Presentations: What to Say so that Your Audience Listens\n",
      "Week 3: Creating Visual Support: A Picture Is Worth a Lot of Words\n",
      "Week 4: How to Speak so that Your Audience Listens\n",
      "Week 5: Elevator Pitch, Impromptu, Online Presentations, and  Managing Public Speaking Anxiety\n",
      "Ratings: ['4.5']\n",
      "Evaluations: ['45', '45']\n"
     ]
    },
    {
     "name": "stderr",
     "output_type": "stream",
     "text": [
      "\r",
      "62it [02:03,  2.83s/it]"
     ]
    },
    {
     "name": "stdout",
     "output_type": "stream",
     "text": [
      "Course Title:\n",
      "About this Specialization and Course\n",
      "Asking The \"Right Questions\"\n",
      "Data Visualization with Tableau\n",
      "Dynamic Data Manipulation and Presentation in Tableau\n",
      "Your Communication Toolbox: Visualizations, Logic, and Stories\n",
      "Final Project\n",
      "Ratings: ['4.7']\n",
      "Evaluations: ['308', '308']\n"
     ]
    },
    {
     "name": "stderr",
     "output_type": "stream",
     "text": [
      "\r",
      "63it [02:04,  2.48s/it]"
     ]
    },
    {
     "name": "stdout",
     "output_type": "stream",
     "text": [
      "Course Title:\n",
      "Introduction to Social Media Marketing\n",
      "Social Media Management \n",
      "Fundamentals of Social Media Advertising\n",
      "Advertising with Meta\n",
      "Measure and Optimize Social Media Marketing Campaigns\n",
      "Meta Social Media Marketing Capstone\n",
      "Instructors\n",
      "Ratings: ['4.8', '4.9', '4.8', '4.8', '4.9', '4.8']\n",
      "Evaluations: ['11', '4', '1', '2', '1', '482']\n"
     ]
    },
    {
     "name": "stderr",
     "output_type": "stream",
     "text": [
      "\r",
      "64it [02:05,  2.12s/it]"
     ]
    },
    {
     "name": "stdout",
     "output_type": "stream",
     "text": [
      "Course Title:\n",
      "Emotional and Social Intelligence\n",
      "Critical Thinking Skills for the Professional\n",
      "The Growth Mindset\n",
      "Adaptability and Resiliency\n",
      "Ratings: ['4.7', '4.8', '4.8', '4.7']\n",
      "Evaluations: ['940', '639', '502', '282']\n"
     ]
    },
    {
     "name": "stderr",
     "output_type": "stream",
     "text": [
      "\r",
      "65it [02:07,  2.08s/it]"
     ]
    },
    {
     "name": "stdout",
     "output_type": "stream",
     "text": [
      "Course Title:\n",
      "Introduction to Time Value of Money (TVM)\n",
      "Advanced Concepts in Time Value of Money (TVM)\n",
      "Stocks and Bonds\n",
      "Advanced Understanding of Stocks and Bonds\n",
      "Ratings: ['4.8', '4.7', '4.6', '4.7']\n",
      "Evaluations: ['856', '66', '365', '31']\n"
     ]
    },
    {
     "name": "stderr",
     "output_type": "stream",
     "text": [
      "\r",
      "66it [02:11,  2.52s/it]"
     ]
    },
    {
     "name": "stdout",
     "output_type": "stream",
     "text": [
      "Course Title:\n",
      "Foundations of Data Science\n",
      "Get Started with Python\n",
      "Go Beyond the Numbers: Translate Data into Insights\n",
      "The Power of Statistics\n",
      "Regression Analysis: Simplify Complex Data Relationships\n",
      "The Nuts and Bolts of Machine Learning\n",
      "Google Advanced Data Analytics Capstone\n",
      "Ratings: ['4.7', '4.8', '4.8', '4.8', '4.7', '4.8', '4.8']\n",
      "Evaluations: ['779', '332', '153', '144', '95', '76', '134']\n"
     ]
    },
    {
     "name": "stderr",
     "output_type": "stream",
     "text": [
      "\r",
      "67it [02:14,  2.66s/it]"
     ]
    },
    {
     "name": "stdout",
     "output_type": "stream",
     "text": [
      "Course Title:\n",
      "Preparing to Manage Human Resources\n",
      "Recruiting, Hiring, and Onboarding Employees\n",
      "Managing Employee Performance\n",
      "Managing Employee Compensation\n",
      "Human Resources Management Capstone: HR for People Managers\n",
      "Ratings: ['4.8', '4.7', '4.7', '4.7', '4.8']\n",
      "Evaluations: ['9', '4', '2', '1', '644']\n"
     ]
    },
    {
     "name": "stderr",
     "output_type": "stream",
     "text": [
      "\r",
      "68it [02:15,  2.29s/it]"
     ]
    },
    {
     "name": "stdout",
     "output_type": "stream",
     "text": [
      "Course Title:\n",
      "Professional Skills for International Business\n",
      "Management Skills for International Business\n",
      "Quantitative Foundations for International Business\n",
      "Statistics for International Business\n",
      "International Business Environment\n",
      "International Business Capstone\n",
      "Ratings: ['4.7', '4.7', '4.1', '3.8', '4.7', '4.7']\n",
      "Evaluations: ['896', '649', '401', '283', '355', '100']\n"
     ]
    },
    {
     "name": "stderr",
     "output_type": "stream",
     "text": [
      "\r",
      "69it [02:18,  2.32s/it]"
     ]
    },
    {
     "name": "stdout",
     "output_type": "stream",
     "text": [
      "Course Title:\n",
      "Defining Diversity, Equity and Inclusion in Organizations\n",
      "Key Concepts in Organizational DE&I\n",
      "Best Practices in Planning DE&I Interventions\n",
      "Assessing Cultural Climate\n",
      "Ratings: ['4.8', '4.8', '4.9', '4.8']\n",
      "Evaluations: ['102', '30', '30', '30']\n"
     ]
    },
    {
     "name": "stderr",
     "output_type": "stream",
     "text": [
      "\r",
      "70it [02:19,  2.01s/it]"
     ]
    },
    {
     "name": "stdout",
     "output_type": "stream",
     "text": [
      "Course Title:\n",
      "Work Smarter with Microsoft Word\n",
      "Work Smarter with Microsoft Excel\n",
      "Work Smarter with Microsoft PowerPoint\n",
      "Ratings: ['4.7', '4.7', '4.7']\n",
      "Evaluations: ['757', '1', '392']\n"
     ]
    },
    {
     "name": "stderr",
     "output_type": "stream",
     "text": [
      "\r",
      "71it [02:21,  2.07s/it]"
     ]
    },
    {
     "name": "stdout",
     "output_type": "stream",
     "text": [
      "Course Title:\n",
      "Introduction to Databases\n",
      "Version Control\n",
      "Database Structures and Management with MySQL\n",
      "Advanced MySQL Topics\n",
      "Programming in Python\n",
      "Database Clients\n",
      "Advanced Data Modeling\n",
      "Database Engineer Capstone\n",
      "Coding Interview Preparation\n",
      "Ratings: ['4.7', '4.7', '4.8', '4.6', '4.6', '4.1', '4.1', '3.7', '4.7']\n",
      "Evaluations: ['630', '2', '208', '100', '858', '39', '34', '30', '206']\n"
     ]
    },
    {
     "name": "stderr",
     "output_type": "stream",
     "text": [
      "\r",
      "72it [02:23,  2.03s/it]"
     ]
    },
    {
     "name": "stdout",
     "output_type": "stream",
     "text": [
      "Course Title:\n",
      "The Digital Marketing Revolution\n",
      "Marketing in a Digital World\n",
      "Digital Marketing Analytics in Theory\n",
      "Digital Marketing Analytics in Practice\n",
      "Digital Media and Marketing Principles\n",
      "Digital Media and Marketing Strategies\n",
      "Digital Marketing Capstone\n",
      "Ratings: ['4.7', '4.7', '4.5', '4.5', '4.4', '4.6', '4.5']\n",
      "Evaluations: ['1', '16', '4', '3', '2', '2', '575']\n"
     ]
    },
    {
     "name": "stderr",
     "output_type": "stream",
     "text": [
      "\r",
      "73it [02:26,  2.28s/it]"
     ]
    },
    {
     "name": "stdout",
     "output_type": "stream",
     "text": [
      "Course Title:\n",
      "Leading Teams: Developing as a Leader\n",
      "Leading Teams: Building Effective Team Cultures\n",
      "Designing the Organization\n",
      "Managing the Organization\n",
      "Business Strategy\n",
      "Corporate Strategy\n",
      "Strategic Leadership and Management Capstone\n",
      "Ratings: ['4.8', '4.8', '4.6', '4.7', '4.8', '4.7', '4.8']\n",
      "Evaluations: ['5', '2', '1', '1', '1', '1', '244']\n"
     ]
    },
    {
     "name": "stderr",
     "output_type": "stream",
     "text": [
      "\r",
      "74it [02:28,  2.23s/it]"
     ]
    },
    {
     "name": "stdout",
     "output_type": "stream",
     "text": [
      "Course Title:\n",
      "Customer Analytics\n",
      "Operations Analytics\n",
      "People Analytics\n",
      "Accounting Analytics\n",
      "Business Analytics Capstone\n",
      "Ratings: ['4.6', '4.7', '4.6', '4.5', '4.5']\n",
      "Evaluations: ['11', '4', '5', '2', '712']\n"
     ]
    },
    {
     "name": "stderr",
     "output_type": "stream",
     "text": [
      "\r",
      "75it [02:31,  2.27s/it]"
     ]
    },
    {
     "name": "stdout",
     "output_type": "stream",
     "text": [
      "Course Title:\n",
      "The Social Media Landscape\n",
      "Social Media Platforms Overview\n",
      "Goals and Planning for Success\n",
      "Understand Your Audience\n",
      "Choose Your Social Media Channels\n",
      "Ratings: ['4.9']\n",
      "Evaluations: ['5']\n"
     ]
    },
    {
     "name": "stderr",
     "output_type": "stream",
     "text": [
      "\r",
      "76it [02:33,  2.37s/it]"
     ]
    },
    {
     "name": "stdout",
     "output_type": "stream",
     "text": [
      "Course Title:\n",
      "Introduction to Management: Communicating with Direct Reports & Teams \n",
      "Coaching Direct Reports & Teams and Influencing Without Authority\n",
      "Strategy,   Priorities, Projects \n",
      "Making High-Quality, Ethical Decisions\n",
      "Ratings: ['4.9']\n",
      "Evaluations: ['67']\n"
     ]
    },
    {
     "name": "stderr",
     "output_type": "stream",
     "text": [
      "\r",
      "77it [02:34,  2.04s/it]"
     ]
    },
    {
     "name": "stdout",
     "output_type": "stream",
     "text": [
      "Course Title:\n",
      "Trading Basics\n",
      "Trading Algorithms\n",
      "Advanced Trading Algorithms\n",
      "Creating a Portfolio \n",
      "Design your own trading strategy – Culminating Project\n",
      "Ratings: ['4.0', '4.5', '4.6', '4.4', '4.5']\n",
      "Evaluations: ['1', '1', '511', '303', '100']\n"
     ]
    },
    {
     "name": "stderr",
     "output_type": "stream",
     "text": [
      "\r",
      "78it [02:36,  1.93s/it]"
     ]
    },
    {
     "name": "stdout",
     "output_type": "stream",
     "text": [
      "Course Title:\n",
      "Six Sigma Principles \n",
      "Six Sigma Tools for Define and Measure\n",
      "Six Sigma Tools for Analyze\n",
      "Six Sigma Tools for Improve and Control\n",
      "Ratings: ['4.7', '4.6', '4.7', '4.7']\n",
      "Evaluations: ['7', '2', '1', '1']\n"
     ]
    },
    {
     "name": "stderr",
     "output_type": "stream",
     "text": [
      "\r",
      "79it [02:38,  1.82s/it]"
     ]
    },
    {
     "name": "stdout",
     "output_type": "stream",
     "text": [
      "Course Title:\n",
      "Google Cloud Fundamentals: Core Infrastructure\n",
      "Developing a Google SRE Culture\n",
      "Reliable Google Cloud Infrastructure: Design and Process\n",
      "Logging, Monitoring and Observability in Google Cloud\n",
      "Getting Started with Google Kubernetes Engine\n",
      "Ratings: ['4.7', '4.7', '4.7', '4.7', '4.5']\n",
      "Evaluations: ['46', '795', '7', '181', '3']\n"
     ]
    },
    {
     "name": "stderr",
     "output_type": "stream",
     "text": [
      "\r",
      "80it [02:39,  1.80s/it]"
     ]
    },
    {
     "name": "stdout",
     "output_type": "stream",
     "text": [
      "Course Title:\n",
      "Inspiring and Motivating Individuals\n",
      "Managing Talent\n",
      "Influencing People\n",
      "Leading Teams\n",
      "Leading People and Teams Capstone\n",
      "Ratings: ['4.8', '4.6', '4.8', '4.8', '4.8']\n",
      "Evaluations: ['5', '2', '3', '2', '434']\n"
     ]
    },
    {
     "name": "stderr",
     "output_type": "stream",
     "text": [
      "\r",
      "81it [02:41,  1.68s/it]"
     ]
    },
    {
     "name": "stdout",
     "output_type": "stream",
     "text": [
      "Course Title:\n",
      "Modern Art & Ideas\n",
      "Seeing Through Photographs\n",
      "What Is Contemporary Art?\n",
      "Fashion as Design\n",
      "Ratings: ['4.8', '4.8', '4.7', '4.8']\n",
      "Evaluations: ['6', '4', '1', '2']\n"
     ]
    },
    {
     "name": "stderr",
     "output_type": "stream",
     "text": [
      "\r",
      "82it [02:42,  1.67s/it]"
     ]
    },
    {
     "name": "stdout",
     "output_type": "stream",
     "text": [
      "Course Title:\n",
      "Planning UX research studies \n",
      " Conducting research with usability studies\n",
      "Analyzing and synthesizing research results\n",
      "Sharing research insights for better designs\n",
      "Ratings: ['4.8']\n",
      "Evaluations: ['1']\n"
     ]
    },
    {
     "name": "stderr",
     "output_type": "stream",
     "text": [
      "\r",
      "83it [02:44,  1.63s/it]"
     ]
    },
    {
     "name": "stdout",
     "output_type": "stream",
     "text": [
      "Course Title:\n",
      "Course Orientation\n",
      "MODULE 1: Introduction to ISD\n",
      "MODULE 2: Foundations and Tools of ISD\n",
      "MODULE 3: Analysis Part 1\n",
      "Module 4: Analysis Part 2\n",
      "Ratings: ['3.8']\n",
      "Evaluations: ['271']\n"
     ]
    },
    {
     "name": "stderr",
     "output_type": "stream",
     "text": [
      "\r",
      "84it [02:46,  1.68s/it]"
     ]
    },
    {
     "name": "stdout",
     "output_type": "stream",
     "text": [
      "Course Title:\n",
      "Introduction to OKRs\n",
      "Using OKRs within an Organization\n",
      "CFRs and the Work of an OKR Cycle\n",
      "Improving Your \"Goal Setting Muscle\"\n",
      "Ratings: ['4.9']\n",
      "Evaluations: ['109', '109', '109']\n"
     ]
    },
    {
     "name": "stderr",
     "output_type": "stream",
     "text": [
      "\r",
      "85it [02:48,  1.69s/it]"
     ]
    },
    {
     "name": "stdout",
     "output_type": "stream",
     "text": [
      "Course Title:\n",
      "Organization Planning and Development for the 6 σ Black Belt\n",
      "Team Management for the 6 σ Black Belt\n",
      "The Define Phase for the 6 σ Black Belt\n",
      "The Measure Phase for the 6 σ Black Belt\n",
      "The Analyze Phase for the 6 σ Black Belt\n",
      "The Improve Phase for the 6 σ Black Belt\n",
      "The Control Phase for the 6 σ Black Belt\n",
      "DFSS for the 6 σ Black Belt\n",
      "Ratings: ['4.5', '4.7', '4.3', '4.3', '4.1', '4.3', '4.0']\n",
      "Evaluations: ['279', '117', '47', '23', '16', '13', '11']\n"
     ]
    },
    {
     "name": "stderr",
     "output_type": "stream",
     "text": [
      "\r",
      "86it [02:49,  1.68s/it]"
     ]
    },
    {
     "name": "stdout",
     "output_type": "stream",
     "text": [
      "Course Title:\n",
      "Teaching Popular Music in the Classroom\n",
      "Jazz Improvisation\n",
      "Arranging for Songwriters\n",
      "The Art of Music Production\n",
      "Ratings: ['4.7', '4.8', '4.5', '4.8']\n",
      "Evaluations: ['84', '778', '68', '1']\n"
     ]
    },
    {
     "name": "stderr",
     "output_type": "stream",
     "text": [
      "\r",
      "87it [02:53,  2.23s/it]"
     ]
    },
    {
     "name": "stdout",
     "output_type": "stream",
     "text": [
      "Course Title:\n",
      "Project Management: Foundations and Initiation\n",
      "Project Planning and Execution\n",
      "Agile Project Management\n",
      "Ratings: ['4.8', '4.7', '4.7']\n",
      "Evaluations: ['220', '48', '87']\n"
     ]
    },
    {
     "name": "stderr",
     "output_type": "stream",
     "text": [
      "\r",
      "88it [02:54,  2.02s/it]"
     ]
    },
    {
     "name": "stdout",
     "output_type": "stream",
     "text": [
      "Course Title:\n",
      "Strategic Management\n",
      "Strategy Formulation\n",
      "Strategy Implementation\n",
      "Strategic Management - Capstone Project\n",
      "Ratings: ['4.7', '4.5', '4.6', '4.6']\n",
      "Evaluations: ['4', '1', '880', '329']\n"
     ]
    },
    {
     "name": "stderr",
     "output_type": "stream",
     "text": [
      "\r",
      "89it [02:59,  2.70s/it]"
     ]
    },
    {
     "name": "stdout",
     "output_type": "stream",
     "text": [
      "Course Title:\n",
      "Data models and pipelines\n",
      "Dynamic database design\n",
      "Optimize ETL processes\n",
      "Course 2 end-of-course project\n",
      "Ratings: ['4.8']\n",
      "Evaluations: ['45']\n"
     ]
    },
    {
     "name": "stderr",
     "output_type": "stream",
     "text": [
      "\r",
      "90it [03:00,  2.46s/it]"
     ]
    },
    {
     "name": "stdout",
     "output_type": "stream",
     "text": [
      "Course Title:\n",
      "Introduction to Customer Analytics\n",
      "Descriptive Analytics\n",
      "Predictive Analytics\n",
      "Prescriptive Analytics\n",
      "Application/Case Studies\n",
      "Ratings: ['4.7']\n",
      "Evaluations: ['1', '1', '1']\n"
     ]
    },
    {
     "name": "stderr",
     "output_type": "stream",
     "text": [
      "\r",
      "91it [03:02,  2.19s/it]"
     ]
    },
    {
     "name": "stdout",
     "output_type": "stream",
     "text": [
      "Course Title:\n",
      "Supply Chain Concepts\n",
      "Planning & Procurement\n",
      "Manufacturing & Service Operations\n",
      "Warehousing Operations\n",
      "Transportation Operations\n",
      "Ratings: ['4.5']\n",
      "Evaluations: ['650']\n"
     ]
    },
    {
     "name": "stderr",
     "output_type": "stream",
     "text": [
      "\r",
      "92it [03:04,  2.02s/it]"
     ]
    },
    {
     "name": "stdout",
     "output_type": "stream",
     "text": [
      "Course Title:\n",
      "Create Serverless Applications\t\t\t\t\t\n",
      "Connect Your Services with Microsoft Azure Service Bus\n",
      "Data Storage in Microsoft Azure for Associate Developers\n",
      "Deploy a website with Azure Virtual Machines\n",
      "Manage Resources in Azure\n",
      "Deploy a website to Azure with Azure App Service\n",
      "Secure your Cloud Data\n",
      "Prepare for AZ-204: Developing Solutions for Microsoft Azure\n",
      "Ratings: ['4.5', '4.8', '4.4', '4.8', '4.8', '4.6']\n",
      "Evaluations: ['50', '12', '14', '12', '11', '13']\n"
     ]
    },
    {
     "name": "stderr",
     "output_type": "stream",
     "text": [
      "\r",
      "93it [03:06,  2.07s/it]"
     ]
    },
    {
     "name": "stdout",
     "output_type": "stream",
     "text": [
      "Course Title:\n",
      "Communication Skills\n",
      "Personality\n",
      "Problem Solving\n",
      "Process Control\n",
      "Ratings: ['4.8']\n",
      "Evaluations: ['482']\n"
     ]
    },
    {
     "name": "stderr",
     "output_type": "stream",
     "text": [
      "\r",
      "94it [03:07,  1.87s/it]"
     ]
    },
    {
     "name": "stdout",
     "output_type": "stream",
     "text": [
      "Course Title:\n",
      "Guided Tour of Machine Learning in Finance\n",
      "Fundamentals of Machine Learning in Finance\n",
      "Reinforcement Learning in Finance\n",
      "Overview of Advanced Methods of Reinforcement Learning in Finance\n",
      "Ratings: ['3.8', '3.8', '3.6', '3.8']\n",
      "Evaluations: ['653', '323', '123', '78']\n"
     ]
    },
    {
     "name": "stderr",
     "output_type": "stream",
     "text": [
      "\r",
      "95it [03:09,  1.78s/it]"
     ]
    },
    {
     "name": "stdout",
     "output_type": "stream",
     "text": [
      "Course Title:\n",
      "High Performance Collaboration: Leadership, Teamwork, and Negotiation\n",
      "Leadership Communication for Maximum Impact: Storytelling\n",
      "Leadership Through Social Influence\n",
      "Leadership Through Marketing\n",
      "Leadership Through Design Innovation\n",
      "Organizational Leadership Capstone\n",
      "Ratings: ['4.8', '4.5', '4.7', '4.6', '4.3', '4.7']\n",
      "Evaluations: ['2', '1', '1', '439', '303', '87']\n"
     ]
    },
    {
     "name": "stderr",
     "output_type": "stream",
     "text": [
      "\r",
      "96it [03:11,  1.82s/it]"
     ]
    },
    {
     "name": "stdout",
     "output_type": "stream",
     "text": [
      "Course Title:\n",
      "Value-Based Care: Introduction to Value-Based Care and the U.S. Healthcare System\n",
      "Value-Based Care: Population Health\n",
      "Value-Based Care: Managing Processes to Improve Outcomes\n",
      "Value-Based Care: Reimbursement Models\n",
      "Value-Based Care: Organizational Competencies\n",
      "Value-Based Care: Quality Improvement in Organizations\n",
      "Value-Based Care: Capstone Project\n",
      "Instructors\n",
      "Ratings: ['4.7', '4.7', '4.7', '4.4', '4.7', '4.8']\n",
      "Evaluations: ['133', '42', '37', '39', '18', '17']\n"
     ]
    },
    {
     "name": "stderr",
     "output_type": "stream",
     "text": [
      "\r",
      "97it [03:12,  1.72s/it]"
     ]
    },
    {
     "name": "stdout",
     "output_type": "stream",
     "text": [
      "Course Title:\n",
      "Analyze Datasets and Train ML Models using AutoML\n",
      " Build, Train, and Deploy ML Pipelines using BERT\n",
      "Optimize ML Models and Deploy Human-in-the-Loop Pipelines\n",
      "Ratings: ['4.6', '4.5', '4.7']\n",
      "Evaluations: ['384', '136', '97']\n"
     ]
    },
    {
     "name": "stderr",
     "output_type": "stream",
     "text": [
      "\r",
      "98it [03:13,  1.56s/it]"
     ]
    },
    {
     "name": "stdout",
     "output_type": "stream",
     "text": [
      "Course Title:\n",
      "Communication as a Technical Leader\n",
      "Technical Managerial Written Skills\n",
      "Speaking to a Technical Group\n",
      "Ratings: []\n",
      "Evaluations: []\n"
     ]
    },
    {
     "name": "stderr",
     "output_type": "stream",
     "text": [
      "\r",
      "99it [03:15,  1.63s/it]"
     ]
    },
    {
     "name": "stdout",
     "output_type": "stream",
     "text": [
      "Course Title:\n",
      "The Importance of Effective Communication in Today's Business Environment\n",
      "Interpersonal Communication Skills: Listening, Counseling, and Others\n",
      "Communicating To Build Trust In an Organization\n",
      "Providing and Receiving Feedback\n",
      "Ratings: []\n",
      "Evaluations: []\n"
     ]
    },
    {
     "name": "stderr",
     "output_type": "stream",
     "text": [
      "\r",
      "100it [03:17,  1.62s/it]"
     ]
    },
    {
     "name": "stdout",
     "output_type": "stream",
     "text": [
      "Course Title:\n",
      "ESG Risks and Opportunities\n",
      "ESG Impact: Investor Perspective\n",
      "ESG and Climate Change\n",
      "ESG and Social Activism\n",
      "Ratings: ['4.6', '4.6', '4.8', '4.8']\n",
      "Evaluations: ['468', '134', '214', '80']\n"
     ]
    },
    {
     "name": "stderr",
     "output_type": "stream",
     "text": [
      "\r",
      "101it [03:19,  1.72s/it]"
     ]
    },
    {
     "name": "stdout",
     "output_type": "stream",
     "text": [
      "Course Title:\n",
      "Introduction to AI for Good\n",
      "AI for Good Project Framework\n",
      "Air Quality in Bogotá Colombia\n",
      "Ratings: ['4.8']\n",
      "Evaluations: ['38']\n"
     ]
    },
    {
     "name": "stderr",
     "output_type": "stream",
     "text": [
      "\r",
      "102it [03:20,  1.71s/it]"
     ]
    },
    {
     "name": "stdout",
     "output_type": "stream",
     "text": [
      "Course Title:\n",
      "Customer Analytics\n",
      "Operations Analytics\n",
      "People Analytics\n",
      "Accounting Analytics\n",
      "Business Analytics Capstone\n",
      "Ratings: ['4.6', '4.7', '4.6', '4.5', '4.5']\n",
      "Evaluations: ['11', '4', '5', '2', '712']\n"
     ]
    },
    {
     "name": "stderr",
     "output_type": "stream",
     "text": [
      "\r",
      "103it [03:22,  1.83s/it]"
     ]
    },
    {
     "name": "stdout",
     "output_type": "stream",
     "text": [
      "Course Title:\n",
      "Introduction to Machine Learning in Production\n",
      "Machine Learning Data Lifecycle in Production \n",
      "Machine Learning Modeling Pipelines in Production\n",
      "Deploying Machine Learning Models in Production\n",
      "Ratings: ['4.8', '4.3', '4.3', '4.5']\n",
      "Evaluations: ['2', '698', '347', '269']\n"
     ]
    },
    {
     "name": "stderr",
     "output_type": "stream",
     "text": [
      "\r",
      "104it [03:25,  2.13s/it]"
     ]
    },
    {
     "name": "stdout",
     "output_type": "stream",
     "text": [
      "Course Title:\n",
      "Week 1\n",
      "Week 2\n",
      "Week 3\n",
      "Ratings: ['4.9']\n",
      "Evaluations: ['172', '172', '172']\n"
     ]
    },
    {
     "name": "stderr",
     "output_type": "stream",
     "text": [
      "\r",
      "105it [03:28,  2.28s/it]"
     ]
    },
    {
     "name": "stdout",
     "output_type": "stream",
     "text": [
      "Course Title:\n",
      "Course Overview & Designing Performance Expectations\n",
      "Key Performance Indicators and Accountability\n",
      "Diagnosing and Addressing Performance Gaps\n",
      "Specialization Milestone 1: Define Your Coaching Philosophy\n",
      "Ratings: ['4.9']\n",
      "Evaluations: ['103']\n"
     ]
    },
    {
     "name": "stderr",
     "output_type": "stream",
     "text": [
      "\r",
      "106it [03:31,  2.43s/it]"
     ]
    },
    {
     "name": "stdout",
     "output_type": "stream",
     "text": [
      "Course Title:\n",
      "Machine Learning Strategy\n",
      "Responsible Machine Learning\n",
      "Machine Learning in Production & Planning\n",
      "Care and Feeding of your Machine Learning System\n",
      "Ratings: ['4.9']\n",
      "Evaluations: ['10']\n"
     ]
    },
    {
     "name": "stderr",
     "output_type": "stream",
     "text": [
      "\r",
      "107it [03:32,  2.14s/it]"
     ]
    },
    {
     "name": "stdout",
     "output_type": "stream",
     "text": [
      "Course Title:\n",
      "Introduction to Marketing\n",
      "Introduction to Financial Accounting\n",
      "Managing Social and Human Capital\n",
      "Introduction to Corporate Finance\n",
      "Introduction to Operations Management\n",
      "Wharton Business Foundations Capstone\n",
      "Instructors\n",
      "Ratings: ['4.8', '4.7', '4.6', '4.6', '4.4', '4.6']\n",
      "Evaluations: ['12', '7', '2', '5', '2', '334']\n"
     ]
    },
    {
     "name": "stderr",
     "output_type": "stream",
     "text": [
      "\r",
      "108it [03:34,  2.03s/it]"
     ]
    },
    {
     "name": "stdout",
     "output_type": "stream",
     "text": [
      "Course Title:\n",
      "Introduction to the Organizational Leadership Specialization\n",
      "Leadership\n",
      "Teamwork \n",
      "Negotiation\n",
      "Ratings: ['4.8']\n",
      "Evaluations: ['632']\n"
     ]
    },
    {
     "name": "stderr",
     "output_type": "stream",
     "text": [
      "\r",
      "109it [03:38,  2.60s/it]"
     ]
    },
    {
     "name": "stdout",
     "output_type": "stream",
     "text": [
      "Course Title:\n",
      "Introduction to Social Media Marketing\n",
      "Social Media Management \n",
      "Fundamentals of Social Media Advertising\n",
      "Advertising with Meta\n",
      "Measure and Optimize Social Media Marketing Campaigns\n",
      "Meta Social Media Marketing Capstone\n",
      "Instructors\n",
      "Ratings: ['4.8', '4.9', '4.8', '4.8', '4.9', '4.8']\n",
      "Evaluations: ['11', '4', '1', '2', '1', '482']\n"
     ]
    },
    {
     "name": "stderr",
     "output_type": "stream",
     "text": [
      "\r",
      "110it [03:40,  2.36s/it]"
     ]
    },
    {
     "name": "stdout",
     "output_type": "stream",
     "text": [
      "Course Title:\n",
      "Leading the Self: Mindfulness, Inner Stability, and Positive Strengths\n",
      "Leading Downward: Leader Behaviors and Leadership Styles\n",
      "Building Sustainable Relationships: Supportive Communication and Decision-making Biases \n",
      "Power, Politics, and Leading Upwards \n",
      "Ethics, Culture, and Change Management\n",
      "Leadership and Ancient Indian Wisdom: Lessons from the Mahabharata \n",
      "Peer Review Assignment\n",
      "Ratings: ['4.9']\n",
      "Evaluations: ['242']\n"
     ]
    },
    {
     "name": "stderr",
     "output_type": "stream",
     "text": [
      "\r",
      "111it [03:41,  2.14s/it]"
     ]
    },
    {
     "name": "stdout",
     "output_type": "stream",
     "text": [
      "Course Title:\n",
      "The Digital Marketing Revolution\n",
      "Marketing in a Digital World\n",
      "Digital Marketing Analytics in Theory\n",
      "Digital Marketing Analytics in Practice\n",
      "Digital Media and Marketing Principles\n",
      "Digital Media and Marketing Strategies\n",
      "Digital Marketing Capstone\n",
      "Ratings: ['4.7', '4.7', '4.5', '4.5', '4.4', '4.6', '4.5']\n",
      "Evaluations: ['1', '16', '4', '3', '2', '2', '575']\n"
     ]
    },
    {
     "name": "stderr",
     "output_type": "stream",
     "text": [
      "\r",
      "112it [03:43,  2.10s/it]"
     ]
    },
    {
     "name": "stdout",
     "output_type": "stream",
     "text": [
      "Course Title:\n",
      "Welcome to Successful Negotiation!\n",
      "Prepare: Plan Your Negotiation Strategy\n",
      "Negotiate: Use Key Tactics for Success\n",
      "Close: Create a Contract\n",
      "Perform and Evaluate: The End Game\n",
      "Practice Your Negotiation Skills with an Interactive Experience and Live Negotiations\n",
      "Final Examination\n",
      "Ratings: ['4.8']\n",
      "Evaluations: ['3']\n"
     ]
    },
    {
     "name": "stderr",
     "output_type": "stream",
     "text": [
      "\r",
      "113it [03:45,  2.10s/it]"
     ]
    },
    {
     "name": "stdout",
     "output_type": "stream",
     "text": [
      "Course Title:\n",
      "Introduction / What is the Pie?\n",
      "Negotiation Caselets\n",
      "Zincit Case\n",
      "Outpsider Case\n",
      "Advanced Topics\n",
      "Linda Babcock: Ask for It\n",
      "Herb Cohen: You Can Negotiate Anything\n",
      "John McCall MacBain: The Consummate Dealmaker\n",
      "Acknowledgments and Further Readings\n",
      "Ratings: ['5.0']\n",
      "Evaluations: ['1']\n"
     ]
    },
    {
     "name": "stderr",
     "output_type": "stream",
     "text": [
      "\r",
      "114it [03:47,  1.99s/it]"
     ]
    },
    {
     "name": "stdout",
     "output_type": "stream",
     "text": [
      "Course Title:\n",
      "Leading Teams: Developing as a Leader\n",
      "Leading Teams: Building Effective Team Cultures\n",
      "Designing the Organization\n",
      "Managing the Organization\n",
      "Business Strategy\n",
      "Corporate Strategy\n",
      "Strategic Leadership and Management Capstone\n",
      "Ratings: ['4.8', '4.8', '4.6', '4.7', '4.8', '4.7', '4.8']\n",
      "Evaluations: ['5', '2', '1', '1', '1', '1', '244']\n"
     ]
    },
    {
     "name": "stderr",
     "output_type": "stream",
     "text": [
      "\r",
      "115it [03:49,  1.92s/it]"
     ]
    },
    {
     "name": "stdout",
     "output_type": "stream",
     "text": [
      "Course Title:\n",
      "Course Overview\n",
      "Construction Industry Overview\n",
      "Project Delivery\n",
      "Lean Project Delivery\n",
      "Sustainability in the Construction Industry\n",
      "Environment, Health and Safety of Construction Processes\n",
      "Building Information Modeling and Technology Trends in Construction\n",
      "International View of Construction Projects\n",
      "Role of a Construction Manager\n",
      "Introduction to Project Planning\n",
      "Ratings: ['4.7']\n",
      "Evaluations: ['1']\n"
     ]
    },
    {
     "name": "stderr",
     "output_type": "stream",
     "text": [
      "\r",
      "116it [03:51,  1.86s/it]"
     ]
    },
    {
     "name": "stdout",
     "output_type": "stream",
     "text": [
      "Course Title:\n",
      "Introduction and Data Mining\n",
      "Process Models and Process Discovery\n",
      "Different Types of Process Models\n",
      "Process Discovery Techniques and Conformance Checking\n",
      "Enrichment of Process Models\n",
      "Operational Support and Conclusion\n",
      "Ratings: ['4.8']\n",
      "Evaluations: ['219']\n"
     ]
    },
    {
     "name": "stderr",
     "output_type": "stream",
     "text": [
      "\r",
      "117it [03:53,  1.86s/it]"
     ]
    },
    {
     "name": "stdout",
     "output_type": "stream",
     "text": [
      "Course Title:\n",
      " Introduction to Communication in Academic Culture \n",
      " Participating in University Discussion Contexts \n",
      "Interpreting, Researching & Planning Written Assignments\n",
      "Writing Effective & Concise Written Assignments\n",
      "Giving Persuasive & Engaging Presentations \n",
      "Summative Assignment\n",
      "Ratings: ['4.7']\n",
      "Evaluations: ['223', '223']\n"
     ]
    },
    {
     "name": "stderr",
     "output_type": "stream",
     "text": [
      "\r",
      "118it [03:54,  1.81s/it]"
     ]
    },
    {
     "name": "stdout",
     "output_type": "stream",
     "text": [
      "Course Title:\n",
      "Capstone Introduction \n",
      "Writing the Memo\n",
      "Designing the Slides\n",
      "Creating the Presentation\n",
      "The Final Push\n",
      "Ratings: ['4.8']\n",
      "Evaluations: ['32', '32']\n"
     ]
    },
    {
     "name": "stderr",
     "output_type": "stream",
     "text": [
      "\r",
      "119it [03:56,  1.90s/it]"
     ]
    },
    {
     "name": "stdout",
     "output_type": "stream",
     "text": [
      "Course Title:\n",
      "Introducing the Course\n",
      "What Is Performance? What Is Performance Studies?\n",
      "Performance Processes\n",
      "From Not-Performing to Performing\n",
      "Ritual\n",
      "Play\n",
      "Performing in the Paleolithic\n",
      "Ramlila of Ramnagar, India\n",
      "Performativity\n",
      "Constructing Social Roles\n",
      "Social Media \n",
      "Intercultural, Transcultural, Global \n",
      "Looking Back, Looking Forward\n",
      "Ratings: ['4.9']\n",
      "Evaluations: ['19']\n"
     ]
    },
    {
     "name": "stderr",
     "output_type": "stream",
     "text": [
      "\r",
      "120it [03:58,  1.76s/it]"
     ]
    },
    {
     "name": "stdout",
     "output_type": "stream",
     "text": [
      "Course Title:\n",
      "Foundations of Business Intelligence\n",
      "The Path to Insights: Data Models and Pipelines\n",
      "Decisions, Decisions: Dashboards and Reports\n",
      "Ratings: ['4.7', '4.7', '4.8']\n",
      "Evaluations: ['375', '136', '190']\n"
     ]
    },
    {
     "name": "stderr",
     "output_type": "stream",
     "text": [
      "\r",
      "121it [03:59,  1.74s/it]"
     ]
    },
    {
     "name": "stdout",
     "output_type": "stream",
     "text": [
      "Course Title:\n",
      "Ratings: []\n",
      "Evaluations: []\n"
     ]
    },
    {
     "name": "stderr",
     "output_type": "stream",
     "text": [
      "\r",
      "122it [04:01,  1.63s/it]"
     ]
    },
    {
     "name": "stdout",
     "output_type": "stream",
     "text": [
      "Course Title:\n",
      "Supply Chain Planning\n",
      "Inventory Management\n",
      "Supply Chain Optimization\n",
      "Ratings: ['4.6', '4.5']\n",
      "Evaluations: ['61', '54']\n"
     ]
    },
    {
     "name": "stderr",
     "output_type": "stream",
     "text": [
      "\r",
      "123it [04:03,  1.69s/it]"
     ]
    },
    {
     "name": "stdout",
     "output_type": "stream",
     "text": [
      "Course Title:\n",
      "Introduction to the Course\n",
      "Module 1: Forming Enforceable Agreements \n",
      "Module 2: Special Rules for Sales Contracts \n",
      "Module 3: Enforcing Agreements \n",
      "Module 4: Agency and Employment Law \n",
      "Ratings: ['4.8']\n",
      "Evaluations: ['381']\n"
     ]
    },
    {
     "name": "stderr",
     "output_type": "stream",
     "text": [
      "\r",
      "124it [04:05,  1.78s/it]"
     ]
    },
    {
     "name": "stdout",
     "output_type": "stream",
     "text": [
      "Course Title:\n",
      "Alternative Approaches to Managing Human Resources\n",
      "What Makes Employees Work? Money, Of Course!\n",
      "What Makes Employees Work Revisited...Non-Monetary Motivations\n",
      " The People Manager as Part of a Complex System\n",
      "Ratings: ['4.8']\n",
      "Evaluations: ['2']\n"
     ]
    },
    {
     "name": "stderr",
     "output_type": "stream",
     "text": [
      "\r",
      "125it [04:07,  2.07s/it]"
     ]
    },
    {
     "name": "stdout",
     "output_type": "stream",
     "text": [
      "Course Title:\n",
      "Course Preview and Intro\n",
      "Taking on a New Leadership Role\n",
      "Getting Oriented and Assessing Your Team\n",
      "Communication in an Age of Super Transparency\n",
      "Leading Collaboration\n",
      "Motivating and Inspiring\n",
      "Effective Governance\n",
      "Leading Change \n",
      "Managing Talent\n",
      " Leading in Crisis\n",
      "  Leading Innovation\n",
      " Leading Execution\n",
      " Public Life, Private Life\n",
      " Vision and the Role of Culture\n",
      "  Modern Theories of Leadership\n",
      "  A Study in Leadership Failure: The Financial Crisis (Part 1)\n",
      "A Study in Leadership Failure: The Financial Crisis (Part 2)\n",
      " Real Leadership Case Study: Lord John Browne, British Petroleum \n",
      " Synthesis - Leadership in 21st Century Organizations\n",
      "Ratings: ['4.8']\n",
      "Evaluations: ['276', '276']\n"
     ]
    },
    {
     "name": "stderr",
     "output_type": "stream",
     "text": [
      "\r",
      "126it [04:09,  2.08s/it]"
     ]
    },
    {
     "name": "stdout",
     "output_type": "stream",
     "text": [
      "Course Title:\n",
      "Week 1: Sustainability and the circular economy\n",
      "Week 2: Recycling and reverse logistics\n",
      "Week 3: Corporate social responsibility (CSR)\n",
      "Ratings: ['4.6']\n",
      "Evaluations: ['59']\n"
     ]
    },
    {
     "name": "stderr",
     "output_type": "stream",
     "text": [
      "\r",
      "127it [04:11,  1.87s/it]"
     ]
    },
    {
     "name": "stdout",
     "output_type": "stream",
     "text": [
      "Course Title:\n",
      "Managerial Accounting: Cost Behaviors, Systems, and Analysis\n",
      "Managerial Accounting: Tools for Facilitating and Guiding Business Decisions\n",
      "Operations Management: Organization and Analysis\n",
      "Operations Management: Quality and Supply Chain\n",
      "Developing a Winning Marketing Strategy\n",
      "Developing a Marketing Mix for Growth\n",
      "Ratings: ['4.7', '4.7', '4.6', '4.6', '4.8', '4.8']\n",
      "Evaluations: ['1', '589', '1', '1', '1', '690']\n"
     ]
    },
    {
     "name": "stderr",
     "output_type": "stream",
     "text": [
      "\r",
      "128it [04:13,  1.98s/it]"
     ]
    },
    {
     "name": "stdout",
     "output_type": "stream",
     "text": [
      "Course Title:\n",
      "Introduction to People Analytics, and Performance Evaluation\n",
      "Staffing\n",
      "Collaboration\n",
      "Talent Management and Future Directions\n",
      "Ratings: ['4.6']\n",
      "Evaluations: ['691', '691', '691']\n"
     ]
    },
    {
     "name": "stderr",
     "output_type": "stream",
     "text": [
      "\r",
      "129it [04:15,  1.86s/it]"
     ]
    },
    {
     "name": "stdout",
     "output_type": "stream",
     "text": [
      "Course Title:\n",
      "Remote Work Best Practices\n",
      "Managing Remote Teams\n",
      "Remote Adaptation Processes for Organizations\n",
      "Culture and Values for Distributed Teams \n",
      "Final Assignment: Outline your Remote Transition Plan\n",
      "Ratings: ['4.8']\n",
      "Evaluations: ['383', '383']\n"
     ]
    },
    {
     "name": "stderr",
     "output_type": "stream",
     "text": [
      "\r",
      "130it [04:17,  1.96s/it]"
     ]
    },
    {
     "name": "stdout",
     "output_type": "stream",
     "text": [
      "Course Title:\n",
      "Building Great Business Writing\n",
      "The Formula for Writing Success\n",
      "Crafting Powerful Writing\n",
      "Activate Your Voice!\n",
      "Ratings: ['4.8']\n",
      "Evaluations: ['1']\n"
     ]
    },
    {
     "name": "stderr",
     "output_type": "stream",
     "text": [
      "\r",
      "131it [04:18,  1.77s/it]"
     ]
    },
    {
     "name": "stdout",
     "output_type": "stream",
     "text": [
      "Course Title:\n",
      "A Technical Leader's Qualities and Effectiveness\n",
      "Challenges of Leading Individuals in the Tech Industry\n",
      "Challenges of Leading Technical Teams\n",
      "Ratings: []\n",
      "Evaluations: []\n"
     ]
    },
    {
     "name": "stderr",
     "output_type": "stream",
     "text": [
      "\r",
      "132it [04:20,  1.76s/it]"
     ]
    },
    {
     "name": "stdout",
     "output_type": "stream",
     "text": [
      "Course Title:\n",
      "Behavioral Insights as a Foundation\n",
      "Crafting Your Communication Strategy\n",
      "Designing for Context - Messaging & Creative That Resonates\n",
      "Tactics for Digital Media and Campaign Implementation\n",
      "Metrics that Matter: Understanding Impact\n",
      "Ratings: ['4.8']\n",
      "Evaluations: ['7']\n"
     ]
    },
    {
     "name": "stderr",
     "output_type": "stream",
     "text": [
      "\r",
      "133it [04:22,  1.74s/it]"
     ]
    },
    {
     "name": "stdout",
     "output_type": "stream",
     "text": [
      "Course Title:\n",
      "Project Management and the Role of the Project Manager\n",
      "Starting the Project: Project Scope\n",
      "Managing Stakeholders & Communications\n",
      "Forming & Leading the Project Team \n",
      "Ratings: ['4.8']\n",
      "Evaluations: ['88']\n"
     ]
    },
    {
     "name": "stderr",
     "output_type": "stream",
     "text": [
      "\r",
      "134it [04:25,  2.23s/it]"
     ]
    },
    {
     "name": "stdout",
     "output_type": "stream",
     "text": [
      "Course Title:\n",
      "Patient Safety and Quality Improvement: Developing a Systems View (Patient Safety I)\n",
      "Setting the Stage for Success: An Eye on Safety Culture and Teamwork (Patient Safety II)\n",
      "Planning a Patient Safety or Quality Improvement Project (Patient Safety III)\n",
      "Designing for Sustainment: Keeping Improvement Work on Track (Patient Safety IV)\n",
      "Implementing a Patient Safety or Quality Improvement Project (Patient Safety V)\n",
      "Measuring the Success of a Patient Safety or Quality Improvement Project (Patient Safety VI)\n",
      "Taking Safety and Quality Improvement Work to the Next Level (Patient Safety VII)\n",
      "Ratings: ['4.8', '4.8', '4.7', '4.6', '4.8', '4.7', '4.6']\n",
      "Evaluations: ['1', '404', '151', '78', '75', '76', '70']\n"
     ]
    },
    {
     "name": "stderr",
     "output_type": "stream",
     "text": [
      "\r",
      "135it [04:26,  2.01s/it]"
     ]
    },
    {
     "name": "stdout",
     "output_type": "stream",
     "text": [
      "Course Title:\n",
      "Essentials of Management and Strategic Planning\n",
      "Fundamentals of Finance\n",
      "Introduction to Digital Marketing\n",
      "Ratings: ['4.7', '4.8', '4.7']\n",
      "Evaluations: ['76', '66', '61']\n"
     ]
    },
    {
     "name": "stderr",
     "output_type": "stream",
     "text": [
      "\r",
      "136it [04:28,  1.92s/it]"
     ]
    },
    {
     "name": "stdout",
     "output_type": "stream",
     "text": [
      "Course Title:\n",
      "Communicate in Person: The Power of Face to Face Connections\n",
      "Meet and Talk Online\n",
      "Powerful Phone Talk\n",
      "Keys to a Strong Interview\n",
      "Put It All Together: Presentations\n",
      "Ratings: ['4.8']\n",
      "Evaluations: ['2']\n"
     ]
    },
    {
     "name": "stderr",
     "output_type": "stream",
     "text": [
      "\r",
      "137it [04:30,  1.98s/it]"
     ]
    },
    {
     "name": "stdout",
     "output_type": "stream",
     "text": [
      "Course Title:\n",
      "Be Aware: Understanding yourself and understanding how the voice works. \n",
      "Be Physical: the role of the body in speaking\n",
      "Be Connected: understanding your audience and how to connect  to them\n",
      "Be Impactful: Using emphasis for impact\n",
      "Ratings: ['4.8']\n",
      "Evaluations: ['37']\n"
     ]
    },
    {
     "name": "stderr",
     "output_type": "stream",
     "text": [
      "\r",
      "138it [04:32,  1.88s/it]"
     ]
    },
    {
     "name": "stdout",
     "output_type": "stream",
     "text": [
      "Course Title:\n",
      "Digitalisation in the Aerospace Industry\n",
      "Digitalisation in Space Research\n",
      "Digitalisation in Aeronautics\n",
      "Instructors\n",
      "Ratings: ['4.7', '4.7', '4.7']\n",
      "Evaluations: ['210', '79', '147']\n"
     ]
    },
    {
     "name": "stderr",
     "output_type": "stream",
     "text": [
      "\r",
      "139it [04:34,  1.83s/it]"
     ]
    },
    {
     "name": "stdout",
     "output_type": "stream",
     "text": [
      "Course Title:\n",
      "Write to Share and Achieve Your Goals  \n",
      "Write a Proposal and Get Results\n",
      "Write Clear and Complete Reports\n",
      "Write and Design Powerful Slides for Powerful Presentations\n",
      "Ratings: ['4.8']\n",
      "Evaluations: ['183']\n"
     ]
    },
    {
     "name": "stderr",
     "output_type": "stream",
     "text": [
      "\r",
      "140it [04:36,  1.90s/it]"
     ]
    },
    {
     "name": "stdout",
     "output_type": "stream",
     "text": [
      "Course Title:\n",
      "Basic Principles of Listening\n",
      "Module 2: Listening Strategies\n",
      "Basic Principles of Speaking\n",
      "Speaking Strategies\n",
      "Teaching Pronunciation\n",
      "Assessment \n",
      "Ratings: ['4.8']\n",
      "Evaluations: ['293', '293']\n"
     ]
    },
    {
     "name": "stderr",
     "output_type": "stream",
     "text": [
      "\r",
      "141it [04:40,  2.72s/it]"
     ]
    },
    {
     "name": "stdout",
     "output_type": "stream",
     "text": [
      "Course Title:\n",
      "Low Intermediate English: Meet & Greet\n",
      "Low Intermediate English: Calls & Messaging\n",
      "Low Intermediate English: Help & Information\n",
      "Low Intermediate English: Planning & Organization\n",
      "Low Intermediate English: Shopping & Customer Service\n",
      "Low Intermediate English: Technology\n",
      "Low Intermediate English: Personal Growth & Well-Being\n",
      "Ratings: ['4.6', '4.7', '4.6']\n",
      "Evaluations: ['164', '224', '11']\n"
     ]
    },
    {
     "name": "stderr",
     "output_type": "stream",
     "text": [
      "\r",
      "142it [04:42,  2.33s/it]"
     ]
    },
    {
     "name": "stdout",
     "output_type": "stream",
     "text": [
      "Course Title:\n",
      "Getting Started with Public Speaking\n",
      "A Formula For Successful Presentation\n",
      "Practicing Your Self\n",
      "Engaging with the World\n",
      "Ratings: ['4.8']\n",
      "Evaluations: ['1']\n"
     ]
    },
    {
     "name": "stderr",
     "output_type": "stream",
     "text": [
      "\r",
      "143it [04:44,  2.21s/it]"
     ]
    },
    {
     "name": "stdout",
     "output_type": "stream",
     "text": [
      "Course Title:\n",
      "What is Skills Management?\n",
      "The Quantified Self\n",
      "Skills Management in Action: Part One\n",
      "Skills Management in Action: Part Two\n",
      "Build And Test Drive Your Own Skills Management Tool (Optional Honors Lesson)\n",
      "Finish The Course and Start Managing Your Skills Today!\n",
      "Ratings: ['4.3']\n",
      "Evaluations: ['48', '48']\n"
     ]
    },
    {
     "name": "stderr",
     "output_type": "stream",
     "text": [
      "\r",
      "144it [04:46,  2.26s/it]"
     ]
    },
    {
     "name": "stdout",
     "output_type": "stream",
     "text": [
      "Course Title:\n",
      "Creating A Positive First Impression\n",
      "Becoming A Role Model In The Workplace\n",
      "Effective Time and Resource Management\n",
      "Networking\n",
      "Ratings: ['4.8']\n",
      "Evaluations: ['135']\n"
     ]
    },
    {
     "name": "stderr",
     "output_type": "stream",
     "text": [
      "\r",
      "145it [04:48,  2.10s/it]"
     ]
    },
    {
     "name": "stdout",
     "output_type": "stream",
     "text": [
      "Course Title:\n",
      "Supervised Machine Learning: Regression and Classification \n",
      "Advanced Learning Algorithms\n",
      "Unsupervised Learning, Recommenders, Reinforcement Learning\n",
      "Ratings: ['4.9', '4.9', '4.9']\n",
      "Evaluations: ['12', '3', '1']\n"
     ]
    },
    {
     "name": "stderr",
     "output_type": "stream",
     "text": [
      "\r",
      "146it [04:51,  2.32s/it]"
     ]
    },
    {
     "name": "stdout",
     "output_type": "stream",
     "text": [
      "Course Title:\n",
      "LEADERSHIP ACUMEN\n",
      "NAVIGATING CULTURE\n",
      "COMMUNICATING EFFECTIVELY\n",
      "MOTIVATING FOLLOWERS\n",
      "BUILDING PROFESSIONAL NETWORKS\n",
      "MANAGING CONFLICTS\n",
      "Ratings: ['4.8']\n",
      "Evaluations: ['940']\n"
     ]
    },
    {
     "name": "stderr",
     "output_type": "stream",
     "text": [
      "\r",
      "147it [04:52,  2.04s/it]"
     ]
    },
    {
     "name": "stdout",
     "output_type": "stream",
     "text": [
      "Course Title:\n",
      "Module 1 – Introduction to ESG Factors and Concepts\n",
      "Module 2 – History and Flavors of ESG Investing\n",
      "Module 3 – ESG Data\n",
      "Module 4 – ESG Management at the Firm-Level\n",
      "Ratings: ['4.7']\n",
      "Evaluations: ['188']\n"
     ]
    },
    {
     "name": "stderr",
     "output_type": "stream",
     "text": [
      "\r",
      "148it [04:54,  1.95s/it]"
     ]
    },
    {
     "name": "stdout",
     "output_type": "stream",
     "text": [
      "Course Title:\n",
      "Introduction to complex data relationships\n",
      "Simple linear regression\n",
      "Multiple linear regression\n",
      "Advanced hypothesis testing\n",
      "Logistic regression\n",
      "Course 5 end-of-course project\n",
      "Ratings: ['4.5']\n",
      "Evaluations: ['25']\n"
     ]
    },
    {
     "name": "stderr",
     "output_type": "stream",
     "text": [
      "\r",
      "149it [04:55,  1.75s/it]"
     ]
    },
    {
     "name": "stdout",
     "output_type": "stream",
     "text": [
      "Course Title:\n",
      "Effective Sales – An Overview\n",
      "Sales Strategy\n",
      "Models & Frameworks to Support Sales Planning \n",
      "Sales & Marketing Alignment\n",
      "Strategic Sales Management Final Project\n",
      "Ratings: ['4.6', '4.5', '4.5', '4.7', '4.5']\n",
      "Evaluations: ['233', '157', '61', '68', '24']\n"
     ]
    },
    {
     "name": "stderr",
     "output_type": "stream",
     "text": [
      "\r",
      "150it [04:58,  2.18s/it]"
     ]
    },
    {
     "name": "stdout",
     "output_type": "stream",
     "text": [
      "Course Title:\n",
      "Sequences and Prediction\n",
      "Deep Neural Networks for Time Series\n",
      "Recurrent Neural Networks for Time Series\n",
      "Real-world time series data\n",
      "Ratings: ['4.7']\n",
      "Evaluations: ['710']\n"
     ]
    },
    {
     "name": "stderr",
     "output_type": "stream",
     "text": [
      "\r",
      "151it [05:04,  3.24s/it]"
     ]
    },
    {
     "name": "stdout",
     "output_type": "stream",
     "text": [
      "Course Title:\n",
      "Business intelligence visualizations\n",
      "Visualize results\n",
      "Automate and monitor\n",
      "Present business intelligence insights\n",
      "Course 3 end-of-course project\n",
      "Put your Google Business Intelligence Certificate to work\n",
      "Ratings: ['4.8']\n",
      "Evaluations: ['63']\n"
     ]
    },
    {
     "name": "stderr",
     "output_type": "stream",
     "text": [
      "\r",
      "152it [05:06,  2.91s/it]"
     ]
    },
    {
     "name": "stdout",
     "output_type": "stream",
     "text": [
      "Course Title:\n",
      "Why Smart Executives Fail: Common Mistakes & Warning Signs\n",
      "Decision-Making: Blending Art & Science\n",
      "Superbosses: Managing Talent & Leadership\n",
      "Lessons on Wisdom: Personal Leadership for Your Life\n",
      "Ratings: ['4.9', '4.8', '4.9', '5.0']\n",
      "Evaluations: ['169', '67', '58', '27']\n"
     ]
    },
    {
     "name": "stderr",
     "output_type": "stream",
     "text": [
      "\r",
      "153it [05:08,  2.60s/it]"
     ]
    },
    {
     "name": "stdout",
     "output_type": "stream",
     "text": [
      "Course Title:\n",
      "The Power of Team Culture\n",
      "Building High-Performing Teams\n",
      "Optimizing Diversity on Teams\n",
      "Creating a Team Culture of Continuous Learning\n",
      "Culture-Driven Team Building Capstone \n",
      "Ratings: ['4.6', '4.8', '4.4', '4.6', '4.8']\n",
      "Evaluations: ['448', '303', '149', '154', '23']\n"
     ]
    },
    {
     "name": "stderr",
     "output_type": "stream",
     "text": [
      "\r",
      "154it [05:10,  2.55s/it]"
     ]
    },
    {
     "name": "stdout",
     "output_type": "stream",
     "text": [
      "Course Title:\n",
      "Unsupervised learning\n",
      "Recommender systems\n",
      "Reinforcement learning\n",
      "Ratings: ['5.0']\n",
      "Evaluations: ['516', '516', '516']\n"
     ]
    },
    {
     "name": "stderr",
     "output_type": "stream",
     "text": [
      "\r",
      "155it [05:12,  2.24s/it]"
     ]
    },
    {
     "name": "stdout",
     "output_type": "stream",
     "text": [
      "Course Title:\n",
      "Week 1: Neural Architecture Search \n",
      "Week 2: Model Resource Management Techniques\n",
      "Week 3: High-Performance Modeling \n",
      "Week 4: Model Analysis\n",
      "Week 5: Interpretability\n",
      "Ratings: ['4.3']\n",
      "Evaluations: ['90']\n"
     ]
    },
    {
     "name": "stderr",
     "output_type": "stream",
     "text": [
      "\r",
      "156it [05:14,  2.04s/it]"
     ]
    },
    {
     "name": "stdout",
     "output_type": "stream",
     "text": [
      "Course Title:\n",
      "Les enjeux du reporting extra-financier\n",
      "Qualifier ses impacts\n",
      "Mesurer sa performance sociale et environnementale et en rendre compte\n",
      "Les nouvelles frontières du reporting extra-financier\n",
      "Ratings: ['4.7']\n",
      "Evaluations: ['97']\n"
     ]
    },
    {
     "name": "stderr",
     "output_type": "stream",
     "text": [
      "\r",
      "157it [05:15,  2.01s/it]"
     ]
    },
    {
     "name": "stdout",
     "output_type": "stream",
     "text": [
      "Course Title:\n",
      "Introduction to Applied Computational Fluid Dynamics\n",
      "Flows in Diffusors and Nozzles\n",
      "Secondary and Vortex Flows\n",
      "Flows Around a Circular Cylinder\n",
      "Flows with Heat Transfer\n",
      "Ratings: ['4.5']\n",
      "Evaluations: ['15']\n"
     ]
    },
    {
     "name": "stderr",
     "output_type": "stream",
     "text": [
      "\r",
      "158it [05:17,  1.87s/it]"
     ]
    },
    {
     "name": "stdout",
     "output_type": "stream",
     "text": [
      "Course Title:\n",
      "O que é marketing digital?\n",
      "Tipos de canais e SEM\n",
      "SEO e Facebook Ads\n",
      "Email Marketing e Growth Hacks\n",
      "Medir, Testar e Iterar\n",
      "Ratings: ['4.8']\n",
      "Evaluations: ['370', '370']\n"
     ]
    },
    {
     "name": "stderr",
     "output_type": "stream",
     "text": [
      "\r",
      "159it [05:20,  2.22s/it]"
     ]
    },
    {
     "name": "stdout",
     "output_type": "stream",
     "text": [
      "Course Title:\n",
      "Course Information Documents\n",
      "Module 1 - Introduction to Home Health Care\n",
      "Module 2 - Working Effectively with Home Care Clients\n",
      "Module 3 - Working with the Elderly\n",
      "Module 4 - Working with Children\n",
      "Module 5 - Working with People Who Are Mentally Ill\n",
      "Module 6 - Working with People with Developmental Disabilities\n",
      "Module 7 - Working with People with Physical Disabilities\n",
      "Module 8 - Food, Nutrition, and Meal Preparation\n",
      "Module 9 - Family Spending and Budgeting \n",
      "Module 10 - Care of the Home and Personal Belongings\n",
      " Module 11 - Safety and Injury Prevention \n",
      "Module 12 - Personal Care\n",
      "Ratings: ['4.8']\n",
      "Evaluations: ['137', '137', '137']\n"
     ]
    },
    {
     "name": "stderr",
     "output_type": "stream",
     "text": [
      "\r",
      "160it [05:23,  2.29s/it]"
     ]
    },
    {
     "name": "stdout",
     "output_type": "stream",
     "text": [
      "Course Title:\n",
      "EMT Foundations\n",
      "Medical Emergencies: Airway, Breathing, and Circulation\n",
      "Medical Emergencies: CPR, Toxicology, and Wilderness\n",
      "Trauma Emergencies and Care\n",
      "Emergency Care: Pregnancy, Infants, and Children\n",
      "Prepare for the EMT Certification Test\n",
      "Instructors\n",
      "Ratings: ['4.8', '4.8', '4.8', '4.8', '4.8', '4.7']\n",
      "Evaluations: ['983', '729', '446', '420', '276', '92']\n"
     ]
    },
    {
     "name": "stderr",
     "output_type": "stream",
     "text": [
      "\r",
      "161it [05:25,  2.25s/it]"
     ]
    },
    {
     "name": "stdout",
     "output_type": "stream",
     "text": [
      "Course Title:\n",
      "Managing as a Coach\n",
      "Setting Expectations & Assessing Performance Issues\n",
      "Coaching Practices\n",
      "Coaching Conversations\n",
      "Ratings: ['4.7', '4.7', '4.7', '4.7']\n",
      "Evaluations: ['1', '572', '456', '275']\n"
     ]
    },
    {
     "name": "stderr",
     "output_type": "stream",
     "text": [
      "\r",
      "162it [05:27,  2.16s/it]"
     ]
    },
    {
     "name": "stdout",
     "output_type": "stream",
     "text": [
      "Course Title:\n",
      "Generative Design for Additive Manufacturing\n",
      "Generative Design for Performance and Weight Reduction\n",
      "Generative Design for Industrial Applications\n",
      "Generative Design for Part Consolidation\n",
      "Ratings: ['4.8', '4.8', '4.8', '4.9']\n",
      "Evaluations: ['248', '89', '85', '60']\n"
     ]
    },
    {
     "name": "stderr",
     "output_type": "stream",
     "text": [
      "\r",
      "163it [05:30,  2.47s/it]"
     ]
    },
    {
     "name": "stdout",
     "output_type": "stream",
     "text": [
      "Course Title:\n",
      "Course Overview\n",
      "Module 1: Statistical Thinking and Problem Solving\n",
      "Module 2A: Exploratory Data Analysis, Part 1\n",
      "Module 2B: Exploratory Data Analysis, Part 2\n",
      "Module 3: Quality Methods\n",
      "Module 4: Decision Making with Data\n",
      "Module 5: Correlation and Regression\n",
      "Module 6: Design of Experiments (DOE)\n",
      "Module 7: Predictive Modeling and Text Mining\n",
      "Review Questions and Case Studies\n",
      "Ratings: ['4.8']\n",
      "Evaluations: ['27', '27']\n"
     ]
    },
    {
     "name": "stderr",
     "output_type": "stream",
     "text": [
      "\r",
      "164it [05:32,  2.35s/it]"
     ]
    },
    {
     "name": "stdout",
     "output_type": "stream",
     "text": [
      "Course Title:\n",
      "Influencer Marketing Strategy\n",
      "Content Marketing Strategy\n",
      "How To Find Influencers.\n",
      "How To Engage Influencers.\n",
      "How To Measure Influencer Marketing.\n",
      "Influencer Campaigns.\n",
      "Ratings: ['4.3']\n",
      "Evaluations: ['53']\n"
     ]
    },
    {
     "name": "stderr",
     "output_type": "stream",
     "text": [
      "\r",
      "165it [05:34,  2.27s/it]"
     ]
    },
    {
     "name": "stdout",
     "output_type": "stream",
     "text": [
      "Course Title:\n",
      "Module 0: Welcome to the Self-Driving Cars Specialization!\n",
      "Module 1: The Requirements for Autonomy\n",
      "Module 2: Self-Driving Hardware and Software Architectures\n",
      "Module 3: Safety Assurance for Autonomous Vehicles\n",
      "Module 4: Vehicle Dynamic Modeling\n",
      "Module 5: Vehicle Longitudinal Control\n",
      "Module 6: Vehicle Lateral Control\n",
      "Module 7: Putting it all together\n",
      "Ratings: ['4.8']\n",
      "Evaluations: ['627', '627']\n"
     ]
    },
    {
     "name": "stderr",
     "output_type": "stream",
     "text": [
      "\r",
      "166it [05:37,  2.41s/it]"
     ]
    },
    {
     "name": "stdout",
     "output_type": "stream",
     "text": [
      "Course Title:\n",
      "Data-Driven Process Improvement\n",
      "Data Analysis and Visualization\n",
      "Applied Analytics and Data for Decision Making\n",
      "Instructors\n",
      "Ratings: ['4.6', '4.7', '4.6']\n",
      "Evaluations: ['171', '94', '83']\n"
     ]
    },
    {
     "name": "stderr",
     "output_type": "stream",
     "text": [
      "\r",
      "167it [05:39,  2.26s/it]"
     ]
    },
    {
     "name": "stdout",
     "output_type": "stream",
     "text": [
      "Course Title:\n",
      "Re-opening Introduction \n",
      "Introduction to Value, Value Creation, and Supply Chain Management\n",
      "Management Capability\n",
      "Learning Perspective\n",
      "Quality Management\n",
      "New Product Innovation\n",
      "Supply Chain Strategy I: Structural and Infrastructural Dimensions\n",
      "Supply Chain Strategy II: Coordination for Value Creation\n",
      "Supply Chain Globalization and Sustainability\n",
      "Final Exam\n",
      "Ratings: ['4.7']\n",
      "Evaluations: ['407']\n"
     ]
    },
    {
     "name": "stderr",
     "output_type": "stream",
     "text": [
      "\r",
      "168it [05:41,  2.43s/it]"
     ]
    },
    {
     "name": "stdout",
     "output_type": "stream",
     "text": [
      "Course Title:\n",
      "Re-imagining change 1: The change problem\n",
      "Re-imagining change 2: Icebergs & death valleys\n",
      "Creating a change cycle 1: Maps & orientation\n",
      "Creating a change cycle 2: Masks & performance\n",
      "Creating a change cycle 3: Mirrors & reflection\n",
      "Leading change: Mindful & mobilising\n",
      "Ratings: ['4.8']\n",
      "Evaluations: ['394', '394']\n"
     ]
    },
    {
     "name": "stderr",
     "output_type": "stream",
     "text": [
      "\r",
      "169it [05:43,  2.11s/it]"
     ]
    },
    {
     "name": "stdout",
     "output_type": "stream",
     "text": [
      "Course Title:\n",
      "Introduction to Large Language Models\n",
      "Ratings: ['4.5']\n",
      "Evaluations: ['16']\n"
     ]
    },
    {
     "name": "stderr",
     "output_type": "stream",
     "text": [
      "\r",
      "170it [05:44,  1.95s/it]"
     ]
    },
    {
     "name": "stdout",
     "output_type": "stream",
     "text": [
      "Course Title:\n",
      "Becoming a Visionary Leader\n",
      "Setting Effective Goals and Expectations\n",
      "Understanding Human Needs and Drivers of Performance Across Cultures\n",
      "Aligning Rewards and Behavior\n",
      "Ratings: ['4.8']\n",
      "Evaluations: ['827']\n"
     ]
    },
    {
     "name": "stderr",
     "output_type": "stream",
     "text": [
      "\r",
      "171it [05:46,  1.77s/it]"
     ]
    },
    {
     "name": "stdout",
     "output_type": "stream",
     "text": [
      "Course Title:\n",
      "Introduction to the Nonprofit Sector, Nonprofit Organizations, Nonprofit Leadership and Governance\n",
      "The Roles and Responsibilities of Nonprofit Boards of Directors within the Governance Process\n",
      "The Factors that Influence the Effectiveness of Boards and the Governance Process\n",
      "Capstone - Managing Board Change for Higher Levels of Leadership and Governance Effectiveness \n",
      "Instructors\n",
      "Ratings: ['4.4', '4.4', '4.6']\n",
      "Evaluations: ['183', '59', '47']\n"
     ]
    },
    {
     "name": "stderr",
     "output_type": "stream",
     "text": [
      "\r",
      "172it [05:47,  1.60s/it]"
     ]
    },
    {
     "name": "stdout",
     "output_type": "stream",
     "text": [
      "Course Title:\n",
      "Electrical Power Generation - An Industrial Outlook\n",
      "Basics of Electrical Protection System\n",
      "Advanced Study of Protection Schemes and Switchgear\n",
      "Ratings: ['4.8', '4.4']\n",
      "Evaluations: ['20', '14']\n"
     ]
    },
    {
     "name": "stderr",
     "output_type": "stream",
     "text": [
      "\r",
      "173it [05:48,  1.57s/it]"
     ]
    },
    {
     "name": "stdout",
     "output_type": "stream",
     "text": [
      "Course Title:\n",
      "Preparing to Manage Human Resources\n",
      "Recruiting, Hiring, and Onboarding Employees\n",
      "Managing Employee Performance\n",
      "Managing Employee Compensation\n",
      "Human Resources Management Capstone: HR for People Managers\n",
      "Ratings: ['4.8', '4.7', '4.7', '4.7', '4.8']\n",
      "Evaluations: ['9', '4', '2', '1', '644']\n"
     ]
    },
    {
     "name": "stderr",
     "output_type": "stream",
     "text": [
      "\r",
      "174it [05:50,  1.61s/it]"
     ]
    },
    {
     "name": "stdout",
     "output_type": "stream",
     "text": [
      "Course Title:\n",
      "INTRODUÇÃO ÀS TI\n",
      "Hardware\n",
      "Sistema operativo\n",
      "Trabalhar em rede\n",
      "Software\n",
      "Resolução de problemas\n",
      "Ratings: ['4.9']\n",
      "Evaluations: ['20']\n"
     ]
    },
    {
     "name": "stderr",
     "output_type": "stream",
     "text": [
      "\r",
      "175it [05:52,  1.60s/it]"
     ]
    },
    {
     "name": "stdout",
     "output_type": "stream",
     "text": [
      "Course Title:\n",
      "Self-awareness at the organization level\n",
      "Building quality relationships in the organization\n",
      "Building resilience for the organization\n",
      "Creating sense for the organization\n",
      "Ratings: ['4.6']\n",
      "Evaluations: ['27']\n"
     ]
    },
    {
     "name": "stderr",
     "output_type": "stream",
     "text": [
      "\r",
      "176it [05:54,  1.74s/it]"
     ]
    },
    {
     "name": "stdout",
     "output_type": "stream",
     "text": [
      "Course Title:\n",
      "Introduction to Academic Reading and Writing\n",
      "Literature Review and Referencing\n",
      "Writing Policy Briefs and Writing for Popular Media  \n",
      "Dissertation Writing\n",
      "Ratings: ['4.9']\n",
      "Evaluations: ['10']\n"
     ]
    },
    {
     "name": "stderr",
     "output_type": "stream",
     "text": [
      "\r",
      "177it [05:56,  1.75s/it]"
     ]
    },
    {
     "name": "stdout",
     "output_type": "stream",
     "text": [
      "Course Title:\n",
      "Introduction to Android Mobile Application Development \n",
      "Version Control\n",
      "Programming Fundamentals in Kotlin\n",
      "Principles of UX/UI Design\n",
      "Create the User Interface in Android Studio\n",
      "Advanced Programming in Kotlin\n",
      "Working with Data in Android\n",
      "Mobile Development and JavaScript\n",
      "React Basics\n",
      "React Native\n",
      "Android App Capstone \n",
      "Coding Interview Preparation\n",
      "Ratings: ['4.6', '4.7', '4.7', '4.7', '4.9', '4.7', '4.7', '4.6', '4.7', '4.8', '4.7', '4.7']\n",
      "Evaluations: ['742', '2', '153', '363', '52', '37', '23', '47', '1', '123', '15', '206']\n"
     ]
    },
    {
     "name": "stderr",
     "output_type": "stream",
     "text": [
      "\r",
      "178it [05:57,  1.74s/it]"
     ]
    },
    {
     "name": "stdout",
     "output_type": "stream",
     "text": [
      "Course Title:\n",
      "Introduction to iOS Mobile Application Development\n",
      "Version Control\n",
      "Programming Fundamentals in Swift\n",
      "Principles of UX/UI Design\n",
      "Create the User Interface with SwiftUI\n",
      "Advanced Programming in Swift\n",
      "Working with Data in iOS\n",
      "Mobile Development and JavaScript\n",
      "React Basics\n",
      "React Native\n",
      "iOS App Capstone\n",
      "Coding Interview Preparation\n",
      "Ratings: ['4.7', '4.7', '4.7', '4.7', '4.7', '4.8', '4.3', '4.6', '4.7', '4.8', '4.4', '4.7']\n",
      "Evaluations: ['598', '2', '141', '363', '55', '41', '20', '47', '1', '123', '14', '206']\n"
     ]
    },
    {
     "name": "stderr",
     "output_type": "stream",
     "text": [
      "\r",
      "179it [05:59,  1.78s/it]"
     ]
    },
    {
     "name": "stdout",
     "output_type": "stream",
     "text": [
      "Course Title:\n",
      "Welcome!\n",
      "Our development model is ecologically unsustainable \n",
      "The dominant economic models hinder the energy and ecological transition\n",
      "The energy transition path: decarbonizing GDP\n",
      "The model of an ecological transition to new prosperity\n",
      "Governance of the energy and ecological transition\n",
      "Financing the energy and ecological transition\n",
      "Ratings: ['4.9']\n",
      "Evaluations: ['10', '10']\n"
     ]
    },
    {
     "name": "stderr",
     "output_type": "stream",
     "text": [
      "\r",
      "180it [06:01,  1.82s/it]"
     ]
    },
    {
     "name": "stdout",
     "output_type": "stream",
     "text": [
      "Course Title:\n",
      "人事与聘雇的决策 Staffing and Hiring Decisions \n",
      "商务会议管理 Meeting Management\n",
      "领导与团队合作 Leading and Teaming\n",
      "规划、组织与委派 Planning, Organizing, and Delegating\n",
      "管理与指导 Managing and Coaching\n",
      "回顾 Review\n",
      "Ratings: []\n",
      "Evaluations: []\n"
     ]
    },
    {
     "name": "stderr",
     "output_type": "stream",
     "text": [
      "\r",
      "181it [06:03,  1.73s/it]"
     ]
    },
    {
     "name": "stdout",
     "output_type": "stream",
     "text": [
      "Course Title:\n",
      "Module 1:  Engaging Diverse Team Members\n",
      "Module 2:  Conflict Management\n",
      "Module 3:  Collaboration and Influencing\n",
      "Ratings: []\n",
      "Evaluations: []\n"
     ]
    },
    {
     "name": "stderr",
     "output_type": "stream",
     "text": [
      "\r",
      "182it [06:06,  2.12s/it]"
     ]
    },
    {
     "name": "stdout",
     "output_type": "stream",
     "text": [
      "Course Title:\n",
      "Welcome to the Course\n",
      "Music and Atmosphere\n",
      "Music and Identity\n",
      "Music and Politics\n",
      "Music and Ethics\n",
      "Ratings: ['4.3']\n",
      "Evaluations: ['7', '7']\n"
     ]
    },
    {
     "name": "stderr",
     "output_type": "stream",
     "text": [
      "\r",
      "183it [06:07,  1.92s/it]"
     ]
    },
    {
     "name": "stdout",
     "output_type": "stream",
     "text": [
      "Course Title:\n",
      "Week 1 |Tact: Concepts\n",
      "Week 2 | Tact: Speaking Stories\n",
      "Week 3 | Tact: Speaking Studies\n",
      "Week 4 | Joining the Club\n",
      "Ratings: ['4.8']\n",
      "Evaluations: ['7']\n"
     ]
    },
    {
     "name": "stderr",
     "output_type": "stream",
     "text": [
      "\r",
      "184it [06:09,  1.83s/it]"
     ]
    },
    {
     "name": "stdout",
     "output_type": "stream",
     "text": [
      "Course Title:\n",
      "Introduction and General Course Information\n",
      "WARM-UP PROJECTS (Choose Three)\n",
      "INTERMEDIATE PROJECTS (Choose Three)\n",
      "MAIN PROJECTS (Choose Three)\n",
      "For Honors!\n",
      "Ratings: ['4.9']\n",
      "Evaluations: ['72']\n"
     ]
    },
    {
     "name": "stderr",
     "output_type": "stream",
     "text": [
      "\r",
      "185it [06:11,  1.91s/it]"
     ]
    },
    {
     "name": "stdout",
     "output_type": "stream",
     "text": [
      "Course Title:\n",
      "Starting to write: Understanding  definitions of identity \n",
      " Developing an argument: shifting identities        \n",
      "Supporting the argument: situating identity within culture\n",
      "Starting to finish: writing the first draft \n",
      "Ratings: ['4.7']\n",
      "Evaluations: ['68', '68', '68']\n"
     ]
    },
    {
     "name": "stderr",
     "output_type": "stream",
     "text": [
      "\r",
      "186it [06:12,  1.82s/it]"
     ]
    },
    {
     "name": "stdout",
     "output_type": "stream",
     "text": [
      "Course Title:\n",
      "Lean Fundamentals\n",
      "Kanban, Value Steam Mapping and Kaizen\n",
      "Lean Startup\n",
      "Design Thinking\n",
      "Ratings: ['4.6']\n",
      "Evaluations: ['52']\n"
     ]
    },
    {
     "name": "stderr",
     "output_type": "stream",
     "text": [
      "\r",
      "187it [06:14,  1.79s/it]"
     ]
    },
    {
     "name": "stdout",
     "output_type": "stream",
     "text": [
      "Course Title:\n",
      "Staffing and Hiring Decisions\n",
      "Meeting Management\n",
      "Leading and Teaming\n",
      "Planning, Organizing, and Delegating\n",
      "Managing and Coaching\n",
      "Review\n",
      "Ratings: ['4.7']\n",
      "Evaluations: ['355', '355', '355']\n"
     ]
    },
    {
     "name": "stderr",
     "output_type": "stream",
     "text": [
      "\r",
      "188it [06:17,  2.08s/it]"
     ]
    },
    {
     "name": "stdout",
     "output_type": "stream",
     "text": [
      "Course Title:\n",
      "Decisiones para dotación y contratación de personal / Staffing and Hiring Decisions\n",
      "Gestión de reuniones / Meeting Management\n",
      "Liderazgo y trabajo en equipo / Leading and Teaming\n",
      "Planificar, organizar, y delegar / Planning, Organizing, and Delegating\n",
      "Dirigir y entrenar / Managing and Coaching\n",
      "Revisión  /  Review\n",
      "Ratings: ['4.8']\n",
      "Evaluations: ['507', '507']\n"
     ]
    },
    {
     "name": "stderr",
     "output_type": "stream",
     "text": [
      "\r",
      "189it [06:19,  2.23s/it]"
     ]
    },
    {
     "name": "stdout",
     "output_type": "stream",
     "text": [
      "Course Title:\n",
      "Definition, global context and international sustainability frameworks \n",
      "Actors of change, environment and climate change \n",
      "Inclusive economic growth, sustainability and sustainable finance \n",
      "Sustainability measurement and reporting \n",
      "Ratings: ['4.9']\n",
      "Evaluations: ['8']\n"
     ]
    },
    {
     "name": "stderr",
     "output_type": "stream",
     "text": [
      "\r",
      "190it [06:23,  2.62s/it]"
     ]
    },
    {
     "name": "stdout",
     "output_type": "stream",
     "text": [
      "Course Title:\n",
      "Maternal and Newborn Health\n",
      "Quality Maternal and Newborn Care & the Midwifery Model of Care\n",
      "Care Delivery\n",
      "Care Organization\n",
      "Care Values\n",
      "Care Philosophy\n",
      "Care Providers\n",
      "Policy and Advocacy\n",
      "Ratings: ['4.8']\n",
      "Evaluations: ['105', '105']\n"
     ]
    },
    {
     "name": "stderr",
     "output_type": "stream",
     "text": [
      "\r",
      "191it [06:25,  2.40s/it]"
     ]
    },
    {
     "name": "stdout",
     "output_type": "stream",
     "text": [
      "Course Title:\n",
      " Introduction to Communication in Academic Culture \n",
      " Participating in University Discussion Contexts \n",
      "Interpreting, Researching & Planning Written Assignments\n",
      "Writing Effective & Concise Written Assignments\n",
      "Giving Persuasive & Engaging Presentations \n",
      "Summative Assignment\n",
      "Ratings: ['4.7']\n",
      "Evaluations: ['223', '223']\n"
     ]
    },
    {
     "name": "stderr",
     "output_type": "stream",
     "text": [
      "\r",
      "192it [06:26,  2.08s/it]"
     ]
    },
    {
     "name": "stdout",
     "output_type": "stream",
     "text": [
      "Course Title:\n",
      "Speaking and Presenting: Poise\n",
      "Speaking and Presenting: Pitches and Persuasion\n",
      "Speaking and Presenting: Conversation Starters\n",
      "Speaking and Presenting: Tact\n",
      "Ratings: ['4.6', '4.6', '4.7', '4.7']\n",
      "Evaluations: ['110', '46', '23', '21']\n"
     ]
    },
    {
     "name": "stderr",
     "output_type": "stream",
     "text": [
      "\r",
      "193it [06:28,  2.03s/it]"
     ]
    },
    {
     "name": "stdout",
     "output_type": "stream",
     "text": [
      "Course Title:\n",
      "Interpersonal Skills\n",
      "Ratings: ['4.8']\n",
      "Evaluations: ['50']\n"
     ]
    },
    {
     "name": "stderr",
     "output_type": "stream",
     "text": [
      "\r",
      "194it [06:30,  2.08s/it]"
     ]
    },
    {
     "name": "stdout",
     "output_type": "stream",
     "text": [
      "Course Title:\n",
      "Introduction to Front-End Development\n",
      "Programming with JavaScript\n",
      "Version Control\n",
      "HTML and CSS in depth\n",
      "React Basics\n",
      "Advanced React\n",
      "Principles of UX/UI Design\n",
      "Front-End Developer Capstone \n",
      "Coding Interview Preparation\n",
      "Ratings: ['4.8', '4.7', '4.7', '4.7', '4.7', '4.6', '4.7', '4.5', '4.7']\n",
      "Evaluations: ['7', '2', '2', '899', '1', '545', '363', '155', '206']\n"
     ]
    },
    {
     "name": "stderr",
     "output_type": "stream",
     "text": [
      "\r",
      "195it [06:32,  1.92s/it]"
     ]
    },
    {
     "name": "stdout",
     "output_type": "stream",
     "text": [
      "Course Title:\n",
      "Introduction to Databases\n",
      "Version Control\n",
      "Database Structures and Management with MySQL\n",
      "Advanced MySQL Topics\n",
      "Programming in Python\n",
      "Database Clients\n",
      "Advanced Data Modeling\n",
      "Database Engineer Capstone\n",
      "Coding Interview Preparation\n",
      "Ratings: ['4.7', '4.7', '4.8', '4.6', '4.6', '4.1', '4.1', '3.7', '4.7']\n",
      "Evaluations: ['630', '2', '208', '100', '858', '39', '34', '30', '206']\n"
     ]
    },
    {
     "name": "stderr",
     "output_type": "stream",
     "text": [
      "\r",
      "196it [06:34,  1.96s/it]"
     ]
    },
    {
     "name": "stdout",
     "output_type": "stream",
     "text": [
      "Course Title:\n",
      "The Connection Between Leadership, Purpose and Networking\n",
      "The Networking Mindset and the Networking Process\n",
      "Self-Leadership\n",
      "Leading Others\n",
      "Ratings: []\n",
      "Evaluations: []\n"
     ]
    },
    {
     "name": "stderr",
     "output_type": "stream",
     "text": [
      "\r",
      "197it [06:36,  1.87s/it]"
     ]
    },
    {
     "name": "stdout",
     "output_type": "stream",
     "text": [
      "Course Title:\n",
      "What is Climate Change?\n",
      "How Do We Manage Climate Change?\n",
      "Planning with Climate Change in Mind\n",
      "Ratings: ['4.9', '4.8', '4.9']\n",
      "Evaluations: ['81', '45', '40']\n"
     ]
    },
    {
     "name": "stderr",
     "output_type": "stream",
     "text": [
      "\r",
      "198it [06:37,  1.78s/it]"
     ]
    },
    {
     "name": "stdout",
     "output_type": "stream",
     "text": [
      "Course Title:\n",
      "Planning UX research studies \n",
      " Conducting research with usability studies\n",
      "Analyzing and synthesizing research results\n",
      "Sharing research insights for better designs\n",
      "Ratings: ['4.8']\n",
      "Evaluations: ['1']\n"
     ]
    },
    {
     "name": "stderr",
     "output_type": "stream",
     "text": [
      "\r",
      "199it [06:38,  1.62s/it]"
     ]
    },
    {
     "name": "stdout",
     "output_type": "stream",
     "text": [
      "Course Title:\n",
      "Software Development Processes and Methodologies\n",
      "Agile Software Development\n",
      "Lean Software Development\n",
      "Engineering Practices for Building Quality Software\n",
      "Ratings: ['4.7', '4.7', '4.6', '4.5']\n",
      "Evaluations: ['1', '6', '371', '307']\n"
     ]
    },
    {
     "name": "stderr",
     "output_type": "stream",
     "text": [
      "\r",
      "200it [06:40,  1.65s/it]"
     ]
    },
    {
     "name": "stdout",
     "output_type": "stream",
     "text": [
      "Course Title:\n",
      "Inclusion Matters\n",
      "Inclusive Leadership Matters\n",
      "Six Signature Traits of Highly Inclusive Leaders\n",
      "Communication and Inclusive Leadership\n",
      "Ratings: ['4.9']\n",
      "Evaluations: ['1']\n"
     ]
    },
    {
     "name": "stderr",
     "output_type": "stream",
     "text": [
      "\r",
      "201it [06:42,  1.73s/it]"
     ]
    },
    {
     "name": "stdout",
     "output_type": "stream",
     "text": [
      "Course Title:\n",
      "What is a teacher?\n",
      "Myself and My Learning\n",
      "Influences on my learning\n",
      "Impacts on my learning\n",
      "How do I learn?\n",
      "My learning environment\n",
      "Ratings: ['4.6']\n",
      "Evaluations: ['249', '249']\n"
     ]
    },
    {
     "name": "stderr",
     "output_type": "stream",
     "text": [
      "\r",
      "202it [06:44,  1.76s/it]"
     ]
    },
    {
     "name": "stdout",
     "output_type": "stream",
     "text": [
      "Course Title:\n",
      "Introduction to The Art and Science of Economic Policy\n",
      "The Foundations of Policymaking\n",
      "The Science of Economic Policymaking\n",
      "The Art of Economic Policymaking\n",
      "Implementation of Economic Policy\n",
      "Conclusion: The Art and Science of Economic Policy\n",
      "Ratings: ['4.8']\n",
      "Evaluations: ['20', '20']\n"
     ]
    },
    {
     "name": "stderr",
     "output_type": "stream",
     "text": [
      "\r",
      "203it [06:46,  1.90s/it]"
     ]
    },
    {
     "name": "stdout",
     "output_type": "stream",
     "text": [
      "Course Title:\n",
      "Week 1: Introduction to the Sustainable Development Goals \n",
      "Week 2: The Biosphere\n",
      "Week 3: Society I\n",
      "Week 4: Society II\n",
      "Week 5: Economy\n",
      "Week 6: Partnerships\n",
      "Week 7: Systems thinking\n",
      "Ratings: ['4.8']\n",
      "Evaluations: ['377', '377', '377']\n"
     ]
    },
    {
     "name": "stderr",
     "output_type": "stream",
     "text": [
      "\r",
      "204it [06:48,  1.86s/it]"
     ]
    },
    {
     "name": "stdout",
     "output_type": "stream",
     "text": [
      "Course Title:\n",
      "The lives of children\n",
      "How children learn\n",
      "Engaging with students\n",
      "The power of the peer group\n",
      "Learning that travels\n",
      "Four key thinkers\n",
      "Ratings: ['4.7']\n",
      "Evaluations: ['21', '21']\n"
     ]
    },
    {
     "name": "stderr",
     "output_type": "stream",
     "text": [
      "\r",
      "205it [06:50,  1.81s/it]"
     ]
    },
    {
     "name": "stdout",
     "output_type": "stream",
     "text": [
      "Course Title:\n",
      "Introduction to GBV - Epidemiology and Health Impact\n",
      "Health Care Response, Screening, and Psychosocial Support\n",
      "Clinical Care for GBV Survivors\n",
      "Additional Materials and Wrap-Up\n",
      "Ratings: ['4.7']\n",
      "Evaluations: ['86']\n"
     ]
    },
    {
     "name": "stderr",
     "output_type": "stream",
     "text": [
      "\r",
      "206it [06:51,  1.72s/it]"
     ]
    },
    {
     "name": "stdout",
     "output_type": "stream",
     "text": [
      "Course Title:\n",
      "Competencias en Telesalud para el profesional de la salud\n",
      "Aspectos conceptuales y operativos de la Telesalud\n",
      "Tecnología como facilitador en soluciones de Telemedicina\n",
      "Exploración centrada en el paciente\n",
      "Ratings: ['4.4']\n",
      "Evaluations: ['14']\n"
     ]
    },
    {
     "name": "stderr",
     "output_type": "stream",
     "text": [
      "\r",
      "207it [06:53,  1.89s/it]"
     ]
    },
    {
     "name": "stdout",
     "output_type": "stream",
     "text": [
      "Course Title:\n",
      "Módulo 1: Yo ciudadano\n",
      "Módulo 2: El ciudadano en las relaciones interpersonales (conflictos)\n",
      "Módulo 3: El ciudadano en las relaciones interpersonales (acoso escolar)\n",
      "Módulo 4: Ciudadanía en el aula\n",
      "Módulo 4: Ciudadanía en el aula: Lesson Choices\n",
      "Módulo 5: La ciudadanía en la comunidad\n",
      "Módulo 6: La ciudadanía en el mundo\n",
      "Diseñando ando\n",
      "Ratings: ['4.8']\n",
      "Evaluations: ['82', '82', '82']\n"
     ]
    },
    {
     "name": "stderr",
     "output_type": "stream",
     "text": [
      "\r",
      "208it [06:55,  1.83s/it]"
     ]
    },
    {
     "name": "stdout",
     "output_type": "stream",
     "text": [
      "Course Title:\n",
      "Comportamiento humano en las organizaciones \n",
      "Dinámica de los grupos laborales\n",
      "Inteligencia emocional\n",
      "Comunicación asertiva\n",
      "Ratings: ['4.8']\n",
      "Evaluations: ['396', '396', '396']\n"
     ]
    },
    {
     "name": "stderr",
     "output_type": "stream",
     "text": [
      "\r",
      "209it [06:57,  1.80s/it]"
     ]
    },
    {
     "name": "stdout",
     "output_type": "stream",
     "text": [
      "Course Title:\n",
      "Lung Cancer Overview\n",
      "Non-Small Cell Lung Cancer: Differential Diagnosis and Diagnostic Work-up\n",
      "Non-Small Cell Lung Cancer: Staging\n",
      "Non-Small Cell Lung Cancer and Tracheal Cancer: Therapeutics\n",
      "Small Cell Lung Cancer\n",
      "Esophageal Cancer\n",
      "Patient Support Issues\n",
      "Ratings: ['4.8']\n",
      "Evaluations: ['71', '71']\n"
     ]
    },
    {
     "name": "stderr",
     "output_type": "stream",
     "text": [
      "\r",
      "210it [06:59,  2.00s/it]"
     ]
    },
    {
     "name": "stdout",
     "output_type": "stream",
     "text": [
      "Course Title:\n",
      "Planificación de estudios de investigación en UX\n",
      "Investigación con estudios de usabilidad\n",
      "Analizar y sintetizar los resultados de la investigación\n",
      "Compartir las conclusiones de la investigación para el desarrollo de mejores diseños\n",
      "Ratings: ['4.8']\n",
      "Evaluations: ['40']\n"
     ]
    },
    {
     "name": "stderr",
     "output_type": "stream",
     "text": [
      "\r",
      "211it [07:01,  1.94s/it]"
     ]
    },
    {
     "name": "stdout",
     "output_type": "stream",
     "text": [
      "Course Title:\n",
      "Alfabetização midiática e informacional: uma introdução\n",
      " Alfabetização em Mídia, Informação e Diálogo Intercultural\n",
      "Alfabetização midiática e informacional: avaliando e usando informações e conteúdo midiático \n",
      "Alfabetização midiática e informacional: Usando pesquisa e análise para produzir sua própria informação e conteúdo de mídia\n",
      "Liberdade de Expressão, Liberdade de Informação, Liberdade de Imprensa\n",
      "Representações de Gênero na mídia, nos Livros, na Internet e na História\n",
      "Ética da mídia e da informação em relação às necessidades dos grandes negócios, política e desenvolvimento\n",
      "Entendendo e Avaliando o Mundo da Publicidade\n",
      "Desafios da Internet e Oportunidades para Crianças e Jovens\n",
      "Envolvendo-se com mídia e usando nova tecnologia e Informação para Ação Social\n",
      "Ratings: ['4.7']\n",
      "Evaluations: ['16', '16']\n"
     ]
    },
    {
     "name": "stderr",
     "output_type": "stream",
     "text": [
      "\r",
      "212it [07:03,  2.03s/it]"
     ]
    },
    {
     "name": "stdout",
     "output_type": "stream",
     "text": [
      "Course Title:\n",
      "Definición, contexto global y marcos internacionales de sostenibilidad\n",
      "Actores del cambio, medioambiente y cambio climático\n",
      "Crecimiento económico inclusivo, sostenibilidad y finanzas sostenibles\n",
      "Medición y reporte de sostenibilidad\n",
      "Ratings: ['4.7']\n",
      "Evaluations: ['39']\n"
     ]
    },
    {
     "name": "stderr",
     "output_type": "stream",
     "text": [
      "\r",
      "213it [07:05,  1.85s/it]"
     ]
    },
    {
     "name": "stdout",
     "output_type": "stream",
     "text": [
      "Course Title:\n",
      "Princípios básicos de apoio técnico\n",
      "Os vários elementos das redes informáticas\n",
      "Interagir com sistemas operativos\n",
      "Serviços de infraestruturas e administração de sistemas\n",
      "Segurança de TI: defesa contra as artes negras digitais\n",
      "Ratings: ['4.9', '4.8', '4.9', '4.9', '4.9']\n",
      "Evaluations: ['140', '39', '22', '27', '39']\n"
     ]
    },
    {
     "name": "stderr",
     "output_type": "stream",
     "text": [
      "\r",
      "214it [07:07,  2.04s/it]"
     ]
    },
    {
     "name": "stdout",
     "output_type": "stream",
     "text": [
      "Course Title:\n",
      "General Introduction\n",
      "Module 1: Health-care personnel: ethical principles of health care in times of armed conflict and other emergencies\n",
      "Module 2: The legal framework on the protection of health-care delivery\n",
      "Module 3: Ambulance and prehospital services in risk situations\n",
      "Module 4: Hospital managers: ensuring the preparedness and security of health-care facilities in armed conflict and other emergencies\n",
      "Module 5 Weapons bearers: military operational practice to ensure safer access to and delivery of health care  \n",
      "Module 6: Members of the civil society: communities, National Societies, Religious Leaders, Health organizations and others\n",
      "Global Summary Violence against Health Care\n",
      "Ratings: ['4.7']\n",
      "Evaluations: ['16', '16', '16']\n"
     ]
    },
    {
     "name": "stderr",
     "output_type": "stream",
     "text": [
      "\r",
      "215it [07:09,  2.04s/it]"
     ]
    },
    {
     "name": "stdout",
     "output_type": "stream",
     "text": [
      "Course Title:\n",
      "Course and Case Introduction\n",
      "Mr. Osner Santana Goes to the ED\n",
      "Mr. Osner Santana Waits to Be Seen\n",
      "Mr. Osner Santana Meets Dr. Jefferson (Part 1)\n",
      "Mr. Osner Santana Meets Dr. Jefferson (Part 2)\n",
      "Completion of HI-FIVE Training (Clinical Perspective)\n",
      "Role-Based Content (OPTIONAL) - Physicians / Nurse Practitioners / Physician Assistants / Clinical Executives / Clinical Managers / Public Health Professionals\n",
      "Role-Based Content (OPTIONAL) - Nurses / Midwives / Medical Assistants / Other Clinical Support\n",
      "Ratings: ['4.7']\n",
      "Evaluations: ['14']\n"
     ]
    },
    {
     "name": "stderr",
     "output_type": "stream",
     "text": [
      "\r",
      "216it [07:11,  2.09s/it]"
     ]
    },
    {
     "name": "stdout",
     "output_type": "stream",
     "text": [
      "Course Title:\n",
      "Introduction to Career Coaching and Navigating\n",
      "Theories Behind Career Coaching and Navigating\n",
      "Module 3: Client Relationship Management\n",
      "Module 4: Human-Centered Navigating and Coaching\n",
      "Ratings: ['4.6']\n",
      "Evaluations: ['21']\n"
     ]
    },
    {
     "name": "stderr",
     "output_type": "stream",
     "text": [
      "\r",
      "217it [07:15,  2.57s/it]"
     ]
    },
    {
     "name": "stdout",
     "output_type": "stream",
     "text": [
      "Course Title:\n",
      "Negotiation strategy\n",
      "Negotiation preparation\n",
      "Value creation & Value claiming\n",
      "Peer assessment : Negotiation Preparation & Value Creation: Lesson Choices\n",
      "Negotiation process \n",
      "Ratings: ['4.8']\n",
      "Evaluations: ['365']\n"
     ]
    },
    {
     "name": "stderr",
     "output_type": "stream",
     "text": [
      "\r",
      "218it [07:17,  2.32s/it]"
     ]
    },
    {
     "name": "stdout",
     "output_type": "stream",
     "text": [
      "Course Title:\n",
      "Module 9: Aviation Infrastructure & Transportation Roadmap\n",
      "Module 10: Applied Transportation Roadmap\n",
      "Module 11: Internet Infrastructure & CARMA\n",
      "Module 12: Applied CARMA\n",
      "Ratings: ['4.8']\n",
      "Evaluations: ['39']\n"
     ]
    },
    {
     "name": "stderr",
     "output_type": "stream",
     "text": [
      "\r",
      "219it [07:19,  2.15s/it]"
     ]
    },
    {
     "name": "stdout",
     "output_type": "stream",
     "text": [
      "Course Title:\n",
      "Week 1 |Optimism: Vocabulary\n",
      "Week 2 | Optimism: Speaking Studies and Speaking Exercises\n",
      "Week 3 | Dynamic: Vocabulary\n",
      "Week 4 | Dynamic: Studies & Exercises\n",
      "Ratings: ['4.3']\n",
      "Evaluations: ['14']\n"
     ]
    },
    {
     "name": "stderr",
     "output_type": "stream",
     "text": [
      "\r",
      "220it [07:21,  2.11s/it]"
     ]
    },
    {
     "name": "stdout",
     "output_type": "stream",
     "text": [
      "Course Title:\n",
      "Introduction to Nanotechnology, Part 1\n",
      "Introduction to Nanotechnology, Part 2\n",
      "Introduction to Sensors’ Science and Technology\n",
      "Metal Nanoparticles-based Sensors\n",
      "Quantum Dots Sensor\n",
      "Ratings: ['4.5']\n",
      "Evaluations: ['242']\n"
     ]
    },
    {
     "name": "stderr",
     "output_type": "stream",
     "text": [
      "\r",
      "221it [07:22,  1.98s/it]"
     ]
    },
    {
     "name": "stdout",
     "output_type": "stream",
     "text": [
      "Course Title:\n",
      "Stratégie de négociation\n",
      "Préparation à la négociation\n",
      "Création et distribution de valeur\n",
      "Evaluation par les pairs : Préparation d'une négociation & création de valeur: Lesson Choices\n",
      "Processus de négociation\n",
      "Ratings: ['4.9']\n",
      "Evaluations: ['93']\n"
     ]
    },
    {
     "name": "stderr",
     "output_type": "stream",
     "text": [
      "\r",
      "222it [07:24,  1.96s/it]"
     ]
    },
    {
     "name": "stdout",
     "output_type": "stream",
     "text": [
      "Course Title:\n",
      "Los aspectos básicos de la metodología Agile\n",
      "Scrum 101\n",
      "Implementación de Scrum\n",
      "Aplicar la metodología Agile en la organización\n",
      "Ratings: ['4.9']\n",
      "Evaluations: ['102']\n"
     ]
    },
    {
     "name": "stderr",
     "output_type": "stream",
     "text": [
      "\r",
      "223it [07:26,  1.88s/it]"
     ]
    },
    {
     "name": "stdout",
     "output_type": "stream",
     "text": [
      "Course Title:\n",
      "An Orientation to Health, Society, and Wellness in COVID-19 Times\n",
      "Mental Health and Well-Being in COVID-19 Times\n",
      "The Public Health Response and Transmission of the COVID-19 Virus\n",
      "Social Inequities and COVID-19\n",
      "Ratings: ['4.5']\n",
      "Evaluations: ['7', '7', '7']\n"
     ]
    },
    {
     "name": "stderr",
     "output_type": "stream",
     "text": [
      "\r",
      "224it [07:29,  2.11s/it]"
     ]
    },
    {
     "name": "stdout",
     "output_type": "stream",
     "text": [
      "Course Title:\n",
      "Visualización de datos\n",
      "Crear visualizaciones de datos con Tableau\n",
      "Cómo crear historias de datos\n",
      "Crear presentaciones y diapositivas\n",
      "Ratings: ['4.9']\n",
      "Evaluations: ['58']\n"
     ]
    },
    {
     "name": "stderr",
     "output_type": "stream",
     "text": [
      "\r",
      "225it [07:31,  2.31s/it]"
     ]
    },
    {
     "name": "stdout",
     "output_type": "stream",
     "text": [
      "Course Title:\n",
      "Bienvenidos y bienvenidas\n",
      "El empoderamiento financiero se inicia con un presupuesto  \n",
      " ¿Es necesario endeudarse?\n",
      "El ciclo vital condiciona la planificación financiera\n",
      "La protección personal y del patrimonio\n",
      "El abuso financiero\n",
      "Ratings: ['4.7']\n",
      "Evaluations: ['22', '22']\n"
     ]
    },
    {
     "name": "stderr",
     "output_type": "stream",
     "text": [
      "\r",
      "226it [07:33,  2.10s/it]"
     ]
    },
    {
     "name": "stdout",
     "output_type": "stream",
     "text": [
      "Course Title:\n",
      "Meaning, Sense, and Clarity\n",
      "Writing with Nouns and Verbs\n",
      "Economy\n",
      "\"No Ideas But in Things\"\n",
      "Ratings: ['4.9']\n",
      "Evaluations: ['145']\n"
     ]
    },
    {
     "name": "stderr",
     "output_type": "stream",
     "text": [
      "\r",
      "227it [07:35,  2.18s/it]"
     ]
    },
    {
     "name": "stdout",
     "output_type": "stream",
     "text": [
      "Course Title:\n",
      "Leading Change in Health Informatics\n",
      "Project Management for Health Informaticists\n",
      "Strategic Planning in Health IT\n",
      "Change Management\n",
      "Ratings: ['4.7']\n",
      "Evaluations: ['76']\n"
     ]
    },
    {
     "name": "stderr",
     "output_type": "stream",
     "text": [
      "\r",
      "228it [07:37,  2.05s/it]"
     ]
    },
    {
     "name": "stdout",
     "output_type": "stream",
     "text": [
      "Course Title:\n",
      "Week 1: Being an effective online learner\n",
      "Week 2: Communicating and collaborating online\n",
      "Week 3: Researching online\n",
      "Ratings: ['4.5']\n",
      "Evaluations: ['17']\n"
     ]
    },
    {
     "name": "stderr",
     "output_type": "stream",
     "text": [
      "\r",
      "229it [07:39,  1.95s/it]"
     ]
    },
    {
     "name": "stdout",
     "output_type": "stream",
     "text": [
      "Course Title:\n",
      "Earning and keeping trust\n",
      "Types of sources\n",
      "Interviewing\n",
      "Tools for finding sourcing\n",
      "Ratings: ['4.8']\n",
      "Evaluations: ['82', '82', '82']\n"
     ]
    },
    {
     "name": "stderr",
     "output_type": "stream",
     "text": [
      "\r",
      "230it [07:41,  1.96s/it]"
     ]
    },
    {
     "name": "stdout",
     "output_type": "stream",
     "text": [
      "Course Title:\n",
      "Communicate the Business Impacts of Ethical Risks to Diverse Stakeholders\n",
      "Design Diverse, Equitable, and Inclusive External Communication Strategies\n",
      "Manage a Crisis, Communicate Critical Messages, and Ensure Business Continuity\n",
      "Manage the Media During an Ethical Crisis\n",
      "Apply What You’ve Learned\n",
      "Ratings: ['4.8']\n",
      "Evaluations: ['9', '9', '9']\n"
     ]
    },
    {
     "name": "stderr",
     "output_type": "stream",
     "text": [
      "\r",
      "231it [07:44,  2.48s/it]"
     ]
    },
    {
     "name": "stdout",
     "output_type": "stream",
     "text": [
      "Course Title:\n",
      "Course Introduction & Module 1 - Managing the Organization\n",
      "Project Initiation and Planning\n",
      "Leadership Fundamentals\n",
      "Ratings: ['4.9']\n",
      "Evaluations: ['11']\n"
     ]
    },
    {
     "name": "stderr",
     "output_type": "stream",
     "text": [
      "\r",
      "232it [07:47,  2.36s/it]"
     ]
    },
    {
     "name": "stdout",
     "output_type": "stream",
     "text": [
      "Course Title:\n",
      "Welcoming Customers\n",
      "Meeting Customers' Needs\n",
      "De-escalation with Empathy\n",
      "Professionalism in Social Media\n",
      "Ratings: []\n",
      "Evaluations: []\n"
     ]
    },
    {
     "name": "stderr",
     "output_type": "stream",
     "text": [
      "\r",
      "233it [07:48,  2.18s/it]"
     ]
    },
    {
     "name": "stdout",
     "output_type": "stream",
     "text": [
      "Course Title:\n",
      "Welcome to Course 3!\n",
      "Earning and keeping trust\n",
      "Preparing your news report\n",
      "More than words\n",
      "Keeping the news conversation going\n",
      "Ratings: ['4.8']\n",
      "Evaluations: ['30', '30', '30']\n"
     ]
    },
    {
     "name": "stderr",
     "output_type": "stream",
     "text": [
      "\r",
      "234it [07:50,  2.06s/it]"
     ]
    },
    {
     "name": "stdout",
     "output_type": "stream",
     "text": [
      "Course Title:\n",
      "Team Dynamics \n",
      "Leading Your Peers\n",
      "The Leader as Guide\n",
      "Important Conversations\n",
      "Ratings: ['4.6']\n",
      "Evaluations: ['6', '6', '6']\n"
     ]
    },
    {
     "name": "stderr",
     "output_type": "stream",
     "text": [
      "\r",
      "235it [07:51,  1.84s/it]"
     ]
    },
    {
     "name": "stdout",
     "output_type": "stream",
     "text": [
      "Course Title:\n",
      "Introduction to Strategies for Effective Engagement\n",
      "Systems Mapping and Analysis\n",
      "System Mapping\n",
      "Ratings: ['4.6']\n",
      "Evaluations: ['7']\n"
     ]
    },
    {
     "name": "stderr",
     "output_type": "stream",
     "text": [
      "\r",
      "236it [07:56,  2.53s/it]"
     ]
    },
    {
     "name": "stdout",
     "output_type": "stream",
     "text": [
      "Course Title:\n",
      "Why are people hesitant about vaccines and how can we effectively communicate with people who are hesitant? \n",
      "What is the immune system and what is the SARS CoV-2 virus?\n",
      "What are vaccines, how are they developed, and which COVID-19 vaccines will be distributed in the US?\n",
      "How to spot and respond to misinformation online\n",
      "Vaccines for 5-11 year olds\n",
      "Ratings: ['4.8']\n",
      "Evaluations: ['612']\n"
     ]
    },
    {
     "name": "stderr",
     "output_type": "stream",
     "text": [
      "\r",
      "237it [07:58,  2.44s/it]"
     ]
    },
    {
     "name": "stdout",
     "output_type": "stream",
     "text": [
      "Course Title:\n",
      "Lesson One: Healthcare Consumerism and the Patient's Perspective in Health Care Delivery\n",
      "Lesson Two: Sickness and Treatment Health Care Delivery Models\n",
      "Lesson Three: Health and Wellness Health Care Delivery Models\n",
      "Lesson Four: Design a Patient-Centered Health Care Delivery System\n",
      "Ratings: ['4.7']\n",
      "Evaluations: ['30']\n"
     ]
    },
    {
     "name": "stderr",
     "output_type": "stream",
     "text": [
      "\r",
      "238it [08:00,  2.26s/it]"
     ]
    },
    {
     "name": "stdout",
     "output_type": "stream",
     "text": [
      "Course Title:\n",
      "Unidad 1: Detección temprana de los riesgos por curso de vida en salud mental y consumo de sustancias psicoactivas\n",
      "Módulo 3: ¿Cómo identificar los problemas mentales, trastornos mentales, consumo de sustancias psicoactivas y epilepsia en la comunidad?\n",
      "Unidad 2: Primeros auxilios psicológicos, intervención motivacional breve y abordaje comunitario. \n",
      "Módulo 6: Principios de intervención motivacional breve, canalización y seguimiento\n",
      "Profundización: Pruebas de tamizaje y articulación de equipos psicosociales con servicios de salud\n",
      "Módulo 10: Estrategias de reducción de daños sociales asociadas al consumo de sustancias psicoactivas.\n",
      "Ratings: ['5.0']\n",
      "Evaluations: ['9', '9']\n"
     ]
    },
    {
     "name": "stderr",
     "output_type": "stream",
     "text": [
      "\r",
      "239it [08:01,  2.06s/it]"
     ]
    },
    {
     "name": "stdout",
     "output_type": "stream",
     "text": [
      "Course Title:\n",
      "Designing Your Team for Excellence\n",
      "Structuring Your Team for Excellence\n",
      "Managing Team Dynamics\n",
      "Creating Sustainable Team Performance and Learning\n",
      "Ratings: ['4.8']\n",
      "Evaluations: ['237']\n"
     ]
    },
    {
     "name": "stderr",
     "output_type": "stream",
     "text": [
      "\r",
      "240it [08:04,  2.16s/it]"
     ]
    },
    {
     "name": "stdout",
     "output_type": "stream",
     "text": [
      "Course Title:\n",
      "Module 0\n",
      "Module 1: The Digital Communication Ecosystem \n",
      "Module 2: The (Social) Scientist\n",
      "Module 3: The Journalist \n",
      "Module 4:  The Policy Maker\n",
      "Module 5: The Misinformation Road is Paved with Good Intentions\n",
      "Module 6:  The Citizens\n",
      "Module 7: Conclusion \n",
      "Ratings: ['4.3']\n",
      "Evaluations: ['13', '13']\n"
     ]
    },
    {
     "name": "stderr",
     "output_type": "stream",
     "text": [
      "\r",
      "241it [08:05,  2.01s/it]"
     ]
    },
    {
     "name": "stdout",
     "output_type": "stream",
     "text": [
      "Course Title:\n",
      "Cooperation, Competition, and Comparisons\n",
      "Trust\n",
      "Deception\n",
      "Effective Communication\n",
      "Ratings: ['4.8']\n",
      "Evaluations: ['343']\n"
     ]
    },
    {
     "name": "stderr",
     "output_type": "stream",
     "text": [
      "\r",
      "242it [08:09,  2.54s/it]"
     ]
    },
    {
     "name": "stdout",
     "output_type": "stream",
     "text": [
      "Course Title:\n",
      "The Importance of Effective Communication in Today's Business Environment\n",
      "Interpersonal Communication Skills: Listening, Counseling, and Others\n",
      "Communicating To Build Trust In an Organization\n",
      "Providing and Receiving Feedback\n",
      "Ratings: []\n",
      "Evaluations: []\n"
     ]
    },
    {
     "name": "stderr",
     "output_type": "stream",
     "text": [
      "\r",
      "243it [08:11,  2.36s/it]"
     ]
    },
    {
     "name": "stdout",
     "output_type": "stream",
     "text": [
      "Course Title:\n",
      "Module 1: Building Trust in Communication\n",
      "Module 2: Helping Teammates Do Their Best Work\n",
      "Module 3: Being a Trusted Team Leader\n",
      "Ratings: []\n",
      "Evaluations: []\n"
     ]
    },
    {
     "name": "stderr",
     "output_type": "stream",
     "text": [
      "\r",
      "244it [08:13,  2.38s/it]"
     ]
    },
    {
     "name": "stdout",
     "output_type": "stream",
     "text": [
      "Course Title:\n",
      "Theme One: Origins (Epidemics past, present and future)\n",
      "Theme One: Origins (Emergence and ecology of infectious diseases)\n",
      "Theme One: Origins (Medical Detective: Bug hunting in Epidemics)\n",
      "Theme Two: Spread (Infectious disease epidemiology)\n",
      "Theme Two: Spread (Epidemiological triangle)\n",
      "Theme Two: Spread (Infectious disease modeling)\n",
      "Theme Three: Control (Disease surveillance)\n",
      "Theme Three: Control (Non-pharmaceutical intervention (NPI))\n",
      "Theme Three: Control (Vaccination)\n",
      "Theme Four: Communication (Communicating disease risk)\n",
      "Ratings: ['4.7']\n",
      "Evaluations: ['37', '37', '37']\n"
     ]
    },
    {
     "name": "stderr",
     "output_type": "stream",
     "text": [
      "\r",
      "245it [08:15,  2.23s/it]"
     ]
    },
    {
     "name": "stdout",
     "output_type": "stream",
     "text": [
      "Course Title:\n",
      "CAPSTONE: Introduction to the Capstone - Holistic Perception\n",
      "CAPSTONE: Disjunctive Analysis\n",
      "CAPSTONE: Relational Assimilation\n",
      "CAPSTONE: Decentering\n",
      "CAPSTONE: Building Sense - part 1 \n",
      "CAPSTONE: Building Sense - part 2 (video pitch) \n",
      "Ratings: ['5.0']\n",
      "Evaluations: ['15']\n"
     ]
    },
    {
     "name": "stderr",
     "output_type": "stream",
     "text": [
      "\r",
      "246it [08:17,  2.07s/it]"
     ]
    },
    {
     "name": "stdout",
     "output_type": "stream",
     "text": [
      "Course Title:\n",
      "What is a teacher?\n",
      "Myself and My Learning\n",
      "Influences on my learning\n",
      "Impacts on my learning\n",
      "How do I learn?\n",
      "My learning environment\n",
      "Ratings: ['4.6']\n",
      "Evaluations: ['249', '249']\n"
     ]
    },
    {
     "name": "stderr",
     "output_type": "stream",
     "text": [
      "\r",
      "247it [08:19,  1.96s/it]"
     ]
    },
    {
     "name": "stdout",
     "output_type": "stream",
     "text": [
      "Course Title:\n",
      "Module 1 – Framework\n",
      "Module 2 – Negotiation Fundamentals\n",
      "Module 3 – Negotiation Dynamics\n",
      "Module 4 –Negotiator Mindset\n",
      "Ratings: ['4.8']\n",
      "Evaluations: ['11']\n"
     ]
    },
    {
     "name": "stderr",
     "output_type": "stream",
     "text": [
      "\r",
      "248it [08:20,  1.88s/it]"
     ]
    },
    {
     "name": "stdout",
     "output_type": "stream",
     "text": [
      "Course Title:\n",
      "Course Overview and Introduction to Health Equity Research\n",
      "Engaging Community Stakeholders in Health Equity Research \n",
      "Engaging Policymakers to Address Social Determinants of Health\n",
      "Engaging Health System Leaders and Organizational Stakeholders in Health Equity Research\n",
      "Using Digital and Social Media to Engage Stakeholders and Disseminate Health Equity Research\n",
      "Ratings: ['4.8']\n",
      "Evaluations: ['75', '75']\n"
     ]
    },
    {
     "name": "stderr",
     "output_type": "stream",
     "text": [
      "\r",
      "249it [08:22,  1.87s/it]"
     ]
    },
    {
     "name": "stdout",
     "output_type": "stream",
     "text": [
      "Course Title:\n",
      "DESIGN THINKING FUNDAMENTALS\n",
      "BEFORE YOU BEGIN, AND ASKING \"WHAT IS?\"\n",
      "A MINDSET FOR INNOVATION, AND ASKING \"WHAT IF?\"\n",
      "ASKING \"WHAT WOWS?\" AND \"WHAT WORKS?\"\n",
      "Ratings: ['4.7']\n",
      "Evaluations: ['94']\n"
     ]
    },
    {
     "name": "stderr",
     "output_type": "stream",
     "text": [
      "\r",
      "250it [08:25,  2.02s/it]"
     ]
    },
    {
     "name": "stdout",
     "output_type": "stream",
     "text": [
      "Course Title:\n",
      "Getting Started with Leadership\n",
      "Stepping Up: Preparing Yourself for Leadership\n",
      "Stepping Up: Leading Others\n",
      "Influencing the Organisation\n",
      "Ratings: ['4.5', '3.9']\n",
      "Evaluations: ['19', '13']\n"
     ]
    },
    {
     "name": "stderr",
     "output_type": "stream",
     "text": [
      "\r",
      "251it [08:27,  2.17s/it]"
     ]
    },
    {
     "name": "stdout",
     "output_type": "stream",
     "text": [
      "Course Title:\n",
      "Course Introduction\n",
      "Network Concepts and Models\n",
      "Common Network Threats and Attacks\n",
      "Network Security Infrastructure\n",
      "Network Security Review\n",
      "Ratings: ['4.9']\n",
      "Evaluations: ['17']\n"
     ]
    },
    {
     "name": "stderr",
     "output_type": "stream",
     "text": [
      "\r",
      "252it [08:29,  2.14s/it]"
     ]
    },
    {
     "name": "stdout",
     "output_type": "stream",
     "text": [
      "Course Title:\n",
      "COURSE ORIENTATION\n",
      "MODULE 1: LEADERSHIP DEFINED\n",
      "MODULE 2: STRATEGIC SELF-LEADERSHIP\n",
      "MODULE 3: LEADING OTHERS\n",
      "MODULE 4: GROWING AS A LEADER\n",
      "Ratings: ['4.8']\n",
      "Evaluations: ['1', '1', '1']\n"
     ]
    },
    {
     "name": "stderr",
     "output_type": "stream",
     "text": [
      "\r",
      "253it [08:31,  2.03s/it]"
     ]
    },
    {
     "name": "stdout",
     "output_type": "stream",
     "text": [
      "Course Title:\n",
      "Your Writing Identity\n",
      "Genre, Form, and Audience\n",
      "Structure\n",
      "Editing and Proofreading\n",
      "Publishing\n",
      "Ratings: ['4.8']\n",
      "Evaluations: ['195', '195']\n"
     ]
    },
    {
     "name": "stderr",
     "output_type": "stream",
     "text": [
      "\r",
      "254it [08:34,  2.38s/it]"
     ]
    },
    {
     "name": "stdout",
     "output_type": "stream",
     "text": [
      "Course Title:\n",
      "Privacy in the Digital Age\n",
      "Risks in Data Privacy\n",
      "Frameworks of Data Privacy Law \n",
      "Ratings: ['4.7']\n",
      "Evaluations: ['197']\n"
     ]
    },
    {
     "name": "stderr",
     "output_type": "stream",
     "text": [
      "\r",
      "255it [08:36,  2.15s/it]"
     ]
    },
    {
     "name": "stdout",
     "output_type": "stream",
     "text": [
      "Course Title:\n",
      "Your inspirational leadership journey\n",
      "Introspection to grow your self-awareness and sensibility\n",
      "The Duo, learning to manage quality relationships\n",
      "Ratings: ['4.8']\n",
      "Evaluations: ['537']\n"
     ]
    },
    {
     "name": "stderr",
     "output_type": "stream",
     "text": [
      "\r",
      "256it [08:38,  2.25s/it]"
     ]
    },
    {
     "name": "stdout",
     "output_type": "stream",
     "text": [
      "Course Title:\n",
      "The lives of children\n",
      "How children learn\n",
      "Engaging with students\n",
      "The power of the peer group\n",
      "Learning that travels\n",
      "Four key thinkers\n",
      "Ratings: ['4.7']\n",
      "Evaluations: ['21', '21']\n"
     ]
    },
    {
     "name": "stderr",
     "output_type": "stream",
     "text": [
      "\r",
      "257it [08:41,  2.31s/it]"
     ]
    },
    {
     "name": "stdout",
     "output_type": "stream",
     "text": [
      "Course Title:\n",
      "GETTING STARTED\n",
      "SHOULD YOU BELIEVE WHAT PEOPLE SAY?\n",
      "HOW SHOULD WE HANDLE DISAGREEMENT?\n",
      "RESOLVING RELIGIOUS DISAGEEMENTS: THE ROLE OF EVIDENCE\n",
      "END OF COURSE ASSIGNMENTS\n",
      "Ratings: ['4.7']\n",
      "Evaluations: ['22', '22', '22']\n"
     ]
    },
    {
     "name": "stderr",
     "output_type": "stream",
     "text": [
      "\r",
      "258it [08:42,  2.11s/it]"
     ]
    },
    {
     "name": "stdout",
     "output_type": "stream",
     "text": [
      "Course Title:\n",
      "Content Strategy for Professionals: Engaging Audiences\n",
      "Content Strategy for Professionals: Managing Content\n",
      "Content Strategy for Professionals: Expanding Your Content’s Reach\n",
      "Content Strategy for Professionals: Ensuring Your Content's Impact\n",
      "Content Strategy for Professionals: Capstone Project\n",
      "Ratings: ['4.6', '4.5', '4.5', '4.6', '4.6']\n",
      "Evaluations: ['673', '314', '198', '171', '56']\n"
     ]
    },
    {
     "name": "stderr",
     "output_type": "stream",
     "text": [
      "\r",
      "259it [08:44,  2.11s/it]"
     ]
    },
    {
     "name": "stdout",
     "output_type": "stream",
     "text": [
      "Course Title:\n",
      "Influencer Marketing Strategy\n",
      "Content Marketing Strategy\n",
      "How To Find Influencers.\n",
      "How To Engage Influencers.\n",
      "How To Measure Influencer Marketing.\n",
      "Influencer Campaigns.\n",
      "Ratings: ['4.3']\n",
      "Evaluations: ['53']\n"
     ]
    },
    {
     "name": "stderr",
     "output_type": "stream",
     "text": [
      "\r",
      "260it [08:46,  2.00s/it]"
     ]
    },
    {
     "name": "stdout",
     "output_type": "stream",
     "text": [
      "Course Title:\n",
      "Week 1: Advanced model training, tuning and evaluation\n",
      "Week 2: Advanced model deployment and monitoring\n",
      "Week 3: Data labeling and human-in-the-loop pipelines\n",
      "Ratings: ['4.5']\n",
      "Evaluations: ['24', '24', '24']\n"
     ]
    },
    {
     "name": "stderr",
     "output_type": "stream",
     "text": [
      "\r",
      "261it [08:48,  1.89s/it]"
     ]
    },
    {
     "name": "stdout",
     "output_type": "stream",
     "text": [
      "Course Title:\n",
      "Modules 1 & 2: Course Introduction and Our VUCA Environment Demands a Focus on Stakeholders\n",
      "Modules 3 & 4: Developing Resilience and Understanding Stakeholder Reactions to Crises\n",
      "Modules 5 & 6: Crisis Varieties, Responses, and the Unique Nature of the Crisis Environment\n",
      "Modules 7 & 8: Crisis Leadership and Preparing for Future Crises\n",
      "Ratings: ['4.9']\n",
      "Evaluations: ['128']\n"
     ]
    },
    {
     "name": "stderr",
     "output_type": "stream",
     "text": [
      "\r",
      "262it [08:50,  1.85s/it]"
     ]
    },
    {
     "name": "stdout",
     "output_type": "stream",
     "text": [
      "Course Title:\n",
      "Introduction to Giving Helpful Feedback and Positive Feedback\n",
      "Negative Feedback:  Use With Caution\n",
      "The Seven Essential Feedback Skills - Part I\n",
      "The Seven Essential Feedback Skills - Part II\n",
      "Giving Helpful Feedback:  Turn Your Knowledge Into Long-Term Change\n",
      "Helpful Class Resources\n",
      "Ratings: ['4.8']\n",
      "Evaluations: ['472']\n"
     ]
    },
    {
     "name": "stderr",
     "output_type": "stream",
     "text": [
      "\r",
      "263it [08:51,  1.80s/it]"
     ]
    },
    {
     "name": "stdout",
     "output_type": "stream",
     "text": [
      "Course Title:\n",
      "Introduction to Sustainability & Corporate Social Responsibility (CSR)\n",
      "Scandinavia:  An Introduction\n",
      "Scandinavian Leadership & Management\n",
      "Case study of a Scandinavian sustainability leader:  Novo Nordisk\n",
      "Scandinavian Corporate Governance\n",
      "Course reflections:  On Becoming a Sustainable Viking\n",
      "Ratings: ['4.7']\n",
      "Evaluations: ['18']\n"
     ]
    },
    {
     "name": "stderr",
     "output_type": "stream",
     "text": [
      "\r",
      "264it [08:53,  1.89s/it]"
     ]
    },
    {
     "name": "stdout",
     "output_type": "stream",
     "text": [
      "Course Title:\n",
      "The Words Under the Words\n",
      "The Infinite Power of Grammar\n",
      "The Rule of Three\n",
      "The Power of the Particular\n",
      "Ratings: ['4.8']\n",
      "Evaluations: ['586']\n"
     ]
    },
    {
     "name": "stderr",
     "output_type": "stream",
     "text": [
      "\r",
      "265it [08:56,  2.12s/it]"
     ]
    },
    {
     "name": "stdout",
     "output_type": "stream",
     "text": [
      "Course Title:\n",
      "Course Overview\n",
      "Module 1: Statistical Thinking and Problem Solving\n",
      "Module 2A: Exploratory Data Analysis, Part 1\n",
      "Module 2B: Exploratory Data Analysis, Part 2\n",
      "Module 3: Quality Methods\n",
      "Module 4: Decision Making with Data\n",
      "Module 5: Correlation and Regression\n",
      "Module 6: Design of Experiments (DOE)\n",
      "Module 7: Predictive Modeling and Text Mining\n",
      "Review Questions and Case Studies\n",
      "Ratings: ['4.8']\n",
      "Evaluations: ['27', '27']\n"
     ]
    },
    {
     "name": "stderr",
     "output_type": "stream",
     "text": [
      "\r",
      "266it [08:59,  2.39s/it]"
     ]
    },
    {
     "name": "stdout",
     "output_type": "stream",
     "text": [
      "Course Title:\n",
      "Introduction to Career Coaching and Navigating\n",
      "Theories Behind Career Coaching and Navigating\n",
      "Module 3: Client Relationship Management\n",
      "Module 4: Human-Centered Navigating and Coaching\n",
      "Ratings: ['4.6']\n",
      "Evaluations: ['21']\n"
     ]
    },
    {
     "name": "stderr",
     "output_type": "stream",
     "text": [
      "\r",
      "267it [09:01,  2.26s/it]"
     ]
    },
    {
     "name": "stdout",
     "output_type": "stream",
     "text": [
      "Course Title:\n",
      "Establishing Team Purpose\n",
      "Setting Clear Expectations\n",
      "Valuing Excellence\n",
      "Putting Strengths to Work\n",
      "Creating Trust & Support\n",
      "Recognizing Team Members\n",
      "Building Confidence in the Future\n",
      "Growing Team Members\n",
      "Instructor\n",
      "Ratings: []\n",
      "Evaluations: []\n"
     ]
    },
    {
     "name": "stderr",
     "output_type": "stream",
     "text": [
      "\r",
      "268it [09:04,  2.61s/it]"
     ]
    },
    {
     "name": "stdout",
     "output_type": "stream",
     "text": [
      "Course Title:\n",
      "The Who What When Where and Why of Leadership in Interprofessional Informatics\n",
      "Team Fundamentals\n",
      "Team Evolution and Dynamics\n",
      "Theory of Collective Impact for Interprofessional Informatics Leadership Success\n",
      "The Future of Interprofessional Informatics Leadership\n",
      "Building Your Nursing Informatics Leadership Portfolio\n",
      "Ratings: []\n",
      "Evaluations: []\n"
     ]
    },
    {
     "name": "stderr",
     "output_type": "stream",
     "text": [
      "\r",
      "269it [09:06,  2.33s/it]"
     ]
    },
    {
     "name": "stdout",
     "output_type": "stream",
     "text": [
      "Course Title:\n",
      "Cybersecurity information communication reporting in the organization\n",
      "Cybersecurity actionable measured KPI and goals\n",
      "Cybersecurity responsibilities into information security\n",
      "Ratings: ['4.2']\n",
      "Evaluations: ['7']\n"
     ]
    },
    {
     "name": "stderr",
     "output_type": "stream",
     "text": [
      "\r",
      "270it [09:07,  2.03s/it]"
     ]
    },
    {
     "name": "stdout",
     "output_type": "stream",
     "text": [
      "Course Title:\n",
      "Learn step-by-step\n",
      "Ratings: ['4.0']\n",
      "Evaluations: ['9']\n"
     ]
    },
    {
     "name": "stderr",
     "output_type": "stream",
     "text": [
      "\r",
      "271it [09:09,  2.00s/it]"
     ]
    },
    {
     "name": "stdout",
     "output_type": "stream",
     "text": [
      "Course Title:\n",
      "Self-awareness at the organization level\n",
      "Building quality relationships in the organization\n",
      "Building resilience for the organization\n",
      "Creating sense for the organization\n",
      "Ratings: ['4.6']\n",
      "Evaluations: ['27']\n"
     ]
    },
    {
     "name": "stderr",
     "output_type": "stream",
     "text": [
      "\r",
      "272it [09:11,  1.99s/it]"
     ]
    },
    {
     "name": "stdout",
     "output_type": "stream",
     "text": [
      "Course Title:\n",
      "Social Psychology\n",
      "Agile Team\n",
      "Agile Team Collaboration\n",
      "Agile Team Leadership\n",
      "Ratings: ['4.8']\n",
      "Evaluations: ['66']\n"
     ]
    },
    {
     "name": "stderr",
     "output_type": "stream",
     "text": [
      "\r",
      "273it [09:13,  1.94s/it]"
     ]
    },
    {
     "name": "stdout",
     "output_type": "stream",
     "text": [
      "Course Title:\n",
      "Platforms and Design\n",
      "Social and Mobile Media\n",
      "Managing Content and IP\n",
      "Ratings: ['4.6']\n",
      "Evaluations: ['25', '25', '25']\n"
     ]
    },
    {
     "name": "stderr",
     "output_type": "stream",
     "text": [
      "\r",
      "274it [09:15,  1.85s/it]"
     ]
    },
    {
     "name": "stdout",
     "output_type": "stream",
     "text": [
      "Course Title:\n",
      "Module 1: Securing Software\n",
      "Module 2: Securing Data\n",
      "Module 3: Identify and Analyze Malicious Code and Activity\n",
      "Module 4: Implement and Operate Endpoint Security\n",
      "Module 5: Operate and Secure Virtual Environments\n",
      "Module 6: Chapter 4 Review\n",
      "Ratings: []\n",
      "Evaluations: []\n"
     ]
    },
    {
     "name": "stderr",
     "output_type": "stream",
     "text": [
      "\r",
      "275it [09:18,  2.11s/it]"
     ]
    },
    {
     "name": "stdout",
     "output_type": "stream",
     "text": [
      "Course Title:\n",
      "Introduction to Content Strategy \n",
      "Audiences and Brand\n",
      "Experiences and Voice\n",
      "Ratings: ['4.7']\n",
      "Evaluations: ['115', '115', '115']\n"
     ]
    },
    {
     "name": "stderr",
     "output_type": "stream",
     "text": [
      "\r",
      "276it [09:22,  2.82s/it]"
     ]
    },
    {
     "name": "stdout",
     "output_type": "stream",
     "text": [
      "Course Title:\n",
      "How to Begin... and How to Continue\n",
      "How Not to Fail\n",
      "The Truth of the Story Lies in the Details\n",
      "Writing to be Read\n",
      "Ratings: ['4.8']\n",
      "Evaluations: ['30']\n"
     ]
    },
    {
     "name": "stderr",
     "output_type": "stream",
     "text": [
      "\r",
      "277it [09:24,  2.64s/it]"
     ]
    },
    {
     "name": "stdout",
     "output_type": "stream",
     "text": [
      "Course Title:\n",
      "Unidad 1: Detección temprana de los riesgos por curso de vida en salud mental y consumo de sustancias psicoactivas\n",
      "Módulo 3: ¿Cómo identificar los problemas mentales, trastornos mentales, consumo de sustancias psicoactivas y epilepsia en la comunidad?\n",
      "Unidad 2: Primeros auxilios psicológicos, intervención motivacional breve y abordaje comunitario. \n",
      "Módulo 6: Principios de intervención motivacional breve, canalización y seguimiento\n",
      "Profundización: Manejo comunitario\n",
      "Módulo 10: Derechos y deberes en salud, acceso a los servicios, mecanismos de exigibilidad del derecho a la salud.\n",
      "Ratings: ['4.9']\n",
      "Evaluations: ['9', '9']\n"
     ]
    },
    {
     "name": "stderr",
     "output_type": "stream",
     "text": [
      "\r",
      "278it [09:28,  3.11s/it]"
     ]
    },
    {
     "name": "stdout",
     "output_type": "stream",
     "text": [
      "Course Title:\n",
      "Introduction to Emergency Medical Technician (EMT)\n",
      "Basic Human Anatomy\n",
      "Communication With A Healthcare Provider\n",
      "Vital Signs and History Taking\n",
      "Immediately Upon Arrival To The Scene\n",
      "Ratings: ['4.9']\n",
      "Evaluations: ['338', '338', '338']\n"
     ]
    },
    {
     "name": "stderr",
     "output_type": "stream",
     "text": [
      "\r",
      "279it [09:32,  3.11s/it]"
     ]
    },
    {
     "name": "stdout",
     "output_type": "stream",
     "text": [
      "Course Title:\n",
      "Making sense of the news is more important than ever\n",
      "What is news and who decides?\n",
      "Where can we find trustworthy information?\n",
      "Says who?\n",
      "How do I apply news literacy skills?\n",
      "Meeting the challenges of digital citizenship\n",
      "Ratings: ['4.9']\n",
      "Evaluations: ['49', '49', '49']\n"
     ]
    },
    {
     "name": "stderr",
     "output_type": "stream",
     "text": [
      "\r",
      "280it [09:34,  2.81s/it]"
     ]
    },
    {
     "name": "stdout",
     "output_type": "stream",
     "text": [
      "Course Title:\n",
      "Overview and Course Introduction\n",
      "Functional Recovery and Enhancement \n",
      "Applications in Daily Life \n",
      "Mental Health, Psychosocial and Behavioural Challenges \n",
      "From Attachment, Intimacy, Sexuality to the Lifeworld\n",
      "Holistic Experience and Transcendence (HT)\n",
      "Organizational Development and Service System Enhancement\n",
      "Ratings: ['4.7']\n",
      "Evaluations: ['50']\n"
     ]
    },
    {
     "name": "stderr",
     "output_type": "stream",
     "text": [
      "\r",
      "281it [09:36,  2.65s/it]"
     ]
    },
    {
     "name": "stdout",
     "output_type": "stream",
     "text": [
      "Course Title:\n",
      "Introduction to the Cycle\n",
      "Long-Term Artistic Planning\n",
      "Institutional Marketing\n",
      "Programmatic Marketing\n",
      "Family and Boards\n",
      "Fundraising and Course Summary\n",
      "Ratings: ['4.8']\n",
      "Evaluations: ['155', '155']\n"
     ]
    },
    {
     "name": "stderr",
     "output_type": "stream",
     "text": [
      "\r",
      "282it [09:39,  2.72s/it]"
     ]
    },
    {
     "name": "stdout",
     "output_type": "stream",
     "text": [
      "Course Title:\n",
      "Promote the Ethical Use of Data-Driven Technologies\n",
      "Turn Ethical Frameworks into Actionable Steps\n",
      "Detect and Mitigate Ethical Risks\n",
      "Communicate Effectively about Ethical Challenges in Data-Driven Technologies\n",
      "Create and Lead an Ethical Data-Driven Organization\n",
      "Preparing for Your CertNexus Certification Exam\n",
      "Ratings: ['4.7', '4.7', '4.5', '4.4', '4.6', '4.8']\n",
      "Evaluations: ['182', '106', '78', '65', '70', '118']\n"
     ]
    },
    {
     "name": "stderr",
     "output_type": "stream",
     "text": [
      "\r",
      "283it [09:41,  2.52s/it]"
     ]
    },
    {
     "name": "stdout",
     "output_type": "stream",
     "text": [
      "Course Title:\n",
      "Empowering Yourself for the Post-Truth World\n",
      "Who Are the Experts?\n",
      "Can We Build Trust Online?\n",
      "False Representations in Constructed Media\n",
      "Raising and Sharing Our Voices\n",
      "Reinventing a Truthful World\n",
      "Ratings: ['4.2']\n",
      "Evaluations: ['6', '6']\n"
     ]
    },
    {
     "name": "stderr",
     "output_type": "stream",
     "text": [
      "\r",
      "284it [09:42,  2.24s/it]"
     ]
    },
    {
     "name": "stdout",
     "output_type": "stream",
     "text": [
      "Course Title:\n",
      "Week 1 Introduction, Challenges, and Language\n",
      "Week 2 Acquiring Spoken and Written Language\n",
      "Week 3 Reading, Early Reading, and Technological Innovations\n",
      "Ratings: ['4.2']\n",
      "Evaluations: ['41']\n"
     ]
    },
    {
     "name": "stderr",
     "output_type": "stream",
     "text": [
      "\r",
      "285it [09:45,  2.41s/it]"
     ]
    },
    {
     "name": "stdout",
     "output_type": "stream",
     "text": [
      "Course Title:\n",
      "Introduction to Systems\n",
      "Operationalize Systems Thinking\n",
      "Understanding a Community\n",
      "Ratings: ['4.5']\n",
      "Evaluations: ['32']\n"
     ]
    },
    {
     "name": "stderr",
     "output_type": "stream",
     "text": [
      "\r",
      "286it [09:48,  2.36s/it]"
     ]
    },
    {
     "name": "stdout",
     "output_type": "stream",
     "text": [
      "Course Title:\n",
      "Leadership Lessons From Great Brands\n",
      "The Art of Leadership Storytelling Made Simple\n",
      "Storytelling in Crisis: The Ultimate Marketing Event\n",
      "Leadership Storytelling and Innovation \n",
      "Ratings: ['4.6']\n",
      "Evaluations: ['141', '141', '141']\n"
     ]
    },
    {
     "name": "stderr",
     "output_type": "stream",
     "text": [
      "\r",
      "287it [09:50,  2.36s/it]"
     ]
    },
    {
     "name": "stdout",
     "output_type": "stream",
     "text": [
      "Course Title:\n",
      "Course Preview and Intro\n",
      "Taking on a New Leadership Role\n",
      "Getting Oriented and Assessing Your Team\n",
      "Communication in an Age of Super Transparency\n",
      "Leading Collaboration\n",
      "Motivating and Inspiring\n",
      "Effective Governance\n",
      "Leading Change \n",
      "Managing Talent\n",
      " Leading in Crisis\n",
      "  Leading Innovation\n",
      " Leading Execution\n",
      " Public Life, Private Life\n",
      " Vision and the Role of Culture\n",
      "  Modern Theories of Leadership\n",
      "  A Study in Leadership Failure: The Financial Crisis (Part 1)\n",
      "A Study in Leadership Failure: The Financial Crisis (Part 2)\n",
      " Real Leadership Case Study: Lord John Browne, British Petroleum \n",
      " Synthesis - Leadership in 21st Century Organizations\n",
      "Ratings: ['4.8']\n",
      "Evaluations: ['276', '276']\n"
     ]
    },
    {
     "name": "stderr",
     "output_type": "stream",
     "text": [
      "\r",
      "288it [09:51,  2.05s/it]"
     ]
    },
    {
     "name": "stdout",
     "output_type": "stream",
     "text": [
      "Course Title:\n",
      "Foundations of Career Navigating and Coaching\n",
      "Client Intake, Assessments, Skill Analysis and Planning\n",
      "Supporting Clients\n",
      "Career Support Community and Resources\n",
      "Ratings: ['4.7', '4.7']\n",
      "Evaluations: ['54', '16']\n"
     ]
    },
    {
     "name": "stderr",
     "output_type": "stream",
     "text": [
      "\r",
      "289it [09:54,  2.42s/it]"
     ]
    },
    {
     "name": "stdout",
     "output_type": "stream",
     "text": [
      "Course Title:\n",
      "Introduction to Management: Communicating with Direct Reports & Teams \n",
      "Coaching Direct Reports & Teams and Influencing Without Authority\n",
      "Strategy,   Priorities, Projects \n",
      "Making High-Quality, Ethical Decisions\n",
      "Ratings: ['4.9']\n",
      "Evaluations: ['67']\n"
     ]
    },
    {
     "name": "stderr",
     "output_type": "stream",
     "text": [
      "\r",
      "290it [10:03,  4.17s/it]"
     ]
    },
    {
     "name": "stdout",
     "output_type": "stream",
     "text": [
      "Course Title:\n",
      "LEADERSHIP ACUMEN\n",
      "NAVIGATING CULTURE\n",
      "COMMUNICATING EFFECTIVELY\n",
      "MOTIVATING FOLLOWERS\n",
      "BUILDING PROFESSIONAL NETWORKS\n",
      "MANAGING CONFLICTS\n",
      "Ratings: ['4.8']\n",
      "Evaluations: ['940']\n"
     ]
    },
    {
     "name": "stderr",
     "output_type": "stream",
     "text": [
      "\r",
      "291it [10:05,  3.59s/it]"
     ]
    },
    {
     "name": "stdout",
     "output_type": "stream",
     "text": [
      "Course Title:\n",
      "Interpersonal Skills\n",
      "Ratings: ['4.8']\n",
      "Evaluations: ['50']\n"
     ]
    },
    {
     "name": "stderr",
     "output_type": "stream",
     "text": [
      "\r",
      "292it [10:07,  3.03s/it]"
     ]
    },
    {
     "name": "stdout",
     "output_type": "stream",
     "text": [
      "Course Title:\n",
      "Creating A Positive First Impression\n",
      "Becoming A Role Model In The Workplace\n",
      "Effective Time and Resource Management\n",
      "Networking\n",
      "Ratings: ['4.8']\n",
      "Evaluations: ['135']\n"
     ]
    },
    {
     "name": "stderr",
     "output_type": "stream",
     "text": [
      "\r",
      "293it [10:08,  2.55s/it]"
     ]
    },
    {
     "name": "stdout",
     "output_type": "stream",
     "text": [
      "Course Title:\n",
      "What is Social?\n",
      "The Importance of Listening\n",
      "Engagement & Nurture Marketing Strategies\n",
      "Content, Advertising & Social IMC\n",
      "The Business of Social\n",
      "Social Marketing Capstone Project\n",
      "Ratings: ['4.6', '4.7', '4.8', '4.7', '4.7', '4.9']\n",
      "Evaluations: ['4', '1', '1', '1', '787', '309']\n"
     ]
    },
    {
     "name": "stderr",
     "output_type": "stream",
     "text": [
      "\r",
      "294it [10:10,  2.48s/it]"
     ]
    },
    {
     "name": "stdout",
     "output_type": "stream",
     "text": [
      "Course Title:\n",
      "Leading Teams: Developing as a Leader\n",
      "Leading Teams: Building Effective Team Cultures\n",
      "Designing the Organization\n",
      "Managing the Organization\n",
      "Business Strategy\n",
      "Corporate Strategy\n",
      "Strategic Leadership and Management Capstone\n",
      "Ratings: ['4.8', '4.8', '4.6', '4.7', '4.8', '4.7', '4.8']\n",
      "Evaluations: ['5', '2', '1', '1', '1', '1', '244']\n"
     ]
    },
    {
     "name": "stderr",
     "output_type": "stream",
     "text": [
      "\r",
      "295it [10:13,  2.43s/it]"
     ]
    },
    {
     "name": "stdout",
     "output_type": "stream",
     "text": [
      "Course Title:\n",
      "Module 1: Foundations in Compassion\n",
      "Module 2: Inclusiveness and Identity\n",
      "Module 3: Speaking Plainly\n",
      "Module 4: The Clinical Story\n",
      "STAFF SANDBOX\n",
      "Ratings: []\n",
      "Evaluations: []\n"
     ]
    },
    {
     "name": "stderr",
     "output_type": "stream",
     "text": [
      "\r",
      "296it [10:15,  2.36s/it]"
     ]
    },
    {
     "name": "stdout",
     "output_type": "stream",
     "text": [
      "Course Title:\n",
      "Self-Awareness\n",
      "Self-Management\n",
      "Social Awareness\n",
      "Social Acceleration\n",
      "Ratings: ['4.7']\n",
      "Evaluations: ['74', '74', '74']\n"
     ]
    },
    {
     "name": "stderr",
     "output_type": "stream",
     "text": [
      "\r",
      "297it [10:18,  2.44s/it]"
     ]
    },
    {
     "name": "stdout",
     "output_type": "stream",
     "text": [
      "Course Title:\n",
      "INTRODUCTION - Appréhender les contours des industries culturelles\n",
      "Cerner les grands enjeux économiques des IC et le potentiel entrepreneurial  \n",
      "OBSERVER LES MUTATIONS DES CONSOMMATIONS CULTURELLES\n",
      "SAISIR LA RECONFIGURATION DES CONTENUS ET DE LA CREATION\n",
      "PENSER LE MODELE DE SON ENTREPRISE\n",
      "ACTIONNER LES BONS LEVIERS DE FINANCEMENTS\n",
      "Promouvoir, diffuser, distribuer les biens culturels aux publics  \n",
      "De l'entrepreneur au dirigeant d'entreprise : la boîte à outils de l'entrepreneuriat culturel\n",
      "Ratings: ['4.6']\n",
      "Evaluations: ['32']\n"
     ]
    },
    {
     "name": "stderr",
     "output_type": "stream",
     "text": [
      "\r",
      "298it [10:20,  2.38s/it]"
     ]
    },
    {
     "name": "stdout",
     "output_type": "stream",
     "text": [
      "Course Title:\n",
      "Ratings: []\n",
      "Evaluations: []\n"
     ]
    },
    {
     "name": "stderr",
     "output_type": "stream",
     "text": [
      "\r",
      "299it [10:22,  2.36s/it]"
     ]
    },
    {
     "name": "stdout",
     "output_type": "stream",
     "text": [
      "Course Title:\n",
      "Introduction to the Organizational Leadership Specialization\n",
      "Leadership\n",
      "Teamwork \n",
      "Negotiation\n",
      "Ratings: ['4.8']\n",
      "Evaluations: ['632']\n"
     ]
    },
    {
     "name": "stderr",
     "output_type": "stream",
     "text": [
      "\r",
      "300it [10:25,  2.47s/it]"
     ]
    },
    {
     "name": "stdout",
     "output_type": "stream",
     "text": [
      "Course Title:\n",
      "Introduction\n",
      "Imagination\n",
      "Care\n",
      "Knowledge\n",
      "Refusal\n",
      "Liberation\n",
      "Ratings: ['4.9']\n",
      "Evaluations: ['33', '33']\n"
     ]
    },
    {
     "name": "stderr",
     "output_type": "stream",
     "text": [
      "\r",
      "301it [10:27,  2.37s/it]"
     ]
    },
    {
     "name": "stdout",
     "output_type": "stream",
     "text": [
      "Course Title:\n",
      "The Art of Music Production\n",
      "The Technology of Music Production\n",
      "Pro Tools Basics\n",
      "Music Production Capstone\n",
      "Ratings: ['4.8', '4.8', '4.7', '4.8']\n",
      "Evaluations: ['1', '1', '577', '108']\n"
     ]
    },
    {
     "name": "stderr",
     "output_type": "stream",
     "text": [
      "\r",
      "302it [10:30,  2.42s/it]"
     ]
    },
    {
     "name": "stdout",
     "output_type": "stream",
     "text": [
      "Course Title:\n",
      "Introduction: Family Policy Handbook Project \n",
      "Foundations for Early Childhood\n",
      "Family Engagement\n",
      "Observation and Assessment of Children\n",
      "Guiding Children's Behavior\n",
      "Inclusion and Diversity\n",
      "Ratings: ['4.7']\n",
      "Evaluations: ['13']\n"
     ]
    },
    {
     "name": "stderr",
     "output_type": "stream",
     "text": [
      "\r",
      "303it [10:32,  2.37s/it]"
     ]
    },
    {
     "name": "stdout",
     "output_type": "stream",
     "text": [
      "Course Title:\n",
      "Modern Art & Ideas\n",
      "Seeing Through Photographs\n",
      "What Is Contemporary Art?\n",
      "Fashion as Design\n",
      "Ratings: ['4.8', '4.8', '4.7', '4.8']\n",
      "Evaluations: ['6', '4', '1', '2']\n"
     ]
    },
    {
     "name": "stderr",
     "output_type": "stream",
     "text": [
      "\r",
      "304it [10:34,  2.27s/it]"
     ]
    },
    {
     "name": "stdout",
     "output_type": "stream",
     "text": [
      "Course Title:\n",
      "Fundamentals of Graphic Design\n",
      "Introduction to Typography\n",
      "Introduction to Imagemaking\n",
      "Ideas from the History of Graphic Design\n",
      "Brand New Brand\n",
      "Ratings: ['4.8', '4.8', '4.5', '4.7', '4.9']\n",
      "Evaluations: ['16', '5', '2', '2', '1']\n"
     ]
    },
    {
     "name": "stderr",
     "output_type": "stream",
     "text": [
      "\r",
      "305it [10:36,  2.11s/it]"
     ]
    },
    {
     "name": "stdout",
     "output_type": "stream",
     "text": [
      "Course Title:\n",
      "Unpacking Creativity\n",
      "Creativity Over Time\n",
      "Theoretical Concepts and Frameworks Around Creativity\n",
      "Exploring Perceptions of Beautiful vs. Meaningful\n",
      "Creative Systems and Computational Experiments\n",
      "Ratings: []\n",
      "Evaluations: []\n"
     ]
    },
    {
     "name": "stderr",
     "output_type": "stream",
     "text": [
      "\r",
      "306it [10:37,  2.00s/it]"
     ]
    },
    {
     "name": "stdout",
     "output_type": "stream",
     "text": [
      "Course Title:\n",
      "Can Machines Be Creative?\n",
      "The Poetical Science of AI\n",
      "Advanced Theories and Techniques Behind Artificial Creativity: Part I\n",
      "How to Make Things Creative II\n",
      "Would You Collaborate With a Machine?\n",
      "Ratings: ['4.8']\n",
      "Evaluations: ['15']\n"
     ]
    },
    {
     "name": "stderr",
     "output_type": "stream",
     "text": [
      "\r",
      "307it [10:40,  2.32s/it]"
     ]
    },
    {
     "name": "stdout",
     "output_type": "stream",
     "text": [
      "Course Title:\n",
      "Strategic Innovation: Building and Sustaining Innovative Organizations\n",
      "Strategic Innovation: Managing Innovation Initiatives\n",
      "Creativity Toolkit I: Changing Perspectives\n",
      "Creativity Toolkit II: Creative Collaboration\n",
      "Entrepreneurship I: Laying the Foundation\n",
      "Entrepreneurship II: Preparing for Launch\n",
      "Innovation: From Creativity to Entrepreneurship Capstone\n",
      "Ratings: ['4.8', '4.7', '4.8', '4.7', '4.8', '4.8', '4.6']\n",
      "Evaluations: ['1', '607', '551', '344', '1', '634', '66']\n"
     ]
    },
    {
     "name": "stderr",
     "output_type": "stream",
     "text": [
      "\r",
      "308it [10:42,  2.21s/it]"
     ]
    },
    {
     "name": "stdout",
     "output_type": "stream",
     "text": [
      "Course Title:\n",
      "Introduction\n",
      "The Adoption of Innovations\n",
      "The Fuzzy Front-End - Creativity\n",
      "The Fuzzy Front-End - Idea Management\n",
      "Strategy - Innovation Strategy\n",
      "Strategy - Portfolio Management\n",
      "Execution - Implementing Innovation\n",
      "Execution - Teams and Networks\n",
      "Final exam\n",
      "Ratings: ['4.6']\n",
      "Evaluations: ['490', '490', '490']\n"
     ]
    },
    {
     "name": "stderr",
     "output_type": "stream",
     "text": [
      "\r",
      "309it [10:43,  1.88s/it]"
     ]
    },
    {
     "name": "stdout",
     "output_type": "stream",
     "text": [
      "Course Title:\n",
      "Learn step-by-step\n",
      "Ratings: ['3.9']\n",
      "Evaluations: ['8']\n"
     ]
    },
    {
     "name": "stderr",
     "output_type": "stream",
     "text": [
      "\r",
      "310it [10:45,  1.80s/it]"
     ]
    },
    {
     "name": "stdout",
     "output_type": "stream",
     "text": [
      "Course Title:\n",
      "Leading Teams: Developing as a Leader\n",
      "Leading Teams: Building Effective Team Cultures\n",
      "Designing the Organization\n",
      "Managing the Organization\n",
      "Business Strategy\n",
      "Corporate Strategy\n",
      "Strategic Leadership and Management Capstone\n",
      "Ratings: ['4.8', '4.8', '4.6', '4.7', '4.8', '4.7', '4.8']\n",
      "Evaluations: ['5', '2', '1', '1', '1', '1', '244']\n"
     ]
    },
    {
     "name": "stderr",
     "output_type": "stream",
     "text": [
      "\r",
      "311it [10:47,  1.99s/it]"
     ]
    },
    {
     "name": "stdout",
     "output_type": "stream",
     "text": [
      "Course Title:\n",
      "Positive Psychology: Martin E. P. Seligman’s Visionary Science\n",
      "Positive Psychology: Applications and Interventions\n",
      "Positive Psychology: Character, Grit and Research Methods\n",
      "Positive Psychology: Resilience Skills\n",
      "Positive Psychology Specialization Project: Design Your Life for Well-being\n",
      "Ratings: ['4.9', '4.8', '4.4', '4.9', '4.8']\n",
      "Evaluations: ['5', '1', '1', '2', '766']\n"
     ]
    },
    {
     "name": "stderr",
     "output_type": "stream",
     "text": [
      "\r",
      "312it [10:49,  1.96s/it]"
     ]
    },
    {
     "name": "stdout",
     "output_type": "stream",
     "text": [
      "Course Title:\n",
      "Genius Defined,   Genius Denied ,  Genius and Geography\n",
      "First Things First    \n",
      "What Makes Genius?\n",
      "Disruption, Genius and Morality, Genius and “Disability”\n",
      "Ratings: ['5.0']\n",
      "Evaluations: ['87']\n"
     ]
    },
    {
     "name": "stderr",
     "output_type": "stream",
     "text": [
      "\r",
      "313it [10:51,  1.84s/it]"
     ]
    },
    {
     "name": "stdout",
     "output_type": "stream",
     "text": [
      "Course Title:\n",
      "Storying the Self: How Stories Shape our Identities\n",
      "Storying the Self: (Re)Claiming our Voices\n",
      "Storying the Self: Telling our Stories\n",
      "Ratings: []\n",
      "Evaluations: []\n"
     ]
    },
    {
     "name": "stderr",
     "output_type": "stream",
     "text": [
      "\r",
      "314it [10:54,  2.07s/it]"
     ]
    },
    {
     "name": "stdout",
     "output_type": "stream",
     "text": [
      "Course Title:\n",
      "Orientation and Module 1: Melody\n",
      "Harmony\n",
      "Post Tonal Music Composition\n",
      "Ratings: ['4.8']\n",
      "Evaluations: ['34', '34', '34']\n"
     ]
    },
    {
     "name": "stderr",
     "output_type": "stream",
     "text": [
      "\r",
      "315it [10:56,  2.16s/it]"
     ]
    },
    {
     "name": "stdout",
     "output_type": "stream",
     "text": [
      "Course Title:\n",
      "Topic 1.  The Character of Innovation\n",
      "Topic 2.  Principles of Innovation Management\n",
      "Topic 3. Innovation Techniques\n",
      "Topic 4. Lean Innovation\n",
      "Ratings: []\n",
      "Evaluations: []\n"
     ]
    },
    {
     "name": "stderr",
     "output_type": "stream",
     "text": [
      "\r",
      "316it [10:58,  2.12s/it]"
     ]
    },
    {
     "name": "stdout",
     "output_type": "stream",
     "text": [
      "Course Title:\n",
      "Learn step-by-step\n",
      "Ratings: []\n",
      "Evaluations: []\n"
     ]
    },
    {
     "name": "stderr",
     "output_type": "stream",
     "text": [
      "\r",
      "317it [11:00,  2.01s/it]"
     ]
    },
    {
     "name": "stdout",
     "output_type": "stream",
     "text": [
      "Course Title:\n",
      "Worldview\n",
      "Fur Trade\n",
      "Trick or Treaty\n",
      "New Rules, New Game\n",
      "“Killing the Indian in the Child”\n",
      "A Modern Indian?\n",
      "Red Power\n",
      "Sovereign Lands\n",
      "Indigenous Women\n",
      "Indigenous in the City\n",
      "Current Social Movements\n",
      "‘Living’ Traditions – Expressions in Pop Culture and Art\n",
      "Ratings: ['4.8']\n",
      "Evaluations: ['12']\n"
     ]
    },
    {
     "name": "stderr",
     "output_type": "stream",
     "text": [
      "\r",
      "318it [11:04,  2.74s/it]"
     ]
    },
    {
     "name": "stdout",
     "output_type": "stream",
     "text": [
      "Course Title:\n",
      "Digital Transformation\n",
      "Design Thinking for Innovation\n",
      "Digital Product Management: Modern Fundamentals\n",
      "Customer-Centric IT Strategy\n",
      "Ratings: ['4.8', '4.7', '4.7', '4.6']\n",
      "Evaluations: ['5', '8', '4', '612']\n"
     ]
    },
    {
     "name": "stderr",
     "output_type": "stream",
     "text": [
      "\r",
      "319it [11:06,  2.42s/it]"
     ]
    },
    {
     "name": "stdout",
     "output_type": "stream",
     "text": [
      "Course Title:\n",
      "Develop Your Transmedia Concept\n",
      "Write The First Chapter Of Your Novel\n",
      "Write Chapter Two Of Your Novel\n",
      "Adapt Chapter One To The Opening Scenes Of Your Screenplay\n",
      "Adapt Chapter Two Into Screenplay Format\n",
      "Transform Your IP Into a Concept for a Game Design\n",
      "Ratings: ['4.5']\n",
      "Evaluations: ['13']\n"
     ]
    },
    {
     "name": "stderr",
     "output_type": "stream",
     "text": [
      "\r",
      "320it [11:08,  2.24s/it]"
     ]
    },
    {
     "name": "stdout",
     "output_type": "stream",
     "text": [
      "Course Title:\n",
      "Business Writing\n",
      "Graphic Design\n",
      "Successful Presentation\n",
      "Effective Communication Capstone Project\n",
      "Ratings: ['4.8', '4.8', '4.8', '4.7']\n",
      "Evaluations: ['4', '2', '4', '135']\n"
     ]
    },
    {
     "name": "stderr",
     "output_type": "stream",
     "text": [
      "\r",
      "321it [11:09,  2.07s/it]"
     ]
    },
    {
     "name": "stdout",
     "output_type": "stream",
     "text": [
      "Course Title:\n",
      "Welcome!\n",
      "Your Foundation\n",
      "Your Brand\n",
      "Your Record\n",
      "Your Money\n",
      "Your Career\n",
      "Ratings: ['4.4']\n",
      "Evaluations: ['75']\n"
     ]
    },
    {
     "name": "stderr",
     "output_type": "stream",
     "text": [
      "\r",
      "322it [11:11,  1.84s/it]"
     ]
    },
    {
     "name": "stdout",
     "output_type": "stream",
     "text": [
      "Course Title:\n",
      "Writing and Editing: Word Choice and Word Order\n",
      "Writing and Editing: Structure and Organization\n",
      "Writing and Editing: Drafting\n",
      "Writing and Editing: Revising\n",
      "Ratings: ['4.7', '4.8', '4.8', '4.8']\n",
      "Evaluations: ['1', '486', '310', '332']\n"
     ]
    },
    {
     "name": "stderr",
     "output_type": "stream",
     "text": [
      "\r",
      "323it [11:14,  2.24s/it]"
     ]
    },
    {
     "name": "stdout",
     "output_type": "stream",
     "text": [
      "Course Title:\n",
      "Global Trends for Business and Society\n",
      "Corruption\n",
      "Social Entrepreneurship\n",
      "Business Strategies for Social Impact\n",
      "Ratings: ['4.8', '4.7', '4.7', '4.6']\n",
      "Evaluations: ['879', '526', '385', '528']\n"
     ]
    },
    {
     "name": "stderr",
     "output_type": "stream",
     "text": [
      "\r",
      "324it [11:15,  2.05s/it]"
     ]
    },
    {
     "name": "stdout",
     "output_type": "stream",
     "text": [
      "Course Title:\n",
      "Brand Identity and Strategy\n",
      " Storytelling in Branding and Content Marketing \n",
      "From Brand to Image: Creating High Impact Campaigns That Tell Brand Stories\n",
      "Branding and Customer Experience\n",
      "Ratings: ['4.7', '4.4', '4.7', '4.7']\n",
      "Evaluations: ['709', '257', '228', '431']\n"
     ]
    },
    {
     "name": "stderr",
     "output_type": "stream",
     "text": [
      "\r",
      "325it [11:17,  1.94s/it]"
     ]
    },
    {
     "name": "stdout",
     "output_type": "stream",
     "text": [
      "Course Title:\n",
      "Fashion Systems\n",
      "Fashion Design\n",
      "Fashion Retail Transformation\n",
      "Ratings: ['4.7', '4.7', '4.7']\n",
      "Evaluations: ['160', '179', '68']\n"
     ]
    },
    {
     "name": "stderr",
     "output_type": "stream",
     "text": [
      "\r",
      "326it [11:18,  1.79s/it]"
     ]
    },
    {
     "name": "stdout",
     "output_type": "stream",
     "text": [
      "Course Title:\n",
      "Music Business Foundations\n",
      "Building Your Career in Music: Developing A Brand and Funding Your Music\n",
      "Copyright Law in the Music Business\n",
      "Creativity And Entrepreneurship \n",
      "Ratings: ['4.9', '4.4', '4.8', '4.7']\n",
      "Evaluations: ['2', '445', '620', '324']\n"
     ]
    },
    {
     "name": "stderr",
     "output_type": "stream",
     "text": [
      "\r",
      "327it [11:21,  2.13s/it]"
     ]
    },
    {
     "name": "stdout",
     "output_type": "stream",
     "text": [
      "Course Title:\n",
      "Songwriting: Writing the Lyrics\n",
      "Songwriting: Writing the Music\n",
      "Arranging for Songwriters\n",
      "Introduction to Ableton Live\n",
      "Ratings: ['4.8', '4.9', '4.5', '4.8']\n",
      "Evaluations: ['830', '36', '68', '1']\n"
     ]
    },
    {
     "name": "stderr",
     "output_type": "stream",
     "text": [
      "\r",
      "328it [11:23,  1.95s/it]"
     ]
    },
    {
     "name": "stdout",
     "output_type": "stream",
     "text": [
      "Course Title:\n",
      "Teaching Popular Music in the Classroom\n",
      "Jazz Improvisation\n",
      "Arranging for Songwriters\n",
      "The Art of Music Production\n",
      "Ratings: ['4.7', '4.8', '4.5', '4.8']\n",
      "Evaluations: ['84', '778', '68', '1']\n"
     ]
    },
    {
     "name": "stderr",
     "output_type": "stream",
     "text": [
      "\r",
      "329it [11:25,  1.83s/it]"
     ]
    },
    {
     "name": "stdout",
     "output_type": "stream",
     "text": [
      "Course Title:\n",
      "Game Design and Development 1: 2D Shooter\n",
      "Game Design and Development 2: 2D Platformer\n",
      "Game Design and Development 3: 3D Shooter\n",
      "Game Design and Development 4: 3D Platformer\n",
      "Game Design and Development 5: Capstone Project\n",
      "Ratings: ['4.7', '4.7', '4.8', '4.7', '4.8']\n",
      "Evaluations: ['396', '93', '45', '32', '29']\n"
     ]
    },
    {
     "name": "stderr",
     "output_type": "stream",
     "text": [
      "\r",
      "330it [11:26,  1.70s/it]"
     ]
    },
    {
     "name": "stdout",
     "output_type": "stream",
     "text": [
      "Course Title:\n",
      "Ready, Set, Future! Introduction to Futures Thinking\n",
      "Forecasting Skills: See the Future Before it Happens\n",
      "Simulation Skills: This is Your Brain on the Future\n",
      "Collaborative Foresight: How to Game the Future\n",
      "Urgent Optimism: How to Turn Foresight into Action\n",
      "Ratings: ['4.8', '4.9', '4.8', '4.9', '4.8']\n",
      "Evaluations: ['1', '421', '341', '208', '207']\n"
     ]
    },
    {
     "name": "stderr",
     "output_type": "stream",
     "text": [
      "\r",
      "331it [11:27,  1.63s/it]"
     ]
    },
    {
     "name": "stdout",
     "output_type": "stream",
     "text": [
      "Course Title:\n",
      "High Performance Collaboration: Leadership, Teamwork, and Negotiation\n",
      "Leadership Communication for Maximum Impact: Storytelling\n",
      "Leadership Through Social Influence\n",
      "Leadership Through Marketing\n",
      "Leadership Through Design Innovation\n",
      "Organizational Leadership Capstone\n",
      "Ratings: ['4.8', '4.5', '4.7', '4.6', '4.3', '4.7']\n",
      "Evaluations: ['2', '1', '1', '439', '303', '87']\n"
     ]
    },
    {
     "name": "stderr",
     "output_type": "stream",
     "text": [
      "\r",
      "332it [11:30,  2.06s/it]"
     ]
    },
    {
     "name": "stdout",
     "output_type": "stream",
     "text": [
      "Course Title:\n",
      "Introduction to UI Design\n",
      "User Research and Design\n",
      "Prototyping and Design\n",
      "Evaluating User Interfaces\n",
      "Ratings: ['4.6', '4.6', '4.6', '4.7']\n",
      "Evaluations: ['1', '433', '374', '255']\n"
     ]
    },
    {
     "name": "stderr",
     "output_type": "stream",
     "text": [
      "\r",
      "333it [11:32,  1.86s/it]"
     ]
    },
    {
     "name": "stdout",
     "output_type": "stream",
     "text": [
      "Course Title:\n",
      "Introduction to Blockchain Technologies\n",
      "Transacting on the Blockchain\n",
      "Blockchain and Business\n",
      "Blockchain Opportunity Analysis\n",
      "Ratings: ['4.7', '4.8', '4.7', '4.6']\n",
      "Evaluations: ['2', '885', '394', '190']\n"
     ]
    },
    {
     "name": "stderr",
     "output_type": "stream",
     "text": [
      "\r",
      "334it [11:34,  1.92s/it]"
     ]
    },
    {
     "name": "stdout",
     "output_type": "stream",
     "text": [
      "Course Title:\n",
      "Positive Psychology Introduction by Dr. Martin Seligman\n",
      "The Skills of Well-being Can Be Learned, Taught, and Transformative\n",
      "Being Whole: Mind/Body Flourishing Throughout Life\n",
      "Future Directions in Positive Psychology\n",
      "Ratings: ['4.9']\n",
      "Evaluations: ['1']\n"
     ]
    },
    {
     "name": "stderr",
     "output_type": "stream",
     "text": [
      "\r",
      "335it [11:36,  2.08s/it]"
     ]
    },
    {
     "name": "stdout",
     "output_type": "stream",
     "text": [
      "Course Title:\n",
      "Why Smart Executives Fail: Common Mistakes & Warning Signs\n",
      "Decision-Making: Blending Art & Science\n",
      "Superbosses: Managing Talent & Leadership\n",
      "Lessons on Wisdom: Personal Leadership for Your Life\n",
      "Ratings: ['4.9', '4.8', '4.9', '5.0']\n",
      "Evaluations: ['169', '67', '58', '27']\n"
     ]
    },
    {
     "name": "stderr",
     "output_type": "stream",
     "text": [
      "\r",
      "336it [11:39,  2.20s/it]"
     ]
    },
    {
     "name": "stdout",
     "output_type": "stream",
     "text": [
      "Course Title:\n",
      "Social Media and Digital Marketing Fundamentals\n",
      "Social Media and Social Content Strategy\n",
      "Facebook, Instagram, and Snapchat Marketing\n",
      "Twitter, LinkedIn, and YouTube Marketing\n",
      "Ratings: ['4.6', '4.5', '3.8', '4.4']\n",
      "Evaluations: ['167', '37', '35', '41']\n"
     ]
    },
    {
     "name": "stderr",
     "output_type": "stream",
     "text": [
      "\r",
      "337it [11:40,  2.03s/it]"
     ]
    },
    {
     "name": "stdout",
     "output_type": "stream",
     "text": [
      "Course Title:\n",
      "Uncommon Sense Teaching\n",
      "Uncommon Sense Teaching: Part 2, Building Community and Habits of Learning\n",
      "Uncommon Sense Teaching: Teaching Online\n",
      "Ratings: ['4.9', '4.9', '5.0']\n",
      "Evaluations: ['517', '91', '32']\n"
     ]
    },
    {
     "name": "stderr",
     "output_type": "stream",
     "text": [
      "\r",
      "338it [11:42,  1.98s/it]"
     ]
    },
    {
     "name": "stdout",
     "output_type": "stream",
     "text": [
      "Course Title:\n",
      "Developing An Entrepreneurial Mindset: First Step Towards Success \n",
      "The Search for Great Ideas: Harnessing creativity to empower innovation. \n",
      "Planning: Principled, Proposing, Proofing, and Practicing to a Success Plan\n",
      "Structure: Building the Frame for Business Growth\n",
      "Launch Strategy: 5 Steps to Capstone Experience\n",
      "Capstone - Launch Your Own Business!\n",
      "Ratings: ['4.6', '4.5', '4.6', '4.8', '4.8', '4.9']\n",
      "Evaluations: ['785', '242', '154', '143', '108', '116']\n"
     ]
    },
    {
     "name": "stderr",
     "output_type": "stream",
     "text": [
      "\r",
      "339it [11:45,  2.16s/it]"
     ]
    },
    {
     "name": "stdout",
     "output_type": "stream",
     "text": [
      "Course Title:\n",
      "Course Introduction\n",
      "Visual Arts\n",
      "Music\n",
      "Movement\n",
      "Word\n",
      "Conclusion\n",
      "Ratings: ['4.7']\n",
      "Evaluations: ['253', '253']\n"
     ]
    },
    {
     "name": "stderr",
     "output_type": "stream",
     "text": [
      "\r",
      "340it [11:46,  1.88s/it]"
     ]
    },
    {
     "name": "stdout",
     "output_type": "stream",
     "text": [
      "Course Title:\n",
      "Game Developers and Esports Organizations\n",
      "Esports Teams and Professional Players\n",
      "Collegiate Esports and Career Planning\n",
      "Esports Management Capstone Project\n",
      "Ratings: ['4.6', '4.6', '4.5', '4.5']\n",
      "Evaluations: ['172', '74', '49', '42']\n"
     ]
    },
    {
     "name": "stderr",
     "output_type": "stream",
     "text": [
      "\r",
      "341it [11:48,  1.88s/it]"
     ]
    },
    {
     "name": "stdout",
     "output_type": "stream",
     "text": [
      "Course Title:\n",
      "Legal Foundations for Entrepreneurs\n",
      "Intellectual Property for Entrepreneurs\n",
      "Legal Contracts and Agreements for Entrepreneurs\n",
      "Ratings: ['4.9', '4.9', '4.9']\n",
      "Evaluations: ['45', '28', '59']\n"
     ]
    },
    {
     "name": "stderr",
     "output_type": "stream",
     "text": [
      "\r",
      "342it [11:50,  2.02s/it]"
     ]
    },
    {
     "name": "stdout",
     "output_type": "stream",
     "text": [
      "Course Title:\n",
      "What is Creativity?\n",
      "Zoom in, Zoom out, Zoom in\n",
      "Creativity in practice\n",
      "Reinventing yourself\n",
      "Bonus material (ungraded module)\n",
      "Ratings: ['4.8']\n",
      "Evaluations: ['211']\n"
     ]
    },
    {
     "name": "stderr",
     "output_type": "stream",
     "text": [
      "\r",
      "343it [11:52,  1.93s/it]"
     ]
    },
    {
     "name": "stdout",
     "output_type": "stream",
     "text": [
      "Course Title:\n",
      "Module One\n",
      "Module Two\n",
      "Module Three\n",
      "Module Four\n",
      "Module Five\n",
      "Module Six\n",
      "Ratings: ['4.9']\n",
      "Evaluations: ['65']\n"
     ]
    },
    {
     "name": "stderr",
     "output_type": "stream",
     "text": [
      "\r",
      "344it [11:54,  1.84s/it]"
     ]
    },
    {
     "name": "stdout",
     "output_type": "stream",
     "text": [
      "Course Title:\n",
      "Introduction\n",
      "Immersion\n",
      "Ideas\n",
      "Be Ready for the Challenge\n",
      "You, Social Entrepreneur\n",
      "Ratings: ['4.6']\n",
      "Evaluations: ['21']\n"
     ]
    },
    {
     "name": "stderr",
     "output_type": "stream",
     "text": [
      "\r",
      "345it [11:55,  1.74s/it]"
     ]
    },
    {
     "name": "stdout",
     "output_type": "stream",
     "text": [
      "Course Title:\n",
      "¿Cómo convertir mi idea en empresa?\n",
      "¿Cómo construir mi modelo de negocio?\n",
      "¿Cómo financiar mi empresa?\n",
      "Mi nueva empresa: los siguientes pasos \n",
      "Ratings: ['4.7', '4.8', '4.8', '4.9']\n",
      "Evaluations: ['451', '412', '258', '32']\n"
     ]
    },
    {
     "name": "stderr",
     "output_type": "stream",
     "text": [
      "\r",
      "346it [11:57,  1.88s/it]"
     ]
    },
    {
     "name": "stdout",
     "output_type": "stream",
     "text": [
      "Course Title:\n",
      "Module 1: Capstone Course Overview and Innovation Review\n",
      "Module 2\n",
      "Module 3\n",
      "Module 4\n",
      "Module 5\n",
      "Module 6\n",
      "Ratings: ['3.9']\n",
      "Evaluations: ['15']\n"
     ]
    },
    {
     "name": "stderr",
     "output_type": "stream",
     "text": [
      "\r",
      "347it [11:59,  1.84s/it]"
     ]
    },
    {
     "name": "stdout",
     "output_type": "stream",
     "text": [
      "Course Title:\n",
      "Course Orientation\n",
      "Module 1: Pitching Ideas\n",
      "Module 2: Evaluating Ideas\n",
      "Module 3: The Allure of Team Creativity\n",
      "Module 4: Breaking the Barriers to Team Creativity\n",
      "Ratings: ['4.8']\n",
      "Evaluations: ['24', '24', '24']\n"
     ]
    },
    {
     "name": "stderr",
     "output_type": "stream",
     "text": [
      "\r",
      "348it [12:02,  2.08s/it]"
     ]
    },
    {
     "name": "stdout",
     "output_type": "stream",
     "text": [
      "Course Title:\n",
      "Course Orientation\n",
      "Module 1: Being Creative\n",
      "Module 2: Raw Materials and End Products\n",
      "Module 3: The Creative Journey\n",
      "Module 4 Supporting Creativity\n",
      "Ratings: ['4.8']\n",
      "Evaluations: ['112', '112', '112']\n"
     ]
    },
    {
     "name": "stderr",
     "output_type": "stream",
     "text": [
      "\r",
      "349it [12:04,  2.04s/it]"
     ]
    },
    {
     "name": "stdout",
     "output_type": "stream",
     "text": [
      "Course Title:\n",
      "Why Health? \n",
      "Day in the Life Snapshots\n",
      "Keeping it Real - Healthcare Career Journeys\n",
      "Personal Story\n",
      "Professional Networking\n",
      "Resume\n",
      "Cover Letter \n",
      "Interviews\n",
      "Supplementary Topics\n",
      "Ratings: ['4.8']\n",
      "Evaluations: ['36', '36']\n"
     ]
    },
    {
     "name": "stderr",
     "output_type": "stream",
     "text": [
      "\r",
      "350it [12:06,  2.10s/it]"
     ]
    },
    {
     "name": "stdout",
     "output_type": "stream",
     "text": [
      "Course Title:\n",
      "Week 1: Image-based Research\n",
      "Week 2: Making Images\n",
      "Week 3: Composition is Relational\n",
      "Week 4: Designing a Book with Your Images\n",
      "Ratings: ['4.4']\n",
      "Evaluations: ['328']\n"
     ]
    },
    {
     "name": "stderr",
     "output_type": "stream",
     "text": [
      "\r",
      "351it [12:08,  2.00s/it]"
     ]
    },
    {
     "name": "stdout",
     "output_type": "stream",
     "text": [
      "Course Title:\n",
      "Fandom, Social Media, and Authenticity in the Digital Age\n",
      "Fandom, Community, and Identity in Popular Music\n",
      "Comic Books, Geek Culture, and the Fandom Imaginary\n",
      "Ratings: []\n",
      "Evaluations: []\n"
     ]
    },
    {
     "name": "stderr",
     "output_type": "stream",
     "text": [
      "\r",
      "352it [12:10,  2.21s/it]"
     ]
    },
    {
     "name": "stdout",
     "output_type": "stream",
     "text": [
      "Course Title:\n",
      "Welcome to the Future\n",
      "Signals of Change\n",
      "Look Back to Look Forward\n",
      "Four Types of Futures Thinking\n",
      "Ratings: ['4.9']\n",
      "Evaluations: ['417']\n"
     ]
    },
    {
     "name": "stderr",
     "output_type": "stream",
     "text": [
      "\r",
      "353it [12:12,  2.08s/it]"
     ]
    },
    {
     "name": "stdout",
     "output_type": "stream",
     "text": [
      "Course Title:\n",
      "Introduction to Seeing Through Photographs\n",
      "One Subject, Many Perspectives\n",
      "Documents and the Documentary\n",
      "One and Another\n",
      "Constructing Narratives, Challenging Histories\n",
      "Pictures of People\n",
      "Ocean of Images\n",
      "Ratings: ['4.8']\n",
      "Evaluations: ['716', '716']\n"
     ]
    },
    {
     "name": "stderr",
     "output_type": "stream",
     "text": [
      "\r",
      "354it [12:14,  1.90s/it]"
     ]
    },
    {
     "name": "stdout",
     "output_type": "stream",
     "text": [
      "Course Title:\n",
      "Introduction: Teaching and Learning Science\n",
      "Conceptual Change\n",
      "Teaching with analogies\n",
      "(Re-)Frame your science teaching\n",
      "Teaching science in a lab or field\n",
      "Ratings: ['4.5']\n",
      "Evaluations: ['35', '35', '35']\n"
     ]
    },
    {
     "name": "stderr",
     "output_type": "stream",
     "text": [
      "\r",
      "355it [12:15,  1.85s/it]"
     ]
    },
    {
     "name": "stdout",
     "output_type": "stream",
     "text": [
      "Course Title:\n",
      "Cracking the Creativity Code: Discovering Ideas\n",
      "From Idea to Startup\n",
      "Innovation Career Lessons from a Master\n",
      "Action-Driven Business Plan: From the ‘Classroom’ to the World\n",
      "Ratings: ['4.7', '4.8', '4.8', '4.9']\n",
      "Evaluations: ['979', '756', '338', '323']\n"
     ]
    },
    {
     "name": "stderr",
     "output_type": "stream",
     "text": [
      "\r",
      "356it [12:18,  1.95s/it]"
     ]
    },
    {
     "name": "stdout",
     "output_type": "stream",
     "text": [
      "Course Title:\n",
      "Decision-Making\n",
      "Creative Thinking\n",
      "Problem-Solving\n",
      "Ratings: []\n",
      "Evaluations: []\n"
     ]
    },
    {
     "name": "stderr",
     "output_type": "stream",
     "text": [
      "\r",
      "357it [12:19,  1.87s/it]"
     ]
    },
    {
     "name": "stdout",
     "output_type": "stream",
     "text": [
      "Course Title:\n",
      "Introduction to the Course\n",
      "Divergent and Convergent Thinking\n",
      "Creativity, Motivation and Observation\n",
      "Creativity and Observation\n",
      "Ratings: ['4.5']\n",
      "Evaluations: ['544', '544', '544']\n"
     ]
    },
    {
     "name": "stderr",
     "output_type": "stream",
     "text": [
      "\r",
      "358it [12:21,  1.81s/it]"
     ]
    },
    {
     "name": "stdout",
     "output_type": "stream",
     "text": [
      "Course Title:\n",
      "What is Creativity?\n",
      "The Creative Person\n",
      "The Creative Press\n",
      "The Creative Process\n",
      "The Creative Product\n",
      "Putting Ideas into Context\n",
      "Ratings: ['4.4']\n",
      "Evaluations: ['33', '33']\n"
     ]
    },
    {
     "name": "stderr",
     "output_type": "stream",
     "text": [
      "\r",
      "359it [12:23,  1.95s/it]"
     ]
    },
    {
     "name": "stdout",
     "output_type": "stream",
     "text": [
      "Course Title:\n",
      "Artificial Creativity\n",
      "Natural Creativity\n",
      "Creative Artifacts\n",
      "Ratings: ['4.5', '4.7', '4.7']\n",
      "Evaluations: ['40', '15', '15']\n"
     ]
    },
    {
     "name": "stderr",
     "output_type": "stream",
     "text": [
      "\r",
      "360it [12:26,  2.24s/it]"
     ]
    },
    {
     "name": "stdout",
     "output_type": "stream",
     "text": [
      "Course Title:\n",
      "Innovation Toolbox\n",
      "Understanding Creative Diversity\n",
      "CENTER Model\n",
      "Transformation\n",
      "Ratings: ['4.6']\n",
      "Evaluations: ['83', '83', '83']\n"
     ]
    },
    {
     "name": "stderr",
     "output_type": "stream",
     "text": [
      "\r",
      "361it [12:28,  2.14s/it]"
     ]
    },
    {
     "name": "stdout",
     "output_type": "stream",
     "text": [
      "Course Title:\n",
      "Introduction to the Principles of Creativity\n",
      "Creativity Tools\n",
      "Thinking Styles\n",
      "Morphological Analysis\n",
      "TRIZ - the Theory of Inventive Problem Solving\n",
      "SCAMPER\n",
      "Using the Tools in Combination\n",
      "Ratings: ['4.8']\n",
      "Evaluations: ['1']\n"
     ]
    },
    {
     "name": "stderr",
     "output_type": "stream",
     "text": [
      "\r",
      "362it [12:30,  2.02s/it]"
     ]
    },
    {
     "name": "stdout",
     "output_type": "stream",
     "text": [
      "Course Title:\n",
      "Why Learning Innovation\n",
      "The Intended Learning Outcomes\n",
      "The Assessment\n",
      "The Pedagogical Frameworks\n",
      "The Learning Innovation Network: active classroom\n",
      "The Learning Innovation Network: contents and useful connections\n",
      "Ratings: ['4.8']\n",
      "Evaluations: ['23', '23']\n"
     ]
    },
    {
     "name": "stderr",
     "output_type": "stream",
     "text": [
      "\r",
      "363it [12:32,  1.95s/it]"
     ]
    },
    {
     "name": "stdout",
     "output_type": "stream",
     "text": [
      "Course Title:\n",
      "What Great Strategists Know\n",
      "The Delusions of a Dream Company\n",
      "The Manager as Master Puzzle Solver\n",
      "The Seven Habits of Spectacularly Unsuccessful People\n",
      "Ratings: ['4.9']\n",
      "Evaluations: ['72']\n"
     ]
    },
    {
     "name": "stderr",
     "output_type": "stream",
     "text": [
      "\r",
      "364it [12:33,  1.92s/it]"
     ]
    },
    {
     "name": "stdout",
     "output_type": "stream",
     "text": [
      "Course Title:\n",
      "Develop your TV series concept\n",
      "Write Act One of your pilot episode\n",
      "Write Act Two\n",
      "Act Three\n",
      "Polish your script, create a Cold Open and finish the Season One Bible\n",
      "Ratings: ['4.5']\n",
      "Evaluations: ['137']\n"
     ]
    },
    {
     "name": "stderr",
     "output_type": "stream",
     "text": [
      "\r",
      "365it [12:35,  1.84s/it]"
     ]
    },
    {
     "name": "stdout",
     "output_type": "stream",
     "text": [
      "Course Title:\n",
      "What Is Design Thinking?\n",
      "Preparing Your Mind for Innovation\n",
      "Idea Generation\n",
      "Experimentation\n",
      "Final Assignment\n",
      "Ratings: ['4.7']\n",
      "Evaluations: ['1']\n"
     ]
    },
    {
     "name": "stderr",
     "output_type": "stream",
     "text": [
      "\r",
      "366it [12:37,  1.74s/it]"
     ]
    },
    {
     "name": "stdout",
     "output_type": "stream",
     "text": [
      "Course Title:\n",
      "Gender Analytics for Innovation\n",
      "Inclusive Analytic Techniques\n",
      "Human-Centered Design for Inclusive Innovation\n",
      "Transformational Leadership for Inclusive Innovation\n",
      "Gender Analytics Capstone Project\n",
      "Instructors\n",
      "Ratings: ['4.8', '4.8', '4.8', '4.8']\n",
      "Evaluations: ['237', '66', '152', '71']\n"
     ]
    },
    {
     "name": "stderr",
     "output_type": "stream",
     "text": [
      "\r",
      "367it [12:38,  1.77s/it]"
     ]
    },
    {
     "name": "stdout",
     "output_type": "stream",
     "text": [
      "Course Title:\n",
      "Quelles sont les compétences des bébés et comment les étudier?\n",
      "Comment se développe la sécurité affective des jeunes enfants?\n",
      "Comment se développent les émotions primaires et morales des jeunes enfants?\n",
      "Comment se développe le soi des jeunes enfants?\n",
      "Pourquoi les jeunes enfants aiment-ils jouer? Quels sont les effets bénéfiques des jeux?\n",
      "Comment se développent l'empathie, le sens moral et le sens de l'équité des jeunes enfants?\n",
      "La parentalité: que se passe-t-il du côté des parents?\n",
      "Ratings: ['4.8']\n",
      "Evaluations: ['212']\n"
     ]
    },
    {
     "name": "stderr",
     "output_type": "stream",
     "text": [
      "\r",
      "368it [12:41,  2.08s/it]"
     ]
    },
    {
     "name": "stdout",
     "output_type": "stream",
     "text": [
      "Course Title:\n",
      "Building Great Business Writing\n",
      "The Formula for Writing Success\n",
      "Crafting Powerful Writing\n",
      "Activate Your Voice!\n",
      "Ratings: ['4.8']\n",
      "Evaluations: ['1']\n"
     ]
    },
    {
     "name": "stderr",
     "output_type": "stream",
     "text": [
      "\r",
      "369it [12:46,  2.87s/it]"
     ]
    },
    {
     "name": "stdout",
     "output_type": "stream",
     "text": [
      "Course Title:\n",
      "Week One - Creating The Idea\n",
      "Week Two: Logline and Dramatic Question\n",
      "Week Three Create your character profile(s)\n",
      "Week Four: The Three Act Story Arc\n",
      "Week Five: Screenplay Formatting and Software\n",
      "Week Six: Begin your screenplay\n",
      "Week Seven: The middle section of Act One\n",
      "Week Eight: Write the final section of Act One\n",
      "Week Nine: Table read Act One\n",
      "Week Ten: Begin Act Two\n",
      "Week Eleven: Write pages 41-50\n",
      "Week Twelve: Write pages 51-60\n",
      "Week Thirteen: Write pages 61-70\n",
      "Week Fourteen: Write pages 71-80\n",
      "Week Fifteen: Table read Acts One and Two\n",
      "Week Sixteen: Write pages 81-90\n",
      "Week Seventeen: Write pages 91-100\n",
      "Week Eighteen: Finish Act Three\n",
      "Week Nineteen: Table read your entire script\n",
      "Week Twenty: Finishing things up.\n",
      "Ratings: ['4.7']\n",
      "Evaluations: ['72']\n"
     ]
    },
    {
     "name": "stderr",
     "output_type": "stream",
     "text": [
      "\r",
      "370it [12:47,  2.38s/it]"
     ]
    },
    {
     "name": "stdout",
     "output_type": "stream",
     "text": [
      "Course Title:\n",
      "Introduction to Early Childhood\n",
      "Health and Safety of a Home-Based Childcare Center\n",
      "Child Care as a Business\n",
      "Ratings: ['4.9']\n",
      "Evaluations: ['25']\n"
     ]
    },
    {
     "name": "stderr",
     "output_type": "stream",
     "text": [
      "\r",
      "371it [12:50,  2.57s/it]"
     ]
    },
    {
     "name": "stdout",
     "output_type": "stream",
     "text": [
      "Course Title:\n",
      "Module 1: Introduction to Modern Art & Ideas\n",
      "Module 2: Places & Spaces\n",
      "Module 3: Art & Identity\n",
      "Module 4: Transforming Everyday Objects\n",
      "Module 5: Art & Society\n",
      "Module 5: Art & Society: Lesson Choices\n",
      "Ratings: ['4.7']\n",
      "Evaluations: ['1']\n"
     ]
    },
    {
     "name": "stderr",
     "output_type": "stream",
     "text": [
      "\r",
      "372it [12:53,  2.57s/it]"
     ]
    },
    {
     "name": "stdout",
     "output_type": "stream",
     "text": [
      "Course Title:\n",
      "Week One: Creating the idea for your novel\n",
      "Week Two: Create your character profiles and outline Chapter One\n",
      "Week Three: Write Chapter One\n",
      "Week Four: Write Chapter Two\n",
      "Week Five: Write Chapter Three\n",
      "Week Six: Write Chapter Four\n",
      "Week Seven: Write Chapter Five\n",
      "Week Eight: Write Chapter Six\n",
      "Week Nine: Write Chapter Seven\n",
      "Week Ten: Table Read Chapters One to Seven\n",
      "Week Eleven: Write Chapter Eight\n",
      "Week Twelve: Write Chapter Nine\n",
      "Week Thirteen: Write Chapter Ten\n",
      "Week Fourteen: Write Chapter Eleven\n",
      "Week Fifteen: Write Chapter Twelve\n",
      "Week Sixteen: Write Chapter Thirteen\n",
      "Week Seventeen: Write Chapter Fourteen\n",
      "Week Eighteen: Table Read Chapters Eight to Fourteen\n",
      "Week Nineteen: Write Chapter Fifteen\n",
      "Week Twenty: Write Chapter Sixteen\n",
      "Week Twenty-One: Write Chapter Seventeen\n",
      "Week Twenty-Two: Write Chapter Eighteen\n",
      "Week Twenty-Three: Write Chapter Nineteen\n",
      "Week Twenty-Four: Write Chapter Twenty\n",
      "Week Twenty-Five: Table Read Chapters Fifteen to Twenty\n",
      "Week Twenty-Six: Submit Your Finished Novel\n",
      "Ratings: ['4.6']\n",
      "Evaluations: ['117']\n"
     ]
    },
    {
     "name": "stderr",
     "output_type": "stream",
     "text": [
      "\r",
      "373it [12:54,  2.22s/it]"
     ]
    },
    {
     "name": "stdout",
     "output_type": "stream",
     "text": [
      "Course Title:\n",
      "Interview Research and Preparation\n",
      "Successful Interviewing\n",
      "Advanced Interviewing Techniques\n",
      "Writing Winning Resumes and Cover Letters\n",
      "How To Land the Job You Want (Capstone Project)\n",
      "Ratings: ['4.6', '4.6', '4.7', '4.6']\n",
      "Evaluations: ['256', '161', '141', '301']\n"
     ]
    },
    {
     "name": "stderr",
     "output_type": "stream",
     "text": [
      "\r",
      "374it [12:56,  2.09s/it]"
     ]
    },
    {
     "name": "stdout",
     "output_type": "stream",
     "text": [
      "Course Title:\n",
      "Building Your Leadership Skills\n",
      "Giving Sense to Your Leadership Experience\n",
      "Leading Organizations\n",
      "CAPSTONE: Your Leadership Challenge\n",
      "Ratings: ['4.6', '4.6', '4.7', '4.7']\n",
      "Evaluations: ['2', '481', '284', '69']\n"
     ]
    },
    {
     "name": "stderr",
     "output_type": "stream",
     "text": [
      "\r",
      "375it [12:58,  1.97s/it]"
     ]
    },
    {
     "name": "stdout",
     "output_type": "stream",
     "text": [
      "Course Title:\n",
      "What is design-led strategy?\n",
      "Primary market research and problem statement definition\n",
      "Prototyping and product ideation\n",
      "Design-led strategy in practice: Corporate case studies\n",
      "Course wrap-up\n",
      "Ratings: ['4.7']\n",
      "Evaluations: ['322']\n"
     ]
    },
    {
     "name": "stderr",
     "output_type": "stream",
     "text": [
      "\r",
      "376it [13:01,  2.39s/it]"
     ]
    },
    {
     "name": "stdout",
     "output_type": "stream",
     "text": [
      "Course Title:\n",
      "Guitar for Beginners\n",
      "Singing Popular Music\n",
      "Songwriting: Writing the Lyrics\n",
      "Introduction to Ableton Live\n",
      "Ratings: ['4.8', '4.5', '4.8', '4.8']\n",
      "Evaluations: ['2', '150', '830', '1']\n"
     ]
    },
    {
     "name": "stderr",
     "output_type": "stream",
     "text": [
      "\r",
      "377it [13:03,  2.25s/it]"
     ]
    },
    {
     "name": "stdout",
     "output_type": "stream",
     "text": [
      "Course Title:\n",
      "Module 1: Introduction to Art & Ideas: Teaching with Themes\n",
      "Module 2: Places & Spaces\n",
      "Module 3: Art & Identity\n",
      "Module 4: Transforming Everyday Objects\n",
      "Module 5: Art & Society\n",
      "Ratings: ['4.8']\n",
      "Evaluations: ['97', '97', '97']\n"
     ]
    },
    {
     "name": "stderr",
     "output_type": "stream",
     "text": [
      "\r",
      "378it [13:04,  1.99s/it]"
     ]
    },
    {
     "name": "stdout",
     "output_type": "stream",
     "text": [
      "Course Title:\n",
      "Ethics, Culture, and Global Perspectives\n",
      "Teamwork and Creativity\n",
      "Organizational Concepts and Language\n",
      "Leadership\n",
      "Instructor\n",
      "Ratings: ['4.8', '4.3', '4.8']\n",
      "Evaluations: ['25', '21', '38']\n"
     ]
    },
    {
     "name": "stderr",
     "output_type": "stream",
     "text": [
      "\r",
      "379it [13:06,  1.99s/it]"
     ]
    },
    {
     "name": "stdout",
     "output_type": "stream",
     "text": [
      "Course Title:\n",
      "Módulo 1. Innovación educativa \n",
      "Módulo 2. Tendencias pedagógicas\n",
      "Módulo 3. Tecnologías emergentes para la innovación educativa\n",
      "Módulo 4: Práctica de la innovación educativa\n",
      "Módulo 5. Ecosistemas educativos innovadores\n",
      "Ratings: ['4.6']\n",
      "Evaluations: ['56', '56', '56']\n"
     ]
    },
    {
     "name": "stderr",
     "output_type": "stream",
     "text": [
      "\r",
      "380it [13:08,  1.89s/it]"
     ]
    },
    {
     "name": "stdout",
     "output_type": "stream",
     "text": [
      "Course Title:\n",
      "Course Introduction & Module 1 - Being Creative\n",
      "Module 2 - Raw Materials, Tools, and End Products\n",
      "Module 3 - Pitching Ideas\n",
      "Module 4 - Evaluating Ideas\n",
      "Module 5 - The Allure of Team Creativity\n",
      "Ratings: ['4.7']\n",
      "Evaluations: ['13']\n"
     ]
    },
    {
     "name": "stderr",
     "output_type": "stream",
     "text": [
      "\r",
      "381it [13:10,  1.92s/it]"
     ]
    },
    {
     "name": "stdout",
     "output_type": "stream",
     "text": [
      "Course Title:\n",
      "Ideation: Tools for ideation.\n",
      "Ideation: Intro to Design Thinking Methodology\n",
      "Ideation: Intro to Customer Discovery\n",
      "Ratings: ['4.7']\n",
      "Evaluations: ['38', '38', '38']\n"
     ]
    },
    {
     "name": "stderr",
     "output_type": "stream",
     "text": [
      "\r",
      "382it [13:12,  1.94s/it]"
     ]
    },
    {
     "name": "stdout",
     "output_type": "stream",
     "text": [
      "Course Title:\n",
      "Welcome to The Art of Music Production\n",
      "Listening Like A Producer\n",
      "Identity, Vision, and Intention\n",
      "Strengthening Musical Productions: Tools & Strategies\n",
      "Defining the Sonic Signature of your Song\n",
      "Ratings: ['4.9']\n",
      "Evaluations: ['315']\n"
     ]
    },
    {
     "name": "stderr",
     "output_type": "stream",
     "text": [
      "\r",
      "383it [13:14,  1.93s/it]"
     ]
    },
    {
     "name": "stdout",
     "output_type": "stream",
     "text": [
      "Course Title:\n",
      "Introduction, Scanning for signals and Developing drivers of change\n",
      "Why scenario thinking is key to prepare for uncertain futures\n",
      "Developing scenarios and working with stakeholders\n",
      "Developing future-oriented and unique strategies\n",
      "Building organisational foresight capabilities\n",
      "Exam : Final quiz\n",
      "Ratings: ['4.9']\n",
      "Evaluations: ['11', '11']\n"
     ]
    },
    {
     "name": "stderr",
     "output_type": "stream",
     "text": [
      "\r",
      "384it [13:15,  1.79s/it]"
     ]
    },
    {
     "name": "stdout",
     "output_type": "stream",
     "text": [
      "Course Title:\n",
      "Sesenta años de inteligencia artificial\n",
      "Razonamiento artificial\n",
      "Resolución de problemas por búsqueda\n",
      "Cómputo evolutivo\n",
      "Comportamiento adaptativo\n",
      "Creatividad computacional\n",
      "Cognición encarnada\n",
      "Inteligencia artificial: proyecto final\n",
      "Ratings: ['4.8', '4.2', '4.5', '3.9', '4.5', '4.6']\n",
      "Evaluations: ['366', '93', '19', '15', '16', '28']\n"
     ]
    },
    {
     "name": "stderr",
     "output_type": "stream",
     "text": [
      "\r",
      "385it [13:18,  1.94s/it]"
     ]
    },
    {
     "name": "stdout",
     "output_type": "stream",
     "text": [
      "Course Title:\n",
      "Introduction to Blockchain for Global Commerce\n",
      "Web3 and Blockchain Transformations in Global Supply Chains\n",
      "Web3 and Blockchain Leadership for Transformation\n",
      "Blockchain Opportunity Analysis for Global Commerce\n",
      "Instructors\n",
      "Ratings: ['4.7', '4.6']\n",
      "Evaluations: ['17', '16']\n"
     ]
    },
    {
     "name": "stderr",
     "output_type": "stream",
     "text": [
      "\r",
      "386it [13:19,  1.86s/it]"
     ]
    },
    {
     "name": "stdout",
     "output_type": "stream",
     "text": [
      "Course Title:\n",
      "Technology Strategy: Creative Destruction\n",
      "Customer Centric Innovation\n",
      "Managing Innovation: Ambidexterity, Teams and Leading Change\n",
      "Ratings: ['4.8', '4.6', '4.8']\n",
      "Evaluations: ['28', '23', '15']\n"
     ]
    },
    {
     "name": "stderr",
     "output_type": "stream",
     "text": [
      "\r",
      "387it [13:22,  2.18s/it]"
     ]
    },
    {
     "name": "stdout",
     "output_type": "stream",
     "text": [
      "Course Title:\n",
      "The 3D Printing Revolution\n",
      "3D Printing Applications\n",
      "3D Printing Software\n",
      "3D Printing Hardware\n",
      "3D Printing Capstone\n",
      "Ratings: ['4.7', '4.6', '4.7', '4.1', '4.4']\n",
      "Evaluations: ['1', '651', '520', '96', '28']\n"
     ]
    },
    {
     "name": "stderr",
     "output_type": "stream",
     "text": [
      "\r",
      "388it [13:27,  2.88s/it]"
     ]
    },
    {
     "name": "stdout",
     "output_type": "stream",
     "text": [
      "Course Title:\n",
      "Speaking and Presenting: Poise\n",
      "Speaking and Presenting: Pitches and Persuasion\n",
      "Speaking and Presenting: Conversation Starters\n",
      "Speaking and Presenting: Tact\n",
      "Ratings: ['4.6', '4.6', '4.7', '4.7']\n",
      "Evaluations: ['110', '46', '23', '21']\n"
     ]
    },
    {
     "name": "stderr",
     "output_type": "stream",
     "text": [
      "\r",
      "389it [13:29,  2.64s/it]"
     ]
    },
    {
     "name": "stdout",
     "output_type": "stream",
     "text": [
      "Course Title:\n",
      "Plotting a Course\n",
      "The Power of Structure\n",
      "A Scene in Motion\n",
      "Cut It Out\n",
      "Ratings: ['4.8']\n",
      "Evaluations: ['1']\n"
     ]
    },
    {
     "name": "stderr",
     "output_type": "stream",
     "text": [
      "\r",
      "390it [13:34,  3.26s/it]"
     ]
    },
    {
     "name": "stdout",
     "output_type": "stream",
     "text": [
      "Course Title:\n",
      "The Words Under the Words\n",
      "The Infinite Power of Grammar\n",
      "The Rule of Three\n",
      "The Power of the Particular\n",
      "Ratings: ['4.8']\n",
      "Evaluations: ['586']\n"
     ]
    },
    {
     "name": "stderr",
     "output_type": "stream",
     "text": [
      "\r",
      "391it [13:36,  2.99s/it]"
     ]
    },
    {
     "name": "stdout",
     "output_type": "stream",
     "text": [
      "Course Title:\n",
      "Course Overview and welcome\n",
      "Introduction to Social Pedagogy across Europe and Participatory Practice\n",
      "Social Pedagogy in Germany - Resource-Orientated Practice\n",
      "Social Pedagogy in the UK – Creativity\n",
      "Social Pedagogy in Denmark – Purposeful Shared Activities\n",
      "Social Pedagogy in the Czech Republic – Prevention\n",
      "Social Pedagogy in Spain - Community Education\n",
      "Social Pedagogy in Belgium – Social Justice\n",
      "Social Pedagogy in a Wider Context\n",
      "Ratings: ['4.3']\n",
      "Evaluations: ['17', '17', '17']\n"
     ]
    },
    {
     "name": "stderr",
     "output_type": "stream",
     "text": [
      "\r",
      "392it [13:38,  2.73s/it]"
     ]
    },
    {
     "name": "stdout",
     "output_type": "stream",
     "text": [
      "Course Title:\n",
      "Discovering Characters from Your Life and Elsewhere\n",
      "Creating Characters on the Page\n",
      "Dialogue and Monologue\n",
      "Set Your Characters Free.. and Give Them Somewhere to Go\n",
      "Ratings: ['4.5']\n",
      "Evaluations: ['264']\n"
     ]
    },
    {
     "name": "stderr",
     "output_type": "stream",
     "text": [
      "\r",
      "393it [13:40,  2.49s/it]"
     ]
    },
    {
     "name": "stdout",
     "output_type": "stream",
     "text": [
      "Course Title:\n",
      "Introducción\n",
      "Formación docente y las habilidades del siglo XXI\n",
      "Formación docente basada en la práctica\n",
      "Condiciones para un currículo basado en la práctica\n",
      "Oportunidades para el desarrollo de habilidades del siglo XXI y el aprendizaje práctico\n",
      "Proyecto de integración\n",
      "Ratings: ['4.8']\n",
      "Evaluations: ['140', '140', '140']\n"
     ]
    },
    {
     "name": "stderr",
     "output_type": "stream",
     "text": [
      "\r",
      "394it [13:43,  2.55s/it]"
     ]
    },
    {
     "name": "stdout",
     "output_type": "stream",
     "text": [
      "Course Title:\n",
      "Welcome to Music for Wellness!\n",
      "Music For Creativity\n",
      "Music For Comfort\n",
      "Music for Awakening\n",
      "Music For You\n",
      "Ratings: ['4.8']\n",
      "Evaluations: ['157', '157']\n"
     ]
    },
    {
     "name": "stderr",
     "output_type": "stream",
     "text": [
      "\r",
      "395it [13:46,  2.89s/it]"
     ]
    },
    {
     "name": "stdout",
     "output_type": "stream",
     "text": [
      "Course Title:\n",
      "Introduction to What Is Contemporary Art?\n",
      "Media from Television to the Internet\n",
      "Territories & Transit\n",
      "Materials & Making\n",
      "Agency\n",
      "Power\n",
      "Ratings: ['4.6']\n",
      "Evaluations: ['472', '472', '472']\n"
     ]
    },
    {
     "name": "stderr",
     "output_type": "stream",
     "text": [
      "\r",
      "396it [13:48,  2.63s/it]"
     ]
    },
    {
     "name": "stdout",
     "output_type": "stream",
     "text": [
      "Course Title:\n",
      "Module 1\n",
      "Module 2\n",
      "Module 3\n",
      "Module 4\n",
      "Ratings: ['4.8']\n",
      "Evaluations: ['41', '41', '41']\n"
     ]
    },
    {
     "name": "stderr",
     "output_type": "stream",
     "text": [
      "\r",
      "397it [13:50,  2.43s/it]"
     ]
    },
    {
     "name": "stdout",
     "output_type": "stream",
     "text": [
      "Course Title:\n",
      "Key concepts to frame and communicate sustainability\n",
      "Sustainability through a systems lens\n",
      "Drivers for a sustainable future\n",
      "Innovation and Sustainability\n",
      "Working with scenarios\n",
      "Ratings: ['4.5']\n",
      "Evaluations: ['26', '26', '26']\n"
     ]
    },
    {
     "name": "stderr",
     "output_type": "stream",
     "text": [
      "\r",
      "398it [13:52,  2.22s/it]"
     ]
    },
    {
     "name": "stdout",
     "output_type": "stream",
     "text": [
      "Course Title:\n",
      "COURSE ORIENTATION\n",
      "MODULE 1: LEADERSHIP DEFINED\n",
      "MODULE 2: STRATEGIC SELF-LEADERSHIP\n",
      "MODULE 3: LEADING OTHERS\n",
      "MODULE 4: GROWING AS A LEADER\n",
      "Ratings: ['4.8']\n",
      "Evaluations: ['1', '1', '1']\n"
     ]
    },
    {
     "name": "stderr",
     "output_type": "stream",
     "text": [
      "\r",
      "399it [13:56,  2.74s/it]"
     ]
    },
    {
     "name": "stdout",
     "output_type": "stream",
     "text": [
      "Course Title:\n",
      "What is Transmedia Storytelling?\n",
      "Creative Ideas Generation - Building a Storyworld\n",
      "Understanding a Transmedia Audience\n",
      "The Transmedia User Experience\n",
      "Using Creative Technologies\n",
      "Stories from Industry - Professionals’ Career Journeys and Advice\n",
      "Ratings: ['4.7']\n",
      "Evaluations: ['206', '206', '206']\n"
     ]
    },
    {
     "name": "stderr",
     "output_type": "stream",
     "text": [
      "\r",
      "400it [13:58,  2.61s/it]"
     ]
    },
    {
     "name": "stdout",
     "output_type": "stream",
     "text": [
      "Course Title:\n",
      "Developing the Opportunity for Corporate Entrepreneurs\n",
      "Building the Business Model for Corporate Entrepreneurs\n",
      "Crafting Strategies for Innovation Initiatives for Corporate Entrepreneurs\n",
      "Financing and Profiting from Innovation for Corporate Entrepreneurs\n",
      "Master Class for Corporate Entrepreneurs\n",
      "Ratings: ['4.4', '4.7', '4.1', '4.7', '4.4']\n",
      "Evaluations: ['87', '67', '28', '43', '30']\n"
     ]
    },
    {
     "name": "stderr",
     "output_type": "stream",
     "text": [
      "\r",
      "401it [14:00,  2.31s/it]"
     ]
    },
    {
     "name": "stdout",
     "output_type": "stream",
     "text": [
      "Course Title:\n",
      "Introduction to Art and Activity\n",
      "Activities for Analyzing and Reflecting\n",
      "Activities for Creating, Imagining & Connecting\n",
      "Assessment Strategies\n",
      "Ratings: ['4.8']\n",
      "Evaluations: ['156', '156', '156']\n"
     ]
    },
    {
     "name": "stderr",
     "output_type": "stream",
     "text": [
      "\r",
      "402it [14:03,  2.40s/it]"
     ]
    },
    {
     "name": "stdout",
     "output_type": "stream",
     "text": [
      "Course Title:\n",
      "Welcome to Songwriting: Writing the Lyrics\n",
      "The Journey of the Song\n",
      "Stopping and Going\n",
      "Sonic GPS—Mapping Your Song with Rhyme\n",
      "Making It Move\n",
      "Ratings: ['4.8']\n",
      "Evaluations: ['150']\n"
     ]
    },
    {
     "name": "stderr",
     "output_type": "stream",
     "text": [
      "\r",
      "403it [14:06,  2.67s/it]"
     ]
    },
    {
     "name": "stdout",
     "output_type": "stream",
     "text": [
      "Course Title:\n",
      "Engineering and Product Design Processes\n",
      "Prototyping\n",
      "3D Printing Technology Deep Dive and Use Cases\n",
      "Ratings: []\n",
      "Evaluations: []\n"
     ]
    },
    {
     "name": "stderr",
     "output_type": "stream",
     "text": [
      "\r",
      "404it [14:08,  2.40s/it]"
     ]
    },
    {
     "name": "stdout",
     "output_type": "stream",
     "text": [
      "Course Title:\n",
      "The Fashion Design Process\n",
      "Fashion Design: A Sustainable Approach\n",
      "Collaborative Design\n",
      "Fashion Trends: Interpretation, Observation and Intuition\n",
      "Ratings: ['4.7']\n",
      "Evaluations: ['61']\n"
     ]
    },
    {
     "name": "stderr",
     "output_type": "stream",
     "text": [
      "\r",
      "405it [14:11,  2.59s/it]"
     ]
    },
    {
     "name": "stdout",
     "output_type": "stream",
     "text": [
      "Course Title:\n",
      "The Impact of Technology\n",
      "Innovation & Entrepreneurship - From Basics to Open Innovation\n",
      "Innovation & Entrepreneurship - From Design Thinking to Funding\n",
      "Marketing Strategy for Entrepreneurs\n",
      "Capstone Value Creation through Innovation\n",
      "Instructors\n",
      "Ratings: ['4.5', '4.6', '4.7', '4.4']\n",
      "Evaluations: ['107', '289', '115', '151']\n"
     ]
    },
    {
     "name": "stderr",
     "output_type": "stream",
     "text": [
      "\r",
      "406it [14:14,  2.69s/it]"
     ]
    },
    {
     "name": "stdout",
     "output_type": "stream",
     "text": [
      "Course Title:\n",
      "Introduction\n",
      "Barnett Newman\n",
      "Willem de Kooning\n",
      "Jackson Pollock\n",
      "Mark Rothko\n",
      "Agnes Martin\n",
      "Ad Reinhardt\n",
      "Yayoi Kusama\n",
      "Yayoi Kusama: Lesson Choices\n",
      "Ratings: ['4.9']\n",
      "Evaluations: ['379', '379']\n"
     ]
    },
    {
     "name": "stderr",
     "output_type": "stream",
     "text": [
      "\r",
      "407it [14:15,  2.37s/it]"
     ]
    },
    {
     "name": "stdout",
     "output_type": "stream",
     "text": [
      "Course Title:\n",
      "Self Awareness and the Effective Leader\n",
      "Relationship Management \n",
      "Personal Leadership Development Planning and Leading High Performing Teams\n",
      "Ratings: ['4.7', '4.8', '4.7']\n",
      "Evaluations: ['629', '336', '197']\n"
     ]
    },
    {
     "name": "stderr",
     "output_type": "stream",
     "text": [
      "\r",
      "408it [14:17,  2.26s/it]"
     ]
    },
    {
     "name": "stdout",
     "output_type": "stream",
     "text": [
      "Course Title:\n",
      "Introduction to Game Design\n",
      "Story and Narrative Development for Video Games\n",
      "World Design for Video Games\n",
      "Character Design for Video Games\n",
      "Game Design Document: Define the Art & Concepts\n",
      "Ratings: ['4.7', '4.7', '4.5', '4.7', '4.7']\n",
      "Evaluations: ['2', '1', '776', '940', '237']\n"
     ]
    },
    {
     "name": "stderr",
     "output_type": "stream",
     "text": [
      "\r",
      "409it [14:19,  2.13s/it]"
     ]
    },
    {
     "name": "stdout",
     "output_type": "stream",
     "text": [
      "Course Title:\n",
      "Sentence Flow\n",
      "Corresponding Ideas in Corresponding Form\n",
      "Show and Tell\n",
      "Paragraphing\n",
      "Ratings: ['4.8']\n",
      "Evaluations: ['106']\n"
     ]
    },
    {
     "name": "stderr",
     "output_type": "stream",
     "text": [
      "\r",
      "410it [14:22,  2.24s/it]"
     ]
    },
    {
     "name": "stdout",
     "output_type": "stream",
     "text": [
      "Course Title:\n",
      "Introduction to the Course (Week 1)\n",
      "The Problem of Chronic Pain (Week 2)\n",
      "Common Pain Conditions and their Mechanisms (Week 3)\n",
      "Common Pain Conditions and their Mechanisms (Week 4)\n",
      "Common Pain Conditions and their Mechanisms (Week 5)\n",
      "Risk and Protective Factors in the Seven Realms (Week 6)\n",
      "Risk and Protective Factors in the Seven Realms (Week 7)\n",
      "Risk and Protective Factors in the Seven Realms (Week 8)\n",
      "Risk and Protective Factors in the Seven Realms (Week 9)\n",
      "  Implementing Transformative Care (Week 10)\n",
      "Ratings: ['4.8']\n",
      "Evaluations: ['108']\n"
     ]
    },
    {
     "name": "stderr",
     "output_type": "stream",
     "text": [
      "\r",
      "411it [14:24,  2.41s/it]"
     ]
    },
    {
     "name": "stdout",
     "output_type": "stream",
     "text": [
      "Course Title:\n",
      "Game Design and Development 1: 2D Shooter\n",
      "Game Design and Development 2: 2D Platformer\n",
      "Game Design and Development 3: 3D Shooter\n",
      "Game Design and Development 4: 3D Platformer\n",
      "Game Design and Development 5: Capstone Project\n",
      "Ratings: ['4.7', '4.7', '4.8', '4.7', '4.8']\n",
      "Evaluations: ['396', '93', '45', '32', '29']\n"
     ]
    },
    {
     "name": "stderr",
     "output_type": "stream",
     "text": [
      "\r",
      "412it [14:27,  2.51s/it]"
     ]
    },
    {
     "name": "stdout",
     "output_type": "stream",
     "text": [
      "Course Title:\n",
      "Misconceptions about happiness\n",
      "Biases that get in the way of happiness\n",
      "Behaviors that make us happy\n",
      "Thoughts that make us happy \n",
      "Feelings that make us happy\n",
      "Achieving happiness goals\n",
      "Ratings: ['4.9']\n",
      "Evaluations: ['115']\n"
     ]
    },
    {
     "name": "stderr",
     "output_type": "stream",
     "text": [
      "\r",
      "413it [14:29,  2.31s/it]"
     ]
    },
    {
     "name": "stdout",
     "output_type": "stream",
     "text": [
      "Course Title:\n",
      "Quelles sont les compétences des bébés et comment les étudier?\n",
      "Comment se développe la sécurité affective des jeunes enfants?\n",
      "Comment se développent les émotions primaires et morales des jeunes enfants?\n",
      "Comment se développe le soi des jeunes enfants?\n",
      "Pourquoi les jeunes enfants aiment-ils jouer? Quels sont les effets bénéfiques des jeux?\n",
      "Comment se développent l'empathie, le sens moral et le sens de l'équité des jeunes enfants?\n",
      "La parentalité: que se passe-t-il du côté des parents?\n",
      "Ratings: ['4.8']\n",
      "Evaluations: ['212']\n"
     ]
    },
    {
     "name": "stderr",
     "output_type": "stream",
     "text": [
      "\r",
      "414it [14:31,  2.17s/it]"
     ]
    },
    {
     "name": "stdout",
     "output_type": "stream",
     "text": [
      "Course Title:\n",
      "Gender Analytics for Innovation\n",
      "Inclusive Analytic Techniques\n",
      "Human-Centered Design for Inclusive Innovation\n",
      "Transformational Leadership for Inclusive Innovation\n",
      "Gender Analytics Capstone Project\n",
      "Instructors\n",
      "Ratings: ['4.8', '4.8', '4.8', '4.8']\n",
      "Evaluations: ['237', '66', '152', '71']\n"
     ]
    },
    {
     "name": "stderr",
     "output_type": "stream",
     "text": [
      "\r",
      "415it [14:32,  2.03s/it]"
     ]
    },
    {
     "name": "stdout",
     "output_type": "stream",
     "text": [
      "Course Title:\n",
      "What Is Design Thinking?\n",
      "Preparing Your Mind for Innovation\n",
      "Idea Generation\n",
      "Experimentation\n",
      "Final Assignment\n",
      "Ratings: ['4.7']\n",
      "Evaluations: ['1']\n"
     ]
    },
    {
     "name": "stderr",
     "output_type": "stream",
     "text": [
      "\r",
      "416it [14:35,  2.14s/it]"
     ]
    },
    {
     "name": "stdout",
     "output_type": "stream",
     "text": [
      "Course Title:\n",
      "Technology Strategy: Creative Destruction\n",
      "Customer Centric Innovation\n",
      "Managing Innovation: Ambidexterity, Teams and Leading Change\n",
      "Ratings: ['4.8', '4.6', '4.8']\n",
      "Evaluations: ['28', '23', '15']\n"
     ]
    },
    {
     "name": "stderr",
     "output_type": "stream",
     "text": [
      "\r",
      "417it [14:36,  1.92s/it]"
     ]
    },
    {
     "name": "stdout",
     "output_type": "stream",
     "text": [
      "Course Title:\n",
      "The 3D Printing Revolution\n",
      "3D Printing Applications\n",
      "3D Printing Software\n",
      "3D Printing Hardware\n",
      "3D Printing Capstone\n",
      "Ratings: ['4.7', '4.6', '4.7', '4.1', '4.4']\n",
      "Evaluations: ['1', '651', '520', '96', '28']\n"
     ]
    },
    {
     "name": "stderr",
     "output_type": "stream",
     "text": [
      "\r",
      "418it [14:38,  1.77s/it]"
     ]
    },
    {
     "name": "stdout",
     "output_type": "stream",
     "text": [
      "Course Title:\n",
      "Plotting a Course\n",
      "The Power of Structure\n",
      "A Scene in Motion\n",
      "Cut It Out\n",
      "Ratings: ['4.8']\n",
      "Evaluations: ['1']\n"
     ]
    },
    {
     "name": "stderr",
     "output_type": "stream",
     "text": [
      "\r",
      "419it [14:39,  1.77s/it]"
     ]
    },
    {
     "name": "stdout",
     "output_type": "stream",
     "text": [
      "Course Title:\n",
      "Rethinking Communication \n",
      "Group Development & Decision Making \n",
      "Conflict, Difference, & Diversity\n",
      "Group Communication & Technology \n",
      "Ratings: ['4.8']\n",
      "Evaluations: ['1']\n"
     ]
    },
    {
     "name": "stderr",
     "output_type": "stream",
     "text": [
      "\r",
      "420it [14:41,  1.82s/it]"
     ]
    },
    {
     "name": "stdout",
     "output_type": "stream",
     "text": [
      "Course Title:\n",
      "Welcome to the Mind of an Architect\n",
      "Design Analysis\n",
      "Creating Spaces\n",
      "Design Process\n",
      "Ratings: ['4.7']\n",
      "Evaluations: ['398', '398', '398']\n"
     ]
    },
    {
     "name": "stderr",
     "output_type": "stream",
     "text": [
      "\r",
      "421it [14:43,  1.74s/it]"
     ]
    },
    {
     "name": "stdout",
     "output_type": "stream",
     "text": [
      "Course Title:\n",
      "Introduction to Blockchain Technologies\n",
      "Transacting on the Blockchain\n",
      "Blockchain and Business\n",
      "Blockchain Opportunity Analysis\n",
      "Ratings: ['4.7', '4.8', '4.7', '4.6']\n",
      "Evaluations: ['2', '885', '394', '190']\n"
     ]
    },
    {
     "name": "stderr",
     "output_type": "stream",
     "text": [
      "\r",
      "422it [14:46,  2.02s/it]"
     ]
    },
    {
     "name": "stdout",
     "output_type": "stream",
     "text": [
      "Course Title:\n",
      "Introduction to the Principles of Creativity\n",
      "Creativity Tools\n",
      "Thinking Styles\n",
      "Morphological Analysis\n",
      "TRIZ - the Theory of Inventive Problem Solving\n",
      "SCAMPER\n",
      "Using the Tools in Combination\n",
      "Ratings: ['4.8']\n",
      "Evaluations: ['1']\n"
     ]
    },
    {
     "name": "stderr",
     "output_type": "stream",
     "text": [
      "\r",
      "423it [14:48,  1.99s/it]"
     ]
    },
    {
     "name": "stdout",
     "output_type": "stream",
     "text": [
      "Course Title:\n",
      "Introduction to SEL and Why Emotions Matter\n",
      "Identifying Our Emotions\n",
      "Managing Our Own Emotions with Action Strategies\n",
      "Managing Emotions by Shifting How We Think\n",
      "Becoming a Culturally Responsive Emotion Scientist\n",
      "Identifying Others' Emotions\n",
      "Helping Others Manage Emotions\n",
      "Making a Commitment to Lasting Change\n",
      "Ratings: ['4.8']\n",
      "Evaluations: ['1']\n"
     ]
    },
    {
     "name": "stderr",
     "output_type": "stream",
     "text": [
      "\r",
      "424it [14:49,  1.87s/it]"
     ]
    },
    {
     "name": "stdout",
     "output_type": "stream",
     "text": [
      "Course Title:\n",
      "Writing and Editing: Word Choice and Word Order\n",
      "Writing and Editing: Structure and Organization\n",
      "Writing and Editing: Drafting\n",
      "Writing and Editing: Revising\n",
      "Ratings: ['4.7', '4.8', '4.8', '4.8']\n",
      "Evaluations: ['1', '486', '310', '332']\n"
     ]
    },
    {
     "name": "stderr",
     "output_type": "stream",
     "text": [
      "\r",
      "425it [14:50,  1.67s/it]"
     ]
    },
    {
     "name": "stdout",
     "output_type": "stream",
     "text": [
      "Course Title:\n",
      "Learn step-by-step\n",
      "Ratings: []\n",
      "Evaluations: []\n"
     ]
    },
    {
     "name": "stderr",
     "output_type": "stream",
     "text": [
      "\r",
      "426it [14:53,  1.94s/it]"
     ]
    },
    {
     "name": "stdout",
     "output_type": "stream",
     "text": [
      "Course Title:\n",
      "Course Introduction & Module 1 - Being Creative\n",
      "Module 2 - Raw Materials, Tools, and End Products\n",
      "Module 3 - Pitching Ideas\n",
      "Module 4 - Evaluating Ideas\n",
      "Module 5 - The Allure of Team Creativity\n",
      "Ratings: ['4.7']\n",
      "Evaluations: ['13']\n"
     ]
    },
    {
     "name": "stderr",
     "output_type": "stream",
     "text": [
      "\r",
      "427it [14:55,  2.09s/it]"
     ]
    },
    {
     "name": "stdout",
     "output_type": "stream",
     "text": [
      "Course Title:\n",
      "Building Great Business Writing\n",
      "The Formula for Writing Success\n",
      "Crafting Powerful Writing\n",
      "Activate Your Voice!\n",
      "Ratings: ['4.8']\n",
      "Evaluations: ['1']\n"
     ]
    },
    {
     "name": "stderr",
     "output_type": "stream",
     "text": [
      "\r",
      "428it [14:57,  1.95s/it]"
     ]
    },
    {
     "name": "stdout",
     "output_type": "stream",
     "text": [
      "Course Title:\n",
      "Teaching Popular Music in the Classroom\n",
      "Jazz Improvisation\n",
      "Arranging for Songwriters\n",
      "The Art of Music Production\n",
      "Ratings: ['4.7', '4.8', '4.5', '4.8']\n",
      "Evaluations: ['84', '778', '68', '1']\n"
     ]
    },
    {
     "name": "stderr",
     "output_type": "stream",
     "text": [
      "\r",
      "429it [14:59,  2.07s/it]"
     ]
    },
    {
     "name": "stdout",
     "output_type": "stream",
     "text": [
      "Course Title:\n",
      "Week One - Creating The Idea\n",
      "Week Two: Logline and Dramatic Question\n",
      "Week Three Create your character profile(s)\n",
      "Week Four: The Three Act Story Arc\n",
      "Week Five: Screenplay Formatting and Software\n",
      "Week Six: Begin your screenplay\n",
      "Week Seven: The middle section of Act One\n",
      "Week Eight: Write the final section of Act One\n",
      "Week Nine: Table read Act One\n",
      "Week Ten: Begin Act Two\n",
      "Week Eleven: Write pages 41-50\n",
      "Week Twelve: Write pages 51-60\n",
      "Week Thirteen: Write pages 61-70\n",
      "Week Fourteen: Write pages 71-80\n",
      "Week Fifteen: Table read Acts One and Two\n",
      "Week Sixteen: Write pages 81-90\n",
      "Week Seventeen: Write pages 91-100\n",
      "Week Eighteen: Finish Act Three\n",
      "Week Nineteen: Table read your entire script\n",
      "Week Twenty: Finishing things up.\n",
      "Ratings: ['4.7']\n",
      "Evaluations: ['72']\n"
     ]
    },
    {
     "name": "stderr",
     "output_type": "stream",
     "text": [
      "\r",
      "430it [15:01,  1.89s/it]"
     ]
    },
    {
     "name": "stdout",
     "output_type": "stream",
     "text": [
      "Course Title:\n",
      "Interview Research and Preparation\n",
      "Successful Interviewing\n",
      "Advanced Interviewing Techniques\n",
      "Writing Winning Resumes and Cover Letters\n",
      "How To Land the Job You Want (Capstone Project)\n",
      "Ratings: ['4.6', '4.6', '4.7', '4.6']\n",
      "Evaluations: ['256', '161', '141', '301']\n"
     ]
    },
    {
     "name": "stderr",
     "output_type": "stream",
     "text": [
      "\r",
      "431it [15:03,  1.96s/it]"
     ]
    },
    {
     "name": "stdout",
     "output_type": "stream",
     "text": [
      "Course Title:\n",
      "Introduction\n",
      "Imagination\n",
      "Care\n",
      "Knowledge\n",
      "Refusal\n",
      "Liberation\n",
      "Ratings: ['4.9']\n",
      "Evaluations: ['33', '33']\n"
     ]
    },
    {
     "name": "stderr",
     "output_type": "stream",
     "text": [
      "\r",
      "432it [15:05,  1.90s/it]"
     ]
    },
    {
     "name": "stdout",
     "output_type": "stream",
     "text": [
      "Course Title:\n",
      "Design Thinking: Insights to Inspiration \n",
      "Design Thinking: Ideas to Action\n",
      "Design Thinking: Discovery Tools\n",
      "Experiencing Design: Deepening Your Design Thinking Practice\n",
      "Ratings: ['4.5', '4.6', '4.9']\n",
      "Evaluations: ['11', '18', '19']\n"
     ]
    },
    {
     "name": "stderr",
     "output_type": "stream",
     "text": [
      "\r",
      "433it [15:09,  2.71s/it]"
     ]
    },
    {
     "name": "stdout",
     "output_type": "stream",
     "text": [
      "Course Title:\n",
      "Course Overview\n",
      "Week 1: Fundamentals of Imagemaking\n",
      "Week 2: Fundamentals of Typography\n",
      "Week 3: Fundamentals of Shape and Color\n",
      "Week 4: Fundamentals of Composition\n",
      "Continuing your graphic design studies\n",
      "Ratings: ['4.8']\n",
      "Evaluations: ['4']\n"
     ]
    },
    {
     "name": "stderr",
     "output_type": "stream",
     "text": [
      "\r",
      "434it [15:11,  2.45s/it]"
     ]
    },
    {
     "name": "stdout",
     "output_type": "stream",
     "text": [
      "Course Title:\n",
      "High Performance Collaboration: Leadership, Teamwork, and Negotiation\n",
      "Leadership Communication for Maximum Impact: Storytelling\n",
      "Leadership Through Social Influence\n",
      "Leadership Through Marketing\n",
      "Leadership Through Design Innovation\n",
      "Organizational Leadership Capstone\n",
      "Ratings: ['4.8', '4.5', '4.7', '4.6', '4.3', '4.7']\n",
      "Evaluations: ['2', '1', '1', '439', '303', '87']\n"
     ]
    },
    {
     "name": "stderr",
     "output_type": "stream",
     "text": [
      "\r",
      "435it [15:13,  2.18s/it]"
     ]
    },
    {
     "name": "stdout",
     "output_type": "stream",
     "text": [
      "Course Title:\n",
      "Java for Android\n",
      "Android App Components - Intents, Activities, and Broadcast Receivers\n",
      "Android App Components - Services, Local IPC, and Content Providers\n",
      "Engineering Maintainable Android Apps\n",
      "Capstone MOOC for \"Android App Development\"\n",
      "Ratings: ['4.5', '4.2', '4.3', '4.5', '4.2']\n",
      "Evaluations: ['3', '777', '392', '278', '48']\n"
     ]
    },
    {
     "name": "stderr",
     "output_type": "stream",
     "text": [
      "\r",
      "436it [15:15,  2.28s/it]"
     ]
    },
    {
     "name": "stdout",
     "output_type": "stream",
     "text": [
      "Course Title:\n",
      "Positive Psychology Introduction by Dr. Martin Seligman\n",
      "The Skills of Well-being Can Be Learned, Taught, and Transformative\n",
      "Being Whole: Mind/Body Flourishing Throughout Life\n",
      "Future Directions in Positive Psychology\n",
      "Ratings: ['4.9']\n",
      "Evaluations: ['1']\n"
     ]
    },
    {
     "name": "stderr",
     "output_type": "stream",
     "text": [
      "\r",
      "437it [15:18,  2.32s/it]"
     ]
    },
    {
     "name": "stdout",
     "output_type": "stream",
     "text": [
      "Course Title:\n",
      "Why Smart Executives Fail: Common Mistakes & Warning Signs\n",
      "Decision-Making: Blending Art & Science\n",
      "Superbosses: Managing Talent & Leadership\n",
      "Lessons on Wisdom: Personal Leadership for Your Life\n",
      "Ratings: ['4.9', '4.8', '4.9', '5.0']\n",
      "Evaluations: ['169', '67', '58', '27']\n"
     ]
    },
    {
     "name": "stderr",
     "output_type": "stream",
     "text": [
      "\r",
      "438it [15:21,  2.75s/it]"
     ]
    },
    {
     "name": "stdout",
     "output_type": "stream",
     "text": [
      "Course Title:\n",
      "Social Media and Digital Marketing Fundamentals\n",
      "Social Media and Social Content Strategy\n",
      "Facebook, Instagram, and Snapchat Marketing\n",
      "Twitter, LinkedIn, and YouTube Marketing\n",
      "Ratings: ['4.6', '4.5', '3.8', '4.4']\n",
      "Evaluations: ['167', '37', '35', '41']\n"
     ]
    },
    {
     "name": "stderr",
     "output_type": "stream",
     "text": [
      "\r",
      "439it [15:24,  2.79s/it]"
     ]
    },
    {
     "name": "stdout",
     "output_type": "stream",
     "text": [
      "Course Title:\n",
      "Memoir and Personal Essay: Managing Your Relationship with the Reader\n",
      "Writing in First Person Point of View\n",
      "Writing a Personal Essay\n",
      "Writing Stories About Ourselves\n",
      "Ratings: ['4.3', '4.7', '4.5', '4.3']\n",
      "Evaluations: ['233', '109', '81', '88']\n"
     ]
    },
    {
     "name": "stderr",
     "output_type": "stream",
     "text": [
      "\r",
      "440it [15:26,  2.36s/it]"
     ]
    },
    {
     "name": "stdout",
     "output_type": "stream",
     "text": [
      "Course Title:\n",
      "Developing An Entrepreneurial Mindset: First Step Towards Success \n",
      "The Search for Great Ideas: Harnessing creativity to empower innovation. \n",
      "Planning: Principled, Proposing, Proofing, and Practicing to a Success Plan\n",
      "Structure: Building the Frame for Business Growth\n",
      "Launch Strategy: 5 Steps to Capstone Experience\n",
      "Capstone - Launch Your Own Business!\n",
      "Ratings: ['4.6', '4.5', '4.6', '4.8', '4.8', '4.9']\n",
      "Evaluations: ['785', '242', '154', '143', '108', '116']\n"
     ]
    },
    {
     "name": "stderr",
     "output_type": "stream",
     "text": [
      "\r",
      "441it [15:28,  2.45s/it]"
     ]
    },
    {
     "name": "stdout",
     "output_type": "stream",
     "text": [
      "Course Title:\n",
      "MODULE 1: INTRODUCTION TO BUSINESS MODEL INNOVATION\n",
      "MODULE 2: THE 3 COMPONENTS OF A BUSINESS MODEL\n",
      " MODULE 3: 7 DIRECTIONS FOR THE VALUE PROPOSITION \n",
      "MODULE 4: 7 DIRECTIONS FOR THE VALUE ARCHITECTURE\n",
      "MODULE 5: IT'S YOUR TURN TO APPLY THE ODYSSEY 3.14 APPROACH!\n",
      "Ratings: ['4.8']\n",
      "Evaluations: ['126', '126']\n"
     ]
    },
    {
     "name": "stderr",
     "output_type": "stream",
     "text": [
      "\r",
      "442it [15:30,  2.17s/it]"
     ]
    },
    {
     "name": "stdout",
     "output_type": "stream",
     "text": [
      "Course Title:\n",
      "Game Developers and Esports Organizations\n",
      "Esports Teams and Professional Players\n",
      "Collegiate Esports and Career Planning\n",
      "Esports Management Capstone Project\n",
      "Ratings: ['4.6', '4.6', '4.5', '4.5']\n",
      "Evaluations: ['172', '74', '49', '42']\n"
     ]
    },
    {
     "name": "stderr",
     "output_type": "stream",
     "text": [
      "\r",
      "443it [15:32,  2.10s/it]"
     ]
    },
    {
     "name": "stdout",
     "output_type": "stream",
     "text": [
      "Course Title:\n",
      "Legal Foundations for Entrepreneurs\n",
      "Intellectual Property for Entrepreneurs\n",
      "Legal Contracts and Agreements for Entrepreneurs\n",
      "Ratings: ['4.9', '4.9', '4.9']\n",
      "Evaluations: ['45', '28', '59']\n"
     ]
    },
    {
     "name": "stderr",
     "output_type": "stream",
     "text": [
      "\r",
      "444it [15:35,  2.34s/it]"
     ]
    },
    {
     "name": "stdout",
     "output_type": "stream",
     "text": [
      "Course Title:\n",
      "Course Preview and Intro\n",
      "Taking on a New Leadership Role\n",
      "Getting Oriented and Assessing Your Team\n",
      "Communication in an Age of Super Transparency\n",
      "Leading Collaboration\n",
      "Motivating and Inspiring\n",
      "Effective Governance\n",
      "Leading Change \n",
      "Managing Talent\n",
      " Leading in Crisis\n",
      "  Leading Innovation\n",
      " Leading Execution\n",
      " Public Life, Private Life\n",
      " Vision and the Role of Culture\n",
      "  Modern Theories of Leadership\n",
      "  A Study in Leadership Failure: The Financial Crisis (Part 1)\n",
      "A Study in Leadership Failure: The Financial Crisis (Part 2)\n",
      " Real Leadership Case Study: Lord John Browne, British Petroleum \n",
      " Synthesis - Leadership in 21st Century Organizations\n",
      "Ratings: ['4.8']\n",
      "Evaluations: ['276', '276']\n"
     ]
    },
    {
     "name": "stderr",
     "output_type": "stream",
     "text": [
      "\r",
      "445it [15:38,  2.55s/it]"
     ]
    },
    {
     "name": "stdout",
     "output_type": "stream",
     "text": [
      "Course Title:\n",
      "Building Your Leadership Skills\n",
      "Giving Sense to Your Leadership Experience\n",
      "Leading Organizations\n",
      "CAPSTONE: Your Leadership Challenge\n",
      "Ratings: ['4.6', '4.6', '4.7', '4.7']\n",
      "Evaluations: ['2', '481', '284', '69']\n"
     ]
    },
    {
     "name": "stderr",
     "output_type": "stream",
     "text": [
      "\r",
      "446it [15:40,  2.41s/it]"
     ]
    },
    {
     "name": "stdout",
     "output_type": "stream",
     "text": [
      "Course Title:\n",
      "Introduction to Early Childhood\n",
      "Health and Safety of a Home-Based Childcare Center\n",
      "Child Care as a Business\n",
      "Ratings: ['4.9']\n",
      "Evaluations: ['25']\n"
     ]
    },
    {
     "name": "stderr",
     "output_type": "stream",
     "text": [
      "\r",
      "447it [15:42,  2.45s/it]"
     ]
    },
    {
     "name": "stdout",
     "output_type": "stream",
     "text": [
      "Course Title:\n",
      "Designing Your Team for Excellence\n",
      "Structuring Your Team for Excellence\n",
      "Managing Team Dynamics\n",
      "Creating Sustainable Team Performance and Learning\n",
      "Ratings: ['4.8']\n",
      "Evaluations: ['237']\n"
     ]
    },
    {
     "name": "stderr",
     "output_type": "stream",
     "text": [
      "\r",
      "448it [15:45,  2.45s/it]"
     ]
    },
    {
     "name": "stdout",
     "output_type": "stream",
     "text": [
      "Course Title:\n",
      "Fundamentals of Graphic Design\n",
      "Introduction to Typography\n",
      "Introduction to Imagemaking\n",
      "Ideas from the History of Graphic Design\n",
      "Brand New Brand\n",
      "Ratings: ['4.8', '4.8', '4.5', '4.7', '4.9']\n",
      "Evaluations: ['16', '5', '2', '2', '1']\n"
     ]
    },
    {
     "name": "stderr",
     "output_type": "stream",
     "text": [
      "\r",
      "449it [15:49,  3.13s/it]"
     ]
    },
    {
     "name": "stdout",
     "output_type": "stream",
     "text": [
      "Course Title:\n",
      "Ratings: []\n",
      "Evaluations: []\n"
     ]
    },
    {
     "name": "stderr",
     "output_type": "stream",
     "text": [
      "\r",
      "450it [15:52,  2.85s/it]"
     ]
    },
    {
     "name": "stdout",
     "output_type": "stream",
     "text": [
      "Course Title:\n",
      "Week 1: Image-based Research\n",
      "Week 2: Making Images\n",
      "Week 3: Composition is Relational\n",
      "Week 4: Designing a Book with Your Images\n",
      "Ratings: ['4.4']\n",
      "Evaluations: ['328']\n"
     ]
    },
    {
     "name": "stderr",
     "output_type": "stream",
     "text": [
      "\r",
      "451it [15:56,  3.27s/it]"
     ]
    },
    {
     "name": "stdout",
     "output_type": "stream",
     "text": [
      "Course Title:\n",
      "Graphical User Interfaces\n",
      "2D Drawings and Animations\n",
      "3D Geometric Modeling\n",
      "Deformation and Animation\n",
      "Fabrication\n",
      "Computer-aided Design\n",
      "Real-world Interaction\n",
      "Ratings: ['4.3']\n",
      "Evaluations: ['31']\n"
     ]
    },
    {
     "name": "stderr",
     "output_type": "stream",
     "text": [
      "\r",
      "452it [15:59,  3.11s/it]"
     ]
    },
    {
     "name": "stdout",
     "output_type": "stream",
     "text": [
      "Course Title:\n",
      "Why Health? \n",
      "Day in the Life Snapshots\n",
      "Keeping it Real - Healthcare Career Journeys\n",
      "Personal Story\n",
      "Professional Networking\n",
      "Resume\n",
      "Cover Letter \n",
      "Interviews\n",
      "Supplementary Topics\n",
      "Ratings: ['4.8']\n",
      "Evaluations: ['36', '36']\n"
     ]
    },
    {
     "name": "stderr",
     "output_type": "stream",
     "text": [
      "\r",
      "453it [16:01,  2.81s/it]"
     ]
    },
    {
     "name": "stdout",
     "output_type": "stream",
     "text": [
      "Course Title:\n",
      "Ethics, Culture, and Global Perspectives\n",
      "Teamwork and Creativity\n",
      "Organizational Concepts and Language\n",
      "Leadership\n",
      "Instructor\n",
      "Ratings: ['4.8', '4.3', '4.8']\n",
      "Evaluations: ['25', '21', '38']\n"
     ]
    },
    {
     "name": "stderr",
     "output_type": "stream",
     "text": [
      "\r",
      "454it [16:03,  2.61s/it]"
     ]
    },
    {
     "name": "stdout",
     "output_type": "stream",
     "text": [
      "Course Title:\n",
      "Discovering Characters from Your Life and Elsewhere\n",
      "Creating Characters on the Page\n",
      "Dialogue and Monologue\n",
      "Set Your Characters Free.. and Give Them Somewhere to Go\n",
      "Ratings: ['4.5']\n",
      "Evaluations: ['264']\n"
     ]
    },
    {
     "name": "stderr",
     "output_type": "stream",
     "text": [
      "\r",
      "455it [16:08,  3.34s/it]"
     ]
    },
    {
     "name": "stdout",
     "output_type": "stream",
     "text": [
      "Course Title:\n",
      "COURSE ORIENTATION\n",
      "MODULE 1: LEADERSHIP DEFINED\n",
      "MODULE 2: STRATEGIC SELF-LEADERSHIP\n",
      "MODULE 3: LEADING OTHERS\n",
      "MODULE 4: GROWING AS A LEADER\n",
      "Ratings: ['4.8']\n",
      "Evaluations: ['1', '1', '1']\n"
     ]
    },
    {
     "name": "stderr",
     "output_type": "stream",
     "text": [
      "\r",
      "456it [16:10,  2.96s/it]"
     ]
    },
    {
     "name": "stdout",
     "output_type": "stream",
     "text": [
      "Course Title:\n",
      "Introduction to Art and Activity\n",
      "Activities for Analyzing and Reflecting\n",
      "Activities for Creating, Imagining & Connecting\n",
      "Assessment Strategies\n",
      "Ratings: ['4.8']\n",
      "Evaluations: ['156', '156', '156']\n"
     ]
    },
    {
     "name": "stderr",
     "output_type": "stream",
     "text": [
      "\r",
      "457it [16:13,  2.85s/it]"
     ]
    },
    {
     "name": "stdout",
     "output_type": "stream",
     "text": [
      "Course Title:\n",
      "What is advertising and where did it come from?\n",
      "Am I being manipulated by advertising?\n",
      "What's in an ad beyond that which meets the eye?\n",
      "How do ads get made?\n",
      "What do ads teach us about race, class, gender, and sexuality?\n",
      "Does sex sell?\n",
      "What's the future of advertising?\n",
      "Ratings: ['4.7']\n",
      "Evaluations: ['182']\n"
     ]
    },
    {
     "name": "stderr",
     "output_type": "stream",
     "text": [
      "\r",
      "458it [16:16,  3.03s/it]"
     ]
    },
    {
     "name": "stdout",
     "output_type": "stream",
     "text": [
      "Course Title:\n",
      "Developing the Opportunity for Corporate Entrepreneurs\n",
      "Building the Business Model for Corporate Entrepreneurs\n",
      "Crafting Strategies for Innovation Initiatives for Corporate Entrepreneurs\n",
      "Financing and Profiting from Innovation for Corporate Entrepreneurs\n",
      "Master Class for Corporate Entrepreneurs\n",
      "Ratings: ['4.4', '4.7', '4.1', '4.7', '4.4']\n",
      "Evaluations: ['87', '67', '28', '43', '30']\n"
     ]
    },
    {
     "name": "stderr",
     "output_type": "stream",
     "text": [
      "\r",
      "459it [16:18,  2.74s/it]"
     ]
    },
    {
     "name": "stdout",
     "output_type": "stream",
     "text": [
      "Course Title:\n",
      "What Is Thrill Seeking and Sensation Seeking?\n",
      "The Psychology and Neuroscience of Sensation Seeking\n",
      "The Habits and Hobbies of High Sensation Seekers\n",
      "How High Sensation Seeking Impacts Relationships\n",
      "Is High Sensation Seeking a Superpower or a Super Problem?\n",
      "Ratings: ['4.9']\n",
      "Evaluations: ['17']\n"
     ]
    },
    {
     "name": "stderr",
     "output_type": "stream",
     "text": [
      "\r",
      "460it [16:21,  2.71s/it]"
     ]
    },
    {
     "name": "stdout",
     "output_type": "stream",
     "text": [
      "Course Title:\n",
      "Welcome to Songwriting: Writing the Lyrics\n",
      "The Journey of the Song\n",
      "Stopping and Going\n",
      "Sonic GPS—Mapping Your Song with Rhyme\n",
      "Making It Move\n",
      "Ratings: ['4.8']\n",
      "Evaluations: ['150']\n"
     ]
    },
    {
     "name": "stderr",
     "output_type": "stream",
     "text": [
      "\r",
      "461it [16:22,  2.35s/it]"
     ]
    },
    {
     "name": "stdout",
     "output_type": "stream",
     "text": [
      "Course Title:\n",
      "Engineering and Product Design Processes\n",
      "Prototyping\n",
      "3D Printing Technology Deep Dive and Use Cases\n",
      "Ratings: []\n",
      "Evaluations: []\n"
     ]
    },
    {
     "name": "stderr",
     "output_type": "stream",
     "text": [
      "\r",
      "462it [16:24,  2.23s/it]"
     ]
    },
    {
     "name": "stdout",
     "output_type": "stream",
     "text": [
      "Course Title:\n",
      "The Fashion Design Process\n",
      "Fashion Design: A Sustainable Approach\n",
      "Collaborative Design\n",
      "Fashion Trends: Interpretation, Observation and Intuition\n",
      "Ratings: ['4.7']\n",
      "Evaluations: ['61']\n"
     ]
    },
    {
     "name": "stderr",
     "output_type": "stream",
     "text": [
      "\r",
      "463it [16:26,  2.25s/it]"
     ]
    },
    {
     "name": "stdout",
     "output_type": "stream",
     "text": [
      "Course Title:\n",
      "Course Orientation\n",
      "Module 1: Pitching Ideas\n",
      "Module 2: Evaluating Ideas\n",
      "Module 3: The Allure of Team Creativity\n",
      "Module 4: Breaking the Barriers to Team Creativity\n",
      "Ratings: ['4.8']\n",
      "Evaluations: ['24', '24', '24']\n"
     ]
    },
    {
     "name": "stderr",
     "output_type": "stream",
     "text": [
      "\r",
      "464it [16:29,  2.26s/it]"
     ]
    },
    {
     "name": "stdout",
     "output_type": "stream",
     "text": [
      "Course Title:\n",
      "The Impact of Technology\n",
      "Innovation & Entrepreneurship - From Basics to Open Innovation\n",
      "Innovation & Entrepreneurship - From Design Thinking to Funding\n",
      "Marketing Strategy for Entrepreneurs\n",
      "Capstone Value Creation through Innovation\n",
      "Instructors\n",
      "Ratings: ['4.5', '4.6', '4.7', '4.4']\n",
      "Evaluations: ['107', '289', '115', '151']\n"
     ]
    },
    {
     "name": "stderr",
     "output_type": "stream",
     "text": [
      "\r",
      "465it [16:31,  2.26s/it]"
     ]
    },
    {
     "name": "stdout",
     "output_type": "stream",
     "text": [
      "Course Title:\n",
      "What is Transmedia Storytelling?\n",
      "Creative Ideas Generation - Building a Storyworld\n",
      "Understanding a Transmedia Audience\n",
      "The Transmedia User Experience\n",
      "Using Creative Technologies\n",
      "Stories from Industry - Professionals’ Career Journeys and Advice\n",
      "Ratings: ['4.7']\n",
      "Evaluations: ['206', '206', '206']\n"
     ]
    },
    {
     "name": "stderr",
     "output_type": "stream",
     "text": [
      "\r",
      "466it [16:34,  2.54s/it]"
     ]
    },
    {
     "name": "stdout",
     "output_type": "stream",
     "text": [
      "Course Title:\n",
      "Course Overview and welcome\n",
      "Introduction to Social Pedagogy across Europe and Participatory Practice\n",
      "Social Pedagogy in Germany - Resource-Orientated Practice\n",
      "Social Pedagogy in the UK – Creativity\n",
      "Social Pedagogy in Denmark – Purposeful Shared Activities\n",
      "Social Pedagogy in the Czech Republic – Prevention\n",
      "Social Pedagogy in Spain - Community Education\n",
      "Social Pedagogy in Belgium – Social Justice\n",
      "Social Pedagogy in a Wider Context\n",
      "Ratings: ['4.3']\n",
      "Evaluations: ['17', '17', '17']\n"
     ]
    },
    {
     "name": "stderr",
     "output_type": "stream",
     "text": [
      "\r",
      "467it [16:36,  2.43s/it]"
     ]
    },
    {
     "name": "stdout",
     "output_type": "stream",
     "text": [
      "Course Title:\n",
      "The Words Under the Words\n",
      "The Infinite Power of Grammar\n",
      "The Rule of Three\n",
      "The Power of the Particular\n",
      "Ratings: ['4.8']\n",
      "Evaluations: ['586']\n"
     ]
    },
    {
     "name": "stderr",
     "output_type": "stream",
     "text": [
      "\r",
      "468it [16:39,  2.39s/it]"
     ]
    },
    {
     "name": "stdout",
     "output_type": "stream",
     "text": [
      "Course Title:\n",
      "Week 1: Talking Type\n",
      "Week 2: Typefaces and their Stories\n",
      "Week 3: Putting Type to Work\n",
      "Week 4: Making Meaningful Type\n",
      "Ratings: ['4.8']\n",
      "Evaluations: ['848']\n"
     ]
    },
    {
     "name": "stderr",
     "output_type": "stream",
     "text": [
      "\r",
      "469it [16:44,  3.18s/it]"
     ]
    },
    {
     "name": "stdout",
     "output_type": "stream",
     "text": [
      "Course Title:\n",
      "Creative Writing: The Craft of Plot\n",
      "Creative Writing: The Craft of Character\n",
      "Creative Writing: The Craft of Setting and Description\n",
      "Creative Writing: The Craft of Style\n",
      "Capstone: Your Story\n",
      "Instructors\n",
      "Ratings: ['4.7', '4.5', '4.7', '4.7', '4.6']\n",
      "Evaluations: ['4', '1', '1', '1', '386']\n"
     ]
    },
    {
     "name": "stderr",
     "output_type": "stream",
     "text": [
      "\r",
      "470it [16:46,  2.86s/it]"
     ]
    },
    {
     "name": "stdout",
     "output_type": "stream",
     "text": [
      "Course Title:\n",
      "Modern Art & Ideas\n",
      "Seeing Through Photographs\n",
      "What Is Contemporary Art?\n",
      "Fashion as Design\n",
      "Ratings: ['4.8', '4.8', '4.7', '4.8']\n",
      "Evaluations: ['6', '4', '1', '2']\n"
     ]
    },
    {
     "name": "stderr",
     "output_type": "stream",
     "text": [
      "\r",
      "471it [16:50,  3.16s/it]"
     ]
    },
    {
     "name": "stdout",
     "output_type": "stream",
     "text": [
      "Course Title:\n",
      "Develop your TV series concept\n",
      "Write Act One of your pilot episode\n",
      "Write Act Two\n",
      "Act Three\n",
      "Polish your script, create a Cold Open and finish the Season One Bible\n",
      "Ratings: ['4.5']\n",
      "Evaluations: ['137']\n"
     ]
    },
    {
     "name": "stderr",
     "output_type": "stream",
     "text": [
      "\r",
      "472it [16:51,  2.68s/it]"
     ]
    },
    {
     "name": "stdout",
     "output_type": "stream",
     "text": [
      "Course Title:\n",
      "Speaking and Presenting: Poise\n",
      "Speaking and Presenting: Pitches and Persuasion\n",
      "Speaking and Presenting: Conversation Starters\n",
      "Speaking and Presenting: Tact\n",
      "Ratings: ['4.6', '4.6', '4.7', '4.7']\n",
      "Evaluations: ['110', '46', '23', '21']\n"
     ]
    },
    {
     "name": "stderr",
     "output_type": "stream",
     "text": [
      "\r",
      "473it [16:54,  2.60s/it]"
     ]
    },
    {
     "name": "stdout",
     "output_type": "stream",
     "text": [
      "Course Title:\n",
      "Genius Defined,   Genius Denied ,  Genius and Geography\n",
      "First Things First    \n",
      "What Makes Genius?\n",
      "Disruption, Genius and Morality, Genius and “Disability”\n",
      "Ratings: ['5.0']\n",
      "Evaluations: ['87']\n"
     ]
    },
    {
     "name": "stderr",
     "output_type": "stream",
     "text": [
      "\r",
      "474it [16:55,  2.32s/it]"
     ]
    },
    {
     "name": "stdout",
     "output_type": "stream",
     "text": [
      "Course Title:\n",
      "Getting Started with Public Speaking\n",
      "A Formula For Successful Presentation\n",
      "Practicing Your Self\n",
      "Engaging with the World\n",
      "Ratings: ['4.8']\n",
      "Evaluations: ['1']\n"
     ]
    },
    {
     "name": "stderr",
     "output_type": "stream",
     "text": [
      "\r",
      "475it [16:57,  2.12s/it]"
     ]
    },
    {
     "name": "stdout",
     "output_type": "stream",
     "text": [
      "Course Title:\n",
      "Learn step-by-step\n",
      "Ratings: ['3.9']\n",
      "Evaluations: ['8']\n"
     ]
    },
    {
     "name": "stderr",
     "output_type": "stream",
     "text": [
      "\r",
      "476it [16:59,  2.01s/it]"
     ]
    },
    {
     "name": "stdout",
     "output_type": "stream",
     "text": [
      "Course Title:\n",
      "Learn step-by-step\n",
      "Ratings: []\n",
      "Evaluations: []\n"
     ]
    },
    {
     "name": "stderr",
     "output_type": "stream",
     "text": [
      "\r",
      "477it [17:04,  2.87s/it]"
     ]
    },
    {
     "name": "stdout",
     "output_type": "stream",
     "text": [
      "Course Title:\n",
      "Worldview\n",
      "Fur Trade\n",
      "Trick or Treaty\n",
      "New Rules, New Game\n",
      "“Killing the Indian in the Child”\n",
      "A Modern Indian?\n",
      "Red Power\n",
      "Sovereign Lands\n",
      "Indigenous Women\n",
      "Indigenous in the City\n",
      "Current Social Movements\n",
      "‘Living’ Traditions – Expressions in Pop Culture and Art\n",
      "Ratings: ['4.8']\n",
      "Evaluations: ['12']\n"
     ]
    },
    {
     "name": "stderr",
     "output_type": "stream",
     "text": [
      "\r",
      "478it [17:05,  2.56s/it]"
     ]
    },
    {
     "name": "stdout",
     "output_type": "stream",
     "text": [
      "Course Title:\n",
      "Digital Transformation\n",
      "Design Thinking for Innovation\n",
      "Digital Product Management: Modern Fundamentals\n",
      "Customer-Centric IT Strategy\n",
      "Ratings: ['4.8', '4.7', '4.7', '4.6']\n",
      "Evaluations: ['5', '8', '4', '612']\n"
     ]
    },
    {
     "name": "stderr",
     "output_type": "stream",
     "text": [
      "\r",
      "479it [17:09,  2.80s/it]"
     ]
    },
    {
     "name": "stdout",
     "output_type": "stream",
     "text": [
      "Course Title:\n",
      "Fandom, Social Media, and Authenticity in the Digital Age\n",
      "Fandom, Community, and Identity in Popular Music\n",
      "Comic Books, Geek Culture, and the Fandom Imaginary\n",
      "Ratings: []\n",
      "Evaluations: []\n"
     ]
    },
    {
     "name": "stderr",
     "output_type": "stream",
     "text": [
      "\r",
      "480it [17:12,  2.90s/it]"
     ]
    },
    {
     "name": "stdout",
     "output_type": "stream",
     "text": [
      "Course Title:\n",
      "Introduction to Seeing Through Photographs\n",
      "One Subject, Many Perspectives\n",
      "Documents and the Documentary\n",
      "One and Another\n",
      "Constructing Narratives, Challenging Histories\n",
      "Pictures of People\n",
      "Ocean of Images\n",
      "Ratings: ['4.8']\n",
      "Evaluations: ['716', '716']\n"
     ]
    },
    {
     "name": "stderr",
     "output_type": "stream",
     "text": [
      "\r",
      "481it [17:14,  2.78s/it]"
     ]
    },
    {
     "name": "stdout",
     "output_type": "stream",
     "text": [
      "Course Title:\n",
      "Self Awareness and the Effective Leader\n",
      "Relationship Management \n",
      "Personal Leadership Development Planning and Leading High Performing Teams\n",
      "Ratings: ['4.7', '4.8', '4.7']\n",
      "Evaluations: ['629', '336', '197']\n"
     ]
    },
    {
     "name": "stderr",
     "output_type": "stream",
     "text": [
      "\r",
      "482it [17:16,  2.53s/it]"
     ]
    },
    {
     "name": "stdout",
     "output_type": "stream",
     "text": [
      "Course Title:\n",
      "Cracking the Creativity Code: Discovering Ideas\n",
      "From Idea to Startup\n",
      "Innovation Career Lessons from a Master\n",
      "Action-Driven Business Plan: From the ‘Classroom’ to the World\n",
      "Ratings: ['4.7', '4.8', '4.8', '4.9']\n",
      "Evaluations: ['979', '756', '338', '323']\n"
     ]
    },
    {
     "name": "stderr",
     "output_type": "stream",
     "text": [
      "\r",
      "483it [17:20,  2.95s/it]"
     ]
    },
    {
     "name": "stdout",
     "output_type": "stream",
     "text": [
      "Course Title:\n",
      "Introduction to the Organizational Leadership Specialization\n",
      "Leadership\n",
      "Teamwork \n",
      "Negotiation\n",
      "Ratings: ['4.8']\n",
      "Evaluations: ['632']\n"
     ]
    },
    {
     "name": "stderr",
     "output_type": "stream",
     "text": [
      "\r",
      "484it [17:25,  3.34s/it]"
     ]
    },
    {
     "name": "stdout",
     "output_type": "stream",
     "text": [
      "Course Title:\n",
      "Introduction: Family Policy Handbook Project \n",
      "Foundations for Early Childhood\n",
      "Family Engagement\n",
      "Observation and Assessment of Children\n",
      "Guiding Children's Behavior\n",
      "Inclusion and Diversity\n",
      "Ratings: ['4.7']\n",
      "Evaluations: ['13']\n"
     ]
    },
    {
     "name": "stderr",
     "output_type": "stream",
     "text": [
      "\r",
      "485it [17:30,  3.89s/it]"
     ]
    },
    {
     "name": "stdout",
     "output_type": "stream",
     "text": [
      "Course Title:\n",
      "Develop Your Transmedia Concept\n",
      "Write The First Chapter Of Your Novel\n",
      "Write Chapter Two Of Your Novel\n",
      "Adapt Chapter One To The Opening Scenes Of Your Screenplay\n",
      "Adapt Chapter Two Into Screenplay Format\n",
      "Transform Your IP Into a Concept for a Game Design\n",
      "Ratings: ['4.5']\n",
      "Evaluations: ['13']\n"
     ]
    },
    {
     "name": "stderr",
     "output_type": "stream",
     "text": [
      "\r",
      "486it [17:37,  4.78s/it]"
     ]
    },
    {
     "name": "stdout",
     "output_type": "stream",
     "text": [
      "Course Title:\n",
      "Welcome!\n",
      "Your Foundation\n",
      "Your Brand\n",
      "Your Record\n",
      "Your Money\n",
      "Your Career\n",
      "Ratings: ['4.4']\n",
      "Evaluations: ['75']\n"
     ]
    },
    {
     "name": "stderr",
     "output_type": "stream",
     "text": [
      "\r",
      "487it [17:38,  3.83s/it]"
     ]
    },
    {
     "name": "stdout",
     "output_type": "stream",
     "text": [
      "Course Title:\n",
      "Introduction to Giving Helpful Feedback and Positive Feedback\n",
      "Negative Feedback:  Use With Caution\n",
      "The Seven Essential Feedback Skills - Part I\n",
      "The Seven Essential Feedback Skills - Part II\n",
      "Giving Helpful Feedback:  Turn Your Knowledge Into Long-Term Change\n",
      "Helpful Class Resources\n",
      "Ratings: ['4.8']\n",
      "Evaluations: ['472']\n"
     ]
    },
    {
     "name": "stderr",
     "output_type": "stream",
     "text": [
      "\r",
      "488it [17:40,  3.24s/it]"
     ]
    },
    {
     "name": "stdout",
     "output_type": "stream",
     "text": [
      "Course Title:\n",
      "INTRODUCTION - Appréhender les contours des industries culturelles\n",
      "Cerner les grands enjeux économiques des IC et le potentiel entrepreneurial  \n",
      "OBSERVER LES MUTATIONS DES CONSOMMATIONS CULTURELLES\n",
      "SAISIR LA RECONFIGURATION DES CONTENUS ET DE LA CREATION\n",
      "PENSER LE MODELE DE SON ENTREPRISE\n",
      "ACTIONNER LES BONS LEVIERS DE FINANCEMENTS\n",
      "Promouvoir, diffuser, distribuer les biens culturels aux publics  \n",
      "De l'entrepreneur au dirigeant d'entreprise : la boîte à outils de l'entrepreneuriat culturel\n",
      "Ratings: ['4.6']\n",
      "Evaluations: ['32']\n"
     ]
    },
    {
     "name": "stderr",
     "output_type": "stream",
     "text": [
      "\r",
      "489it [17:41,  2.68s/it]"
     ]
    },
    {
     "name": "stdout",
     "output_type": "stream",
     "text": [
      "Course Title:\n",
      "Songwriting: Writing the Lyrics\n",
      "Songwriting: Writing the Music\n",
      "Arranging for Songwriters\n",
      "Introduction to Ableton Live\n",
      "Ratings: ['4.8', '4.9', '4.5', '4.8']\n",
      "Evaluations: ['830', '36', '68', '1']\n"
     ]
    },
    {
     "name": "stderr",
     "output_type": "stream",
     "text": [
      "\r",
      "490it [17:43,  2.48s/it]"
     ]
    },
    {
     "name": "stdout",
     "output_type": "stream",
     "text": [
      "Course Title:\n",
      "Music Business Foundations\n",
      "Building Your Career in Music: Developing A Brand and Funding Your Music\n",
      "Copyright Law in the Music Business\n",
      "Creativity And Entrepreneurship \n",
      "Ratings: ['4.9', '4.4', '4.8', '4.7']\n",
      "Evaluations: ['2', '445', '620', '324']\n"
     ]
    },
    {
     "name": "stderr",
     "output_type": "stream",
     "text": [
      "\r",
      "491it [17:46,  2.56s/it]"
     ]
    },
    {
     "name": "stdout",
     "output_type": "stream",
     "text": [
      "Course Title:\n",
      "Fashion Systems\n",
      "Fashion Design\n",
      "Fashion Retail Transformation\n",
      "Ratings: ['4.7', '4.7', '4.7']\n",
      "Evaluations: ['160', '179', '68']\n"
     ]
    },
    {
     "name": "stderr",
     "output_type": "stream",
     "text": [
      "\r",
      "492it [17:48,  2.30s/it]"
     ]
    },
    {
     "name": "stdout",
     "output_type": "stream",
     "text": [
      "Course Title:\n",
      "Introduction: Teaching and Learning Science\n",
      "Conceptual Change\n",
      "Teaching with analogies\n",
      "(Re-)Frame your science teaching\n",
      "Teaching science in a lab or field\n",
      "Ratings: ['4.5']\n",
      "Evaluations: ['35', '35', '35']\n"
     ]
    },
    {
     "name": "stderr",
     "output_type": "stream",
     "text": [
      "\r",
      "493it [17:50,  2.15s/it]"
     ]
    },
    {
     "name": "stdout",
     "output_type": "stream",
     "text": [
      "Course Title:\n",
      "Brand Identity and Strategy\n",
      " Storytelling in Branding and Content Marketing \n",
      "From Brand to Image: Creating High Impact Campaigns That Tell Brand Stories\n",
      "Branding and Customer Experience\n",
      "Ratings: ['4.7', '4.4', '4.7', '4.7']\n",
      "Evaluations: ['709', '257', '228', '431']\n"
     ]
    },
    {
     "name": "stderr",
     "output_type": "stream",
     "text": [
      "\r",
      "494it [17:53,  2.37s/it]"
     ]
    },
    {
     "name": "stdout",
     "output_type": "stream",
     "text": [
      "Course Title:\n",
      "Guitar for Beginners\n",
      "Singing Popular Music\n",
      "Songwriting: Writing the Lyrics\n",
      "Introduction to Ableton Live\n",
      "Ratings: ['4.8', '4.5', '4.8', '4.8']\n",
      "Evaluations: ['2', '150', '830', '1']\n"
     ]
    },
    {
     "name": "stderr",
     "output_type": "stream",
     "text": [
      "\r",
      "495it [17:54,  2.11s/it]"
     ]
    },
    {
     "name": "stdout",
     "output_type": "stream",
     "text": [
      "Course Title:\n",
      "Introduction to Game Design\n",
      "Story and Narrative Development for Video Games\n",
      "World Design for Video Games\n",
      "Character Design for Video Games\n",
      "Game Design Document: Define the Art & Concepts\n",
      "Ratings: ['4.7', '4.7', '4.5', '4.7', '4.7']\n",
      "Evaluations: ['2', '1', '776', '940', '237']\n"
     ]
    },
    {
     "name": "stderr",
     "output_type": "stream",
     "text": [
      "\r",
      "496it [17:56,  2.08s/it]"
     ]
    },
    {
     "name": "stdout",
     "output_type": "stream",
     "text": [
      "Course Title:\n",
      "The Art of Music Production\n",
      "The Technology of Music Production\n",
      "Pro Tools Basics\n",
      "Music Production Capstone\n",
      "Ratings: ['4.8', '4.8', '4.7', '4.8']\n",
      "Evaluations: ['1', '1', '577', '108']\n"
     ]
    },
    {
     "name": "stderr",
     "output_type": "stream",
     "text": [
      "\r",
      "497it [17:57,  1.88s/it]"
     ]
    },
    {
     "name": "stdout",
     "output_type": "stream",
     "text": [
      "Course Title:\n",
      "Business Writing\n",
      "Graphic Design\n",
      "Successful Presentation\n",
      "Effective Communication Capstone Project\n",
      "Ratings: ['4.8', '4.8', '4.8', '4.7']\n",
      "Evaluations: ['4', '2', '4', '135']\n"
     ]
    },
    {
     "name": "stderr",
     "output_type": "stream",
     "text": [
      "\r",
      "498it [17:59,  1.82s/it]"
     ]
    },
    {
     "name": "stdout",
     "output_type": "stream",
     "text": [
      "Course Title:\n",
      "Module 1: Capstone Course Overview and Innovation Review\n",
      "Module 2\n",
      "Module 3\n",
      "Module 4\n",
      "Module 5\n",
      "Module 6\n",
      "Ratings: ['3.9']\n",
      "Evaluations: ['15']\n"
     ]
    },
    {
     "name": "stderr",
     "output_type": "stream",
     "text": [
      "\r",
      "499it [18:01,  1.84s/it]"
     ]
    },
    {
     "name": "stdout",
     "output_type": "stream",
     "text": [
      "Course Title:\n",
      "Songwriting: Writing the Lyrics\n",
      "The Art of Music Production\n",
      "Pro Tools Basics\n",
      "Building Your Career in Music: Developing A Brand and Funding Your Music\n",
      "Ratings: ['4.8', '4.8', '4.7', '4.4']\n",
      "Evaluations: ['830', '1', '577', '445']\n"
     ]
    },
    {
     "name": "stderr",
     "output_type": "stream",
     "text": [
      "\r",
      "500it [18:03,  1.79s/it]"
     ]
    },
    {
     "name": "stdout",
     "output_type": "stream",
     "text": [
      "Course Title:\n",
      "Introduction and the Poetic Line\n",
      "Abstraction and Image\n",
      "Metaphor and Other Formulas of Difference\n",
      "Rhyme\n",
      "Rhythm\n",
      "Sharpened Poetry: Revision Strategies\n",
      "Ratings: ['4.9']\n",
      "Evaluations: ['485']\n"
     ]
    },
    {
     "name": "stderr",
     "output_type": "stream",
     "text": [
      "\r",
      "501it [18:04,  1.73s/it]"
     ]
    },
    {
     "name": "stdout",
     "output_type": "stream",
     "text": [
      "Course Title:\n",
      "Music Business Foundations\n",
      "The Art of Music Production\n",
      "Copyright Law in the Music Business\n",
      "Pro Tools Basics\n",
      "Ratings: ['4.9', '4.8', '4.8', '4.7']\n",
      "Evaluations: ['2', '1', '620', '577']\n"
     ]
    },
    {
     "name": "stderr",
     "output_type": "stream",
     "text": [
      "\r",
      "502it [18:06,  1.65s/it]"
     ]
    },
    {
     "name": "stdout",
     "output_type": "stream",
     "text": [
      "Course Title:\n",
      "Positive Psychology: Martin E. P. Seligman’s Visionary Science\n",
      "Positive Psychology: Applications and Interventions\n",
      "Positive Psychology: Character, Grit and Research Methods\n",
      "Positive Psychology: Resilience Skills\n",
      "Positive Psychology Specialization Project: Design Your Life for Well-being\n",
      "Ratings: ['4.9', '4.8', '4.4', '4.9', '4.8']\n",
      "Evaluations: ['5', '1', '1', '2', '766']\n"
     ]
    },
    {
     "name": "stderr",
     "output_type": "stream",
     "text": [
      "\r",
      "503it [18:08,  1.81s/it]"
     ]
    },
    {
     "name": "stdout",
     "output_type": "stream",
     "text": [
      "Course Title:\n",
      "What Great Strategists Know\n",
      "The Delusions of a Dream Company\n",
      "The Manager as Master Puzzle Solver\n",
      "The Seven Habits of Spectacularly Unsuccessful People\n",
      "Ratings: ['4.9']\n",
      "Evaluations: ['72']\n"
     ]
    },
    {
     "name": "stderr",
     "output_type": "stream",
     "text": [
      "\r",
      "504it [18:10,  1.96s/it]"
     ]
    },
    {
     "name": "stdout",
     "output_type": "stream",
     "text": [
      "Course Title:\n",
      "Module 1\n",
      "Module 2\n",
      "Module 3\n",
      "Module 4\n",
      "Ratings: ['4.8']\n",
      "Evaluations: ['41', '41', '41']\n"
     ]
    },
    {
     "name": "stderr",
     "output_type": "stream",
     "text": [
      "\r",
      "505it [18:12,  1.83s/it]"
     ]
    },
    {
     "name": "stdout",
     "output_type": "stream",
     "text": [
      "Course Title:\n",
      "The Impact of Technology\n",
      "Innovation & Entrepreneurship - From Basics to Open Innovation\n",
      "Innovation & Entrepreneurship - From Design Thinking to Funding\n",
      "Marketing Strategy for Entrepreneurs\n",
      "Capstone Value Creation through Innovation\n",
      "Instructors\n",
      "Ratings: ['4.5', '4.6', '4.7', '4.4']\n",
      "Evaluations: ['107', '289', '115', '151']\n"
     ]
    },
    {
     "name": "stderr",
     "output_type": "stream",
     "text": [
      "\r",
      "506it [18:13,  1.77s/it]"
     ]
    },
    {
     "name": "stdout",
     "output_type": "stream",
     "text": [
      "Course Title:\n",
      "Introduction\n",
      "Define and Design\n",
      "Pilot and Scale\n",
      "Sector Selection and Business Models\n",
      "Ratings: ['4.8']\n",
      "Evaluations: ['310']\n"
     ]
    },
    {
     "name": "stderr",
     "output_type": "stream",
     "text": [
      "\r",
      "507it [18:16,  1.87s/it]"
     ]
    },
    {
     "name": "stdout",
     "output_type": "stream",
     "text": [
      "Course Title:\n",
      "Re-opening Introduction \n",
      "Introduction to Value, Value Creation, and Supply Chain Management\n",
      "Management Capability\n",
      "Learning Perspective\n",
      "Quality Management\n",
      "New Product Innovation\n",
      "Supply Chain Strategy I: Structural and Infrastructural Dimensions\n",
      "Supply Chain Strategy II: Coordination for Value Creation\n",
      "Supply Chain Globalization and Sustainability\n",
      "Final Exam\n",
      "Ratings: ['4.7']\n",
      "Evaluations: ['407']\n"
     ]
    },
    {
     "name": "stderr",
     "output_type": "stream",
     "text": [
      "\r",
      "508it [18:18,  1.91s/it]"
     ]
    },
    {
     "name": "stdout",
     "output_type": "stream",
     "text": [
      "Course Title:\n",
      "Welcome to The Art of Music Production\n",
      "Listening Like A Producer\n",
      "Identity, Vision, and Intention\n",
      "Strengthening Musical Productions: Tools & Strategies\n",
      "Defining the Sonic Signature of your Song\n",
      "Ratings: ['4.9']\n",
      "Evaluations: ['315']\n"
     ]
    },
    {
     "name": "stderr",
     "output_type": "stream",
     "text": [
      "\r",
      "509it [18:20,  2.04s/it]"
     ]
    },
    {
     "name": "stdout",
     "output_type": "stream",
     "text": [
      "Course Title:\n",
      "Building Great Business Writing\n",
      "The Formula for Writing Success\n",
      "Crafting Powerful Writing\n",
      "Activate Your Voice!\n",
      "Ratings: ['4.8']\n",
      "Evaluations: ['1']\n"
     ]
    },
    {
     "name": "stderr",
     "output_type": "stream",
     "text": [
      "\r",
      "510it [18:22,  2.05s/it]"
     ]
    },
    {
     "name": "stdout",
     "output_type": "stream",
     "text": [
      "Course Title:\n",
      "Course Introduction\n",
      "Visual Arts\n",
      "Music\n",
      "Movement\n",
      "Word\n",
      "Conclusion\n",
      "Ratings: ['4.7']\n",
      "Evaluations: ['253', '253']\n"
     ]
    },
    {
     "name": "stderr",
     "output_type": "stream",
     "text": [
      "\r",
      "511it [18:24,  2.17s/it]"
     ]
    },
    {
     "name": "stdout",
     "output_type": "stream",
     "text": [
      "Course Title:\n",
      "Introduction to What Is Contemporary Art?\n",
      "Media from Television to the Internet\n",
      "Territories & Transit\n",
      "Materials & Making\n",
      "Agency\n",
      "Power\n",
      "Ratings: ['4.6']\n",
      "Evaluations: ['472', '472', '472']\n"
     ]
    },
    {
     "name": "stderr",
     "output_type": "stream",
     "text": [
      "\r",
      "512it [18:28,  2.56s/it]"
     ]
    },
    {
     "name": "stdout",
     "output_type": "stream",
     "text": [
      "Course Title:\n",
      "Welcome to Jazz Improvisation\n",
      "Improvisation as a Language\n",
      "The Improviser's Vocabulary\n",
      "Making Scale Choices in Real Time\n",
      "Harmony for Improvisers\n",
      "Theme and Variation\n",
      "Ratings: ['4.8']\n",
      "Evaluations: ['65']\n"
     ]
    },
    {
     "name": "stderr",
     "output_type": "stream",
     "text": [
      "\r",
      "513it [18:29,  2.23s/it]"
     ]
    },
    {
     "name": "stdout",
     "output_type": "stream",
     "text": [
      "Course Title:\n",
      "The Superboss Leader\n",
      "Superboss Secrets to Motivation\n",
      "The Master-Apprentice Relationship\n",
      "The Superboss Playbook\n",
      "Ratings: ['4.8']\n",
      "Evaluations: ['22']\n"
     ]
    },
    {
     "name": "stderr",
     "output_type": "stream",
     "text": [
      "\r",
      "514it [18:31,  2.14s/it]"
     ]
    },
    {
     "name": "stdout",
     "output_type": "stream",
     "text": [
      "Course Title:\n",
      "COURSE ORIENTATION\n",
      "MODULE 1: TEAM CULTURE: DEFINED\n",
      "MODULE 2: CULTURES OF SAFETY\n",
      "MODULE 3: CULTURES OF ENGAGEMENT\n",
      "MODULE 4: CULTURES OF GROWTH\n",
      "Ratings: ['4.8']\n",
      "Evaluations: ['313', '313', '313']\n"
     ]
    },
    {
     "name": "stderr",
     "output_type": "stream",
     "text": [
      "\r",
      "515it [18:35,  2.51s/it]"
     ]
    },
    {
     "name": "stdout",
     "output_type": "stream",
     "text": [
      "Course Title:\n",
      "Welcome to Arranging for Songwriters\n",
      "New Ways of Listening\n",
      "Laying the Foundation\n",
      "Finding the Groove\n",
      "Instrumentation and Vocals\n",
      "Ratings: ['4.7']\n",
      "Evaluations: ['18', '18']\n"
     ]
    },
    {
     "name": "stderr",
     "output_type": "stream",
     "text": [
      "\r",
      "516it [18:38,  2.73s/it]"
     ]
    },
    {
     "name": "stdout",
     "output_type": "stream",
     "text": [
      "Course Title:\n",
      "Your Place\n",
      "Discovering Stories\n",
      "Public History and Creative Practice\n",
      "History and the Present\n",
      "Research Together\n",
      "Communication and Evaluation\n",
      "Ratings: ['4.9']\n",
      "Evaluations: ['44']\n"
     ]
    },
    {
     "name": "stderr",
     "output_type": "stream",
     "text": [
      "\r",
      "517it [18:41,  2.76s/it]"
     ]
    },
    {
     "name": "stdout",
     "output_type": "stream",
     "text": [
      "Course Title:\n",
      "chapter 1.1 (week 1)—Whitman & Dickinson, two proto-modernists\n",
      "chapter 1.2 (week 2)—Whitmanians & Dickinsonians \n",
      "chapter 2.1 (week 3)—the rise of poetic modernism: imagism\n",
      "chapter 2.2 (week 3 cont.)—the rise of poetic modernism: Williams\n",
      "chapter 2.3 (week 4)—the rise of poetic modernism: Stein\n",
      "chapter 2.4 (week 4 cont.)—the rise of poetic modernism: modernist edges\n",
      "chapter 3 (week 5)—communist poets of the 1930s\n",
      "chapter 4 (week 5 cont.)—the Harlem Renaissance\n",
      "chapter 5 (week 5 cont.)—Frost\n",
      "chapter 6 (week 5 cont.)—formalism of the 1950s\n",
      "chapter 7 (week 6)—breaking conformity: the beats\n",
      "chapter 8 (week 7)—the New York School\n",
      "chapter 9.1 (week 8)—some trends in recent poetry: L=A=N=G=U=A=G=E\n",
      "chapter 9.2 (week 9)—some trends in recent poetry: chance\n",
      "chapter 9.3 (week 10)—some trends in recent poetry: conceptualism & unoriginality\n",
      "Ratings: ['4.8']\n",
      "Evaluations: ['179']\n"
     ]
    },
    {
     "name": "stderr",
     "output_type": "stream",
     "text": [
      "\r",
      "518it [18:43,  2.56s/it]"
     ]
    },
    {
     "name": "stdout",
     "output_type": "stream",
     "text": [
      "Course Title:\n",
      "Welcome to The Impact of Technology\n",
      "Theory and models - practical use\n",
      "Technology delta and barriers\n",
      "Foresight\n",
      "Value networks\n",
      "Business roles and ideas\n",
      "Strategy\n",
      "Finale - The Impact of Technology\n",
      "Ratings: ['4.8']\n",
      "Evaluations: ['24']\n"
     ]
    },
    {
     "name": "stderr",
     "output_type": "stream",
     "text": [
      "\r",
      "519it [18:46,  2.75s/it]"
     ]
    },
    {
     "name": "stdout",
     "output_type": "stream",
     "text": [
      "Course Title:\n",
      "Introduction to Giving Helpful Feedback and Positive Feedback\n",
      "Negative Feedback:  Use With Caution\n",
      "The Seven Essential Feedback Skills - Part I\n",
      "The Seven Essential Feedback Skills - Part II\n",
      "Giving Helpful Feedback:  Turn Your Knowledge Into Long-Term Change\n",
      "Helpful Class Resources\n",
      "Ratings: ['4.8']\n",
      "Evaluations: ['472']\n"
     ]
    },
    {
     "name": "stderr",
     "output_type": "stream",
     "text": [
      "\r",
      "520it [18:48,  2.56s/it]"
     ]
    },
    {
     "name": "stdout",
     "output_type": "stream",
     "text": [
      "Course Title:\n",
      "How Lean benefits companies\n",
      "How to apply Lean to improve manufacturing\n",
      "How to apply Lean to improve services\n",
      "Lean as a new mindset to drive transformation\n",
      "Ratings: ['4.8']\n",
      "Evaluations: ['205', '205', '205']\n"
     ]
    },
    {
     "name": "stderr",
     "output_type": "stream",
     "text": [
      "\r",
      "521it [18:50,  2.29s/it]"
     ]
    },
    {
     "name": "stdout",
     "output_type": "stream",
     "text": [
      "Course Title:\n",
      "The Neuroscience of Personal Excellence\n",
      "The Neuroscience of Leading High-Performance Teams\n",
      "The Neuroscience of Leading Transformational Organizations\n",
      "Ratings: []\n",
      "Evaluations: []\n"
     ]
    },
    {
     "name": "stderr",
     "output_type": "stream",
     "text": [
      "\r",
      "522it [18:51,  2.07s/it]"
     ]
    },
    {
     "name": "stdout",
     "output_type": "stream",
     "text": [
      "Course Title:\n",
      "Feedback Deserts\n",
      "E-D-I-T\n",
      "Self-Assessments, Self-Delusion\n",
      "Noise Pollution\n",
      "Ratings: []\n",
      "Evaluations: []\n"
     ]
    },
    {
     "name": "stderr",
     "output_type": "stream",
     "text": [
      "\r",
      "523it [18:53,  1.93s/it]"
     ]
    },
    {
     "name": "stdout",
     "output_type": "stream",
     "text": [
      "Course Title:\n",
      "Self-awareness at the organization level\n",
      "Building quality relationships in the organization\n",
      "Building resilience for the organization\n",
      "Creating sense for the organization\n",
      "Ratings: ['4.6']\n",
      "Evaluations: ['27']\n"
     ]
    },
    {
     "name": "stderr",
     "output_type": "stream",
     "text": [
      "\r",
      "524it [18:54,  1.82s/it]"
     ]
    },
    {
     "name": "stdout",
     "output_type": "stream",
     "text": [
      "Course Title:\n",
      "Intersectionality in the Workplace: Working with Diverse Teams\n",
      "Allyship\n",
      " Team Benefits of DEI\n",
      "Workplace Best Practices\n",
      "Ratings: []\n",
      "Evaluations: []\n"
     ]
    },
    {
     "name": "stderr",
     "output_type": "stream",
     "text": [
      "\r",
      "525it [18:56,  1.80s/it]"
     ]
    },
    {
     "name": "stdout",
     "output_type": "stream",
     "text": [
      "Course Title:\n",
      "Promoting Diversity in the Workplace\n",
      "Team Diversity Basics\n",
      "Managing Conflict\n",
      "Diversity Case Study\n",
      "Ratings: ['4.4']\n",
      "Evaluations: ['24', '24', '24']\n"
     ]
    },
    {
     "name": "stderr",
     "output_type": "stream",
     "text": [
      "\r",
      "526it [18:58,  1.79s/it]"
     ]
    },
    {
     "name": "stdout",
     "output_type": "stream",
     "text": [
      "Course Title:\n",
      "Strategic Innovation: Building and Sustaining Innovative Organizations\n",
      "Strategic Innovation: Managing Innovation Initiatives\n",
      "Creativity Toolkit I: Changing Perspectives\n",
      "Creativity Toolkit II: Creative Collaboration\n",
      "Entrepreneurship I: Laying the Foundation\n",
      "Entrepreneurship II: Preparing for Launch\n",
      "Innovation: From Creativity to Entrepreneurship Capstone\n",
      "Ratings: ['4.8', '4.7', '4.8', '4.7', '4.8', '4.8', '4.6']\n",
      "Evaluations: ['1', '607', '551', '344', '1', '634', '66']\n"
     ]
    },
    {
     "name": "stderr",
     "output_type": "stream",
     "text": [
      "\r",
      "527it [19:00,  1.72s/it]"
     ]
    },
    {
     "name": "stdout",
     "output_type": "stream",
     "text": [
      "Course Title:\n",
      "Introduction to the Organizational Leadership Specialization\n",
      "Leadership\n",
      "Teamwork \n",
      "Negotiation\n",
      "Ratings: ['4.8']\n",
      "Evaluations: ['632']\n"
     ]
    },
    {
     "name": "stderr",
     "output_type": "stream",
     "text": [
      "\r",
      "528it [19:02,  1.89s/it]"
     ]
    },
    {
     "name": "stdout",
     "output_type": "stream",
     "text": [
      "Course Title:\n",
      "Introduction: Teaching and Learning Science\n",
      "Conceptual Change\n",
      "Teaching with analogies\n",
      "(Re-)Frame your science teaching\n",
      "Teaching science in a lab or field\n",
      "Ratings: ['4.5']\n",
      "Evaluations: ['35', '35', '35']\n"
     ]
    },
    {
     "name": "stderr",
     "output_type": "stream",
     "text": [
      "\r",
      "529it [19:06,  2.63s/it]"
     ]
    },
    {
     "name": "stdout",
     "output_type": "stream",
     "text": [
      "Course Title:\n",
      "Orientation and Module 1: Melody\n",
      "Harmony\n",
      "Post Tonal Music Composition\n",
      "Ratings: ['4.8']\n",
      "Evaluations: ['34', '34', '34']\n"
     ]
    },
    {
     "name": "stderr",
     "output_type": "stream",
     "text": [
      "\r",
      "530it [19:08,  2.44s/it]"
     ]
    },
    {
     "name": "stdout",
     "output_type": "stream",
     "text": [
      "Course Title:\n",
      "Modern Art & Ideas\n",
      "Seeing Through Photographs\n",
      "What Is Contemporary Art?\n",
      "Fashion as Design\n",
      "Ratings: ['4.8', '4.8', '4.7', '4.8']\n",
      "Evaluations: ['6', '4', '1', '2']\n"
     ]
    },
    {
     "name": "stderr",
     "output_type": "stream",
     "text": [
      "\r",
      "531it [19:10,  2.35s/it]"
     ]
    },
    {
     "name": "stdout",
     "output_type": "stream",
     "text": [
      "Course Title:\n",
      "Leading Teams: Developing as a Leader\n",
      "Leading Teams: Building Effective Team Cultures\n",
      "Designing the Organization\n",
      "Managing the Organization\n",
      "Business Strategy\n",
      "Corporate Strategy\n",
      "Strategic Leadership and Management Capstone\n",
      "Ratings: ['4.8', '4.8', '4.6', '4.7', '4.8', '4.7', '4.8']\n",
      "Evaluations: ['5', '2', '1', '1', '1', '1', '244']\n"
     ]
    },
    {
     "name": "stderr",
     "output_type": "stream",
     "text": [
      "\r",
      "532it [19:13,  2.41s/it]"
     ]
    },
    {
     "name": "stdout",
     "output_type": "stream",
     "text": [
      "Course Title:\n",
      "Foundations of Neuroscience \n",
      "Learning and Habituation\n",
      "Decision Making and Problem Solving\n",
      "Finding Your Sweet Spot\n",
      "Forging Mettle\n",
      "Ratings: []\n",
      "Evaluations: []\n"
     ]
    },
    {
     "name": "stderr",
     "output_type": "stream",
     "text": [
      "\r",
      "533it [19:14,  2.16s/it]"
     ]
    },
    {
     "name": "stdout",
     "output_type": "stream",
     "text": [
      "Course Title:\n",
      "How do multilatinas create competitive advantage?\n",
      "Driving forces behind business development in Latin America  \n",
      "Internationalization strategies \n",
      "Innovation and entrepreneurship in Latin America\n",
      "Ratings: ['4.8']\n",
      "Evaluations: ['5', '5', '5']\n"
     ]
    },
    {
     "name": "stderr",
     "output_type": "stream",
     "text": [
      "\r",
      "534it [19:17,  2.12s/it]"
     ]
    },
    {
     "name": "stdout",
     "output_type": "stream",
     "text": [
      "Course Title:\n",
      "Getting Started with Public Speaking\n",
      "A Formula For Successful Presentation\n",
      "Practicing Your Self\n",
      "Engaging with the World\n",
      "Ratings: ['4.8']\n",
      "Evaluations: ['1']\n"
     ]
    },
    {
     "name": "stderr",
     "output_type": "stream",
     "text": [
      "\r",
      "535it [19:19,  2.16s/it]"
     ]
    },
    {
     "name": "stdout",
     "output_type": "stream",
     "text": [
      "Course Title:\n",
      "Course Intro. Translating Strategy Into Goals and Metrics\n",
      "Aligning Strategy and Organizational Structure\n",
      "Communicating the Strategy within the Organization\n",
      "Managing Resistance and Other Implementation Risks\n",
      "Leveraging Organizational Culture\n",
      "Power and Informal Networks. Course Ending\n",
      "Ratings: ['4.6']\n",
      "Evaluations: ['49']\n"
     ]
    },
    {
     "name": "stderr",
     "output_type": "stream",
     "text": [
      "\r",
      "536it [19:21,  2.12s/it]"
     ]
    },
    {
     "name": "stdout",
     "output_type": "stream",
     "text": [
      "Course Title:\n",
      "Course Orientation\n",
      "Module 1: Pitching Ideas\n",
      "Module 2: Evaluating Ideas\n",
      "Module 3: The Allure of Team Creativity\n",
      "Module 4: Breaking the Barriers to Team Creativity\n",
      "Ratings: ['4.8']\n",
      "Evaluations: ['24', '24', '24']\n"
     ]
    },
    {
     "name": "stderr",
     "output_type": "stream",
     "text": [
      "\r",
      "537it [19:24,  2.32s/it]"
     ]
    },
    {
     "name": "stdout",
     "output_type": "stream",
     "text": [
      "Course Title:\n",
      "Teaching Popular Music in the Classroom\n",
      "Jazz Improvisation\n",
      "Arranging for Songwriters\n",
      "The Art of Music Production\n",
      "Ratings: ['4.7', '4.8', '4.5', '4.8']\n",
      "Evaluations: ['84', '778', '68', '1']\n"
     ]
    },
    {
     "name": "stderr",
     "output_type": "stream",
     "text": [
      "\r",
      "538it [19:26,  2.22s/it]"
     ]
    },
    {
     "name": "stdout",
     "output_type": "stream",
     "text": [
      "Course Title:\n",
      "Módulo 1: ¿Cuál es tu \"ventaja injusta\"?\n",
      "Módulo 2: Conoce a tu consumidor y prototipa tu idea\n",
      "Módulo 3: Validación de tu prototipo\n",
      "Módulo 4: ¿Cómo aprendo de mi prototipo?\n",
      "Módulo 5: La evolución de mi proyecto\n",
      "Módulo 6: Comparte tu proyecto con el mundo\n",
      "Ratings: ['4.8']\n",
      "Evaluations: ['87', '87']\n"
     ]
    },
    {
     "name": "stderr",
     "output_type": "stream",
     "text": [
      "\r",
      "539it [19:28,  2.40s/it]"
     ]
    },
    {
     "name": "stdout",
     "output_type": "stream",
     "text": [
      "Course Title:\n",
      "Understanding Yourself as a Leader\n",
      "Stepping In, Setting Boundaries and Productive Conflict\n",
      "Leading and Influencing Your Boss\n",
      "Managing Energy and Motivations\n",
      "Ratings: []\n",
      "Evaluations: []\n"
     ]
    },
    {
     "name": "stderr",
     "output_type": "stream",
     "text": [
      "\r",
      "540it [19:31,  2.38s/it]"
     ]
    },
    {
     "name": "stdout",
     "output_type": "stream",
     "text": [
      "Course Title:\n",
      "Introduction\n",
      "Heroes\n",
      "Silhouettes\n",
      "Coutures\n",
      "Lifecycle\n",
      "Modesty\n",
      "Expression\n",
      "Ratings: ['4.8']\n",
      "Evaluations: ['668', '668', '668']\n"
     ]
    },
    {
     "name": "stderr",
     "output_type": "stream",
     "text": [
      "\r",
      "541it [19:33,  2.44s/it]"
     ]
    },
    {
     "name": "stdout",
     "output_type": "stream",
     "text": [
      "Course Title:\n",
      "Speaking and Presenting: Poise\n",
      "Speaking and Presenting: Pitches and Persuasion\n",
      "Speaking and Presenting: Conversation Starters\n",
      "Speaking and Presenting: Tact\n",
      "Ratings: ['4.6', '4.6', '4.7', '4.7']\n",
      "Evaluations: ['110', '46', '23', '21']\n"
     ]
    },
    {
     "name": "stderr",
     "output_type": "stream",
     "text": [
      "\r",
      "542it [19:35,  2.24s/it]"
     ]
    },
    {
     "name": "stdout",
     "output_type": "stream",
     "text": [
      "Course Title:\n",
      "Week 1 |Optimism: Vocabulary\n",
      "Week 2 | Optimism: Speaking Studies and Speaking Exercises\n",
      "Week 3 | Dynamic: Vocabulary\n",
      "Week 4 | Dynamic: Studies & Exercises\n",
      "Ratings: ['4.3']\n",
      "Evaluations: ['14']\n"
     ]
    },
    {
     "name": "stderr",
     "output_type": "stream",
     "text": [
      "\r",
      "543it [19:37,  2.08s/it]"
     ]
    },
    {
     "name": "stdout",
     "output_type": "stream",
     "text": [
      "Course Title:\n",
      "Self-awareness at the organization level\n",
      "Building quality relationships in the organization\n",
      "Building resilience for the organization\n",
      "Creating sense for the organization\n",
      "Ratings: ['4.6']\n",
      "Evaluations: ['27']\n"
     ]
    },
    {
     "name": "stderr",
     "output_type": "stream",
     "text": [
      "\r",
      "544it [19:39,  2.01s/it]"
     ]
    },
    {
     "name": "stdout",
     "output_type": "stream",
     "text": [
      "Course Title:\n",
      "¿Cómo convertir mi idea en empresa?\n",
      "¿Cómo construir mi modelo de negocio?\n",
      "¿Cómo financiar mi empresa?\n",
      "Mi nueva empresa: los siguientes pasos \n",
      "Ratings: ['4.7', '4.8', '4.8', '4.9']\n",
      "Evaluations: ['451', '412', '258', '32']\n"
     ]
    },
    {
     "name": "stderr",
     "output_type": "stream",
     "text": [
      "\r",
      "545it [19:42,  2.53s/it]"
     ]
    },
    {
     "name": "stdout",
     "output_type": "stream",
     "text": [
      "Course Title:\n",
      " Game Developers and their Esports\n",
      "Esports Organizations\n",
      "Ratings: ['4.4']\n",
      "Evaluations: ['49']\n"
     ]
    },
    {
     "name": "stderr",
     "output_type": "stream",
     "text": [
      "\r",
      "546it [19:45,  2.59s/it]"
     ]
    },
    {
     "name": "stdout",
     "output_type": "stream",
     "text": [
      "Course Title:\n",
      "Introduction\n",
      "The responsibility of engineers\n",
      "Codes of conduct\n",
      "Normative ethics\n",
      "The ethical cycle\n",
      "Ethical questions in the design of technology\n",
      "Designing morality\n",
      "Ethical aspects of technological risks\n",
      "Distribution of responsibility\n",
      "Exam\n",
      "Ratings: ['4.6']\n",
      "Evaluations: ['161']\n"
     ]
    },
    {
     "name": "stderr",
     "output_type": "stream",
     "text": [
      "\r",
      "547it [19:49,  2.96s/it]"
     ]
    },
    {
     "name": "stdout",
     "output_type": "stream",
     "text": [
      "Course Title:\n",
      "Course Introduction & Module 1 - Being Creative\n",
      "Module 2 - Raw Materials, Tools, and End Products\n",
      "Module 3 - Pitching Ideas\n",
      "Module 4 - Evaluating Ideas\n",
      "Module 5 - The Allure of Team Creativity\n",
      "Ratings: ['4.7']\n",
      "Evaluations: ['13']\n"
     ]
    },
    {
     "name": "stderr",
     "output_type": "stream",
     "text": [
      "\r",
      "548it [19:51,  2.68s/it]"
     ]
    },
    {
     "name": "stdout",
     "output_type": "stream",
     "text": [
      "Course Title:\n",
      "Feedback Loops: Feedback Fundamentals \n",
      "Feedback Loops: Vertical Feedback \n",
      "Feedback Loops: Horizontal Feedback \n",
      "Feedback Loops: Team Feedback\n",
      "Ratings: []\n",
      "Evaluations: []\n"
     ]
    },
    {
     "name": "stderr",
     "output_type": "stream",
     "text": [
      "\r",
      "549it [19:53,  2.39s/it]"
     ]
    },
    {
     "name": "stdout",
     "output_type": "stream",
     "text": [
      "Course Title:\n",
      "Designing Your Team for Excellence\n",
      "Structuring Your Team for Excellence\n",
      "Managing Team Dynamics\n",
      "Creating Sustainable Team Performance and Learning\n",
      "Ratings: ['4.8']\n",
      "Evaluations: ['237']\n"
     ]
    },
    {
     "name": "stderr",
     "output_type": "stream",
     "text": [
      "\r",
      "550it [19:57,  2.85s/it]"
     ]
    },
    {
     "name": "stdout",
     "output_type": "stream",
     "text": [
      "Course Title:\n",
      "What is Learning?\n",
      "Chunking\n",
      "Procrastination and Memory\n",
      "Renaissance Learning  and Unlocking Your Potential\n",
      "Ratings: ['4.9']\n",
      "Evaluations: ['18', '18', '18']\n"
     ]
    },
    {
     "name": "stderr",
     "output_type": "stream",
     "text": [
      "\r",
      "551it [19:58,  2.57s/it]"
     ]
    },
    {
     "name": "stdout",
     "output_type": "stream",
     "text": [
      "Course Title:\n",
      "Introduction to Giving Helpful Feedback and Positive Feedback\n",
      "Negative Feedback:  Use With Caution\n",
      "The Seven Essential Feedback Skills - Part I\n",
      "The Seven Essential Feedback Skills - Part II\n",
      "Giving Helpful Feedback:  Turn Your Knowledge Into Long-Term Change\n",
      "Helpful Class Resources\n",
      "Ratings: ['4.8']\n",
      "Evaluations: ['472']\n"
     ]
    },
    {
     "name": "stderr",
     "output_type": "stream",
     "text": [
      "\r",
      "552it [20:00,  2.35s/it]"
     ]
    },
    {
     "name": "stdout",
     "output_type": "stream",
     "text": [
      "Course Title:\n",
      "High Performance Collaboration: Leadership, Teamwork, and Negotiation\n",
      "Leadership Communication for Maximum Impact: Storytelling\n",
      "Leadership Through Social Influence\n",
      "Leadership Through Marketing\n",
      "Leadership Through Design Innovation\n",
      "Organizational Leadership Capstone\n",
      "Ratings: ['4.8', '4.5', '4.7', '4.6', '4.3', '4.7']\n",
      "Evaluations: ['2', '1', '1', '439', '303', '87']\n"
     ]
    },
    {
     "name": "stderr",
     "output_type": "stream",
     "text": [
      "\r",
      "553it [20:02,  2.27s/it]"
     ]
    },
    {
     "name": "stdout",
     "output_type": "stream",
     "text": [
      "Course Title:\n",
      "Rethinking Communication \n",
      "Group Development & Decision Making \n",
      "Conflict, Difference, & Diversity\n",
      "Group Communication & Technology \n",
      "Ratings: ['4.8']\n",
      "Evaluations: ['1']\n"
     ]
    },
    {
     "name": "stderr",
     "output_type": "stream",
     "text": [
      "\r",
      "554it [20:04,  2.09s/it]"
     ]
    },
    {
     "name": "stdout",
     "output_type": "stream",
     "text": [
      "Course Title:\n",
      "Introduction to the Organizational Leadership Specialization\n",
      "Leadership\n",
      "Teamwork \n",
      "Negotiation\n",
      "Ratings: ['4.8']\n",
      "Evaluations: ['632']\n"
     ]
    },
    {
     "name": "stderr",
     "output_type": "stream",
     "text": [
      "\r",
      "555it [20:06,  2.07s/it]"
     ]
    },
    {
     "name": "stdout",
     "output_type": "stream",
     "text": [
      "Course Title:\n",
      "COURSE ORIENTATION\n",
      "MODULE 1: TEAM CULTURE: DEFINED\n",
      "MODULE 2: CULTURES OF SAFETY\n",
      "MODULE 3: CULTURES OF ENGAGEMENT\n",
      "MODULE 4: CULTURES OF GROWTH\n",
      "Ratings: ['4.8']\n",
      "Evaluations: ['313', '313', '313']\n"
     ]
    },
    {
     "name": "stderr",
     "output_type": "stream",
     "text": [
      "\r",
      "556it [20:11,  2.80s/it]"
     ]
    },
    {
     "name": "stdout",
     "output_type": "stream",
     "text": [
      "Course Title:\n",
      "Introducción al curso y módulo 1: Ser creativo\n",
      "Módulo 2: Materias primas, herramientas y productos finales\n",
      "Módulo 3: Presentación de ideas\n",
      "Módulo 4: Evaluación de ideas\n",
      "Módulo 5: El encanto de la creatividad en el equipo\n",
      "Ratings: ['4.8']\n",
      "Evaluations: ['10']\n"
     ]
    },
    {
     "name": "stderr",
     "output_type": "stream",
     "text": [
      "\r",
      "557it [20:12,  2.46s/it]"
     ]
    },
    {
     "name": "stdout",
     "output_type": "stream",
     "text": [
      "Course Title:\n",
      "Welcome to our Post-Pandemic Future\n",
      "Make a Plan for Resilience\n",
      "Learn the Habits of Professional Futurists\n",
      "Final Project: Choose your Action for Post-Pandemic Transformation\n",
      "Ratings: ['4.7']\n",
      "Evaluations: ['25']\n"
     ]
    },
    {
     "name": "stderr",
     "output_type": "stream",
     "text": [
      "\r",
      "558it [20:15,  2.44s/it]"
     ]
    },
    {
     "name": "stdout",
     "output_type": "stream",
     "text": [
      "Course Title:\n",
      "The Second Era of the Internet\n",
      "Blockchain Design Principles\n",
      "Digital Assets\n",
      "Smart Contracts\n",
      "Public, Private, and Consortium Blockchains\n",
      "Blockchain Implementation Challenges\n",
      "Ratings: ['5.0']\n",
      "Evaluations: ['5', '5']\n"
     ]
    },
    {
     "name": "stderr",
     "output_type": "stream",
     "text": [
      "\r",
      "559it [20:17,  2.34s/it]"
     ]
    },
    {
     "name": "stdout",
     "output_type": "stream",
     "text": [
      "Course Title:\n",
      "Digital Assets\n",
      "Smart Contracts\n",
      "Identity\n",
      "Rethinking Finance\n",
      "Ratings: ['4.8']\n",
      "Evaluations: ['133', '133', '133']\n"
     ]
    },
    {
     "name": "stderr",
     "output_type": "stream",
     "text": [
      "\r",
      "560it [20:19,  2.30s/it]"
     ]
    },
    {
     "name": "stdout",
     "output_type": "stream",
     "text": [
      "Course Title:\n",
      "Welcome to Music and Social Action\n",
      "What is Art and How Do We Experience It?\n",
      "Democracy and the Arts, Part 1\n",
      "Democracy and the Arts, Part II\n",
      "Arts and Urban Renewal\n",
      "20th Century Artists and Social Commitment\n",
      "21st Century Artists and Social Commitment\n",
      "Creating Social Action\n",
      "Final Reflection \n",
      "Ratings: ['4.9']\n",
      "Evaluations: ['29']\n"
     ]
    },
    {
     "name": "stderr",
     "output_type": "stream",
     "text": [
      "\r",
      "561it [20:21,  2.12s/it]"
     ]
    },
    {
     "name": "stdout",
     "output_type": "stream",
     "text": [
      "Course Title:\n",
      "Self-awareness at the organization level\n",
      "Building quality relationships in the organization\n",
      "Building resilience for the organization\n",
      "Creating sense for the organization\n",
      "Ratings: ['4.6']\n",
      "Evaluations: ['27']\n"
     ]
    },
    {
     "name": "stderr",
     "output_type": "stream",
     "text": [
      "\r",
      "562it [20:23,  2.07s/it]"
     ]
    },
    {
     "name": "stdout",
     "output_type": "stream",
     "text": [
      "Course Title:\n",
      "Designing Your Team for Excellence\n",
      "Structuring Your Team for Excellence\n",
      "Managing Team Dynamics\n",
      "Creating Sustainable Team Performance and Learning\n",
      "Ratings: ['4.8']\n",
      "Evaluations: ['237']\n"
     ]
    },
    {
     "name": "stderr",
     "output_type": "stream",
     "text": [
      "\r",
      "563it [20:25,  2.17s/it]"
     ]
    },
    {
     "name": "stdout",
     "output_type": "stream",
     "text": [
      "Course Title:\n",
      "Course Preview and Intro\n",
      "Taking on a New Leadership Role\n",
      "Getting Oriented and Assessing Your Team\n",
      "Communication in an Age of Super Transparency\n",
      "Leading Collaboration\n",
      "Motivating and Inspiring\n",
      "Effective Governance\n",
      "Leading Change \n",
      "Managing Talent\n",
      " Leading in Crisis\n",
      "  Leading Innovation\n",
      " Leading Execution\n",
      " Public Life, Private Life\n",
      " Vision and the Role of Culture\n",
      "  Modern Theories of Leadership\n",
      "  A Study in Leadership Failure: The Financial Crisis (Part 1)\n",
      "A Study in Leadership Failure: The Financial Crisis (Part 2)\n",
      " Real Leadership Case Study: Lord John Browne, British Petroleum \n",
      " Synthesis - Leadership in 21st Century Organizations\n",
      "Ratings: ['4.8']\n",
      "Evaluations: ['276', '276']\n"
     ]
    },
    {
     "name": "stderr",
     "output_type": "stream",
     "text": [
      "\r",
      "564it [20:27,  2.13s/it]"
     ]
    },
    {
     "name": "stdout",
     "output_type": "stream",
     "text": [
      "Course Title:\n",
      "Introduction to What Is Contemporary Art?\n",
      "Media from Television to the Internet\n",
      "Territories & Transit\n",
      "Materials & Making\n",
      "Agency\n",
      "Power\n",
      "Ratings: ['4.6']\n",
      "Evaluations: ['472', '472', '472']\n"
     ]
    },
    {
     "name": "stderr",
     "output_type": "stream",
     "text": [
      "\r",
      "565it [20:29,  2.00s/it]"
     ]
    },
    {
     "name": "stdout",
     "output_type": "stream",
     "text": [
      "Course Title:\n",
      "COURSE ORIENTATION\n",
      "MODULE 1: LEADERSHIP DEFINED\n",
      "MODULE 2: STRATEGIC SELF-LEADERSHIP\n",
      "MODULE 3: LEADING OTHERS\n",
      "MODULE 4: GROWING AS A LEADER\n",
      "Ratings: ['4.8']\n",
      "Evaluations: ['1', '1', '1']\n"
     ]
    },
    {
     "name": "stderr",
     "output_type": "stream",
     "text": [
      "\r",
      "566it [20:31,  2.13s/it]"
     ]
    },
    {
     "name": "stdout",
     "output_type": "stream",
     "text": [
      "Course Title:\n",
      "Building Your Leadership Skills\n",
      "Giving Sense to Your Leadership Experience\n",
      "Leading Organizations\n",
      "CAPSTONE: Your Leadership Challenge\n",
      "Ratings: ['4.6', '4.6', '4.7', '4.7']\n",
      "Evaluations: ['2', '481', '284', '69']\n"
     ]
    },
    {
     "name": "stderr",
     "output_type": "stream",
     "text": [
      "\r",
      "567it [20:33,  1.94s/it]"
     ]
    },
    {
     "name": "stdout",
     "output_type": "stream",
     "text": [
      "Course Title:\n",
      "Leading Teams: Developing as a Leader\n",
      "Leading Teams: Building Effective Team Cultures\n",
      "Designing the Organization\n",
      "Managing the Organization\n",
      "Business Strategy\n",
      "Corporate Strategy\n",
      "Strategic Leadership and Management Capstone\n",
      "Ratings: ['4.8', '4.8', '4.6', '4.7', '4.8', '4.7', '4.8']\n",
      "Evaluations: ['5', '2', '1', '1', '1', '1', '244']\n"
     ]
    },
    {
     "name": "stderr",
     "output_type": "stream",
     "text": [
      "\r",
      "568it [20:36,  2.24s/it]"
     ]
    },
    {
     "name": "stdout",
     "output_type": "stream",
     "text": [
      "Course Title:\n",
      "What is Creativity?\n",
      "The Creative Person\n",
      "The Creative Press\n",
      "The Creative Process\n",
      "The Creative Product\n",
      "Putting Ideas into Context\n",
      "Ratings: ['4.4']\n",
      "Evaluations: ['33', '33']\n"
     ]
    },
    {
     "name": "stderr",
     "output_type": "stream",
     "text": [
      "\r",
      "569it [20:37,  2.07s/it]"
     ]
    },
    {
     "name": "stdout",
     "output_type": "stream",
     "text": [
      "Course Title:\n",
      "The Leadership Challenge\n",
      "The Practices of Individual Leadership\n",
      "Leading Teams\n",
      "Leading the Organisation\n",
      "Leadership and Ambiguity\n",
      "Critical, Pragmatic, and Popular Perspectives on Leadership\n",
      "Ratings: ['4.7']\n",
      "Evaluations: ['241']\n"
     ]
    },
    {
     "name": "stderr",
     "output_type": "stream",
     "text": [
      "\r",
      "570it [20:39,  2.02s/it]"
     ]
    },
    {
     "name": "stdout",
     "output_type": "stream",
     "text": [
      "Course Title:\n",
      "Introduction to OKRs\n",
      "Using OKRs within an Organization\n",
      "CFRs and the Work of an OKR Cycle\n",
      "Improving Your \"Goal Setting Muscle\"\n",
      "Ratings: ['4.9']\n",
      "Evaluations: ['109', '109', '109']\n"
     ]
    },
    {
     "name": "stderr",
     "output_type": "stream",
     "text": [
      "\r",
      "571it [20:41,  1.96s/it]"
     ]
    },
    {
     "name": "stdout",
     "output_type": "stream",
     "text": [
      "Course Title:\n",
      "Introduction to the Nonprofit Sector, Nonprofit Organizations, Nonprofit Leadership and Governance\n",
      "The Roles and Responsibilities of Nonprofit Boards of Directors within the Governance Process\n",
      "The Factors that Influence the Effectiveness of Boards and the Governance Process\n",
      "Capstone - Managing Board Change for Higher Levels of Leadership and Governance Effectiveness \n",
      "Instructors\n",
      "Ratings: ['4.4', '4.4', '4.6']\n",
      "Evaluations: ['183', '59', '47']\n"
     ]
    },
    {
     "name": "stderr",
     "output_type": "stream",
     "text": [
      "\r",
      "572it [20:43,  2.00s/it]"
     ]
    },
    {
     "name": "stdout",
     "output_type": "stream",
     "text": [
      "Course Title:\n",
      "Leading Oneself with Self-Knowledge\n",
      "Leading Oneself with Purpose and Meaning\n",
      "Leading Oneself with Personal Excellence\n",
      "Ratings: ['4.6', '4.9', '4.8']\n",
      "Evaluations: ['24', '13', '17']\n"
     ]
    },
    {
     "name": "stderr",
     "output_type": "stream",
     "text": [
      "\r",
      "573it [20:45,  1.82s/it]"
     ]
    },
    {
     "name": "stdout",
     "output_type": "stream",
     "text": [
      "Course Title:\n",
      "Effective Communication for Today’s Leader\n",
      "Negotiation Skills and Effective Communication           \n",
      "Negotiation Strategies and Styles \n",
      "Ratings: ['4.1', '4.5']\n",
      "Evaluations: ['28', '17']\n"
     ]
    },
    {
     "name": "stderr",
     "output_type": "stream",
     "text": [
      "\r",
      "574it [20:46,  1.84s/it]"
     ]
    },
    {
     "name": "stdout",
     "output_type": "stream",
     "text": [
      "Course Title:\n",
      "Introduction\n",
      "Step 1: Engaging Young People\n",
      "Step 2: Making Observations & Mapping Your Community\n",
      "Step 3: Taking Action\n",
      "Step 4: Measuring Impact & Celebrating Success\n",
      "Conclusion\n",
      "Ratings: ['4.7']\n",
      "Evaluations: ['36', '36', '36']\n"
     ]
    },
    {
     "name": "stderr",
     "output_type": "stream",
     "text": [
      "\r",
      "575it [20:49,  2.04s/it]"
     ]
    },
    {
     "name": "stdout",
     "output_type": "stream",
     "text": [
      "Course Title:\n",
      "Welcome to the Capstone\n",
      "Shaping a Culture that Supports Growth and Innovation\n",
      "Discovering Opportunities\n",
      "Defining and Taking Advantage of Opportunities\n",
      "Communicating with Your Audience\n",
      "Crisis Response\n",
      "Leading People and Fostering Collaboration\n",
      "Capstone Wrap-Up\n",
      "Ratings: ['4.7']\n",
      "Evaluations: ['14', '14', '14']\n"
     ]
    },
    {
     "name": "stderr",
     "output_type": "stream",
     "text": [
      "\r",
      "576it [20:51,  2.09s/it]"
     ]
    },
    {
     "name": "stdout",
     "output_type": "stream",
     "text": [
      "Course Title:\n",
      "Leadership and Your Personal Style and Strengths\n",
      "Reaching Your Full Leadership Potential \n",
      "Building a High-Performance Team\n",
      "Executive Presence and Why it Matters\n",
      "Leading Through Leaders\n",
      "Ratings: []\n",
      "Evaluations: []\n"
     ]
    },
    {
     "name": "stderr",
     "output_type": "stream",
     "text": [
      "\r",
      "577it [20:53,  2.02s/it]"
     ]
    },
    {
     "name": "stdout",
     "output_type": "stream",
     "text": [
      "Course Title:\n",
      "Leadership for the Next Era\n",
      "The Blockchain Ecosystem\n",
      "The C-Suite\n",
      "Consortia, Coalitions, and Coopetition\n",
      "Toward Web3 Standards and Interoperability\n",
      "Ratings: []\n",
      "Evaluations: []\n"
     ]
    },
    {
     "name": "stderr",
     "output_type": "stream",
     "text": [
      "\r",
      "578it [20:55,  2.06s/it]"
     ]
    },
    {
     "name": "stdout",
     "output_type": "stream",
     "text": [
      "Course Title:\n",
      "Topic 1. Why do you want to be a leader?\n",
      "Topic 2. What kind of leader do you want to be?\n",
      "Topic 3. How can you persuade and influence people?\n",
      "Topic 4. How can you motivate and inspire people?\n",
      "Ratings: ['4.3']\n",
      "Evaluations: ['20']\n"
     ]
    },
    {
     "name": "stderr",
     "output_type": "stream",
     "text": [
      "\r",
      "579it [20:59,  2.51s/it]"
     ]
    },
    {
     "name": "stdout",
     "output_type": "stream",
     "text": [
      "Course Title:\n",
      "Topic 1. Leadership in a new era\n",
      "Topic 2. Self-awareness and Awareness of One’s Environment\n",
      "Topic 3. Positivity and Resilience\n",
      "Topic 4. Meaning and Commitment\n",
      "Ratings: []\n",
      "Evaluations: []\n"
     ]
    },
    {
     "name": "stderr",
     "output_type": "stream",
     "text": [
      "\r",
      "580it [21:00,  2.26s/it]"
     ]
    },
    {
     "name": "stdout",
     "output_type": "stream",
     "text": [
      "Course Title:\n",
      "The Nonprofit Sector, Nonprofit Organizations, Leadership and Governance\n",
      "Nonprofit Management and Leadership, Organizational Governance and Boards of Directors\n",
      "The Board's Role and Responsibilities\n",
      "Concept Testing and Application\n",
      "Assessment of Learning: BEAR Peer Review and RAT Discussion Forums\n",
      "Ratings: ['4.0']\n",
      "Evaluations: ['20', '20']\n"
     ]
    },
    {
     "name": "stderr",
     "output_type": "stream",
     "text": [
      "\r",
      "581it [21:02,  2.18s/it]"
     ]
    },
    {
     "name": "stdout",
     "output_type": "stream",
     "text": [
      "Course Title:\n",
      "Skills for Nursing Informatics Leaders\n",
      "Nursing Informatics Leaders\n",
      "Nursing Informatics Leadership Theory and Practice\n",
      "Nursing Informatics Training and Education\n",
      "Leadership in Interprofessional Informatics \n",
      "Ratings: ['4.8', '4.5', '4.7', '4.8', '4.4']\n",
      "Evaluations: ['169', '42', '41', '79', '18']\n"
     ]
    },
    {
     "name": "stderr",
     "output_type": "stream",
     "text": [
      "\r",
      "582it [21:06,  2.51s/it]"
     ]
    },
    {
     "name": "stdout",
     "output_type": "stream",
     "text": [
      "Course Title:\n",
      "Module 1: Capstone Course Overview and Case Introduction\n",
      "Module 2: Building a Leadership Team\n",
      "Module 3: Identifying Opportunities\n",
      "Module 4: Optimizing Support\n",
      "Module 5: Planning for Growth\n",
      "Module 6: Leadership Development\n",
      "Ratings: ['4.5']\n",
      "Evaluations: ['43']\n"
     ]
    },
    {
     "name": "stderr",
     "output_type": "stream",
     "text": [
      "\r",
      "583it [21:10,  2.92s/it]"
     ]
    },
    {
     "name": "stdout",
     "output_type": "stream",
     "text": [
      "Course Title:\n",
      "Getting Started and What It Means To Lead\n",
      "Challenges That Arise From Cultural Expectation Of Leadership\n",
      "Becoming a Leader For Everyone\n",
      "Leading Towards the Future for Multinational, Cross-Cultural Teams\n",
      "Ratings: []\n",
      "Evaluations: []\n"
     ]
    },
    {
     "name": "stderr",
     "output_type": "stream",
     "text": [
      "\r",
      "584it [21:12,  2.78s/it]"
     ]
    },
    {
     "name": "stdout",
     "output_type": "stream",
     "text": [
      "Course Title:\n",
      "Introduction to Change\n",
      "Agile Leader\n",
      "Agile Team\n",
      "Agile Organization\n",
      "Ratings: ['4.8']\n",
      "Evaluations: ['394']\n"
     ]
    },
    {
     "name": "stderr",
     "output_type": "stream",
     "text": [
      "\r",
      "585it [21:17,  3.43s/it]"
     ]
    },
    {
     "name": "stdout",
     "output_type": "stream",
     "text": [
      "Course Title:\n",
      "Personal Leadership  - The Art of Change\n",
      "How to Be a Creative Leader\n",
      "Life Hacks for Leaders\n",
      "Personal Leadership - Learning, Wisdom, and Impact\n",
      "Ratings: ['5.0']\n",
      "Evaluations: ['13']\n"
     ]
    },
    {
     "name": "stderr",
     "output_type": "stream",
     "text": [
      "\r",
      "586it [21:18,  2.72s/it]"
     ]
    },
    {
     "name": "stdout",
     "output_type": "stream",
     "text": [
      "Course Title:\n",
      "Learn step-by-step\n",
      "Ratings: []\n",
      "Evaluations: []\n"
     ]
    },
    {
     "name": "stderr",
     "output_type": "stream",
     "text": [
      "\r",
      "587it [21:20,  2.55s/it]"
     ]
    },
    {
     "name": "stdout",
     "output_type": "stream",
     "text": [
      "Course Title:\n",
      "Data-driven results through business intelligence\n",
      "Business intelligence tools and techniques\n",
      "Context is crucial for purposeful insights\n",
      "Course 1 end-of-course project\n",
      "Ratings: ['4.8']\n",
      "Evaluations: ['131']\n"
     ]
    },
    {
     "name": "stderr",
     "output_type": "stream",
     "text": [
      "\r",
      "588it [21:22,  2.40s/it]"
     ]
    },
    {
     "name": "stdout",
     "output_type": "stream",
     "text": [
      "Course Title:\n",
      "Embarking on a career in project management\n",
      "Becoming an effective project manager\n",
      "The project management life cycle and methodologies\n",
      "Organizational structure and culture\n",
      "Ratings: ['4.9']\n",
      "Evaluations: ['28']\n"
     ]
    },
    {
     "name": "stderr",
     "output_type": "stream",
     "text": [
      "\r",
      "589it [21:24,  2.17s/it]"
     ]
    },
    {
     "name": "stdout",
     "output_type": "stream",
     "text": [
      "Course Title:\n",
      "Course Introduction & Module 1 - Managing the Organization\n",
      "Project Initiation and Planning\n",
      "Leadership Fundamentals\n",
      "Ratings: ['4.9']\n",
      "Evaluations: ['11']\n"
     ]
    },
    {
     "name": "stderr",
     "output_type": "stream",
     "text": [
      "\r",
      "590it [21:27,  2.51s/it]"
     ]
    },
    {
     "name": "stdout",
     "output_type": "stream",
     "text": [
      "Course Title:\n",
      "عناصر إدارة المشروع التأسيسية\n",
      "هيكلية تقسيم العمل (WBS)\n",
      "التخطيط والجدولة\n",
      "قيادة المشروع والعمل الجماعي والتعامل مع الأشخاص صعبي المراس\n",
      "Ratings: ['4.3']\n",
      "Evaluations: ['9', '9', '9']\n"
     ]
    },
    {
     "name": "stderr",
     "output_type": "stream",
     "text": [
      "\r",
      "591it [21:29,  2.22s/it]"
     ]
    },
    {
     "name": "stdout",
     "output_type": "stream",
     "text": [
      "Course Title:\n",
      "Leader Emergence and Effectiveness\n",
      "KSAOs: Knowledge, Skills, Abilities, Other\n",
      "Common Situations in Which Leaders Find Themselves \n",
      "Putting it All Together \n",
      "Ratings: []\n",
      "Evaluations: []\n"
     ]
    },
    {
     "name": "stderr",
     "output_type": "stream",
     "text": [
      "\r",
      "592it [21:31,  2.37s/it]"
     ]
    },
    {
     "name": "stdout",
     "output_type": "stream",
     "text": [
      "Course Title:\n",
      "Cultural Intelligence (CQ) Framework\n",
      "Global Mindset Framework\n",
      "Implicit Bias\n",
      "CQ Development Plan\n",
      "Ratings: ['4.2']\n",
      "Evaluations: ['22']\n"
     ]
    },
    {
     "name": "stderr",
     "output_type": "stream",
     "text": [
      "\r",
      "593it [21:32,  1.99s/it]"
     ]
    },
    {
     "name": "stdout",
     "output_type": "stream",
     "text": [
      "Course Title:\n",
      "Learn step-by-step\n",
      "Ratings: ['4.4']\n",
      "Evaluations: ['23']\n"
     ]
    },
    {
     "name": "stderr",
     "output_type": "stream",
     "text": [
      "\r",
      "594it [21:34,  1.73s/it]"
     ]
    },
    {
     "name": "stdout",
     "output_type": "stream",
     "text": [
      "Course Title:\n",
      "Learn step-by-step\n",
      "Ratings: []\n",
      "Evaluations: []\n"
     ]
    },
    {
     "name": "stderr",
     "output_type": "stream",
     "text": [
      "\r",
      "595it [21:35,  1.73s/it]"
     ]
    },
    {
     "name": "stdout",
     "output_type": "stream",
     "text": [
      "Course Title:\n",
      "MODULE 1 - Business Applications of Machine Learning\n",
      "MODULE 2 - Scoping, Greenlighting, and Managing Machine Learning Initiatives\n",
      "MODULE 3 - Data Prep: Preparing the Training Data\n",
      "MODULE 4 - The High Cost of False Promises, False Positives, and Misapplied Models\n",
      "Ratings: ['4.8']\n",
      "Evaluations: ['15']\n"
     ]
    },
    {
     "name": "stderr",
     "output_type": "stream",
     "text": [
      "\r",
      "596it [21:37,  1.69s/it]"
     ]
    },
    {
     "name": "stdout",
     "output_type": "stream",
     "text": [
      "Course Title:\n",
      "Leadership d'excellence par le sport de haut niveau\n",
      "Ratings: ['4.6']\n",
      "Evaluations: ['36', '36', '36']\n"
     ]
    },
    {
     "name": "stderr",
     "output_type": "stream",
     "text": [
      "\r",
      "597it [21:39,  1.68s/it]"
     ]
    },
    {
     "name": "stdout",
     "output_type": "stream",
     "text": [
      "Course Title:\n",
      "The Superboss Leader\n",
      "Superboss Secrets to Motivation\n",
      "The Master-Apprentice Relationship\n",
      "The Superboss Playbook\n",
      "Ratings: ['4.8']\n",
      "Evaluations: ['22']\n"
     ]
    },
    {
     "name": "stderr",
     "output_type": "stream",
     "text": [
      "\r",
      "598it [21:40,  1.65s/it]"
     ]
    },
    {
     "name": "stdout",
     "output_type": "stream",
     "text": [
      "Course Title:\n",
      "Module 1:  Engaging Diverse Team Members\n",
      "Module 2:  Conflict Management\n",
      "Module 3:  Collaboration and Influencing\n",
      "Ratings: []\n",
      "Evaluations: []\n"
     ]
    },
    {
     "name": "stderr",
     "output_type": "stream",
     "text": [
      "\r",
      "599it [21:42,  1.68s/it]"
     ]
    },
    {
     "name": "stdout",
     "output_type": "stream",
     "text": [
      "Course Title:\n",
      "Strategic Thinking and the Customer Experience (CX)\n",
      "Digital Marketing Strategy Execution and Management\n",
      "Digital Leadership, Strategy, and Data Privacy\n",
      "Ratings: ['4.1']\n",
      "Evaluations: ['16', '16', '16']\n"
     ]
    },
    {
     "name": "stderr",
     "output_type": "stream",
     "text": [
      "\r",
      "600it [21:46,  2.39s/it]"
     ]
    },
    {
     "name": "stdout",
     "output_type": "stream",
     "text": [
      "Course Title:\n",
      "Topic 1. Fundamentals of the Family Business\n",
      "Topic 2. Identification of roles in the family business\n",
      "Topic 3. Forward Vision in Entrepreneurial Families\n",
      "Topic 4. Next Generation Development (NxtGen)\n",
      "Topic 5. Leadership Model (Orchestration) for Family-Company Dynamics\n",
      "Ratings: []\n",
      "Evaluations: []\n"
     ]
    },
    {
     "name": "stderr",
     "output_type": "stream",
     "text": [
      "\r",
      "601it [21:48,  2.43s/it]"
     ]
    },
    {
     "name": "stdout",
     "output_type": "stream",
     "text": [
      "Course Title:\n",
      "Inspiring and Motivating Individuals\n",
      "Managing Talent\n",
      "Influencing People\n",
      "Leading Teams\n",
      "Leading People and Teams Capstone\n",
      "Ratings: ['4.8', '4.6', '4.8', '4.8', '4.8']\n",
      "Evaluations: ['5', '2', '3', '2', '434']\n"
     ]
    },
    {
     "name": "stderr",
     "output_type": "stream",
     "text": [
      "\r",
      "602it [21:50,  2.31s/it]"
     ]
    },
    {
     "name": "stdout",
     "output_type": "stream",
     "text": [
      "Course Title:\n",
      "CAPSTONE: Introduction to the Capstone - Holistic Perception\n",
      "CAPSTONE: Disjunctive Analysis\n",
      "CAPSTONE: Relational Assimilation\n",
      "CAPSTONE: Decentering\n",
      "CAPSTONE: Building Sense - part 1 \n",
      "CAPSTONE: Building Sense - part 2 (video pitch) \n",
      "Ratings: ['5.0']\n",
      "Evaluations: ['15']\n"
     ]
    },
    {
     "name": "stderr",
     "output_type": "stream",
     "text": [
      "\r",
      "603it [21:53,  2.29s/it]"
     ]
    },
    {
     "name": "stdout",
     "output_type": "stream",
     "text": [
      "Course Title:\n",
      "Understanding Yourself as a Leader\n",
      "Stepping In, Setting Boundaries and Productive Conflict\n",
      "Leading and Influencing Your Boss\n",
      "Managing Energy and Motivations\n",
      "Ratings: []\n",
      "Evaluations: []\n"
     ]
    },
    {
     "name": "stderr",
     "output_type": "stream",
     "text": [
      "\r",
      "604it [21:55,  2.15s/it]"
     ]
    },
    {
     "name": "stdout",
     "output_type": "stream",
     "text": [
      "Course Title:\n",
      "Discovering Yourself as a Diverse Leader\n",
      "Discovering Yourself as an Inclusive Leader\n",
      "Discovering Yourself as an Equity Leader\n",
      "Becoming a Justice-Seeking Leader\n",
      "Ratings: []\n",
      "Evaluations: []\n"
     ]
    },
    {
     "name": "stderr",
     "output_type": "stream",
     "text": [
      "\r",
      "605it [21:57,  2.21s/it]"
     ]
    },
    {
     "name": "stdout",
     "output_type": "stream",
     "text": [
      "Course Title:\n",
      "Leading Strategy with a Customer Perspective with Gregory Carpenter\n",
      "Creating a truly customer-focused culture to unleash growth with Gregory Carpenter and Sanjay Khosla\n",
      "Leadership’s Role in Analytics with Florian Zettelmeyer\n",
      "A Working Knowledge of Data Science with Florian Zettelmeyer\n",
      "Ratings: ['4.4']\n",
      "Evaluations: ['32', '32', '32']\n"
     ]
    },
    {
     "name": "stderr",
     "output_type": "stream",
     "text": [
      "\r",
      "606it [21:58,  1.99s/it]"
     ]
    },
    {
     "name": "stdout",
     "output_type": "stream",
     "text": [
      "Course Title:\n",
      "Using Design Principles to Innovate and Find Opportunities\n",
      "Exploring Ideas\n",
      "Prototyping to Learn\n",
      "Leading Design Innovation\n",
      "Ratings: ['4.5']\n",
      "Evaluations: ['32', '32', '32']\n"
     ]
    },
    {
     "name": "stderr",
     "output_type": "stream",
     "text": [
      "\r",
      "607it [22:00,  1.94s/it]"
     ]
    },
    {
     "name": "stdout",
     "output_type": "stream",
     "text": [
      "Course Title:\n",
      "A Technical Leader's Qualities and Effectiveness\n",
      "Challenges of Leading Individuals in the Tech Industry\n",
      "Challenges of Leading Technical Teams\n",
      "Ratings: []\n",
      "Evaluations: []\n"
     ]
    },
    {
     "name": "stderr",
     "output_type": "stream",
     "text": [
      "\r",
      "608it [22:02,  1.83s/it]"
     ]
    },
    {
     "name": "stdout",
     "output_type": "stream",
     "text": [
      "Course Title:\n",
      "Getting Started with Leadership\n",
      "Stepping Up: Preparing Yourself for Leadership\n",
      "Stepping Up: Leading Others\n",
      "Influencing the Organisation\n",
      "Ratings: ['4.5', '3.9']\n",
      "Evaluations: ['19', '13']\n"
     ]
    },
    {
     "name": "stderr",
     "output_type": "stream",
     "text": [
      "\r",
      "609it [22:03,  1.77s/it]"
     ]
    },
    {
     "name": "stdout",
     "output_type": "stream",
     "text": [
      "Course Title:\n",
      "Leadership Lessons From Great Brands\n",
      "The Art of Leadership Storytelling Made Simple\n",
      "Storytelling in Crisis: The Ultimate Marketing Event\n",
      "Leadership Storytelling and Innovation \n",
      "Ratings: ['4.6']\n",
      "Evaluations: ['141', '141', '141']\n"
     ]
    },
    {
     "name": "stderr",
     "output_type": "stream",
     "text": [
      "\r",
      "610it [22:06,  1.90s/it]"
     ]
    },
    {
     "name": "stdout",
     "output_type": "stream",
     "text": [
      "Course Title:\n",
      "Types of Conflict\n",
      "Conflict Resolution Skills\n",
      "Intercultural Communication and Conflict Resolution\n",
      "Conflict Management Project\n",
      "Ratings: ['4.5', '4.4', '4.5', '4.7']\n",
      "Evaluations: ['967', '949', '527', '100']\n"
     ]
    },
    {
     "name": "stderr",
     "output_type": "stream",
     "text": [
      "\r",
      "611it [22:08,  1.90s/it]"
     ]
    },
    {
     "name": "stdout",
     "output_type": "stream",
     "text": [
      "Course Title:\n",
      "Professional Skills for International Business\n",
      "Management Skills for International Business\n",
      "Quantitative Foundations for International Business\n",
      "Statistics for International Business\n",
      "International Business Environment\n",
      "International Business Capstone\n",
      "Ratings: ['4.7', '4.7', '4.1', '3.8', '4.7', '4.7']\n",
      "Evaluations: ['896', '649', '401', '283', '355', '100']\n"
     ]
    },
    {
     "name": "stderr",
     "output_type": "stream",
     "text": [
      "\r",
      "612it [22:14,  3.21s/it]"
     ]
    },
    {
     "name": "stdout",
     "output_type": "stream",
     "text": [
      "Course Title:\n",
      "Technology Strategy: Creative Destruction\n",
      "Customer Centric Innovation\n",
      "Managing Innovation: Ambidexterity, Teams and Leading Change\n",
      "Ratings: ['4.8', '4.6', '4.8']\n",
      "Evaluations: ['28', '23', '15']\n"
     ]
    },
    {
     "name": "stderr",
     "output_type": "stream",
     "text": [
      "\r",
      "613it [22:18,  3.63s/it]"
     ]
    },
    {
     "name": "stdout",
     "output_type": "stream",
     "text": [
      "Course Title:\n",
      "Bases de la gestion de projet\n",
      "Initiation au projet : Démarrer un projet réussi\n",
      "Planification de projet : Tout mettre en place\n",
      "Exécuter le projet\n",
      "Gestion de projet Agile\n",
      "Capstone : Application de la gestion de projets dans le monde réel\n",
      "Ratings: ['4.6', '4.9', '4.9']\n",
      "Evaluations: ['58', '18', '11']\n"
     ]
    },
    {
     "name": "stderr",
     "output_type": "stream",
     "text": [
      "\r",
      "614it [22:20,  2.87s/it]"
     ]
    },
    {
     "name": "stdout",
     "output_type": "stream",
     "text": [
      "Course Title:\n",
      "Learn step-by-step\n",
      "Ratings: ['4.4']\n",
      "Evaluations: ['263']\n"
     ]
    },
    {
     "name": "stderr",
     "output_type": "stream",
     "text": [
      "\r",
      "615it [22:23,  3.00s/it]"
     ]
    },
    {
     "name": "stdout",
     "output_type": "stream",
     "text": [
      "Course Title:\n",
      "Learn step-by-step\n",
      "Ratings: ['4.7']\n",
      "Evaluations: ['20']\n"
     ]
    },
    {
     "name": "stderr",
     "output_type": "stream",
     "text": [
      "\r",
      "616it [22:25,  2.84s/it]"
     ]
    },
    {
     "name": "stdout",
     "output_type": "stream",
     "text": [
      "Course Title:\n",
      "Inclusion Matters\n",
      "Inclusive Leadership Matters\n",
      "Six Signature Traits of Highly Inclusive Leaders\n",
      "Communication and Inclusive Leadership\n",
      "Ratings: ['4.9']\n",
      "Evaluations: ['1']\n"
     ]
    },
    {
     "name": "stderr",
     "output_type": "stream",
     "text": [
      "\r",
      "617it [22:28,  2.77s/it]"
     ]
    },
    {
     "name": "stdout",
     "output_type": "stream",
     "text": [
      "Course Title:\n",
      "Your inspirational leadership journey\n",
      "Introspection to grow your self-awareness and sensibility\n",
      "The Duo, learning to manage quality relationships\n",
      "Ratings: ['4.8']\n",
      "Evaluations: ['537']\n"
     ]
    },
    {
     "name": "stderr",
     "output_type": "stream",
     "text": [
      "\r",
      "618it [22:29,  2.38s/it]"
     ]
    },
    {
     "name": "stdout",
     "output_type": "stream",
     "text": [
      "Course Title:\n",
      "Are you the next great engineering manager?\n",
      "Hiring your team\n",
      "Setting your team's goals\n",
      "Ratings: ['4.4']\n",
      "Evaluations: ['9']\n"
     ]
    },
    {
     "name": "stderr",
     "output_type": "stream",
     "text": [
      "\r",
      "619it [22:31,  2.17s/it]"
     ]
    },
    {
     "name": "stdout",
     "output_type": "stream",
     "text": [
      "Course Title:\n",
      "The Who What When Where and Why of Leadership in Interprofessional Informatics\n",
      "Team Fundamentals\n",
      "Team Evolution and Dynamics\n",
      "Theory of Collective Impact for Interprofessional Informatics Leadership Success\n",
      "The Future of Interprofessional Informatics Leadership\n",
      "Building Your Nursing Informatics Leadership Portfolio\n",
      "Ratings: []\n",
      "Evaluations: []\n"
     ]
    },
    {
     "name": "stderr",
     "output_type": "stream",
     "text": [
      "\r",
      "620it [22:33,  2.11s/it]"
     ]
    },
    {
     "name": "stdout",
     "output_type": "stream",
     "text": [
      "Course Title:\n",
      "Module 0 - Welcome\n",
      "Module 1 - Leadership Development Plan\n",
      "Module 2 - Pro-active Performance Improvement and Goal Setting\n",
      "Module 3 - Launching Creative Project Teams\n",
      "Leadership Development Plan Writing Assignment\n",
      "Module 4 - Creating a Motivating Team Environment\n",
      "Ratings: ['4.9']\n",
      "Evaluations: ['45']\n"
     ]
    },
    {
     "name": "stderr",
     "output_type": "stream",
     "text": [
      "\r",
      "621it [22:35,  2.03s/it]"
     ]
    },
    {
     "name": "stdout",
     "output_type": "stream",
     "text": [
      "Course Title:\n",
      "人事与聘雇的决策 Staffing and Hiring Decisions \n",
      "商务会议管理 Meeting Management\n",
      "领导与团队合作 Leading and Teaming\n",
      "规划、组织与委派 Planning, Organizing, and Delegating\n",
      "管理与指导 Managing and Coaching\n",
      "回顾 Review\n",
      "Ratings: []\n",
      "Evaluations: []\n"
     ]
    },
    {
     "name": "stderr",
     "output_type": "stream",
     "text": [
      "\r",
      "622it [22:37,  2.01s/it]"
     ]
    },
    {
     "name": "stdout",
     "output_type": "stream",
     "text": [
      "Course Title:\n",
      "Creating a Healthy Project Foundation\n",
      "Effective Communications Building Blocks\n",
      "Communications Planning\n",
      "Leadership Fundamentals\n",
      " Managing and Leading Stakeholders\n",
      "Final Project and Quiz\n",
      "Ratings: []\n",
      "Evaluations: []\n"
     ]
    },
    {
     "name": "stderr",
     "output_type": "stream",
     "text": [
      "\r",
      "623it [22:39,  2.03s/it]"
     ]
    },
    {
     "name": "stdout",
     "output_type": "stream",
     "text": [
      "Course Title:\n",
      "Leading Teams: Developing as a Leader\n",
      "Leading Teams: Building Effective Team Cultures\n",
      "Designing the Organization\n",
      "Managing the Organization\n",
      "Business Strategy\n",
      "Corporate Strategy\n",
      "Strategic Leadership and Management Capstone\n",
      "Ratings: ['4.8', '4.8', '4.6', '4.7', '4.8', '4.7', '4.8']\n",
      "Evaluations: ['5', '2', '1', '1', '1', '1', '244']\n"
     ]
    },
    {
     "name": "stderr",
     "output_type": "stream",
     "text": [
      "\r",
      "624it [22:41,  2.08s/it]"
     ]
    },
    {
     "name": "stdout",
     "output_type": "stream",
     "text": [
      "Course Title:\n",
      "Introduction to Connected Leadership\n",
      "Self | The Purpose-Driven, Connected Leader\n",
      "Teams | Unlocking the Potential of Working Together\n",
      "System | Helping to Improve the World Around Us\n",
      "Looking Forward | Connected Leadership - Using the Toolkit: From Self To System\n",
      "Ratings: ['4.9']\n",
      "Evaluations: ['59']\n"
     ]
    },
    {
     "name": "stderr",
     "output_type": "stream",
     "text": [
      "\r",
      "625it [22:44,  2.23s/it]"
     ]
    },
    {
     "name": "stdout",
     "output_type": "stream",
     "text": [
      "Course Title:\n",
      "Leading the Self: Mindfulness, Inner Stability, and Positive Strengths\n",
      "Leading Downward: Leader Behaviors and Leadership Styles\n",
      "Building Sustainable Relationships: Supportive Communication and Decision-making Biases \n",
      "Power, Politics, and Leading Upwards \n",
      "Ethics, Culture, and Change Management\n",
      "Leadership and Ancient Indian Wisdom: Lessons from the Mahabharata \n",
      "Peer Review Assignment\n",
      "Ratings: ['4.9']\n",
      "Evaluations: ['242']\n"
     ]
    },
    {
     "name": "stderr",
     "output_type": "stream",
     "text": [
      "\r",
      "626it [22:47,  2.45s/it]"
     ]
    },
    {
     "name": "stdout",
     "output_type": "stream",
     "text": [
      "Course Title:\n",
      "Why Smart Executives Fail: Common Mistakes & Warning Signs\n",
      "Decision-Making: Blending Art & Science\n",
      "Superbosses: Managing Talent & Leadership\n",
      "Lessons on Wisdom: Personal Leadership for Your Life\n",
      "Ratings: ['4.9', '4.8', '4.9', '5.0']\n",
      "Evaluations: ['169', '67', '58', '27']\n"
     ]
    },
    {
     "name": "stderr",
     "output_type": "stream",
     "text": [
      "\r",
      "627it [22:48,  2.25s/it]"
     ]
    },
    {
     "name": "stdout",
     "output_type": "stream",
     "text": [
      "Course Title:\n",
      "Foundations of Project Management\n",
      "Project Initiation: Starting a Successful Project\n",
      "Project Planning: Putting It All Together\n",
      "Project Execution: Running the Project\n",
      "Agile Project Management\n",
      "Capstone: Applying Project Management in the Real World\n",
      "Ratings: ['4.9', '4.8', '4.8', '4.8', '4.8', '4.8']\n",
      "Evaluations: ['68', '16', '9', '6', '9', '6']\n"
     ]
    },
    {
     "name": "stderr",
     "output_type": "stream",
     "text": [
      "\r",
      "628it [22:50,  2.01s/it]"
     ]
    },
    {
     "name": "stdout",
     "output_type": "stream",
     "text": [
      "Course Title:\n",
      "Week 1 Diversity and Our Mindset\n",
      "Week 2 Personal Diversity Challenges\n",
      "Week 3 Organizational Equity\n",
      "Week 4 Team Inclusion\n",
      "Ratings: ['4.6']\n",
      "Evaluations: ['83']\n"
     ]
    },
    {
     "name": "stderr",
     "output_type": "stream",
     "text": [
      "\r",
      "629it [22:53,  2.28s/it]"
     ]
    },
    {
     "name": "stdout",
     "output_type": "stream",
     "text": [
      "Course Title:\n",
      "High Performance Collaboration: Leadership, Teamwork, and Negotiation\n",
      "Leadership Communication for Maximum Impact: Storytelling\n",
      "Leadership Through Social Influence\n",
      "Leadership Through Marketing\n",
      "Leadership Through Design Innovation\n",
      "Organizational Leadership Capstone\n",
      "Ratings: ['4.8', '4.5', '4.7', '4.6', '4.3', '4.7']\n",
      "Evaluations: ['2', '1', '1', '439', '303', '87']\n"
     ]
    },
    {
     "name": "stderr",
     "output_type": "stream",
     "text": [
      "\r",
      "630it [22:54,  2.12s/it]"
     ]
    },
    {
     "name": "stdout",
     "output_type": "stream",
     "text": [
      "Course Title:\n",
      "Introduction to Management: Communicating with Direct Reports & Teams \n",
      "Coaching Direct Reports & Teams and Influencing Without Authority\n",
      "Strategy,   Priorities, Projects \n",
      "Making High-Quality, Ethical Decisions\n",
      "Ratings: ['4.9']\n",
      "Evaluations: ['67']\n"
     ]
    },
    {
     "name": "stderr",
     "output_type": "stream",
     "text": [
      "\r",
      "631it [22:57,  2.22s/it]"
     ]
    },
    {
     "name": "stdout",
     "output_type": "stream",
     "text": [
      "Course Title:\n",
      "Introduction au cours et module 1 - Gérer l'organisation\n",
      "Lancement et organisation d'un projet\n",
      "Principes de base du leadership\n",
      "Ratings: ['4.6']\n",
      "Evaluations: ['12']\n"
     ]
    },
    {
     "name": "stderr",
     "output_type": "stream",
     "text": [
      "\r",
      "632it [23:01,  2.74s/it]"
     ]
    },
    {
     "name": "stdout",
     "output_type": "stream",
     "text": [
      "Course Title:\n",
      "Agile Leadership: Introduction to Change\n",
      "Agile Leader Training\n",
      "Developing an Agile Team\n",
      "Agile Organization\n",
      "Agile Leadership Capstone\n",
      "Ratings: ['4.7', '4.7', '4.8', '4.7', '4.9']\n",
      "Evaluations: ['957', '282', '212', '167', '143']\n"
     ]
    },
    {
     "name": "stderr",
     "output_type": "stream",
     "text": [
      "\r",
      "633it [23:05,  3.19s/it]"
     ]
    },
    {
     "name": "stdout",
     "output_type": "stream",
     "text": [
      "Course Title:\n",
      "Course Preview and Intro\n",
      "Taking on a New Leadership Role\n",
      "Getting Oriented and Assessing Your Team\n",
      "Communication in an Age of Super Transparency\n",
      "Leading Collaboration\n",
      "Motivating and Inspiring\n",
      "Effective Governance\n",
      "Leading Change \n",
      "Managing Talent\n",
      " Leading in Crisis\n",
      "  Leading Innovation\n",
      " Leading Execution\n",
      " Public Life, Private Life\n",
      " Vision and the Role of Culture\n",
      "  Modern Theories of Leadership\n",
      "  A Study in Leadership Failure: The Financial Crisis (Part 1)\n",
      "A Study in Leadership Failure: The Financial Crisis (Part 2)\n",
      " Real Leadership Case Study: Lord John Browne, British Petroleum \n",
      " Synthesis - Leadership in 21st Century Organizations\n",
      "Ratings: ['4.8']\n",
      "Evaluations: ['276', '276']\n"
     ]
    },
    {
     "name": "stderr",
     "output_type": "stream",
     "text": [
      "\r",
      "634it [23:10,  3.78s/it]"
     ]
    },
    {
     "name": "stdout",
     "output_type": "stream",
     "text": [
      "Course Title:\n",
      "Me, myself and AI - Or, is it about You and Your business?\n",
      "Heads up\n",
      "One step back, before stepping forward again\n",
      "Heading on\n",
      "Ratings: ['4.5']\n",
      "Evaluations: ['29', '29', '29']\n"
     ]
    },
    {
     "name": "stderr",
     "output_type": "stream",
     "text": [
      "\r",
      "635it [23:12,  3.12s/it]"
     ]
    },
    {
     "name": "stdout",
     "output_type": "stream",
     "text": [
      "Course Title:\n",
      "Learn step-by-step\n",
      "Ratings: []\n",
      "Evaluations: []\n"
     ]
    },
    {
     "name": "stderr",
     "output_type": "stream",
     "text": [
      "\r",
      "636it [23:17,  3.73s/it]"
     ]
    },
    {
     "name": "stdout",
     "output_type": "stream",
     "text": [
      "Course Title:\n",
      "Building Your Leadership Skills\n",
      "Giving Sense to Your Leadership Experience\n",
      "Leading Organizations\n",
      "CAPSTONE: Your Leadership Challenge\n",
      "Ratings: ['4.6', '4.6', '4.7', '4.7']\n",
      "Evaluations: ['2', '481', '284', '69']\n"
     ]
    },
    {
     "name": "stderr",
     "output_type": "stream",
     "text": [
      "\r",
      "637it [23:22,  4.25s/it]"
     ]
    },
    {
     "name": "stdout",
     "output_type": "stream",
     "text": [
      "Course Title:\n",
      "The Neuroscience of Personal Excellence\n",
      "The Neuroscience of Leading High-Performance Teams\n",
      "The Neuroscience of Leading Transformational Organizations\n",
      "Ratings: []\n",
      "Evaluations: []\n"
     ]
    },
    {
     "name": "stderr",
     "output_type": "stream",
     "text": [
      "\r",
      "638it [23:24,  3.49s/it]"
     ]
    },
    {
     "name": "stdout",
     "output_type": "stream",
     "text": [
      "Course Title:\n",
      "Communication and Leadership during a Public Health Crisis\n",
      "Disaster, Crisis, and Emergency Preparedness Communication\n",
      "Connect with Diverse Audiences during a Public Health Crisis\n",
      "Ratings: ['4.7', '4.7']\n",
      "Evaluations: ['24', '144']\n"
     ]
    },
    {
     "name": "stderr",
     "output_type": "stream",
     "text": [
      "\r",
      "639it [23:27,  3.28s/it]"
     ]
    },
    {
     "name": "stdout",
     "output_type": "stream",
     "text": [
      "Course Title:\n",
      "Researcher Management and Leadership Training\n",
      "Leadership\n",
      "Finance and Administration\n",
      "Management - Part 1: Starting a Research Team\n",
      "Management - Part 2: Growing and Maintaining a Research Team\n",
      "Mentorship\n",
      "Ratings: ['4.8']\n",
      "Evaluations: ['129']\n"
     ]
    },
    {
     "name": "stderr",
     "output_type": "stream",
     "text": [
      "\r",
      "640it [23:31,  3.38s/it]"
     ]
    },
    {
     "name": "stdout",
     "output_type": "stream",
     "text": [
      "Course Title:\n",
      "Organisational design: Know your organisation\n",
      "Organisational behaviour: Know your people\n",
      "Adapt your leadership style\n",
      "Visionary leadership, identity & motivation: Become a meaning maker\n",
      "Ratings: ['4.9', '4.8', '4.8', '4.8']\n",
      "Evaluations: ['1', '1', '800', '723']\n"
     ]
    },
    {
     "name": "stderr",
     "output_type": "stream",
     "text": [
      "\r",
      "641it [23:33,  3.16s/it]"
     ]
    },
    {
     "name": "stdout",
     "output_type": "stream",
     "text": [
      "Course Title:\n",
      "Fundamentals of Leadership, with Goldman Sachs 10,000 Women  \n",
      "Ratings: ['4.7']\n",
      "Evaluations: ['141', '141', '141']\n"
     ]
    },
    {
     "name": "stderr",
     "output_type": "stream",
     "text": [
      "\r",
      "642it [23:35,  2.69s/it]"
     ]
    },
    {
     "name": "stdout",
     "output_type": "stream",
     "text": [
      "Course Title:\n",
      "Information Security and Senior Governance Overview\n",
      "Cybersecurity senior management and Information Security Governance\n",
      "Cybersecurity aligning information security to the business model\n",
      "Ratings: ['4.1']\n",
      "Evaluations: ['18']\n"
     ]
    },
    {
     "name": "stderr",
     "output_type": "stream",
     "text": [
      "\r",
      "643it [23:37,  2.51s/it]"
     ]
    },
    {
     "name": "stdout",
     "output_type": "stream",
     "text": [
      "Course Title:\n",
      "Gender Analytics in your organization\n",
      "Influence and change\n",
      "Leveraging diverse teams\n",
      "Being a change agent\n",
      "Ratings: ['4.7']\n",
      "Evaluations: ['22', '22', '22']\n"
     ]
    },
    {
     "name": "stderr",
     "output_type": "stream",
     "text": [
      "\r",
      "644it [23:39,  2.28s/it]"
     ]
    },
    {
     "name": "stdout",
     "output_type": "stream",
     "text": [
      "Course Title:\n",
      "Influencing Attitudes \n",
      "Influencing Social Factors \n",
      "Influencing Perceived Ability\n",
      "Converting Intentions into Action \n",
      "Ratings: ['4.8']\n",
      "Evaluations: ['230']\n"
     ]
    },
    {
     "name": "stderr",
     "output_type": "stream",
     "text": [
      "\r",
      "645it [23:40,  2.12s/it]"
     ]
    },
    {
     "name": "stdout",
     "output_type": "stream",
     "text": [
      "Course Title:\n",
      "Meaning and making meaning\n",
      "Leadership and meaning making\n",
      "Brain, body and storytelling in meaning making\n",
      "Branding as meaning making\n",
      "Building brands\n",
      "Meaning in social context\n",
      "Ratings: ['4.7']\n",
      "Evaluations: ['166', '166', '166']\n"
     ]
    },
    {
     "name": "stderr",
     "output_type": "stream",
     "text": [
      "\r",
      "646it [23:42,  2.04s/it]"
     ]
    },
    {
     "name": "stdout",
     "output_type": "stream",
     "text": [
      "Course Title:\n",
      "Introduction to Leadership\n",
      "Making Sense of Organisations\n",
      "Making Sense of Stakeholders\n",
      "Making Sense of Leadership and Management\n",
      "Ratings: []\n",
      "Evaluations: []\n"
     ]
    },
    {
     "name": "stderr",
     "output_type": "stream",
     "text": [
      "\r",
      "647it [23:44,  2.04s/it]"
     ]
    },
    {
     "name": "stdout",
     "output_type": "stream",
     "text": [
      "Course Title:\n",
      "Understand your leadership style\n",
      "Positioning your leadership\n",
      "Embracing change from resilience\n",
      "Building sense for your leadership challenge\n",
      "Ratings: ['4.6']\n",
      "Evaluations: ['60']\n"
     ]
    },
    {
     "name": "stderr",
     "output_type": "stream",
     "text": [
      "\r",
      "648it [23:46,  2.07s/it]"
     ]
    },
    {
     "name": "stdout",
     "output_type": "stream",
     "text": [
      "Course Title:\n",
      "WEEK 1: Yourself as a Leader—Developing your Leadership Identity\n",
      "WEEK 2: The Current State of Women's Leadership at the Top!\n",
      "WEEK 3: Women's Leadership Presence\n",
      "WEEK 4: Leadership Tools for Women\n",
      "WEEK 5: Purposeful Career Development for Women\n",
      "Ratings: ['4.8']\n",
      "Evaluations: ['135']\n"
     ]
    },
    {
     "name": "stderr",
     "output_type": "stream",
     "text": [
      "\r",
      "649it [23:49,  2.14s/it]"
     ]
    },
    {
     "name": "stdout",
     "output_type": "stream",
     "text": [
      "Course Title:\n",
      "The Importance of Being a Leader in Public Health \n",
      "Foundations of Communication in Public Health\n",
      "Working in Interprofessional Teams During a Crisis\n",
      "Models and Methods of Conflict Resolution\n",
      "Ratings: ['4.3']\n",
      "Evaluations: ['13']\n"
     ]
    },
    {
     "name": "stderr",
     "output_type": "stream",
     "text": [
      "\r",
      "650it [23:51,  2.10s/it]"
     ]
    },
    {
     "name": "stdout",
     "output_type": "stream",
     "text": [
      "Course Title:\n",
      "What Is Giving Voice to Values? Why and How It Works\n",
      "Recognizing and Learning From Your Success and Failures \n",
      "Developing Scripts and Action Plans\n",
      "Addressing Challenges and Opportunities with the GVV Approach \n",
      "Ratings: ['4.9']\n",
      "Evaluations: ['124']\n"
     ]
    },
    {
     "name": "stderr",
     "output_type": "stream",
     "text": [
      "\r",
      "651it [23:55,  2.76s/it]"
     ]
    },
    {
     "name": "stdout",
     "output_type": "stream",
     "text": [
      "Course Title:\n",
      "Course Orientation\n",
      "Week 1: Becoming a Leader\n",
      "Week 2: Influence, Persuasion, and Negotiation\n",
      "Week 3: Difﬁcult Conversations as a Leader\n",
      "Week 4: It’s Your Life - Live it Well\n",
      "Ratings: ['4.6']\n",
      "Evaluations: ['13']\n"
     ]
    },
    {
     "name": "stderr",
     "output_type": "stream",
     "text": [
      "\r",
      "652it [23:57,  2.49s/it]"
     ]
    },
    {
     "name": "stdout",
     "output_type": "stream",
     "text": [
      "Course Title:\n",
      "Course Orientation\n",
      "Module 1: Moving the Needle at Work\n",
      "Module 2:  Embracing the Beauty of Difference\n",
      "Module 3: Navigating Acculturation and Accommodations\n",
      "Module 4: Framing Communication for Accountable Leadership \n",
      "Course Conclusion\n",
      "Ratings: []\n",
      "Evaluations: []\n"
     ]
    },
    {
     "name": "stderr",
     "output_type": "stream",
     "text": [
      "\r",
      "653it [23:59,  2.36s/it]"
     ]
    },
    {
     "name": "stdout",
     "output_type": "stream",
     "text": [
      "Course Title:\n",
      "Be Aware: Understanding yourself and understanding how the voice works. \n",
      "Be Physical: the role of the body in speaking\n",
      "Be Connected: understanding your audience and how to connect  to them\n",
      "Be Impactful: Using emphasis for impact\n",
      "Ratings: ['4.8']\n",
      "Evaluations: ['37']\n"
     ]
    },
    {
     "name": "stderr",
     "output_type": "stream",
     "text": [
      "\r",
      "654it [24:01,  2.12s/it]"
     ]
    },
    {
     "name": "stdout",
     "output_type": "stream",
     "text": [
      "Course Title:\n",
      "Professional Skills for International Business\n",
      "Management Skills for International Business\n",
      "Quantitative Foundations for International Business\n",
      "Statistics for International Business\n",
      "International Business Environment\n",
      "International Business Capstone\n",
      "Ratings: ['4.7', '4.7', '4.1', '3.8', '4.7', '4.7']\n",
      "Evaluations: ['896', '649', '401', '283', '355', '100']\n"
     ]
    }
   ],
   "source": [
    "import re\n",
    "\n",
    "for index, row in tqdm(Main.iterrows()):\n",
    "    url = row[\"URL\"]\n",
    "\n",
    "    # Send an HTTP GET request to the URL\n",
    "    response = requests.get(url)\n",
    "\n",
    "    # Check if the request was successful (status code 200)\n",
    "    if response.status_code == 200:\n",
    "        # Parse the HTML content using BeautifulSoup\n",
    "        soup = BeautifulSoup(response.content, \"html.parser\")\n",
    "\n",
    "        # Find the course title if the element exists\n",
    "        listofcourses = soup.find_all(\"h3\", class_=\"cds-119 css-h1jogs cds-121\")\n",
    "        rates = soup.find_all(\"span\", class_=\"css-1tdi49m\")\n",
    "        evals = soup.find_all(\"span\", class_=\"cds-119 css-dmxkm1 cds-121\")\n",
    "        \n",
    "        listofcourses = listofcourses[:-3]\n",
    "        listofcourses = [elem.get_text() for sublist in listofcourses for elem in sublist]\n",
    "        \n",
    "        rates = [re.search(r'\\d+(\\.\\d+)?', elem.get_text()).group() for elem in rates]\n",
    "        evals = [re.search(r'\\d+', elem.get_text()).group() for elem in evals]\n",
    "        \n",
    "        course_names = [course for course in listofcourses]\n",
    "        evals_names = evals\n",
    "        rates_names = rates\n",
    "        \n",
    "        # Store the lists of course names, ratings, and evaluations in the DataFrame\n",
    "        Main.at[index, 'courses names'] = course_names\n",
    "        Main.at[index, 'courses rates'] = rates_names\n",
    "        Main.at[index, 'courses evals'] = evals_names\n",
    "        \n",
    "        # Print the course title and ratings\n",
    "        print(\"Course Title:\")\n",
    "        for i in listofcourses:\n",
    "            print(i)\n",
    "        \n",
    "        print(\"Ratings:\", rates)\n",
    "        print(\"Evaluations:\", evals)\n",
    "    else:\n",
    "        print(f\"Failed to fetch data. Status code: {response.status_code}\")\n"
   ]
  },
  {
   "cell_type": "code",
   "execution_count": 32,
   "id": "16e8dcae",
   "metadata": {},
   "outputs": [
    {
     "data": {
      "text/plain": [
       "metric(s)                                                  Communication\n",
       "URL                    https://www.coursera.org/learn/finding-your-pr...\n",
       "Title                  Finding Your Professional Voice: Confidence & ...\n",
       "Trainer                                             University of London\n",
       "rate                                                                 4.8\n",
       "evaluation nbr                                             (101 reviews)\n",
       "level                                                   Beginner level 1\n",
       "duration                                                     1 - 4 Weeks\n",
       "aquired competences    ['Communication', 'Entrepreneurship', 'Leaders...\n",
       "courses names          [Be Aware: Understanding yourself and understa...\n",
       "courses rates          [[4.8,  ,  , [<path d=\"M18.33 7.65a1 1 0 00-.8...\n",
       "courses evals                                         [(, 37 ratings, )]\n",
       "Name: 1, dtype: object"
      ]
     },
     "execution_count": 32,
     "metadata": {},
     "output_type": "execute_result"
    }
   ],
   "source": [
    "Main.loc[1]"
   ]
  },
  {
   "cell_type": "code",
   "execution_count": 29,
   "id": "1f6e25c2",
   "metadata": {},
   "outputs": [
    {
     "data": {
      "text/html": [
       "<div>\n",
       "<style scoped>\n",
       "    .dataframe tbody tr th:only-of-type {\n",
       "        vertical-align: middle;\n",
       "    }\n",
       "\n",
       "    .dataframe tbody tr th {\n",
       "        vertical-align: top;\n",
       "    }\n",
       "\n",
       "    .dataframe thead th {\n",
       "        text-align: right;\n",
       "    }\n",
       "</style>\n",
       "<table border=\"1\" class=\"dataframe\">\n",
       "  <thead>\n",
       "    <tr style=\"text-align: right;\">\n",
       "      <th></th>\n",
       "      <th>metric(s)</th>\n",
       "      <th>URL</th>\n",
       "      <th>Title</th>\n",
       "      <th>Trainer</th>\n",
       "      <th>rate</th>\n",
       "      <th>evaluation nbr</th>\n",
       "      <th>level</th>\n",
       "      <th>duration</th>\n",
       "      <th>aquired competences</th>\n",
       "      <th>courses names</th>\n",
       "      <th>courses rates</th>\n",
       "      <th>courses evals</th>\n",
       "    </tr>\n",
       "  </thead>\n",
       "  <tbody>\n",
       "    <tr>\n",
       "      <th>0</th>\n",
       "      <td>Communication</td>\n",
       "      <td>https://www.coursera.org/learn/cross-cultural-...</td>\n",
       "      <td>Business English for Cross-cultural Communication</td>\n",
       "      <td>The Hong Kong University of Science and Techno...</td>\n",
       "      <td>4.7</td>\n",
       "      <td>(374 reviews)</td>\n",
       "      <td>Mixed level 1</td>\n",
       "      <td>1 - 3 Months</td>\n",
       "      <td>['Business Communication', 'Business Psycholog...</td>\n",
       "      <td>[Welcome module, What is culture?, Culture and...</td>\n",
       "      <td>[4.5, ,  , ]</td>\n",
       "      <td>[(, 84 ratings, ), (, 84 ratings, )]</td>\n",
       "    </tr>\n",
       "    <tr>\n",
       "      <th>1</th>\n",
       "      <td>Communication</td>\n",
       "      <td>https://www.coursera.org/learn/finding-your-pr...</td>\n",
       "      <td>Finding Your Professional Voice: Confidence &amp; ...</td>\n",
       "      <td>University of London</td>\n",
       "      <td>4.8</td>\n",
       "      <td>(101 reviews)</td>\n",
       "      <td>Beginner level 1</td>\n",
       "      <td>1 - 4 Weeks</td>\n",
       "      <td>['Communication', 'Entrepreneurship', 'Leaders...</td>\n",
       "      <td>[Be Aware: Understanding yourself and understa...</td>\n",
       "      <td>[4.8, ,  , ]</td>\n",
       "      <td>[(, 37 ratings, )]</td>\n",
       "    </tr>\n",
       "    <tr>\n",
       "      <th>2</th>\n",
       "      <td>Communication</td>\n",
       "      <td>https://www.coursera.org/learn/wharton-communi...</td>\n",
       "      <td>Improving Communication Skills</td>\n",
       "      <td>University of Pennsylvania</td>\n",
       "      <td>4.7</td>\n",
       "      <td>(1.9k reviews)</td>\n",
       "      <td>Beginner level 1</td>\n",
       "      <td>1 - 4 Weeks</td>\n",
       "      <td>['Communication', 'Employee Relations', 'Human...</td>\n",
       "      <td>[Cooperation, Competition, and Comparisons, Tr...</td>\n",
       "      <td>[4.8, ,  , ]</td>\n",
       "      <td>[(, 343 ratings, )]</td>\n",
       "    </tr>\n",
       "    <tr>\n",
       "      <th>3</th>\n",
       "      <td>Communication</td>\n",
       "      <td>https://www.coursera.org/specializations/bayes...</td>\n",
       "      <td>Bayesian Statistics</td>\n",
       "      <td>University of California, Santa Cruz</td>\n",
       "      <td>4.6</td>\n",
       "      <td>(3.4k reviews)</td>\n",
       "      <td>Intermediate level 3</td>\n",
       "      <td>3 - 6 Months</td>\n",
       "      <td>['Probability &amp; Statistics', 'Bayesian Statist...</td>\n",
       "      <td>[Bayesian Statistics: From Concept to Data Ana...</td>\n",
       "      <td>[(, 3,089 ratings, ), (, 460 ratings, ), (, 41...</td>\n",
       "      <td>[4.6, ,  , , 4.8, ,  , , 4.5, ,  , ]</td>\n",
       "    </tr>\n",
       "    <tr>\n",
       "      <th>4</th>\n",
       "      <td>Communication</td>\n",
       "      <td>https://www.coursera.org/professional-certific...</td>\n",
       "      <td>IBM Data Engineering</td>\n",
       "      <td>IBM</td>\n",
       "      <td>4.6</td>\n",
       "      <td>(43.9k reviews)</td>\n",
       "      <td>Beginner level 3</td>\n",
       "      <td>3 - 6 Months</td>\n",
       "      <td>['Data Management', 'Databases', 'Data Structu...</td>\n",
       "      <td>[Introduction to Data Engineering, Python for ...</td>\n",
       "      <td>[(, 1,877 ratings, ), (, 32,545 ratings, ), (,...</td>\n",
       "      <td>[4.7, ,  , , 4.6, ,  , , 4.6, ,  , , 4.7, ,  ,...</td>\n",
       "    </tr>\n",
       "    <tr>\n",
       "      <th>...</th>\n",
       "      <td>...</td>\n",
       "      <td>...</td>\n",
       "      <td>...</td>\n",
       "      <td>...</td>\n",
       "      <td>...</td>\n",
       "      <td>...</td>\n",
       "      <td>...</td>\n",
       "      <td>...</td>\n",
       "      <td>...</td>\n",
       "      <td>...</td>\n",
       "      <td>...</td>\n",
       "      <td>...</td>\n",
       "    </tr>\n",
       "    <tr>\n",
       "      <th>1583</th>\n",
       "      <td>Trust+Respect</td>\n",
       "      <td>https://www.coursera.org/learn/how-to-network</td>\n",
       "      <td>How to Network: Leading Yourself to Lead Others</td>\n",
       "      <td>University of Michigan</td>\n",
       "      <td>4.5</td>\n",
       "      <td>(8 reviews)</td>\n",
       "      <td>Mixed level 1</td>\n",
       "      <td>1 - 4 Weeks</td>\n",
       "      <td>['Leadership and Management', 'Entrepreneurshi...</td>\n",
       "      <td></td>\n",
       "      <td></td>\n",
       "      <td></td>\n",
       "    </tr>\n",
       "    <tr>\n",
       "      <th>1584</th>\n",
       "      <td>Trust+Respect</td>\n",
       "      <td>https://www.coursera.org/learn/foundations-of-...</td>\n",
       "      <td>Foundations of Career Navigating and Coaching</td>\n",
       "      <td>Goodwill Industries International</td>\n",
       "      <td>4.7</td>\n",
       "      <td>(53 reviews)</td>\n",
       "      <td>Beginner level 1</td>\n",
       "      <td>1 - 4 Weeks</td>\n",
       "      <td>['Leadership and Management', 'Business Psycho...</td>\n",
       "      <td></td>\n",
       "      <td></td>\n",
       "      <td></td>\n",
       "    </tr>\n",
       "    <tr>\n",
       "      <th>1585</th>\n",
       "      <td>Trust+Respect</td>\n",
       "      <td>https://www.coursera.org/learn/new-technologie...</td>\n",
       "      <td>New Technologies for Business Leaders</td>\n",
       "      <td>Rutgers the State University of New Jersey</td>\n",
       "      <td>4.4</td>\n",
       "      <td>(367 reviews)</td>\n",
       "      <td>Intermediate level 1</td>\n",
       "      <td>1 - 3 Months</td>\n",
       "      <td>['Change Management', 'Leadership and Manageme...</td>\n",
       "      <td></td>\n",
       "      <td></td>\n",
       "      <td></td>\n",
       "    </tr>\n",
       "    <tr>\n",
       "      <th>1586</th>\n",
       "      <td>Trust+Respect</td>\n",
       "      <td>https://www.coursera.org/learn/teaching-learning</td>\n",
       "      <td>Foundations of Teaching for Learning: Learners...</td>\n",
       "      <td>Commonwealth Education Trust</td>\n",
       "      <td>4.6</td>\n",
       "      <td>(169 reviews)</td>\n",
       "      <td>Mixed level 1</td>\n",
       "      <td>1 - 3 Months</td>\n",
       "      <td>['Business Psychology', 'Communication', 'Entr...</td>\n",
       "      <td></td>\n",
       "      <td></td>\n",
       "      <td></td>\n",
       "    </tr>\n",
       "    <tr>\n",
       "      <th>1587</th>\n",
       "      <td>Trust+Respect</td>\n",
       "      <td>https://www.coursera.org/learn/covid-vaccine-a...</td>\n",
       "      <td>COVID Vaccine Ambassador Training: How to Talk...</td>\n",
       "      <td>Johns Hopkins University</td>\n",
       "      <td>4.9</td>\n",
       "      <td>(1.2k reviews)</td>\n",
       "      <td>Beginner level 1</td>\n",
       "      <td>1 - 3 Months</td>\n",
       "      <td>['Communication', 'Marketing', 'Social Media',...</td>\n",
       "      <td></td>\n",
       "      <td></td>\n",
       "      <td></td>\n",
       "    </tr>\n",
       "  </tbody>\n",
       "</table>\n",
       "<p>1588 rows × 12 columns</p>\n",
       "</div>"
      ],
      "text/plain": [
       "          metric(s)                                                URL  \\\n",
       "0     Communication  https://www.coursera.org/learn/cross-cultural-...   \n",
       "1     Communication  https://www.coursera.org/learn/finding-your-pr...   \n",
       "2     Communication  https://www.coursera.org/learn/wharton-communi...   \n",
       "3     Communication  https://www.coursera.org/specializations/bayes...   \n",
       "4     Communication  https://www.coursera.org/professional-certific...   \n",
       "...             ...                                                ...   \n",
       "1583  Trust+Respect      https://www.coursera.org/learn/how-to-network   \n",
       "1584  Trust+Respect  https://www.coursera.org/learn/foundations-of-...   \n",
       "1585  Trust+Respect  https://www.coursera.org/learn/new-technologie...   \n",
       "1586  Trust+Respect   https://www.coursera.org/learn/teaching-learning   \n",
       "1587  Trust+Respect  https://www.coursera.org/learn/covid-vaccine-a...   \n",
       "\n",
       "                                                  Title  \\\n",
       "0     Business English for Cross-cultural Communication   \n",
       "1     Finding Your Professional Voice: Confidence & ...   \n",
       "2                        Improving Communication Skills   \n",
       "3                                   Bayesian Statistics   \n",
       "4                                  IBM Data Engineering   \n",
       "...                                                 ...   \n",
       "1583    How to Network: Leading Yourself to Lead Others   \n",
       "1584      Foundations of Career Navigating and Coaching   \n",
       "1585              New Technologies for Business Leaders   \n",
       "1586  Foundations of Teaching for Learning: Learners...   \n",
       "1587  COVID Vaccine Ambassador Training: How to Talk...   \n",
       "\n",
       "                                                Trainer  rate  \\\n",
       "0     The Hong Kong University of Science and Techno...   4.7   \n",
       "1                                  University of London   4.8   \n",
       "2                            University of Pennsylvania   4.7   \n",
       "3                  University of California, Santa Cruz   4.6   \n",
       "4                                                   IBM   4.6   \n",
       "...                                                 ...   ...   \n",
       "1583                             University of Michigan   4.5   \n",
       "1584                  Goodwill Industries International   4.7   \n",
       "1585         Rutgers the State University of New Jersey   4.4   \n",
       "1586                       Commonwealth Education Trust   4.6   \n",
       "1587                           Johns Hopkins University   4.9   \n",
       "\n",
       "       evaluation nbr                 level      duration  \\\n",
       "0       (374 reviews)         Mixed level 1  1 - 3 Months   \n",
       "1       (101 reviews)      Beginner level 1   1 - 4 Weeks   \n",
       "2      (1.9k reviews)      Beginner level 1   1 - 4 Weeks   \n",
       "3      (3.4k reviews)  Intermediate level 3  3 - 6 Months   \n",
       "4     (43.9k reviews)      Beginner level 3  3 - 6 Months   \n",
       "...               ...                   ...           ...   \n",
       "1583      (8 reviews)         Mixed level 1   1 - 4 Weeks   \n",
       "1584     (53 reviews)      Beginner level 1   1 - 4 Weeks   \n",
       "1585    (367 reviews)  Intermediate level 1  1 - 3 Months   \n",
       "1586    (169 reviews)         Mixed level 1  1 - 3 Months   \n",
       "1587   (1.2k reviews)      Beginner level 1  1 - 3 Months   \n",
       "\n",
       "                                    aquired competences  \\\n",
       "0     ['Business Communication', 'Business Psycholog...   \n",
       "1     ['Communication', 'Entrepreneurship', 'Leaders...   \n",
       "2     ['Communication', 'Employee Relations', 'Human...   \n",
       "3     ['Probability & Statistics', 'Bayesian Statist...   \n",
       "4     ['Data Management', 'Databases', 'Data Structu...   \n",
       "...                                                 ...   \n",
       "1583  ['Leadership and Management', 'Entrepreneurshi...   \n",
       "1584  ['Leadership and Management', 'Business Psycho...   \n",
       "1585  ['Change Management', 'Leadership and Manageme...   \n",
       "1586  ['Business Psychology', 'Communication', 'Entr...   \n",
       "1587  ['Communication', 'Marketing', 'Social Media',...   \n",
       "\n",
       "                                          courses names  \\\n",
       "0     [Welcome module, What is culture?, Culture and...   \n",
       "1     [Be Aware: Understanding yourself and understa...   \n",
       "2     [Cooperation, Competition, and Comparisons, Tr...   \n",
       "3     [Bayesian Statistics: From Concept to Data Ana...   \n",
       "4     [Introduction to Data Engineering, Python for ...   \n",
       "...                                                 ...   \n",
       "1583                                                      \n",
       "1584                                                      \n",
       "1585                                                      \n",
       "1586                                                      \n",
       "1587                                                      \n",
       "\n",
       "                                          courses rates  \\\n",
       "0                                          [4.5, ,  , ]   \n",
       "1                                          [4.8, ,  , ]   \n",
       "2                                          [4.8, ,  , ]   \n",
       "3     [(, 3,089 ratings, ), (, 460 ratings, ), (, 41...   \n",
       "4     [(, 1,877 ratings, ), (, 32,545 ratings, ), (,...   \n",
       "...                                                 ...   \n",
       "1583                                                      \n",
       "1584                                                      \n",
       "1585                                                      \n",
       "1586                                                      \n",
       "1587                                                      \n",
       "\n",
       "                                          courses evals  \n",
       "0                  [(, 84 ratings, ), (, 84 ratings, )]  \n",
       "1                                    [(, 37 ratings, )]  \n",
       "2                                   [(, 343 ratings, )]  \n",
       "3                  [4.6, ,  , , 4.8, ,  , , 4.5, ,  , ]  \n",
       "4     [4.7, ,  , , 4.6, ,  , , 4.6, ,  , , 4.7, ,  ,...  \n",
       "...                                                 ...  \n",
       "1583                                                     \n",
       "1584                                                     \n",
       "1585                                                     \n",
       "1586                                                     \n",
       "1587                                                     \n",
       "\n",
       "[1588 rows x 12 columns]"
      ]
     },
     "execution_count": 29,
     "metadata": {},
     "output_type": "execute_result"
    }
   ],
   "source": [
    "Main"
   ]
  },
  {
   "cell_type": "code",
   "execution_count": 1,
   "id": "fc0ceef5",
   "metadata": {},
   "outputs": [
    {
     "ename": "NameError",
     "evalue": "name 'Main' is not defined",
     "output_type": "error",
     "traceback": [
      "\u001b[1;31m---------------------------------------------------------------------------\u001b[0m",
      "\u001b[1;31mNameError\u001b[0m                                 Traceback (most recent call last)",
      "Cell \u001b[1;32mIn[1], line 1\u001b[0m\n\u001b[1;32m----> 1\u001b[0m \u001b[43mMain\u001b[49m\u001b[38;5;241m.\u001b[39mloc[\u001b[38;5;241m2\u001b[39m]\n",
      "\u001b[1;31mNameError\u001b[0m: name 'Main' is not defined"
     ]
    }
   ],
   "source": [
    "Main.loc[2]"
   ]
  },
  {
   "cell_type": "code",
   "execution_count": null,
   "id": "5ff9de32",
   "metadata": {},
   "outputs": [],
   "source": []
  }
 ],
 "metadata": {
  "kernelspec": {
   "display_name": "Python 3 (ipykernel)",
   "language": "python",
   "name": "python3"
  },
  "language_info": {
   "codemirror_mode": {
    "name": "ipython",
    "version": 3
   },
   "file_extension": ".py",
   "mimetype": "text/x-python",
   "name": "python",
   "nbconvert_exporter": "python",
   "pygments_lexer": "ipython3",
   "version": "3.9.16"
  }
 },
 "nbformat": 4,
 "nbformat_minor": 5
}
