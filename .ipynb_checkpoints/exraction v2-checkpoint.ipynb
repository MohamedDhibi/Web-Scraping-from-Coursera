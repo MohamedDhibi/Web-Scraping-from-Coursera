{
 "cells": [
  {
   "cell_type": "markdown",
   "id": "92e6f452",
   "metadata": {},
   "source": [
    "# Importation"
   ]
  },
  {
   "cell_type": "code",
   "execution_count": 134,
   "id": "e5f747bf",
   "metadata": {},
   "outputs": [],
   "source": [
    "from tqdm import tqdm\n",
    "import time\n",
    "import warnings\n",
    "warnings.filterwarnings(\"ignore\")\n",
    "import sys\n",
    "import re\n",
    "import pandas as pd\n",
    "import requests\n",
    "from bs4 import BeautifulSoup"
   ]
  },
  {
   "cell_type": "markdown",
   "id": "aa1e8aa7",
   "metadata": {},
   "source": [
    "# Defining Dataframe"
   ]
  },
  {
   "cell_type": "code",
   "execution_count": 135,
   "id": "ba79a7a8",
   "metadata": {},
   "outputs": [],
   "source": [
    "# List of column names\n",
    "column_names = ['metric(s)', 'URL', 'Title','Trainer','rate','evaluation nbr','level','duration','aquired competences']\n",
    "\n",
    "# Create an empty DataFrame with column names\n",
    "Main = pd.DataFrame(columns=column_names)"
   ]
  },
  {
   "cell_type": "code",
   "execution_count": 136,
   "id": "2f595492",
   "metadata": {},
   "outputs": [],
   "source": [
    "skills_list = [\"Leadership\", \"Creativity\", \"Teamwork\", \"Communication\", \"Trust\", \"Respect\", \"Performance\"]"
   ]
  },
  {
   "cell_type": "code",
   "execution_count": 137,
   "id": "5ad3e143",
   "metadata": {},
   "outputs": [],
   "source": [
    "import itertools\n",
    "# Generate combinations of couples for each skill\n",
    "skill_combinations = []\n",
    "for i in range(len(skills_list)):\n",
    "    for j in range(i+1, len(skills_list)):\n",
    "        skill_combinations.append(f\"{skills_list[i]}+{skills_list[j]}\")\n",
    "\n",
    "skills_list.extend(skill_combinations)"
   ]
  },
  {
   "cell_type": "code",
   "execution_count": 138,
   "id": "004af6cf",
   "metadata": {},
   "outputs": [
    {
     "data": {
      "text/plain": [
       "['Leadership',\n",
       " 'Creativity',\n",
       " 'Teamwork',\n",
       " 'Communication',\n",
       " 'Trust',\n",
       " 'Respect',\n",
       " 'Performance',\n",
       " 'Leadership+Creativity',\n",
       " 'Leadership+Teamwork',\n",
       " 'Leadership+Communication',\n",
       " 'Leadership+Trust',\n",
       " 'Leadership+Respect',\n",
       " 'Leadership+Performance',\n",
       " 'Creativity+Teamwork',\n",
       " 'Creativity+Communication',\n",
       " 'Creativity+Trust',\n",
       " 'Creativity+Respect',\n",
       " 'Creativity+Performance',\n",
       " 'Teamwork+Communication',\n",
       " 'Teamwork+Trust',\n",
       " 'Teamwork+Respect',\n",
       " 'Teamwork+Performance',\n",
       " 'Communication+Trust',\n",
       " 'Communication+Respect',\n",
       " 'Communication+Performance',\n",
       " 'Trust+Respect',\n",
       " 'Trust+Performance',\n",
       " 'Respect+Performance']"
      ]
     },
     "execution_count": 138,
     "metadata": {},
     "output_type": "execute_result"
    }
   ],
   "source": [
    "skills_list"
   ]
  },
  {
   "cell_type": "markdown",
   "id": "625ad258",
   "metadata": {},
   "source": [
    "# "
   ]
  },
  {
   "cell_type": "markdown",
   "id": "ac75f79e",
   "metadata": {},
   "source": [
    "# "
   ]
  },
  {
   "cell_type": "markdown",
   "id": "d278a0a3",
   "metadata": {},
   "source": [
    "# Coursera:"
   ]
  },
  {
   "cell_type": "markdown",
   "id": "c741bb46",
   "metadata": {},
   "source": [
    "# "
   ]
  },
  {
   "cell_type": "code",
   "execution_count": 139,
   "id": "d3e40050",
   "metadata": {
    "scrolled": false
   },
   "outputs": [
    {
     "name": "stderr",
     "output_type": "stream",
     "text": [
      "\r",
      "  0%|                                                                                           | 0/28 [00:00<?, ?it/s]"
     ]
    },
    {
     "name": "stdout",
     "output_type": "stream",
     "text": [
      "_________________Leadership_____________\n"
     ]
    },
    {
     "name": "stderr",
     "output_type": "stream",
     "text": [
      "\r",
      "  4%|██▉                                                                                | 1/28 [00:28<12:49, 28.51s/it]"
     ]
    },
    {
     "name": "stdout",
     "output_type": "stream",
     "text": [
      "_________________Creativity_____________\n"
     ]
    },
    {
     "name": "stderr",
     "output_type": "stream",
     "text": [
      "\r",
      "  7%|█████▉                                                                             | 2/28 [00:43<08:58, 20.73s/it]"
     ]
    },
    {
     "name": "stdout",
     "output_type": "stream",
     "text": [
      "_________________Teamwork_____________\n"
     ]
    },
    {
     "name": "stderr",
     "output_type": "stream",
     "text": [
      "\r",
      " 11%|████████▉                                                                          | 3/28 [01:41<15:42, 37.69s/it]"
     ]
    },
    {
     "name": "stdout",
     "output_type": "stream",
     "text": [
      "_________________Communication_____________\n"
     ]
    },
    {
     "name": "stderr",
     "output_type": "stream",
     "text": [
      "\r",
      " 14%|███████████▊                                                                       | 4/28 [02:10<13:39, 34.14s/it]"
     ]
    },
    {
     "name": "stdout",
     "output_type": "stream",
     "text": [
      "_________________Trust_____________\n"
     ]
    },
    {
     "name": "stderr",
     "output_type": "stream",
     "text": [
      "\r",
      " 18%|██████████████▊                                                                    | 5/28 [02:25<10:28, 27.34s/it]"
     ]
    },
    {
     "name": "stdout",
     "output_type": "stream",
     "text": [
      "_________________Respect_____________\n"
     ]
    },
    {
     "name": "stderr",
     "output_type": "stream",
     "text": [
      "\r",
      " 21%|█████████████████▊                                                                 | 6/28 [02:54<10:13, 27.89s/it]"
     ]
    },
    {
     "name": "stdout",
     "output_type": "stream",
     "text": [
      "_________________Performance_____________\n"
     ]
    },
    {
     "name": "stderr",
     "output_type": "stream",
     "text": [
      "\r",
      " 25%|████████████████████▊                                                              | 7/28 [03:37<11:28, 32.81s/it]"
     ]
    },
    {
     "name": "stdout",
     "output_type": "stream",
     "text": [
      "_________________Leadership+Creativity_____________\n"
     ]
    },
    {
     "name": "stderr",
     "output_type": "stream",
     "text": [
      "\r",
      " 29%|███████████████████████▋                                                           | 8/28 [04:39<14:00, 42.05s/it]"
     ]
    },
    {
     "name": "stdout",
     "output_type": "stream",
     "text": [
      "_________________Leadership+Teamwork_____________\n"
     ]
    },
    {
     "name": "stderr",
     "output_type": "stream",
     "text": [
      "\r",
      " 32%|██████████████████████████▋                                                        | 9/28 [05:08<12:05, 38.16s/it]"
     ]
    },
    {
     "name": "stdout",
     "output_type": "stream",
     "text": [
      "_________________Leadership+Communication_____________\n"
     ]
    },
    {
     "name": "stderr",
     "output_type": "stream",
     "text": [
      "\r",
      " 36%|█████████████████████████████▎                                                    | 10/28 [05:52<11:58, 39.93s/it]"
     ]
    },
    {
     "name": "stdout",
     "output_type": "stream",
     "text": [
      "_________________Leadership+Trust_____________\n"
     ]
    },
    {
     "name": "stderr",
     "output_type": "stream",
     "text": [
      "\r",
      " 39%|████████████████████████████████▏                                                 | 11/28 [06:45<12:25, 43.84s/it]"
     ]
    },
    {
     "name": "stdout",
     "output_type": "stream",
     "text": [
      "_________________Leadership+Respect_____________\n"
     ]
    },
    {
     "name": "stderr",
     "output_type": "stream",
     "text": [
      "\r",
      " 43%|███████████████████████████████████▏                                              | 12/28 [07:13<10:25, 39.07s/it]"
     ]
    },
    {
     "name": "stdout",
     "output_type": "stream",
     "text": [
      "_________________Leadership+Performance_____________\n"
     ]
    },
    {
     "name": "stderr",
     "output_type": "stream",
     "text": [
      "\r",
      " 46%|██████████████████████████████████████                                            | 13/28 [07:42<08:57, 35.84s/it]"
     ]
    },
    {
     "name": "stdout",
     "output_type": "stream",
     "text": [
      "_________________Creativity+Teamwork_____________\n"
     ]
    },
    {
     "name": "stderr",
     "output_type": "stream",
     "text": [
      "\r",
      " 50%|█████████████████████████████████████████                                         | 14/28 [07:52<06:35, 28.25s/it]"
     ]
    },
    {
     "name": "stdout",
     "output_type": "stream",
     "text": [
      "_________________Creativity+Communication_____________\n"
     ]
    },
    {
     "name": "stderr",
     "output_type": "stream",
     "text": [
      "\r",
      " 54%|███████████████████████████████████████████▉                                      | 15/28 [08:06<05:11, 23.94s/it]"
     ]
    },
    {
     "name": "stdout",
     "output_type": "stream",
     "text": [
      "_________________Creativity+Trust_____________\n"
     ]
    },
    {
     "name": "stderr",
     "output_type": "stream",
     "text": [
      "\r",
      " 57%|██████████████████████████████████████████████▊                                   | 16/28 [08:32<04:54, 24.58s/it]"
     ]
    },
    {
     "name": "stdout",
     "output_type": "stream",
     "text": [
      "_________________Creativity+Respect_____________\n"
     ]
    },
    {
     "name": "stderr",
     "output_type": "stream",
     "text": [
      "\r",
      " 61%|█████████████████████████████████████████████████▊                                | 17/28 [09:00<04:40, 25.47s/it]"
     ]
    },
    {
     "name": "stdout",
     "output_type": "stream",
     "text": [
      "_________________Creativity+Performance_____________\n"
     ]
    },
    {
     "name": "stderr",
     "output_type": "stream",
     "text": [
      "\r",
      " 64%|████████████████████████████████████████████████████▋                             | 18/28 [09:13<03:37, 21.78s/it]"
     ]
    },
    {
     "name": "stdout",
     "output_type": "stream",
     "text": [
      "_________________Teamwork+Communication_____________\n"
     ]
    },
    {
     "name": "stderr",
     "output_type": "stream",
     "text": [
      "\r",
      " 68%|███████████████████████████████████████████████████████▋                          | 19/28 [09:26<02:51, 19.10s/it]"
     ]
    },
    {
     "name": "stdout",
     "output_type": "stream",
     "text": [
      "_________________Teamwork+Trust_____________\n"
     ]
    },
    {
     "name": "stderr",
     "output_type": "stream",
     "text": [
      "\r",
      " 71%|██████████████████████████████████████████████████████████▌                       | 20/28 [09:38<02:15, 16.88s/it]"
     ]
    },
    {
     "name": "stdout",
     "output_type": "stream",
     "text": [
      "_________________Teamwork+Respect_____________\n"
     ]
    },
    {
     "name": "stderr",
     "output_type": "stream",
     "text": [
      "\r",
      " 75%|█████████████████████████████████████████████████████████████▌                    | 21/28 [09:54<01:57, 16.75s/it]"
     ]
    },
    {
     "name": "stdout",
     "output_type": "stream",
     "text": [
      "_________________Teamwork+Performance_____________\n"
     ]
    },
    {
     "name": "stderr",
     "output_type": "stream",
     "text": [
      "\r",
      " 79%|████████████████████████████████████████████████████████████████▍                 | 22/28 [10:07<01:34, 15.71s/it]"
     ]
    },
    {
     "name": "stdout",
     "output_type": "stream",
     "text": [
      "_________________Communication+Trust_____________\n"
     ]
    },
    {
     "name": "stderr",
     "output_type": "stream",
     "text": [
      "\r",
      " 82%|███████████████████████████████████████████████████████████████████▎              | 23/28 [10:20<01:13, 14.72s/it]"
     ]
    },
    {
     "name": "stdout",
     "output_type": "stream",
     "text": [
      "_________________Communication+Respect_____________\n"
     ]
    },
    {
     "name": "stderr",
     "output_type": "stream",
     "text": [
      "\r",
      " 86%|██████████████████████████████████████████████████████████████████████▎           | 24/28 [10:34<00:58, 14.58s/it]"
     ]
    },
    {
     "name": "stdout",
     "output_type": "stream",
     "text": [
      "_________________Communication+Performance_____________\n"
     ]
    },
    {
     "name": "stderr",
     "output_type": "stream",
     "text": [
      "\r",
      " 89%|█████████████████████████████████████████████████████████████████████████▏        | 25/28 [10:49<00:43, 14.54s/it]"
     ]
    },
    {
     "name": "stdout",
     "output_type": "stream",
     "text": [
      "_________________Trust+Respect_____________\n"
     ]
    },
    {
     "name": "stderr",
     "output_type": "stream",
     "text": [
      "\r",
      " 93%|████████████████████████████████████████████████████████████████████████████▏     | 26/28 [11:01<00:27, 13.92s/it]"
     ]
    },
    {
     "name": "stdout",
     "output_type": "stream",
     "text": [
      "_________________Trust+Performance_____________\n"
     ]
    },
    {
     "name": "stderr",
     "output_type": "stream",
     "text": [
      "\r",
      " 96%|███████████████████████████████████████████████████████████████████████████████   | 27/28 [11:14<00:13, 13.55s/it]"
     ]
    },
    {
     "name": "stdout",
     "output_type": "stream",
     "text": [
      "_________________Respect+Performance_____________\n"
     ]
    },
    {
     "name": "stderr",
     "output_type": "stream",
     "text": [
      "100%|██████████████████████████████████████████████████████████████████████████████████| 28/28 [11:25<00:00, 24.48s/it]\n",
      "  0%|                                                                                           | 0/28 [00:00<?, ?it/s]"
     ]
    },
    {
     "name": "stdout",
     "output_type": "stream",
     "text": [
      "_________________Leadership_____________\n"
     ]
    },
    {
     "name": "stderr",
     "output_type": "stream",
     "text": [
      "\r",
      "  4%|██▉                                                                                | 1/28 [00:16<07:25, 16.48s/it]"
     ]
    },
    {
     "name": "stdout",
     "output_type": "stream",
     "text": [
      "_________________Creativity_____________\n"
     ]
    },
    {
     "name": "stderr",
     "output_type": "stream",
     "text": [
      "\r",
      "  7%|█████▉                                                                             | 2/28 [00:33<07:19, 16.89s/it]"
     ]
    },
    {
     "name": "stdout",
     "output_type": "stream",
     "text": [
      "_________________Teamwork_____________\n"
     ]
    },
    {
     "name": "stderr",
     "output_type": "stream",
     "text": [
      "\r",
      " 11%|████████▉                                                                          | 3/28 [00:48<06:39, 15.96s/it]"
     ]
    },
    {
     "name": "stdout",
     "output_type": "stream",
     "text": [
      "_________________Communication_____________\n"
     ]
    },
    {
     "name": "stderr",
     "output_type": "stream",
     "text": [
      "\r",
      " 14%|███████████▊                                                                       | 4/28 [01:05<06:33, 16.40s/it]"
     ]
    },
    {
     "name": "stdout",
     "output_type": "stream",
     "text": [
      "_________________Trust_____________\n"
     ]
    },
    {
     "name": "stderr",
     "output_type": "stream",
     "text": [
      "\r",
      " 18%|██████████████▊                                                                    | 5/28 [01:24<06:36, 17.25s/it]"
     ]
    },
    {
     "name": "stdout",
     "output_type": "stream",
     "text": [
      "_________________Respect_____________\n"
     ]
    },
    {
     "name": "stderr",
     "output_type": "stream",
     "text": [
      "\r",
      " 21%|█████████████████▊                                                                 | 6/28 [01:39<06:05, 16.64s/it]"
     ]
    },
    {
     "name": "stdout",
     "output_type": "stream",
     "text": [
      "_________________Performance_____________\n"
     ]
    },
    {
     "name": "stderr",
     "output_type": "stream",
     "text": [
      "\r",
      " 25%|████████████████████▊                                                              | 7/28 [01:56<05:52, 16.76s/it]"
     ]
    },
    {
     "name": "stdout",
     "output_type": "stream",
     "text": [
      "_________________Leadership+Creativity_____________\n"
     ]
    },
    {
     "name": "stderr",
     "output_type": "stream",
     "text": [
      "\r",
      " 29%|███████████████████████▋                                                           | 8/28 [02:11<05:19, 15.97s/it]"
     ]
    },
    {
     "name": "stdout",
     "output_type": "stream",
     "text": [
      "_________________Leadership+Teamwork_____________\n"
     ]
    },
    {
     "name": "stderr",
     "output_type": "stream",
     "text": [
      "\r",
      " 32%|██████████████████████████▋                                                        | 9/28 [02:28<05:09, 16.30s/it]"
     ]
    },
    {
     "name": "stdout",
     "output_type": "stream",
     "text": [
      "_________________Leadership+Communication_____________\n"
     ]
    },
    {
     "name": "stderr",
     "output_type": "stream",
     "text": [
      "\r",
      " 36%|█████████████████████████████▎                                                    | 10/28 [02:47<05:08, 17.13s/it]"
     ]
    },
    {
     "name": "stdout",
     "output_type": "stream",
     "text": [
      "_________________Leadership+Trust_____________\n"
     ]
    },
    {
     "name": "stderr",
     "output_type": "stream",
     "text": [
      "\r",
      " 39%|████████████████████████████████▏                                                 | 11/28 [03:01<04:37, 16.33s/it]"
     ]
    },
    {
     "name": "stdout",
     "output_type": "stream",
     "text": [
      "_________________Leadership+Respect_____________\n"
     ]
    },
    {
     "name": "stderr",
     "output_type": "stream",
     "text": [
      "\r",
      " 43%|███████████████████████████████████▏                                              | 12/28 [03:15<04:10, 15.64s/it]"
     ]
    },
    {
     "name": "stdout",
     "output_type": "stream",
     "text": [
      "_________________Leadership+Performance_____________\n"
     ]
    },
    {
     "name": "stderr",
     "output_type": "stream",
     "text": [
      "\r",
      " 46%|██████████████████████████████████████                                            | 13/28 [03:30<03:48, 15.25s/it]"
     ]
    },
    {
     "name": "stdout",
     "output_type": "stream",
     "text": [
      "_________________Creativity+Teamwork_____________\n"
     ]
    },
    {
     "name": "stderr",
     "output_type": "stream",
     "text": [
      "\r",
      " 50%|█████████████████████████████████████████                                         | 14/28 [03:42<03:21, 14.41s/it]"
     ]
    },
    {
     "name": "stdout",
     "output_type": "stream",
     "text": [
      "_________________Creativity+Communication_____________\n"
     ]
    },
    {
     "name": "stderr",
     "output_type": "stream",
     "text": [
      "\r",
      " 54%|███████████████████████████████████████████▉                                      | 15/28 [03:56<03:05, 14.25s/it]"
     ]
    },
    {
     "name": "stdout",
     "output_type": "stream",
     "text": [
      "_________________Creativity+Trust_____________\n"
     ]
    },
    {
     "name": "stderr",
     "output_type": "stream",
     "text": [
      "\r",
      " 57%|██████████████████████████████████████████████▊                                   | 16/28 [04:09<02:46, 13.85s/it]"
     ]
    },
    {
     "name": "stdout",
     "output_type": "stream",
     "text": [
      "_________________Creativity+Respect_____________\n"
     ]
    },
    {
     "name": "stderr",
     "output_type": "stream",
     "text": [
      "\r",
      " 61%|█████████████████████████████████████████████████▊                                | 17/28 [04:20<02:24, 13.16s/it]"
     ]
    },
    {
     "name": "stdout",
     "output_type": "stream",
     "text": [
      "_________________Creativity+Performance_____________\n"
     ]
    },
    {
     "name": "stderr",
     "output_type": "stream",
     "text": [
      "\r",
      " 64%|████████████████████████████████████████████████████▋                             | 18/28 [04:36<02:17, 13.78s/it]"
     ]
    },
    {
     "name": "stdout",
     "output_type": "stream",
     "text": [
      "_________________Teamwork+Communication_____________\n"
     ]
    },
    {
     "name": "stderr",
     "output_type": "stream",
     "text": [
      "\r",
      " 68%|███████████████████████████████████████████████████████▋                          | 19/28 [04:51<02:08, 14.32s/it]"
     ]
    },
    {
     "name": "stdout",
     "output_type": "stream",
     "text": [
      "_________________Teamwork+Trust_____________\n"
     ]
    },
    {
     "name": "stderr",
     "output_type": "stream",
     "text": [
      "\r",
      " 71%|██████████████████████████████████████████████████████████▌                       | 20/28 [05:02<01:47, 13.43s/it]"
     ]
    },
    {
     "name": "stdout",
     "output_type": "stream",
     "text": [
      "_________________Teamwork+Respect_____________\n"
     ]
    },
    {
     "name": "stderr",
     "output_type": "stream",
     "text": [
      "\r",
      " 75%|█████████████████████████████████████████████████████████████▌                    | 21/28 [05:21<01:43, 14.85s/it]"
     ]
    },
    {
     "name": "stdout",
     "output_type": "stream",
     "text": [
      "_________________Teamwork+Performance_____________\n"
     ]
    },
    {
     "name": "stderr",
     "output_type": "stream",
     "text": [
      "\r",
      " 79%|████████████████████████████████████████████████████████████████▍                 | 22/28 [05:34<01:25, 14.28s/it]"
     ]
    },
    {
     "name": "stdout",
     "output_type": "stream",
     "text": [
      "_________________Communication+Trust_____________\n"
     ]
    },
    {
     "name": "stderr",
     "output_type": "stream",
     "text": [
      "\r",
      " 82%|███████████████████████████████████████████████████████████████████▎              | 23/28 [05:47<01:10, 14.12s/it]"
     ]
    },
    {
     "name": "stdout",
     "output_type": "stream",
     "text": [
      "_________________Communication+Respect_____________\n"
     ]
    },
    {
     "name": "stderr",
     "output_type": "stream",
     "text": [
      "\r",
      " 86%|██████████████████████████████████████████████████████████████████████▎           | 24/28 [06:20<01:19, 19.78s/it]"
     ]
    },
    {
     "name": "stdout",
     "output_type": "stream",
     "text": [
      "_________________Communication+Performance_____________\n"
     ]
    },
    {
     "name": "stderr",
     "output_type": "stream",
     "text": [
      "\r",
      " 89%|█████████████████████████████████████████████████████████████████████████▏        | 25/28 [06:34<00:53, 18.00s/it]"
     ]
    },
    {
     "name": "stdout",
     "output_type": "stream",
     "text": [
      "_________________Trust+Respect_____________\n"
     ]
    },
    {
     "name": "stderr",
     "output_type": "stream",
     "text": [
      "\r",
      " 93%|████████████████████████████████████████████████████████████████████████████▏     | 26/28 [06:45<00:31, 15.83s/it]"
     ]
    },
    {
     "name": "stdout",
     "output_type": "stream",
     "text": [
      "_________________Trust+Performance_____________\n"
     ]
    },
    {
     "name": "stderr",
     "output_type": "stream",
     "text": [
      "\r",
      " 96%|███████████████████████████████████████████████████████████████████████████████   | 27/28 [06:57<00:14, 14.68s/it]"
     ]
    },
    {
     "name": "stdout",
     "output_type": "stream",
     "text": [
      "_________________Respect+Performance_____________\n"
     ]
    },
    {
     "name": "stderr",
     "output_type": "stream",
     "text": [
      "100%|██████████████████████████████████████████████████████████████████████████████████| 28/28 [07:08<00:00, 15.31s/it]\n",
      "  0%|                                                                                           | 0/28 [00:00<?, ?it/s]"
     ]
    },
    {
     "name": "stdout",
     "output_type": "stream",
     "text": [
      "_________________Leadership_____________\n"
     ]
    },
    {
     "name": "stderr",
     "output_type": "stream",
     "text": [
      "\r",
      "  4%|██▉                                                                                | 1/28 [00:16<07:18, 16.25s/it]"
     ]
    },
    {
     "name": "stdout",
     "output_type": "stream",
     "text": [
      "_________________Creativity_____________\n"
     ]
    },
    {
     "name": "stderr",
     "output_type": "stream",
     "text": [
      "\r",
      "  7%|█████▉                                                                             | 2/28 [01:01<14:30, 33.47s/it]"
     ]
    },
    {
     "name": "stdout",
     "output_type": "stream",
     "text": [
      "_________________Teamwork_____________\n"
     ]
    },
    {
     "name": "stderr",
     "output_type": "stream",
     "text": [
      "\r",
      " 11%|████████▉                                                                          | 3/28 [01:29<12:50, 30.83s/it]"
     ]
    },
    {
     "name": "stdout",
     "output_type": "stream",
     "text": [
      "_________________Communication_____________\n"
     ]
    },
    {
     "name": "stderr",
     "output_type": "stream",
     "text": [
      "\r",
      " 14%|███████████▊                                                                       | 4/28 [01:43<09:45, 24.38s/it]"
     ]
    },
    {
     "name": "stdout",
     "output_type": "stream",
     "text": [
      "_________________Trust_____________\n"
     ]
    },
    {
     "name": "stderr",
     "output_type": "stream",
     "text": [
      "\r",
      " 18%|██████████████▊                                                                    | 5/28 [02:00<08:13, 21.46s/it]"
     ]
    },
    {
     "name": "stdout",
     "output_type": "stream",
     "text": [
      "_________________Respect_____________\n"
     ]
    },
    {
     "name": "stderr",
     "output_type": "stream",
     "text": [
      "\r",
      " 21%|█████████████████▊                                                                 | 6/28 [02:14<07:01, 19.14s/it]"
     ]
    },
    {
     "name": "stdout",
     "output_type": "stream",
     "text": [
      "_________________Performance_____________\n"
     ]
    },
    {
     "name": "stderr",
     "output_type": "stream",
     "text": [
      "\r",
      " 25%|████████████████████▊                                                              | 7/28 [02:29<06:12, 17.73s/it]"
     ]
    },
    {
     "name": "stdout",
     "output_type": "stream",
     "text": [
      "_________________Leadership+Creativity_____________\n"
     ]
    },
    {
     "name": "stderr",
     "output_type": "stream",
     "text": [
      "\r",
      " 29%|███████████████████████▋                                                           | 8/28 [02:45<05:40, 17.02s/it]"
     ]
    },
    {
     "name": "stdout",
     "output_type": "stream",
     "text": [
      "_________________Leadership+Teamwork_____________\n"
     ]
    },
    {
     "name": "stderr",
     "output_type": "stream",
     "text": [
      "\r",
      " 32%|██████████████████████████▋                                                        | 9/28 [03:01<05:18, 16.78s/it]"
     ]
    },
    {
     "name": "stdout",
     "output_type": "stream",
     "text": [
      "_________________Leadership+Communication_____________\n"
     ]
    },
    {
     "name": "stderr",
     "output_type": "stream",
     "text": [
      "\r",
      " 36%|█████████████████████████████▎                                                    | 10/28 [03:17<04:59, 16.61s/it]"
     ]
    },
    {
     "name": "stdout",
     "output_type": "stream",
     "text": [
      "_________________Leadership+Trust_____________\n"
     ]
    },
    {
     "name": "stderr",
     "output_type": "stream",
     "text": [
      "\r",
      " 39%|████████████████████████████████▏                                                 | 11/28 [03:31<04:28, 15.79s/it]"
     ]
    },
    {
     "name": "stdout",
     "output_type": "stream",
     "text": [
      "_________________Leadership+Respect_____________\n"
     ]
    },
    {
     "name": "stderr",
     "output_type": "stream",
     "text": [
      "\r",
      " 43%|███████████████████████████████████▏                                              | 12/28 [03:45<04:03, 15.24s/it]"
     ]
    },
    {
     "name": "stdout",
     "output_type": "stream",
     "text": [
      "_________________Leadership+Performance_____________\n"
     ]
    },
    {
     "name": "stderr",
     "output_type": "stream",
     "text": [
      "\r",
      " 46%|██████████████████████████████████████                                            | 13/28 [04:00<03:46, 15.13s/it]"
     ]
    },
    {
     "name": "stdout",
     "output_type": "stream",
     "text": [
      "_________________Creativity+Teamwork_____________\n"
     ]
    },
    {
     "name": "stderr",
     "output_type": "stream",
     "text": [
      "\r",
      " 50%|█████████████████████████████████████████                                         | 14/28 [04:11<03:13, 13.84s/it]"
     ]
    },
    {
     "name": "stdout",
     "output_type": "stream",
     "text": [
      "_________________Creativity+Communication_____________\n"
     ]
    },
    {
     "name": "stderr",
     "output_type": "stream",
     "text": [
      "\r",
      " 54%|███████████████████████████████████████████▉                                      | 15/28 [04:25<03:00, 13.85s/it]"
     ]
    },
    {
     "name": "stdout",
     "output_type": "stream",
     "text": [
      "_________________Creativity+Trust_____________\n"
     ]
    },
    {
     "name": "stderr",
     "output_type": "stream",
     "text": [
      "\r",
      " 57%|██████████████████████████████████████████████▊                                   | 16/28 [04:39<02:46, 13.91s/it]"
     ]
    },
    {
     "name": "stdout",
     "output_type": "stream",
     "text": [
      "_________________Creativity+Respect_____________\n"
     ]
    },
    {
     "name": "stderr",
     "output_type": "stream",
     "text": [
      "\r",
      " 61%|█████████████████████████████████████████████████▊                                | 17/28 [04:51<02:27, 13.45s/it]"
     ]
    },
    {
     "name": "stdout",
     "output_type": "stream",
     "text": [
      "_________________Creativity+Performance_____________\n"
     ]
    },
    {
     "name": "stderr",
     "output_type": "stream",
     "text": [
      "\r",
      " 64%|████████████████████████████████████████████████████▋                             | 18/28 [05:07<02:21, 14.15s/it]"
     ]
    },
    {
     "name": "stdout",
     "output_type": "stream",
     "text": [
      "_________________Teamwork+Communication_____________\n"
     ]
    },
    {
     "name": "stderr",
     "output_type": "stream",
     "text": [
      "\r",
      " 68%|███████████████████████████████████████████████████████▋                          | 19/28 [05:21<02:05, 13.98s/it]"
     ]
    },
    {
     "name": "stdout",
     "output_type": "stream",
     "text": [
      "_________________Teamwork+Trust_____________\n"
     ]
    },
    {
     "name": "stderr",
     "output_type": "stream",
     "text": [
      "\r",
      " 71%|██████████████████████████████████████████████████████████▌                       | 20/28 [05:33<01:47, 13.45s/it]"
     ]
    },
    {
     "name": "stdout",
     "output_type": "stream",
     "text": [
      "_________________Teamwork+Respect_____________\n"
     ]
    },
    {
     "name": "stderr",
     "output_type": "stream",
     "text": [
      "\r",
      " 75%|█████████████████████████████████████████████████████████████▌                    | 21/28 [05:49<01:39, 14.27s/it]"
     ]
    },
    {
     "name": "stdout",
     "output_type": "stream",
     "text": [
      "_________________Teamwork+Performance_____________\n"
     ]
    },
    {
     "name": "stderr",
     "output_type": "stream",
     "text": [
      "\r",
      " 79%|████████████████████████████████████████████████████████████████▍                 | 22/28 [06:01<01:22, 13.73s/it]"
     ]
    },
    {
     "name": "stdout",
     "output_type": "stream",
     "text": [
      "_________________Communication+Trust_____________\n"
     ]
    },
    {
     "name": "stderr",
     "output_type": "stream",
     "text": [
      "\r",
      " 82%|███████████████████████████████████████████████████████████████████▎              | 23/28 [06:15<01:07, 13.55s/it]"
     ]
    },
    {
     "name": "stdout",
     "output_type": "stream",
     "text": [
      "_________________Communication+Respect_____________\n"
     ]
    },
    {
     "name": "stderr",
     "output_type": "stream",
     "text": [
      "\r",
      " 86%|██████████████████████████████████████████████████████████████████████▎           | 24/28 [06:28<00:53, 13.44s/it]"
     ]
    },
    {
     "name": "stdout",
     "output_type": "stream",
     "text": [
      "_________________Communication+Performance_____________\n"
     ]
    },
    {
     "name": "stderr",
     "output_type": "stream",
     "text": [
      "\r",
      " 89%|█████████████████████████████████████████████████████████████████████████▏        | 25/28 [06:43<00:41, 13.88s/it]"
     ]
    },
    {
     "name": "stdout",
     "output_type": "stream",
     "text": [
      "_________________Trust+Respect_____________\n"
     ]
    },
    {
     "name": "stderr",
     "output_type": "stream",
     "text": [
      "\r",
      " 93%|████████████████████████████████████████████████████████████████████████████▏     | 26/28 [06:54<00:26, 13.12s/it]"
     ]
    },
    {
     "name": "stdout",
     "output_type": "stream",
     "text": [
      "_________________Trust+Performance_____________\n"
     ]
    },
    {
     "name": "stderr",
     "output_type": "stream",
     "text": [
      "\r",
      " 96%|███████████████████████████████████████████████████████████████████████████████   | 27/28 [07:06<00:12, 12.87s/it]"
     ]
    },
    {
     "name": "stdout",
     "output_type": "stream",
     "text": [
      "_________________Respect+Performance_____________\n"
     ]
    },
    {
     "name": "stderr",
     "output_type": "stream",
     "text": [
      "100%|██████████████████████████████████████████████████████████████████████████████████| 28/28 [07:19<00:00, 15.71s/it]\n",
      "  0%|                                                                                           | 0/28 [00:00<?, ?it/s]"
     ]
    },
    {
     "name": "stdout",
     "output_type": "stream",
     "text": [
      "_________________Leadership_____________\n"
     ]
    },
    {
     "name": "stderr",
     "output_type": "stream",
     "text": [
      "\r",
      "  4%|██▉                                                                                | 1/28 [00:17<07:49, 17.37s/it]"
     ]
    },
    {
     "name": "stdout",
     "output_type": "stream",
     "text": [
      "_________________Creativity_____________\n"
     ]
    },
    {
     "name": "stderr",
     "output_type": "stream",
     "text": [
      "\r",
      "  7%|█████▉                                                                             | 2/28 [00:33<07:05, 16.38s/it]"
     ]
    },
    {
     "name": "stdout",
     "output_type": "stream",
     "text": [
      "_________________Teamwork_____________\n"
     ]
    },
    {
     "name": "stderr",
     "output_type": "stream",
     "text": [
      "\r",
      " 11%|████████▉                                                                          | 3/28 [00:46<06:14, 15.00s/it]"
     ]
    },
    {
     "name": "stdout",
     "output_type": "stream",
     "text": [
      "_________________Communication_____________\n"
     ]
    },
    {
     "name": "stderr",
     "output_type": "stream",
     "text": [
      "\r",
      " 14%|███████████▊                                                                       | 4/28 [01:01<06:00, 15.02s/it]"
     ]
    },
    {
     "name": "stdout",
     "output_type": "stream",
     "text": [
      "_________________Trust_____________\n"
     ]
    },
    {
     "name": "stderr",
     "output_type": "stream",
     "text": [
      "\r",
      " 18%|██████████████▊                                                                    | 5/28 [01:17<05:57, 15.54s/it]"
     ]
    },
    {
     "name": "stdout",
     "output_type": "stream",
     "text": [
      "_________________Respect_____________\n"
     ]
    },
    {
     "name": "stderr",
     "output_type": "stream",
     "text": [
      "\r",
      " 21%|█████████████████▊                                                                 | 6/28 [01:31<05:27, 14.87s/it]"
     ]
    },
    {
     "name": "stdout",
     "output_type": "stream",
     "text": [
      "_________________Performance_____________\n"
     ]
    },
    {
     "name": "stderr",
     "output_type": "stream",
     "text": [
      "\r",
      " 25%|████████████████████▊                                                              | 7/28 [01:45<05:08, 14.69s/it]"
     ]
    },
    {
     "name": "stdout",
     "output_type": "stream",
     "text": [
      "_________________Leadership+Creativity_____________\n"
     ]
    },
    {
     "name": "stderr",
     "output_type": "stream",
     "text": [
      "\r",
      " 29%|███████████████████████▋                                                           | 8/28 [02:00<04:56, 14.85s/it]"
     ]
    },
    {
     "name": "stdout",
     "output_type": "stream",
     "text": [
      "_________________Leadership+Teamwork_____________\n"
     ]
    },
    {
     "name": "stderr",
     "output_type": "stream",
     "text": [
      "\r",
      " 32%|██████████████████████████▋                                                        | 9/28 [02:15<04:38, 14.65s/it]"
     ]
    },
    {
     "name": "stdout",
     "output_type": "stream",
     "text": [
      "_________________Leadership+Communication_____________\n"
     ]
    },
    {
     "name": "stderr",
     "output_type": "stream",
     "text": [
      "\r",
      " 36%|█████████████████████████████▎                                                    | 10/28 [02:33<04:43, 15.72s/it]"
     ]
    },
    {
     "name": "stdout",
     "output_type": "stream",
     "text": [
      "_________________Leadership+Trust_____________\n"
     ]
    },
    {
     "name": "stderr",
     "output_type": "stream",
     "text": [
      "\r",
      " 39%|████████████████████████████████▏                                                 | 11/28 [02:47<04:18, 15.23s/it]"
     ]
    },
    {
     "name": "stdout",
     "output_type": "stream",
     "text": [
      "_________________Leadership+Respect_____________\n"
     ]
    },
    {
     "name": "stderr",
     "output_type": "stream",
     "text": [
      "\r",
      " 43%|███████████████████████████████████▏                                              | 12/28 [03:00<03:50, 14.44s/it]"
     ]
    },
    {
     "name": "stdout",
     "output_type": "stream",
     "text": [
      "_________________Leadership+Performance_____________\n"
     ]
    },
    {
     "name": "stderr",
     "output_type": "stream",
     "text": [
      "\r",
      " 46%|██████████████████████████████████████                                            | 13/28 [03:16<03:44, 14.94s/it]"
     ]
    },
    {
     "name": "stdout",
     "output_type": "stream",
     "text": [
      "_________________Creativity+Teamwork_____________\n"
     ]
    },
    {
     "name": "stderr",
     "output_type": "stream",
     "text": [
      "\r",
      " 50%|█████████████████████████████████████████                                         | 14/28 [03:28<03:17, 14.12s/it]"
     ]
    },
    {
     "name": "stdout",
     "output_type": "stream",
     "text": [
      "_________________Creativity+Communication_____________\n"
     ]
    },
    {
     "name": "stderr",
     "output_type": "stream",
     "text": [
      "\r",
      " 54%|███████████████████████████████████████████▉                                      | 15/28 [03:41<03:00, 13.90s/it]"
     ]
    },
    {
     "name": "stdout",
     "output_type": "stream",
     "text": [
      "_________________Creativity+Trust_____________\n"
     ]
    },
    {
     "name": "stderr",
     "output_type": "stream",
     "text": [
      "\r",
      " 57%|██████████████████████████████████████████████▊                                   | 16/28 [03:53<02:37, 13.15s/it]"
     ]
    },
    {
     "name": "stdout",
     "output_type": "stream",
     "text": [
      "_________________Creativity+Respect_____________\n"
     ]
    },
    {
     "name": "stderr",
     "output_type": "stream",
     "text": [
      "\r",
      " 61%|█████████████████████████████████████████████████▊                                | 17/28 [04:06<02:24, 13.09s/it]"
     ]
    },
    {
     "name": "stdout",
     "output_type": "stream",
     "text": [
      "_________________Creativity+Performance_____________\n"
     ]
    },
    {
     "name": "stderr",
     "output_type": "stream",
     "text": [
      "\r",
      " 64%|████████████████████████████████████████████████████▋                             | 18/28 [04:19<02:10, 13.07s/it]"
     ]
    },
    {
     "name": "stdout",
     "output_type": "stream",
     "text": [
      "_________________Teamwork+Communication_____________\n"
     ]
    },
    {
     "name": "stderr",
     "output_type": "stream",
     "text": [
      "\r",
      " 68%|███████████████████████████████████████████████████████▋                          | 19/28 [04:32<01:57, 13.01s/it]"
     ]
    },
    {
     "name": "stdout",
     "output_type": "stream",
     "text": [
      "_________________Teamwork+Trust_____________\n"
     ]
    },
    {
     "name": "stderr",
     "output_type": "stream",
     "text": [
      "\r",
      " 71%|██████████████████████████████████████████████████████████▌                       | 20/28 [04:44<01:42, 12.83s/it]"
     ]
    },
    {
     "name": "stdout",
     "output_type": "stream",
     "text": [
      "_________________Teamwork+Respect_____________\n"
     ]
    },
    {
     "name": "stderr",
     "output_type": "stream",
     "text": [
      "\r",
      " 75%|█████████████████████████████████████████████████████████████▌                    | 21/28 [05:00<01:37, 13.89s/it]"
     ]
    },
    {
     "name": "stdout",
     "output_type": "stream",
     "text": [
      "_________________Teamwork+Performance_____________\n"
     ]
    },
    {
     "name": "stderr",
     "output_type": "stream",
     "text": [
      "\r",
      " 79%|████████████████████████████████████████████████████████████████▍                 | 22/28 [05:15<01:23, 14.00s/it]"
     ]
    },
    {
     "name": "stdout",
     "output_type": "stream",
     "text": [
      "_________________Communication+Trust_____________\n"
     ]
    },
    {
     "name": "stderr",
     "output_type": "stream",
     "text": [
      "\r",
      " 82%|███████████████████████████████████████████████████████████████████▎              | 23/28 [05:28<01:09, 13.89s/it]"
     ]
    },
    {
     "name": "stdout",
     "output_type": "stream",
     "text": [
      "_________________Communication+Respect_____________\n"
     ]
    },
    {
     "name": "stderr",
     "output_type": "stream",
     "text": [
      "\r",
      " 86%|██████████████████████████████████████████████████████████████████████▎           | 24/28 [05:40<00:53, 13.39s/it]"
     ]
    },
    {
     "name": "stdout",
     "output_type": "stream",
     "text": [
      "_________________Communication+Performance_____________\n"
     ]
    },
    {
     "name": "stderr",
     "output_type": "stream",
     "text": [
      "\r",
      " 89%|█████████████████████████████████████████████████████████████████████████▏        | 25/28 [05:53<00:39, 13.20s/it]"
     ]
    },
    {
     "name": "stdout",
     "output_type": "stream",
     "text": [
      "_________________Trust+Respect_____________\n"
     ]
    },
    {
     "name": "stderr",
     "output_type": "stream",
     "text": [
      "\r",
      " 93%|████████████████████████████████████████████████████████████████████████████▏     | 26/28 [06:05<00:25, 12.64s/it]"
     ]
    },
    {
     "name": "stdout",
     "output_type": "stream",
     "text": [
      "_________________Trust+Performance_____________\n"
     ]
    },
    {
     "name": "stderr",
     "output_type": "stream",
     "text": [
      "\r",
      " 96%|███████████████████████████████████████████████████████████████████████████████   | 27/28 [06:15<00:12, 12.12s/it]"
     ]
    },
    {
     "name": "stdout",
     "output_type": "stream",
     "text": [
      "_________________Respect+Performance_____________\n"
     ]
    },
    {
     "name": "stderr",
     "output_type": "stream",
     "text": [
      "100%|██████████████████████████████████████████████████████████████████████████████████| 28/28 [06:25<00:00, 13.78s/it]\n",
      "  0%|                                                                                           | 0/28 [00:00<?, ?it/s]"
     ]
    },
    {
     "name": "stdout",
     "output_type": "stream",
     "text": [
      "_________________Leadership_____________\n"
     ]
    },
    {
     "name": "stderr",
     "output_type": "stream",
     "text": [
      "\r",
      "  4%|██▉                                                                                | 1/28 [00:15<06:54, 15.36s/it]"
     ]
    },
    {
     "name": "stdout",
     "output_type": "stream",
     "text": [
      "_________________Creativity_____________\n"
     ]
    },
    {
     "name": "stderr",
     "output_type": "stream",
     "text": [
      "\r",
      "  7%|█████▉                                                                             | 2/28 [00:28<06:06, 14.08s/it]"
     ]
    },
    {
     "name": "stdout",
     "output_type": "stream",
     "text": [
      "_________________Teamwork_____________\n"
     ]
    },
    {
     "name": "stderr",
     "output_type": "stream",
     "text": [
      "\r",
      " 11%|████████▉                                                                          | 3/28 [00:43<06:00, 14.41s/it]"
     ]
    },
    {
     "name": "stdout",
     "output_type": "stream",
     "text": [
      "_________________Communication_____________\n"
     ]
    },
    {
     "name": "stderr",
     "output_type": "stream",
     "text": [
      "\r",
      " 14%|███████████▊                                                                       | 4/28 [00:57<05:39, 14.15s/it]"
     ]
    },
    {
     "name": "stdout",
     "output_type": "stream",
     "text": [
      "_________________Trust_____________\n"
     ]
    },
    {
     "name": "stderr",
     "output_type": "stream",
     "text": [
      "\r",
      " 18%|██████████████▊                                                                    | 5/28 [01:09<05:10, 13.51s/it]"
     ]
    },
    {
     "name": "stdout",
     "output_type": "stream",
     "text": [
      "_________________Respect_____________\n"
     ]
    },
    {
     "name": "stderr",
     "output_type": "stream",
     "text": [
      "\r",
      " 21%|█████████████████▊                                                                 | 6/28 [01:22<04:51, 13.26s/it]"
     ]
    },
    {
     "name": "stdout",
     "output_type": "stream",
     "text": [
      "_________________Performance_____________\n"
     ]
    },
    {
     "name": "stderr",
     "output_type": "stream",
     "text": [
      "\r",
      " 25%|████████████████████▊                                                              | 7/28 [01:36<04:48, 13.72s/it]"
     ]
    },
    {
     "name": "stdout",
     "output_type": "stream",
     "text": [
      "_________________Leadership+Creativity_____________\n"
     ]
    },
    {
     "name": "stderr",
     "output_type": "stream",
     "text": [
      "\r",
      " 29%|███████████████████████▋                                                           | 8/28 [01:50<04:31, 13.58s/it]"
     ]
    },
    {
     "name": "stdout",
     "output_type": "stream",
     "text": [
      "_________________Leadership+Teamwork_____________\n"
     ]
    },
    {
     "name": "stderr",
     "output_type": "stream",
     "text": [
      "\r",
      " 32%|██████████████████████████▋                                                        | 9/28 [02:06<04:32, 14.34s/it]"
     ]
    },
    {
     "name": "stdout",
     "output_type": "stream",
     "text": [
      "_________________Leadership+Communication_____________\n"
     ]
    },
    {
     "name": "stderr",
     "output_type": "stream",
     "text": [
      "\r",
      " 36%|█████████████████████████████▎                                                    | 10/28 [02:19<04:14, 14.14s/it]"
     ]
    },
    {
     "name": "stdout",
     "output_type": "stream",
     "text": [
      "_________________Leadership+Trust_____________\n"
     ]
    },
    {
     "name": "stderr",
     "output_type": "stream",
     "text": [
      "\r",
      " 39%|████████████████████████████████▏                                                 | 11/28 [02:31<03:49, 13.50s/it]"
     ]
    },
    {
     "name": "stdout",
     "output_type": "stream",
     "text": [
      "_________________Leadership+Respect_____________\n"
     ]
    },
    {
     "name": "stderr",
     "output_type": "stream",
     "text": [
      "\r",
      " 43%|███████████████████████████████████▏                                              | 12/28 [02:46<03:40, 13.78s/it]"
     ]
    },
    {
     "name": "stdout",
     "output_type": "stream",
     "text": [
      "_________________Leadership+Performance_____________\n"
     ]
    },
    {
     "name": "stderr",
     "output_type": "stream",
     "text": [
      "\r",
      " 46%|██████████████████████████████████████                                            | 13/28 [03:00<03:30, 14.01s/it]"
     ]
    },
    {
     "name": "stdout",
     "output_type": "stream",
     "text": [
      "_________________Creativity+Teamwork_____________\n"
     ]
    },
    {
     "name": "stderr",
     "output_type": "stream",
     "text": [
      "\r",
      " 50%|█████████████████████████████████████████                                         | 14/28 [03:11<03:02, 13.01s/it]"
     ]
    },
    {
     "name": "stdout",
     "output_type": "stream",
     "text": [
      "_________________Creativity+Communication_____________\n"
     ]
    },
    {
     "name": "stderr",
     "output_type": "stream",
     "text": [
      "\r",
      " 54%|███████████████████████████████████████████▉                                      | 15/28 [03:24<02:47, 12.88s/it]"
     ]
    },
    {
     "name": "stdout",
     "output_type": "stream",
     "text": [
      "_________________Creativity+Trust_____________\n"
     ]
    },
    {
     "name": "stderr",
     "output_type": "stream",
     "text": [
      "\r",
      " 57%|██████████████████████████████████████████████▊                                   | 16/28 [03:34<02:26, 12.17s/it]"
     ]
    },
    {
     "name": "stdout",
     "output_type": "stream",
     "text": [
      "_________________Creativity+Respect_____________\n"
     ]
    },
    {
     "name": "stderr",
     "output_type": "stream",
     "text": [
      "\r",
      " 61%|█████████████████████████████████████████████████▊                                | 17/28 [03:46<02:11, 11.96s/it]"
     ]
    },
    {
     "name": "stdout",
     "output_type": "stream",
     "text": [
      "_________________Creativity+Performance_____________\n"
     ]
    },
    {
     "name": "stderr",
     "output_type": "stream",
     "text": [
      "\r",
      " 64%|████████████████████████████████████████████████████▋                             | 18/28 [03:58<01:59, 11.93s/it]"
     ]
    },
    {
     "name": "stdout",
     "output_type": "stream",
     "text": [
      "_________________Teamwork+Communication_____________\n"
     ]
    },
    {
     "name": "stderr",
     "output_type": "stream",
     "text": [
      "\r",
      " 68%|███████████████████████████████████████████████████████▋                          | 19/28 [04:09<01:47, 11.93s/it]"
     ]
    },
    {
     "name": "stdout",
     "output_type": "stream",
     "text": [
      "_________________Teamwork+Trust_____________\n"
     ]
    },
    {
     "name": "stderr",
     "output_type": "stream",
     "text": [
      "\r",
      " 71%|██████████████████████████████████████████████████████████▌                       | 20/28 [04:21<01:34, 11.85s/it]"
     ]
    },
    {
     "name": "stdout",
     "output_type": "stream",
     "text": [
      "_________________Teamwork+Respect_____________\n"
     ]
    },
    {
     "name": "stderr",
     "output_type": "stream",
     "text": [
      "\r",
      " 75%|█████████████████████████████████████████████████████████████▌                    | 21/28 [04:36<01:28, 12.61s/it]"
     ]
    },
    {
     "name": "stdout",
     "output_type": "stream",
     "text": [
      "_________________Teamwork+Performance_____________\n"
     ]
    },
    {
     "name": "stderr",
     "output_type": "stream",
     "text": [
      "\r",
      " 79%|████████████████████████████████████████████████████████████████▍                 | 22/28 [04:48<01:15, 12.57s/it]"
     ]
    },
    {
     "name": "stdout",
     "output_type": "stream",
     "text": [
      "_________________Communication+Trust_____________\n"
     ]
    },
    {
     "name": "stderr",
     "output_type": "stream",
     "text": [
      "\r",
      " 82%|███████████████████████████████████████████████████████████████████▎              | 23/28 [05:00<01:02, 12.50s/it]"
     ]
    },
    {
     "name": "stdout",
     "output_type": "stream",
     "text": [
      "_________________Communication+Respect_____________\n"
     ]
    },
    {
     "name": "stderr",
     "output_type": "stream",
     "text": [
      "\r",
      " 86%|██████████████████████████████████████████████████████████████████████▎           | 24/28 [05:13<00:49, 12.43s/it]"
     ]
    },
    {
     "name": "stdout",
     "output_type": "stream",
     "text": [
      "_________________Communication+Performance_____________\n"
     ]
    },
    {
     "name": "stderr",
     "output_type": "stream",
     "text": [
      "\r",
      " 89%|█████████████████████████████████████████████████████████████████████████▏        | 25/28 [05:25<00:37, 12.56s/it]"
     ]
    },
    {
     "name": "stdout",
     "output_type": "stream",
     "text": [
      "_________________Trust+Respect_____________\n"
     ]
    },
    {
     "name": "stderr",
     "output_type": "stream",
     "text": [
      "\r",
      " 93%|████████████████████████████████████████████████████████████████████████████▏     | 26/28 [05:36<00:24, 12.07s/it]"
     ]
    },
    {
     "name": "stdout",
     "output_type": "stream",
     "text": [
      "_________________Trust+Performance_____________\n"
     ]
    },
    {
     "name": "stderr",
     "output_type": "stream",
     "text": [
      "\r",
      " 96%|███████████████████████████████████████████████████████████████████████████████   | 27/28 [05:47<00:11, 11.53s/it]"
     ]
    },
    {
     "name": "stdout",
     "output_type": "stream",
     "text": [
      "_________________Respect+Performance_____________\n"
     ]
    },
    {
     "name": "stderr",
     "output_type": "stream",
     "text": [
      "100%|██████████████████████████████████████████████████████████████████████████████████| 28/28 [05:59<00:00, 12.84s/it]\n",
      "  0%|                                                                                           | 0/28 [00:00<?, ?it/s]"
     ]
    },
    {
     "name": "stdout",
     "output_type": "stream",
     "text": [
      "_________________Leadership_____________\n"
     ]
    },
    {
     "name": "stderr",
     "output_type": "stream",
     "text": [
      "\r",
      "  4%|██▉                                                                                | 1/28 [00:15<07:10, 15.93s/it]"
     ]
    },
    {
     "name": "stdout",
     "output_type": "stream",
     "text": [
      "_________________Creativity_____________\n"
     ]
    },
    {
     "name": "stderr",
     "output_type": "stream",
     "text": [
      "\r",
      "  7%|█████▉                                                                             | 2/28 [00:30<06:31, 15.06s/it]"
     ]
    },
    {
     "name": "stdout",
     "output_type": "stream",
     "text": [
      "_________________Teamwork_____________\n"
     ]
    },
    {
     "name": "stderr",
     "output_type": "stream",
     "text": [
      "\r",
      " 11%|████████▉                                                                          | 3/28 [00:44<06:02, 14.51s/it]"
     ]
    },
    {
     "name": "stdout",
     "output_type": "stream",
     "text": [
      "_________________Communication_____________\n"
     ]
    },
    {
     "name": "stderr",
     "output_type": "stream",
     "text": [
      "\r",
      " 14%|███████████▊                                                                       | 4/28 [00:59<05:50, 14.62s/it]"
     ]
    },
    {
     "name": "stdout",
     "output_type": "stream",
     "text": [
      "_________________Trust_____________\n"
     ]
    },
    {
     "name": "stderr",
     "output_type": "stream",
     "text": [
      "\r",
      " 18%|██████████████▊                                                                    | 5/28 [01:11<05:17, 13.82s/it]"
     ]
    },
    {
     "name": "stdout",
     "output_type": "stream",
     "text": [
      "_________________Respect_____________\n"
     ]
    },
    {
     "name": "stderr",
     "output_type": "stream",
     "text": [
      "\r",
      " 21%|█████████████████▊                                                                 | 6/28 [01:23<04:49, 13.18s/it]"
     ]
    },
    {
     "name": "stdout",
     "output_type": "stream",
     "text": [
      "_________________Performance_____________\n"
     ]
    },
    {
     "name": "stderr",
     "output_type": "stream",
     "text": [
      "\r",
      " 25%|████████████████████▊                                                              | 7/28 [01:35<04:32, 12.97s/it]"
     ]
    },
    {
     "name": "stdout",
     "output_type": "stream",
     "text": [
      "_________________Leadership+Creativity_____________\n"
     ]
    },
    {
     "name": "stderr",
     "output_type": "stream",
     "text": [
      "\r",
      " 29%|███████████████████████▋                                                           | 8/28 [01:50<04:30, 13.54s/it]"
     ]
    },
    {
     "name": "stdout",
     "output_type": "stream",
     "text": [
      "_________________Leadership+Teamwork_____________\n"
     ]
    },
    {
     "name": "stderr",
     "output_type": "stream",
     "text": [
      "\r",
      " 32%|██████████████████████████▋                                                        | 9/28 [02:06<04:28, 14.11s/it]"
     ]
    },
    {
     "name": "stdout",
     "output_type": "stream",
     "text": [
      "_________________Leadership+Communication_____________\n"
     ]
    },
    {
     "name": "stderr",
     "output_type": "stream",
     "text": [
      "\r",
      " 36%|█████████████████████████████▎                                                    | 10/28 [02:20<04:14, 14.15s/it]"
     ]
    },
    {
     "name": "stdout",
     "output_type": "stream",
     "text": [
      "_________________Leadership+Trust_____________\n"
     ]
    },
    {
     "name": "stderr",
     "output_type": "stream",
     "text": [
      "\r",
      " 39%|████████████████████████████████▏                                                 | 11/28 [02:33<03:56, 13.90s/it]"
     ]
    },
    {
     "name": "stdout",
     "output_type": "stream",
     "text": [
      "_________________Leadership+Respect_____________\n"
     ]
    },
    {
     "name": "stderr",
     "output_type": "stream",
     "text": [
      "\r",
      " 43%|███████████████████████████████████▏                                              | 12/28 [02:49<03:49, 14.37s/it]"
     ]
    },
    {
     "name": "stdout",
     "output_type": "stream",
     "text": [
      "_________________Leadership+Performance_____________\n"
     ]
    },
    {
     "name": "stderr",
     "output_type": "stream",
     "text": [
      "\r",
      " 46%|██████████████████████████████████████                                            | 13/28 [03:03<03:36, 14.44s/it]"
     ]
    },
    {
     "name": "stdout",
     "output_type": "stream",
     "text": [
      "_________________Creativity+Teamwork_____________\n"
     ]
    },
    {
     "name": "stderr",
     "output_type": "stream",
     "text": [
      "\r",
      " 50%|█████████████████████████████████████████                                         | 14/28 [03:17<03:17, 14.13s/it]"
     ]
    },
    {
     "name": "stdout",
     "output_type": "stream",
     "text": [
      "_________________Creativity+Communication_____________\n"
     ]
    },
    {
     "name": "stderr",
     "output_type": "stream",
     "text": [
      "\r",
      " 54%|███████████████████████████████████████████▉                                      | 15/28 [03:31<03:03, 14.13s/it]"
     ]
    },
    {
     "name": "stdout",
     "output_type": "stream",
     "text": [
      "_________________Creativity+Trust_____________\n"
     ]
    },
    {
     "name": "stderr",
     "output_type": "stream",
     "text": [
      "\r",
      " 57%|██████████████████████████████████████████████▊                                   | 16/28 [03:43<02:43, 13.62s/it]"
     ]
    },
    {
     "name": "stdout",
     "output_type": "stream",
     "text": [
      "_________________Creativity+Respect_____________\n"
     ]
    },
    {
     "name": "stderr",
     "output_type": "stream",
     "text": [
      "\r",
      " 61%|█████████████████████████████████████████████████▊                                | 17/28 [03:55<02:24, 13.11s/it]"
     ]
    },
    {
     "name": "stdout",
     "output_type": "stream",
     "text": [
      "_________________Creativity+Performance_____________\n"
     ]
    },
    {
     "name": "stderr",
     "output_type": "stream",
     "text": [
      "\r",
      " 64%|████████████████████████████████████████████████████▋                             | 18/28 [04:07<02:06, 12.67s/it]"
     ]
    },
    {
     "name": "stdout",
     "output_type": "stream",
     "text": [
      "_________________Teamwork+Communication_____________\n"
     ]
    },
    {
     "name": "stderr",
     "output_type": "stream",
     "text": [
      "\r",
      " 68%|███████████████████████████████████████████████████████▋                          | 19/28 [04:20<01:55, 12.78s/it]"
     ]
    },
    {
     "name": "stdout",
     "output_type": "stream",
     "text": [
      "_________________Teamwork+Trust_____________\n"
     ]
    },
    {
     "name": "stderr",
     "output_type": "stream",
     "text": [
      "\r",
      " 71%|██████████████████████████████████████████████████████████▌                       | 20/28 [04:31<01:38, 12.37s/it]"
     ]
    },
    {
     "name": "stdout",
     "output_type": "stream",
     "text": [
      "_________________Teamwork+Respect_____________\n"
     ]
    },
    {
     "name": "stderr",
     "output_type": "stream",
     "text": [
      "\r",
      " 75%|█████████████████████████████████████████████████████████████▌                    | 21/28 [04:47<01:34, 13.52s/it]"
     ]
    },
    {
     "name": "stdout",
     "output_type": "stream",
     "text": [
      "_________________Teamwork+Performance_____________\n"
     ]
    },
    {
     "name": "stderr",
     "output_type": "stream",
     "text": [
      "\r",
      " 79%|████████████████████████████████████████████████████████████████▍                 | 22/28 [05:03<01:25, 14.21s/it]"
     ]
    },
    {
     "name": "stdout",
     "output_type": "stream",
     "text": [
      "_________________Communication+Trust_____________\n"
     ]
    },
    {
     "name": "stderr",
     "output_type": "stream",
     "text": [
      "\r",
      " 82%|███████████████████████████████████████████████████████████████████▎              | 23/28 [05:15<01:07, 13.51s/it]"
     ]
    },
    {
     "name": "stdout",
     "output_type": "stream",
     "text": [
      "_________________Communication+Respect_____________\n"
     ]
    },
    {
     "name": "stderr",
     "output_type": "stream",
     "text": [
      "\r",
      " 86%|██████████████████████████████████████████████████████████████████████▎           | 24/28 [05:27<00:52, 13.03s/it]"
     ]
    },
    {
     "name": "stdout",
     "output_type": "stream",
     "text": [
      "_________________Communication+Performance_____________\n"
     ]
    },
    {
     "name": "stderr",
     "output_type": "stream",
     "text": [
      "\r",
      " 89%|█████████████████████████████████████████████████████████████████████████▏        | 25/28 [05:40<00:39, 13.01s/it]"
     ]
    },
    {
     "name": "stdout",
     "output_type": "stream",
     "text": [
      "_________________Trust+Respect_____________\n"
     ]
    },
    {
     "name": "stderr",
     "output_type": "stream",
     "text": [
      "\r",
      " 93%|████████████████████████████████████████████████████████████████████████████▏     | 26/28 [05:52<00:25, 12.62s/it]"
     ]
    },
    {
     "name": "stdout",
     "output_type": "stream",
     "text": [
      "_________________Trust+Performance_____________\n"
     ]
    },
    {
     "name": "stderr",
     "output_type": "stream",
     "text": [
      "\r",
      " 96%|███████████████████████████████████████████████████████████████████████████████   | 27/28 [06:04<00:12, 12.54s/it]"
     ]
    },
    {
     "name": "stdout",
     "output_type": "stream",
     "text": [
      "_________________Respect+Performance_____________\n"
     ]
    },
    {
     "name": "stderr",
     "output_type": "stream",
     "text": [
      "100%|██████████████████████████████████████████████████████████████████████████████████| 28/28 [06:15<00:00, 13.42s/it]\n",
      "  0%|                                                                                           | 0/28 [00:00<?, ?it/s]"
     ]
    },
    {
     "name": "stdout",
     "output_type": "stream",
     "text": [
      "_________________Leadership_____________\n"
     ]
    },
    {
     "name": "stderr",
     "output_type": "stream",
     "text": [
      "\r",
      "  4%|██▉                                                                                | 1/28 [00:14<06:30, 14.48s/it]"
     ]
    },
    {
     "name": "stdout",
     "output_type": "stream",
     "text": [
      "_________________Creativity_____________\n"
     ]
    },
    {
     "name": "stderr",
     "output_type": "stream",
     "text": [
      "\r",
      "  7%|█████▉                                                                             | 2/28 [00:27<05:47, 13.35s/it]"
     ]
    },
    {
     "name": "stdout",
     "output_type": "stream",
     "text": [
      "_________________Teamwork_____________\n"
     ]
    },
    {
     "name": "stderr",
     "output_type": "stream",
     "text": [
      "\r",
      " 11%|████████▉                                                                          | 3/28 [00:39<05:18, 12.75s/it]"
     ]
    },
    {
     "name": "stdout",
     "output_type": "stream",
     "text": [
      "_________________Communication_____________\n"
     ]
    },
    {
     "name": "stderr",
     "output_type": "stream",
     "text": [
      "\r",
      " 14%|███████████▊                                                                       | 4/28 [00:52<05:15, 13.14s/it]"
     ]
    },
    {
     "name": "stdout",
     "output_type": "stream",
     "text": [
      "_________________Trust_____________\n"
     ]
    },
    {
     "name": "stderr",
     "output_type": "stream",
     "text": [
      "\r",
      " 18%|██████████████▊                                                                    | 5/28 [01:05<04:56, 12.87s/it]"
     ]
    },
    {
     "name": "stdout",
     "output_type": "stream",
     "text": [
      "_________________Respect_____________\n"
     ]
    },
    {
     "name": "stderr",
     "output_type": "stream",
     "text": [
      "\r",
      " 21%|█████████████████▊                                                                 | 6/28 [01:16<04:34, 12.47s/it]"
     ]
    },
    {
     "name": "stdout",
     "output_type": "stream",
     "text": [
      "_________________Performance_____________\n"
     ]
    },
    {
     "name": "stderr",
     "output_type": "stream",
     "text": [
      "\r",
      " 25%|████████████████████▊                                                              | 7/28 [01:32<04:41, 13.42s/it]"
     ]
    },
    {
     "name": "stdout",
     "output_type": "stream",
     "text": [
      "_________________Leadership+Creativity_____________\n"
     ]
    },
    {
     "name": "stderr",
     "output_type": "stream",
     "text": [
      "\r",
      " 29%|███████████████████████▋                                                           | 8/28 [01:45<04:27, 13.36s/it]"
     ]
    },
    {
     "name": "stdout",
     "output_type": "stream",
     "text": [
      "_________________Leadership+Teamwork_____________\n"
     ]
    },
    {
     "name": "stderr",
     "output_type": "stream",
     "text": [
      "\r",
      " 32%|██████████████████████████▋                                                        | 9/28 [01:59<04:16, 13.51s/it]"
     ]
    },
    {
     "name": "stdout",
     "output_type": "stream",
     "text": [
      "_________________Leadership+Communication_____________\n"
     ]
    },
    {
     "name": "stderr",
     "output_type": "stream",
     "text": [
      "\r",
      " 36%|█████████████████████████████▎                                                    | 10/28 [02:14<04:14, 14.13s/it]"
     ]
    },
    {
     "name": "stdout",
     "output_type": "stream",
     "text": [
      "_________________Leadership+Trust_____________\n"
     ]
    },
    {
     "name": "stderr",
     "output_type": "stream",
     "text": [
      "\r",
      " 39%|████████████████████████████████▏                                                 | 11/28 [02:29<04:02, 14.28s/it]"
     ]
    },
    {
     "name": "stdout",
     "output_type": "stream",
     "text": [
      "_________________Leadership+Respect_____________\n"
     ]
    },
    {
     "name": "stderr",
     "output_type": "stream",
     "text": [
      "\r",
      " 43%|███████████████████████████████████▏                                              | 12/28 [02:43<03:48, 14.26s/it]"
     ]
    },
    {
     "name": "stdout",
     "output_type": "stream",
     "text": [
      "_________________Leadership+Performance_____________\n"
     ]
    },
    {
     "name": "stderr",
     "output_type": "stream",
     "text": [
      "\r",
      " 46%|██████████████████████████████████████                                            | 13/28 [02:57<03:33, 14.23s/it]"
     ]
    },
    {
     "name": "stdout",
     "output_type": "stream",
     "text": [
      "_________________Creativity+Teamwork_____________\n"
     ]
    },
    {
     "name": "stderr",
     "output_type": "stream",
     "text": [
      "\r",
      " 50%|█████████████████████████████████████████                                         | 14/28 [03:09<03:06, 13.32s/it]"
     ]
    },
    {
     "name": "stdout",
     "output_type": "stream",
     "text": [
      "_________________Creativity+Communication_____________\n"
     ]
    },
    {
     "name": "stderr",
     "output_type": "stream",
     "text": [
      "\r",
      " 54%|███████████████████████████████████████████▉                                      | 15/28 [03:23<02:58, 13.76s/it]"
     ]
    },
    {
     "name": "stdout",
     "output_type": "stream",
     "text": [
      "_________________Creativity+Trust_____________\n"
     ]
    },
    {
     "name": "stderr",
     "output_type": "stream",
     "text": [
      "\r",
      " 57%|██████████████████████████████████████████████▊                                   | 16/28 [04:04<04:21, 21.83s/it]"
     ]
    },
    {
     "name": "stdout",
     "output_type": "stream",
     "text": [
      "_________________Creativity+Respect_____________\n"
     ]
    },
    {
     "name": "stderr",
     "output_type": "stream",
     "text": [
      "\r",
      " 61%|█████████████████████████████████████████████████▊                                | 17/28 [04:15<03:23, 18.46s/it]"
     ]
    },
    {
     "name": "stdout",
     "output_type": "stream",
     "text": [
      "_________________Creativity+Performance_____________\n"
     ]
    },
    {
     "name": "stderr",
     "output_type": "stream",
     "text": [
      "\r",
      " 64%|████████████████████████████████████████████████████▋                             | 18/28 [04:41<03:29, 20.97s/it]"
     ]
    },
    {
     "name": "stdout",
     "output_type": "stream",
     "text": [
      "_________________Teamwork+Communication_____________\n"
     ]
    },
    {
     "name": "stderr",
     "output_type": "stream",
     "text": [
      "\r",
      " 68%|███████████████████████████████████████████████████████▋                          | 19/28 [05:27<04:14, 28.27s/it]"
     ]
    },
    {
     "name": "stdout",
     "output_type": "stream",
     "text": [
      "_________________Teamwork+Trust_____________\n"
     ]
    },
    {
     "name": "stderr",
     "output_type": "stream",
     "text": [
      "\r",
      " 71%|██████████████████████████████████████████████████████████▌                       | 20/28 [05:43<03:17, 24.66s/it]"
     ]
    },
    {
     "name": "stdout",
     "output_type": "stream",
     "text": [
      "_________________Teamwork+Respect_____________\n"
     ]
    },
    {
     "name": "stderr",
     "output_type": "stream",
     "text": [
      "\r",
      " 75%|█████████████████████████████████████████████████████████████▌                    | 21/28 [05:59<02:34, 22.10s/it]"
     ]
    },
    {
     "name": "stdout",
     "output_type": "stream",
     "text": [
      "_________________Teamwork+Performance_____________\n"
     ]
    },
    {
     "name": "stderr",
     "output_type": "stream",
     "text": [
      "\r",
      " 79%|████████████████████████████████████████████████████████████████▍                 | 22/28 [06:11<01:54, 19.15s/it]"
     ]
    },
    {
     "name": "stdout",
     "output_type": "stream",
     "text": [
      "_________________Communication+Trust_____________\n"
     ]
    },
    {
     "name": "stderr",
     "output_type": "stream",
     "text": [
      "\r",
      " 82%|███████████████████████████████████████████████████████████████████▎              | 23/28 [06:27<01:31, 18.22s/it]"
     ]
    },
    {
     "name": "stdout",
     "output_type": "stream",
     "text": [
      "_________________Communication+Respect_____________\n"
     ]
    },
    {
     "name": "stderr",
     "output_type": "stream",
     "text": [
      "\r",
      " 86%|██████████████████████████████████████████████████████████████████████▎           | 24/28 [06:40<01:06, 16.64s/it]"
     ]
    },
    {
     "name": "stdout",
     "output_type": "stream",
     "text": [
      "_________________Communication+Performance_____________\n"
     ]
    },
    {
     "name": "stderr",
     "output_type": "stream",
     "text": [
      "\r",
      " 89%|█████████████████████████████████████████████████████████████████████████▏        | 25/28 [06:53<00:46, 15.51s/it]"
     ]
    },
    {
     "name": "stdout",
     "output_type": "stream",
     "text": [
      "_________________Trust+Respect_____________\n"
     ]
    },
    {
     "name": "stderr",
     "output_type": "stream",
     "text": [
      "\r",
      " 93%|████████████████████████████████████████████████████████████████████████████▏     | 26/28 [07:03<00:27, 13.89s/it]"
     ]
    },
    {
     "name": "stdout",
     "output_type": "stream",
     "text": [
      "_________________Trust+Performance_____________\n"
     ]
    },
    {
     "name": "stderr",
     "output_type": "stream",
     "text": [
      "\r",
      " 96%|███████████████████████████████████████████████████████████████████████████████   | 27/28 [07:15<00:13, 13.11s/it]"
     ]
    },
    {
     "name": "stdout",
     "output_type": "stream",
     "text": [
      "_________________Respect+Performance_____________\n"
     ]
    },
    {
     "name": "stderr",
     "output_type": "stream",
     "text": [
      "100%|██████████████████████████████████████████████████████████████████████████████████| 28/28 [07:26<00:00, 15.94s/it]\n",
      "  0%|                                                                                           | 0/28 [00:00<?, ?it/s]"
     ]
    },
    {
     "name": "stdout",
     "output_type": "stream",
     "text": [
      "_________________Leadership_____________\n"
     ]
    },
    {
     "name": "stderr",
     "output_type": "stream",
     "text": [
      "\r",
      "  4%|██▉                                                                                | 1/28 [00:13<05:53, 13.08s/it]"
     ]
    },
    {
     "name": "stdout",
     "output_type": "stream",
     "text": [
      "_________________Creativity_____________\n"
     ]
    },
    {
     "name": "stderr",
     "output_type": "stream",
     "text": [
      "\r",
      "  7%|█████▉                                                                             | 2/28 [00:25<05:36, 12.96s/it]"
     ]
    },
    {
     "name": "stdout",
     "output_type": "stream",
     "text": [
      "_________________Teamwork_____________\n"
     ]
    },
    {
     "name": "stderr",
     "output_type": "stream",
     "text": [
      "\r",
      " 11%|████████▉                                                                          | 3/28 [00:38<05:22, 12.91s/it]"
     ]
    },
    {
     "name": "stdout",
     "output_type": "stream",
     "text": [
      "_________________Communication_____________\n"
     ]
    },
    {
     "name": "stderr",
     "output_type": "stream",
     "text": [
      "\r",
      " 14%|███████████▊                                                                       | 4/28 [00:54<05:34, 13.96s/it]"
     ]
    },
    {
     "name": "stdout",
     "output_type": "stream",
     "text": [
      "_________________Trust_____________\n"
     ]
    },
    {
     "name": "stderr",
     "output_type": "stream",
     "text": [
      "\r",
      " 18%|██████████████▊                                                                    | 5/28 [01:06<05:04, 13.23s/it]"
     ]
    },
    {
     "name": "stdout",
     "output_type": "stream",
     "text": [
      "_________________Respect_____________\n"
     ]
    },
    {
     "name": "stderr",
     "output_type": "stream",
     "text": [
      "\r",
      " 21%|█████████████████▊                                                                 | 6/28 [01:20<04:55, 13.41s/it]"
     ]
    },
    {
     "name": "stdout",
     "output_type": "stream",
     "text": [
      "_________________Performance_____________\n"
     ]
    },
    {
     "name": "stderr",
     "output_type": "stream",
     "text": [
      "\r",
      " 25%|████████████████████▊                                                              | 7/28 [01:33<04:38, 13.26s/it]"
     ]
    },
    {
     "name": "stdout",
     "output_type": "stream",
     "text": [
      "_________________Leadership+Creativity_____________\n"
     ]
    },
    {
     "name": "stderr",
     "output_type": "stream",
     "text": [
      "\r",
      " 29%|███████████████████████▋                                                           | 8/28 [01:45<04:18, 12.91s/it]"
     ]
    },
    {
     "name": "stdout",
     "output_type": "stream",
     "text": [
      "_________________Leadership+Teamwork_____________\n"
     ]
    },
    {
     "name": "stderr",
     "output_type": "stream",
     "text": [
      "\r",
      " 32%|██████████████████████████▋                                                        | 9/28 [01:56<03:58, 12.53s/it]"
     ]
    },
    {
     "name": "stdout",
     "output_type": "stream",
     "text": [
      "_________________Leadership+Communication_____________\n"
     ]
    },
    {
     "name": "stderr",
     "output_type": "stream",
     "text": [
      "\r",
      " 36%|█████████████████████████████▎                                                    | 10/28 [02:09<03:46, 12.57s/it]"
     ]
    },
    {
     "name": "stdout",
     "output_type": "stream",
     "text": [
      "_________________Leadership+Trust_____________\n"
     ]
    },
    {
     "name": "stderr",
     "output_type": "stream",
     "text": [
      "\r",
      " 39%|████████████████████████████████▏                                                 | 11/28 [02:21<03:28, 12.25s/it]"
     ]
    },
    {
     "name": "stdout",
     "output_type": "stream",
     "text": [
      "_________________Leadership+Respect_____________\n"
     ]
    },
    {
     "name": "stderr",
     "output_type": "stream",
     "text": [
      "\r",
      " 43%|███████████████████████████████████▏                                              | 12/28 [02:35<03:25, 12.86s/it]"
     ]
    },
    {
     "name": "stdout",
     "output_type": "stream",
     "text": [
      "_________________Leadership+Performance_____________\n"
     ]
    },
    {
     "name": "stderr",
     "output_type": "stream",
     "text": [
      "\r",
      " 46%|██████████████████████████████████████                                            | 13/28 [02:50<03:24, 13.64s/it]"
     ]
    },
    {
     "name": "stdout",
     "output_type": "stream",
     "text": [
      "_________________Creativity+Teamwork_____________\n"
     ]
    },
    {
     "name": "stderr",
     "output_type": "stream",
     "text": [
      "\r",
      " 50%|█████████████████████████████████████████                                         | 14/28 [03:00<02:54, 12.46s/it]"
     ]
    },
    {
     "name": "stdout",
     "output_type": "stream",
     "text": [
      "_________________Creativity+Communication_____________\n"
     ]
    },
    {
     "name": "stderr",
     "output_type": "stream",
     "text": [
      "\r",
      " 54%|███████████████████████████████████████████▉                                      | 15/28 [03:17<02:59, 13.79s/it]"
     ]
    },
    {
     "name": "stdout",
     "output_type": "stream",
     "text": [
      "_________________Creativity+Trust_____________\n"
     ]
    },
    {
     "name": "stderr",
     "output_type": "stream",
     "text": [
      "\r",
      " 57%|██████████████████████████████████████████████▊                                   | 16/28 [03:28<02:34, 12.86s/it]"
     ]
    },
    {
     "name": "stdout",
     "output_type": "stream",
     "text": [
      "_________________Creativity+Respect_____________\n"
     ]
    },
    {
     "name": "stderr",
     "output_type": "stream",
     "text": [
      "\r",
      " 61%|█████████████████████████████████████████████████▊                                | 17/28 [03:40<02:19, 12.67s/it]"
     ]
    },
    {
     "name": "stdout",
     "output_type": "stream",
     "text": [
      "_________________Creativity+Performance_____________\n"
     ]
    },
    {
     "name": "stderr",
     "output_type": "stream",
     "text": [
      "\r",
      " 64%|████████████████████████████████████████████████████▋                             | 18/28 [03:55<02:14, 13.44s/it]"
     ]
    },
    {
     "name": "stdout",
     "output_type": "stream",
     "text": [
      "_________________Teamwork+Communication_____________\n"
     ]
    },
    {
     "name": "stderr",
     "output_type": "stream",
     "text": [
      "\r",
      " 68%|███████████████████████████████████████████████████████▋                          | 19/28 [04:12<02:09, 14.43s/it]"
     ]
    },
    {
     "name": "stdout",
     "output_type": "stream",
     "text": [
      "_________________Teamwork+Trust_____________\n"
     ]
    },
    {
     "name": "stderr",
     "output_type": "stream",
     "text": [
      "\r",
      " 71%|██████████████████████████████████████████████████████████▌                       | 20/28 [04:25<01:51, 13.94s/it]"
     ]
    },
    {
     "name": "stdout",
     "output_type": "stream",
     "text": [
      "_________________Teamwork+Respect_____________\n"
     ]
    },
    {
     "name": "stderr",
     "output_type": "stream",
     "text": [
      "\r",
      " 75%|█████████████████████████████████████████████████████████████▌                    | 21/28 [04:45<01:50, 15.83s/it]"
     ]
    },
    {
     "name": "stdout",
     "output_type": "stream",
     "text": [
      "_________________Teamwork+Performance_____________\n"
     ]
    },
    {
     "name": "stderr",
     "output_type": "stream",
     "text": [
      "\r",
      " 79%|████████████████████████████████████████████████████████████████▍                 | 22/28 [05:12<01:55, 19.17s/it]"
     ]
    },
    {
     "name": "stdout",
     "output_type": "stream",
     "text": [
      "_________________Communication+Trust_____________\n"
     ]
    },
    {
     "name": "stderr",
     "output_type": "stream",
     "text": [
      "\r",
      " 82%|███████████████████████████████████████████████████████████████████▎              | 23/28 [05:44<01:55, 23.18s/it]"
     ]
    },
    {
     "name": "stdout",
     "output_type": "stream",
     "text": [
      "_________________Communication+Respect_____________\n"
     ]
    },
    {
     "name": "stderr",
     "output_type": "stream",
     "text": [
      "\r",
      " 86%|██████████████████████████████████████████████████████████████████████▎           | 24/28 [05:57<01:20, 20.14s/it]"
     ]
    },
    {
     "name": "stdout",
     "output_type": "stream",
     "text": [
      "_________________Communication+Performance_____________\n"
     ]
    },
    {
     "name": "stderr",
     "output_type": "stream",
     "text": [
      "\r",
      " 89%|█████████████████████████████████████████████████████████████████████████▏        | 25/28 [06:19<01:01, 20.48s/it]"
     ]
    },
    {
     "name": "stdout",
     "output_type": "stream",
     "text": [
      "_________________Trust+Respect_____________\n"
     ]
    },
    {
     "name": "stderr",
     "output_type": "stream",
     "text": [
      "\r",
      " 93%|████████████████████████████████████████████████████████████████████████████▏     | 26/28 [06:34<00:37, 18.86s/it]"
     ]
    },
    {
     "name": "stdout",
     "output_type": "stream",
     "text": [
      "_________________Trust+Performance_____________\n"
     ]
    },
    {
     "name": "stderr",
     "output_type": "stream",
     "text": [
      "\r",
      " 96%|███████████████████████████████████████████████████████████████████████████████   | 27/28 [06:45<00:16, 16.47s/it]"
     ]
    },
    {
     "name": "stdout",
     "output_type": "stream",
     "text": [
      "_________________Respect+Performance_____________\n"
     ]
    },
    {
     "name": "stderr",
     "output_type": "stream",
     "text": [
      "100%|██████████████████████████████████████████████████████████████████████████████████| 28/28 [06:58<00:00, 14.96s/it]\n",
      "  0%|                                                                                           | 0/28 [00:00<?, ?it/s]"
     ]
    },
    {
     "name": "stdout",
     "output_type": "stream",
     "text": [
      "_________________Leadership_____________\n"
     ]
    },
    {
     "name": "stderr",
     "output_type": "stream",
     "text": [
      "\r",
      "  4%|██▉                                                                                | 1/28 [00:16<07:29, 16.65s/it]"
     ]
    },
    {
     "name": "stdout",
     "output_type": "stream",
     "text": [
      "_________________Creativity_____________\n"
     ]
    },
    {
     "name": "stderr",
     "output_type": "stream",
     "text": [
      "\r",
      "  7%|█████▉                                                                             | 2/28 [00:30<06:28, 14.93s/it]"
     ]
    },
    {
     "name": "stdout",
     "output_type": "stream",
     "text": [
      "_________________Teamwork_____________\n"
     ]
    },
    {
     "name": "stderr",
     "output_type": "stream",
     "text": [
      "\r",
      " 11%|████████▉                                                                          | 3/28 [00:42<05:40, 13.60s/it]"
     ]
    },
    {
     "name": "stdout",
     "output_type": "stream",
     "text": [
      "_________________Communication_____________\n"
     ]
    },
    {
     "name": "stderr",
     "output_type": "stream",
     "text": [
      "\r",
      " 14%|███████████▊                                                                       | 4/28 [01:04<06:44, 16.84s/it]"
     ]
    },
    {
     "name": "stdout",
     "output_type": "stream",
     "text": [
      "_________________Trust_____________\n"
     ]
    },
    {
     "name": "stderr",
     "output_type": "stream",
     "text": [
      "\r",
      " 18%|██████████████▊                                                                    | 5/28 [01:18<06:06, 15.94s/it]"
     ]
    },
    {
     "name": "stdout",
     "output_type": "stream",
     "text": [
      "_________________Respect_____________\n"
     ]
    },
    {
     "name": "stderr",
     "output_type": "stream",
     "text": [
      "\r",
      " 21%|█████████████████▊                                                                 | 6/28 [01:30<05:22, 14.68s/it]"
     ]
    },
    {
     "name": "stdout",
     "output_type": "stream",
     "text": [
      "_________________Performance_____________\n"
     ]
    },
    {
     "name": "stderr",
     "output_type": "stream",
     "text": [
      "\r",
      " 25%|████████████████████▊                                                              | 7/28 [01:47<05:23, 15.39s/it]"
     ]
    },
    {
     "name": "stdout",
     "output_type": "stream",
     "text": [
      "_________________Leadership+Creativity_____________\n"
     ]
    },
    {
     "name": "stderr",
     "output_type": "stream",
     "text": [
      "\r",
      " 29%|███████████████████████▋                                                           | 8/28 [02:00<04:52, 14.65s/it]"
     ]
    },
    {
     "name": "stdout",
     "output_type": "stream",
     "text": [
      "_________________Leadership+Teamwork_____________\n"
     ]
    },
    {
     "name": "stderr",
     "output_type": "stream",
     "text": [
      " 29%|███████████████████████▋                                                           | 8/28 [02:05<05:14, 15.71s/it]\n"
     ]
    },
    {
     "ename": "ConnectionError",
     "evalue": "('Connection aborted.', ConnectionAbortedError(10053, 'Une connexion établie a été abandonnée par un logiciel de votre ordinateur hôte', None, 10053, None))",
     "output_type": "error",
     "traceback": [
      "\u001b[1;31m---------------------------------------------------------------------------\u001b[0m",
      "\u001b[1;31mConnectionAbortedError\u001b[0m                    Traceback (most recent call last)",
      "File \u001b[1;32m~\\anaconda3\\lib\\site-packages\\urllib3\\connectionpool.py:703\u001b[0m, in \u001b[0;36mHTTPConnectionPool.urlopen\u001b[1;34m(self, method, url, body, headers, retries, redirect, assert_same_host, timeout, pool_timeout, release_conn, chunked, body_pos, **response_kw)\u001b[0m\n\u001b[0;32m    702\u001b[0m \u001b[38;5;66;03m# Make the request on the httplib connection object.\u001b[39;00m\n\u001b[1;32m--> 703\u001b[0m httplib_response \u001b[38;5;241m=\u001b[39m \u001b[38;5;28;43mself\u001b[39;49m\u001b[38;5;241;43m.\u001b[39;49m\u001b[43m_make_request\u001b[49m\u001b[43m(\u001b[49m\n\u001b[0;32m    704\u001b[0m \u001b[43m    \u001b[49m\u001b[43mconn\u001b[49m\u001b[43m,\u001b[49m\n\u001b[0;32m    705\u001b[0m \u001b[43m    \u001b[49m\u001b[43mmethod\u001b[49m\u001b[43m,\u001b[49m\n\u001b[0;32m    706\u001b[0m \u001b[43m    \u001b[49m\u001b[43murl\u001b[49m\u001b[43m,\u001b[49m\n\u001b[0;32m    707\u001b[0m \u001b[43m    \u001b[49m\u001b[43mtimeout\u001b[49m\u001b[38;5;241;43m=\u001b[39;49m\u001b[43mtimeout_obj\u001b[49m\u001b[43m,\u001b[49m\n\u001b[0;32m    708\u001b[0m \u001b[43m    \u001b[49m\u001b[43mbody\u001b[49m\u001b[38;5;241;43m=\u001b[39;49m\u001b[43mbody\u001b[49m\u001b[43m,\u001b[49m\n\u001b[0;32m    709\u001b[0m \u001b[43m    \u001b[49m\u001b[43mheaders\u001b[49m\u001b[38;5;241;43m=\u001b[39;49m\u001b[43mheaders\u001b[49m\u001b[43m,\u001b[49m\n\u001b[0;32m    710\u001b[0m \u001b[43m    \u001b[49m\u001b[43mchunked\u001b[49m\u001b[38;5;241;43m=\u001b[39;49m\u001b[43mchunked\u001b[49m\u001b[43m,\u001b[49m\n\u001b[0;32m    711\u001b[0m \u001b[43m\u001b[49m\u001b[43m)\u001b[49m\n\u001b[0;32m    713\u001b[0m \u001b[38;5;66;03m# If we're going to release the connection in ``finally:``, then\u001b[39;00m\n\u001b[0;32m    714\u001b[0m \u001b[38;5;66;03m# the response doesn't need to know about the connection. Otherwise\u001b[39;00m\n\u001b[0;32m    715\u001b[0m \u001b[38;5;66;03m# it will also try to release it and we'll have a double-release\u001b[39;00m\n\u001b[0;32m    716\u001b[0m \u001b[38;5;66;03m# mess.\u001b[39;00m\n",
      "File \u001b[1;32m~\\anaconda3\\lib\\site-packages\\urllib3\\connectionpool.py:449\u001b[0m, in \u001b[0;36mHTTPConnectionPool._make_request\u001b[1;34m(self, conn, method, url, timeout, chunked, **httplib_request_kw)\u001b[0m\n\u001b[0;32m    445\u001b[0m         \u001b[38;5;28;01mexcept\u001b[39;00m \u001b[38;5;167;01mBaseException\u001b[39;00m \u001b[38;5;28;01mas\u001b[39;00m e:\n\u001b[0;32m    446\u001b[0m             \u001b[38;5;66;03m# Remove the TypeError from the exception chain in\u001b[39;00m\n\u001b[0;32m    447\u001b[0m             \u001b[38;5;66;03m# Python 3 (including for exceptions like SystemExit).\u001b[39;00m\n\u001b[0;32m    448\u001b[0m             \u001b[38;5;66;03m# Otherwise it looks like a bug in the code.\u001b[39;00m\n\u001b[1;32m--> 449\u001b[0m             \u001b[43msix\u001b[49m\u001b[38;5;241;43m.\u001b[39;49m\u001b[43mraise_from\u001b[49m\u001b[43m(\u001b[49m\u001b[43me\u001b[49m\u001b[43m,\u001b[49m\u001b[43m \u001b[49m\u001b[38;5;28;43;01mNone\u001b[39;49;00m\u001b[43m)\u001b[49m\n\u001b[0;32m    450\u001b[0m \u001b[38;5;28;01mexcept\u001b[39;00m (SocketTimeout, BaseSSLError, SocketError) \u001b[38;5;28;01mas\u001b[39;00m e:\n",
      "File \u001b[1;32m<string>:3\u001b[0m, in \u001b[0;36mraise_from\u001b[1;34m(value, from_value)\u001b[0m\n",
      "File \u001b[1;32m~\\anaconda3\\lib\\site-packages\\urllib3\\connectionpool.py:444\u001b[0m, in \u001b[0;36mHTTPConnectionPool._make_request\u001b[1;34m(self, conn, method, url, timeout, chunked, **httplib_request_kw)\u001b[0m\n\u001b[0;32m    443\u001b[0m \u001b[38;5;28;01mtry\u001b[39;00m:\n\u001b[1;32m--> 444\u001b[0m     httplib_response \u001b[38;5;241m=\u001b[39m \u001b[43mconn\u001b[49m\u001b[38;5;241;43m.\u001b[39;49m\u001b[43mgetresponse\u001b[49m\u001b[43m(\u001b[49m\u001b[43m)\u001b[49m\n\u001b[0;32m    445\u001b[0m \u001b[38;5;28;01mexcept\u001b[39;00m \u001b[38;5;167;01mBaseException\u001b[39;00m \u001b[38;5;28;01mas\u001b[39;00m e:\n\u001b[0;32m    446\u001b[0m     \u001b[38;5;66;03m# Remove the TypeError from the exception chain in\u001b[39;00m\n\u001b[0;32m    447\u001b[0m     \u001b[38;5;66;03m# Python 3 (including for exceptions like SystemExit).\u001b[39;00m\n\u001b[0;32m    448\u001b[0m     \u001b[38;5;66;03m# Otherwise it looks like a bug in the code.\u001b[39;00m\n",
      "File \u001b[1;32m~\\anaconda3\\lib\\http\\client.py:1377\u001b[0m, in \u001b[0;36mHTTPConnection.getresponse\u001b[1;34m(self)\u001b[0m\n\u001b[0;32m   1376\u001b[0m \u001b[38;5;28;01mtry\u001b[39;00m:\n\u001b[1;32m-> 1377\u001b[0m     \u001b[43mresponse\u001b[49m\u001b[38;5;241;43m.\u001b[39;49m\u001b[43mbegin\u001b[49m\u001b[43m(\u001b[49m\u001b[43m)\u001b[49m\n\u001b[0;32m   1378\u001b[0m \u001b[38;5;28;01mexcept\u001b[39;00m \u001b[38;5;167;01mConnectionError\u001b[39;00m:\n",
      "File \u001b[1;32m~\\anaconda3\\lib\\http\\client.py:320\u001b[0m, in \u001b[0;36mHTTPResponse.begin\u001b[1;34m(self)\u001b[0m\n\u001b[0;32m    319\u001b[0m \u001b[38;5;28;01mwhile\u001b[39;00m \u001b[38;5;28;01mTrue\u001b[39;00m:\n\u001b[1;32m--> 320\u001b[0m     version, status, reason \u001b[38;5;241m=\u001b[39m \u001b[38;5;28;43mself\u001b[39;49m\u001b[38;5;241;43m.\u001b[39;49m\u001b[43m_read_status\u001b[49m\u001b[43m(\u001b[49m\u001b[43m)\u001b[49m\n\u001b[0;32m    321\u001b[0m     \u001b[38;5;28;01mif\u001b[39;00m status \u001b[38;5;241m!=\u001b[39m CONTINUE:\n",
      "File \u001b[1;32m~\\anaconda3\\lib\\http\\client.py:281\u001b[0m, in \u001b[0;36mHTTPResponse._read_status\u001b[1;34m(self)\u001b[0m\n\u001b[0;32m    280\u001b[0m \u001b[38;5;28;01mdef\u001b[39;00m \u001b[38;5;21m_read_status\u001b[39m(\u001b[38;5;28mself\u001b[39m):\n\u001b[1;32m--> 281\u001b[0m     line \u001b[38;5;241m=\u001b[39m \u001b[38;5;28mstr\u001b[39m(\u001b[38;5;28;43mself\u001b[39;49m\u001b[38;5;241;43m.\u001b[39;49m\u001b[43mfp\u001b[49m\u001b[38;5;241;43m.\u001b[39;49m\u001b[43mreadline\u001b[49m\u001b[43m(\u001b[49m\u001b[43m_MAXLINE\u001b[49m\u001b[43m \u001b[49m\u001b[38;5;241;43m+\u001b[39;49m\u001b[43m \u001b[49m\u001b[38;5;241;43m1\u001b[39;49m\u001b[43m)\u001b[49m, \u001b[38;5;124m\"\u001b[39m\u001b[38;5;124miso-8859-1\u001b[39m\u001b[38;5;124m\"\u001b[39m)\n\u001b[0;32m    282\u001b[0m     \u001b[38;5;28;01mif\u001b[39;00m \u001b[38;5;28mlen\u001b[39m(line) \u001b[38;5;241m>\u001b[39m _MAXLINE:\n",
      "File \u001b[1;32m~\\anaconda3\\lib\\socket.py:704\u001b[0m, in \u001b[0;36mSocketIO.readinto\u001b[1;34m(self, b)\u001b[0m\n\u001b[0;32m    703\u001b[0m \u001b[38;5;28;01mtry\u001b[39;00m:\n\u001b[1;32m--> 704\u001b[0m     \u001b[38;5;28;01mreturn\u001b[39;00m \u001b[38;5;28;43mself\u001b[39;49m\u001b[38;5;241;43m.\u001b[39;49m\u001b[43m_sock\u001b[49m\u001b[38;5;241;43m.\u001b[39;49m\u001b[43mrecv_into\u001b[49m\u001b[43m(\u001b[49m\u001b[43mb\u001b[49m\u001b[43m)\u001b[49m\n\u001b[0;32m    705\u001b[0m \u001b[38;5;28;01mexcept\u001b[39;00m timeout:\n",
      "File \u001b[1;32m~\\anaconda3\\lib\\ssl.py:1242\u001b[0m, in \u001b[0;36mSSLSocket.recv_into\u001b[1;34m(self, buffer, nbytes, flags)\u001b[0m\n\u001b[0;32m   1239\u001b[0m         \u001b[38;5;28;01mraise\u001b[39;00m \u001b[38;5;167;01mValueError\u001b[39;00m(\n\u001b[0;32m   1240\u001b[0m           \u001b[38;5;124m\"\u001b[39m\u001b[38;5;124mnon-zero flags not allowed in calls to recv_into() on \u001b[39m\u001b[38;5;132;01m%s\u001b[39;00m\u001b[38;5;124m\"\u001b[39m \u001b[38;5;241m%\u001b[39m\n\u001b[0;32m   1241\u001b[0m           \u001b[38;5;28mself\u001b[39m\u001b[38;5;241m.\u001b[39m\u001b[38;5;18m__class__\u001b[39m)\n\u001b[1;32m-> 1242\u001b[0m     \u001b[38;5;28;01mreturn\u001b[39;00m \u001b[38;5;28;43mself\u001b[39;49m\u001b[38;5;241;43m.\u001b[39;49m\u001b[43mread\u001b[49m\u001b[43m(\u001b[49m\u001b[43mnbytes\u001b[49m\u001b[43m,\u001b[49m\u001b[43m \u001b[49m\u001b[43mbuffer\u001b[49m\u001b[43m)\u001b[49m\n\u001b[0;32m   1243\u001b[0m \u001b[38;5;28;01melse\u001b[39;00m:\n",
      "File \u001b[1;32m~\\anaconda3\\lib\\ssl.py:1100\u001b[0m, in \u001b[0;36mSSLSocket.read\u001b[1;34m(self, len, buffer)\u001b[0m\n\u001b[0;32m   1099\u001b[0m \u001b[38;5;28;01mif\u001b[39;00m buffer \u001b[38;5;129;01mis\u001b[39;00m \u001b[38;5;129;01mnot\u001b[39;00m \u001b[38;5;28;01mNone\u001b[39;00m:\n\u001b[1;32m-> 1100\u001b[0m     \u001b[38;5;28;01mreturn\u001b[39;00m \u001b[38;5;28;43mself\u001b[39;49m\u001b[38;5;241;43m.\u001b[39;49m\u001b[43m_sslobj\u001b[49m\u001b[38;5;241;43m.\u001b[39;49m\u001b[43mread\u001b[49m\u001b[43m(\u001b[49m\u001b[38;5;28;43mlen\u001b[39;49m\u001b[43m,\u001b[49m\u001b[43m \u001b[49m\u001b[43mbuffer\u001b[49m\u001b[43m)\u001b[49m\n\u001b[0;32m   1101\u001b[0m \u001b[38;5;28;01melse\u001b[39;00m:\n",
      "\u001b[1;31mConnectionAbortedError\u001b[0m: [WinError 10053] Une connexion établie a été abandonnée par un logiciel de votre ordinateur hôte",
      "\nDuring handling of the above exception, another exception occurred:\n",
      "\u001b[1;31mProtocolError\u001b[0m                             Traceback (most recent call last)",
      "File \u001b[1;32m~\\anaconda3\\lib\\site-packages\\requests\\adapters.py:489\u001b[0m, in \u001b[0;36mHTTPAdapter.send\u001b[1;34m(self, request, stream, timeout, verify, cert, proxies)\u001b[0m\n\u001b[0;32m    488\u001b[0m \u001b[38;5;28;01mif\u001b[39;00m \u001b[38;5;129;01mnot\u001b[39;00m chunked:\n\u001b[1;32m--> 489\u001b[0m     resp \u001b[38;5;241m=\u001b[39m \u001b[43mconn\u001b[49m\u001b[38;5;241;43m.\u001b[39;49m\u001b[43murlopen\u001b[49m\u001b[43m(\u001b[49m\n\u001b[0;32m    490\u001b[0m \u001b[43m        \u001b[49m\u001b[43mmethod\u001b[49m\u001b[38;5;241;43m=\u001b[39;49m\u001b[43mrequest\u001b[49m\u001b[38;5;241;43m.\u001b[39;49m\u001b[43mmethod\u001b[49m\u001b[43m,\u001b[49m\n\u001b[0;32m    491\u001b[0m \u001b[43m        \u001b[49m\u001b[43murl\u001b[49m\u001b[38;5;241;43m=\u001b[39;49m\u001b[43murl\u001b[49m\u001b[43m,\u001b[49m\n\u001b[0;32m    492\u001b[0m \u001b[43m        \u001b[49m\u001b[43mbody\u001b[49m\u001b[38;5;241;43m=\u001b[39;49m\u001b[43mrequest\u001b[49m\u001b[38;5;241;43m.\u001b[39;49m\u001b[43mbody\u001b[49m\u001b[43m,\u001b[49m\n\u001b[0;32m    493\u001b[0m \u001b[43m        \u001b[49m\u001b[43mheaders\u001b[49m\u001b[38;5;241;43m=\u001b[39;49m\u001b[43mrequest\u001b[49m\u001b[38;5;241;43m.\u001b[39;49m\u001b[43mheaders\u001b[49m\u001b[43m,\u001b[49m\n\u001b[0;32m    494\u001b[0m \u001b[43m        \u001b[49m\u001b[43mredirect\u001b[49m\u001b[38;5;241;43m=\u001b[39;49m\u001b[38;5;28;43;01mFalse\u001b[39;49;00m\u001b[43m,\u001b[49m\n\u001b[0;32m    495\u001b[0m \u001b[43m        \u001b[49m\u001b[43massert_same_host\u001b[49m\u001b[38;5;241;43m=\u001b[39;49m\u001b[38;5;28;43;01mFalse\u001b[39;49;00m\u001b[43m,\u001b[49m\n\u001b[0;32m    496\u001b[0m \u001b[43m        \u001b[49m\u001b[43mpreload_content\u001b[49m\u001b[38;5;241;43m=\u001b[39;49m\u001b[38;5;28;43;01mFalse\u001b[39;49;00m\u001b[43m,\u001b[49m\n\u001b[0;32m    497\u001b[0m \u001b[43m        \u001b[49m\u001b[43mdecode_content\u001b[49m\u001b[38;5;241;43m=\u001b[39;49m\u001b[38;5;28;43;01mFalse\u001b[39;49;00m\u001b[43m,\u001b[49m\n\u001b[0;32m    498\u001b[0m \u001b[43m        \u001b[49m\u001b[43mretries\u001b[49m\u001b[38;5;241;43m=\u001b[39;49m\u001b[38;5;28;43mself\u001b[39;49m\u001b[38;5;241;43m.\u001b[39;49m\u001b[43mmax_retries\u001b[49m\u001b[43m,\u001b[49m\n\u001b[0;32m    499\u001b[0m \u001b[43m        \u001b[49m\u001b[43mtimeout\u001b[49m\u001b[38;5;241;43m=\u001b[39;49m\u001b[43mtimeout\u001b[49m\u001b[43m,\u001b[49m\n\u001b[0;32m    500\u001b[0m \u001b[43m    \u001b[49m\u001b[43m)\u001b[49m\n\u001b[0;32m    502\u001b[0m \u001b[38;5;66;03m# Send the request.\u001b[39;00m\n\u001b[0;32m    503\u001b[0m \u001b[38;5;28;01melse\u001b[39;00m:\n",
      "File \u001b[1;32m~\\anaconda3\\lib\\site-packages\\urllib3\\connectionpool.py:787\u001b[0m, in \u001b[0;36mHTTPConnectionPool.urlopen\u001b[1;34m(self, method, url, body, headers, retries, redirect, assert_same_host, timeout, pool_timeout, release_conn, chunked, body_pos, **response_kw)\u001b[0m\n\u001b[0;32m    785\u001b[0m     e \u001b[38;5;241m=\u001b[39m ProtocolError(\u001b[38;5;124m\"\u001b[39m\u001b[38;5;124mConnection aborted.\u001b[39m\u001b[38;5;124m\"\u001b[39m, e)\n\u001b[1;32m--> 787\u001b[0m retries \u001b[38;5;241m=\u001b[39m \u001b[43mretries\u001b[49m\u001b[38;5;241;43m.\u001b[39;49m\u001b[43mincrement\u001b[49m\u001b[43m(\u001b[49m\n\u001b[0;32m    788\u001b[0m \u001b[43m    \u001b[49m\u001b[43mmethod\u001b[49m\u001b[43m,\u001b[49m\u001b[43m \u001b[49m\u001b[43murl\u001b[49m\u001b[43m,\u001b[49m\u001b[43m \u001b[49m\u001b[43merror\u001b[49m\u001b[38;5;241;43m=\u001b[39;49m\u001b[43me\u001b[49m\u001b[43m,\u001b[49m\u001b[43m \u001b[49m\u001b[43m_pool\u001b[49m\u001b[38;5;241;43m=\u001b[39;49m\u001b[38;5;28;43mself\u001b[39;49m\u001b[43m,\u001b[49m\u001b[43m \u001b[49m\u001b[43m_stacktrace\u001b[49m\u001b[38;5;241;43m=\u001b[39;49m\u001b[43msys\u001b[49m\u001b[38;5;241;43m.\u001b[39;49m\u001b[43mexc_info\u001b[49m\u001b[43m(\u001b[49m\u001b[43m)\u001b[49m\u001b[43m[\u001b[49m\u001b[38;5;241;43m2\u001b[39;49m\u001b[43m]\u001b[49m\n\u001b[0;32m    789\u001b[0m \u001b[43m\u001b[49m\u001b[43m)\u001b[49m\n\u001b[0;32m    790\u001b[0m retries\u001b[38;5;241m.\u001b[39msleep()\n",
      "File \u001b[1;32m~\\anaconda3\\lib\\site-packages\\urllib3\\util\\retry.py:550\u001b[0m, in \u001b[0;36mRetry.increment\u001b[1;34m(self, method, url, response, error, _pool, _stacktrace)\u001b[0m\n\u001b[0;32m    549\u001b[0m \u001b[38;5;28;01mif\u001b[39;00m read \u001b[38;5;129;01mis\u001b[39;00m \u001b[38;5;28;01mFalse\u001b[39;00m \u001b[38;5;129;01mor\u001b[39;00m \u001b[38;5;129;01mnot\u001b[39;00m \u001b[38;5;28mself\u001b[39m\u001b[38;5;241m.\u001b[39m_is_method_retryable(method):\n\u001b[1;32m--> 550\u001b[0m     \u001b[38;5;28;01mraise\u001b[39;00m \u001b[43msix\u001b[49m\u001b[38;5;241;43m.\u001b[39;49m\u001b[43mreraise\u001b[49m\u001b[43m(\u001b[49m\u001b[38;5;28;43mtype\u001b[39;49m\u001b[43m(\u001b[49m\u001b[43merror\u001b[49m\u001b[43m)\u001b[49m\u001b[43m,\u001b[49m\u001b[43m \u001b[49m\u001b[43merror\u001b[49m\u001b[43m,\u001b[49m\u001b[43m \u001b[49m\u001b[43m_stacktrace\u001b[49m\u001b[43m)\u001b[49m\n\u001b[0;32m    551\u001b[0m \u001b[38;5;28;01melif\u001b[39;00m read \u001b[38;5;129;01mis\u001b[39;00m \u001b[38;5;129;01mnot\u001b[39;00m \u001b[38;5;28;01mNone\u001b[39;00m:\n",
      "File \u001b[1;32m~\\anaconda3\\lib\\site-packages\\urllib3\\packages\\six.py:769\u001b[0m, in \u001b[0;36mreraise\u001b[1;34m(tp, value, tb)\u001b[0m\n\u001b[0;32m    768\u001b[0m \u001b[38;5;28;01mif\u001b[39;00m value\u001b[38;5;241m.\u001b[39m__traceback__ \u001b[38;5;129;01mis\u001b[39;00m \u001b[38;5;129;01mnot\u001b[39;00m tb:\n\u001b[1;32m--> 769\u001b[0m     \u001b[38;5;28;01mraise\u001b[39;00m value\u001b[38;5;241m.\u001b[39mwith_traceback(tb)\n\u001b[0;32m    770\u001b[0m \u001b[38;5;28;01mraise\u001b[39;00m value\n",
      "File \u001b[1;32m~\\anaconda3\\lib\\site-packages\\urllib3\\connectionpool.py:703\u001b[0m, in \u001b[0;36mHTTPConnectionPool.urlopen\u001b[1;34m(self, method, url, body, headers, retries, redirect, assert_same_host, timeout, pool_timeout, release_conn, chunked, body_pos, **response_kw)\u001b[0m\n\u001b[0;32m    702\u001b[0m \u001b[38;5;66;03m# Make the request on the httplib connection object.\u001b[39;00m\n\u001b[1;32m--> 703\u001b[0m httplib_response \u001b[38;5;241m=\u001b[39m \u001b[38;5;28;43mself\u001b[39;49m\u001b[38;5;241;43m.\u001b[39;49m\u001b[43m_make_request\u001b[49m\u001b[43m(\u001b[49m\n\u001b[0;32m    704\u001b[0m \u001b[43m    \u001b[49m\u001b[43mconn\u001b[49m\u001b[43m,\u001b[49m\n\u001b[0;32m    705\u001b[0m \u001b[43m    \u001b[49m\u001b[43mmethod\u001b[49m\u001b[43m,\u001b[49m\n\u001b[0;32m    706\u001b[0m \u001b[43m    \u001b[49m\u001b[43murl\u001b[49m\u001b[43m,\u001b[49m\n\u001b[0;32m    707\u001b[0m \u001b[43m    \u001b[49m\u001b[43mtimeout\u001b[49m\u001b[38;5;241;43m=\u001b[39;49m\u001b[43mtimeout_obj\u001b[49m\u001b[43m,\u001b[49m\n\u001b[0;32m    708\u001b[0m \u001b[43m    \u001b[49m\u001b[43mbody\u001b[49m\u001b[38;5;241;43m=\u001b[39;49m\u001b[43mbody\u001b[49m\u001b[43m,\u001b[49m\n\u001b[0;32m    709\u001b[0m \u001b[43m    \u001b[49m\u001b[43mheaders\u001b[49m\u001b[38;5;241;43m=\u001b[39;49m\u001b[43mheaders\u001b[49m\u001b[43m,\u001b[49m\n\u001b[0;32m    710\u001b[0m \u001b[43m    \u001b[49m\u001b[43mchunked\u001b[49m\u001b[38;5;241;43m=\u001b[39;49m\u001b[43mchunked\u001b[49m\u001b[43m,\u001b[49m\n\u001b[0;32m    711\u001b[0m \u001b[43m\u001b[49m\u001b[43m)\u001b[49m\n\u001b[0;32m    713\u001b[0m \u001b[38;5;66;03m# If we're going to release the connection in ``finally:``, then\u001b[39;00m\n\u001b[0;32m    714\u001b[0m \u001b[38;5;66;03m# the response doesn't need to know about the connection. Otherwise\u001b[39;00m\n\u001b[0;32m    715\u001b[0m \u001b[38;5;66;03m# it will also try to release it and we'll have a double-release\u001b[39;00m\n\u001b[0;32m    716\u001b[0m \u001b[38;5;66;03m# mess.\u001b[39;00m\n",
      "File \u001b[1;32m~\\anaconda3\\lib\\site-packages\\urllib3\\connectionpool.py:449\u001b[0m, in \u001b[0;36mHTTPConnectionPool._make_request\u001b[1;34m(self, conn, method, url, timeout, chunked, **httplib_request_kw)\u001b[0m\n\u001b[0;32m    445\u001b[0m         \u001b[38;5;28;01mexcept\u001b[39;00m \u001b[38;5;167;01mBaseException\u001b[39;00m \u001b[38;5;28;01mas\u001b[39;00m e:\n\u001b[0;32m    446\u001b[0m             \u001b[38;5;66;03m# Remove the TypeError from the exception chain in\u001b[39;00m\n\u001b[0;32m    447\u001b[0m             \u001b[38;5;66;03m# Python 3 (including for exceptions like SystemExit).\u001b[39;00m\n\u001b[0;32m    448\u001b[0m             \u001b[38;5;66;03m# Otherwise it looks like a bug in the code.\u001b[39;00m\n\u001b[1;32m--> 449\u001b[0m             \u001b[43msix\u001b[49m\u001b[38;5;241;43m.\u001b[39;49m\u001b[43mraise_from\u001b[49m\u001b[43m(\u001b[49m\u001b[43me\u001b[49m\u001b[43m,\u001b[49m\u001b[43m \u001b[49m\u001b[38;5;28;43;01mNone\u001b[39;49;00m\u001b[43m)\u001b[49m\n\u001b[0;32m    450\u001b[0m \u001b[38;5;28;01mexcept\u001b[39;00m (SocketTimeout, BaseSSLError, SocketError) \u001b[38;5;28;01mas\u001b[39;00m e:\n",
      "File \u001b[1;32m<string>:3\u001b[0m, in \u001b[0;36mraise_from\u001b[1;34m(value, from_value)\u001b[0m\n",
      "File \u001b[1;32m~\\anaconda3\\lib\\site-packages\\urllib3\\connectionpool.py:444\u001b[0m, in \u001b[0;36mHTTPConnectionPool._make_request\u001b[1;34m(self, conn, method, url, timeout, chunked, **httplib_request_kw)\u001b[0m\n\u001b[0;32m    443\u001b[0m \u001b[38;5;28;01mtry\u001b[39;00m:\n\u001b[1;32m--> 444\u001b[0m     httplib_response \u001b[38;5;241m=\u001b[39m \u001b[43mconn\u001b[49m\u001b[38;5;241;43m.\u001b[39;49m\u001b[43mgetresponse\u001b[49m\u001b[43m(\u001b[49m\u001b[43m)\u001b[49m\n\u001b[0;32m    445\u001b[0m \u001b[38;5;28;01mexcept\u001b[39;00m \u001b[38;5;167;01mBaseException\u001b[39;00m \u001b[38;5;28;01mas\u001b[39;00m e:\n\u001b[0;32m    446\u001b[0m     \u001b[38;5;66;03m# Remove the TypeError from the exception chain in\u001b[39;00m\n\u001b[0;32m    447\u001b[0m     \u001b[38;5;66;03m# Python 3 (including for exceptions like SystemExit).\u001b[39;00m\n\u001b[0;32m    448\u001b[0m     \u001b[38;5;66;03m# Otherwise it looks like a bug in the code.\u001b[39;00m\n",
      "File \u001b[1;32m~\\anaconda3\\lib\\http\\client.py:1377\u001b[0m, in \u001b[0;36mHTTPConnection.getresponse\u001b[1;34m(self)\u001b[0m\n\u001b[0;32m   1376\u001b[0m \u001b[38;5;28;01mtry\u001b[39;00m:\n\u001b[1;32m-> 1377\u001b[0m     \u001b[43mresponse\u001b[49m\u001b[38;5;241;43m.\u001b[39;49m\u001b[43mbegin\u001b[49m\u001b[43m(\u001b[49m\u001b[43m)\u001b[49m\n\u001b[0;32m   1378\u001b[0m \u001b[38;5;28;01mexcept\u001b[39;00m \u001b[38;5;167;01mConnectionError\u001b[39;00m:\n",
      "File \u001b[1;32m~\\anaconda3\\lib\\http\\client.py:320\u001b[0m, in \u001b[0;36mHTTPResponse.begin\u001b[1;34m(self)\u001b[0m\n\u001b[0;32m    319\u001b[0m \u001b[38;5;28;01mwhile\u001b[39;00m \u001b[38;5;28;01mTrue\u001b[39;00m:\n\u001b[1;32m--> 320\u001b[0m     version, status, reason \u001b[38;5;241m=\u001b[39m \u001b[38;5;28;43mself\u001b[39;49m\u001b[38;5;241;43m.\u001b[39;49m\u001b[43m_read_status\u001b[49m\u001b[43m(\u001b[49m\u001b[43m)\u001b[49m\n\u001b[0;32m    321\u001b[0m     \u001b[38;5;28;01mif\u001b[39;00m status \u001b[38;5;241m!=\u001b[39m CONTINUE:\n",
      "File \u001b[1;32m~\\anaconda3\\lib\\http\\client.py:281\u001b[0m, in \u001b[0;36mHTTPResponse._read_status\u001b[1;34m(self)\u001b[0m\n\u001b[0;32m    280\u001b[0m \u001b[38;5;28;01mdef\u001b[39;00m \u001b[38;5;21m_read_status\u001b[39m(\u001b[38;5;28mself\u001b[39m):\n\u001b[1;32m--> 281\u001b[0m     line \u001b[38;5;241m=\u001b[39m \u001b[38;5;28mstr\u001b[39m(\u001b[38;5;28;43mself\u001b[39;49m\u001b[38;5;241;43m.\u001b[39;49m\u001b[43mfp\u001b[49m\u001b[38;5;241;43m.\u001b[39;49m\u001b[43mreadline\u001b[49m\u001b[43m(\u001b[49m\u001b[43m_MAXLINE\u001b[49m\u001b[43m \u001b[49m\u001b[38;5;241;43m+\u001b[39;49m\u001b[43m \u001b[49m\u001b[38;5;241;43m1\u001b[39;49m\u001b[43m)\u001b[49m, \u001b[38;5;124m\"\u001b[39m\u001b[38;5;124miso-8859-1\u001b[39m\u001b[38;5;124m\"\u001b[39m)\n\u001b[0;32m    282\u001b[0m     \u001b[38;5;28;01mif\u001b[39;00m \u001b[38;5;28mlen\u001b[39m(line) \u001b[38;5;241m>\u001b[39m _MAXLINE:\n",
      "File \u001b[1;32m~\\anaconda3\\lib\\socket.py:704\u001b[0m, in \u001b[0;36mSocketIO.readinto\u001b[1;34m(self, b)\u001b[0m\n\u001b[0;32m    703\u001b[0m \u001b[38;5;28;01mtry\u001b[39;00m:\n\u001b[1;32m--> 704\u001b[0m     \u001b[38;5;28;01mreturn\u001b[39;00m \u001b[38;5;28;43mself\u001b[39;49m\u001b[38;5;241;43m.\u001b[39;49m\u001b[43m_sock\u001b[49m\u001b[38;5;241;43m.\u001b[39;49m\u001b[43mrecv_into\u001b[49m\u001b[43m(\u001b[49m\u001b[43mb\u001b[49m\u001b[43m)\u001b[49m\n\u001b[0;32m    705\u001b[0m \u001b[38;5;28;01mexcept\u001b[39;00m timeout:\n",
      "File \u001b[1;32m~\\anaconda3\\lib\\ssl.py:1242\u001b[0m, in \u001b[0;36mSSLSocket.recv_into\u001b[1;34m(self, buffer, nbytes, flags)\u001b[0m\n\u001b[0;32m   1239\u001b[0m         \u001b[38;5;28;01mraise\u001b[39;00m \u001b[38;5;167;01mValueError\u001b[39;00m(\n\u001b[0;32m   1240\u001b[0m           \u001b[38;5;124m\"\u001b[39m\u001b[38;5;124mnon-zero flags not allowed in calls to recv_into() on \u001b[39m\u001b[38;5;132;01m%s\u001b[39;00m\u001b[38;5;124m\"\u001b[39m \u001b[38;5;241m%\u001b[39m\n\u001b[0;32m   1241\u001b[0m           \u001b[38;5;28mself\u001b[39m\u001b[38;5;241m.\u001b[39m\u001b[38;5;18m__class__\u001b[39m)\n\u001b[1;32m-> 1242\u001b[0m     \u001b[38;5;28;01mreturn\u001b[39;00m \u001b[38;5;28;43mself\u001b[39;49m\u001b[38;5;241;43m.\u001b[39;49m\u001b[43mread\u001b[49m\u001b[43m(\u001b[49m\u001b[43mnbytes\u001b[49m\u001b[43m,\u001b[49m\u001b[43m \u001b[49m\u001b[43mbuffer\u001b[49m\u001b[43m)\u001b[49m\n\u001b[0;32m   1243\u001b[0m \u001b[38;5;28;01melse\u001b[39;00m:\n",
      "File \u001b[1;32m~\\anaconda3\\lib\\ssl.py:1100\u001b[0m, in \u001b[0;36mSSLSocket.read\u001b[1;34m(self, len, buffer)\u001b[0m\n\u001b[0;32m   1099\u001b[0m \u001b[38;5;28;01mif\u001b[39;00m buffer \u001b[38;5;129;01mis\u001b[39;00m \u001b[38;5;129;01mnot\u001b[39;00m \u001b[38;5;28;01mNone\u001b[39;00m:\n\u001b[1;32m-> 1100\u001b[0m     \u001b[38;5;28;01mreturn\u001b[39;00m \u001b[38;5;28;43mself\u001b[39;49m\u001b[38;5;241;43m.\u001b[39;49m\u001b[43m_sslobj\u001b[49m\u001b[38;5;241;43m.\u001b[39;49m\u001b[43mread\u001b[49m\u001b[43m(\u001b[49m\u001b[38;5;28;43mlen\u001b[39;49m\u001b[43m,\u001b[49m\u001b[43m \u001b[49m\u001b[43mbuffer\u001b[49m\u001b[43m)\u001b[49m\n\u001b[0;32m   1101\u001b[0m \u001b[38;5;28;01melse\u001b[39;00m:\n",
      "\u001b[1;31mProtocolError\u001b[0m: ('Connection aborted.', ConnectionAbortedError(10053, 'Une connexion établie a été abandonnée par un logiciel de votre ordinateur hôte', None, 10053, None))",
      "\nDuring handling of the above exception, another exception occurred:\n",
      "\u001b[1;31mConnectionError\u001b[0m                           Traceback (most recent call last)",
      "Cell \u001b[1;32mIn[139], line 11\u001b[0m\n\u001b[0;32m      9\u001b[0m \u001b[38;5;28;01mfor\u001b[39;00m k \u001b[38;5;129;01min\u001b[39;00m \u001b[38;5;28mrange\u001b[39m(\u001b[38;5;241m1\u001b[39m, \u001b[38;5;241m11\u001b[39m):\n\u001b[0;32m     10\u001b[0m     course_url \u001b[38;5;241m=\u001b[39m \u001b[38;5;124m\"\u001b[39m\u001b[38;5;124mhttps://www.coursera.org/search?query=\u001b[39m\u001b[38;5;124m\"\u001b[39m \u001b[38;5;241m+\u001b[39m j \u001b[38;5;241m+\u001b[39m \u001b[38;5;124m\"\u001b[39m\u001b[38;5;124m&page=\u001b[39m\u001b[38;5;124m\"\u001b[39m \u001b[38;5;241m+\u001b[39m \u001b[38;5;28mstr\u001b[39m(k) \u001b[38;5;241m+\u001b[39m \u001b[38;5;124m\"\u001b[39m\u001b[38;5;124m&=null\u001b[39m\u001b[38;5;124m\"\u001b[39m\n\u001b[1;32m---> 11\u001b[0m     response \u001b[38;5;241m=\u001b[39m \u001b[43mrequests\u001b[49m\u001b[38;5;241;43m.\u001b[39;49m\u001b[43mget\u001b[49m\u001b[43m(\u001b[49m\u001b[43mcourse_url\u001b[49m\u001b[43m)\u001b[49m\n\u001b[0;32m     12\u001b[0m     soup \u001b[38;5;241m=\u001b[39m BeautifulSoup(response\u001b[38;5;241m.\u001b[39mcontent, \u001b[38;5;124m\"\u001b[39m\u001b[38;5;124mhtml.parser\u001b[39m\u001b[38;5;124m\"\u001b[39m)\n\u001b[0;32m     13\u001b[0m     ul_element \u001b[38;5;241m=\u001b[39m soup\u001b[38;5;241m.\u001b[39mfind(\u001b[38;5;124m\"\u001b[39m\u001b[38;5;124mul\u001b[39m\u001b[38;5;124m\"\u001b[39m, class_\u001b[38;5;241m=\u001b[39m\u001b[38;5;124m\"\u001b[39m\u001b[38;5;124mcds-9 css-18msmec cds-10\u001b[39m\u001b[38;5;124m\"\u001b[39m)\n",
      "File \u001b[1;32m~\\anaconda3\\lib\\site-packages\\requests\\api.py:73\u001b[0m, in \u001b[0;36mget\u001b[1;34m(url, params, **kwargs)\u001b[0m\n\u001b[0;32m     62\u001b[0m \u001b[38;5;28;01mdef\u001b[39;00m \u001b[38;5;21mget\u001b[39m(url, params\u001b[38;5;241m=\u001b[39m\u001b[38;5;28;01mNone\u001b[39;00m, \u001b[38;5;241m*\u001b[39m\u001b[38;5;241m*\u001b[39mkwargs):\n\u001b[0;32m     63\u001b[0m     \u001b[38;5;124mr\u001b[39m\u001b[38;5;124;03m\"\"\"Sends a GET request.\u001b[39;00m\n\u001b[0;32m     64\u001b[0m \n\u001b[0;32m     65\u001b[0m \u001b[38;5;124;03m    :param url: URL for the new :class:`Request` object.\u001b[39;00m\n\u001b[1;32m   (...)\u001b[0m\n\u001b[0;32m     70\u001b[0m \u001b[38;5;124;03m    :rtype: requests.Response\u001b[39;00m\n\u001b[0;32m     71\u001b[0m \u001b[38;5;124;03m    \"\"\"\u001b[39;00m\n\u001b[1;32m---> 73\u001b[0m     \u001b[38;5;28;01mreturn\u001b[39;00m request(\u001b[38;5;124m\"\u001b[39m\u001b[38;5;124mget\u001b[39m\u001b[38;5;124m\"\u001b[39m, url, params\u001b[38;5;241m=\u001b[39mparams, \u001b[38;5;241m*\u001b[39m\u001b[38;5;241m*\u001b[39mkwargs)\n",
      "File \u001b[1;32m~\\anaconda3\\lib\\site-packages\\requests\\api.py:59\u001b[0m, in \u001b[0;36mrequest\u001b[1;34m(method, url, **kwargs)\u001b[0m\n\u001b[0;32m     55\u001b[0m \u001b[38;5;66;03m# By using the 'with' statement we are sure the session is closed, thus we\u001b[39;00m\n\u001b[0;32m     56\u001b[0m \u001b[38;5;66;03m# avoid leaving sockets open which can trigger a ResourceWarning in some\u001b[39;00m\n\u001b[0;32m     57\u001b[0m \u001b[38;5;66;03m# cases, and look like a memory leak in others.\u001b[39;00m\n\u001b[0;32m     58\u001b[0m \u001b[38;5;28;01mwith\u001b[39;00m sessions\u001b[38;5;241m.\u001b[39mSession() \u001b[38;5;28;01mas\u001b[39;00m session:\n\u001b[1;32m---> 59\u001b[0m     \u001b[38;5;28;01mreturn\u001b[39;00m session\u001b[38;5;241m.\u001b[39mrequest(method\u001b[38;5;241m=\u001b[39mmethod, url\u001b[38;5;241m=\u001b[39murl, \u001b[38;5;241m*\u001b[39m\u001b[38;5;241m*\u001b[39mkwargs)\n",
      "File \u001b[1;32m~\\anaconda3\\lib\\site-packages\\requests\\sessions.py:587\u001b[0m, in \u001b[0;36mSession.request\u001b[1;34m(self, method, url, params, data, headers, cookies, files, auth, timeout, allow_redirects, proxies, hooks, stream, verify, cert, json)\u001b[0m\n\u001b[0;32m    582\u001b[0m send_kwargs \u001b[38;5;241m=\u001b[39m {\n\u001b[0;32m    583\u001b[0m     \u001b[38;5;124m\"\u001b[39m\u001b[38;5;124mtimeout\u001b[39m\u001b[38;5;124m\"\u001b[39m: timeout,\n\u001b[0;32m    584\u001b[0m     \u001b[38;5;124m\"\u001b[39m\u001b[38;5;124mallow_redirects\u001b[39m\u001b[38;5;124m\"\u001b[39m: allow_redirects,\n\u001b[0;32m    585\u001b[0m }\n\u001b[0;32m    586\u001b[0m send_kwargs\u001b[38;5;241m.\u001b[39mupdate(settings)\n\u001b[1;32m--> 587\u001b[0m resp \u001b[38;5;241m=\u001b[39m \u001b[38;5;28mself\u001b[39m\u001b[38;5;241m.\u001b[39msend(prep, \u001b[38;5;241m*\u001b[39m\u001b[38;5;241m*\u001b[39msend_kwargs)\n\u001b[0;32m    589\u001b[0m \u001b[38;5;28;01mreturn\u001b[39;00m resp\n",
      "File \u001b[1;32m~\\anaconda3\\lib\\site-packages\\requests\\sessions.py:701\u001b[0m, in \u001b[0;36mSession.send\u001b[1;34m(self, request, **kwargs)\u001b[0m\n\u001b[0;32m    698\u001b[0m start \u001b[38;5;241m=\u001b[39m preferred_clock()\n\u001b[0;32m    700\u001b[0m \u001b[38;5;66;03m# Send the request\u001b[39;00m\n\u001b[1;32m--> 701\u001b[0m r \u001b[38;5;241m=\u001b[39m adapter\u001b[38;5;241m.\u001b[39msend(request, \u001b[38;5;241m*\u001b[39m\u001b[38;5;241m*\u001b[39mkwargs)\n\u001b[0;32m    703\u001b[0m \u001b[38;5;66;03m# Total elapsed time of the request (approximately)\u001b[39;00m\n\u001b[0;32m    704\u001b[0m elapsed \u001b[38;5;241m=\u001b[39m preferred_clock() \u001b[38;5;241m-\u001b[39m start\n",
      "File \u001b[1;32m~\\anaconda3\\lib\\site-packages\\requests\\adapters.py:547\u001b[0m, in \u001b[0;36mHTTPAdapter.send\u001b[1;34m(self, request, stream, timeout, verify, cert, proxies)\u001b[0m\n\u001b[0;32m    544\u001b[0m             \u001b[38;5;28;01mraise\u001b[39;00m\n\u001b[0;32m    546\u001b[0m \u001b[38;5;28;01mexcept\u001b[39;00m (ProtocolError, \u001b[38;5;167;01mOSError\u001b[39;00m) \u001b[38;5;28;01mas\u001b[39;00m err:\n\u001b[1;32m--> 547\u001b[0m     \u001b[38;5;28;01mraise\u001b[39;00m \u001b[38;5;167;01mConnectionError\u001b[39;00m(err, request\u001b[38;5;241m=\u001b[39mrequest)\n\u001b[0;32m    549\u001b[0m \u001b[38;5;28;01mexcept\u001b[39;00m MaxRetryError \u001b[38;5;28;01mas\u001b[39;00m e:\n\u001b[0;32m    550\u001b[0m     \u001b[38;5;28;01mif\u001b[39;00m \u001b[38;5;28misinstance\u001b[39m(e\u001b[38;5;241m.\u001b[39mreason, ConnectTimeoutError):\n\u001b[0;32m    551\u001b[0m         \u001b[38;5;66;03m# TODO: Remove this in 3.0.0: see #2811\u001b[39;00m\n",
      "\u001b[1;31mConnectionError\u001b[0m: ('Connection aborted.', ConnectionAbortedError(10053, 'Une connexion établie a été abandonnée par un logiciel de votre ordinateur hôte', None, 10053, None))"
     ]
    }
   ],
   "source": [
    "# Your existing code here...\n",
    "\n",
    "#this to collect more data \n",
    "for b in range(20):\n",
    "    # Modify the loop to extract data and append it to the DataFrame\n",
    "    for j in tqdm(skills_list):\n",
    "        print(\"_________________\"+j+\"_____________\")\n",
    "        CourseURL=[]\n",
    "        for k in range(1, 11):\n",
    "            course_url = \"https://www.coursera.org/search?query=\" + j + \"&page=\" + str(k) + \"&=null\"\n",
    "            response = requests.get(course_url)\n",
    "            soup = BeautifulSoup(response.content, \"html.parser\")\n",
    "            ul_element = soup.find(\"ul\", class_=\"cds-9 css-18msmec cds-10\")\n",
    "            div_elements = ul_element.find_all(\"div\", class_=\"css-1cj5od\")\n",
    "            ally = ul_element.find_all(\"div\", class_=\"product-reviews css-pn23ng\")\n",
    "\n",
    "            # Use zip() to iterate over both div_elements and ally lists together\n",
    "            for element, review_element in zip(div_elements, ally):\n",
    "                href = element.a.get(\"href\")\n",
    "                school = element.find(\"span\", class_=\"cds-119 css-1mru19s cds-121\").get_text()\n",
    "                title = element.find(\"h2\", class_=\"cds-119 css-h1jogs cds-121\").get_text()\n",
    "                reviews = review_element.find('p', class_='cds-119 css-dmxkm1 cds-121').get_text()\n",
    "                rating = review_element.find('p', class_='cds-119 css-11uuo4b cds-121').get_text()\n",
    "                level =  ' '.join(element.a.get(\"aria-label\").split()[-6:-3])\n",
    "                duration = ' '.join(element.a.get(\"aria-label\").split()[-4:])\n",
    "                competence= element.find(\"p\", class_=\"cds-119 css-12ksubz cds-121\").get_text().replace(\"Skills you'll gain: \", \"\").split(', ') if element.find(\"p\", class_=\"cds-119 css-12ksubz cds-121\") else \"\"\n",
    "                # Assuming you have other metrics, level, duration, etc., you can extract them similarly\n",
    "                # Append the data to the DataFrame\n",
    "                Main = Main.append({\n",
    "                    'metric(s)': j,\n",
    "                    'URL': \"https://www.coursera.org\" + href,\n",
    "                    'Title': title,\n",
    "                    'Trainer': school,\n",
    "                    'rate': rating,\n",
    "                    'evaluation nbr': reviews,\n",
    "                    # Add other data for level, duration, etc.\n",
    "                    'level': level,\n",
    "                    'duration': duration,\n",
    "                    'aquired competences': competence\n",
    "                }, ignore_index=True)\n"
   ]
  },
  {
   "cell_type": "code",
   "execution_count": null,
   "id": "a1d6b7b3",
   "metadata": {},
   "outputs": [],
   "source": []
  },
  {
   "cell_type": "markdown",
   "id": "f7f6b639",
   "metadata": {},
   "source": [
    "# manual number page:"
   ]
  },
  {
   "cell_type": "code",
   "execution_count": null,
   "id": "fcef90a0",
   "metadata": {},
   "outputs": [
    {
     "name": "stderr",
     "output_type": "stream",
     "text": [
      "\r",
      "  0%|                                                                                           | 0/28 [00:00<?, ?it/s]"
     ]
    },
    {
     "name": "stdout",
     "output_type": "stream",
     "text": [
      "_________________Leadership_____________\n",
      "https://www.coursera.org/search?query=Leadership&page=1&=null\n"
     ]
    },
    {
     "name": "stderr",
     "output_type": "stream",
     "text": [
      "\r",
      "  4%|██▉                                                                                | 1/28 [00:04<01:52,  4.16s/it]"
     ]
    },
    {
     "name": "stdout",
     "output_type": "stream",
     "text": [
      "3 - 6 Months\n",
      "3 - 6 Months\n",
      "1 - 3 Months\n",
      "1 - 3 Months\n",
      "3 - 6 Months\n",
      "3 - 6 Months\n",
      "1 - 4 Weeks\n",
      "3 - 6 Months\n",
      "1 - 4 Weeks\n",
      "1 - 4 Weeks\n",
      "3 - 6 Months\n",
      "3 - 6 Months\n",
      "_________________Creativity_____________\n",
      "https://www.coursera.org/search?query=Creativity&page=1&=null\n"
     ]
    },
    {
     "name": "stderr",
     "output_type": "stream",
     "text": [
      "\r",
      "  7%|█████▉                                                                             | 2/28 [00:05<01:11,  2.73s/it]"
     ]
    },
    {
     "name": "stdout",
     "output_type": "stream",
     "text": [
      "_________________Teamwork_____________\n",
      "https://www.coursera.org/search?query=Teamwork&page=1&=null\n"
     ]
    },
    {
     "name": "stderr",
     "output_type": "stream",
     "text": [
      "\r",
      " 11%|████████▉                                                                          | 3/28 [00:07<00:53,  2.12s/it]"
     ]
    },
    {
     "name": "stdout",
     "output_type": "stream",
     "text": [
      "_________________Communication_____________\n",
      "https://www.coursera.org/search?query=Communication&page=1&=null\n"
     ]
    },
    {
     "name": "stderr",
     "output_type": "stream",
     "text": [
      "\r",
      " 14%|███████████▊                                                                       | 4/28 [00:09<00:50,  2.08s/it]"
     ]
    },
    {
     "name": "stdout",
     "output_type": "stream",
     "text": [
      "1 - 4 Weeks\n",
      "1 - 4 Weeks\n",
      "3 - 6 Months\n",
      "3 - 6 Months\n",
      "3 - 6 Months\n",
      "1 - 4 Weeks\n",
      "1 - 4 Weeks\n",
      "1 - 3 Months\n",
      "1 - 3 Months\n",
      "1 - 3 Months\n",
      "3 - 6 Months\n",
      "3 - 6 Months\n",
      "_________________Trust_____________\n",
      "https://www.coursera.org/search?query=Trust&page=1&=null\n"
     ]
    },
    {
     "name": "stderr",
     "output_type": "stream",
     "text": [
      "\r",
      " 18%|██████████████▊                                                                    | 5/28 [00:12<01:00,  2.64s/it]"
     ]
    },
    {
     "name": "stdout",
     "output_type": "stream",
     "text": [
      "_________________Respect_____________\n",
      "https://www.coursera.org/search?query=Respect&page=1&=null\n"
     ]
    },
    {
     "name": "stderr",
     "output_type": "stream",
     "text": [
      "\r",
      " 21%|█████████████████▊                                                                 | 6/28 [00:16<01:04,  2.92s/it]"
     ]
    },
    {
     "name": "stdout",
     "output_type": "stream",
     "text": [
      "3 - 6 Months\n",
      "3 - 6 Months\n",
      "3 - 6 Months\n",
      "3 - 6 Months\n",
      "3 - 6 Months\n",
      "1 - 4 Weeks\n",
      "1 - 4 Weeks\n",
      "1 - 3 Months\n",
      "1 - 3 Months\n",
      "3 - 6 Months\n",
      "3 - 6 Months\n",
      "1 - 3 Months\n",
      "_________________Performance_____________\n",
      "https://www.coursera.org/search?query=Performance&page=1&=null\n"
     ]
    },
    {
     "name": "stderr",
     "output_type": "stream",
     "text": [
      "\r",
      " 25%|████████████████████▊                                                              | 7/28 [00:20<01:10,  3.34s/it]"
     ]
    },
    {
     "name": "stdout",
     "output_type": "stream",
     "text": [
      "Less Than 2 Hours\n",
      "3 - 6 Months\n",
      "3 - 6 Months\n",
      "1 - 4 Weeks\n",
      "1 - 4 Weeks\n",
      "1 - 4 Weeks\n",
      "Less Than 2 Hours\n",
      "1 - 3 Months\n",
      "1 - 3 Months\n",
      "1 - 3 Months\n",
      "1 - 3 Months\n",
      "_________________Leadership+Creativity_____________\n",
      "https://www.coursera.org/search?query=Leadership+Creativity&page=1&=null\n"
     ]
    },
    {
     "name": "stderr",
     "output_type": "stream",
     "text": [
      "\r",
      " 29%|███████████████████████▋                                                           | 8/28 [00:22<00:59,  2.96s/it]"
     ]
    },
    {
     "name": "stdout",
     "output_type": "stream",
     "text": [
      "1 - 3 Months\n",
      "1 - 4 Weeks\n",
      "1 - 4 Weeks\n",
      "1 - 4 Weeks\n",
      "3 - 6 Months\n",
      "3 - 6 Months\n",
      "3 - 6 Months\n",
      "3 - 6 Months\n",
      "3 - 6 Months\n",
      "3 - 6 Months\n",
      "_________________Leadership+Teamwork_____________\n",
      "https://www.coursera.org/search?query=Leadership+Teamwork&page=1&=null\n"
     ]
    },
    {
     "name": "stderr",
     "output_type": "stream",
     "text": [
      "\r",
      " 32%|██████████████████████████▋                                                        | 9/28 [00:25<00:54,  2.88s/it]"
     ]
    },
    {
     "name": "stdout",
     "output_type": "stream",
     "text": [
      "_________________Leadership+Communication_____________\n",
      "https://www.coursera.org/search?query=Leadership+Communication&page=1&=null\n"
     ]
    },
    {
     "name": "stderr",
     "output_type": "stream",
     "text": [
      "\r",
      " 36%|█████████████████████████████▎                                                    | 10/28 [00:31<01:06,  3.72s/it]"
     ]
    },
    {
     "name": "stdout",
     "output_type": "stream",
     "text": [
      "1 - 4 Weeks\n",
      "3 - 6 Months\n",
      "1 - 4 Weeks\n",
      "1 - 3 Months\n",
      "1 - 4 Weeks\n",
      "3 - 6 Months\n",
      "3 - 6 Months\n",
      "1 - 3 Months\n",
      "1 - 4 Weeks\n",
      "_________________Leadership+Trust_____________\n",
      "https://www.coursera.org/search?query=Leadership+Trust&page=1&=null\n"
     ]
    },
    {
     "name": "stderr",
     "output_type": "stream",
     "text": [
      "\r",
      " 39%|████████████████████████████████▏                                                 | 11/28 [00:32<00:50,  2.94s/it]"
     ]
    },
    {
     "name": "stdout",
     "output_type": "stream",
     "text": [
      "3 - 6 Months\n",
      "1 - 4 Weeks\n",
      "1 - 4 Weeks\n",
      "3 - 6 Months\n",
      "3 - 6 Months\n",
      "1 - 3 Months\n",
      "1 - 3 Months\n",
      "3 - 6 Months\n",
      "3 - 6 Months\n",
      "_________________Leadership+Respect_____________\n",
      "https://www.coursera.org/search?query=Leadership+Respect&page=1&=null\n"
     ]
    },
    {
     "name": "stderr",
     "output_type": "stream",
     "text": [
      "\r",
      " 43%|███████████████████████████████████▏                                              | 12/28 [00:34<00:42,  2.63s/it]"
     ]
    },
    {
     "name": "stdout",
     "output_type": "stream",
     "text": [
      "1 - 4 Weeks\n",
      "1 - 4 Weeks\n",
      "1 - 4 Weeks\n",
      "1 - 4 Weeks\n",
      "1 - 3 Months\n",
      "1 - 3 Months\n",
      "1 - 4 Weeks\n",
      "1 - 4 Weeks\n",
      "3 - 6 Months\n",
      "3 - 6 Months\n",
      "1 - 4 Weeks\n",
      "_________________Leadership+Performance_____________\n",
      "https://www.coursera.org/search?query=Leadership+Performance&page=1&=null\n"
     ]
    },
    {
     "name": "stderr",
     "output_type": "stream",
     "text": [
      "\r",
      " 46%|██████████████████████████████████████                                            | 13/28 [00:35<00:34,  2.27s/it]"
     ]
    },
    {
     "name": "stdout",
     "output_type": "stream",
     "text": [
      "1 - 4 Weeks\n",
      "3 - 6 Months\n",
      "1 - 4 Weeks\n",
      "1 - 4 Weeks\n",
      "1 - 3 Months\n",
      "1 - 4 Weeks\n",
      "1 - 4 Weeks\n",
      "1 - 4 Weeks\n",
      "1 - 4 Weeks\n",
      "1 - 3 Months\n",
      "1 - 3 Months\n",
      "_________________Creativity+Teamwork_____________\n",
      "https://www.coursera.org/search?query=Creativity+Teamwork&page=1&=null\n"
     ]
    },
    {
     "name": "stderr",
     "output_type": "stream",
     "text": [
      "\r",
      " 50%|█████████████████████████████████████████                                         | 14/28 [00:36<00:27,  2.00s/it]"
     ]
    },
    {
     "name": "stdout",
     "output_type": "stream",
     "text": [
      "_________________Creativity+Communication_____________\n",
      "https://www.coursera.org/search?query=Creativity+Communication&page=1&=null\n"
     ]
    },
    {
     "name": "stderr",
     "output_type": "stream",
     "text": [
      "\r",
      " 54%|███████████████████████████████████████████▉                                      | 15/28 [00:38<00:23,  1.82s/it]"
     ]
    },
    {
     "name": "stdout",
     "output_type": "stream",
     "text": [
      "1 - 3 Months\n",
      "Less Than 2 Hours\n",
      "1 - 3 Months\n",
      "1 - 4 Weeks\n",
      "1 - 4 Weeks\n",
      "1 - 3 Months\n",
      "Less Than 2 Hours\n",
      "1 - 4 Weeks\n",
      "_________________Creativity+Trust_____________\n",
      "https://www.coursera.org/search?query=Creativity+Trust&page=1&=null\n"
     ]
    },
    {
     "name": "stderr",
     "output_type": "stream",
     "text": [
      "\r",
      " 57%|██████████████████████████████████████████████▊                                   | 16/28 [00:39<00:20,  1.72s/it]"
     ]
    },
    {
     "name": "stdout",
     "output_type": "stream",
     "text": [
      "1 - 3 Months\n",
      "3 - 6 Months\n",
      "3 - 6 Months\n",
      "1 - 3 Months\n",
      "1 - 3 Months\n",
      "1 - 3 Months\n",
      "1 - 4 Weeks\n",
      "1 - 3 Months\n",
      "1 - 4 Weeks\n",
      "3 - 6 Months\n",
      "1 - 4 Weeks\n",
      "1 - 4 Weeks\n",
      "_________________Creativity+Respect_____________\n",
      "https://www.coursera.org/search?query=Creativity+Respect&page=1&=null\n"
     ]
    },
    {
     "name": "stderr",
     "output_type": "stream",
     "text": [
      "\r",
      " 61%|█████████████████████████████████████████████████▊                                | 17/28 [00:40<00:16,  1.54s/it]"
     ]
    },
    {
     "name": "stdout",
     "output_type": "stream",
     "text": [
      "_________________Creativity+Performance_____________\n",
      "https://www.coursera.org/search?query=Creativity+Performance&page=1&=null\n"
     ]
    },
    {
     "name": "stderr",
     "output_type": "stream",
     "text": [
      "\r",
      " 64%|████████████████████████████████████████████████████▋                             | 18/28 [00:42<00:14,  1.46s/it]"
     ]
    },
    {
     "name": "stdout",
     "output_type": "stream",
     "text": [
      "_________________Teamwork+Communication_____________\n",
      "https://www.coursera.org/search?query=Teamwork+Communication&page=1&=null\n"
     ]
    },
    {
     "name": "stderr",
     "output_type": "stream",
     "text": [
      "\r",
      " 68%|███████████████████████████████████████████████████████▋                          | 19/28 [00:43<00:12,  1.40s/it]"
     ]
    },
    {
     "name": "stdout",
     "output_type": "stream",
     "text": [
      "_________________Teamwork+Trust_____________\n",
      "https://www.coursera.org/search?query=Teamwork+Trust&page=1&=null\n"
     ]
    },
    {
     "name": "stderr",
     "output_type": "stream",
     "text": [
      "\r",
      " 71%|██████████████████████████████████████████████████████████▌                       | 20/28 [00:44<00:10,  1.31s/it]"
     ]
    },
    {
     "name": "stdout",
     "output_type": "stream",
     "text": [
      "Less Than 2 Hours\n",
      "1 - 4 Weeks\n",
      "1 - 4 Weeks\n",
      "1 - 3 Months\n",
      "1 - 4 Weeks\n",
      "1 - 4 Weeks\n",
      "1 - 4 Weeks\n",
      "Less Than 2 Hours\n",
      "_________________Teamwork+Respect_____________\n",
      "https://www.coursera.org/search?query=Teamwork+Respect&page=1&=null\n"
     ]
    },
    {
     "name": "stderr",
     "output_type": "stream",
     "text": [
      "\r",
      " 75%|█████████████████████████████████████████████████████████████▌                    | 21/28 [00:46<00:09,  1.42s/it]"
     ]
    },
    {
     "name": "stdout",
     "output_type": "stream",
     "text": [
      "_________________Teamwork+Performance_____________\n",
      "https://www.coursera.org/search?query=Teamwork+Performance&page=1&=null\n"
     ]
    },
    {
     "name": "stderr",
     "output_type": "stream",
     "text": [
      "\r",
      " 79%|████████████████████████████████████████████████████████████████▍                 | 22/28 [00:47<00:08,  1.42s/it]"
     ]
    },
    {
     "name": "stdout",
     "output_type": "stream",
     "text": [
      "_________________Communication+Trust_____________\n",
      "https://www.coursera.org/search?query=Communication+Trust&page=1&=null\n"
     ]
    },
    {
     "name": "stderr",
     "output_type": "stream",
     "text": [
      "\r",
      " 82%|███████████████████████████████████████████████████████████████████▎              | 23/28 [00:48<00:06,  1.37s/it]"
     ]
    },
    {
     "name": "stdout",
     "output_type": "stream",
     "text": [
      "1 - 3 Months\n",
      "1 - 3 Months\n",
      "1 - 4 Weeks\n",
      "1 - 4 Weeks\n",
      "1 - 4 Weeks\n",
      "1 - 3 Months\n",
      "_________________Communication+Respect_____________\n",
      "https://www.coursera.org/search?query=Communication+Respect&page=1&=null\n"
     ]
    },
    {
     "name": "stderr",
     "output_type": "stream",
     "text": [
      "\r",
      " 86%|██████████████████████████████████████████████████████████████████████▎           | 24/28 [00:50<00:05,  1.33s/it]"
     ]
    },
    {
     "name": "stdout",
     "output_type": "stream",
     "text": [
      "1 - 3 Months\n",
      "3 - 6 Months\n",
      "1 - 4 Weeks\n",
      "3 - 6 Months\n",
      "1 - 4 Weeks\n",
      "3 - 6 Months\n",
      "1 - 4 Weeks\n",
      "1 - 4 Weeks\n",
      "1 - 3 Months\n",
      "1 - 4 Weeks\n",
      "1 - 3 Months\n",
      "1 - 3 Months\n",
      "_________________Communication+Performance_____________\n",
      "https://www.coursera.org/search?query=Communication+Performance&page=1&=null\n"
     ]
    },
    {
     "name": "stderr",
     "output_type": "stream",
     "text": [
      "\r",
      " 89%|█████████████████████████████████████████████████████████████████████████▏        | 25/28 [00:51<00:04,  1.34s/it]"
     ]
    },
    {
     "name": "stdout",
     "output_type": "stream",
     "text": [
      "_________________Trust+Respect_____________\n",
      "https://www.coursera.org/search?query=Trust+Respect&page=1&=null\n"
     ]
    },
    {
     "name": "stderr",
     "output_type": "stream",
     "text": [
      "\r",
      " 93%|████████████████████████████████████████████████████████████████████████████▏     | 26/28 [00:53<00:02,  1.45s/it]"
     ]
    },
    {
     "name": "stdout",
     "output_type": "stream",
     "text": [
      "1 - 3 Months\n",
      "1 - 4 Weeks\n",
      "1 - 3 Months\n",
      "1 - 3 Months\n",
      "1 - 3 Months\n",
      "1 - 3 Months\n",
      "1 - 3 Months\n",
      "1 - 3 Months\n",
      "1 - 4 Weeks\n",
      "1 - 4 Weeks\n",
      "1 - 4 Weeks\n",
      "1 - 3 Months\n",
      "_________________Trust+Performance_____________\n",
      "https://www.coursera.org/search?query=Trust+Performance&page=1&=null\n"
     ]
    },
    {
     "name": "stderr",
     "output_type": "stream",
     "text": [
      "\r",
      " 96%|███████████████████████████████████████████████████████████████████████████████   | 27/28 [00:54<00:01,  1.36s/it]"
     ]
    },
    {
     "name": "stdout",
     "output_type": "stream",
     "text": [
      "1 - 4 Weeks\n",
      "Less Than 2 Hours\n",
      "3 - 6 Months\n",
      "1 - 3 Months\n",
      "3 - 6 Months\n",
      "1 - 4 Weeks\n",
      "1 - 3 Months\n",
      "1 - 3 Months\n",
      "1 - 3 Months\n",
      "1 - 3 Months\n",
      "1 - 4 Weeks\n",
      "_________________Respect+Performance_____________\n",
      "https://www.coursera.org/search?query=Respect+Performance&page=1&=null\n"
     ]
    },
    {
     "name": "stderr",
     "output_type": "stream",
     "text": [
      "100%|██████████████████████████████████████████████████████████████████████████████████| 28/28 [00:55<00:00,  1.99s/it]\n"
     ]
    },
    {
     "name": "stdout",
     "output_type": "stream",
     "text": [
      "1 - 3 Months\n",
      "1 - 3 Months\n",
      "1 - 4 Weeks\n",
      "1 - 4 Weeks\n",
      "1 - 4 Weeks\n",
      "1 - 3 Months\n",
      "1 - 4 Weeks\n"
     ]
    },
    {
     "name": "stderr",
     "output_type": "stream",
     "text": [
      "\r",
      "  0%|                                                                                           | 0/28 [00:00<?, ?it/s]"
     ]
    },
    {
     "name": "stdout",
     "output_type": "stream",
     "text": [
      "_________________Leadership_____________\n",
      "https://www.coursera.org/search?query=Leadership&page=1&=null\n"
     ]
    },
    {
     "name": "stderr",
     "output_type": "stream",
     "text": [
      "\r",
      "  4%|██▉                                                                                | 1/28 [00:02<00:56,  2.11s/it]"
     ]
    },
    {
     "name": "stdout",
     "output_type": "stream",
     "text": [
      "3 - 6 Months\n",
      "3 - 6 Months\n",
      "1 - 3 Months\n",
      "1 - 3 Months\n",
      "3 - 6 Months\n",
      "3 - 6 Months\n",
      "1 - 4 Weeks\n",
      "3 - 6 Months\n",
      "1 - 4 Weeks\n",
      "1 - 4 Weeks\n",
      "3 - 6 Months\n",
      "3 - 6 Months\n",
      "_________________Creativity_____________\n",
      "https://www.coursera.org/search?query=Creativity&page=1&=null\n"
     ]
    },
    {
     "name": "stderr",
     "output_type": "stream",
     "text": [
      "\r",
      "  7%|█████▉                                                                             | 2/28 [00:03<00:44,  1.69s/it]"
     ]
    },
    {
     "name": "stdout",
     "output_type": "stream",
     "text": [
      "_________________Teamwork_____________\n",
      "https://www.coursera.org/search?query=Teamwork&page=1&=null\n"
     ]
    },
    {
     "name": "stderr",
     "output_type": "stream",
     "text": [
      "\r",
      " 11%|████████▉                                                                          | 3/28 [00:08<01:18,  3.15s/it]"
     ]
    },
    {
     "name": "stdout",
     "output_type": "stream",
     "text": [
      "_________________Communication_____________\n",
      "https://www.coursera.org/search?query=Communication&page=1&=null\n"
     ]
    },
    {
     "name": "stderr",
     "output_type": "stream",
     "text": [
      "\r",
      " 14%|███████████▊                                                                       | 4/28 [00:10<01:00,  2.54s/it]"
     ]
    },
    {
     "name": "stdout",
     "output_type": "stream",
     "text": [
      "1 - 4 Weeks\n",
      "1 - 4 Weeks\n",
      "3 - 6 Months\n",
      "3 - 6 Months\n",
      "3 - 6 Months\n",
      "1 - 4 Weeks\n",
      "1 - 4 Weeks\n",
      "1 - 3 Months\n",
      "1 - 3 Months\n",
      "1 - 3 Months\n",
      "3 - 6 Months\n",
      "3 - 6 Months\n",
      "_________________Trust_____________\n",
      "https://www.coursera.org/search?query=Trust&page=1&=null\n"
     ]
    },
    {
     "name": "stderr",
     "output_type": "stream",
     "text": [
      "\r",
      " 18%|██████████████▊                                                                    | 5/28 [00:11<00:50,  2.19s/it]"
     ]
    },
    {
     "name": "stdout",
     "output_type": "stream",
     "text": [
      "1 - 3 Months\n",
      "1 - 3 Months\n",
      "1 - 4 Weeks\n",
      "1 - 4 Weeks\n",
      "Less Than 2 Hours\n",
      "24 - 60 months\n",
      "1 - 3 Months\n",
      "1 - 4 Weeks\n",
      "_________________Respect_____________\n",
      "https://www.coursera.org/search?query=Respect&page=1&=null\n"
     ]
    },
    {
     "name": "stderr",
     "output_type": "stream",
     "text": [
      "\r",
      " 21%|█████████████████▊                                                                 | 6/28 [00:13<00:44,  2.01s/it]"
     ]
    },
    {
     "name": "stdout",
     "output_type": "stream",
     "text": [
      "3 - 6 Months\n",
      "3 - 6 Months\n",
      "3 - 6 Months\n",
      "3 - 6 Months\n",
      "3 - 6 Months\n",
      "1 - 4 Weeks\n",
      "1 - 4 Weeks\n",
      "1 - 3 Months\n",
      "1 - 3 Months\n",
      "3 - 6 Months\n",
      "3 - 6 Months\n",
      "1 - 3 Months\n",
      "_________________Performance_____________\n",
      "https://www.coursera.org/search?query=Performance&page=1&=null\n"
     ]
    },
    {
     "name": "stderr",
     "output_type": "stream",
     "text": [
      "\r",
      " 25%|████████████████████▊                                                              | 7/28 [00:15<00:40,  1.95s/it]"
     ]
    },
    {
     "name": "stdout",
     "output_type": "stream",
     "text": [
      "_________________Leadership+Creativity_____________\n",
      "https://www.coursera.org/search?query=Leadership+Creativity&page=1&=null\n"
     ]
    },
    {
     "name": "stderr",
     "output_type": "stream",
     "text": [
      "\r",
      " 29%|███████████████████████▋                                                           | 8/28 [00:16<00:35,  1.76s/it]"
     ]
    },
    {
     "name": "stdout",
     "output_type": "stream",
     "text": [
      "_________________Leadership+Teamwork_____________\n",
      "https://www.coursera.org/search?query=Leadership+Teamwork&page=1&=null\n"
     ]
    },
    {
     "name": "stderr",
     "output_type": "stream",
     "text": [
      "\r",
      " 32%|██████████████████████████▋                                                        | 9/28 [00:17<00:31,  1.68s/it]"
     ]
    },
    {
     "name": "stdout",
     "output_type": "stream",
     "text": [
      "_________________Leadership+Communication_____________\n",
      "https://www.coursera.org/search?query=Leadership+Communication&page=1&=null\n"
     ]
    },
    {
     "name": "stderr",
     "output_type": "stream",
     "text": [
      "\r",
      " 36%|█████████████████████████████▎                                                    | 10/28 [00:19<00:29,  1.65s/it]"
     ]
    },
    {
     "name": "stdout",
     "output_type": "stream",
     "text": [
      "1 - 4 Weeks\n",
      "3 - 6 Months\n",
      "1 - 4 Weeks\n",
      "1 - 3 Months\n",
      "1 - 4 Weeks\n",
      "3 - 6 Months\n",
      "3 - 6 Months\n",
      "1 - 3 Months\n",
      "1 - 4 Weeks\n",
      "_________________Leadership+Trust_____________\n",
      "https://www.coursera.org/search?query=Leadership+Trust&page=1&=null\n"
     ]
    },
    {
     "name": "stderr",
     "output_type": "stream",
     "text": [
      "\r",
      " 39%|████████████████████████████████▏                                                 | 11/28 [00:20<00:26,  1.56s/it]"
     ]
    },
    {
     "name": "stdout",
     "output_type": "stream",
     "text": [
      "_________________Leadership+Respect_____________\n",
      "https://www.coursera.org/search?query=Leadership+Respect&page=1&=null\n"
     ]
    },
    {
     "name": "stderr",
     "output_type": "stream",
     "text": [
      "\r",
      " 43%|███████████████████████████████████▏                                              | 12/28 [00:22<00:25,  1.58s/it]"
     ]
    },
    {
     "name": "stdout",
     "output_type": "stream",
     "text": [
      "1 - 4 Weeks\n",
      "1 - 4 Weeks\n",
      "1 - 4 Weeks\n",
      "1 - 4 Weeks\n",
      "1 - 3 Months\n",
      "1 - 3 Months\n",
      "1 - 4 Weeks\n",
      "1 - 4 Weeks\n",
      "3 - 6 Months\n",
      "3 - 6 Months\n",
      "1 - 4 Weeks\n",
      "_________________Leadership+Performance_____________\n",
      "https://www.coursera.org/search?query=Leadership+Performance&page=1&=null\n"
     ]
    },
    {
     "name": "stderr",
     "output_type": "stream",
     "text": [
      "\r",
      " 46%|██████████████████████████████████████                                            | 13/28 [00:23<00:22,  1.53s/it]"
     ]
    },
    {
     "name": "stdout",
     "output_type": "stream",
     "text": [
      "1 - 4 Weeks\n",
      "3 - 6 Months\n",
      "1 - 4 Weeks\n",
      "1 - 4 Weeks\n",
      "1 - 3 Months\n",
      "1 - 4 Weeks\n",
      "1 - 4 Weeks\n",
      "1 - 4 Weeks\n",
      "1 - 4 Weeks\n",
      "1 - 3 Months\n",
      "1 - 3 Months\n",
      "_________________Creativity+Teamwork_____________\n",
      "https://www.coursera.org/search?query=Creativity+Teamwork&page=1&=null\n"
     ]
    },
    {
     "name": "stderr",
     "output_type": "stream",
     "text": [
      "\r",
      " 50%|█████████████████████████████████████████                                         | 14/28 [00:25<00:19,  1.43s/it]"
     ]
    },
    {
     "name": "stdout",
     "output_type": "stream",
     "text": [
      "_________________Creativity+Communication_____________\n",
      "https://www.coursera.org/search?query=Creativity+Communication&page=1&=null\n"
     ]
    },
    {
     "name": "stderr",
     "output_type": "stream",
     "text": [
      "\r",
      " 54%|███████████████████████████████████████████▉                                      | 15/28 [00:26<00:17,  1.36s/it]"
     ]
    },
    {
     "name": "stdout",
     "output_type": "stream",
     "text": [
      "1 - 3 Months\n",
      "Less Than 2 Hours\n",
      "1 - 3 Months\n",
      "1 - 4 Weeks\n",
      "1 - 4 Weeks\n",
      "1 - 3 Months\n",
      "Less Than 2 Hours\n",
      "1 - 4 Weeks\n",
      "_________________Creativity+Trust_____________\n",
      "https://www.coursera.org/search?query=Creativity+Trust&page=1&=null\n"
     ]
    },
    {
     "name": "stderr",
     "output_type": "stream",
     "text": [
      "\r",
      " 57%|██████████████████████████████████████████████▊                                   | 16/28 [00:27<00:16,  1.34s/it]"
     ]
    },
    {
     "name": "stdout",
     "output_type": "stream",
     "text": [
      "1 - 3 Months\n",
      "3 - 6 Months\n",
      "3 - 6 Months\n",
      "1 - 3 Months\n",
      "1 - 3 Months\n",
      "1 - 3 Months\n",
      "1 - 4 Weeks\n",
      "1 - 3 Months\n",
      "1 - 4 Weeks\n",
      "3 - 6 Months\n",
      "1 - 4 Weeks\n",
      "1 - 4 Weeks\n",
      "_________________Creativity+Respect_____________\n",
      "https://www.coursera.org/search?query=Creativity+Respect&page=1&=null\n"
     ]
    },
    {
     "name": "stderr",
     "output_type": "stream",
     "text": [
      "\r",
      " 61%|█████████████████████████████████████████████████▊                                | 17/28 [00:28<00:14,  1.34s/it]"
     ]
    },
    {
     "name": "stdout",
     "output_type": "stream",
     "text": [
      "3 - 6 Months\n",
      "1 - 4 Weeks\n",
      "1 - 4 Weeks\n",
      "3 - 6 Months\n",
      "1 - 4 Weeks\n",
      "1 - 3 Months\n",
      "1 - 3 Months\n",
      "1 - 3 Months\n",
      "1 - 4 Weeks\n",
      "Less Than 2 Hours\n",
      "_________________Creativity+Performance_____________\n",
      "https://www.coursera.org/search?query=Creativity+Performance&page=1&=null\n"
     ]
    },
    {
     "name": "stderr",
     "output_type": "stream",
     "text": [
      "\r",
      " 64%|████████████████████████████████████████████████████▋                             | 18/28 [00:30<00:13,  1.34s/it]"
     ]
    },
    {
     "name": "stdout",
     "output_type": "stream",
     "text": [
      "1 - 4 Weeks\n",
      "1 - 4 Weeks\n",
      "3 - 6 Months\n",
      "3 - 6 Months\n",
      "1 - 4 Weeks\n",
      "1 - 4 Weeks\n",
      "1 - 3 Months\n",
      "1 - 3 Months\n",
      "3 - 6 Months\n",
      "3 - 6 Months\n",
      "_________________Teamwork+Communication_____________\n",
      "https://www.coursera.org/search?query=Teamwork+Communication&page=1&=null\n"
     ]
    },
    {
     "name": "stderr",
     "output_type": "stream",
     "text": [
      "\r",
      " 68%|███████████████████████████████████████████████████████▋                          | 19/28 [00:31<00:12,  1.36s/it]"
     ]
    },
    {
     "name": "stdout",
     "output_type": "stream",
     "text": [
      "_________________Teamwork+Trust_____________\n",
      "https://www.coursera.org/search?query=Teamwork+Trust&page=1&=null\n"
     ]
    },
    {
     "name": "stderr",
     "output_type": "stream",
     "text": [
      "\r",
      " 71%|██████████████████████████████████████████████████████████▌                       | 20/28 [00:33<00:11,  1.41s/it]"
     ]
    },
    {
     "name": "stdout",
     "output_type": "stream",
     "text": [
      "_________________Teamwork+Respect_____________\n",
      "https://www.coursera.org/search?query=Teamwork+Respect&page=1&=null\n"
     ]
    }
   ],
   "source": [
    "# Your existing code here...\n",
    "\n",
    "#this to collect more data \n",
    "# Modify the loop to extract data and append it to the DataFrame\n",
    "for j in tqdm(skills_list):\n",
    "    print(\"_________________\"+j+\"_____________\")\n",
    "    CourseURL=[]\n",
    "    course_url = \"https://www.coursera.org/search?query=\" + j + \"&page=1&=null\"\n",
    "    print(course_url)\n",
    "    response = requests.get(course_url)\n",
    "    soup = BeautifulSoup(response.content, \"html.parser\")\n",
    "    ul_element = soup.find(\"ul\", class_=\"cds-9 css-18msmec cds-10\")\n",
    "    div_elements = ul_element.find_all(\"div\", class_=\"css-1cj5od\")\n",
    "    ally = ul_element.find_all(\"div\", class_=\"product-reviews css-pn23ng\")\n",
    "\n",
    "    # Use zip() to iterate over both div_elements and ally lists together\n",
    "    for element, review_element in zip(div_elements, ally):\n",
    "        href = element.a.get(\"href\")\n",
    "        school = element.find(\"span\", class_=\"cds-119 css-1mru19s cds-121\").get_text()\n",
    "        title = element.find(\"h2\", class_=\"cds-119 css-h1jogs cds-121\").get_text()\n",
    "        reviews = review_element.find('p', class_='cds-119 css-dmxkm1 cds-121').get_text()\n",
    "        rating = review_element.find('p', class_='cds-119 css-11uuo4b cds-121').get_text()\n",
    "        level =  ' '.join(element.a.get(\"aria-label\").split()[-6:-3])\n",
    "        duration = ' '.join(element.a.get(\"aria-label\").split()[-4:])\n",
    "        print(duration)\n",
    "        competence= element.find(\"p\", class_=\"cds-119 css-12ksubz cds-121\").get_text().replace(\"Skills you'll gain: \", \"\").split(', ') if element.find(\"p\", class_=\"cds-119 css-12ksubz cds-121\") else \"\"\n",
    "        # Assuming you have other metrics, level, duration, etc., you can extract them similarly\n",
    "        # Append the data to the DataFrame\n",
    "        Main = Main.append({\n",
    "            'metric(s)': j,\n",
    "            'URL': \"https://www.coursera.org\" + href,\n",
    "            'Title': title,\n",
    "            'Trainer': school,\n",
    "            'rate': rating,\n",
    "            'evaluation nbr': reviews,\n",
    "            # Add other data for level, duration, etc.\n",
    "            'level': level,\n",
    "            'duration': duration,\n",
    "            'aquired competences': competence\n",
    "        }, ignore_index=True)\n"
   ]
  },
  {
   "cell_type": "code",
   "execution_count": 148,
   "id": "66dca1b7",
   "metadata": {},
   "outputs": [
    {
     "data": {
      "text/plain": [
       "['Leadership',\n",
       " 'Creativity',\n",
       " 'Teamwork',\n",
       " 'Communication',\n",
       " 'Trust',\n",
       " 'Respect',\n",
       " 'Performance',\n",
       " 'Leadership+Creativity',\n",
       " 'Leadership+Teamwork',\n",
       " 'Leadership+Communication',\n",
       " 'Leadership+Trust',\n",
       " 'Leadership+Respect',\n",
       " 'Leadership+Performance',\n",
       " 'Creativity+Teamwork',\n",
       " 'Creativity+Communication',\n",
       " 'Creativity+Trust',\n",
       " 'Creativity+Respect',\n",
       " 'Creativity+Performance',\n",
       " 'Teamwork+Communication',\n",
       " 'Teamwork+Trust',\n",
       " 'Teamwork+Respect',\n",
       " 'Teamwork+Performance',\n",
       " 'Communication+Trust',\n",
       " 'Communication+Respect',\n",
       " 'Communication+Performance',\n",
       " 'Trust+Respect',\n",
       " 'Trust+Performance',\n",
       " 'Respect+Performance']"
      ]
     },
     "execution_count": 148,
     "metadata": {},
     "output_type": "execute_result"
    }
   ],
   "source": [
    "skills_list"
   ]
  },
  {
   "cell_type": "markdown",
   "id": "6951aa48",
   "metadata": {},
   "source": [
    "# Manual skills"
   ]
  },
  {
   "cell_type": "code",
   "execution_count": null,
   "id": "bb408340",
   "metadata": {},
   "outputs": [],
   "source": []
  },
  {
   "cell_type": "code",
   "execution_count": null,
   "id": "cc55e8bf",
   "metadata": {},
   "outputs": [],
   "source": [
    "j=\"Communication\"\n",
    "print(\"_________________\"+j+\"_____________\")\n",
    "CourseURL=[]\n",
    "for k in range(1, 11):\n",
    "    course_url = \"https://www.coursera.org/search?query=\" + j + \"&page=\" + str(k) + \"&=null\"\n",
    "    print(course_url)\n",
    "    response = requests.get(course_url)\n",
    "    soup = BeautifulSoup(response.content, \"html.parser\")\n",
    "    ul_element = soup.find(\"ul\", class_=\"cds-9 css-18msmec cds-10\")\n",
    "    div_elements = ul_element.find_all(\"div\", class_=\"css-1cj5od\")\n",
    "    ally = ul_element.find_all(\"div\", class_=\"product-reviews css-pn23ng\")\n",
    "\n",
    "    # Use zip() to iterate over both div_elements and ally lists together\n",
    "    for element, review_element in zip(div_elements, ally):\n",
    "        href = element.a.get(\"href\")\n",
    "        school = element.find(\"span\", class_=\"cds-119 css-1mru19s cds-121\").get_text()\n",
    "        title = element.find(\"h2\", class_=\"cds-119 css-h1jogs cds-121\").get_text()\n",
    "        reviews = review_element.find('p', class_='cds-119 css-dmxkm1 cds-121').get_text()\n",
    "        rating = review_element.find('p', class_='cds-119 css-11uuo4b cds-121').get_text()\n",
    "        level =  ' '.join(element.a.get(\"aria-label\").split()[-6:-3])\n",
    "        duration = ' '.join(element.a.get(\"aria-label\").split()[-4:])\n",
    "        print(duration)\n",
    "        competence= element.find(\"p\", class_=\"cds-119 css-12ksubz cds-121\").get_text().replace(\"Skills you'll gain: \", \"\").split(', ') if element.find(\"p\", class_=\"cds-119 css-12ksubz cds-121\") else \"\"\n",
    "        # Assuming you have other metrics, level, duration, etc., you can extract them similarly\n",
    "        # Append the data to the DataFrame\n",
    "        Main = Main.append({\n",
    "            'metric(s)': j,\n",
    "            'URL': \"https://www.coursera.org\" + href,\n",
    "            'Title': title,\n",
    "            'Trainer': school,\n",
    "            'rate': rating,\n",
    "            'evaluation nbr': reviews,\n",
    "            # Add other data for level, duration, etc.\n",
    "            'level': level,\n",
    "            'duration': duration,\n",
    "            'aquired competences': competence\n",
    "        }, ignore_index=True)"
   ]
  },
  {
   "cell_type": "code",
   "execution_count": null,
   "id": "8a0714ff",
   "metadata": {},
   "outputs": [],
   "source": []
  },
  {
   "cell_type": "markdown",
   "id": "fe64a63a",
   "metadata": {},
   "source": [
    "# "
   ]
  },
  {
   "cell_type": "code",
   "execution_count": 140,
   "id": "b2588253",
   "metadata": {},
   "outputs": [
    {
     "data": {
      "text/html": [
       "<div>\n",
       "<style scoped>\n",
       "    .dataframe tbody tr th:only-of-type {\n",
       "        vertical-align: middle;\n",
       "    }\n",
       "\n",
       "    .dataframe tbody tr th {\n",
       "        vertical-align: top;\n",
       "    }\n",
       "\n",
       "    .dataframe thead th {\n",
       "        text-align: right;\n",
       "    }\n",
       "</style>\n",
       "<table border=\"1\" class=\"dataframe\">\n",
       "  <thead>\n",
       "    <tr style=\"text-align: right;\">\n",
       "      <th></th>\n",
       "      <th>metric(s)</th>\n",
       "      <th>URL</th>\n",
       "      <th>Title</th>\n",
       "      <th>Trainer</th>\n",
       "      <th>rate</th>\n",
       "      <th>evaluation nbr</th>\n",
       "      <th>level</th>\n",
       "      <th>duration</th>\n",
       "      <th>aquired competences</th>\n",
       "    </tr>\n",
       "  </thead>\n",
       "  <tbody>\n",
       "    <tr>\n",
       "      <th>0</th>\n",
       "      <td>Leadership</td>\n",
       "      <td>https://www.coursera.org/specializations/leadi...</td>\n",
       "      <td>Leading People and Teams</td>\n",
       "      <td>University of Michigan</td>\n",
       "      <td>4.7</td>\n",
       "      <td>(10k reviews)</td>\n",
       "      <td>Beginner level 3</td>\n",
       "      <td>3 - 6 Months</td>\n",
       "      <td>[Human Resources, Leadership and Management, B...</td>\n",
       "    </tr>\n",
       "    <tr>\n",
       "      <th>1</th>\n",
       "      <td>Leadership</td>\n",
       "      <td>https://www.coursera.org/specializations/strat...</td>\n",
       "      <td>Strategic Leadership and Management</td>\n",
       "      <td>University of Illinois at Urbana-Champaign</td>\n",
       "      <td>4.8</td>\n",
       "      <td>(8.5k reviews)</td>\n",
       "      <td>Beginner level 3</td>\n",
       "      <td>3 - 6 Months</td>\n",
       "      <td>[Leadership and Management, Entrepreneurship, ...</td>\n",
       "    </tr>\n",
       "    <tr>\n",
       "      <th>2</th>\n",
       "      <td>Leadership</td>\n",
       "      <td>https://www.coursera.org/learn/connected-leade...</td>\n",
       "      <td>Connected Leadership</td>\n",
       "      <td>Yale University</td>\n",
       "      <td>4.8</td>\n",
       "      <td>(130 reviews)</td>\n",
       "      <td>Beginner level 1</td>\n",
       "      <td>1 - 3 Months</td>\n",
       "      <td>[Entrepreneurship, Leadership and Management, ...</td>\n",
       "    </tr>\n",
       "    <tr>\n",
       "      <th>3</th>\n",
       "      <td>Leadership</td>\n",
       "      <td>https://www.coursera.org/learn/leadershipskills</td>\n",
       "      <td>Leadership Skills</td>\n",
       "      <td>IIMA - IIM Ahmedabad</td>\n",
       "      <td>4.8</td>\n",
       "      <td>(428 reviews)</td>\n",
       "      <td>Beginner level 1</td>\n",
       "      <td>1 - 3 Months</td>\n",
       "      <td>[Leadership and Management, Human Resources, L...</td>\n",
       "    </tr>\n",
       "    <tr>\n",
       "      <th>4</th>\n",
       "      <td>Leadership</td>\n",
       "      <td>https://www.coursera.org/specializations/strat...</td>\n",
       "      <td>Strategic Leadership: Impact, Change, and Deci...</td>\n",
       "      <td>Dartmouth College</td>\n",
       "      <td>4.8</td>\n",
       "      <td>(252 reviews)</td>\n",
       "      <td>Beginner level 3</td>\n",
       "      <td>3 - 6 Months</td>\n",
       "      <td>[Leadership and Management, Entrepreneurship, ...</td>\n",
       "    </tr>\n",
       "    <tr>\n",
       "      <th>...</th>\n",
       "      <td>...</td>\n",
       "      <td>...</td>\n",
       "      <td>...</td>\n",
       "      <td>...</td>\n",
       "      <td>...</td>\n",
       "      <td>...</td>\n",
       "      <td>...</td>\n",
       "      <td>...</td>\n",
       "      <td>...</td>\n",
       "    </tr>\n",
       "    <tr>\n",
       "      <th>7802</th>\n",
       "      <td>Leadership+Teamwork</td>\n",
       "      <td>https://www.coursera.org/specializations/hr-ma...</td>\n",
       "      <td>Leading: Human Resource Management and Leadership</td>\n",
       "      <td>Macquarie University</td>\n",
       "      <td>4.7</td>\n",
       "      <td>(3.1k reviews)</td>\n",
       "      <td>Intermediate level 3</td>\n",
       "      <td>3 - 6 Months</td>\n",
       "      <td>[Leadership and Management, Business Psycholog...</td>\n",
       "    </tr>\n",
       "    <tr>\n",
       "      <th>7803</th>\n",
       "      <td>Leadership+Teamwork</td>\n",
       "      <td>https://www.coursera.org/learn/teamwork-skills...</td>\n",
       "      <td>Teamwork Skills: Communicating Effectively in ...</td>\n",
       "      <td>University of Colorado Boulder</td>\n",
       "      <td>4.7</td>\n",
       "      <td>(162 reviews)</td>\n",
       "      <td>Beginner level 1</td>\n",
       "      <td>1 - 4 Weeks</td>\n",
       "      <td>[Collaboration, Communication, Leadership and ...</td>\n",
       "    </tr>\n",
       "    <tr>\n",
       "      <th>7804</th>\n",
       "      <td>Leadership+Teamwork</td>\n",
       "      <td>https://www.coursera.org/specializations/leade...</td>\n",
       "      <td>Leadership for Public Health Crises</td>\n",
       "      <td>The State University of New York</td>\n",
       "      <td>4.7</td>\n",
       "      <td>(23 reviews)</td>\n",
       "      <td>Beginner level 1</td>\n",
       "      <td>1 - 3 Months</td>\n",
       "      <td>[Communication, Entrepreneurship, Finance, Lea...</td>\n",
       "    </tr>\n",
       "    <tr>\n",
       "      <th>7805</th>\n",
       "      <td>Leadership+Teamwork</td>\n",
       "      <td>https://www.coursera.org/learn/communication-l...</td>\n",
       "      <td>Communication and Leadership during a Public H...</td>\n",
       "      <td>The State University of New York</td>\n",
       "      <td>4.8</td>\n",
       "      <td>(402 reviews)</td>\n",
       "      <td>Beginner level 1</td>\n",
       "      <td>1 - 4 Weeks</td>\n",
       "      <td>[Communication, Entrepreneurship, Finance, Lea...</td>\n",
       "    </tr>\n",
       "    <tr>\n",
       "      <th>7806</th>\n",
       "      <td>Leadership+Teamwork</td>\n",
       "      <td>https://www.coursera.org/learn/patient-safety-...</td>\n",
       "      <td>Setting the Stage for Success: An Eye on Safet...</td>\n",
       "      <td>Johns Hopkins University</td>\n",
       "      <td>4.3</td>\n",
       "      <td>(20 reviews)</td>\n",
       "      <td>Mixed level 1</td>\n",
       "      <td>1 - 4 Weeks</td>\n",
       "      <td>[Communication, Leadership and Management, Bus...</td>\n",
       "    </tr>\n",
       "  </tbody>\n",
       "</table>\n",
       "<p>7807 rows × 9 columns</p>\n",
       "</div>"
      ],
      "text/plain": [
       "                metric(s)                                                URL  \\\n",
       "0              Leadership  https://www.coursera.org/specializations/leadi...   \n",
       "1              Leadership  https://www.coursera.org/specializations/strat...   \n",
       "2              Leadership  https://www.coursera.org/learn/connected-leade...   \n",
       "3              Leadership    https://www.coursera.org/learn/leadershipskills   \n",
       "4              Leadership  https://www.coursera.org/specializations/strat...   \n",
       "...                   ...                                                ...   \n",
       "7802  Leadership+Teamwork  https://www.coursera.org/specializations/hr-ma...   \n",
       "7803  Leadership+Teamwork  https://www.coursera.org/learn/teamwork-skills...   \n",
       "7804  Leadership+Teamwork  https://www.coursera.org/specializations/leade...   \n",
       "7805  Leadership+Teamwork  https://www.coursera.org/learn/communication-l...   \n",
       "7806  Leadership+Teamwork  https://www.coursera.org/learn/patient-safety-...   \n",
       "\n",
       "                                                  Title  \\\n",
       "0                              Leading People and Teams   \n",
       "1                   Strategic Leadership and Management   \n",
       "2                                  Connected Leadership   \n",
       "3                                     Leadership Skills   \n",
       "4     Strategic Leadership: Impact, Change, and Deci...   \n",
       "...                                                 ...   \n",
       "7802  Leading: Human Resource Management and Leadership   \n",
       "7803  Teamwork Skills: Communicating Effectively in ...   \n",
       "7804                Leadership for Public Health Crises   \n",
       "7805  Communication and Leadership during a Public H...   \n",
       "7806  Setting the Stage for Success: An Eye on Safet...   \n",
       "\n",
       "                                         Trainer rate  evaluation nbr  \\\n",
       "0                         University of Michigan  4.7   (10k reviews)   \n",
       "1     University of Illinois at Urbana-Champaign  4.8  (8.5k reviews)   \n",
       "2                                Yale University  4.8   (130 reviews)   \n",
       "3                           IIMA - IIM Ahmedabad  4.8   (428 reviews)   \n",
       "4                              Dartmouth College  4.8   (252 reviews)   \n",
       "...                                          ...  ...             ...   \n",
       "7802                        Macquarie University  4.7  (3.1k reviews)   \n",
       "7803              University of Colorado Boulder  4.7   (162 reviews)   \n",
       "7804            The State University of New York  4.7    (23 reviews)   \n",
       "7805            The State University of New York  4.8   (402 reviews)   \n",
       "7806                    Johns Hopkins University  4.3    (20 reviews)   \n",
       "\n",
       "                     level      duration  \\\n",
       "0         Beginner level 3  3 - 6 Months   \n",
       "1         Beginner level 3  3 - 6 Months   \n",
       "2         Beginner level 1  1 - 3 Months   \n",
       "3         Beginner level 1  1 - 3 Months   \n",
       "4         Beginner level 3  3 - 6 Months   \n",
       "...                    ...           ...   \n",
       "7802  Intermediate level 3  3 - 6 Months   \n",
       "7803      Beginner level 1   1 - 4 Weeks   \n",
       "7804      Beginner level 1  1 - 3 Months   \n",
       "7805      Beginner level 1   1 - 4 Weeks   \n",
       "7806         Mixed level 1   1 - 4 Weeks   \n",
       "\n",
       "                                    aquired competences  \n",
       "0     [Human Resources, Leadership and Management, B...  \n",
       "1     [Leadership and Management, Entrepreneurship, ...  \n",
       "2     [Entrepreneurship, Leadership and Management, ...  \n",
       "3     [Leadership and Management, Human Resources, L...  \n",
       "4     [Leadership and Management, Entrepreneurship, ...  \n",
       "...                                                 ...  \n",
       "7802  [Leadership and Management, Business Psycholog...  \n",
       "7803  [Collaboration, Communication, Leadership and ...  \n",
       "7804  [Communication, Entrepreneurship, Finance, Lea...  \n",
       "7805  [Communication, Entrepreneurship, Finance, Lea...  \n",
       "7806  [Communication, Leadership and Management, Bus...  \n",
       "\n",
       "[7807 rows x 9 columns]"
      ]
     },
     "execution_count": 140,
     "metadata": {},
     "output_type": "execute_result"
    }
   ],
   "source": [
    "Main"
   ]
  },
  {
   "cell_type": "code",
   "execution_count": 141,
   "id": "5956ba3d",
   "metadata": {},
   "outputs": [
    {
     "data": {
      "text/plain": [
       "Respect                      576\n",
       "Leadership+Creativity        542\n",
       "Performance                  521\n",
       "Creativity                   510\n",
       "Communication+Trust          480\n",
       "Leadership                   468\n",
       "Creativity+Communication     456\n",
       "Communication+Performance    448\n",
       "Leadership+Performance       434\n",
       "Trust                        418\n",
       "Leadership+Communication     405\n",
       "Leadership+Trust             385\n",
       "Leadership+Respect           310\n",
       "Communication                306\n",
       "Teamwork                     265\n",
       "Communication+Respect        254\n",
       "Teamwork+Communication       193\n",
       "Creativity+Performance       187\n",
       "Leadership+Teamwork          182\n",
       "Trust+Performance            123\n",
       "Creativity+Trust              93\n",
       "Creativity+Teamwork           65\n",
       "Teamwork+Trust                45\n",
       "Trust+Respect                 44\n",
       "Creativity+Respect            40\n",
       "Teamwork+Performance          29\n",
       "Respect+Performance           28\n",
       "Name: metric(s), dtype: int64"
      ]
     },
     "execution_count": 141,
     "metadata": {},
     "output_type": "execute_result"
    }
   ],
   "source": [
    "Main['metric(s)'].value_counts()"
   ]
  },
  {
   "cell_type": "code",
   "execution_count": 142,
   "id": "5654828c",
   "metadata": {},
   "outputs": [],
   "source": [
    "Main.drop_duplicates(subset='URL', inplace=True)"
   ]
  },
  {
   "cell_type": "code",
   "execution_count": 143,
   "id": "ba32e6a2",
   "metadata": {},
   "outputs": [
    {
     "data": {
      "text/plain": [
       "Performance                  86\n",
       "Leadership                   84\n",
       "Respect                      79\n",
       "Creativity                   76\n",
       "Communication+Trust          68\n",
       "Trust                        63\n",
       "Communication                53\n",
       "Leadership+Performance       51\n",
       "Creativity+Communication     48\n",
       "Leadership+Communication     47\n",
       "Teamwork                     43\n",
       "Leadership+Trust             36\n",
       "Communication+Performance    35\n",
       "Leadership+Respect           31\n",
       "Communication+Respect        28\n",
       "Leadership+Creativity        22\n",
       "Leadership+Teamwork          13\n",
       "Creativity+Performance       13\n",
       "Teamwork+Communication       13\n",
       "Trust+Performance             8\n",
       "Creativity+Trust              7\n",
       "Creativity+Respect            4\n",
       "Teamwork+Trust                3\n",
       "Respect+Performance           3\n",
       "Teamwork+Performance          2\n",
       "Creativity+Teamwork           2\n",
       "Trust+Respect                 2\n",
       "Name: metric(s), dtype: int64"
      ]
     },
     "execution_count": 143,
     "metadata": {},
     "output_type": "execute_result"
    }
   ],
   "source": [
    "Main['metric(s)'].value_counts()"
   ]
  },
  {
   "cell_type": "code",
   "execution_count": 124,
   "id": "c8087680",
   "metadata": {},
   "outputs": [],
   "source": [
    "Main.sort_values(by='metric(s)', inplace=True)"
   ]
  },
  {
   "cell_type": "code",
   "execution_count": 133,
   "id": "d24a51ff",
   "metadata": {},
   "outputs": [
    {
     "data": {
      "text/plain": [
       "['Marketing',\n",
       " 'Accounting',\n",
       " 'Digital Marketing',\n",
       " 'Entrepreneurship',\n",
       " 'Finance',\n",
       " 'Leadership and Management',\n",
       " 'Strategy and Operations',\n",
       " 'Communication',\n",
       " 'People Management',\n",
       " 'Planning',\n",
       " 'Sales',\n",
       " 'Strategy',\n",
       " 'Supply Chain and Logistics',\n",
       " 'Business Analysis',\n",
       " 'Business Communication',\n",
       " 'Collaboration',\n",
       " 'Customer Analysis',\n",
       " 'Financial Accounting',\n",
       " 'Forecasting',\n",
       " 'Human Resources',\n",
       " 'Leadership Development',\n",
       " 'Probability & Statistics',\n",
       " 'Search Engine Optimization',\n",
       " 'Social Media',\n",
       " 'Back-End Web Development',\n",
       " 'Customer Relationship Management',\n",
       " 'Storytelling',\n",
       " 'Web Development']"
      ]
     },
     "execution_count": 133,
     "metadata": {},
     "output_type": "execute_result"
    }
   ],
   "source": [
    "Main.loc[2][\"aquired competences\"]"
   ]
  },
  {
   "cell_type": "code",
   "execution_count": 126,
   "id": "4232f489",
   "metadata": {},
   "outputs": [
    {
     "data": {
      "text/plain": [
       "Beginner level 1                  225\n",
       "Mixed level 1                     105\n",
       "Beginner level 3                   97\n",
       "Intermediate level 1               63\n",
       "Beginner level Less                28\n",
       "Intermediate level 3               26\n",
       "Intermediate level Less            23\n",
       "Advanced level 1                    8\n",
       "Advanced level 3                    5\n",
       "Finance etc... 6                    2\n",
       "Statistics, General Statistics      2\n",
       "Mixed level 3                       2\n",
       "Marketing etc... 6                  2\n",
       "and Management, Marketing           1\n",
       "Advanced level Less                 1\n",
       "Entrepreneurship etc... 1.5         1\n",
       "Design etc... 6                     1\n",
       "University of London,               1\n",
       "Operations etc... 6                 1\n",
       "Regression etc... 6                 1\n",
       "Royal Holloway, 24                  1\n",
       "Name: level, dtype: int64"
      ]
     },
     "execution_count": 126,
     "metadata": {},
     "output_type": "execute_result"
    }
   ],
   "source": [
    "Main['level'].value_counts()"
   ]
  },
  {
   "cell_type": "markdown",
   "id": "13b8a416",
   "metadata": {},
   "source": [
    "# "
   ]
  },
  {
   "cell_type": "code",
   "execution_count": 127,
   "id": "6edafd84",
   "metadata": {},
   "outputs": [],
   "source": [
    "Main= Main.reset_index(drop=True)"
   ]
  },
  {
   "cell_type": "code",
   "execution_count": 129,
   "id": "0691d5ba",
   "metadata": {},
   "outputs": [],
   "source": [
    "Main=Main.drop('index', axis=1)"
   ]
  },
  {
   "cell_type": "code",
   "execution_count": 130,
   "id": "cb369d89",
   "metadata": {},
   "outputs": [
    {
     "data": {
      "text/html": [
       "<div>\n",
       "<style scoped>\n",
       "    .dataframe tbody tr th:only-of-type {\n",
       "        vertical-align: middle;\n",
       "    }\n",
       "\n",
       "    .dataframe tbody tr th {\n",
       "        vertical-align: top;\n",
       "    }\n",
       "\n",
       "    .dataframe thead th {\n",
       "        text-align: right;\n",
       "    }\n",
       "</style>\n",
       "<table border=\"1\" class=\"dataframe\">\n",
       "  <thead>\n",
       "    <tr style=\"text-align: right;\">\n",
       "      <th></th>\n",
       "      <th>metric(s)</th>\n",
       "      <th>URL</th>\n",
       "      <th>Title</th>\n",
       "      <th>Trainer</th>\n",
       "      <th>rate</th>\n",
       "      <th>evaluation nbr</th>\n",
       "      <th>level</th>\n",
       "      <th>duration</th>\n",
       "      <th>aquired competences</th>\n",
       "    </tr>\n",
       "  </thead>\n",
       "  <tbody>\n",
       "    <tr>\n",
       "      <th>0</th>\n",
       "      <td>Communication</td>\n",
       "      <td>https://www.coursera.org/learn/lesson-small-ta...</td>\n",
       "      <td>Lesson | Small Talk &amp; Conversational Vocabulary</td>\n",
       "      <td>Georgia Institute of Technology</td>\n",
       "      <td>4.2</td>\n",
       "      <td>(750 reviews)</td>\n",
       "      <td>Mixed level 1</td>\n",
       "      <td>1 - 4 Weeks</td>\n",
       "      <td></td>\n",
       "    </tr>\n",
       "    <tr>\n",
       "      <th>1</th>\n",
       "      <td>Communication</td>\n",
       "      <td>https://www.coursera.org/specializations/manag...</td>\n",
       "      <td>Management Consulting</td>\n",
       "      <td>Emory University</td>\n",
       "      <td>4.8</td>\n",
       "      <td>(354 reviews)</td>\n",
       "      <td>Beginner level 3</td>\n",
       "      <td>3 - 6 Months</td>\n",
       "      <td>[Leadership and Management, Communication, Col...</td>\n",
       "    </tr>\n",
       "    <tr>\n",
       "      <th>2</th>\n",
       "      <td>Communication</td>\n",
       "      <td>https://www.coursera.org/specializations/busin...</td>\n",
       "      <td>Introduction to Business</td>\n",
       "      <td>University of California, Irvine</td>\n",
       "      <td>4.7</td>\n",
       "      <td>(191 reviews)</td>\n",
       "      <td>Beginner level 1</td>\n",
       "      <td>1 - 3 Months</td>\n",
       "      <td>[Marketing, Accounting, Digital Marketing, Ent...</td>\n",
       "    </tr>\n",
       "    <tr>\n",
       "      <th>3</th>\n",
       "      <td>Communication</td>\n",
       "      <td>https://www.coursera.org/specializations/busin...</td>\n",
       "      <td>Business English for Non-Native Speakers</td>\n",
       "      <td>The Hong Kong University of Science and Techno...</td>\n",
       "      <td>4.5</td>\n",
       "      <td>(2.3k reviews)</td>\n",
       "      <td>Beginner level 3</td>\n",
       "      <td>3 - 6 Months</td>\n",
       "      <td>[Communication, Business Communication, Busine...</td>\n",
       "    </tr>\n",
       "    <tr>\n",
       "      <th>4</th>\n",
       "      <td>Communication</td>\n",
       "      <td>https://www.coursera.org/specializations/fundr...</td>\n",
       "      <td>Fundraising and Development</td>\n",
       "      <td>University of California, Davis</td>\n",
       "      <td>4.6</td>\n",
       "      <td>(291 reviews)</td>\n",
       "      <td>Beginner level 3</td>\n",
       "      <td>3 - 6 Months</td>\n",
       "      <td>[Entrepreneurship, Leadership and Management, ...</td>\n",
       "    </tr>\n",
       "    <tr>\n",
       "      <th>...</th>\n",
       "      <td>...</td>\n",
       "      <td>...</td>\n",
       "      <td>...</td>\n",
       "      <td>...</td>\n",
       "      <td>...</td>\n",
       "      <td>...</td>\n",
       "      <td>...</td>\n",
       "      <td>...</td>\n",
       "      <td>...</td>\n",
       "    </tr>\n",
       "    <tr>\n",
       "      <th>591</th>\n",
       "      <td>Trust+Respect</td>\n",
       "      <td>https://www.coursera.org/learn/being-a-teacher</td>\n",
       "      <td>Foundations of Teaching for Learning: Being a ...</td>\n",
       "      <td>Commonwealth Education Trust</td>\n",
       "      <td>4.6</td>\n",
       "      <td>(827 reviews)</td>\n",
       "      <td>Mixed level 1</td>\n",
       "      <td>1 - 3 Months</td>\n",
       "      <td>[Business Psychology, Entrepreneurship, Human ...</td>\n",
       "    </tr>\n",
       "    <tr>\n",
       "      <th>592</th>\n",
       "      <td>Trust+Respect</td>\n",
       "      <td>https://www.coursera.org/learn/covid-vaccine-a...</td>\n",
       "      <td>COVID Vaccine Ambassador Training: How to Talk...</td>\n",
       "      <td>Johns Hopkins University</td>\n",
       "      <td>4.9</td>\n",
       "      <td>(1.2k reviews)</td>\n",
       "      <td>Beginner level 1</td>\n",
       "      <td>1 - 3 Months</td>\n",
       "      <td>[Communication, Marketing, Social Media, Epide...</td>\n",
       "    </tr>\n",
       "    <tr>\n",
       "      <th>593</th>\n",
       "      <td>Trust+Respect</td>\n",
       "      <td>https://www.coursera.org/learn/mastering-statics</td>\n",
       "      <td>Mastering Statics</td>\n",
       "      <td>The Hong Kong University of Science and Techno...</td>\n",
       "      <td>4.8</td>\n",
       "      <td>(156 reviews)</td>\n",
       "      <td>Intermediate level 1</td>\n",
       "      <td>1 - 3 Months</td>\n",
       "      <td>[Mathematics, Mathematical Theory &amp; Analysis]</td>\n",
       "    </tr>\n",
       "    <tr>\n",
       "      <th>594</th>\n",
       "      <td>Trust+Respect</td>\n",
       "      <td>https://www.coursera.org/learn/teaching-plan</td>\n",
       "      <td>Foundations of Teaching for Learning: Planning...</td>\n",
       "      <td>Commonwealth Education Trust</td>\n",
       "      <td>4.8</td>\n",
       "      <td>(190 reviews)</td>\n",
       "      <td>Mixed level 1</td>\n",
       "      <td>1 - 3 Months</td>\n",
       "      <td>[Leadership and Management, Business Psycholog...</td>\n",
       "    </tr>\n",
       "    <tr>\n",
       "      <th>595</th>\n",
       "      <td>Trust+Respect</td>\n",
       "      <td>https://www.coursera.org/learn/teaching</td>\n",
       "      <td>Foundations of Teaching for Learning: Introduc...</td>\n",
       "      <td>Commonwealth Education Trust</td>\n",
       "      <td>4.6</td>\n",
       "      <td>(732 reviews)</td>\n",
       "      <td>Mixed level 1</td>\n",
       "      <td>1 - 4 Weeks</td>\n",
       "      <td>[Business Psychology, Entrepreneurship, Human ...</td>\n",
       "    </tr>\n",
       "  </tbody>\n",
       "</table>\n",
       "<p>596 rows × 9 columns</p>\n",
       "</div>"
      ],
      "text/plain": [
       "         metric(s)                                                URL  \\\n",
       "0    Communication  https://www.coursera.org/learn/lesson-small-ta...   \n",
       "1    Communication  https://www.coursera.org/specializations/manag...   \n",
       "2    Communication  https://www.coursera.org/specializations/busin...   \n",
       "3    Communication  https://www.coursera.org/specializations/busin...   \n",
       "4    Communication  https://www.coursera.org/specializations/fundr...   \n",
       "..             ...                                                ...   \n",
       "591  Trust+Respect     https://www.coursera.org/learn/being-a-teacher   \n",
       "592  Trust+Respect  https://www.coursera.org/learn/covid-vaccine-a...   \n",
       "593  Trust+Respect   https://www.coursera.org/learn/mastering-statics   \n",
       "594  Trust+Respect       https://www.coursera.org/learn/teaching-plan   \n",
       "595  Trust+Respect            https://www.coursera.org/learn/teaching   \n",
       "\n",
       "                                                 Title  \\\n",
       "0      Lesson | Small Talk & Conversational Vocabulary   \n",
       "1                                Management Consulting   \n",
       "2                             Introduction to Business   \n",
       "3             Business English for Non-Native Speakers   \n",
       "4                          Fundraising and Development   \n",
       "..                                                 ...   \n",
       "591  Foundations of Teaching for Learning: Being a ...   \n",
       "592  COVID Vaccine Ambassador Training: How to Talk...   \n",
       "593                                  Mastering Statics   \n",
       "594  Foundations of Teaching for Learning: Planning...   \n",
       "595  Foundations of Teaching for Learning: Introduc...   \n",
       "\n",
       "                                               Trainer rate  evaluation nbr  \\\n",
       "0                      Georgia Institute of Technology  4.2   (750 reviews)   \n",
       "1                                     Emory University  4.8   (354 reviews)   \n",
       "2                     University of California, Irvine  4.7   (191 reviews)   \n",
       "3    The Hong Kong University of Science and Techno...  4.5  (2.3k reviews)   \n",
       "4                      University of California, Davis  4.6   (291 reviews)   \n",
       "..                                                 ...  ...             ...   \n",
       "591                       Commonwealth Education Trust  4.6   (827 reviews)   \n",
       "592                           Johns Hopkins University  4.9  (1.2k reviews)   \n",
       "593  The Hong Kong University of Science and Techno...  4.8   (156 reviews)   \n",
       "594                       Commonwealth Education Trust  4.8   (190 reviews)   \n",
       "595                       Commonwealth Education Trust  4.6   (732 reviews)   \n",
       "\n",
       "                    level      duration  \\\n",
       "0           Mixed level 1   1 - 4 Weeks   \n",
       "1        Beginner level 3  3 - 6 Months   \n",
       "2        Beginner level 1  1 - 3 Months   \n",
       "3        Beginner level 3  3 - 6 Months   \n",
       "4        Beginner level 3  3 - 6 Months   \n",
       "..                    ...           ...   \n",
       "591         Mixed level 1  1 - 3 Months   \n",
       "592      Beginner level 1  1 - 3 Months   \n",
       "593  Intermediate level 1  1 - 3 Months   \n",
       "594         Mixed level 1  1 - 3 Months   \n",
       "595         Mixed level 1   1 - 4 Weeks   \n",
       "\n",
       "                                   aquired competences  \n",
       "0                                                       \n",
       "1    [Leadership and Management, Communication, Col...  \n",
       "2    [Marketing, Accounting, Digital Marketing, Ent...  \n",
       "3    [Communication, Business Communication, Busine...  \n",
       "4    [Entrepreneurship, Leadership and Management, ...  \n",
       "..                                                 ...  \n",
       "591  [Business Psychology, Entrepreneurship, Human ...  \n",
       "592  [Communication, Marketing, Social Media, Epide...  \n",
       "593      [Mathematics, Mathematical Theory & Analysis]  \n",
       "594  [Leadership and Management, Business Psycholog...  \n",
       "595  [Business Psychology, Entrepreneurship, Human ...  \n",
       "\n",
       "[596 rows x 9 columns]"
      ]
     },
     "execution_count": 130,
     "metadata": {},
     "output_type": "execute_result"
    }
   ],
   "source": [
    "Main"
   ]
  },
  {
   "cell_type": "markdown",
   "id": "59d623c8",
   "metadata": {},
   "source": [
    "# "
   ]
  },
  {
   "cell_type": "markdown",
   "id": "aec8f3fa",
   "metadata": {},
   "source": [
    "# "
   ]
  },
  {
   "cell_type": "code",
   "execution_count": 72,
   "id": "9d59a93e",
   "metadata": {},
   "outputs": [],
   "source": [
    "\n",
    "response = requests.get(\"https://www.coursera.org/professional-certificates/google-project-management\")\n",
    "soup = BeautifulSoup(response.content, \"html.parser\")"
   ]
  },
  {
   "cell_type": "code",
   "execution_count": 87,
   "id": "6e3829ad",
   "metadata": {},
   "outputs": [
    {
     "data": {
      "text/plain": [
       "metric(s)                                                     Leadership\n",
       "URL                    https://www.coursera.org/specializations/leade...\n",
       "Title                                        Leadership: An Introduction\n",
       "Trainer                                         Johns Hopkins University\n",
       "rate                                                                 4.5\n",
       "evaluation nbr                                              (12 reviews)\n",
       "level                                                   Beginner level 3\n",
       "duration                                                    3 - 6 Months\n",
       "aquired competences                  Your acquired competences data here\n",
       "Name: 1, dtype: object"
      ]
     },
     "execution_count": 87,
     "metadata": {},
     "output_type": "execute_result"
    }
   ],
   "source": [
    "Main.loc[1]"
   ]
  },
  {
   "cell_type": "code",
   "execution_count": 89,
   "id": "3415cd69",
   "metadata": {},
   "outputs": [
    {
     "name": "stdout",
     "output_type": "stream",
     "text": [
      "https://www.coursera.org/learn/english-communication-for-tech-professionals\n",
      "https://www.coursera.org/specializations/advanced-statistics-data-science\n",
      "https://www.coursera.org/learn/emotional-intelligence-cultivating-immensely-human-interactions\n",
      "https://www.coursera.org/professional-certificates/ux-design-do-google\n",
      "https://www.coursera.org/specializations/english-for-business\n",
      "https://www.coursera.org/specializations/influencing-storytelling-change-management\n"
     ]
    },
    {
     "ename": "KeyboardInterrupt",
     "evalue": "",
     "output_type": "error",
     "traceback": [
      "\u001b[1;31m---------------------------------------------------------------------------\u001b[0m",
      "\u001b[1;31mKeyboardInterrupt\u001b[0m                         Traceback (most recent call last)",
      "Cell \u001b[1;32mIn[89], line 2\u001b[0m\n\u001b[0;32m      1\u001b[0m \u001b[38;5;28;01mfor\u001b[39;00m index, row \u001b[38;5;129;01min\u001b[39;00m Main\u001b[38;5;241m.\u001b[39miterrows():\n\u001b[1;32m----> 2\u001b[0m     response \u001b[38;5;241m=\u001b[39m \u001b[43mrequests\u001b[49m\u001b[38;5;241;43m.\u001b[39;49m\u001b[43mget\u001b[49m\u001b[43m(\u001b[49m\u001b[43mrow\u001b[49m\u001b[43m[\u001b[49m\u001b[38;5;124;43m\"\u001b[39;49m\u001b[38;5;124;43mURL\u001b[39;49m\u001b[38;5;124;43m\"\u001b[39;49m\u001b[43m]\u001b[49m\u001b[43m)\u001b[49m\n\u001b[0;32m      3\u001b[0m     soup \u001b[38;5;241m=\u001b[39m BeautifulSoup(response\u001b[38;5;241m.\u001b[39mcontent, \u001b[38;5;124m\"\u001b[39m\u001b[38;5;124mhtml.parser\u001b[39m\u001b[38;5;124m\"\u001b[39m)\n\u001b[0;32m      4\u001b[0m     \u001b[38;5;28mprint\u001b[39m(row[\u001b[38;5;124m\"\u001b[39m\u001b[38;5;124mURL\u001b[39m\u001b[38;5;124m\"\u001b[39m])\n",
      "File \u001b[1;32m~\\anaconda3\\lib\\site-packages\\requests\\api.py:73\u001b[0m, in \u001b[0;36mget\u001b[1;34m(url, params, **kwargs)\u001b[0m\n\u001b[0;32m     62\u001b[0m \u001b[38;5;28;01mdef\u001b[39;00m \u001b[38;5;21mget\u001b[39m(url, params\u001b[38;5;241m=\u001b[39m\u001b[38;5;28;01mNone\u001b[39;00m, \u001b[38;5;241m*\u001b[39m\u001b[38;5;241m*\u001b[39mkwargs):\n\u001b[0;32m     63\u001b[0m     \u001b[38;5;124mr\u001b[39m\u001b[38;5;124;03m\"\"\"Sends a GET request.\u001b[39;00m\n\u001b[0;32m     64\u001b[0m \n\u001b[0;32m     65\u001b[0m \u001b[38;5;124;03m    :param url: URL for the new :class:`Request` object.\u001b[39;00m\n\u001b[1;32m   (...)\u001b[0m\n\u001b[0;32m     70\u001b[0m \u001b[38;5;124;03m    :rtype: requests.Response\u001b[39;00m\n\u001b[0;32m     71\u001b[0m \u001b[38;5;124;03m    \"\"\"\u001b[39;00m\n\u001b[1;32m---> 73\u001b[0m     \u001b[38;5;28;01mreturn\u001b[39;00m request(\u001b[38;5;124m\"\u001b[39m\u001b[38;5;124mget\u001b[39m\u001b[38;5;124m\"\u001b[39m, url, params\u001b[38;5;241m=\u001b[39mparams, \u001b[38;5;241m*\u001b[39m\u001b[38;5;241m*\u001b[39mkwargs)\n",
      "File \u001b[1;32m~\\anaconda3\\lib\\site-packages\\requests\\api.py:59\u001b[0m, in \u001b[0;36mrequest\u001b[1;34m(method, url, **kwargs)\u001b[0m\n\u001b[0;32m     55\u001b[0m \u001b[38;5;66;03m# By using the 'with' statement we are sure the session is closed, thus we\u001b[39;00m\n\u001b[0;32m     56\u001b[0m \u001b[38;5;66;03m# avoid leaving sockets open which can trigger a ResourceWarning in some\u001b[39;00m\n\u001b[0;32m     57\u001b[0m \u001b[38;5;66;03m# cases, and look like a memory leak in others.\u001b[39;00m\n\u001b[0;32m     58\u001b[0m \u001b[38;5;28;01mwith\u001b[39;00m sessions\u001b[38;5;241m.\u001b[39mSession() \u001b[38;5;28;01mas\u001b[39;00m session:\n\u001b[1;32m---> 59\u001b[0m     \u001b[38;5;28;01mreturn\u001b[39;00m session\u001b[38;5;241m.\u001b[39mrequest(method\u001b[38;5;241m=\u001b[39mmethod, url\u001b[38;5;241m=\u001b[39murl, \u001b[38;5;241m*\u001b[39m\u001b[38;5;241m*\u001b[39mkwargs)\n",
      "File \u001b[1;32m~\\anaconda3\\lib\\site-packages\\requests\\sessions.py:587\u001b[0m, in \u001b[0;36mSession.request\u001b[1;34m(self, method, url, params, data, headers, cookies, files, auth, timeout, allow_redirects, proxies, hooks, stream, verify, cert, json)\u001b[0m\n\u001b[0;32m    582\u001b[0m send_kwargs \u001b[38;5;241m=\u001b[39m {\n\u001b[0;32m    583\u001b[0m     \u001b[38;5;124m\"\u001b[39m\u001b[38;5;124mtimeout\u001b[39m\u001b[38;5;124m\"\u001b[39m: timeout,\n\u001b[0;32m    584\u001b[0m     \u001b[38;5;124m\"\u001b[39m\u001b[38;5;124mallow_redirects\u001b[39m\u001b[38;5;124m\"\u001b[39m: allow_redirects,\n\u001b[0;32m    585\u001b[0m }\n\u001b[0;32m    586\u001b[0m send_kwargs\u001b[38;5;241m.\u001b[39mupdate(settings)\n\u001b[1;32m--> 587\u001b[0m resp \u001b[38;5;241m=\u001b[39m \u001b[38;5;28mself\u001b[39m\u001b[38;5;241m.\u001b[39msend(prep, \u001b[38;5;241m*\u001b[39m\u001b[38;5;241m*\u001b[39msend_kwargs)\n\u001b[0;32m    589\u001b[0m \u001b[38;5;28;01mreturn\u001b[39;00m resp\n",
      "File \u001b[1;32m~\\anaconda3\\lib\\site-packages\\requests\\sessions.py:701\u001b[0m, in \u001b[0;36mSession.send\u001b[1;34m(self, request, **kwargs)\u001b[0m\n\u001b[0;32m    698\u001b[0m start \u001b[38;5;241m=\u001b[39m preferred_clock()\n\u001b[0;32m    700\u001b[0m \u001b[38;5;66;03m# Send the request\u001b[39;00m\n\u001b[1;32m--> 701\u001b[0m r \u001b[38;5;241m=\u001b[39m adapter\u001b[38;5;241m.\u001b[39msend(request, \u001b[38;5;241m*\u001b[39m\u001b[38;5;241m*\u001b[39mkwargs)\n\u001b[0;32m    703\u001b[0m \u001b[38;5;66;03m# Total elapsed time of the request (approximately)\u001b[39;00m\n\u001b[0;32m    704\u001b[0m elapsed \u001b[38;5;241m=\u001b[39m preferred_clock() \u001b[38;5;241m-\u001b[39m start\n",
      "File \u001b[1;32m~\\anaconda3\\lib\\site-packages\\requests\\adapters.py:489\u001b[0m, in \u001b[0;36mHTTPAdapter.send\u001b[1;34m(self, request, stream, timeout, verify, cert, proxies)\u001b[0m\n\u001b[0;32m    487\u001b[0m \u001b[38;5;28;01mtry\u001b[39;00m:\n\u001b[0;32m    488\u001b[0m     \u001b[38;5;28;01mif\u001b[39;00m \u001b[38;5;129;01mnot\u001b[39;00m chunked:\n\u001b[1;32m--> 489\u001b[0m         resp \u001b[38;5;241m=\u001b[39m \u001b[43mconn\u001b[49m\u001b[38;5;241;43m.\u001b[39;49m\u001b[43murlopen\u001b[49m\u001b[43m(\u001b[49m\n\u001b[0;32m    490\u001b[0m \u001b[43m            \u001b[49m\u001b[43mmethod\u001b[49m\u001b[38;5;241;43m=\u001b[39;49m\u001b[43mrequest\u001b[49m\u001b[38;5;241;43m.\u001b[39;49m\u001b[43mmethod\u001b[49m\u001b[43m,\u001b[49m\n\u001b[0;32m    491\u001b[0m \u001b[43m            \u001b[49m\u001b[43murl\u001b[49m\u001b[38;5;241;43m=\u001b[39;49m\u001b[43murl\u001b[49m\u001b[43m,\u001b[49m\n\u001b[0;32m    492\u001b[0m \u001b[43m            \u001b[49m\u001b[43mbody\u001b[49m\u001b[38;5;241;43m=\u001b[39;49m\u001b[43mrequest\u001b[49m\u001b[38;5;241;43m.\u001b[39;49m\u001b[43mbody\u001b[49m\u001b[43m,\u001b[49m\n\u001b[0;32m    493\u001b[0m \u001b[43m            \u001b[49m\u001b[43mheaders\u001b[49m\u001b[38;5;241;43m=\u001b[39;49m\u001b[43mrequest\u001b[49m\u001b[38;5;241;43m.\u001b[39;49m\u001b[43mheaders\u001b[49m\u001b[43m,\u001b[49m\n\u001b[0;32m    494\u001b[0m \u001b[43m            \u001b[49m\u001b[43mredirect\u001b[49m\u001b[38;5;241;43m=\u001b[39;49m\u001b[38;5;28;43;01mFalse\u001b[39;49;00m\u001b[43m,\u001b[49m\n\u001b[0;32m    495\u001b[0m \u001b[43m            \u001b[49m\u001b[43massert_same_host\u001b[49m\u001b[38;5;241;43m=\u001b[39;49m\u001b[38;5;28;43;01mFalse\u001b[39;49;00m\u001b[43m,\u001b[49m\n\u001b[0;32m    496\u001b[0m \u001b[43m            \u001b[49m\u001b[43mpreload_content\u001b[49m\u001b[38;5;241;43m=\u001b[39;49m\u001b[38;5;28;43;01mFalse\u001b[39;49;00m\u001b[43m,\u001b[49m\n\u001b[0;32m    497\u001b[0m \u001b[43m            \u001b[49m\u001b[43mdecode_content\u001b[49m\u001b[38;5;241;43m=\u001b[39;49m\u001b[38;5;28;43;01mFalse\u001b[39;49;00m\u001b[43m,\u001b[49m\n\u001b[0;32m    498\u001b[0m \u001b[43m            \u001b[49m\u001b[43mretries\u001b[49m\u001b[38;5;241;43m=\u001b[39;49m\u001b[38;5;28;43mself\u001b[39;49m\u001b[38;5;241;43m.\u001b[39;49m\u001b[43mmax_retries\u001b[49m\u001b[43m,\u001b[49m\n\u001b[0;32m    499\u001b[0m \u001b[43m            \u001b[49m\u001b[43mtimeout\u001b[49m\u001b[38;5;241;43m=\u001b[39;49m\u001b[43mtimeout\u001b[49m\u001b[43m,\u001b[49m\n\u001b[0;32m    500\u001b[0m \u001b[43m        \u001b[49m\u001b[43m)\u001b[49m\n\u001b[0;32m    502\u001b[0m     \u001b[38;5;66;03m# Send the request.\u001b[39;00m\n\u001b[0;32m    503\u001b[0m     \u001b[38;5;28;01melse\u001b[39;00m:\n\u001b[0;32m    504\u001b[0m         \u001b[38;5;28;01mif\u001b[39;00m \u001b[38;5;28mhasattr\u001b[39m(conn, \u001b[38;5;124m\"\u001b[39m\u001b[38;5;124mproxy_pool\u001b[39m\u001b[38;5;124m\"\u001b[39m):\n",
      "File \u001b[1;32m~\\anaconda3\\lib\\site-packages\\urllib3\\connectionpool.py:703\u001b[0m, in \u001b[0;36mHTTPConnectionPool.urlopen\u001b[1;34m(self, method, url, body, headers, retries, redirect, assert_same_host, timeout, pool_timeout, release_conn, chunked, body_pos, **response_kw)\u001b[0m\n\u001b[0;32m    700\u001b[0m     \u001b[38;5;28mself\u001b[39m\u001b[38;5;241m.\u001b[39m_prepare_proxy(conn)\n\u001b[0;32m    702\u001b[0m \u001b[38;5;66;03m# Make the request on the httplib connection object.\u001b[39;00m\n\u001b[1;32m--> 703\u001b[0m httplib_response \u001b[38;5;241m=\u001b[39m \u001b[38;5;28;43mself\u001b[39;49m\u001b[38;5;241;43m.\u001b[39;49m\u001b[43m_make_request\u001b[49m\u001b[43m(\u001b[49m\n\u001b[0;32m    704\u001b[0m \u001b[43m    \u001b[49m\u001b[43mconn\u001b[49m\u001b[43m,\u001b[49m\n\u001b[0;32m    705\u001b[0m \u001b[43m    \u001b[49m\u001b[43mmethod\u001b[49m\u001b[43m,\u001b[49m\n\u001b[0;32m    706\u001b[0m \u001b[43m    \u001b[49m\u001b[43murl\u001b[49m\u001b[43m,\u001b[49m\n\u001b[0;32m    707\u001b[0m \u001b[43m    \u001b[49m\u001b[43mtimeout\u001b[49m\u001b[38;5;241;43m=\u001b[39;49m\u001b[43mtimeout_obj\u001b[49m\u001b[43m,\u001b[49m\n\u001b[0;32m    708\u001b[0m \u001b[43m    \u001b[49m\u001b[43mbody\u001b[49m\u001b[38;5;241;43m=\u001b[39;49m\u001b[43mbody\u001b[49m\u001b[43m,\u001b[49m\n\u001b[0;32m    709\u001b[0m \u001b[43m    \u001b[49m\u001b[43mheaders\u001b[49m\u001b[38;5;241;43m=\u001b[39;49m\u001b[43mheaders\u001b[49m\u001b[43m,\u001b[49m\n\u001b[0;32m    710\u001b[0m \u001b[43m    \u001b[49m\u001b[43mchunked\u001b[49m\u001b[38;5;241;43m=\u001b[39;49m\u001b[43mchunked\u001b[49m\u001b[43m,\u001b[49m\n\u001b[0;32m    711\u001b[0m \u001b[43m\u001b[49m\u001b[43m)\u001b[49m\n\u001b[0;32m    713\u001b[0m \u001b[38;5;66;03m# If we're going to release the connection in ``finally:``, then\u001b[39;00m\n\u001b[0;32m    714\u001b[0m \u001b[38;5;66;03m# the response doesn't need to know about the connection. Otherwise\u001b[39;00m\n\u001b[0;32m    715\u001b[0m \u001b[38;5;66;03m# it will also try to release it and we'll have a double-release\u001b[39;00m\n\u001b[0;32m    716\u001b[0m \u001b[38;5;66;03m# mess.\u001b[39;00m\n\u001b[0;32m    717\u001b[0m response_conn \u001b[38;5;241m=\u001b[39m conn \u001b[38;5;28;01mif\u001b[39;00m \u001b[38;5;129;01mnot\u001b[39;00m release_conn \u001b[38;5;28;01melse\u001b[39;00m \u001b[38;5;28;01mNone\u001b[39;00m\n",
      "File \u001b[1;32m~\\anaconda3\\lib\\site-packages\\urllib3\\connectionpool.py:449\u001b[0m, in \u001b[0;36mHTTPConnectionPool._make_request\u001b[1;34m(self, conn, method, url, timeout, chunked, **httplib_request_kw)\u001b[0m\n\u001b[0;32m    444\u001b[0m             httplib_response \u001b[38;5;241m=\u001b[39m conn\u001b[38;5;241m.\u001b[39mgetresponse()\n\u001b[0;32m    445\u001b[0m         \u001b[38;5;28;01mexcept\u001b[39;00m \u001b[38;5;167;01mBaseException\u001b[39;00m \u001b[38;5;28;01mas\u001b[39;00m e:\n\u001b[0;32m    446\u001b[0m             \u001b[38;5;66;03m# Remove the TypeError from the exception chain in\u001b[39;00m\n\u001b[0;32m    447\u001b[0m             \u001b[38;5;66;03m# Python 3 (including for exceptions like SystemExit).\u001b[39;00m\n\u001b[0;32m    448\u001b[0m             \u001b[38;5;66;03m# Otherwise it looks like a bug in the code.\u001b[39;00m\n\u001b[1;32m--> 449\u001b[0m             \u001b[43msix\u001b[49m\u001b[38;5;241;43m.\u001b[39;49m\u001b[43mraise_from\u001b[49m\u001b[43m(\u001b[49m\u001b[43me\u001b[49m\u001b[43m,\u001b[49m\u001b[43m \u001b[49m\u001b[38;5;28;43;01mNone\u001b[39;49;00m\u001b[43m)\u001b[49m\n\u001b[0;32m    450\u001b[0m \u001b[38;5;28;01mexcept\u001b[39;00m (SocketTimeout, BaseSSLError, SocketError) \u001b[38;5;28;01mas\u001b[39;00m e:\n\u001b[0;32m    451\u001b[0m     \u001b[38;5;28mself\u001b[39m\u001b[38;5;241m.\u001b[39m_raise_timeout(err\u001b[38;5;241m=\u001b[39me, url\u001b[38;5;241m=\u001b[39murl, timeout_value\u001b[38;5;241m=\u001b[39mread_timeout)\n",
      "File \u001b[1;32m<string>:3\u001b[0m, in \u001b[0;36mraise_from\u001b[1;34m(value, from_value)\u001b[0m\n",
      "File \u001b[1;32m~\\anaconda3\\lib\\site-packages\\urllib3\\connectionpool.py:444\u001b[0m, in \u001b[0;36mHTTPConnectionPool._make_request\u001b[1;34m(self, conn, method, url, timeout, chunked, **httplib_request_kw)\u001b[0m\n\u001b[0;32m    441\u001b[0m \u001b[38;5;28;01mexcept\u001b[39;00m \u001b[38;5;167;01mTypeError\u001b[39;00m:\n\u001b[0;32m    442\u001b[0m     \u001b[38;5;66;03m# Python 3\u001b[39;00m\n\u001b[0;32m    443\u001b[0m     \u001b[38;5;28;01mtry\u001b[39;00m:\n\u001b[1;32m--> 444\u001b[0m         httplib_response \u001b[38;5;241m=\u001b[39m \u001b[43mconn\u001b[49m\u001b[38;5;241;43m.\u001b[39;49m\u001b[43mgetresponse\u001b[49m\u001b[43m(\u001b[49m\u001b[43m)\u001b[49m\n\u001b[0;32m    445\u001b[0m     \u001b[38;5;28;01mexcept\u001b[39;00m \u001b[38;5;167;01mBaseException\u001b[39;00m \u001b[38;5;28;01mas\u001b[39;00m e:\n\u001b[0;32m    446\u001b[0m         \u001b[38;5;66;03m# Remove the TypeError from the exception chain in\u001b[39;00m\n\u001b[0;32m    447\u001b[0m         \u001b[38;5;66;03m# Python 3 (including for exceptions like SystemExit).\u001b[39;00m\n\u001b[0;32m    448\u001b[0m         \u001b[38;5;66;03m# Otherwise it looks like a bug in the code.\u001b[39;00m\n\u001b[0;32m    449\u001b[0m         six\u001b[38;5;241m.\u001b[39mraise_from(e, \u001b[38;5;28;01mNone\u001b[39;00m)\n",
      "File \u001b[1;32m~\\anaconda3\\lib\\http\\client.py:1377\u001b[0m, in \u001b[0;36mHTTPConnection.getresponse\u001b[1;34m(self)\u001b[0m\n\u001b[0;32m   1375\u001b[0m \u001b[38;5;28;01mtry\u001b[39;00m:\n\u001b[0;32m   1376\u001b[0m     \u001b[38;5;28;01mtry\u001b[39;00m:\n\u001b[1;32m-> 1377\u001b[0m         \u001b[43mresponse\u001b[49m\u001b[38;5;241;43m.\u001b[39;49m\u001b[43mbegin\u001b[49m\u001b[43m(\u001b[49m\u001b[43m)\u001b[49m\n\u001b[0;32m   1378\u001b[0m     \u001b[38;5;28;01mexcept\u001b[39;00m \u001b[38;5;167;01mConnectionError\u001b[39;00m:\n\u001b[0;32m   1379\u001b[0m         \u001b[38;5;28mself\u001b[39m\u001b[38;5;241m.\u001b[39mclose()\n",
      "File \u001b[1;32m~\\anaconda3\\lib\\http\\client.py:320\u001b[0m, in \u001b[0;36mHTTPResponse.begin\u001b[1;34m(self)\u001b[0m\n\u001b[0;32m    318\u001b[0m \u001b[38;5;66;03m# read until we get a non-100 response\u001b[39;00m\n\u001b[0;32m    319\u001b[0m \u001b[38;5;28;01mwhile\u001b[39;00m \u001b[38;5;28;01mTrue\u001b[39;00m:\n\u001b[1;32m--> 320\u001b[0m     version, status, reason \u001b[38;5;241m=\u001b[39m \u001b[38;5;28;43mself\u001b[39;49m\u001b[38;5;241;43m.\u001b[39;49m\u001b[43m_read_status\u001b[49m\u001b[43m(\u001b[49m\u001b[43m)\u001b[49m\n\u001b[0;32m    321\u001b[0m     \u001b[38;5;28;01mif\u001b[39;00m status \u001b[38;5;241m!=\u001b[39m CONTINUE:\n\u001b[0;32m    322\u001b[0m         \u001b[38;5;28;01mbreak\u001b[39;00m\n",
      "File \u001b[1;32m~\\anaconda3\\lib\\http\\client.py:281\u001b[0m, in \u001b[0;36mHTTPResponse._read_status\u001b[1;34m(self)\u001b[0m\n\u001b[0;32m    280\u001b[0m \u001b[38;5;28;01mdef\u001b[39;00m \u001b[38;5;21m_read_status\u001b[39m(\u001b[38;5;28mself\u001b[39m):\n\u001b[1;32m--> 281\u001b[0m     line \u001b[38;5;241m=\u001b[39m \u001b[38;5;28mstr\u001b[39m(\u001b[38;5;28;43mself\u001b[39;49m\u001b[38;5;241;43m.\u001b[39;49m\u001b[43mfp\u001b[49m\u001b[38;5;241;43m.\u001b[39;49m\u001b[43mreadline\u001b[49m\u001b[43m(\u001b[49m\u001b[43m_MAXLINE\u001b[49m\u001b[43m \u001b[49m\u001b[38;5;241;43m+\u001b[39;49m\u001b[43m \u001b[49m\u001b[38;5;241;43m1\u001b[39;49m\u001b[43m)\u001b[49m, \u001b[38;5;124m\"\u001b[39m\u001b[38;5;124miso-8859-1\u001b[39m\u001b[38;5;124m\"\u001b[39m)\n\u001b[0;32m    282\u001b[0m     \u001b[38;5;28;01mif\u001b[39;00m \u001b[38;5;28mlen\u001b[39m(line) \u001b[38;5;241m>\u001b[39m _MAXLINE:\n\u001b[0;32m    283\u001b[0m         \u001b[38;5;28;01mraise\u001b[39;00m LineTooLong(\u001b[38;5;124m\"\u001b[39m\u001b[38;5;124mstatus line\u001b[39m\u001b[38;5;124m\"\u001b[39m)\n",
      "File \u001b[1;32m~\\anaconda3\\lib\\socket.py:704\u001b[0m, in \u001b[0;36mSocketIO.readinto\u001b[1;34m(self, b)\u001b[0m\n\u001b[0;32m    702\u001b[0m \u001b[38;5;28;01mwhile\u001b[39;00m \u001b[38;5;28;01mTrue\u001b[39;00m:\n\u001b[0;32m    703\u001b[0m     \u001b[38;5;28;01mtry\u001b[39;00m:\n\u001b[1;32m--> 704\u001b[0m         \u001b[38;5;28;01mreturn\u001b[39;00m \u001b[38;5;28;43mself\u001b[39;49m\u001b[38;5;241;43m.\u001b[39;49m\u001b[43m_sock\u001b[49m\u001b[38;5;241;43m.\u001b[39;49m\u001b[43mrecv_into\u001b[49m\u001b[43m(\u001b[49m\u001b[43mb\u001b[49m\u001b[43m)\u001b[49m\n\u001b[0;32m    705\u001b[0m     \u001b[38;5;28;01mexcept\u001b[39;00m timeout:\n\u001b[0;32m    706\u001b[0m         \u001b[38;5;28mself\u001b[39m\u001b[38;5;241m.\u001b[39m_timeout_occurred \u001b[38;5;241m=\u001b[39m \u001b[38;5;28;01mTrue\u001b[39;00m\n",
      "File \u001b[1;32m~\\anaconda3\\lib\\ssl.py:1242\u001b[0m, in \u001b[0;36mSSLSocket.recv_into\u001b[1;34m(self, buffer, nbytes, flags)\u001b[0m\n\u001b[0;32m   1238\u001b[0m     \u001b[38;5;28;01mif\u001b[39;00m flags \u001b[38;5;241m!=\u001b[39m \u001b[38;5;241m0\u001b[39m:\n\u001b[0;32m   1239\u001b[0m         \u001b[38;5;28;01mraise\u001b[39;00m \u001b[38;5;167;01mValueError\u001b[39;00m(\n\u001b[0;32m   1240\u001b[0m           \u001b[38;5;124m\"\u001b[39m\u001b[38;5;124mnon-zero flags not allowed in calls to recv_into() on \u001b[39m\u001b[38;5;132;01m%s\u001b[39;00m\u001b[38;5;124m\"\u001b[39m \u001b[38;5;241m%\u001b[39m\n\u001b[0;32m   1241\u001b[0m           \u001b[38;5;28mself\u001b[39m\u001b[38;5;241m.\u001b[39m\u001b[38;5;18m__class__\u001b[39m)\n\u001b[1;32m-> 1242\u001b[0m     \u001b[38;5;28;01mreturn\u001b[39;00m \u001b[38;5;28;43mself\u001b[39;49m\u001b[38;5;241;43m.\u001b[39;49m\u001b[43mread\u001b[49m\u001b[43m(\u001b[49m\u001b[43mnbytes\u001b[49m\u001b[43m,\u001b[49m\u001b[43m \u001b[49m\u001b[43mbuffer\u001b[49m\u001b[43m)\u001b[49m\n\u001b[0;32m   1243\u001b[0m \u001b[38;5;28;01melse\u001b[39;00m:\n\u001b[0;32m   1244\u001b[0m     \u001b[38;5;28;01mreturn\u001b[39;00m \u001b[38;5;28msuper\u001b[39m()\u001b[38;5;241m.\u001b[39mrecv_into(buffer, nbytes, flags)\n",
      "File \u001b[1;32m~\\anaconda3\\lib\\ssl.py:1100\u001b[0m, in \u001b[0;36mSSLSocket.read\u001b[1;34m(self, len, buffer)\u001b[0m\n\u001b[0;32m   1098\u001b[0m \u001b[38;5;28;01mtry\u001b[39;00m:\n\u001b[0;32m   1099\u001b[0m     \u001b[38;5;28;01mif\u001b[39;00m buffer \u001b[38;5;129;01mis\u001b[39;00m \u001b[38;5;129;01mnot\u001b[39;00m \u001b[38;5;28;01mNone\u001b[39;00m:\n\u001b[1;32m-> 1100\u001b[0m         \u001b[38;5;28;01mreturn\u001b[39;00m \u001b[38;5;28;43mself\u001b[39;49m\u001b[38;5;241;43m.\u001b[39;49m\u001b[43m_sslobj\u001b[49m\u001b[38;5;241;43m.\u001b[39;49m\u001b[43mread\u001b[49m\u001b[43m(\u001b[49m\u001b[38;5;28;43mlen\u001b[39;49m\u001b[43m,\u001b[49m\u001b[43m \u001b[49m\u001b[43mbuffer\u001b[49m\u001b[43m)\u001b[49m\n\u001b[0;32m   1101\u001b[0m     \u001b[38;5;28;01melse\u001b[39;00m:\n\u001b[0;32m   1102\u001b[0m         \u001b[38;5;28;01mreturn\u001b[39;00m \u001b[38;5;28mself\u001b[39m\u001b[38;5;241m.\u001b[39m_sslobj\u001b[38;5;241m.\u001b[39mread(\u001b[38;5;28mlen\u001b[39m)\n",
      "\u001b[1;31mKeyboardInterrupt\u001b[0m: "
     ]
    }
   ],
   "source": [
    "for index, row in Main.iterrows():\n",
    "    response = requests.get(row[\"URL\"])\n",
    "    soup = BeautifulSoup(response.content, \"html.parser\")\n",
    "    print(row[\"URL\"])"
   ]
  },
  {
   "cell_type": "code",
   "execution_count": 83,
   "id": "944a5b1e",
   "metadata": {},
   "outputs": [
    {
     "data": {
      "text/plain": [
       "['Effective Communication',\n",
       " 'Quality Management',\n",
       " 'Career Development',\n",
       " 'Risk Management',\n",
       " 'Organizational Culture',\n",
       " 'Stakeholder Management',\n",
       " 'Problem Solving',\n",
       " 'Project Management',\n",
       " 'Strategic Thinking',\n",
       " 'Project Charter',\n",
       " 'Coaching',\n",
       " 'Scrum',\n",
       " 'Procurement',\n",
       " 'Agile Management',\n",
       " 'Change Management',\n",
       " 'Project Execution',\n",
       " 'Project Planning',\n",
       " 'Influencing',\n",
       " 'Business Writing',\n",
       " 'Task Estimation']"
      ]
     },
     "execution_count": 83,
     "metadata": {},
     "output_type": "execute_result"
    }
   ],
   "source": [
    "list(set([item.get_text() for item in soup.find_all(\"span\",class_=\"cds-119 css-18p0rob cds-121\")]))"
   ]
  },
  {
   "cell_type": "code",
   "execution_count": null,
   "id": "a9687e15",
   "metadata": {},
   "outputs": [],
   "source": []
  }
 ],
 "metadata": {
  "kernelspec": {
   "display_name": "Python 3 (ipykernel)",
   "language": "python",
   "name": "python3"
  },
  "language_info": {
   "codemirror_mode": {
    "name": "ipython",
    "version": 3
   },
   "file_extension": ".py",
   "mimetype": "text/x-python",
   "name": "python",
   "nbconvert_exporter": "python",
   "pygments_lexer": "ipython3",
   "version": "3.9.16"
  }
 },
 "nbformat": 4,
 "nbformat_minor": 5
}
